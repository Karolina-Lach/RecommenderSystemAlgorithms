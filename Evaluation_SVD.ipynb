{
 "cells": [
  {
   "cell_type": "markdown",
   "metadata": {
    "id": "8nCqQOcJYHIz"
   },
   "source": [
    "# Imports"
   ]
  },
  {
   "cell_type": "code",
   "execution_count": 1,
   "metadata": {
    "executionInfo": {
     "elapsed": 271,
     "status": "ok",
     "timestamp": 1651517131916,
     "user": {
      "displayName": "Karolina Lach",
      "userId": "00111092321882151185"
     },
     "user_tz": -120
    },
    "id": "ct6skNXHXyKf"
   },
   "outputs": [],
   "source": [
    "import pandas as pd\n",
    "import pickle\n",
    "from collections import defaultdict\n",
    "\n",
    "from surprise import NormalPredictor\n",
    "from surprise import SVD\n",
    "from surprise import Dataset\n",
    "from surprise import Reader\n",
    "from surprise import accuracy\n",
    "from surprise import AlgoBase\n",
    "from surprise.model_selection import train_test_split as train_test_split_sup\n",
    " \n",
    "import metrics\n",
    "import sampling\n",
    "\n",
    "import numpy as np\n",
    "\n",
    "from sklearn.model_selection import train_test_split as train_test_split\n",
    "from surprise.model_selection import LeaveOneOut\n",
    "import random\n",
    "\n",
    "from metrics import recommender_map\n",
    "\n",
    "from sampling import create_train_test_dataframe\n",
    "from sampling import train_test_surprise_format\n",
    "from top_n_evaluation import create_anti_testset_for_user_all\n",
    "from top_n_evaluation import create_anti_testset_for_user\n",
    "from top_n_evaluation import create_recommendation_top_n_evaluation"
   ]
  },
  {
   "cell_type": "markdown",
   "metadata": {
    "id": "rvN86mRhZ9uQ"
   },
   "source": [
    "# Constants"
   ]
  },
  {
   "cell_type": "code",
   "execution_count": 35,
   "metadata": {
    "executionInfo": {
     "elapsed": 10,
     "status": "ok",
     "timestamp": 1651512876348,
     "user": {
      "displayName": "Karolina Lach",
      "userId": "00111092321882151185"
     },
     "user_tz": -120
    },
    "id": "ElRqBwD8ZSN0"
   },
   "outputs": [],
   "source": [
    "RECIPES_BASE = '../Data/base/recipes_base.parquet'\n",
    "RATINGS_BASE = '../Data/base/ratings_base.parquet'"
   ]
  },
  {
   "cell_type": "markdown",
   "metadata": {
    "id": "PbqPdkkkaWLg"
   },
   "source": [
    "# Load data"
   ]
  },
  {
   "cell_type": "code",
   "execution_count": 36,
   "metadata": {
    "executionInfo": {
     "elapsed": 3210,
     "status": "ok",
     "timestamp": 1651512879550,
     "user": {
      "displayName": "Karolina Lach",
      "userId": "00111092321882151185"
     },
     "user_tz": -120
    },
    "id": "wBlSaVHAaVvy"
   },
   "outputs": [],
   "source": [
    "ratings_base = pd.read_parquet(RATINGS_BASE)"
   ]
  },
  {
   "cell_type": "code",
   "execution_count": 37,
   "metadata": {
    "executionInfo": {
     "elapsed": 11335,
     "status": "ok",
     "timestamp": 1651512890865,
     "user": {
      "displayName": "Karolina Lach",
      "userId": "00111092321882151185"
     },
     "user_tz": -120
    },
    "id": "59q6aJ9MaUlK"
   },
   "outputs": [],
   "source": [
    "ratings_sample = sampling.get_ratings_with_min_number_list(ratings_base, [20, 10])"
   ]
  },
  {
   "cell_type": "code",
   "execution_count": 38,
   "metadata": {},
   "outputs": [],
   "source": [
    "recipes_base = pd.read_parquet(RECIPES_BASE)"
   ]
  },
  {
   "cell_type": "markdown",
   "metadata": {},
   "source": [
    "# Functions"
   ]
  },
  {
   "cell_type": "code",
   "execution_count": 6,
   "metadata": {
    "executionInfo": {
     "elapsed": 9,
     "status": "ok",
     "timestamp": 1651516375454,
     "user": {
      "displayName": "Karolina Lach",
      "userId": "00111092321882151185"
     },
     "user_tz": -120
    },
    "id": "bUmAdtgm1Drg"
   },
   "outputs": [],
   "source": [
    "def create_sample_n_ratings_per_user(df, n=10):\n",
    "    return df.groupby('AuthorId', as_index = False, group_keys=False).apply(lambda s: s.sample(min(len(s), 10), replace=False))"
   ]
  },
  {
   "cell_type": "code",
   "execution_count": 7,
   "metadata": {
    "executionInfo": {
     "elapsed": 4,
     "status": "ok",
     "timestamp": 1651516371596,
     "user": {
      "displayName": "Karolina Lach",
      "userId": "00111092321882151185"
     },
     "user_tz": -120
    },
    "id": "C9gutBlZ7tES"
   },
   "outputs": [],
   "source": [
    "def create_sample_n_popular_users(df, n=2500):\n",
    "    sample = df.groupby(['AuthorId'], as_index = False, group_keys=False).size()\n",
    "    sample = sample.sort_values(by=['size'], ascending=False)[:n]\n",
    "    return df[df.AuthorId.isin(sample.AuthorId.unique())]"
   ]
  },
  {
   "cell_type": "code",
   "execution_count": 10,
   "metadata": {
    "executionInfo": {
     "elapsed": 383,
     "status": "ok",
     "timestamp": 1651488472205,
     "user": {
      "displayName": "Karolina Lach",
      "userId": "00111092321882151185"
     },
     "user_tz": -120
    },
    "id": "jaMhDZ8wdB85"
   },
   "outputs": [],
   "source": [
    "user_item_ratings_dataset = Dataset.load_from_df(ratings_sample[[\"AuthorId\", \"RecipeId\", \"Rating\"]], Reader(rating_scale=(0, 5)))"
   ]
  },
  {
   "cell_type": "code",
   "execution_count": 11,
   "metadata": {
    "executionInfo": {
     "elapsed": 1830,
     "status": "ok",
     "timestamp": 1651488474033,
     "user": {
      "displayName": "Karolina Lach",
      "userId": "00111092321882151185"
     },
     "user_tz": -120
    },
    "id": "qR-IVsiNc-KF"
   },
   "outputs": [],
   "source": [
    "train_df, test_df = create_train_test_dataframe(ratings_sample, 0.2, 13)\n",
    "trainset, testset = train_test_surprise_format(train_df, test_df)"
   ]
  },
  {
   "cell_type": "markdown",
   "metadata": {
    "id": "mANk5Azte5oC"
   },
   "source": [
    "# Create recommendations"
   ]
  },
  {
   "cell_type": "code",
   "execution_count": 17,
   "metadata": {
    "colab": {
     "base_uri": "https://localhost:8080/"
    },
    "executionInfo": {
     "elapsed": 422,
     "status": "ok",
     "timestamp": 1651488474445,
     "user": {
      "displayName": "Karolina Lach",
      "userId": "00111092321882151185"
     },
     "user_tz": -120
    },
    "id": "FEVRqwiQdB-t",
    "outputId": "885068d6-f564-47e0-e94e-9000f280a767"
   },
   "outputs": [
    {
     "data": {
      "text/plain": [
       "<surprise.prediction_algorithms.matrix_factorization.SVD at 0x22c28df4550>"
      ]
     },
     "execution_count": 17,
     "metadata": {},
     "output_type": "execute_result"
    }
   ],
   "source": [
    "with open(\"../Data/SVD/author_min_10/SVD_best_model.obj\", 'rb') as pickle_file:\n",
    "     algo = pickle.load(pickle_file)"
   ]
  },
  {
   "cell_type": "code",
   "execution_count": 1,
   "metadata": {
    "executionInfo": {
     "elapsed": 2557574,
     "status": "ok",
     "timestamp": 1651491034057,
     "user": {
      "displayName": "Karolina Lach",
      "userId": "00111092321882151185"
     },
     "user_tz": -120
    },
    "id": "L98jMPNqU2LQ"
   },
   "outputs": [],
   "source": [
    "recommendations_svd, relevant_items_svd = create_recommendation_top_n_evaluation(train_df, \n",
    "                                           ratings_sample, \n",
    "                                           algorithm=algo, \n",
    "                                           word2vec_vectors=None,\n",
    "                                           sample_size=500, \n",
    "                                           user_sample_size=0,\n",
    "                                           k=100,\n",
    "                                           knn=False,\n",
    "                                           verbose=True)"
   ]
  },
  {
   "cell_type": "code",
   "execution_count": 22,
   "metadata": {},
   "outputs": [],
   "source": [
    "# with open(\"G:/Recipes/tests_samples/20_10/svd/samples/svd_recommendations_sample500.obj\", \"wb\") as pickle_file:\n",
    "#     pickle.dump(recommendations_svd, pickle_file)\n",
    "    \n",
    "# with open(\"G:/Recipes/tests_samples/20_10/svd/samples/svd_relevant_items_sample500.obj\", \"wb\") as pickle_file:\n",
    "#     pickle.dump(relevant_items_svd, pickle_file)\n",
    "    \n",
    "# with open(\"G:/Recipes/tests_samples/20_10/testset_20_10.obj\", \"wb\") as pickle_file:\n",
    "#     pickle.dump(testset, pickle_file)\n",
    "    \n",
    "# with open(\"G:/Recipes/tests_samples/20_10/trainset_20_10.obj\", \"wb\") as pickle_file:\n",
    "#     pickle.dump(trainset, pickle_file)"
   ]
  },
  {
   "cell_type": "markdown",
   "metadata": {
    "id": "RxI_JPDGURHx"
   },
   "source": [
    "# MAP"
   ]
  },
  {
   "cell_type": "code",
   "execution_count": 77,
   "metadata": {},
   "outputs": [],
   "source": [
    "map_svd_list = []\n",
    "k_list = [1] + list(range(5, 105, 2))\n",
    "for k in k_list:\n",
    "    map_k = metrics.recommender_map(recommendations=recommendations_svd, \n",
    "                                relevant_items=relevant_items_svd,\n",
    "                                k=k)\n",
    "    map_svd_list.append(map_k)"
   ]
  },
  {
   "cell_type": "code",
   "execution_count": 79,
   "metadata": {},
   "outputs": [],
   "source": [
    "with open(\"G:/Recipes/Wykresy_samples/1000/mar_svd.obj\", \"wb\") as pickle_file:\n",
    "    pickle.dump(map_svd_list, pickle_file)\n",
    "    \n",
    "# # with open(\"G:/Recipes/tests_samples/20_10/svd/k_1_100_list.obj\", \"wb\") as pickle_file:\n",
    "# #     pickle.dump(k_list, pickle_file)"
   ]
  },
  {
   "cell_type": "markdown",
   "metadata": {},
   "source": [
    "# Hit rate"
   ]
  },
  {
   "cell_type": "code",
   "execution_count": 18,
   "metadata": {},
   "outputs": [],
   "source": [
    "hr_svd_list = []\n",
    "k_list = [1] + list(range(5, 105, 2))\n",
    "for k in k_list:\n",
    "    hr_k = metrics.hit_rate(recommendations=recommendations_svd, \n",
    "                    relevant_items=relevant_items_svd,\n",
    "                    k=k)\n",
    "    hr_svd_list.append(hr_k)"
   ]
  },
  {
   "cell_type": "code",
   "execution_count": 19,
   "metadata": {},
   "outputs": [],
   "source": [
    "with open(\"G:/Recipes/Wykresy_samples/500/hr_svd.obj\", \"wb\") as pickle_file:\n",
    "    pickle.dump(hr_svd_list, pickle_file)"
   ]
  },
  {
   "cell_type": "markdown",
   "metadata": {},
   "source": [
    "# Item coverage"
   ]
  },
  {
   "cell_type": "code",
   "execution_count": 21,
   "metadata": {},
   "outputs": [],
   "source": [
    "item_cov_k = []\n",
    "k_list = [1] + list(range(5, 105, 2))\n",
    "\n",
    "for k in k_list:\n",
    "    item_cov_temp = {}\n",
    "    for key in recommendations_svd.keys():\n",
    "        item_cov_temp[key] = recommendations_svd[key][:k]\n",
    "        \n",
    "    cov = metrics.item_coverage(item_cov_temp, ratings_sample.RecipeId.nunique(), min_rating=0)\n",
    "    item_cov_k.append(cov)"
   ]
  },
  {
   "cell_type": "code",
   "execution_count": 22,
   "metadata": {},
   "outputs": [],
   "source": [
    "with open(\"G:/Recipes/Wykresy_samples/500/item_cov_svd.obj\", \"wb\") as pickle_file:\n",
    "    pickle.dump(item_cov_k, pickle_file)"
   ]
  },
  {
   "cell_type": "markdown",
   "metadata": {},
   "source": [
    "# Novelty"
   ]
  },
  {
   "cell_type": "code",
   "execution_count": 24,
   "metadata": {
    "executionInfo": {
     "elapsed": 16,
     "status": "ok",
     "timestamp": 1651491041555,
     "user": {
      "displayName": "Karolina Lach",
      "userId": "00111092321882151185"
     },
     "user_tz": -120
    },
    "id": "CAwUXv6yXRSF"
   },
   "outputs": [],
   "source": [
    "number_of_ratings_per_recipe = ratings_sample.groupby([\"RecipeId\"]).size()\n",
    "popularity_ranking = metrics.get_popularity_ranks(number_of_ratings_per_recipe)"
   ]
  },
  {
   "cell_type": "code",
   "execution_count": 6,
   "metadata": {
    "colab": {
     "base_uri": "https://localhost:8080/"
    },
    "executionInfo": {
     "elapsed": 364,
     "status": "ok",
     "timestamp": 1651491041904,
     "user": {
      "displayName": "Karolina Lach",
      "userId": "00111092321882151185"
     },
     "user_tz": -120
    },
    "id": "JDKDZRIkXRSG",
    "outputId": "3621763f-717f-4aa9-fbd5-b1396d465e47"
   },
   "outputs": [],
   "source": [
    "novelty_k = []\n",
    "k_list = [1] + list(range(5, 105, 2))\n",
    "\n",
    "for k in k_list:\n",
    "    novelty_temp = {}\n",
    "    for key in recommendations_svd.keys():\n",
    "        novelty_temp[key] = recommendations_svd[key][:k]\n",
    "        \n",
    "    nov = metrics.novelty(novelty_temp, ratings_per_recipe)\n",
    "    novelty_k.append(nov)"
   ]
  },
  {
   "cell_type": "code",
   "execution_count": 7,
   "metadata": {},
   "outputs": [],
   "source": [
    "with open(\"G:/Recipes/Wykresy_samples/500/novelty_svd_new.obj\", \"wb\") as pickle_file:\n",
    "    pickle.dump(novelty_k, pickle_file)"
   ]
  },
  {
   "cell_type": "markdown",
   "metadata": {},
   "source": [
    "# Diversity"
   ]
  },
  {
   "cell_type": "code",
   "execution_count": 28,
   "metadata": {},
   "outputs": [],
   "source": [
    "# with open('G:/Recipes/Matrix/ING_CAT_50_SEPERATE/matrix.obj', 'rb') as pickle_file:\n",
    "#     matrix_names = pickle.load(pickle_file)\n",
    "    \n",
    "# with open('G:/Recipes/Matrix/ING_CAT_50_SEPERATE/recipe_id_to_pos.obj', 'rb') as pickle_file:\n",
    "#     recipe_id_to_pos = pickle.load(pickle_file)\n",
    "\n",
    "# with open('G:/Recipes/Matrix/ING_CAT_50_SEPERATE/pos_to_recipe_id.obj', 'rb') as pickle_file:\n",
    "#     pos_to_recipe_id = pickle.load(pickle_file)\n",
    "    "
   ]
  },
  {
   "cell_type": "code",
   "execution_count": 2,
   "metadata": {},
   "outputs": [],
   "source": [
    "import itertools\n",
    "from sentence_transformers import util\n",
    "\n",
    "div_ing_k = []\n",
    "k_list = [1] + list(range(5, 105, 2))\n",
    "\n",
    "for k in k_list:\n",
    "    if k % 3==0:\n",
    "        print(k)\n",
    "    div_temp = {}\n",
    "    for key in recommendations_svd.keys():\n",
    "        div_temp[key] = recommendations_svd[key][:k]\n",
    "        \n",
    "    div = metrics.diversity(div_temp, matrix_names, recipe_id_to_pos)\n",
    "    div_ing_k.append(div)"
   ]
  },
  {
   "cell_type": "code",
   "execution_count": 30,
   "metadata": {},
   "outputs": [],
   "source": [
    "with open(\"G:/Recipes/Wykresy_samples/500/diversity_svd.obj\", \"wb\") as pickle_file:\n",
    "    pickle.dump(div_ing_k, pickle_file)"
   ]
  },
  {
   "cell_type": "markdown",
   "metadata": {
    "executionInfo": {
     "elapsed": 13,
     "status": "ok",
     "timestamp": 1651491041909,
     "user": {
      "displayName": "Karolina Lach",
      "userId": "00111092321882151185"
     },
     "user_tz": -120
    },
    "id": "p_EOvyuLTNYL"
   },
   "source": [
    "# Most popular"
   ]
  },
  {
   "cell_type": "code",
   "execution_count": 80,
   "metadata": {},
   "outputs": [],
   "source": [
    "n_popular_users = sampling.create_sample_n_popular_users(ratings_sample, n=2500)"
   ]
  },
  {
   "cell_type": "code",
   "execution_count": 81,
   "metadata": {},
   "outputs": [],
   "source": [
    "least_popular_users = ratings_sample[~ratings_sample.AuthorId.isin(n_popular_users.AuthorId.unique())]"
   ]
  },
  {
   "cell_type": "code",
   "execution_count": 82,
   "metadata": {},
   "outputs": [],
   "source": [
    "recommendations_n_popular = {}\n",
    "for key, value in recommendations_svd.items():\n",
    "    if key in n_popular_users.AuthorId.unique():\n",
    "        recommendations_n_popular[key] = value"
   ]
  },
  {
   "cell_type": "code",
   "execution_count": 83,
   "metadata": {},
   "outputs": [],
   "source": [
    "recommendations_least_popular = {}\n",
    "for key, value in recommendations_svd.items():\n",
    "    if key in least_popular_users.AuthorId.unique():\n",
    "        recommendations_least_popular[key] = value"
   ]
  },
  {
   "cell_type": "code",
   "execution_count": 84,
   "metadata": {},
   "outputs": [],
   "source": [
    "relevant_items_most_popular = defaultdict(list)\n",
    "for uid in n_popular_users.AuthorId.unique():\n",
    "    relevant_items_most_popular[uid] = metrics.get_relevant_items_for_user(uid, test_df, min_rating=0)"
   ]
  },
  {
   "cell_type": "code",
   "execution_count": 85,
   "metadata": {},
   "outputs": [],
   "source": [
    "relevant_items_least_popular = defaultdict(list)\n",
    "for uid in least_popular_users.AuthorId.unique():\n",
    "    relevant_items_least_popular[uid] = metrics.get_relevant_items_for_user(uid, test_df, min_rating=0)"
   ]
  },
  {
   "cell_type": "markdown",
   "metadata": {},
   "source": [
    "## MAP"
   ]
  },
  {
   "cell_type": "code",
   "execution_count": 86,
   "metadata": {},
   "outputs": [],
   "source": [
    "map_most_popular_list = []\n",
    "k_list = [1] + list(range(5, 105, 2))\n",
    "for k in k_list:\n",
    "    map_k = recommender_map(recommendations=recommendations_n_popular, \n",
    "                                relevant_items=relevant_items_most_popular,\n",
    "                                k=k)\n",
    "    map_most_popular_list.append(map_k)"
   ]
  },
  {
   "cell_type": "code",
   "execution_count": 87,
   "metadata": {},
   "outputs": [],
   "source": [
    "map_least_popular_list = []\n",
    "k_list = [1] + list(range(5, 105, 2))\n",
    "for k in k_list:\n",
    "    map_k = recommender_map(recommendations=recommendations_least_popular, \n",
    "                                relevant_items=relevant_items_least_popular,\n",
    "                                k=k)\n",
    "    map_least_popular_list.append(map_k)"
   ]
  },
  {
   "cell_type": "code",
   "execution_count": 88,
   "metadata": {},
   "outputs": [],
   "source": [
    "with open(\"G:/Recipes/Wykresy_samples/1000/mar_most_popular_svd.obj\", \"wb\") as pickle_file:\n",
    "    pickle.dump(map_most_popular_list, pickle_file)\n",
    "    \n",
    "with open(\"G:/Recipes/Wykresy_samples/1000/mar_least_popular_svd.obj\", \"wb\") as pickle_file:\n",
    "    pickle.dump(map_least_popular_list, pickle_file)"
   ]
  },
  {
   "cell_type": "markdown",
   "metadata": {},
   "source": [
    "## HR"
   ]
  },
  {
   "cell_type": "code",
   "execution_count": 45,
   "metadata": {},
   "outputs": [],
   "source": [
    "hr_most_popular_list = []\n",
    "k_list = [1] + list(range(5, 105, 2))\n",
    "for k in k_list:\n",
    "    hr_k = hit_rate(recommendations=recommendations_n_popular,\n",
    "                                relevant_items=relevant_items_most_popular,\n",
    "                                k=k)\n",
    "    hr_most_popular_list.append(hr_k)"
   ]
  },
  {
   "cell_type": "code",
   "execution_count": 46,
   "metadata": {},
   "outputs": [],
   "source": [
    "hr_least_popular_list = []\n",
    "k_list = [1] + list(range(5, 105, 2))\n",
    "for k in k_list:\n",
    "    hr_k = hit_rate(recommendations=recommendations_least_popular,\n",
    "                                relevant_items=relevant_items_least_popular,\n",
    "                                k=k)\n",
    "    hr_least_popular_list.append(hr_k)"
   ]
  },
  {
   "cell_type": "code",
   "execution_count": 47,
   "metadata": {},
   "outputs": [],
   "source": [
    "with open(\"G:/Recipes/Wykresy_samples/500/hr_most_popular_svd.obj\", \"wb\") as pickle_file:\n",
    "    pickle.dump(hr_most_popular_list, pickle_file)\n",
    "    \n",
    "with open(\"G:/Recipes/Wykresy_samples/500/hr_least_popular_svd.obj\", \"wb\") as pickle_file:\n",
    "    pickle.dump(map_least_popular_list, pickle_file)"
   ]
  },
  {
   "cell_type": "code",
   "execution_count": null,
   "metadata": {},
   "outputs": [],
   "source": []
  },
  {
   "cell_type": "code",
   "execution_count": null,
   "metadata": {},
   "outputs": [],
   "source": []
  }
 ],
 "metadata": {
  "colab": {
   "authorship_tag": "ABX9TyP/YxoIvwWGTdBR3zs/7EUz",
   "collapsed_sections": [],
   "name": "Evaluation normal recommender.ipynb",
   "provenance": []
  },
  "kernelspec": {
   "display_name": "Python 3 (ipykernel)",
   "language": "python",
   "name": "python3"
  },
  "language_info": {
   "codemirror_mode": {
    "name": "ipython",
    "version": 3
   },
   "file_extension": ".py",
   "mimetype": "text/x-python",
   "name": "python",
   "nbconvert_exporter": "python",
   "pygments_lexer": "ipython3",
   "version": "3.9.7"
  }
 },
 "nbformat": 4,
 "nbformat_minor": 1
}
