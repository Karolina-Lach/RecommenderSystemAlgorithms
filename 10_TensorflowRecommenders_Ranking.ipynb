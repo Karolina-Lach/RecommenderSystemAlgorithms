{
 "cells": [
  {
   "cell_type": "markdown",
   "id": "6dabc18b",
   "metadata": {},
   "source": [
    "# Imports"
   ]
  },
  {
   "cell_type": "code",
   "execution_count": 85,
   "id": "cd746d4a",
   "metadata": {},
   "outputs": [],
   "source": [
    "import os\n",
    "import pprint\n",
    "import tempfile\n",
    "from typing import Dict, Text\n",
    "\n",
    "import numpy as np\n",
    "import tensorflow as tf\n",
    "import tensorflow_datasets as tfds\n",
    "\n",
    "import pandas as pd\n",
    "import sampling\n",
    "\n",
    "import tensorflow_recommenders as tfrs\n",
    "\n",
    "import pickle\n",
    "\n",
    "import matplotlib.pyplot as plt"
   ]
  },
  {
   "cell_type": "markdown",
   "id": "a0e2a70f",
   "metadata": {},
   "source": [
    "# Constants"
   ]
  },
  {
   "cell_type": "markdown",
   "id": "93fc428d",
   "metadata": {},
   "source": [
    "## Load:"
   ]
  },
  {
   "cell_type": "code",
   "execution_count": 86,
   "id": "a4ed452a",
   "metadata": {},
   "outputs": [],
   "source": [
    "RATINGS_BASE = \"../Data/base/ratings_base.parquet\"\n",
    "RECIPES_BASE = \"../Data/base/recipes_base.parquet\""
   ]
  },
  {
   "cell_type": "markdown",
   "id": "73b14ce2",
   "metadata": {},
   "source": [
    "## Save:"
   ]
  },
  {
   "cell_type": "code",
   "execution_count": 4,
   "id": "63252d56",
   "metadata": {},
   "outputs": [],
   "source": [
    "MODEL1_CHECKPOINT = '../Data/TFRS/basic/20_20/ranking/model1/500epochs/model1_ranking_500_epochs_checkpoint'\n",
    "MODEL1_HISTORY = '../Data/TFRS/basic/20_20/ranking/model1/500epochs/model1_ranking_500_epochs_history.obj'\n",
    "\n",
    "TOP100_500EPOCHS = '../Data/TFRS/basic/20_20/ranking/model_1/500epochs/top100v500epochs.png'"
   ]
  },
  {
   "cell_type": "markdown",
   "id": "076f0945",
   "metadata": {},
   "source": [
    "# Load data"
   ]
  },
  {
   "cell_type": "code",
   "execution_count": 87,
   "id": "7bc28403",
   "metadata": {},
   "outputs": [],
   "source": [
    "recipes_data = pd.read_parquet(RECIPES_BASE)\n",
    "ratings_data = pd.read_parquet(RATINGS_BASE)"
   ]
  },
  {
   "cell_type": "markdown",
   "id": "b9543720",
   "metadata": {},
   "source": [
    "## Prepare sample"
   ]
  },
  {
   "cell_type": "code",
   "execution_count": 88,
   "id": "a8464036",
   "metadata": {},
   "outputs": [],
   "source": [
    "ratings_sample = sampling.get_ratings_with_min_number_list(ratings_data, [20,20])"
   ]
  },
  {
   "cell_type": "markdown",
   "id": "b38ee8a2",
   "metadata": {},
   "source": [
    "## Recipes"
   ]
  },
  {
   "cell_type": "code",
   "execution_count": 90,
   "id": "987b71c6",
   "metadata": {},
   "outputs": [],
   "source": [
    "recipes_sample = recipes[recipes.RecipeId.isin(list(ratings_sample.RecipeId))].copy()"
   ]
  },
  {
   "cell_type": "markdown",
   "id": "c9aad162",
   "metadata": {},
   "source": [
    "# Prepare dataset"
   ]
  },
  {
   "cell_type": "markdown",
   "id": "da174012",
   "metadata": {},
   "source": [
    "## Ratings\n",
    "\n",
    "(AuthorId - RecipeId - Rating)"
   ]
  },
  {
   "cell_type": "code",
   "execution_count": 91,
   "id": "0635b607",
   "metadata": {},
   "outputs": [],
   "source": [
    "ratings_sample.AuthorId = ratings_sample.AuthorId.map(lambda x: bytes(str(x), 'utf-8'))\n",
    "ratings_sample.RecipeId = ratings_sample.RecipeId.map(lambda x: bytes(str(x), 'utf-8'))\n",
    "\n",
    "ratings_dict = ratings_sample.groupby(['AuthorId', 'RecipeId'])['Rating'].sum().reset_index()\n",
    "\n",
    "ratings_dict = {name: np.array(value) for name, value in ratings_dict.items()}\n",
    "ratings = tf.data.Dataset.from_tensor_slices(ratings_dict)\n",
    "\n",
    "\n",
    "ratings = ratings.map(lambda x: {'AuthorId' : x['AuthorId'], \n",
    "                                 'RecipeId' : x['RecipeId'],\n",
    "                                 'Rating' : x['Rating']})"
   ]
  },
  {
   "cell_type": "code",
   "execution_count": 92,
   "id": "15429436",
   "metadata": {},
   "outputs": [
    {
     "name": "stdout",
     "output_type": "stream",
     "text": [
      "{'AuthorId': b'100026', 'Rating': 5, 'RecipeId': b'120914'}\n"
     ]
    }
   ],
   "source": [
    "for x in ratings.take(1).as_numpy_iterator():\n",
    "    pprint.pprint(x)"
   ]
  },
  {
   "cell_type": "markdown",
   "id": "24659e56",
   "metadata": {},
   "source": [
    "## Recipes\n",
    "\n",
    "For basic version - just ids"
   ]
  },
  {
   "cell_type": "code",
   "execution_count": 93,
   "id": "5bc0105a",
   "metadata": {},
   "outputs": [],
   "source": [
    "recipes_sample.RecipeId = recipes_sample.RecipeId.map(lambda x: bytes(str(x), 'utf-8'))\n",
    "recipes_dict = recipes_sample[['RecipeId']]\n",
    "recipes_dict = {name: np.array(value) for name, value in recipes_dict.items()}\n",
    "recipes = tf.data.Dataset.from_tensor_slices(recipes_dict)"
   ]
  },
  {
   "cell_type": "code",
   "execution_count": 94,
   "id": "861d8dd6",
   "metadata": {},
   "outputs": [],
   "source": [
    "recipes = recipes.map(lambda x: x['RecipeId'])"
   ]
  },
  {
   "cell_type": "code",
   "execution_count": 95,
   "id": "a1d686ad",
   "metadata": {},
   "outputs": [
    {
     "name": "stdout",
     "output_type": "stream",
     "text": [
      "b'44'\n"
     ]
    }
   ],
   "source": [
    "for x in recipes.take(1).as_numpy_iterator():\n",
    "    pprint.pprint(x)"
   ]
  },
  {
   "cell_type": "markdown",
   "id": "ba932734",
   "metadata": {},
   "source": [
    "## Create train, val, test datasets"
   ]
  },
  {
   "cell_type": "code",
   "execution_count": 96,
   "id": "12226d82",
   "metadata": {},
   "outputs": [
    {
     "name": "stdout",
     "output_type": "stream",
     "text": [
      "Train size: 217015\n",
      "Test size: 46504\n",
      "Val size: 46503\n"
     ]
    }
   ],
   "source": [
    "size = ratings_sample.shape[0]\n",
    "train_size = int(0.7 * size)\n",
    "val_size = int(0.15 * size)\n",
    "test_size = size - train_size - val_size\n",
    "\n",
    "tf.random.set_seed(42)\n",
    "shuffled = ratings.shuffle(size, seed=42, reshuffle_each_iteration=False)\n",
    "\n",
    "train = shuffled.take(train_size)\n",
    "val = shuffled.take(train_size).take(val_size)\n",
    "test = shuffled.take(train_size).take(val_size).take(test_size)\n",
    "\n",
    "print(f\"Train size: {train_size}\")\n",
    "print(f\"Test size: {test_size}\")\n",
    "print(f\"Val size: {val_size}\") "
   ]
  },
  {
   "cell_type": "code",
   "execution_count": 97,
   "id": "0c3cc3fe",
   "metadata": {},
   "outputs": [],
   "source": [
    "recipe_ids = ratings.batch(1_000_000).map(lambda x: x['RecipeId'])\n",
    "user_ids = ratings.batch(1_000_000).map(lambda x: x[\"AuthorId\"])\n",
    "\n",
    "unique_recipe_ids = np.unique(np.concatenate(list(recipe_ids)))\n",
    "unique_user_ids = np.unique(np.concatenate(list(user_ids)))"
   ]
  },
  {
   "cell_type": "markdown",
   "id": "83ae52de",
   "metadata": {},
   "source": [
    "# Model"
   ]
  },
  {
   "cell_type": "markdown",
   "id": "ed64476e",
   "metadata": {},
   "source": [
    "## Train"
   ]
  },
  {
   "cell_type": "code",
   "execution_count": 111,
   "id": "0af2fe48",
   "metadata": {},
   "outputs": [],
   "source": [
    "model_1 = RecipeRankingModel()\n",
    "model_1.compile(optimizer=tf.keras.optimizers.Adagrad(learning_rate=0.1))"
   ]
  },
  {
   "cell_type": "code",
   "execution_count": 112,
   "id": "40dde950",
   "metadata": {},
   "outputs": [],
   "source": [
    "cached_train = train.shuffle(250_000).batch(16384).cache()\n",
    "cached_test = test.batch(4096).cache()\n",
    "cached_val = val.batch(4096).cache()"
   ]
  },
  {
   "cell_type": "markdown",
   "id": "efe0eb29",
   "metadata": {},
   "source": [
    "## Fit"
   ]
  },
  {
   "cell_type": "code",
   "execution_count": 1,
   "id": "186aa934",
   "metadata": {},
   "outputs": [],
   "source": [
    "%%time\n",
    "model_1_history = model_1.fit(cached_train,\n",
    "                              epochs=500, \n",
    "                              verbose=0,\n",
    "                              validation_data=cached_val,\n",
    "                              validation_freq=5)"
   ]
  },
  {
   "cell_type": "markdown",
   "id": "fd8a9aaa",
   "metadata": {},
   "source": [
    "## Save"
   ]
  },
  {
   "cell_type": "code",
   "execution_count": 105,
   "id": "bcb9c690",
   "metadata": {},
   "outputs": [],
   "source": [
    "# model_1.save_weights(MODEL1_CHECKPOINT)\n",
    "# with open(MODEL1_HISTORY, 'wb') as pickle_file:\n",
    "#     pickle.dump(model_1_history.history, pickle_file)"
   ]
  },
  {
   "cell_type": "code",
   "execution_count": 106,
   "id": "607aa3c8",
   "metadata": {},
   "outputs": [
    {
     "data": {
      "text/plain": [
       "dict_keys(['root_mean_squared_error', 'loss', 'regularization_loss', 'total_loss', 'val_root_mean_squared_error', 'val_loss', 'val_regularization_loss', 'val_total_loss'])"
      ]
     },
     "execution_count": 106,
     "metadata": {},
     "output_type": "execute_result"
    }
   ],
   "source": [
    "model_1_history.history.keys()"
   ]
  },
  {
   "cell_type": "markdown",
   "id": "f204819a",
   "metadata": {},
   "source": [
    "## Plot"
   ]
  },
  {
   "cell_type": "code",
   "execution_count": 107,
   "id": "625d045c",
   "metadata": {},
   "outputs": [
    {
     "data": {
      "image/png": "[encoded data removed]",
      "text/plain": [
       "<Figure size 1332x756 with 1 Axes>"
      ]
     },
     "metadata": {
      "needs_background": "light"
     },
     "output_type": "display_data"
    }
   ],
   "source": [
    "history_val = model_1_history.history[\"val_root_mean_squared_error\"]\n",
    "history_train = model_1_history.history[\"root_mean_squared_error\"]\n",
    "\n",
    "num_validation_runs = len(history_val)\n",
    "epochs_val = [(x + 1)* 5 for x in range(num_validation_runs)]\n",
    "\n",
    "num_validation_runs = len(history_train)\n",
    "epochs_train = [(x + 1)* 1 for x in range(num_validation_runs)]\n",
    "\n",
    "fig = plt.gcf()\n",
    "fig.set_size_inches(18.5, 10.5)\n",
    "plt.rcParams['axes.titlepad'] = 20\n",
    "\n",
    "plt.plot(epochs_val, history_val, label='Dane walidacyjne')\n",
    "plt.plot(epochs_train, history_train, label='Dane uczące')\n",
    "\n",
    "plt.xlabel(\"Liczba epok\", fontsize=18, labelpad=20)\n",
    "plt.ylabel(\"Błąd średniokwadratowy\", fontsize=18, labelpad=20)\n",
    "# plt.scatter(x[0], y[0])\n",
    "# plt.scatter(x[4], y[4])\n",
    "# plt.scatter(x[-1], y[-1])\n",
    "\n",
    "# plt.text(x[0]+1, y[0], f\"({x[0]}, {round(y[0],2)})\", fontsize=16)\n",
    "# plt.text(x[4]+1, y[4]+0.01, f\"({x[4]}, {round(y[4],2)})\", fontsize=16)\n",
    "# plt.text(x[-1]-7, y[-1]+0.015, f\"({x[-1]}, {round(y[-1],2)})\", fontsize=16)\n",
    "\n",
    "plt.xticks(fontsize=14)\n",
    "plt.yticks(fontsize=14)\n",
    "plt.title(\"Wykres zależności błędu od liczby epok\", fontsize=18)\n",
    "plt.legend(fontsize=14)\n",
    "plt.show()\n",
    "\n",
    "# fig.savefig(TOP100_500EPOCHS, dpi=100)"
   ]
  },
  {
   "cell_type": "code",
   "execution_count": 108,
   "id": "506aaae9",
   "metadata": {},
   "outputs": [
    {
     "name": "stdout",
     "output_type": "stream",
     "text": [
      "12/12 [==============================] - 1s 62ms/step - root_mean_squared_error: 0.2516 - loss: 0.0632 - regularization_loss: 0.0000e+00 - total_loss: 0.0632\n"
     ]
    },
    {
     "data": {
      "text/plain": [
       "{'root_mean_squared_error': 0.2516079545021057,\n",
       " 'loss': 0.06214195489883423,\n",
       " 'regularization_loss': 0,\n",
       " 'total_loss': 0.06214195489883423}"
      ]
     },
     "execution_count": 108,
     "metadata": {},
     "output_type": "execute_result"
    }
   ],
   "source": [
    "model_1.evaluate(cached_test, return_dict=True)"
   ]
  },
  {
   "cell_type": "code",
   "execution_count": null,
   "id": "61efa84e",
   "metadata": {},
   "outputs": [],
   "source": []
  }
 ],
 "metadata": {
  "kernelspec": {
   "display_name": "Python 3 (ipykernel)",
   "language": "python",
   "name": "python3"
  },
  "language_info": {
   "codemirror_mode": {
    "name": "ipython",
    "version": 3
   },
   "file_extension": ".py",
   "mimetype": "text/x-python",
   "name": "python",
   "nbconvert_exporter": "python",
   "pygments_lexer": "ipython3",
   "version": "3.9.7"
  }
 },
 "nbformat": 4,
 "nbformat_minor": 5
}
