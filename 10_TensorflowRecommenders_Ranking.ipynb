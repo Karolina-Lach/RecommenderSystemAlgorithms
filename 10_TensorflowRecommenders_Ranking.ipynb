{
 "cells": [
  {
   "cell_type": "markdown",
   "id": "6dabc18b",
   "metadata": {},
   "source": [
    "# Imports"
   ]
  },
  {
   "cell_type": "code",
   "execution_count": 2,
   "id": "cd746d4a",
   "metadata": {},
   "outputs": [],
   "source": [
    "import os\n",
    "import pprint\n",
    "import tempfile\n",
    "from typing import Dict, Text\n",
    "\n",
    "import numpy as np\n",
    "import tensorflow as tf\n",
    "import tensorflow_datasets as tfds\n",
    "\n",
    "import pandas as pd\n",
    "import sampling\n",
    "\n",
    "import tensorflow_recommenders as tfrs\n",
    "\n",
    "import pickle"
   ]
  },
  {
   "cell_type": "markdown",
   "id": "a0e2a70f",
   "metadata": {},
   "source": [
    "# Constants"
   ]
  },
  {
   "cell_type": "code",
   "execution_count": 3,
   "id": "a4ed452a",
   "metadata": {},
   "outputs": [],
   "source": [
    "RATINGS_SMALL = \"../EDA_files/ratings_small.parquet\"\n",
    "RECIPES_SMALL = \"../EDA_files/recipes_small.parquet\"\n",
    "INDEX_TO_RECIPE_OBJ = \"../EDA_files/index_to_recipe.obj\"\n",
    "RECIPE_TO_INDEX_OBJ = \"../EDA_files/recipe_to_index.obj\"\n",
    "\n",
    "ING_CLEAN_NO_COMMON = '../cleaned_files/ingredients_clean_without_common_words.obj'\n",
    "KEYWORDS_CLEAN = '../cleaned_files/keywords_cleaned.obj'\n",
    "CATEGORIES_CLEAN = '../cleaned_files/categories_cleaned.obj'\n",
    "NAMES_CLEAN = '../cleaned_files/names_cleaned.obj'\n",
    "\n",
    "RECIPES_DATA = \"../dataset/recipes.parquet\""
   ]
  },
  {
   "cell_type": "markdown",
   "id": "076f0945",
   "metadata": {},
   "source": [
    "# Load data"
   ]
  },
  {
   "cell_type": "code",
   "execution_count": 4,
   "id": "7bc28403",
   "metadata": {},
   "outputs": [],
   "source": [
    "recipes_small = pd.read_parquet(RECIPES_SMALL)\n",
    "ratings_small = pd.read_parquet(RATINGS_SMALL)\n",
    "\n",
    "with open(RECIPE_TO_INDEX_OBJ, \"rb\") as input_file:\n",
    "    recipe_to_index = pickle.load(input_file)"
   ]
  },
  {
   "cell_type": "markdown",
   "id": "b9543720",
   "metadata": {},
   "source": [
    "## Ratings"
   ]
  },
  {
   "cell_type": "code",
   "execution_count": 5,
   "id": "a8464036",
   "metadata": {},
   "outputs": [],
   "source": [
    "author_min_20 = sampling.get_rating_with_min_number(ratings_small, 20, col_name='AuthorId')\n",
    "recipe_min_20 = sampling.get_rating_with_min_number(ratings_small, 20, col_name='RecipeId')\n",
    "\n",
    "ratings_min_20 = author_min_20.merge(recipe_min_20, how='inner')"
   ]
  },
  {
   "cell_type": "code",
   "execution_count": 6,
   "id": "93e55b47",
   "metadata": {},
   "outputs": [],
   "source": [
    "ratings_sample = ratings_min_20.copy()"
   ]
  },
  {
   "cell_type": "markdown",
   "id": "b38ee8a2",
   "metadata": {},
   "source": [
    "## Recipes"
   ]
  },
  {
   "cell_type": "code",
   "execution_count": 7,
   "id": "987b71c6",
   "metadata": {},
   "outputs": [],
   "source": [
    "recipes_sample = recipes_small[recipes_small.RecipeId.isin(list(ratings_min_20.RecipeId))].copy()"
   ]
  },
  {
   "cell_type": "markdown",
   "id": "c9aad162",
   "metadata": {},
   "source": [
    "# Prepare dataset"
   ]
  },
  {
   "cell_type": "markdown",
   "id": "da174012",
   "metadata": {},
   "source": [
    "## Ratings"
   ]
  },
  {
   "cell_type": "code",
   "execution_count": 8,
   "id": "0635b607",
   "metadata": {},
   "outputs": [],
   "source": [
    "ratings_sample.AuthorId = ratings_sample.AuthorId.map(lambda x: bytes(str(x), 'utf-8'))\n",
    "ratings_sample.RecipeId = ratings_sample.RecipeId.map(lambda x: bytes(str(x), 'utf-8'))\n",
    "\n",
    "ratings_dict = ratings_sample.groupby(['AuthorId', 'RecipeId'])['Rating'].sum().reset_index()\n",
    "\n",
    "ratings_dict = {name: np.array(value) for name, value in ratings_dict.items()}\n",
    "ratings = tf.data.Dataset.from_tensor_slices(ratings_dict)\n",
    "\n",
    "\n",
    "ratings = ratings.map(lambda x: {'AuthorId' : x['AuthorId'], \n",
    "                                 'RecipeId' : x['RecipeId'],\n",
    "                                'Rating' : x['Rating']})"
   ]
  },
  {
   "cell_type": "code",
   "execution_count": 9,
   "id": "15429436",
   "metadata": {},
   "outputs": [
    {
     "name": "stdout",
     "output_type": "stream",
     "text": [
      "{'AuthorId': b'100026', 'Rating': 5, 'RecipeId': b'120914'}\n",
      "{'AuthorId': b'100026', 'Rating': 5, 'RecipeId': b'143736'}\n",
      "{'AuthorId': b'100026', 'Rating': 4, 'RecipeId': b'161324'}\n",
      "{'AuthorId': b'100026', 'Rating': 5, 'RecipeId': b'161335'}\n",
      "{'AuthorId': b'100026', 'Rating': 4, 'RecipeId': b'161381'}\n",
      "{'AuthorId': b'100026', 'Rating': 5, 'RecipeId': b'172588'}\n",
      "{'AuthorId': b'100026', 'Rating': 5, 'RecipeId': b'195437'}\n",
      "{'AuthorId': b'100026', 'Rating': 5, 'RecipeId': b'33201'}\n",
      "{'AuthorId': b'100026', 'Rating': 5, 'RecipeId': b'39165'}\n",
      "{'AuthorId': b'100026', 'Rating': 5, 'RecipeId': b'8739'}\n"
     ]
    }
   ],
   "source": [
    "for x in ratings.take(10).as_numpy_iterator():\n",
    "    pprint.pprint(x)"
   ]
  },
  {
   "cell_type": "markdown",
   "id": "24659e56",
   "metadata": {},
   "source": [
    "## Recipes"
   ]
  },
  {
   "cell_type": "code",
   "execution_count": 10,
   "id": "5bc0105a",
   "metadata": {},
   "outputs": [],
   "source": [
    "recipes_sample.RecipeId = recipes_sample.RecipeId.map(lambda x: bytes(str(x), 'utf-8'))\n",
    "recipes_dict = recipes_sample[['RecipeId']]\n",
    "recipes_dict = {name: np.array(value) for name, value in recipes_dict.items()}\n",
    "recipes = tf.data.Dataset.from_tensor_slices(recipes_dict)"
   ]
  },
  {
   "cell_type": "code",
   "execution_count": 11,
   "id": "861d8dd6",
   "metadata": {},
   "outputs": [],
   "source": [
    "recipes = recipes.map(lambda x: x['RecipeId'])"
   ]
  },
  {
   "cell_type": "code",
   "execution_count": 12,
   "id": "a1d686ad",
   "metadata": {},
   "outputs": [
    {
     "name": "stdout",
     "output_type": "stream",
     "text": [
      "b'44'\n",
      "b'56'\n",
      "b'62'\n",
      "b'76'\n",
      "b'102'\n",
      "b'116'\n",
      "b'129'\n",
      "b'142'\n",
      "b'153'\n",
      "b'155'\n"
     ]
    }
   ],
   "source": [
    "for x in recipes.take(10).as_numpy_iterator():\n",
    "    pprint.pprint(x)"
   ]
  },
  {
   "cell_type": "markdown",
   "id": "ba932734",
   "metadata": {},
   "source": [
    "# Split"
   ]
  },
  {
   "cell_type": "code",
   "execution_count": 13,
   "id": "12226d82",
   "metadata": {},
   "outputs": [],
   "source": [
    "size = ratings_min_20.shape[0]\n",
    "train_size = int(0.8 * size)\n",
    "test_size = size - train_size\n",
    "\n",
    "tf.random.set_seed(42)\n",
    "shuffled = ratings.shuffle(size, seed=42, reshuffle_each_iteration=False)\n",
    "\n",
    "train = shuffled.take(train_size)\n",
    "test = shuffled.take(train_size).take(test_size)"
   ]
  },
  {
   "cell_type": "code",
   "execution_count": 14,
   "id": "0c3cc3fe",
   "metadata": {},
   "outputs": [],
   "source": [
    "recipe_ids = ratings.batch(1_000_000).map(lambda x: x['RecipeId'])\n",
    "user_ids = ratings.batch(1_000_000).map(lambda x: x[\"AuthorId\"])\n",
    "\n",
    "unique_recipe_ids = np.unique(np.concatenate(list(recipe_ids)))\n",
    "unique_user_ids = np.unique(np.concatenate(list(user_ids)))"
   ]
  },
  {
   "cell_type": "markdown",
   "id": "83ae52de",
   "metadata": {},
   "source": [
    "# Model"
   ]
  },
  {
   "cell_type": "code",
   "execution_count": 24,
   "id": "bf6e9d26",
   "metadata": {},
   "outputs": [],
   "source": [
    "class RankingModel(tf.keras.Model):\n",
    "    \n",
    "    def __init__(self):\n",
    "        super().__init__()\n",
    "        embedding_dimension = 32\n",
    "        \n",
    "        self.user_embeddings = tf.keras.Sequential([\n",
    "            tf.keras.layers.StringLookup(vocabulary=unique_user_ids, mask_token=None),\n",
    "            tf.keras.layers.Embedding(len(unique_user_ids)+1, embedding_dimension)\n",
    "        ])\n",
    "        \n",
    "        self.recipe_embeddings = tf.keras.Sequential([\n",
    "            tf.keras.layers.StringLookup(vocabulary=unique_recipe_ids, mask_token=None),\n",
    "            tf.keras.layers.Embedding(len(unique_recipe_ids)+1, embedding_dimension)\n",
    "        ])\n",
    "        \n",
    "        # Compute predictions\n",
    "        self.ratings = tf.keras.Sequential([\n",
    "            tf.keras.layers.Dense(256, activation=\"relu\"),\n",
    "            tf.keras.layers.Dense(64, activation=\"relu\"),\n",
    "            tf.keras.layers.Dense(1)\n",
    "        ])\n",
    "        \n",
    "    def call(self, inputs):\n",
    "        \n",
    "        user_id, recipe_id = inputs\n",
    "        \n",
    "        user_embedding = self.user_embeddings(user_id)\n",
    "        recipe_embedding = self.recipe_embeddings(recipe_id)\n",
    "        \n",
    "        return self.ratings(tf.concat([user_embedding, recipe_embedding], axis=1))"
   ]
  },
  {
   "cell_type": "code",
   "execution_count": 20,
   "id": "06284601",
   "metadata": {},
   "outputs": [
    {
     "data": {
      "text/html": [
       "<div>\n",
       "<style scoped>\n",
       "    .dataframe tbody tr th:only-of-type {\n",
       "        vertical-align: middle;\n",
       "    }\n",
       "\n",
       "    .dataframe tbody tr th {\n",
       "        vertical-align: top;\n",
       "    }\n",
       "\n",
       "    .dataframe thead th {\n",
       "        text-align: right;\n",
       "    }\n",
       "</style>\n",
       "<table border=\"1\" class=\"dataframe\">\n",
       "  <thead>\n",
       "    <tr style=\"text-align: right;\">\n",
       "      <th></th>\n",
       "      <th>RecipeId</th>\n",
       "      <th>AuthorId</th>\n",
       "      <th>Rating</th>\n",
       "      <th>Review</th>\n",
       "      <th>DateSubmitted</th>\n",
       "    </tr>\n",
       "  </thead>\n",
       "  <tbody>\n",
       "    <tr>\n",
       "      <th>0</th>\n",
       "      <td>b'4807'</td>\n",
       "      <td>b'2695'</td>\n",
       "      <td>2</td>\n",
       "      <td>I'm sorry, but I tried this method for my Chri...</td>\n",
       "      <td>2000-12-27 13:47:50+00:00</td>\n",
       "    </tr>\n",
       "  </tbody>\n",
       "</table>\n",
       "</div>"
      ],
      "text/plain": [
       "  RecipeId AuthorId  Rating  \\\n",
       "0  b'4807'  b'2695'       2   \n",
       "\n",
       "                                              Review             DateSubmitted  \n",
       "0  I'm sorry, but I tried this method for my Chri... 2000-12-27 13:47:50+00:00  "
      ]
     },
     "execution_count": 20,
     "metadata": {},
     "output_type": "execute_result"
    }
   ],
   "source": [
    "ratings_sample.head(1)"
   ]
  },
  {
   "cell_type": "code",
   "execution_count": 25,
   "id": "b3f1aaff",
   "metadata": {},
   "outputs": [
    {
     "name": "stdout",
     "output_type": "stream",
     "text": [
      "WARNING:tensorflow:Layers in a Sequential model should only have a single input tensor, but we receive a <class 'list'> input: [b'4807']\n",
      "Consider rewriting this model with the Functional API.\n",
      "WARNING:tensorflow:Layers in a Sequential model should only have a single input tensor, but we receive a <class 'list'> input: [b'44']\n",
      "Consider rewriting this model with the Functional API.\n"
     ]
    },
    {
     "data": {
      "text/plain": [
       "<tf.Tensor: shape=(1, 1), dtype=float32, numpy=array([[-0.02070185]], dtype=float32)>"
      ]
     },
     "execution_count": 25,
     "metadata": {},
     "output_type": "execute_result"
    }
   ],
   "source": [
    "RankingModel()(([b'4807'], [b'44']))"
   ]
  },
  {
   "cell_type": "code",
   "execution_count": 26,
   "id": "f80e6c11",
   "metadata": {},
   "outputs": [],
   "source": [
    "task = tfrs.tasks.Ranking(\n",
    "    loss =tf.keras.losses.MeanSquaredError(),\n",
    "    metrics = [tf.keras.metrics.RootMeanSquaredError()])"
   ]
  },
  {
   "cell_type": "code",
   "execution_count": 27,
   "id": "578aca1b",
   "metadata": {},
   "outputs": [],
   "source": [
    "class RecipeModel(tfrs.models.Model):\n",
    "    \n",
    "    def __init__(self):\n",
    "        super().__init__()\n",
    "        self.ranking_model: tf.keras.Model = RankingModel()\n",
    "        self.task: tf.keras.layers.Layer = tfrs.tasks.Ranking(\n",
    "            loss = tf.keras.losses.MeanSquaredError(),\n",
    "            metrics = [tf.keras.metrics.RootMeanSquaredError()])\n",
    "            \n",
    "        \n",
    "    def call(self, features: Dict[str, tf.Tensor]) -> tf.Tensor:\n",
    "        return self.ranking_model((features[\"AuthorId\"], features[\"RecipeId\"]))\n",
    "    \n",
    "    def compute_loss(self, features: Dict[Text, tf.Tensor], training=False) -> tf.Tensor: \n",
    "        labels = features.pop(\"Rating\")\n",
    "        rating_predictions = self(features)\n",
    "        \n",
    "        return self.task(labels=labels, predictions=rating_predictions)"
   ]
  },
  {
   "cell_type": "code",
   "execution_count": 29,
   "id": "0af2fe48",
   "metadata": {},
   "outputs": [],
   "source": [
    "model = RecipeModel()\n",
    "model.compile(optimizer=tf.keras.optimizers.Adagrad(learning_rate=0.1))"
   ]
  },
  {
   "cell_type": "code",
   "execution_count": 30,
   "id": "40dde950",
   "metadata": {},
   "outputs": [],
   "source": [
    "cached_train = train.shuffle(1_000_000).batch(8192).cache()\n",
    "cached_test = test.batch(4096).cache()"
   ]
  },
  {
   "cell_type": "code",
   "execution_count": 31,
   "id": "186aa934",
   "metadata": {},
   "outputs": [
    {
     "name": "stdout",
     "output_type": "stream",
     "text": [
      "Epoch 1/3\n",
      "31/31 [==============================] - 7s 124ms/step - root_mean_squared_error: 1.6864 - loss: 2.7374 - regularization_loss: 0.0000e+00 - total_loss: 2.7374\n",
      "Epoch 2/3\n",
      "31/31 [==============================] - 3s 89ms/step - root_mean_squared_error: 0.9142 - loss: 0.8363 - regularization_loss: 0.0000e+00 - total_loss: 0.8363\n",
      "Epoch 3/3\n",
      "31/31 [==============================] - 3s 91ms/step - root_mean_squared_error: 0.9119 - loss: 0.8320 - regularization_loss: 0.0000e+00 - total_loss: 0.8320\n"
     ]
    },
    {
     "data": {
      "text/plain": [
       "<keras.callbacks.History at 0x2894bcf6cd0>"
      ]
     },
     "execution_count": 31,
     "metadata": {},
     "output_type": "execute_result"
    }
   ],
   "source": [
    "model.fit(cached_train, epochs=3)"
   ]
  },
  {
   "cell_type": "code",
   "execution_count": 32,
   "id": "506aaae9",
   "metadata": {},
   "outputs": [
    {
     "name": "stdout",
     "output_type": "stream",
     "text": [
      "16/16 [==============================] - 2s 72ms/step - root_mean_squared_error: 0.8941 - loss: 0.7892 - regularization_loss: 0.0000e+00 - total_loss: 0.7892\n"
     ]
    },
    {
     "data": {
      "text/plain": [
       "{'root_mean_squared_error': 0.8940971493721008,\n",
       " 'loss': 0.7058691382408142,\n",
       " 'regularization_loss': 0,\n",
       " 'total_loss': 0.7058691382408142}"
      ]
     },
     "execution_count": 32,
     "metadata": {},
     "output_type": "execute_result"
    }
   ],
   "source": [
    "model.evaluate(cached_test, return_dict=True)"
   ]
  },
  {
   "cell_type": "code",
   "execution_count": null,
   "id": "9ba4ce45",
   "metadata": {},
   "outputs": [],
   "source": []
  }
 ],
 "metadata": {
  "kernelspec": {
   "display_name": "Python 3 (ipykernel)",
   "language": "python",
   "name": "python3"
  },
  "language_info": {
   "codemirror_mode": {
    "name": "ipython",
    "version": 3
   },
   "file_extension": ".py",
   "mimetype": "text/x-python",
   "name": "python",
   "nbconvert_exporter": "python",
   "pygments_lexer": "ipython3",
   "version": "3.9.7"
  }
 },
 "nbformat": 4,
 "nbformat_minor": 5
}
