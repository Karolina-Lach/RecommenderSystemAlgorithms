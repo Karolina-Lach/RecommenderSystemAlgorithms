{
 "cells": [
  {
   "cell_type": "markdown",
   "id": "d68a1446",
   "metadata": {},
   "source": [
    "# Imports"
   ]
  },
  {
   "cell_type": "code",
   "execution_count": 14,
   "id": "70e82b34",
   "metadata": {},
   "outputs": [],
   "source": [
    "import pandas as pd\n",
    "import numpy as np\n",
    "import pickle\n",
    "import pickle"
   ]
  },
  {
   "cell_type": "markdown",
   "id": "9bcd5631",
   "metadata": {},
   "source": [
    "# Constants "
   ]
  },
  {
   "cell_type": "code",
   "execution_count": 15,
   "id": "e8c61337",
   "metadata": {},
   "outputs": [],
   "source": [
    "RECIPES_SMALL = \"../EDA_files/recipes_small.parquet\"\n",
    "RATINGS_SMALL = \"../EDA_files/ratings_small.parquet\"\n",
    "INDEX_TO_RECIPE_OBJ = \"../EDA_files/index_to_recipe.obj\"\n",
    "RECIPE_TO_INDEX_OBJ = \"../EDA_files/recipe_to_index.obj\"\n",
    "REVIEWS_PER_RECIPE_WITH_0 = \"../EDA_files/reviews_per_recipe_with_0.obj\""
   ]
  },
  {
   "cell_type": "markdown",
   "id": "17ee63d5",
   "metadata": {},
   "source": [
    "# Load data"
   ]
  },
  {
   "cell_type": "code",
   "execution_count": 16,
   "id": "67d84414",
   "metadata": {},
   "outputs": [],
   "source": [
    "ratings_small = pd.read_parquet(RATINGS_SMALL)\n",
    "recipes_small = pd.read_parquet(RECIPES_SMALL)\n",
    "with open(INDEX_TO_RECIPE_OBJ, \"rb\") as f:\n",
    "    index_to_recipe = pickle.load(f) \n",
    "with open(RECIPE_TO_INDEX_OBJ, \"rb\") as f:\n",
    "    recipe_to_index = pickle.load(f) "
   ]
  },
  {
   "cell_type": "code",
   "execution_count": 17,
   "id": "f2a47c9b",
   "metadata": {},
   "outputs": [],
   "source": [
    "with open(REVIEWS_PER_RECIPE_WITH_0, \"rb\") as f:\n",
    "    reviews_per_recipe = pickle.load(f)\n",
    "    \n",
    "reviews_per_recipe = reviews_per_recipe['ReviewsPerRecipe'].to_dict()"
   ]
  },
  {
   "cell_type": "markdown",
   "id": "946c0b5f",
   "metadata": {},
   "source": [
    "# Random predictions"
   ]
  },
  {
   "cell_type": "code",
   "execution_count": 18,
   "id": "e000fbc7",
   "metadata": {},
   "outputs": [],
   "source": [
    "from surprise import NormalPredictor\n",
    "from surprise import Dataset\n",
    "from surprise import Reader\n",
    "from surprise.model_selection import train_test_split\n",
    "from metrics import predictions_to_tuple_list\n",
    "from collections import defaultdict\n",
    "\n",
    "\n",
    "dataset = Dataset.load_from_df(ratings_small[['AuthorId', 'RecipeId', 'Rating']][:100], Reader(rating_scale=(1, 5)))\n",
    "\n",
    "# Retrieve the trainset.\n",
    "trainset, testset = train_test_split(dataset, test_size=.25)\n",
    "\n",
    "# Build an algorithm, and train it.\n",
    "algo = NormalPredictor()\n",
    "algo.fit(trainset)\n",
    "predictions = algo.test(testset)"
   ]
  },
  {
   "cell_type": "code",
   "execution_count": 10,
   "id": "ef5d3a72",
   "metadata": {},
   "outputs": [],
   "source": [
    "def predictions_to_dataframe(predictions):\n",
    "    if (len(predictions) > 0):\n",
    "        if (type(predictions[0]) != tuple):\n",
    "             predictions_tuple = predictions_to_tuple_list(predictions)\n",
    "    pred_df = pd.DataFrame(predictions_tuple, columns=(\"AuthorId\", \"RecipeId\", \"Rating\", \"PredictedRating\", \"WasImpossible\"))\n",
    "    pred_df['WasImpossible'] = pred_df['WasImpossible'].apply(lambda x: x['was_impossible'])\n",
    "    return pred_df\n",
    "\n",
    "def predictions_to_tuple_list(predictions):\n",
    "    return [tuple(x) for x in predictions]"
   ]
  },
  {
   "cell_type": "code",
   "execution_count": 6,
   "id": "8a88bfd1",
   "metadata": {},
   "outputs": [],
   "source": [
    "def get_top_n(predictions, n=10, min_rating=3.5):\n",
    "    \"\"\"\n",
    "    Creates top n lists for each user. \n",
    "    Parameters:\n",
    "    predictions (list of tuples (uid, iid, real_rating, est_rating)) - predictions made by recommendation algorithm\n",
    "    n (int) - size of list\n",
    "    min_rating - minimal predicted rating for item to be used in top_n\n",
    "    \n",
    "    Result\n",
    "    top_n (dictionary) - top n list for each user\n",
    "    \"\"\"\n",
    "    top_n = dict(list)\n",
    "    for uid, iid, r_ui, est, _ in predictions:\n",
    "        if (est >= min_rating):\n",
    "            top_n[uid].append((iid, r_ui, est))\n",
    "    for uid, ratings in top_n.items():\n",
    "        ratings.sort(key=lambda x: x[2], reverse=True)\n",
    "        top_n[uid] = ratings[:n]\n",
    "    return top_n"
   ]
  },
  {
   "cell_type": "code",
   "execution_count": 8,
   "id": "d3072acc",
   "metadata": {},
   "outputs": [],
   "source": [
    "def get_relevant_items_for_user(uid, ratings_df, min_rating=3.5):\n",
    "    '''\n",
    "    Creates list of items user alreardy liked\n",
    "    Parameters:\n",
    "    uid - user id\n",
    "    ratings_df - dataframe with user-item rankings\n",
    "    min_rating - minimal rating to be included \n",
    "    \n",
    "    '''\n",
    "    return ratings_df[(ratings_df['AuthorId']==uid) & (ratings_df['Rating']>=min_rating)][\"RecipeId\"].tolist()"
   ]
  },
  {
   "cell_type": "code",
   "execution_count": 27,
   "id": "f370caca",
   "metadata": {},
   "outputs": [],
   "source": [
    "def get_relevant_items(predictions, ratings_df, min_ratings=3.5):\n",
    "    '''\n",
    "    Creates list of relevant items for each user\n",
    "    Parameterers:\n",
    "    predictions (list of tuples (uid, iid, real_rating, est_rating)) - predictions made by recommendation algorithm\n",
    "    ratings_df - dataframe with user-item rankings\n",
    "    min_rating - minimal rating to be included\n",
    "    \n",
    "    Result\n",
    "    Dictionary with list of relevant items for each user\n",
    "    '''\n",
    "    relevant_items = defaultdict(list)\n",
    "    unique_users = set([uid for uid, iid, r_ui, est, _ in predictions])\n",
    "    for uid in unique_users:\n",
    "        relevant_items[uid] = get_relevant_items_for_user(uid, ratings_df)\n",
    "    return relevant_items"
   ]
  },
  {
   "cell_type": "code",
   "execution_count": 13,
   "id": "91a73821",
   "metadata": {},
   "outputs": [],
   "source": [
    "def map_predictions_to_user(predictions):\n",
    "    '''\n",
    "    Creates list of predicted items for each user\n",
    "    '''\n",
    "    predictions_per_user = defaultdict(list)\n",
    "    for uid, iid, r_ui, est, _ in predictions:\n",
    "        predictions_per_user[uid].append((iid, r_ui, est))\n",
    "    return predictions_per_user"
   ]
  },
  {
   "cell_type": "code",
   "execution_count": 28,
   "id": "1014539a",
   "metadata": {},
   "outputs": [],
   "source": [
    "def precision_per_user(recommendations_per_user: list, relevant_items_per_user: list):\n",
    "    '''\n",
    "    Returns precision for one user\n",
    "    \n",
    "    Parameters\n",
    "    recommendations_per_user (list) - list of predictions for one user\n",
    "    relevant_items_per_user - list of items from user's history\n",
    "    \n",
    "    Result\n",
    "    precision - Precision for one user\n",
    "    '''\n",
    "    recommended_and_relevant_items = [item for item in recommendations_per_user if item in relevant_items_per_user]\n",
    "    precision = len(recommended_and_relevant_items) / len(recommendations_per_user) if len(recommendations_per_user) != 0 else 0\n",
    "    return precision"
   ]
  },
  {
   "cell_type": "code",
   "execution_count": 29,
   "id": "6c393689",
   "metadata": {},
   "outputs": [],
   "source": [
    "def recommender_precision_at_k(recommendations: dict, relevant_items: dict, k=10):\n",
    "    '''\n",
    "    Calculates precisions across all users\n",
    "    \n",
    "    Parameters:\n",
    "    recommendations (dict) - dictionary of recommendations for all users\n",
    "    relevant_items (dict) - dictionary of relevant items for all users\n",
    "    \n",
    "    Result:\n",
    "    precisions (dict) - precision for all users\n",
    "    '''\n",
    "    precisions = dict()\n",
    "    for uid in recommendations.keys():\n",
    "        if len(recommendations[uid]) > k:\n",
    "            recommended_items_for_user = recommendations[uid][:k]\n",
    "        else:\n",
    "            recommended_items_for_user = recommendations[uid]\n",
    "        \n",
    "        precisions[uid] = precision_per_user(recommended_items_for_user, relevant_items[uid])\n",
    "    return precisions"
   ]
  },
  {
   "cell_type": "code",
   "execution_count": 30,
   "id": "8768a958",
   "metadata": {},
   "outputs": [],
   "source": [
    "def recall_per_user(recommendations_per_user: list, relevant_items_per_user: list):\n",
    "    '''\n",
    "    Returns recall for one user\n",
    "    \n",
    "    Parameters\n",
    "    recommendations_per_user (list) - list of predictions for one user\n",
    "    relevant_items_per_user - list of items from user's history\n",
    "    \n",
    "    Result\n",
    "    recall - recall for one user\n",
    "    '''\n",
    "    recommended_and_relevant_items = [item for item in recommendations_per_user if item in relevant_items_per_user]\n",
    "    recall = len(recommended_and_relevant_items) / len(relevant_items_per_user) if len(relevant_items_per_user) != 0 else 0\n",
    "    return recall"
   ]
  },
  {
   "cell_type": "code",
   "execution_count": 31,
   "id": "edad9e0e",
   "metadata": {},
   "outputs": [],
   "source": [
    "def recommender_recall_at_k(recommendations: dict, relevant_items: dict):\n",
    "    '''\n",
    "    Calculates recalls across all users\n",
    "    \n",
    "    Parameters:\n",
    "    recommendations (dict) - dictionary of recommendations for all users\n",
    "    relevant_items (dict) - dictionary of relevant items for all users\n",
    "    \n",
    "    Result:\n",
    "    recalls (dict) - precision for all users\n",
    "    '''\n",
    "    recalls = dict()\n",
    "    for uid in recommendations.keys():\n",
    "        recalls[uid] = recall_per_user(recommendations[uid], relevant_items[uid])\n",
    "    return recalls"
   ]
  },
  {
   "cell_type": "code",
   "execution_count": 32,
   "id": "b444b9fe",
   "metadata": {},
   "outputs": [],
   "source": [
    "def average_precision_at_k(recommendations_per_user: list, relevant_items_per_user: list, k=10):\n",
    "    '''\n",
    "    Calculates avarage precision@k for one user\n",
    "    Parameters:\n",
    "    recommendations_per_user (list) - list of predictions for one user\n",
    "    relevant_items_per_user - list of items from user's history\n",
    "\n",
    "    Result\n",
    "    apk - average precision at k for user\n",
    "    '''\n",
    "    if len(relevant_items_per_user) == 0:\n",
    "        return 0.0\n",
    "    \n",
    "    if len(recommendations_per_user) > k:\n",
    "            recommendations_per_user = recommendations_per_user[:k]\n",
    "    hits = 0.0\n",
    "    precision_sum = 0.0\n",
    "    for i, item in enumerate(recommendations_per_user):\n",
    "        if item in relevant_items_per_user:\n",
    "            hits += 1.0\n",
    "            precision_sum += hits / (i + 1.0)\n",
    "    apk = precision_sum / min(len(recommendation_per_user), k)\n",
    "    return apk"
   ]
  },
  {
   "cell_type": "code",
   "execution_count": 33,
   "id": "3797d3fc",
   "metadata": {},
   "outputs": [],
   "source": [
    "def recommender_map(recommendations: dict, relevant_items: dict):\n",
    "    '''\n",
    "    Calculates mean average precision for recommender system at k\n",
    "    \n",
    "    Parameters:\n",
    "    recommendations (dict) - dictionary of recommendations for all users\n",
    "    relevant_items (dict) - dictionary of relevant items for all users\n",
    "    \n",
    "    Result:\n",
    "    MAP@k\n",
    "    '''\n",
    "    apks = []\n",
    "    for uid in recommendations.keys():\n",
    "        apks.append(average_precision_at_k(recommendations[uid], relvant_items[uid]))\n",
    "    return np.mean(apks)"
   ]
  },
  {
   "cell_type": "code",
   "execution_count": 34,
   "id": "ec56e8ba",
   "metadata": {},
   "outputs": [],
   "source": [
    "def hit_rate(recommendations: dict, left_out_predictions: list):\n",
    "    '''\n",
    "    Calculates hit rate for all users - number of users with at least one good prediction in top_n divided by number of all users \n",
    "    \n",
    "    Parameters:\n",
    "    recommendations - dictionary of predicted items for each user\n",
    "    left_out_predictions -   list of all ratings left in the test set\n",
    "    \n",
    "    Result:\n",
    "    hit rate\n",
    "    '''\n",
    "    hits = 0\n",
    "    total = 0\n",
    "    for (left_out_user, left_out_item, rating) in left_out_predictions:\n",
    "        hit = False\n",
    "        for item, _, est_rating in recommendations[uid]:\n",
    "            if (left_out_item == item):\n",
    "                hit = True\n",
    "                break\n",
    "        if(hit):\n",
    "            hits += 1\n",
    "    return hits / len(left_out_predictions)"
   ]
  },
  {
   "cell_type": "code",
   "execution_count": 21,
   "id": "897f6448",
   "metadata": {},
   "outputs": [],
   "source": [
    "def ARHR(recommendations: dict, left_out_predictions: list):\n",
    "    '''\n",
    "    Calculates average reciprocal hit rank - similar to hit rate, but takes into consideration rank in the recommended list\n",
    "    \n",
    "    Parameters:\n",
    "    recommendations - dictionary of predicted items for each user\n",
    "    left_out_predictions -   list of all ratings left in the test set\n",
    "    \n",
    "    Result:\n",
    "    arhr\n",
    "    '''\n",
    "    hits = 0\n",
    "    for (left_out_user, left_out_item, rating) in left_out_predictions:\n",
    "        rank = 0\n",
    "        hit_rank = 0\n",
    "        for item, _, _ in recommendations[uid]:\n",
    "            rank += 1\n",
    "            if (left_out_item == item):\n",
    "                hit_rank = rank\n",
    "                break\n",
    "        if(hit_rank > 0):\n",
    "            hits += 1.0 / hit_rank\n",
    "    return hits / len(left_out_predictions)"
   ]
  },
  {
   "cell_type": "code",
   "execution_count": 22,
   "id": "71424831",
   "metadata": {},
   "outputs": [],
   "source": [
    "def user_coverage(top_n: dict, number_of_users: int, min_rating=3.5):\n",
    "    '''\n",
    "    What percent of users have 1 good prediction\n",
    "    \n",
    "    Parameters\n",
    "    top_n - dictionary of predicted items for each user\n",
    "    number_of_users - number of all users in the system\n",
    "    min_rating - minimum rating for item to be considered\n",
    "    \n",
    "    '''\n",
    "    hits = 0\n",
    "    for uid in top_n.keys():\n",
    "        hit = False\n",
    "        for item, _, est  in top_n[uid]:\n",
    "            if (est > min_rating):\n",
    "                hit = True\n",
    "                break\n",
    "        if(hit):\n",
    "            hits += 1\n",
    "    return hits / number_of_users"
   ]
  },
  {
   "cell_type": "code",
   "execution_count": 23,
   "id": "2424529d",
   "metadata": {},
   "outputs": [],
   "source": [
    "def item_coverage(top_n: dict, number_of_items: int, min_rating=3.5):\n",
    "    '''\n",
    "    Calculates what percantage of items' catalog can be recommended by algorithm\n",
    "    \n",
    "    Parameters:\n",
    "    top_n - dictionary of predicted items for each user\n",
    "    number_of_users - number of all users in the system\n",
    "    min_rating - minimum rating for item to be considered\n",
    "    '''\n",
    "    items = []\n",
    "    for value in top_n.values():\n",
    "        for pairs in value:\n",
    "            items.append(pairs[0])\n",
    "    unique_items = set(items)\n",
    "    return len(unique_items) / number_of_items"
   ]
  },
  {
   "cell_type": "code",
   "execution_count": 25,
   "id": "b3a54fa4",
   "metadata": {},
   "outputs": [],
   "source": [
    "def novelty(top_n, ranking):\n",
    "    '''\n",
    "    Calculates average popularity of recommended items in top_n lists across all users\n",
    "    \n",
    "    Parameters:\n",
    "    top_n (dict) - dictionary of predicted items for each user\n",
    "    ranking (dict) - popularity rank for each item\n",
    "    '''\n",
    "    n = 0\n",
    "    total = 0\n",
    "    for uid in top_n.keys():\n",
    "        for rating in top_n[uid]:\n",
    "            item_id = rating[0]\n",
    "            rank = ranking[item_id]\n",
    "            total += rank\n",
    "            n += 1\n",
    "    return total / n"
   ]
  },
  {
   "cell_type": "code",
   "execution_count": 26,
   "id": "1c98617e",
   "metadata": {},
   "outputs": [],
   "source": [
    "def diversity(top_n, item_vectors):\n",
    "    '''\n",
    "    Calculates diversity of recommended items in top_n lists\n",
    "    \n",
    "    Parameters:\n",
    "    top_n (dict) - dictionary of predicted items for each user\n",
    "    item_vectors - \n",
    "    '''\n",
    "    n = 0\n",
    "    total = 0\n",
    "    for uid in top_n.keys():\n",
    "        pairs = itertools.combinations(top_n[uid], 2)\n",
    "        for pair in pairs:\n",
    "            item1 = pair[0][0]\n",
    "            item2 = pair[1][0]\n",
    "            # compute similarity between item1 & item2\n",
    "            # similarity = \n",
    "            # total += similarity\n",
    "            # n += 1\n",
    "    total_similarity = total / n\n",
    "    diversity = 1 - total_similarity\n",
    "    return diversity"
   ]
  },
  {
   "cell_type": "code",
   "execution_count": 6,
   "id": "bc404d44",
   "metadata": {},
   "outputs": [],
   "source": [
    "import math\n",
    "def DCG(top_n: dict, relevant_items: dict):\n",
    "    ''' \n",
    "    Calculates discounted cumulative gain\n",
    "    \n",
    "    Parameters:\n",
    "    top_n (dict) - dictionary of predicted items for each user\n",
    "    relevant_items (dict) - dictionary of relevant items for all users\n",
    "    '''\n",
    "    def relevance_function(is_relevant):\n",
    "        return 2**int(is_relevant) - 1\n",
    "    score = 0\n",
    "    for user, items in top_n.items():\n",
    "        rank = 0\n",
    "        for item in items:\n",
    "            is_relevant = is_item_relevant_for_user(item, user, relevant_items)\n",
    "            score += relevance_function(is_relevant) / math.log2(rank + 1)\n",
    "            rank += 1\n",
    "    return score / len(top_n.keys())"
   ]
  },
  {
   "cell_type": "code",
   "execution_count": 24,
   "id": "c12e1c66",
   "metadata": {},
   "outputs": [],
   "source": [
    "def get_popularity_ranks(reviews_per_recipe):\n",
    "    rankings = defaultdict(int)\n",
    "    rank = 1\n",
    "    for item_id, count in sorted(reviews_per_recipe.items(), key=lambda x: x[1], reverse=True):\n",
    "        rankings[item_id] = rank\n",
    "        rank += 1\n",
    "    return rankings"
   ]
  },
  {
   "cell_type": "code",
   "execution_count": 1,
   "id": "7d51195b",
   "metadata": {},
   "outputs": [],
   "source": [
    "def is_item_relevant_for_user(item, user, relevant_items: dict):\n",
    "    return item in relevant_items[uid]"
   ]
  },
  {
   "cell_type": "code",
   "execution_count": 14,
   "id": "20786493",
   "metadata": {},
   "outputs": [],
   "source": [
    "def precision_recall_at_k(predictions, relevant_items, top_n, k=10, min_rating=3.5):\n",
    "    '''\n",
    "    \n",
    "    '''\n",
    "    predictions_per_user = map_predictions_to_user(predictions)\n",
    "    precisions = dict()\n",
    "    recalls = dict()\n",
    "    for uid, user_ratings in predictions_per_user.items():\n",
    "        relevant_items_per_user = relevant_items[uid]\n",
    "        try:\n",
    "            recommended_items_per_user, _, _ = zip(*top_n[uid])\n",
    "        except:\n",
    "            recommended_items_per_user = []\n",
    "        recommended_and_relevant_items = list(set(relevant_items_per_user) & set(recommended_items_per_user))\n",
    "        \n",
    "        precisions[uid] = len(recommended_and_relevant_items) / len(recommended_items_per_user) if len(recommended_items_per_user) != 0 else 0\n",
    "        recalls[uid] = len(recommended_and_relevant_items) / len(relevant_items_per_user) if len(relevant_items_per_user) != 0 else 0\n",
    "    return precisions, recalls"
   ]
  },
  {
   "cell_type": "code",
   "execution_count": null,
   "id": "15c56d57",
   "metadata": {},
   "outputs": [],
   "source": []
  }
 ],
 "metadata": {
  "kernelspec": {
   "display_name": "Python 3 (ipykernel)",
   "language": "python",
   "name": "python3"
  },
  "language_info": {
   "codemirror_mode": {
    "name": "ipython",
    "version": 3
   },
   "file_extension": ".py",
   "mimetype": "text/x-python",
   "name": "python",
   "nbconvert_exporter": "python",
   "pygments_lexer": "ipython3",
   "version": "3.9.7"
  }
 },
 "nbformat": 4,
 "nbformat_minor": 5
}
