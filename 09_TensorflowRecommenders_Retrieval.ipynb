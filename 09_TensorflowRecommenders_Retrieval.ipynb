{
 "cells": [
  {
   "cell_type": "code",
   "execution_count": 1,
   "id": "10e15a8b",
   "metadata": {},
   "outputs": [],
   "source": [
    "# !pip install -q tensorflow-recommenders\n",
    "# !pip install -q --upgrade tensorflow-datasets\n",
    "# !pip install -q scann"
   ]
  },
  {
   "cell_type": "code",
   "execution_count": 2,
   "id": "5d2cf4d8",
   "metadata": {},
   "outputs": [],
   "source": [
    "import os\n",
    "import pprint\n",
    "import tempfile\n",
    "from typing import Dict, Text\n",
    "\n",
    "import numpy as np\n",
    "import tensorflow as tf\n",
    "import tensorflow_datasets as tfds\n",
    "import tensorflow_recommenders as tfrs\n",
    "\n",
    "import pandas as pd\n",
    "import sampling\n",
    "import pickle\n",
    "\n",
    "import TensorflowBasicModel as tfrs_basic"
   ]
  },
  {
   "cell_type": "markdown",
   "id": "268e89a1",
   "metadata": {},
   "source": [
    "# Constants "
   ]
  },
  {
   "cell_type": "markdown",
   "id": "cad0d881",
   "metadata": {},
   "source": [
    "## Load:"
   ]
  },
  {
   "cell_type": "code",
   "execution_count": 3,
   "id": "a1718cc1",
   "metadata": {},
   "outputs": [],
   "source": [
    "RATINGS_BASE = \"../Data/base/ratings_base.parquet\"\n",
    "RECIPES_BASE = \"../Data/base/recipes_base.parquet\""
   ]
  },
  {
   "cell_type": "markdown",
   "id": "c5a4bd43",
   "metadata": {},
   "source": [
    "## Save:"
   ]
  },
  {
   "cell_type": "code",
   "execution_count": 4,
   "id": "66d1dd5a",
   "metadata": {},
   "outputs": [],
   "source": [
    "MODEL1_CHECKPOINT_300 = '../Data/TFRS/basic/20_20/retrieval/model_1/300epochs/model1_retrieval_300_epochs_checkpoint'\n",
    "MODEL1_HISOTRY_300 = '../Data/TFRS/basic/20_20/retrieval/model_1/300epochs/model1_history.obj'\n",
    "\n",
    "MODEL1_CHECKPOINT_400 = '../Data/TFRS/basic/20_20/retrieval/model_1/400epochs/model1_retrieval_300_epochs_checkpoint'\n",
    "MODEL1_HISOTRY_400 = '../Data/TFRS/basic/20_20/retrieval/model_1/400epochs/model1_history.obj'\n",
    "\n",
    "TOP100_400EPOCHS_ACCURACY = '..Data//TFRS/basic/20_20/retrieval/model_1/400epochs/top100v400epochs.png'"
   ]
  },
  {
   "cell_type": "markdown",
   "id": "32c0c03d",
   "metadata": {},
   "source": [
    "# Load data "
   ]
  },
  {
   "cell_type": "code",
   "execution_count": 5,
   "id": "1c3d7c5a",
   "metadata": {},
   "outputs": [],
   "source": [
    "recipes_data = pd.read_parquet(RECIPES_BASE)\n",
    "ratings_data = pd.read_parquet(RATINGS_BASE)"
   ]
  },
  {
   "cell_type": "markdown",
   "id": "2466469c",
   "metadata": {},
   "source": [
    "## Prepare ratings sample"
   ]
  },
  {
   "cell_type": "code",
   "execution_count": 6,
   "id": "6cdede34",
   "metadata": {},
   "outputs": [],
   "source": [
    "ratings_sample = sampling.get_ratings_with_min_number_list(ratings_data, [20,10])"
   ]
  },
  {
   "cell_type": "markdown",
   "id": "6d09b30d",
   "metadata": {},
   "source": [
    "## Prepare recipes sample"
   ]
  },
  {
   "cell_type": "code",
   "execution_count": 7,
   "id": "6b440651",
   "metadata": {},
   "outputs": [],
   "source": [
    "recipes_sample = recipes_data[recipes_data.RecipeId.isin(list(ratings_sample.RecipeId))].copy()"
   ]
  },
  {
   "cell_type": "markdown",
   "id": "405beec1",
   "metadata": {},
   "source": [
    "# Prepare dataset"
   ]
  },
  {
   "cell_type": "markdown",
   "id": "45806056",
   "metadata": {},
   "source": [
    "## Ratings\n",
    "\n",
    "For ranking task - only AuthorId - RecipeId pairs are used"
   ]
  },
  {
   "cell_type": "code",
   "execution_count": 8,
   "id": "b6b3448b",
   "metadata": {},
   "outputs": [],
   "source": [
    "ratings_sample.AuthorId = ratings_sample.AuthorId.map(lambda x: bytes(str(x), 'utf-8'))\n",
    "ratings_sample.RecipeId = ratings_sample.RecipeId.map(lambda x: bytes(str(x), 'utf-8'))"
   ]
  },
  {
   "cell_type": "code",
   "execution_count": 9,
   "id": "acbcb670",
   "metadata": {},
   "outputs": [],
   "source": [
    "ratings_dict = ratings_sample.groupby(['AuthorId', 'RecipeId'])['Rating'].sum().reset_index()"
   ]
  },
  {
   "cell_type": "code",
   "execution_count": 10,
   "id": "0360d047",
   "metadata": {},
   "outputs": [],
   "source": [
    "ratings_dict = {name: np.array(value) for name, value in ratings_dict.items()}\n",
    "ratings = tf.data.Dataset.from_tensor_slices(ratings_dict)\n"
   ]
  },
  {
   "cell_type": "code",
   "execution_count": 11,
   "id": "c2d404e6",
   "metadata": {},
   "outputs": [],
   "source": [
    "ratings = ratings.map(lambda x: {'AuthorId' : x['AuthorId'], \n",
    "                                 'RecipeId' : x['RecipeId'],})"
   ]
  },
  {
   "cell_type": "code",
   "execution_count": 12,
   "id": "79a7a888",
   "metadata": {},
   "outputs": [
    {
     "name": "stdout",
     "output_type": "stream",
     "text": [
      "{'AuthorId': b'100149', 'RecipeId': b'10733'}\n",
      "{'AuthorId': b'100149', 'RecipeId': b'116610'}\n",
      "{'AuthorId': b'100149', 'RecipeId': b'12521'}\n",
      "{'AuthorId': b'100149', 'RecipeId': b'125633'}\n",
      "{'AuthorId': b'100149', 'RecipeId': b'127740'}\n",
      "{'AuthorId': b'100149', 'RecipeId': b'16531'}\n",
      "{'AuthorId': b'100149', 'RecipeId': b'19513'}\n",
      "{'AuthorId': b'100149', 'RecipeId': b'21770'}\n",
      "{'AuthorId': b'100149', 'RecipeId': b'24618'}\n",
      "{'AuthorId': b'100149', 'RecipeId': b'25558'}\n"
     ]
    }
   ],
   "source": [
    "for x in ratings.take(10).as_numpy_iterator():\n",
    "    pprint.pprint(x)"
   ]
  },
  {
   "cell_type": "markdown",
   "id": "966aaca6",
   "metadata": {},
   "source": [
    "## Recipes"
   ]
  },
  {
   "cell_type": "code",
   "execution_count": 13,
   "id": "7933a8e7",
   "metadata": {},
   "outputs": [],
   "source": [
    "recipes_sample.RecipeId = recipes_sample.RecipeId.map(lambda x: bytes(str(x), 'utf-8'))\n",
    "recipes_dict = recipes_sample[['RecipeId']]\n",
    "recipes_dict = {name: np.array(value) for name, value in recipes_dict.items()}\n",
    "recipes = tf.data.Dataset.from_tensor_slices(recipes_dict)"
   ]
  },
  {
   "cell_type": "code",
   "execution_count": 14,
   "id": "2cb50963",
   "metadata": {},
   "outputs": [],
   "source": [
    "recipes = recipes.map(lambda x: x['RecipeId'])"
   ]
  },
  {
   "cell_type": "code",
   "execution_count": 15,
   "id": "b8dc12e9",
   "metadata": {},
   "outputs": [],
   "source": [
    "users = ratings.map(lambda x: x['AuthorId'])"
   ]
  },
  {
   "cell_type": "markdown",
   "id": "3465c661",
   "metadata": {},
   "source": [
    "## Create train, val, test datasets"
   ]
  },
  {
   "cell_type": "code",
   "execution_count": 16,
   "id": "dc922f4b",
   "metadata": {},
   "outputs": [],
   "source": [
    "size = ratings_sample.shape[0]\n",
    "train_size = int(0.7 * size)\n",
    "val_size = int(0.15 * size)\n",
    "test_size = size - train_size - val_size\n",
    "\n",
    "tf.random.set_seed(42)\n",
    "shuffled = ratings.shuffle(size, seed=42, reshuffle_each_iteration=False)\n",
    "\n",
    "train = shuffled.take(train_size)\n",
    "val = shuffled.take(train_size).take(val_size)\n",
    "test = shuffled.take(train_size).take(val_size).take(test_size)"
   ]
  },
  {
   "cell_type": "code",
   "execution_count": 17,
   "id": "aebb759c",
   "metadata": {},
   "outputs": [
    {
     "name": "stdout",
     "output_type": "stream",
     "text": [
      "Train size: 193591\n",
      "Test size: 41485\n",
      "Val size: 41483\n"
     ]
    }
   ],
   "source": [
    "print(f\"Train size: {train_size}\")\n",
    "print(f\"Test size: {test_size}\")\n",
    "print(f\"Val size: {val_size}\")      "
   ]
  },
  {
   "cell_type": "code",
   "execution_count": 18,
   "id": "e332e846",
   "metadata": {},
   "outputs": [],
   "source": [
    "recipe_ids = recipes.batch(1_000)\n",
    "user_ids = ratings.batch(1_000_000).map(lambda x: x[\"AuthorId\"])\n",
    "\n",
    "unique_recipe_ids = np.unique(np.concatenate(list(recipe_ids)))\n",
    "unique_user_ids = np.unique(np.concatenate(list(user_ids)))"
   ]
  },
  {
   "cell_type": "code",
   "execution_count": 19,
   "id": "46f420c1",
   "metadata": {},
   "outputs": [],
   "source": [
    "# unique_user_ids = [bytes(str(x), 'utf-8') for x in unique_user_ids]"
   ]
  },
  {
   "cell_type": "code",
   "execution_count": 20,
   "id": "4b9d51f9",
   "metadata": {},
   "outputs": [],
   "source": [
    "# unique_recipe_ids = [bytes(str(x), 'utf-8') for x in unique_recipe_ids]"
   ]
  },
  {
   "cell_type": "markdown",
   "id": "f430a609",
   "metadata": {},
   "source": [
    "# Train & test - 20/10"
   ]
  },
  {
   "cell_type": "code",
   "execution_count": 23,
   "id": "1468f00b",
   "metadata": {},
   "outputs": [],
   "source": [
    "model_1 = tfrs_basic.RecipeRetrievalModel(unique_recipe_ids=unique_recipe_ids, \n",
    "                                          unique_user_ids=unique_user_ids, \n",
    "                                          embedding_dimension=32,\n",
    "                                          recipes=recipes)\n",
    "model_1.compile(optimizer=tf.keras.optimizers.Adagrad(learning_rate=0.1))"
   ]
  },
  {
   "cell_type": "code",
   "execution_count": 24,
   "id": "c6d31156",
   "metadata": {},
   "outputs": [],
   "source": [
    "cached_train = train.shuffle(250_000).batch(8192).cache()\n",
    "cached_test = test.batch(4096).cache()\n",
    "cached_val = val.batch(4096).cache()"
   ]
  },
  {
   "cell_type": "markdown",
   "id": "a6976a97",
   "metadata": {},
   "source": [
    "## Fit 300 epochs"
   ]
  },
  {
   "cell_type": "code",
   "execution_count": 1,
   "id": "e07f06a6",
   "metadata": {
    "scrolled": true
   },
   "outputs": [],
   "source": [
    "%%time\n",
    "model_1_history = model_1.fit(cached_train,\n",
    "                              epochs=300, \n",
    "                              verbose=0,\n",
    "                              validation_data=cached_val,\n",
    "                              validation_freq=5)"
   ]
  },
  {
   "cell_type": "markdown",
   "id": "3900ac3d",
   "metadata": {},
   "source": [
    "### Save"
   ]
  },
  {
   "cell_type": "code",
   "execution_count": 40,
   "id": "92614cc7",
   "metadata": {},
   "outputs": [],
   "source": [
    "# model_1.save_weights(MODEL1_CHECKPOINT_300)\n",
    "# with open(MODEL1_HISOTRY_300, 'wb') as pickle_file:\n",
    "#     pickle.dump(model_1_history.history, pickle_file)"
   ]
  },
  {
   "cell_type": "markdown",
   "id": "692df255",
   "metadata": {},
   "source": [
    "### Plot"
   ]
  },
  {
   "cell_type": "code",
   "execution_count": 41,
   "id": "491b3b60",
   "metadata": {},
   "outputs": [
    {
     "data": {
      "image/png": "[encoded data removed]",
      "text/plain": [
       "<Figure size 432x288 with 1 Axes>"
      ]
     },
     "metadata": {
      "needs_background": "light"
     },
     "output_type": "display_data"
    }
   ],
   "source": [
    "import matplotlib.pyplot as plt\n",
    "\n",
    "num_validation_runs = len(model_1_history.history[\"val_factorized_top_k/top_100_categorical_accuracy\"])\n",
    "epochs = [(x + 1)* 5 for x in range(num_validation_runs)]\n",
    "\n",
    "plt.plot(epochs, model_1_history.history[\"val_factorized_top_k/top_100_categorical_accuracy\"])\n",
    "plt.title(\"Accuracy vs epoch\")\n",
    "plt.xlabel(\"epoch\")\n",
    "plt.ylabel(\"Top-100 accuracy\");\n",
    "# plt.legend()"
   ]
  },
  {
   "cell_type": "markdown",
   "id": "26deb853",
   "metadata": {},
   "source": [
    "### Test"
   ]
  },
  {
   "cell_type": "code",
   "execution_count": 45,
   "id": "e47df4ae",
   "metadata": {},
   "outputs": [
    {
     "name": "stdout",
     "output_type": "stream",
     "text": [
      "12/12 [==============================] - 33s 3s/step - factorized_top_k/top_1_categorical_accuracy: 0.0205 - factorized_top_k/top_5_categorical_accuracy: 0.1194 - factorized_top_k/top_10_categorical_accuracy: 0.1891 - factorized_top_k/top_50_categorical_accuracy: 0.3666 - factorized_top_k/top_100_categorical_accuracy: 0.4517 - loss: 21321.1762 - regularization_loss: 0.0000e+00 - total_loss: 21321.1762\n"
     ]
    }
   ],
   "source": [
    "evaluated_model_300epochs = model_1.evaluate(cached_test, return_dict=True)"
   ]
  },
  {
   "cell_type": "code",
   "execution_count": 50,
   "id": "08bd089e",
   "metadata": {},
   "outputs": [
    {
     "name": "stdout",
     "output_type": "stream",
     "text": [
      "Evaluated metrics:\n",
      "factorized_top_k/top_1_categorical_accuracy: 0.020514804869890213\n",
      "factorized_top_k/top_5_categorical_accuracy: 0.11939014494419098\n",
      "factorized_top_k/top_10_categorical_accuracy: 0.18908457458019257\n",
      "factorized_top_k/top_50_categorical_accuracy: 0.3666430115699768\n",
      "factorized_top_k/top_100_categorical_accuracy: 0.4516697824001312\n",
      "loss: 6967.71044921875\n",
      "regularization_loss: 0\n",
      "total_loss: 6967.71044921875\n"
     ]
    }
   ],
   "source": [
    "print(\"Evaluated metrics:\")\n",
    "for metric in evaluated_model_300epochs.items():\n",
    "    print(f\"{metric[0]}: {metric[1]}\")"
   ]
  },
  {
   "cell_type": "code",
   "execution_count": 53,
   "id": "f96ed8fb",
   "metadata": {},
   "outputs": [],
   "source": [
    "index = tfrs.layers.factorized_top_k.BruteForce(model_1.user_model)\n",
    "index.index_from_dataset(tf.data.Dataset.zip((recipes.batch(100), recipes.batch(100).map(model_1.recipe_model))))\n",
    "\n",
    "x, titles = index(tf.constant([b'2695']))"
   ]
  },
  {
   "cell_type": "code",
   "execution_count": 56,
   "id": "a9853942",
   "metadata": {},
   "outputs": [
    {
     "name": "stdout",
     "output_type": "stream",
     "text": [
      "Recommendations for user 42: [b'4807' b'57033' b'104604']\n"
     ]
    }
   ],
   "source": [
    "print(f\"Recommendations for user 42: {titles[0, :3]}\")"
   ]
  }
 ],
 "metadata": {
  "kernelspec": {
   "display_name": "Python 3 (ipykernel)",
   "language": "python",
   "name": "python3"
  },
  "language_info": {
   "codemirror_mode": {
    "name": "ipython",
    "version": 3
   },
   "file_extension": ".py",
   "mimetype": "text/x-python",
   "name": "python",
   "nbconvert_exporter": "python",
   "pygments_lexer": "ipython3",
   "version": "3.9.7"
  }
 },
 "nbformat": 4,
 "nbformat_minor": 5
}
