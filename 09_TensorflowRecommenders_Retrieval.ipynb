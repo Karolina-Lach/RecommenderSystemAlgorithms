{
 "cells": [
  {
   "cell_type": "code",
   "execution_count": 7,
   "id": "10e15a8b",
   "metadata": {},
   "outputs": [],
   "source": [
    "# !pip install -q tensorflow-recommenders\n",
    "# !pip install -q --upgrade tensorflow-datasets\n",
    "# !pip install -q scann"
   ]
  },
  {
   "cell_type": "code",
   "execution_count": 8,
   "id": "5d2cf4d8",
   "metadata": {},
   "outputs": [],
   "source": [
    "import os\n",
    "import pprint\n",
    "import tempfile\n",
    "from typing import Dict, Text\n",
    "\n",
    "import numpy as np\n",
    "import tensorflow as tf\n",
    "import tensorflow_datasets as tfds\n",
    "import tensorflow_recommenders as tfrs\n",
    "\n",
    "import pandas as pd\n",
    "import sampling\n",
    "import pickle\n"
   ]
  },
  {
   "cell_type": "markdown",
   "id": "268e89a1",
   "metadata": {},
   "source": [
    "# Constants "
   ]
  },
  {
   "cell_type": "code",
   "execution_count": 9,
   "id": "a1718cc1",
   "metadata": {},
   "outputs": [],
   "source": [
    "RATINGS_SMALL = \"../EDA_files/ratings_small.parquet\"\n",
    "RECIPES_SMALL = \"../EDA_files/recipes_small.parquet\"\n",
    "INDEX_TO_RECIPE_OBJ = \"../EDA_files/index_to_recipe.obj\"\n",
    "RECIPE_TO_INDEX_OBJ = \"../EDA_files/recipe_to_index.obj\"\n",
    "\n",
    "ING_CLEAN_NO_COMMON = '../cleaned_files/ingredients_clean_without_common_words.obj'\n",
    "KEYWORDS_CLEAN = '../cleaned_files/keywords_cleaned.obj'\n",
    "CATEGORIES_CLEAN = '../cleaned_files/categories_cleaned.obj'\n",
    "NAMES_CLEAN = '../cleaned_files/names_cleaned.obj'\n",
    "\n",
    "RECIPES_DATA = \"../dataset/recipes.parquet\""
   ]
  },
  {
   "cell_type": "markdown",
   "id": "32c0c03d",
   "metadata": {},
   "source": [
    "# Load data "
   ]
  },
  {
   "cell_type": "code",
   "execution_count": 10,
   "id": "1c3d7c5a",
   "metadata": {},
   "outputs": [],
   "source": [
    "recipes_small = pd.read_parquet(RECIPES_SMALL)\n",
    "ratings_small = pd.read_parquet(RATINGS_SMALL)"
   ]
  },
  {
   "cell_type": "code",
   "execution_count": 11,
   "id": "e08fdca9",
   "metadata": {},
   "outputs": [],
   "source": [
    "with open(RECIPE_TO_INDEX_OBJ, \"rb\") as input_file:\n",
    "    recipe_to_index = pickle.load(input_file)"
   ]
  },
  {
   "cell_type": "code",
   "execution_count": 12,
   "id": "59bcf49f",
   "metadata": {},
   "outputs": [],
   "source": [
    "# with open(ING_CLEAN_NO_COMMON, \"rb\") as input_file:\n",
    "#     ingredients_no_common_words = pickle.load(input_file)\n",
    "\n",
    "# with open(KEYWORDS_CLEAN, \"rb\") as input_file:\n",
    "#     keywords_clean = pickle.load(input_file)\n",
    "\n",
    "# with open(CATEGORIES_CLEAN, \"rb\") as input_file:\n",
    "#     categories_clean = pickle.load(input_file)\n",
    "    \n",
    "# with open(NAMES_CLEAN, \"rb\") as input_file:\n",
    "#     names_clean = pickle.load(input_file)"
   ]
  },
  {
   "cell_type": "markdown",
   "id": "2466469c",
   "metadata": {},
   "source": [
    "## Prepare ratings sample"
   ]
  },
  {
   "cell_type": "code",
   "execution_count": 13,
   "id": "3fd3a868",
   "metadata": {},
   "outputs": [],
   "source": [
    "author_min_20 = sampling.get_rating_with_min_number(ratings_small, 20, col_name='AuthorId')\n",
    "recipe_min_20 = sampling.get_rating_with_min_number(ratings_small, 20, col_name='RecipeId')\n",
    "\n",
    "ratings_min_20 = author_min_20.merge(recipe_min_20, how='inner')"
   ]
  },
  {
   "cell_type": "code",
   "execution_count": 14,
   "id": "6cdede34",
   "metadata": {},
   "outputs": [],
   "source": [
    "ratings_sample = ratings_min_20.copy()"
   ]
  },
  {
   "cell_type": "markdown",
   "id": "6d09b30d",
   "metadata": {},
   "source": [
    "## Prepare recipes sample"
   ]
  },
  {
   "cell_type": "code",
   "execution_count": 15,
   "id": "89b6c3a3",
   "metadata": {},
   "outputs": [],
   "source": [
    "# ingredients_no_common_words.Ingredients = ingredients_no_common_words.Ingredients.map(lambda x: ' '.join(x))"
   ]
  },
  {
   "cell_type": "code",
   "execution_count": 16,
   "id": "546705f8",
   "metadata": {},
   "outputs": [],
   "source": [
    "# keywords_clean.Keywords = keywords_clean.Keywords.map(lambda x: ' '.join(x)) "
   ]
  },
  {
   "cell_type": "code",
   "execution_count": 17,
   "id": "c5125535",
   "metadata": {},
   "outputs": [],
   "source": [
    "# recipes_clean = recipes_small.copy()\n",
    "# recipes_clean.drop(columns=['Ingredients', 'Keywords', 'RecipeCategory', 'Nutritions'], axis=1, inplace=True)\n",
    "# recipes_clean = recipes_clean.merge(ingredients_no_common_words, on='RecipeId')\n",
    "# recipes_clean = recipes_clean.merge(keywords_clean, on='RecipeId')\n",
    "# recipes_clean = recipes_clean.merge(categories_clean, on='RecipeId')\n",
    "\n",
    "# sample = recipes[['RecipeId', 'Calories', 'FatContent', 'SaturatedFatContent',\n",
    "#                                             'CholesterolContent', 'SodiumContent', 'CarbohydrateContent',\n",
    "#                                             'FiberContent', 'SugarContent', 'ProteinContent']]\n",
    "\n",
    "# recipes_clean = recipes_clean.merge(sample, on='RecipeId')"
   ]
  },
  {
   "cell_type": "code",
   "execution_count": 18,
   "id": "6b440651",
   "metadata": {},
   "outputs": [],
   "source": [
    "recipes_sample = recipes_small[recipes_small.RecipeId.isin(list(ratings_min_20.RecipeId))].copy()"
   ]
  },
  {
   "cell_type": "markdown",
   "id": "405beec1",
   "metadata": {},
   "source": [
    "# Prepare dataset"
   ]
  },
  {
   "cell_type": "markdown",
   "id": "45806056",
   "metadata": {},
   "source": [
    "## Ratings\n",
    "\n",
    "For ranking task - only AuthorId - RecipeId pairs are used"
   ]
  },
  {
   "cell_type": "code",
   "execution_count": 19,
   "id": "b6b3448b",
   "metadata": {},
   "outputs": [],
   "source": [
    "ratings_sample.AuthorId = ratings_sample.AuthorId.map(lambda x: bytes(str(x), 'utf-8'))\n",
    "ratings_sample.RecipeId = ratings_sample.RecipeId.map(lambda x: bytes(str(x), 'utf-8'))"
   ]
  },
  {
   "cell_type": "code",
   "execution_count": 20,
   "id": "acbcb670",
   "metadata": {},
   "outputs": [],
   "source": [
    "ratings_dict = ratings_sample.groupby(['AuthorId', 'RecipeId'])['Rating'].sum().reset_index()"
   ]
  },
  {
   "cell_type": "code",
   "execution_count": 21,
   "id": "0360d047",
   "metadata": {},
   "outputs": [],
   "source": [
    "ratings_dict = {name: np.array(value) for name, value in ratings_dict.items()}\n",
    "ratings = tf.data.Dataset.from_tensor_slices(ratings_dict)\n"
   ]
  },
  {
   "cell_type": "code",
   "execution_count": 22,
   "id": "c2d404e6",
   "metadata": {},
   "outputs": [],
   "source": [
    "ratings = ratings.map(lambda x: {'AuthorId' : x['AuthorId'], \n",
    "                                 'RecipeId' : x['RecipeId'],})"
   ]
  },
  {
   "cell_type": "code",
   "execution_count": 23,
   "id": "79a7a888",
   "metadata": {},
   "outputs": [
    {
     "name": "stdout",
     "output_type": "stream",
     "text": [
      "{'AuthorId': b'100026', 'RecipeId': b'120914'}\n",
      "{'AuthorId': b'100026', 'RecipeId': b'143736'}\n",
      "{'AuthorId': b'100026', 'RecipeId': b'161324'}\n",
      "{'AuthorId': b'100026', 'RecipeId': b'161335'}\n",
      "{'AuthorId': b'100026', 'RecipeId': b'161381'}\n",
      "{'AuthorId': b'100026', 'RecipeId': b'172588'}\n",
      "{'AuthorId': b'100026', 'RecipeId': b'195437'}\n",
      "{'AuthorId': b'100026', 'RecipeId': b'33201'}\n",
      "{'AuthorId': b'100026', 'RecipeId': b'39165'}\n",
      "{'AuthorId': b'100026', 'RecipeId': b'8739'}\n"
     ]
    }
   ],
   "source": [
    "for x in ratings.take(10).as_numpy_iterator():\n",
    "    pprint.pprint(x)"
   ]
  },
  {
   "cell_type": "markdown",
   "id": "966aaca6",
   "metadata": {},
   "source": [
    "## Recipes"
   ]
  },
  {
   "cell_type": "code",
   "execution_count": 24,
   "id": "c51abfaf",
   "metadata": {},
   "outputs": [],
   "source": [
    "# recipes_clean.info()"
   ]
  },
  {
   "cell_type": "code",
   "execution_count": 25,
   "id": "fcaf2a6f",
   "metadata": {},
   "outputs": [],
   "source": [
    "features = [\"RecipeId\", \"Name\", \"Keywords\", \"Ingredients\", \"FatContent\", \"SaturatedFatContent\", \"CholesterolContent\", \"SodiumContent\",\n",
    "           \"CarbohydrateContent\", \"FiberContent\",\"SugarContent\", \"ProteinContent\"]"
   ]
  },
  {
   "cell_type": "code",
   "execution_count": 26,
   "id": "7933a8e7",
   "metadata": {},
   "outputs": [],
   "source": [
    "recipes_sample.RecipeId = recipes_sample.RecipeId.map(lambda x: bytes(str(x), 'utf-8'))\n",
    "recipes_dict = recipes_sample[['RecipeId']]\n",
    "recipes_dict = {name: np.array(value) for name, value in recipes_dict.items()}\n",
    "recipes = tf.data.Dataset.from_tensor_slices(recipes_dict)"
   ]
  },
  {
   "cell_type": "code",
   "execution_count": 27,
   "id": "2cb50963",
   "metadata": {},
   "outputs": [],
   "source": [
    "recipes = recipes.map(lambda x: x['RecipeId'])"
   ]
  },
  {
   "cell_type": "markdown",
   "id": "3465c661",
   "metadata": {},
   "source": [
    "## RANKING"
   ]
  },
  {
   "cell_type": "code",
   "execution_count": 28,
   "id": "dc922f4b",
   "metadata": {},
   "outputs": [],
   "source": [
    "size = ratings_sample.shape[0]\n",
    "train_size = int(0.7 * size)\n",
    "val_size = int(0.15 * size)\n",
    "test_size = size - train_size - val_size\n",
    "\n",
    "tf.random.set_seed(42)\n",
    "shuffled = ratings.shuffle(size, seed=42, reshuffle_each_iteration=False)\n",
    "\n",
    "train = shuffled.take(train_size)\n",
    "val = shuffled.take(train_size).take(val_size)\n",
    "test = shuffled.take(train_size).take(val_size).take(test_size)"
   ]
  },
  {
   "cell_type": "code",
   "execution_count": 29,
   "id": "402bc784",
   "metadata": {},
   "outputs": [
    {
     "name": "stdout",
     "output_type": "stream",
     "text": [
      "Train size: 217015\n",
      "Test size: 46504\n",
      "Val size: 46503\n"
     ]
    }
   ],
   "source": [
    "print(f\"Train size: {train_size}\")\n",
    "print(f\"Test size: {test_size}\")\n",
    "print(f\"Val size: {val_size}\")      "
   ]
  },
  {
   "cell_type": "code",
   "execution_count": 30,
   "id": "e332e846",
   "metadata": {},
   "outputs": [],
   "source": [
    "recipe_ids = recipes.batch(1_000)\n",
    "user_ids = ratings.batch(1_000_000).map(lambda x: x[\"AuthorId\"])\n",
    "\n",
    "unique_recipe_ids = np.unique(np.concatenate(list(recipe_ids)))\n",
    "unique_user_ids = np.unique(np.concatenate(list(user_ids)))"
   ]
  },
  {
   "cell_type": "code",
   "execution_count": 31,
   "id": "46f420c1",
   "metadata": {},
   "outputs": [],
   "source": [
    "# unique_user_ids = [bytes(str(x), 'utf-8') for x in unique_user_ids]"
   ]
  },
  {
   "cell_type": "code",
   "execution_count": 32,
   "id": "4b9d51f9",
   "metadata": {},
   "outputs": [],
   "source": [
    "# unique_recipe_ids = [bytes(str(x), 'utf-8') for x in unique_recipe_ids]"
   ]
  },
  {
   "cell_type": "markdown",
   "id": "61939904",
   "metadata": {},
   "source": [
    "# Implementing model"
   ]
  },
  {
   "cell_type": "markdown",
   "id": "a19ae685",
   "metadata": {},
   "source": [
    "## Query tower"
   ]
  },
  {
   "cell_type": "code",
   "execution_count": 33,
   "id": "1e2f165c",
   "metadata": {},
   "outputs": [],
   "source": [
    "embedding_dimension = 32"
   ]
  },
  {
   "cell_type": "code",
   "execution_count": 34,
   "id": "537fb15a",
   "metadata": {},
   "outputs": [],
   "source": [
    "user_model = tf.keras.Sequential([\n",
    "    tf.keras.layers.StringLookup(vocabulary=unique_user_ids, mask_token=None),\n",
    "    tf.keras.layers.Embedding(len(unique_user_ids) + 1, embedding_dimension)\n",
    "])"
   ]
  },
  {
   "cell_type": "markdown",
   "id": "f35bff0e",
   "metadata": {},
   "source": [
    "## Candidate tower"
   ]
  },
  {
   "cell_type": "code",
   "execution_count": 35,
   "id": "48bfab3c",
   "metadata": {},
   "outputs": [],
   "source": [
    "recipe_model = tf.keras.Sequential([\n",
    "  tf.keras.layers.StringLookup(\n",
    "      vocabulary=unique_recipe_ids, mask_token=None),\n",
    "  tf.keras.layers.Embedding(len(unique_recipe_ids) + 1, embedding_dimension)\n",
    "])"
   ]
  },
  {
   "cell_type": "markdown",
   "id": "c4b0b8c9",
   "metadata": {},
   "source": [
    "## Model"
   ]
  },
  {
   "cell_type": "code",
   "execution_count": 36,
   "id": "23a0f11b",
   "metadata": {},
   "outputs": [],
   "source": [
    "class RecipeModel(tfrs.Model):\n",
    "    def __init__(self, user_model, recipe_model):\n",
    "        super().__init__()\n",
    "        self.recipe_model: tf.keras.Model = recipe_model\n",
    "        self.user_model: tf.keras.Model = user_model\n",
    "        \n",
    "        \n",
    "        metrics = tfrs.metrics.FactorizedTopK(candidates=recipes.batch(128).map(recipe_model))\n",
    "        task = tfrs.tasks.Retrieval(metrics=metrics)\n",
    "        self.task: tf.keras.layers.Layer = task\n",
    "            \n",
    "    def compute_loss(self, features: Dict[Text, tf.Tensor], training=False) -> tf.Tensor:\n",
    "        user_embeddings = self.user_model(features[\"AuthorId\"])\n",
    "        positive_recipe_embeddings = self.recipe_model(features[\"RecipeId\"])\n",
    "        \n",
    "        return self.task(user_embeddings, positive_recipe_embeddings)"
   ]
  },
  {
   "cell_type": "markdown",
   "id": "a469d8ac",
   "metadata": {},
   "source": [
    "# Train & test"
   ]
  },
  {
   "cell_type": "code",
   "execution_count": 37,
   "id": "1468f00b",
   "metadata": {},
   "outputs": [],
   "source": [
    "model_1 = RecipeModel(user_model=user_model, recipe_model=recipe_model)\n",
    "model_1.compile(optimizer=tf.keras.optimizers.Adagrad(learning_rate=0.1))"
   ]
  },
  {
   "cell_type": "code",
   "execution_count": 38,
   "id": "c6d31156",
   "metadata": {},
   "outputs": [],
   "source": [
    "cached_train = train.shuffle(250_000).batch(8192).cache()\n",
    "cached_test = test.batch(4096).cache()\n",
    "cached_val = val.batch(4096).cache()"
   ]
  },
  {
   "cell_type": "markdown",
   "id": "50d6f5b2",
   "metadata": {},
   "source": [
    "## Fit first 300 epochs"
   ]
  },
  {
   "cell_type": "code",
   "execution_count": 39,
   "id": "e07f06a6",
   "metadata": {},
   "outputs": [
    {
     "name": "stdout",
     "output_type": "stream",
     "text": [
      "Epoch 1/300\n",
      "27/27 [==============================] - 174s 6s/step - factorized_top_k/top_1_categorical_accuracy: 1.4285e-04 - factorized_top_k/top_5_categorical_accuracy: 0.0020 - factorized_top_k/top_10_categorical_accuracy: 0.0043 - factorized_top_k/top_50_categorical_accuracy: 0.0174 - factorized_top_k/top_100_categorical_accuracy: 0.0296 - loss: 70851.7609 - regularization_loss: 0.0000e+00 - total_loss: 70851.7609\n",
      "Epoch 2/300\n",
      "27/27 [==============================] - 173s 6s/step - factorized_top_k/top_1_categorical_accuracy: 0.0012 - factorized_top_k/top_5_categorical_accuracy: 0.0122 - factorized_top_k/top_10_categorical_accuracy: 0.0221 - factorized_top_k/top_50_categorical_accuracy: 0.0723 - factorized_top_k/top_100_categorical_accuracy: 0.1120 - loss: 69374.2500 - regularization_loss: 0.0000e+00 - total_loss: 69374.2500\n",
      "Epoch 3/300\n",
      "27/27 [==============================] - 173s 6s/step - factorized_top_k/top_1_categorical_accuracy: 0.0026 - factorized_top_k/top_5_categorical_accuracy: 0.0251 - factorized_top_k/top_10_categorical_accuracy: 0.0434 - factorized_top_k/top_50_categorical_accuracy: 0.1279 - factorized_top_k/top_100_categorical_accuracy: 0.1899 - loss: 66636.8719 - regularization_loss: 0.0000e+00 - total_loss: 66636.8719\n",
      "Epoch 4/300\n",
      "27/27 [==============================] - 171s 6s/step - factorized_top_k/top_1_categorical_accuracy: 0.0035 - factorized_top_k/top_5_categorical_accuracy: 0.0351 - factorized_top_k/top_10_categorical_accuracy: 0.0606 - factorized_top_k/top_50_categorical_accuracy: 0.1686 - factorized_top_k/top_100_categorical_accuracy: 0.2444 - loss: 64091.7412 - regularization_loss: 0.0000e+00 - total_loss: 64091.7412\n",
      "Epoch 5/300\n",
      "27/27 [==============================] - 205s 8s/step - factorized_top_k/top_1_categorical_accuracy: 0.0039 - factorized_top_k/top_5_categorical_accuracy: 0.0417 - factorized_top_k/top_10_categorical_accuracy: 0.0712 - factorized_top_k/top_50_categorical_accuracy: 0.1938 - factorized_top_k/top_100_categorical_accuracy: 0.2790 - loss: 62182.0657 - regularization_loss: 0.0000e+00 - total_loss: 62182.0657 - val_factorized_top_k/top_1_categorical_accuracy: 0.0134 - val_factorized_top_k/top_5_categorical_accuracy: 0.0663 - val_factorized_top_k/top_10_categorical_accuracy: 0.1038 - val_factorized_top_k/top_50_categorical_accuracy: 0.2505 - val_factorized_top_k/top_100_categorical_accuracy: 0.3434 - val_loss: 8581.1025 - val_regularization_loss: 0.0000e+00 - val_total_loss: 8581.1025\n",
      "Epoch 6/300\n",
      "27/27 [==============================] - 171s 6s/step - factorized_top_k/top_1_categorical_accuracy: 0.0039 - factorized_top_k/top_5_categorical_accuracy: 0.0456 - factorized_top_k/top_10_categorical_accuracy: 0.0782 - factorized_top_k/top_50_categorical_accuracy: 0.2104 - factorized_top_k/top_100_categorical_accuracy: 0.2995 - loss: 60783.9524 - regularization_loss: 0.0000e+00 - total_loss: 60783.9524\n",
      "Epoch 7/300\n",
      "27/27 [==============================] - 171s 6s/step - factorized_top_k/top_1_categorical_accuracy: 0.0039 - factorized_top_k/top_5_categorical_accuracy: 0.0489 - factorized_top_k/top_10_categorical_accuracy: 0.0834 - factorized_top_k/top_50_categorical_accuracy: 0.2219 - factorized_top_k/top_100_categorical_accuracy: 0.3123 - loss: 59739.5878 - regularization_loss: 0.0000e+00 - total_loss: 59739.5878\n",
      "Epoch 8/300\n",
      "27/27 [==============================] - 171s 6s/step - factorized_top_k/top_1_categorical_accuracy: 0.0039 - factorized_top_k/top_5_categorical_accuracy: 0.0515 - factorized_top_k/top_10_categorical_accuracy: 0.0871 - factorized_top_k/top_50_categorical_accuracy: 0.2292 - factorized_top_k/top_100_categorical_accuracy: 0.3202 - loss: 58938.2133 - regularization_loss: 0.0000e+00 - total_loss: 58938.2133\n",
      "Epoch 9/300\n",
      "27/27 [==============================] - 171s 6s/step - factorized_top_k/top_1_categorical_accuracy: 0.0041 - factorized_top_k/top_5_categorical_accuracy: 0.0536 - factorized_top_k/top_10_categorical_accuracy: 0.0903 - factorized_top_k/top_50_categorical_accuracy: 0.2346 - factorized_top_k/top_100_categorical_accuracy: 0.3257 - loss: 58307.1313 - regularization_loss: 0.0000e+00 - total_loss: 58307.1313\n",
      "Epoch 10/300\n",
      "27/27 [==============================] - 202s 8s/step - factorized_top_k/top_1_categorical_accuracy: 0.0040 - factorized_top_k/top_5_categorical_accuracy: 0.0552 - factorized_top_k/top_10_categorical_accuracy: 0.0931 - factorized_top_k/top_50_categorical_accuracy: 0.2383 - factorized_top_k/top_100_categorical_accuracy: 0.3298 - loss: 57798.4429 - regularization_loss: 0.0000e+00 - total_loss: 57798.4429 - val_factorized_top_k/top_1_categorical_accuracy: 0.0158 - val_factorized_top_k/top_5_categorical_accuracy: 0.0730 - val_factorized_top_k/top_10_categorical_accuracy: 0.1143 - val_factorized_top_k/top_50_categorical_accuracy: 0.2688 - val_factorized_top_k/top_100_categorical_accuracy: 0.3610 - val_loss: 7931.5850 - val_regularization_loss: 0.0000e+00 - val_total_loss: 7931.5850\n",
      "Epoch 11/300\n",
      "27/27 [==============================] - 171s 6s/step - factorized_top_k/top_1_categorical_accuracy: 0.0042 - factorized_top_k/top_5_categorical_accuracy: 0.0568 - factorized_top_k/top_10_categorical_accuracy: 0.0954 - factorized_top_k/top_50_categorical_accuracy: 0.2417 - factorized_top_k/top_100_categorical_accuracy: 0.3331 - loss: 57379.9466 - regularization_loss: 0.0000e+00 - total_loss: 57379.9466\n",
      "Epoch 12/300\n",
      "27/27 [==============================] - 171s 6s/step - factorized_top_k/top_1_categorical_accuracy: 0.0041 - factorized_top_k/top_5_categorical_accuracy: 0.0579 - factorized_top_k/top_10_categorical_accuracy: 0.0973 - factorized_top_k/top_50_categorical_accuracy: 0.2442 - factorized_top_k/top_100_categorical_accuracy: 0.3362 - loss: 57029.4432 - regularization_loss: 0.0000e+00 - total_loss: 57029.4432\n",
      "Epoch 13/300\n",
      "27/27 [==============================] - 171s 6s/step - factorized_top_k/top_1_categorical_accuracy: 0.0040 - factorized_top_k/top_5_categorical_accuracy: 0.0593 - factorized_top_k/top_10_categorical_accuracy: 0.0992 - factorized_top_k/top_50_categorical_accuracy: 0.2470 - factorized_top_k/top_100_categorical_accuracy: 0.3392 - loss: 56731.2497 - regularization_loss: 0.0000e+00 - total_loss: 56731.2497\n",
      "Epoch 14/300\n",
      "27/27 [==============================] - 171s 6s/step - factorized_top_k/top_1_categorical_accuracy: 0.0044 - factorized_top_k/top_5_categorical_accuracy: 0.0604 - factorized_top_k/top_10_categorical_accuracy: 0.1007 - factorized_top_k/top_50_categorical_accuracy: 0.2496 - factorized_top_k/top_100_categorical_accuracy: 0.3422 - loss: 56474.0473 - regularization_loss: 0.0000e+00 - total_loss: 56474.0473\n",
      "Epoch 15/300\n",
      "27/27 [==============================] - 203s 8s/step - factorized_top_k/top_1_categorical_accuracy: 0.0044 - factorized_top_k/top_5_categorical_accuracy: 0.0613 - factorized_top_k/top_10_categorical_accuracy: 0.1022 - factorized_top_k/top_50_categorical_accuracy: 0.2522 - factorized_top_k/top_100_categorical_accuracy: 0.3443 - loss: 56249.4872 - regularization_loss: 0.0000e+00 - total_loss: 56249.4872 - val_factorized_top_k/top_1_categorical_accuracy: 0.0169 - val_factorized_top_k/top_5_categorical_accuracy: 0.0788 - val_factorized_top_k/top_10_categorical_accuracy: 0.1202 - val_factorized_top_k/top_50_categorical_accuracy: 0.2763 - val_factorized_top_k/top_100_categorical_accuracy: 0.3695 - val_loss: 7704.8828 - val_regularization_loss: 0.0000e+00 - val_total_loss: 7704.8828\n",
      "Epoch 16/300\n",
      "27/27 [==============================] - 171s 6s/step - factorized_top_k/top_1_categorical_accuracy: 0.0043 - factorized_top_k/top_5_categorical_accuracy: 0.0622 - factorized_top_k/top_10_categorical_accuracy: 0.1036 - factorized_top_k/top_50_categorical_accuracy: 0.2544 - factorized_top_k/top_100_categorical_accuracy: 0.3470 - loss: 56051.3129 - regularization_loss: 0.0000e+00 - total_loss: 56051.3129\n",
      "Epoch 17/300\n"
     ]
    },
    {
     "name": "stdout",
     "output_type": "stream",
     "text": [
      "27/27 [==============================] - 171s 6s/step - factorized_top_k/top_1_categorical_accuracy: 0.0046 - factorized_top_k/top_5_categorical_accuracy: 0.0633 - factorized_top_k/top_10_categorical_accuracy: 0.1052 - factorized_top_k/top_50_categorical_accuracy: 0.2566 - factorized_top_k/top_100_categorical_accuracy: 0.3495 - loss: 55874.7476 - regularization_loss: 0.0000e+00 - total_loss: 55874.7476\n",
      "Epoch 18/300\n",
      "27/27 [==============================] - 171s 6s/step - factorized_top_k/top_1_categorical_accuracy: 0.0046 - factorized_top_k/top_5_categorical_accuracy: 0.0644 - factorized_top_k/top_10_categorical_accuracy: 0.1067 - factorized_top_k/top_50_categorical_accuracy: 0.2587 - factorized_top_k/top_100_categorical_accuracy: 0.3519 - loss: 55716.0949 - regularization_loss: 0.0000e+00 - total_loss: 55716.0949\n",
      "Epoch 19/300\n",
      "27/27 [==============================] - 171s 6s/step - factorized_top_k/top_1_categorical_accuracy: 0.0046 - factorized_top_k/top_5_categorical_accuracy: 0.0652 - factorized_top_k/top_10_categorical_accuracy: 0.1080 - factorized_top_k/top_50_categorical_accuracy: 0.2606 - factorized_top_k/top_100_categorical_accuracy: 0.3542 - loss: 55572.4609 - regularization_loss: 0.0000e+00 - total_loss: 55572.4609\n",
      "Epoch 20/300\n",
      "27/27 [==============================] - 202s 8s/step - factorized_top_k/top_1_categorical_accuracy: 0.0047 - factorized_top_k/top_5_categorical_accuracy: 0.0660 - factorized_top_k/top_10_categorical_accuracy: 0.1093 - factorized_top_k/top_50_categorical_accuracy: 0.2625 - factorized_top_k/top_100_categorical_accuracy: 0.3566 - loss: 55441.5488 - regularization_loss: 0.0000e+00 - total_loss: 55441.5488 - val_factorized_top_k/top_1_categorical_accuracy: 0.0180 - val_factorized_top_k/top_5_categorical_accuracy: 0.0819 - val_factorized_top_k/top_10_categorical_accuracy: 0.1262 - val_factorized_top_k/top_50_categorical_accuracy: 0.2840 - val_factorized_top_k/top_100_categorical_accuracy: 0.3781 - val_loss: 7587.0381 - val_regularization_loss: 0.0000e+00 - val_total_loss: 7587.0381\n",
      "Epoch 21/300\n",
      "27/27 [==============================] - 171s 6s/step - factorized_top_k/top_1_categorical_accuracy: 0.0047 - factorized_top_k/top_5_categorical_accuracy: 0.0668 - factorized_top_k/top_10_categorical_accuracy: 0.1105 - factorized_top_k/top_50_categorical_accuracy: 0.2644 - factorized_top_k/top_100_categorical_accuracy: 0.3586 - loss: 55321.5120 - regularization_loss: 0.0000e+00 - total_loss: 55321.5120\n",
      "Epoch 22/300\n",
      "27/27 [==============================] - 173s 6s/step - factorized_top_k/top_1_categorical_accuracy: 0.0048 - factorized_top_k/top_5_categorical_accuracy: 0.0675 - factorized_top_k/top_10_categorical_accuracy: 0.1118 - factorized_top_k/top_50_categorical_accuracy: 0.2665 - factorized_top_k/top_100_categorical_accuracy: 0.3607 - loss: 55210.8531 - regularization_loss: 0.0000e+00 - total_loss: 55210.8531\n",
      "Epoch 23/300\n",
      "27/27 [==============================] - 175s 6s/step - factorized_top_k/top_1_categorical_accuracy: 0.0049 - factorized_top_k/top_5_categorical_accuracy: 0.0684 - factorized_top_k/top_10_categorical_accuracy: 0.1131 - factorized_top_k/top_50_categorical_accuracy: 0.2683 - factorized_top_k/top_100_categorical_accuracy: 0.3627 - loss: 55108.3484 - regularization_loss: 0.0000e+00 - total_loss: 55108.3484\n",
      "Epoch 24/300\n",
      "27/27 [==============================] - 174s 6s/step - factorized_top_k/top_1_categorical_accuracy: 0.0049 - factorized_top_k/top_5_categorical_accuracy: 0.0691 - factorized_top_k/top_10_categorical_accuracy: 0.1143 - factorized_top_k/top_50_categorical_accuracy: 0.2702 - factorized_top_k/top_100_categorical_accuracy: 0.3645 - loss: 55012.9789 - regularization_loss: 0.0000e+00 - total_loss: 55012.9789\n",
      "Epoch 25/300\n",
      "27/27 [==============================] - 204s 8s/step - factorized_top_k/top_1_categorical_accuracy: 0.0049 - factorized_top_k/top_5_categorical_accuracy: 0.0698 - factorized_top_k/top_10_categorical_accuracy: 0.1155 - factorized_top_k/top_50_categorical_accuracy: 0.2716 - factorized_top_k/top_100_categorical_accuracy: 0.3665 - loss: 54923.9047 - regularization_loss: 0.0000e+00 - total_loss: 54923.9047 - val_factorized_top_k/top_1_categorical_accuracy: 0.0189 - val_factorized_top_k/top_5_categorical_accuracy: 0.0855 - val_factorized_top_k/top_10_categorical_accuracy: 0.1313 - val_factorized_top_k/top_50_categorical_accuracy: 0.2906 - val_factorized_top_k/top_100_categorical_accuracy: 0.3851 - val_loss: 7511.6919 - val_regularization_loss: 0.0000e+00 - val_total_loss: 7511.6919\n",
      "Epoch 26/300\n",
      "27/27 [==============================] - 171s 6s/step - factorized_top_k/top_1_categorical_accuracy: 0.0051 - factorized_top_k/top_5_categorical_accuracy: 0.0703 - factorized_top_k/top_10_categorical_accuracy: 0.1165 - factorized_top_k/top_50_categorical_accuracy: 0.2732 - factorized_top_k/top_100_categorical_accuracy: 0.3682 - loss: 54840.4085 - regularization_loss: 0.0000e+00 - total_loss: 54840.4085\n",
      "Epoch 27/300\n",
      "27/27 [==============================] - 171s 6s/step - factorized_top_k/top_1_categorical_accuracy: 0.0051 - factorized_top_k/top_5_categorical_accuracy: 0.0709 - factorized_top_k/top_10_categorical_accuracy: 0.1174 - factorized_top_k/top_50_categorical_accuracy: 0.2749 - factorized_top_k/top_100_categorical_accuracy: 0.3700 - loss: 54761.8874 - regularization_loss: 0.0000e+00 - total_loss: 54761.8874\n",
      "Epoch 28/300\n",
      "27/27 [==============================] - 174s 6s/step - factorized_top_k/top_1_categorical_accuracy: 0.0052 - factorized_top_k/top_5_categorical_accuracy: 0.0715 - factorized_top_k/top_10_categorical_accuracy: 0.1184 - factorized_top_k/top_50_categorical_accuracy: 0.2764 - factorized_top_k/top_100_categorical_accuracy: 0.3715 - loss: 54687.8298 - regularization_loss: 0.0000e+00 - total_loss: 54687.8298\n",
      "Epoch 29/300\n",
      "27/27 [==============================] - 173s 6s/step - factorized_top_k/top_1_categorical_accuracy: 0.0053 - factorized_top_k/top_5_categorical_accuracy: 0.0722 - factorized_top_k/top_10_categorical_accuracy: 0.1192 - factorized_top_k/top_50_categorical_accuracy: 0.2779 - factorized_top_k/top_100_categorical_accuracy: 0.3728 - loss: 54617.7912 - regularization_loss: 0.0000e+00 - total_loss: 54617.7912\n",
      "Epoch 30/300\n",
      "27/27 [==============================] - 206s 8s/step - factorized_top_k/top_1_categorical_accuracy: 0.0052 - factorized_top_k/top_5_categorical_accuracy: 0.0728 - factorized_top_k/top_10_categorical_accuracy: 0.1201 - factorized_top_k/top_50_categorical_accuracy: 0.2792 - factorized_top_k/top_100_categorical_accuracy: 0.3742 - loss: 54551.3892 - regularization_loss: 0.0000e+00 - total_loss: 54551.3892 - val_factorized_top_k/top_1_categorical_accuracy: 0.0188 - val_factorized_top_k/top_5_categorical_accuracy: 0.0888 - val_factorized_top_k/top_10_categorical_accuracy: 0.1366 - val_factorized_top_k/top_50_categorical_accuracy: 0.2967 - val_factorized_top_k/top_100_categorical_accuracy: 0.3908 - val_loss: 7457.4893 - val_regularization_loss: 0.0000e+00 - val_total_loss: 7457.4893\n",
      "Epoch 31/300\n",
      "27/27 [==============================] - 173s 6s/step - factorized_top_k/top_1_categorical_accuracy: 0.0055 - factorized_top_k/top_5_categorical_accuracy: 0.0733 - factorized_top_k/top_10_categorical_accuracy: 0.1210 - factorized_top_k/top_50_categorical_accuracy: 0.2804 - factorized_top_k/top_100_categorical_accuracy: 0.3756 - loss: 54488.2916 - regularization_loss: 0.0000e+00 - total_loss: 54488.2916\n",
      "Epoch 32/300\n",
      "27/27 [==============================] - 172s 6s/step - factorized_top_k/top_1_categorical_accuracy: 0.0054 - factorized_top_k/top_5_categorical_accuracy: 0.0739 - factorized_top_k/top_10_categorical_accuracy: 0.1218 - factorized_top_k/top_50_categorical_accuracy: 0.2818 - factorized_top_k/top_100_categorical_accuracy: 0.3770 - loss: 54428.2047 - regularization_loss: 0.0000e+00 - total_loss: 54428.2047\n",
      "Epoch 33/300\n"
     ]
    },
    {
     "name": "stdout",
     "output_type": "stream",
     "text": [
      "27/27 [==============================] - 172s 6s/step - factorized_top_k/top_1_categorical_accuracy: 0.0054 - factorized_top_k/top_5_categorical_accuracy: 0.0744 - factorized_top_k/top_10_categorical_accuracy: 0.1225 - factorized_top_k/top_50_categorical_accuracy: 0.2831 - factorized_top_k/top_100_categorical_accuracy: 0.3781 - loss: 54370.8779 - regularization_loss: 0.0000e+00 - total_loss: 54370.8779\n",
      "Epoch 34/300\n",
      "27/27 [==============================] - 175s 6s/step - factorized_top_k/top_1_categorical_accuracy: 0.0056 - factorized_top_k/top_5_categorical_accuracy: 0.0751 - factorized_top_k/top_10_categorical_accuracy: 0.1234 - factorized_top_k/top_50_categorical_accuracy: 0.2843 - factorized_top_k/top_100_categorical_accuracy: 0.3796 - loss: 54316.0841 - regularization_loss: 0.0000e+00 - total_loss: 54316.0841\n",
      "Epoch 35/300\n",
      "27/27 [==============================] - 207s 8s/step - factorized_top_k/top_1_categorical_accuracy: 0.0054 - factorized_top_k/top_5_categorical_accuracy: 0.0754 - factorized_top_k/top_10_categorical_accuracy: 0.1242 - factorized_top_k/top_50_categorical_accuracy: 0.2856 - factorized_top_k/top_100_categorical_accuracy: 0.3806 - loss: 54263.6230 - regularization_loss: 0.0000e+00 - total_loss: 54263.6230 - val_factorized_top_k/top_1_categorical_accuracy: 0.0188 - val_factorized_top_k/top_5_categorical_accuracy: 0.0916 - val_factorized_top_k/top_10_categorical_accuracy: 0.1401 - val_factorized_top_k/top_50_categorical_accuracy: 0.3022 - val_factorized_top_k/top_100_categorical_accuracy: 0.3963 - val_loss: 7415.4648 - val_regularization_loss: 0.0000e+00 - val_total_loss: 7415.4648\n",
      "Epoch 36/300\n",
      "27/27 [==============================] - 175s 6s/step - factorized_top_k/top_1_categorical_accuracy: 0.0056 - factorized_top_k/top_5_categorical_accuracy: 0.0761 - factorized_top_k/top_10_categorical_accuracy: 0.1250 - factorized_top_k/top_50_categorical_accuracy: 0.2868 - factorized_top_k/top_100_categorical_accuracy: 0.3818 - loss: 54213.3188 - regularization_loss: 0.0000e+00 - total_loss: 54213.3188\n",
      "Epoch 37/300\n",
      "27/27 [==============================] - 175s 6s/step - factorized_top_k/top_1_categorical_accuracy: 0.0056 - factorized_top_k/top_5_categorical_accuracy: 0.0767 - factorized_top_k/top_10_categorical_accuracy: 0.1257 - factorized_top_k/top_50_categorical_accuracy: 0.2881 - factorized_top_k/top_100_categorical_accuracy: 0.3830 - loss: 54165.0066 - regularization_loss: 0.0000e+00 - total_loss: 54165.0066\n",
      "Epoch 38/300\n",
      "27/27 [==============================] - 172s 6s/step - factorized_top_k/top_1_categorical_accuracy: 0.0054 - factorized_top_k/top_5_categorical_accuracy: 0.0770 - factorized_top_k/top_10_categorical_accuracy: 0.1264 - factorized_top_k/top_50_categorical_accuracy: 0.2892 - factorized_top_k/top_100_categorical_accuracy: 0.3840 - loss: 54118.5504 - regularization_loss: 0.0000e+00 - total_loss: 54118.5504\n",
      "Epoch 39/300\n",
      "27/27 [==============================] - 171s 6s/step - factorized_top_k/top_1_categorical_accuracy: 0.0055 - factorized_top_k/top_5_categorical_accuracy: 0.0774 - factorized_top_k/top_10_categorical_accuracy: 0.1271 - factorized_top_k/top_50_categorical_accuracy: 0.2905 - factorized_top_k/top_100_categorical_accuracy: 0.3850 - loss: 54073.8179 - regularization_loss: 0.0000e+00 - total_loss: 54073.8179\n",
      "Epoch 40/300\n",
      "27/27 [==============================] - 203s 8s/step - factorized_top_k/top_1_categorical_accuracy: 0.0054 - factorized_top_k/top_5_categorical_accuracy: 0.0779 - factorized_top_k/top_10_categorical_accuracy: 0.1277 - factorized_top_k/top_50_categorical_accuracy: 0.2914 - factorized_top_k/top_100_categorical_accuracy: 0.3860 - loss: 54030.6952 - regularization_loss: 0.0000e+00 - total_loss: 54030.6952 - val_factorized_top_k/top_1_categorical_accuracy: 0.0192 - val_factorized_top_k/top_5_categorical_accuracy: 0.0944 - val_factorized_top_k/top_10_categorical_accuracy: 0.1428 - val_factorized_top_k/top_50_categorical_accuracy: 0.3062 - val_factorized_top_k/top_100_categorical_accuracy: 0.4003 - val_loss: 7381.2090 - val_regularization_loss: 0.0000e+00 - val_total_loss: 7381.2090\n",
      "Epoch 41/300\n",
      "27/27 [==============================] - 171s 6s/step - factorized_top_k/top_1_categorical_accuracy: 0.0057 - factorized_top_k/top_5_categorical_accuracy: 0.0785 - factorized_top_k/top_10_categorical_accuracy: 0.1283 - factorized_top_k/top_50_categorical_accuracy: 0.2925 - factorized_top_k/top_100_categorical_accuracy: 0.3870 - loss: 53989.0773 - regularization_loss: 0.0000e+00 - total_loss: 53989.0773\n",
      "Epoch 42/300\n",
      "27/27 [==============================] - 172s 6s/step - factorized_top_k/top_1_categorical_accuracy: 0.0056 - factorized_top_k/top_5_categorical_accuracy: 0.0787 - factorized_top_k/top_10_categorical_accuracy: 0.1287 - factorized_top_k/top_50_categorical_accuracy: 0.2936 - factorized_top_k/top_100_categorical_accuracy: 0.3879 - loss: 53948.8712 - regularization_loss: 0.0000e+00 - total_loss: 53948.8712\n",
      "Epoch 43/300\n",
      "27/27 [==============================] - 175s 6s/step - factorized_top_k/top_1_categorical_accuracy: 0.0053 - factorized_top_k/top_5_categorical_accuracy: 0.0792 - factorized_top_k/top_10_categorical_accuracy: 0.1295 - factorized_top_k/top_50_categorical_accuracy: 0.2944 - factorized_top_k/top_100_categorical_accuracy: 0.3888 - loss: 53909.9856 - regularization_loss: 0.0000e+00 - total_loss: 53909.9856\n",
      "Epoch 44/300\n",
      "27/27 [==============================] - 174s 6s/step - factorized_top_k/top_1_categorical_accuracy: 0.0055 - factorized_top_k/top_5_categorical_accuracy: 0.0795 - factorized_top_k/top_10_categorical_accuracy: 0.1302 - factorized_top_k/top_50_categorical_accuracy: 0.2952 - factorized_top_k/top_100_categorical_accuracy: 0.3896 - loss: 53872.3444 - regularization_loss: 0.0000e+00 - total_loss: 53872.3444\n",
      "Epoch 45/300\n",
      "27/27 [==============================] - 204s 8s/step - factorized_top_k/top_1_categorical_accuracy: 0.0057 - factorized_top_k/top_5_categorical_accuracy: 0.0799 - factorized_top_k/top_10_categorical_accuracy: 0.1309 - factorized_top_k/top_50_categorical_accuracy: 0.2960 - factorized_top_k/top_100_categorical_accuracy: 0.3904 - loss: 53835.8761 - regularization_loss: 0.0000e+00 - total_loss: 53835.8761 - val_factorized_top_k/top_1_categorical_accuracy: 0.0196 - val_factorized_top_k/top_5_categorical_accuracy: 0.0960 - val_factorized_top_k/top_10_categorical_accuracy: 0.1467 - val_factorized_top_k/top_50_categorical_accuracy: 0.3104 - val_factorized_top_k/top_100_categorical_accuracy: 0.4039 - val_loss: 7352.3237 - val_regularization_loss: 0.0000e+00 - val_total_loss: 7352.3237\n",
      "Epoch 46/300\n",
      "27/27 [==============================] - 170s 6s/step - factorized_top_k/top_1_categorical_accuracy: 0.0056 - factorized_top_k/top_5_categorical_accuracy: 0.0801 - factorized_top_k/top_10_categorical_accuracy: 0.1316 - factorized_top_k/top_50_categorical_accuracy: 0.2969 - factorized_top_k/top_100_categorical_accuracy: 0.3911 - loss: 53800.5088 - regularization_loss: 0.0000e+00 - total_loss: 53800.5088\n",
      "Epoch 47/300\n",
      "27/27 [==============================] - 171s 6s/step - factorized_top_k/top_1_categorical_accuracy: 0.0057 - factorized_top_k/top_5_categorical_accuracy: 0.0805 - factorized_top_k/top_10_categorical_accuracy: 0.1321 - factorized_top_k/top_50_categorical_accuracy: 0.2978 - factorized_top_k/top_100_categorical_accuracy: 0.3919 - loss: 53766.1858 - regularization_loss: 0.0000e+00 - total_loss: 53766.1858\n",
      "Epoch 48/300\n",
      "27/27 [==============================] - 171s 6s/step - factorized_top_k/top_1_categorical_accuracy: 0.0056 - factorized_top_k/top_5_categorical_accuracy: 0.0806 - factorized_top_k/top_10_categorical_accuracy: 0.1328 - factorized_top_k/top_50_categorical_accuracy: 0.2986 - factorized_top_k/top_100_categorical_accuracy: 0.3927 - loss: 53732.8530 - regularization_loss: 0.0000e+00 - total_loss: 53732.8530\n",
      "Epoch 49/300\n"
     ]
    },
    {
     "name": "stdout",
     "output_type": "stream",
     "text": [
      "27/27 [==============================] - 171s 6s/step - factorized_top_k/top_1_categorical_accuracy: 0.0056 - factorized_top_k/top_5_categorical_accuracy: 0.0810 - factorized_top_k/top_10_categorical_accuracy: 0.1332 - factorized_top_k/top_50_categorical_accuracy: 0.2995 - factorized_top_k/top_100_categorical_accuracy: 0.3934 - loss: 53700.4523 - regularization_loss: 0.0000e+00 - total_loss: 53700.4523\n",
      "Epoch 50/300\n",
      "27/27 [==============================] - 202s 8s/step - factorized_top_k/top_1_categorical_accuracy: 0.0054 - factorized_top_k/top_5_categorical_accuracy: 0.0813 - factorized_top_k/top_10_categorical_accuracy: 0.1337 - factorized_top_k/top_50_categorical_accuracy: 0.3001 - factorized_top_k/top_100_categorical_accuracy: 0.3942 - loss: 53668.9397 - regularization_loss: 0.0000e+00 - total_loss: 53668.9397 - val_factorized_top_k/top_1_categorical_accuracy: 0.0194 - val_factorized_top_k/top_5_categorical_accuracy: 0.0974 - val_factorized_top_k/top_10_categorical_accuracy: 0.1490 - val_factorized_top_k/top_50_categorical_accuracy: 0.3136 - val_factorized_top_k/top_100_categorical_accuracy: 0.4070 - val_loss: 7327.3823 - val_regularization_loss: 0.0000e+00 - val_total_loss: 7327.3823\n",
      "Epoch 51/300\n",
      "27/27 [==============================] - 173s 6s/step - factorized_top_k/top_1_categorical_accuracy: 0.0058 - factorized_top_k/top_5_categorical_accuracy: 0.0816 - factorized_top_k/top_10_categorical_accuracy: 0.1341 - factorized_top_k/top_50_categorical_accuracy: 0.3009 - factorized_top_k/top_100_categorical_accuracy: 0.3948 - loss: 53638.2686 - regularization_loss: 0.0000e+00 - total_loss: 53638.2686\n",
      "Epoch 52/300\n",
      "27/27 [==============================] - 173s 6s/step - factorized_top_k/top_1_categorical_accuracy: 0.0058 - factorized_top_k/top_5_categorical_accuracy: 0.0821 - factorized_top_k/top_10_categorical_accuracy: 0.1346 - factorized_top_k/top_50_categorical_accuracy: 0.3016 - factorized_top_k/top_100_categorical_accuracy: 0.3955 - loss: 53608.4009 - regularization_loss: 0.0000e+00 - total_loss: 53608.4009\n",
      "Epoch 53/300\n",
      "27/27 [==============================] - 173s 6s/step - factorized_top_k/top_1_categorical_accuracy: 0.0056 - factorized_top_k/top_5_categorical_accuracy: 0.0825 - factorized_top_k/top_10_categorical_accuracy: 0.1350 - factorized_top_k/top_50_categorical_accuracy: 0.3023 - factorized_top_k/top_100_categorical_accuracy: 0.3962 - loss: 53579.2939 - regularization_loss: 0.0000e+00 - total_loss: 53579.2939\n",
      "Epoch 54/300\n",
      "27/27 [==============================] - 173s 6s/step - factorized_top_k/top_1_categorical_accuracy: 0.0058 - factorized_top_k/top_5_categorical_accuracy: 0.0827 - factorized_top_k/top_10_categorical_accuracy: 0.1357 - factorized_top_k/top_50_categorical_accuracy: 0.3030 - factorized_top_k/top_100_categorical_accuracy: 0.3969 - loss: 53550.9127 - regularization_loss: 0.0000e+00 - total_loss: 53550.9127\n",
      "Epoch 55/300\n",
      "27/27 [==============================] - 203s 8s/step - factorized_top_k/top_1_categorical_accuracy: 0.0054 - factorized_top_k/top_5_categorical_accuracy: 0.0830 - factorized_top_k/top_10_categorical_accuracy: 0.1361 - factorized_top_k/top_50_categorical_accuracy: 0.3037 - factorized_top_k/top_100_categorical_accuracy: 0.3973 - loss: 53523.2275 - regularization_loss: 0.0000e+00 - total_loss: 53523.2275 - val_factorized_top_k/top_1_categorical_accuracy: 0.0195 - val_factorized_top_k/top_5_categorical_accuracy: 0.0991 - val_factorized_top_k/top_10_categorical_accuracy: 0.1514 - val_factorized_top_k/top_50_categorical_accuracy: 0.3166 - val_factorized_top_k/top_100_categorical_accuracy: 0.4101 - val_loss: 7305.4644 - val_regularization_loss: 0.0000e+00 - val_total_loss: 7305.4644\n",
      "Epoch 56/300\n",
      "27/27 [==============================] - 171s 6s/step - factorized_top_k/top_1_categorical_accuracy: 0.0057 - factorized_top_k/top_5_categorical_accuracy: 0.0833 - factorized_top_k/top_10_categorical_accuracy: 0.1365 - factorized_top_k/top_50_categorical_accuracy: 0.3045 - factorized_top_k/top_100_categorical_accuracy: 0.3979 - loss: 53496.2021 - regularization_loss: 0.0000e+00 - total_loss: 53496.2021\n",
      "Epoch 57/300\n",
      "27/27 [==============================] - 171s 6s/step - factorized_top_k/top_1_categorical_accuracy: 0.0056 - factorized_top_k/top_5_categorical_accuracy: 0.0836 - factorized_top_k/top_10_categorical_accuracy: 0.1368 - factorized_top_k/top_50_categorical_accuracy: 0.3052 - factorized_top_k/top_100_categorical_accuracy: 0.3986 - loss: 53469.8087 - regularization_loss: 0.0000e+00 - total_loss: 53469.8087\n",
      "Epoch 58/300\n",
      "27/27 [==============================] - 171s 6s/step - factorized_top_k/top_1_categorical_accuracy: 0.0056 - factorized_top_k/top_5_categorical_accuracy: 0.0839 - factorized_top_k/top_10_categorical_accuracy: 0.1374 - factorized_top_k/top_50_categorical_accuracy: 0.3058 - factorized_top_k/top_100_categorical_accuracy: 0.3993 - loss: 53444.0230 - regularization_loss: 0.0000e+00 - total_loss: 53444.0230\n",
      "Epoch 59/300\n",
      "27/27 [==============================] - 172s 6s/step - factorized_top_k/top_1_categorical_accuracy: 0.0057 - factorized_top_k/top_5_categorical_accuracy: 0.0842 - factorized_top_k/top_10_categorical_accuracy: 0.1377 - factorized_top_k/top_50_categorical_accuracy: 0.3064 - factorized_top_k/top_100_categorical_accuracy: 0.3999 - loss: 53418.8139 - regularization_loss: 0.0000e+00 - total_loss: 53418.8139\n",
      "Epoch 60/300\n",
      "27/27 [==============================] - 202s 8s/step - factorized_top_k/top_1_categorical_accuracy: 0.0057 - factorized_top_k/top_5_categorical_accuracy: 0.0844 - factorized_top_k/top_10_categorical_accuracy: 0.1380 - factorized_top_k/top_50_categorical_accuracy: 0.3071 - factorized_top_k/top_100_categorical_accuracy: 0.4005 - loss: 53394.1632 - regularization_loss: 0.0000e+00 - total_loss: 53394.1632 - val_factorized_top_k/top_1_categorical_accuracy: 0.0198 - val_factorized_top_k/top_5_categorical_accuracy: 0.1004 - val_factorized_top_k/top_10_categorical_accuracy: 0.1534 - val_factorized_top_k/top_50_categorical_accuracy: 0.3197 - val_factorized_top_k/top_100_categorical_accuracy: 0.4118 - val_loss: 7285.9395 - val_regularization_loss: 0.0000e+00 - val_total_loss: 7285.9395\n",
      "Epoch 61/300\n",
      "27/27 [==============================] - 171s 6s/step - factorized_top_k/top_1_categorical_accuracy: 0.0055 - factorized_top_k/top_5_categorical_accuracy: 0.0846 - factorized_top_k/top_10_categorical_accuracy: 0.1384 - factorized_top_k/top_50_categorical_accuracy: 0.3076 - factorized_top_k/top_100_categorical_accuracy: 0.4012 - loss: 53370.0452 - regularization_loss: 0.0000e+00 - total_loss: 53370.0452\n",
      "Epoch 62/300\n",
      "27/27 [==============================] - 171s 6s/step - factorized_top_k/top_1_categorical_accuracy: 0.0056 - factorized_top_k/top_5_categorical_accuracy: 0.0848 - factorized_top_k/top_10_categorical_accuracy: 0.1388 - factorized_top_k/top_50_categorical_accuracy: 0.3082 - factorized_top_k/top_100_categorical_accuracy: 0.4018 - loss: 53346.4368 - regularization_loss: 0.0000e+00 - total_loss: 53346.4368\n",
      "Epoch 63/300\n",
      "27/27 [==============================] - 171s 6s/step - factorized_top_k/top_1_categorical_accuracy: 0.0056 - factorized_top_k/top_5_categorical_accuracy: 0.0851 - factorized_top_k/top_10_categorical_accuracy: 0.1391 - factorized_top_k/top_50_categorical_accuracy: 0.3089 - factorized_top_k/top_100_categorical_accuracy: 0.4024 - loss: 53323.3235 - regularization_loss: 0.0000e+00 - total_loss: 53323.3235\n",
      "Epoch 64/300\n",
      "27/27 [==============================] - 171s 6s/step - factorized_top_k/top_1_categorical_accuracy: 0.0057 - factorized_top_k/top_5_categorical_accuracy: 0.0854 - factorized_top_k/top_10_categorical_accuracy: 0.1397 - factorized_top_k/top_50_categorical_accuracy: 0.3095 - factorized_top_k/top_100_categorical_accuracy: 0.4029 - loss: 53300.6761 - regularization_loss: 0.0000e+00 - total_loss: 53300.6761\n",
      "Epoch 65/300\n"
     ]
    },
    {
     "name": "stdout",
     "output_type": "stream",
     "text": [
      "27/27 [==============================] - 202s 8s/step - factorized_top_k/top_1_categorical_accuracy: 0.0058 - factorized_top_k/top_5_categorical_accuracy: 0.0856 - factorized_top_k/top_10_categorical_accuracy: 0.1400 - factorized_top_k/top_50_categorical_accuracy: 0.3100 - factorized_top_k/top_100_categorical_accuracy: 0.4035 - loss: 53278.4876 - regularization_loss: 0.0000e+00 - total_loss: 53278.4876 - val_factorized_top_k/top_1_categorical_accuracy: 0.0191 - val_factorized_top_k/top_5_categorical_accuracy: 0.1013 - val_factorized_top_k/top_10_categorical_accuracy: 0.1552 - val_factorized_top_k/top_50_categorical_accuracy: 0.3227 - val_factorized_top_k/top_100_categorical_accuracy: 0.4136 - val_loss: 7268.3521 - val_regularization_loss: 0.0000e+00 - val_total_loss: 7268.3521\n",
      "Epoch 66/300\n",
      "27/27 [==============================] - 171s 6s/step - factorized_top_k/top_1_categorical_accuracy: 0.0058 - factorized_top_k/top_5_categorical_accuracy: 0.0859 - factorized_top_k/top_10_categorical_accuracy: 0.1404 - factorized_top_k/top_50_categorical_accuracy: 0.3107 - factorized_top_k/top_100_categorical_accuracy: 0.4039 - loss: 53256.7338 - regularization_loss: 0.0000e+00 - total_loss: 53256.7338\n",
      "Epoch 67/300\n",
      "27/27 [==============================] - 171s 6s/step - factorized_top_k/top_1_categorical_accuracy: 0.0056 - factorized_top_k/top_5_categorical_accuracy: 0.0860 - factorized_top_k/top_10_categorical_accuracy: 0.1408 - factorized_top_k/top_50_categorical_accuracy: 0.3111 - factorized_top_k/top_100_categorical_accuracy: 0.4044 - loss: 53235.4042 - regularization_loss: 0.0000e+00 - total_loss: 53235.4042\n",
      "Epoch 68/300\n",
      "27/27 [==============================] - 173s 6s/step - factorized_top_k/top_1_categorical_accuracy: 0.0057 - factorized_top_k/top_5_categorical_accuracy: 0.0864 - factorized_top_k/top_10_categorical_accuracy: 0.1411 - factorized_top_k/top_50_categorical_accuracy: 0.3117 - factorized_top_k/top_100_categorical_accuracy: 0.4049 - loss: 53214.4761 - regularization_loss: 0.0000e+00 - total_loss: 53214.4761\n",
      "Epoch 69/300\n",
      "27/27 [==============================] - 174s 6s/step - factorized_top_k/top_1_categorical_accuracy: 0.0063 - factorized_top_k/top_5_categorical_accuracy: 0.0866 - factorized_top_k/top_10_categorical_accuracy: 0.1417 - factorized_top_k/top_50_categorical_accuracy: 0.3121 - factorized_top_k/top_100_categorical_accuracy: 0.4054 - loss: 53193.9421 - regularization_loss: 0.0000e+00 - total_loss: 53193.9421\n",
      "Epoch 70/300\n",
      "27/27 [==============================] - 206s 8s/step - factorized_top_k/top_1_categorical_accuracy: 0.0059 - factorized_top_k/top_5_categorical_accuracy: 0.0868 - factorized_top_k/top_10_categorical_accuracy: 0.1419 - factorized_top_k/top_50_categorical_accuracy: 0.3125 - factorized_top_k/top_100_categorical_accuracy: 0.4059 - loss: 53173.7881 - regularization_loss: 0.0000e+00 - total_loss: 53173.7881 - val_factorized_top_k/top_1_categorical_accuracy: 0.0201 - val_factorized_top_k/top_5_categorical_accuracy: 0.1024 - val_factorized_top_k/top_10_categorical_accuracy: 0.1568 - val_factorized_top_k/top_50_categorical_accuracy: 0.3247 - val_factorized_top_k/top_100_categorical_accuracy: 0.4158 - val_loss: 7252.3613 - val_regularization_loss: 0.0000e+00 - val_total_loss: 7252.3613\n",
      "Epoch 71/300\n",
      "27/27 [==============================] - 173s 6s/step - factorized_top_k/top_1_categorical_accuracy: 0.0060 - factorized_top_k/top_5_categorical_accuracy: 0.0871 - factorized_top_k/top_10_categorical_accuracy: 0.1422 - factorized_top_k/top_50_categorical_accuracy: 0.3129 - factorized_top_k/top_100_categorical_accuracy: 0.4064 - loss: 53153.9967 - regularization_loss: 0.0000e+00 - total_loss: 53153.9967\n",
      "Epoch 72/300\n",
      "27/27 [==============================] - 172s 6s/step - factorized_top_k/top_1_categorical_accuracy: 0.0059 - factorized_top_k/top_5_categorical_accuracy: 0.0873 - factorized_top_k/top_10_categorical_accuracy: 0.1427 - factorized_top_k/top_50_categorical_accuracy: 0.3134 - factorized_top_k/top_100_categorical_accuracy: 0.4068 - loss: 53134.5571 - regularization_loss: 0.0000e+00 - total_loss: 53134.5571\n",
      "Epoch 73/300\n",
      "27/27 [==============================] - 171s 6s/step - factorized_top_k/top_1_categorical_accuracy: 0.0060 - factorized_top_k/top_5_categorical_accuracy: 0.0874 - factorized_top_k/top_10_categorical_accuracy: 0.1431 - factorized_top_k/top_50_categorical_accuracy: 0.3139 - factorized_top_k/top_100_categorical_accuracy: 0.4073 - loss: 53115.4586 - regularization_loss: 0.0000e+00 - total_loss: 53115.4586\n",
      "Epoch 74/300\n",
      "27/27 [==============================] - 171s 6s/step - factorized_top_k/top_1_categorical_accuracy: 0.0062 - factorized_top_k/top_5_categorical_accuracy: 0.0876 - factorized_top_k/top_10_categorical_accuracy: 0.1435 - factorized_top_k/top_50_categorical_accuracy: 0.3144 - factorized_top_k/top_100_categorical_accuracy: 0.4078 - loss: 53096.6915 - regularization_loss: 0.0000e+00 - total_loss: 53096.6915\n",
      "Epoch 75/300\n",
      "27/27 [==============================] - 207s 8s/step - factorized_top_k/top_1_categorical_accuracy: 0.0060 - factorized_top_k/top_5_categorical_accuracy: 0.0877 - factorized_top_k/top_10_categorical_accuracy: 0.1439 - factorized_top_k/top_50_categorical_accuracy: 0.3149 - factorized_top_k/top_100_categorical_accuracy: 0.4082 - loss: 53078.2411 - regularization_loss: 0.0000e+00 - total_loss: 53078.2411 - val_factorized_top_k/top_1_categorical_accuracy: 0.0201 - val_factorized_top_k/top_5_categorical_accuracy: 0.1036 - val_factorized_top_k/top_10_categorical_accuracy: 0.1584 - val_factorized_top_k/top_50_categorical_accuracy: 0.3275 - val_factorized_top_k/top_100_categorical_accuracy: 0.4178 - val_loss: 7237.7061 - val_regularization_loss: 0.0000e+00 - val_total_loss: 7237.7061\n",
      "Epoch 76/300\n",
      "27/27 [==============================] - 172s 6s/step - factorized_top_k/top_1_categorical_accuracy: 0.0059 - factorized_top_k/top_5_categorical_accuracy: 0.0877 - factorized_top_k/top_10_categorical_accuracy: 0.1441 - factorized_top_k/top_50_categorical_accuracy: 0.3153 - factorized_top_k/top_100_categorical_accuracy: 0.4086 - loss: 53060.0999 - regularization_loss: 0.0000e+00 - total_loss: 53060.0999\n",
      "Epoch 77/300\n",
      "27/27 [==============================] - 171s 6s/step - factorized_top_k/top_1_categorical_accuracy: 0.0060 - factorized_top_k/top_5_categorical_accuracy: 0.0880 - factorized_top_k/top_10_categorical_accuracy: 0.1445 - factorized_top_k/top_50_categorical_accuracy: 0.3158 - factorized_top_k/top_100_categorical_accuracy: 0.4090 - loss: 53042.2573 - regularization_loss: 0.0000e+00 - total_loss: 53042.2573\n",
      "Epoch 78/300\n",
      "27/27 [==============================] - 167s 6s/step - factorized_top_k/top_1_categorical_accuracy: 0.0062 - factorized_top_k/top_5_categorical_accuracy: 0.0879 - factorized_top_k/top_10_categorical_accuracy: 0.1449 - factorized_top_k/top_50_categorical_accuracy: 0.3162 - factorized_top_k/top_100_categorical_accuracy: 0.4093 - loss: 53024.7063 - regularization_loss: 0.0000e+00 - total_loss: 53024.7063\n",
      "Epoch 79/300\n",
      "27/27 [==============================] - 167s 6s/step - factorized_top_k/top_1_categorical_accuracy: 0.0059 - factorized_top_k/top_5_categorical_accuracy: 0.0884 - factorized_top_k/top_10_categorical_accuracy: 0.1451 - factorized_top_k/top_50_categorical_accuracy: 0.3168 - factorized_top_k/top_100_categorical_accuracy: 0.4097 - loss: 53007.4332 - regularization_loss: 0.0000e+00 - total_loss: 53007.4332\n",
      "Epoch 80/300\n",
      "27/27 [==============================] - 203s 8s/step - factorized_top_k/top_1_categorical_accuracy: 0.0061 - factorized_top_k/top_5_categorical_accuracy: 0.0887 - factorized_top_k/top_10_categorical_accuracy: 0.1453 - factorized_top_k/top_50_categorical_accuracy: 0.3172 - factorized_top_k/top_100_categorical_accuracy: 0.4102 - loss: 52990.4337 - regularization_loss: 0.0000e+00 - total_loss: 52990.4337 - val_factorized_top_k/top_1_categorical_accuracy: 0.0198 - val_factorized_top_k/top_5_categorical_accuracy: 0.1040 - val_factorized_top_k/top_10_categorical_accuracy: 0.1599 - val_factorized_top_k/top_50_categorical_accuracy: 0.3294 - val_factorized_top_k/top_100_categorical_accuracy: 0.4194 - val_loss: 7224.1836 - val_regularization_loss: 0.0000e+00 - val_total_loss: 7224.1836\n"
     ]
    },
    {
     "name": "stdout",
     "output_type": "stream",
     "text": [
      "Epoch 81/300\n",
      "27/27 [==============================] - 169s 6s/step - factorized_top_k/top_1_categorical_accuracy: 0.0060 - factorized_top_k/top_5_categorical_accuracy: 0.0885 - factorized_top_k/top_10_categorical_accuracy: 0.1456 - factorized_top_k/top_50_categorical_accuracy: 0.3177 - factorized_top_k/top_100_categorical_accuracy: 0.4105 - loss: 52973.7001 - regularization_loss: 0.0000e+00 - total_loss: 52973.7001\n",
      "Epoch 82/300\n",
      "27/27 [==============================] - 171s 6s/step - factorized_top_k/top_1_categorical_accuracy: 0.0059 - factorized_top_k/top_5_categorical_accuracy: 0.0888 - factorized_top_k/top_10_categorical_accuracy: 0.1459 - factorized_top_k/top_50_categorical_accuracy: 0.3181 - factorized_top_k/top_100_categorical_accuracy: 0.4108 - loss: 52957.2224 - regularization_loss: 0.0000e+00 - total_loss: 52957.2224\n",
      "Epoch 83/300\n",
      "27/27 [==============================] - 169s 6s/step - factorized_top_k/top_1_categorical_accuracy: 0.0060 - factorized_top_k/top_5_categorical_accuracy: 0.0888 - factorized_top_k/top_10_categorical_accuracy: 0.1461 - factorized_top_k/top_50_categorical_accuracy: 0.3185 - factorized_top_k/top_100_categorical_accuracy: 0.4112 - loss: 52940.9911 - regularization_loss: 0.0000e+00 - total_loss: 52940.9911\n",
      "Epoch 84/300\n",
      "27/27 [==============================] - 170s 6s/step - factorized_top_k/top_1_categorical_accuracy: 0.0061 - factorized_top_k/top_5_categorical_accuracy: 0.0889 - factorized_top_k/top_10_categorical_accuracy: 0.1465 - factorized_top_k/top_50_categorical_accuracy: 0.3189 - factorized_top_k/top_100_categorical_accuracy: 0.4115 - loss: 52925.0022 - regularization_loss: 0.0000e+00 - total_loss: 52925.0022\n",
      "Epoch 85/300\n",
      "27/27 [==============================] - 199s 7s/step - factorized_top_k/top_1_categorical_accuracy: 0.0060 - factorized_top_k/top_5_categorical_accuracy: 0.0889 - factorized_top_k/top_10_categorical_accuracy: 0.1466 - factorized_top_k/top_50_categorical_accuracy: 0.3192 - factorized_top_k/top_100_categorical_accuracy: 0.4120 - loss: 52909.2507 - regularization_loss: 0.0000e+00 - total_loss: 52909.2507 - val_factorized_top_k/top_1_categorical_accuracy: 0.0192 - val_factorized_top_k/top_5_categorical_accuracy: 0.1055 - val_factorized_top_k/top_10_categorical_accuracy: 0.1610 - val_factorized_top_k/top_50_categorical_accuracy: 0.3313 - val_factorized_top_k/top_100_categorical_accuracy: 0.4217 - val_loss: 7211.6299 - val_regularization_loss: 0.0000e+00 - val_total_loss: 7211.6299\n",
      "Epoch 86/300\n",
      "27/27 [==============================] - 168s 6s/step - factorized_top_k/top_1_categorical_accuracy: 0.0059 - factorized_top_k/top_5_categorical_accuracy: 0.0890 - factorized_top_k/top_10_categorical_accuracy: 0.1470 - factorized_top_k/top_50_categorical_accuracy: 0.3197 - factorized_top_k/top_100_categorical_accuracy: 0.4123 - loss: 52893.7263 - regularization_loss: 0.0000e+00 - total_loss: 52893.7263\n",
      "Epoch 87/300\n",
      "27/27 [==============================] - 168s 6s/step - factorized_top_k/top_1_categorical_accuracy: 0.0058 - factorized_top_k/top_5_categorical_accuracy: 0.0892 - factorized_top_k/top_10_categorical_accuracy: 0.1472 - factorized_top_k/top_50_categorical_accuracy: 0.3200 - factorized_top_k/top_100_categorical_accuracy: 0.4126 - loss: 52878.4255 - regularization_loss: 0.0000e+00 - total_loss: 52878.4255\n",
      "Epoch 88/300\n",
      "27/27 [==============================] - 168s 6s/step - factorized_top_k/top_1_categorical_accuracy: 0.0057 - factorized_top_k/top_5_categorical_accuracy: 0.0894 - factorized_top_k/top_10_categorical_accuracy: 0.1474 - factorized_top_k/top_50_categorical_accuracy: 0.3205 - factorized_top_k/top_100_categorical_accuracy: 0.4131 - loss: 52863.3375 - regularization_loss: 0.0000e+00 - total_loss: 52863.3375\n",
      "Epoch 89/300\n",
      "27/27 [==============================] - 168s 6s/step - factorized_top_k/top_1_categorical_accuracy: 0.0060 - factorized_top_k/top_5_categorical_accuracy: 0.0898 - factorized_top_k/top_10_categorical_accuracy: 0.1479 - factorized_top_k/top_50_categorical_accuracy: 0.3210 - factorized_top_k/top_100_categorical_accuracy: 0.4135 - loss: 52848.4641 - regularization_loss: 0.0000e+00 - total_loss: 52848.4641\n",
      "Epoch 90/300\n",
      "27/27 [==============================] - 199s 7s/step - factorized_top_k/top_1_categorical_accuracy: 0.0058 - factorized_top_k/top_5_categorical_accuracy: 0.0899 - factorized_top_k/top_10_categorical_accuracy: 0.1480 - factorized_top_k/top_50_categorical_accuracy: 0.3214 - factorized_top_k/top_100_categorical_accuracy: 0.4139 - loss: 52833.7942 - regularization_loss: 0.0000e+00 - total_loss: 52833.7942 - val_factorized_top_k/top_1_categorical_accuracy: 0.0203 - val_factorized_top_k/top_5_categorical_accuracy: 0.1059 - val_factorized_top_k/top_10_categorical_accuracy: 0.1626 - val_factorized_top_k/top_50_categorical_accuracy: 0.3328 - val_factorized_top_k/top_100_categorical_accuracy: 0.4228 - val_loss: 7199.9175 - val_regularization_loss: 0.0000e+00 - val_total_loss: 7199.9175\n",
      "Epoch 91/300\n",
      "27/27 [==============================] - 168s 6s/step - factorized_top_k/top_1_categorical_accuracy: 0.0059 - factorized_top_k/top_5_categorical_accuracy: 0.0901 - factorized_top_k/top_10_categorical_accuracy: 0.1481 - factorized_top_k/top_50_categorical_accuracy: 0.3217 - factorized_top_k/top_100_categorical_accuracy: 0.4143 - loss: 52819.3238 - regularization_loss: 0.0000e+00 - total_loss: 52819.3238\n",
      "Epoch 92/300\n",
      "27/27 [==============================] - 168s 6s/step - factorized_top_k/top_1_categorical_accuracy: 0.0060 - factorized_top_k/top_5_categorical_accuracy: 0.0900 - factorized_top_k/top_10_categorical_accuracy: 0.1485 - factorized_top_k/top_50_categorical_accuracy: 0.3221 - factorized_top_k/top_100_categorical_accuracy: 0.4146 - loss: 52805.0458 - regularization_loss: 0.0000e+00 - total_loss: 52805.0458\n",
      "Epoch 93/300\n",
      "27/27 [==============================] - 168s 6s/step - factorized_top_k/top_1_categorical_accuracy: 0.0061 - factorized_top_k/top_5_categorical_accuracy: 0.0901 - factorized_top_k/top_10_categorical_accuracy: 0.1487 - factorized_top_k/top_50_categorical_accuracy: 0.3225 - factorized_top_k/top_100_categorical_accuracy: 0.4150 - loss: 52790.9581 - regularization_loss: 0.0000e+00 - total_loss: 52790.9581\n",
      "Epoch 94/300\n",
      "27/27 [==============================] - 168s 6s/step - factorized_top_k/top_1_categorical_accuracy: 0.0058 - factorized_top_k/top_5_categorical_accuracy: 0.0905 - factorized_top_k/top_10_categorical_accuracy: 0.1492 - factorized_top_k/top_50_categorical_accuracy: 0.3228 - factorized_top_k/top_100_categorical_accuracy: 0.4154 - loss: 52777.0564 - regularization_loss: 0.0000e+00 - total_loss: 52777.0564\n",
      "Epoch 95/300\n",
      "27/27 [==============================] - 199s 7s/step - factorized_top_k/top_1_categorical_accuracy: 0.0057 - factorized_top_k/top_5_categorical_accuracy: 0.0904 - factorized_top_k/top_10_categorical_accuracy: 0.1493 - factorized_top_k/top_50_categorical_accuracy: 0.3232 - factorized_top_k/top_100_categorical_accuracy: 0.4158 - loss: 52763.3331 - regularization_loss: 0.0000e+00 - total_loss: 52763.3331 - val_factorized_top_k/top_1_categorical_accuracy: 0.0198 - val_factorized_top_k/top_5_categorical_accuracy: 0.1063 - val_factorized_top_k/top_10_categorical_accuracy: 0.1636 - val_factorized_top_k/top_50_categorical_accuracy: 0.3343 - val_factorized_top_k/top_100_categorical_accuracy: 0.4249 - val_loss: 7188.9385 - val_regularization_loss: 0.0000e+00 - val_total_loss: 7188.9385\n",
      "Epoch 96/300\n",
      "27/27 [==============================] - 168s 6s/step - factorized_top_k/top_1_categorical_accuracy: 0.0059 - factorized_top_k/top_5_categorical_accuracy: 0.0906 - factorized_top_k/top_10_categorical_accuracy: 0.1495 - factorized_top_k/top_50_categorical_accuracy: 0.3235 - factorized_top_k/top_100_categorical_accuracy: 0.4162 - loss: 52749.7856 - regularization_loss: 0.0000e+00 - total_loss: 52749.7856\n",
      "Epoch 97/300\n"
     ]
    },
    {
     "name": "stdout",
     "output_type": "stream",
     "text": [
      "27/27 [==============================] - 168s 6s/step - factorized_top_k/top_1_categorical_accuracy: 0.0059 - factorized_top_k/top_5_categorical_accuracy: 0.0908 - factorized_top_k/top_10_categorical_accuracy: 0.1497 - factorized_top_k/top_50_categorical_accuracy: 0.3239 - factorized_top_k/top_100_categorical_accuracy: 0.4166 - loss: 52736.4088 - regularization_loss: 0.0000e+00 - total_loss: 52736.4088\n",
      "Epoch 98/300\n",
      "27/27 [==============================] - 168s 6s/step - factorized_top_k/top_1_categorical_accuracy: 0.0060 - factorized_top_k/top_5_categorical_accuracy: 0.0909 - factorized_top_k/top_10_categorical_accuracy: 0.1498 - factorized_top_k/top_50_categorical_accuracy: 0.3242 - factorized_top_k/top_100_categorical_accuracy: 0.4169 - loss: 52723.2003 - regularization_loss: 0.0000e+00 - total_loss: 52723.2003\n",
      "Epoch 99/300\n",
      "27/27 [==============================] - 168s 6s/step - factorized_top_k/top_1_categorical_accuracy: 0.0058 - factorized_top_k/top_5_categorical_accuracy: 0.0912 - factorized_top_k/top_10_categorical_accuracy: 0.1501 - factorized_top_k/top_50_categorical_accuracy: 0.3247 - factorized_top_k/top_100_categorical_accuracy: 0.4171 - loss: 52710.1549 - regularization_loss: 0.0000e+00 - total_loss: 52710.1549\n",
      "Epoch 100/300\n",
      "27/27 [==============================] - 201s 7s/step - factorized_top_k/top_1_categorical_accuracy: 0.0060 - factorized_top_k/top_5_categorical_accuracy: 0.0912 - factorized_top_k/top_10_categorical_accuracy: 0.1504 - factorized_top_k/top_50_categorical_accuracy: 0.3250 - factorized_top_k/top_100_categorical_accuracy: 0.4174 - loss: 52697.2681 - regularization_loss: 0.0000e+00 - total_loss: 52697.2681 - val_factorized_top_k/top_1_categorical_accuracy: 0.0201 - val_factorized_top_k/top_5_categorical_accuracy: 0.1081 - val_factorized_top_k/top_10_categorical_accuracy: 0.1654 - val_factorized_top_k/top_50_categorical_accuracy: 0.3355 - val_factorized_top_k/top_100_categorical_accuracy: 0.4259 - val_loss: 7178.6040 - val_regularization_loss: 0.0000e+00 - val_total_loss: 7178.6040\n",
      "Epoch 101/300\n",
      "27/27 [==============================] - 168s 6s/step - factorized_top_k/top_1_categorical_accuracy: 0.0062 - factorized_top_k/top_5_categorical_accuracy: 0.0916 - factorized_top_k/top_10_categorical_accuracy: 0.1507 - factorized_top_k/top_50_categorical_accuracy: 0.3254 - factorized_top_k/top_100_categorical_accuracy: 0.4177 - loss: 52684.5378 - regularization_loss: 0.0000e+00 - total_loss: 52684.5378\n",
      "Epoch 102/300\n",
      "27/27 [==============================] - 169s 6s/step - factorized_top_k/top_1_categorical_accuracy: 0.0060 - factorized_top_k/top_5_categorical_accuracy: 0.0918 - factorized_top_k/top_10_categorical_accuracy: 0.1509 - factorized_top_k/top_50_categorical_accuracy: 0.3256 - factorized_top_k/top_100_categorical_accuracy: 0.4180 - loss: 52671.9573 - regularization_loss: 0.0000e+00 - total_loss: 52671.9573\n",
      "Epoch 103/300\n",
      "27/27 [==============================] - 169s 6s/step - factorized_top_k/top_1_categorical_accuracy: 0.0061 - factorized_top_k/top_5_categorical_accuracy: 0.0920 - factorized_top_k/top_10_categorical_accuracy: 0.1513 - factorized_top_k/top_50_categorical_accuracy: 0.3261 - factorized_top_k/top_100_categorical_accuracy: 0.4183 - loss: 52659.5265 - regularization_loss: 0.0000e+00 - total_loss: 52659.5265\n",
      "Epoch 104/300\n",
      "27/27 [==============================] - 167s 6s/step - factorized_top_k/top_1_categorical_accuracy: 0.0062 - factorized_top_k/top_5_categorical_accuracy: 0.0922 - factorized_top_k/top_10_categorical_accuracy: 0.1516 - factorized_top_k/top_50_categorical_accuracy: 0.3264 - factorized_top_k/top_100_categorical_accuracy: 0.4187 - loss: 52647.2390 - regularization_loss: 0.0000e+00 - total_loss: 52647.2390\n",
      "Epoch 105/300\n",
      "27/27 [==============================] - 199s 7s/step - factorized_top_k/top_1_categorical_accuracy: 0.0061 - factorized_top_k/top_5_categorical_accuracy: 0.0921 - factorized_top_k/top_10_categorical_accuracy: 0.1516 - factorized_top_k/top_50_categorical_accuracy: 0.3266 - factorized_top_k/top_100_categorical_accuracy: 0.4189 - loss: 52635.0951 - regularization_loss: 0.0000e+00 - total_loss: 52635.0951 - val_factorized_top_k/top_1_categorical_accuracy: 0.0204 - val_factorized_top_k/top_5_categorical_accuracy: 0.1085 - val_factorized_top_k/top_10_categorical_accuracy: 0.1659 - val_factorized_top_k/top_50_categorical_accuracy: 0.3370 - val_factorized_top_k/top_100_categorical_accuracy: 0.4271 - val_loss: 7168.8442 - val_regularization_loss: 0.0000e+00 - val_total_loss: 7168.8442\n",
      "Epoch 106/300\n",
      "27/27 [==============================] - 168s 6s/step - factorized_top_k/top_1_categorical_accuracy: 0.0059 - factorized_top_k/top_5_categorical_accuracy: 0.0922 - factorized_top_k/top_10_categorical_accuracy: 0.1519 - factorized_top_k/top_50_categorical_accuracy: 0.3268 - factorized_top_k/top_100_categorical_accuracy: 0.4191 - loss: 52623.0901 - regularization_loss: 0.0000e+00 - total_loss: 52623.0901\n",
      "Epoch 107/300\n",
      "27/27 [==============================] - 169s 6s/step - factorized_top_k/top_1_categorical_accuracy: 0.0059 - factorized_top_k/top_5_categorical_accuracy: 0.0923 - factorized_top_k/top_10_categorical_accuracy: 0.1520 - factorized_top_k/top_50_categorical_accuracy: 0.3272 - factorized_top_k/top_100_categorical_accuracy: 0.4195 - loss: 52611.2217 - regularization_loss: 0.0000e+00 - total_loss: 52611.2217\n",
      "Epoch 108/300\n",
      "27/27 [==============================] - 168s 6s/step - factorized_top_k/top_1_categorical_accuracy: 0.0060 - factorized_top_k/top_5_categorical_accuracy: 0.0926 - factorized_top_k/top_10_categorical_accuracy: 0.1524 - factorized_top_k/top_50_categorical_accuracy: 0.3275 - factorized_top_k/top_100_categorical_accuracy: 0.4198 - loss: 52599.4852 - regularization_loss: 0.0000e+00 - total_loss: 52599.4852\n",
      "Epoch 109/300\n",
      "27/27 [==============================] - 168s 6s/step - factorized_top_k/top_1_categorical_accuracy: 0.0062 - factorized_top_k/top_5_categorical_accuracy: 0.0926 - factorized_top_k/top_10_categorical_accuracy: 0.1525 - factorized_top_k/top_50_categorical_accuracy: 0.3277 - factorized_top_k/top_100_categorical_accuracy: 0.4199 - loss: 52587.8786 - regularization_loss: 0.0000e+00 - total_loss: 52587.8786\n",
      "Epoch 110/300\n",
      "27/27 [==============================] - 200s 7s/step - factorized_top_k/top_1_categorical_accuracy: 0.0060 - factorized_top_k/top_5_categorical_accuracy: 0.0926 - factorized_top_k/top_10_categorical_accuracy: 0.1528 - factorized_top_k/top_50_categorical_accuracy: 0.3281 - factorized_top_k/top_100_categorical_accuracy: 0.4201 - loss: 52576.3973 - regularization_loss: 0.0000e+00 - total_loss: 52576.3973 - val_factorized_top_k/top_1_categorical_accuracy: 0.0198 - val_factorized_top_k/top_5_categorical_accuracy: 0.1088 - val_factorized_top_k/top_10_categorical_accuracy: 0.1671 - val_factorized_top_k/top_50_categorical_accuracy: 0.3388 - val_factorized_top_k/top_100_categorical_accuracy: 0.4283 - val_loss: 7159.5942 - val_regularization_loss: 0.0000e+00 - val_total_loss: 7159.5942\n",
      "Epoch 111/300\n",
      "27/27 [==============================] - 168s 6s/step - factorized_top_k/top_1_categorical_accuracy: 0.0060 - factorized_top_k/top_5_categorical_accuracy: 0.0928 - factorized_top_k/top_10_categorical_accuracy: 0.1531 - factorized_top_k/top_50_categorical_accuracy: 0.3284 - factorized_top_k/top_100_categorical_accuracy: 0.4204 - loss: 52565.0409 - regularization_loss: 0.0000e+00 - total_loss: 52565.0409\n",
      "Epoch 112/300\n",
      "27/27 [==============================] - 169s 6s/step - factorized_top_k/top_1_categorical_accuracy: 0.0059 - factorized_top_k/top_5_categorical_accuracy: 0.0929 - factorized_top_k/top_10_categorical_accuracy: 0.1532 - factorized_top_k/top_50_categorical_accuracy: 0.3287 - factorized_top_k/top_100_categorical_accuracy: 0.4207 - loss: 52553.8072 - regularization_loss: 0.0000e+00 - total_loss: 52553.8072\n",
      "Epoch 113/300\n"
     ]
    },
    {
     "name": "stdout",
     "output_type": "stream",
     "text": [
      "27/27 [==============================] - 168s 6s/step - factorized_top_k/top_1_categorical_accuracy: 0.0060 - factorized_top_k/top_5_categorical_accuracy: 0.0931 - factorized_top_k/top_10_categorical_accuracy: 0.1535 - factorized_top_k/top_50_categorical_accuracy: 0.3290 - factorized_top_k/top_100_categorical_accuracy: 0.4210 - loss: 52542.6931 - regularization_loss: 0.0000e+00 - total_loss: 52542.6931\n",
      "Epoch 114/300\n",
      "27/27 [==============================] - 169s 6s/step - factorized_top_k/top_1_categorical_accuracy: 0.0061 - factorized_top_k/top_5_categorical_accuracy: 0.0931 - factorized_top_k/top_10_categorical_accuracy: 0.1539 - factorized_top_k/top_50_categorical_accuracy: 0.3294 - factorized_top_k/top_100_categorical_accuracy: 0.4213 - loss: 52531.6960 - regularization_loss: 0.0000e+00 - total_loss: 52531.6960\n",
      "Epoch 115/300\n",
      "27/27 [==============================] - 200s 7s/step - factorized_top_k/top_1_categorical_accuracy: 0.0058 - factorized_top_k/top_5_categorical_accuracy: 0.0930 - factorized_top_k/top_10_categorical_accuracy: 0.1539 - factorized_top_k/top_50_categorical_accuracy: 0.3297 - factorized_top_k/top_100_categorical_accuracy: 0.4217 - loss: 52520.8132 - regularization_loss: 0.0000e+00 - total_loss: 52520.8132 - val_factorized_top_k/top_1_categorical_accuracy: 0.0200 - val_factorized_top_k/top_5_categorical_accuracy: 0.1091 - val_factorized_top_k/top_10_categorical_accuracy: 0.1674 - val_factorized_top_k/top_50_categorical_accuracy: 0.3403 - val_factorized_top_k/top_100_categorical_accuracy: 0.4299 - val_loss: 7150.8052 - val_regularization_loss: 0.0000e+00 - val_total_loss: 7150.8052\n",
      "Epoch 116/300\n",
      "27/27 [==============================] - 169s 6s/step - factorized_top_k/top_1_categorical_accuracy: 0.0061 - factorized_top_k/top_5_categorical_accuracy: 0.0930 - factorized_top_k/top_10_categorical_accuracy: 0.1541 - factorized_top_k/top_50_categorical_accuracy: 0.3300 - factorized_top_k/top_100_categorical_accuracy: 0.4220 - loss: 52510.0419 - regularization_loss: 0.0000e+00 - total_loss: 52510.0419\n",
      "Epoch 117/300\n",
      "27/27 [==============================] - 168s 6s/step - factorized_top_k/top_1_categorical_accuracy: 0.0058 - factorized_top_k/top_5_categorical_accuracy: 0.0933 - factorized_top_k/top_10_categorical_accuracy: 0.1543 - factorized_top_k/top_50_categorical_accuracy: 0.3302 - factorized_top_k/top_100_categorical_accuracy: 0.4223 - loss: 52499.3817 - regularization_loss: 0.0000e+00 - total_loss: 52499.3817\n",
      "Epoch 118/300\n",
      "27/27 [==============================] - 168s 6s/step - factorized_top_k/top_1_categorical_accuracy: 0.0060 - factorized_top_k/top_5_categorical_accuracy: 0.0933 - factorized_top_k/top_10_categorical_accuracy: 0.1546 - factorized_top_k/top_50_categorical_accuracy: 0.3305 - factorized_top_k/top_100_categorical_accuracy: 0.4225 - loss: 52488.8288 - regularization_loss: 0.0000e+00 - total_loss: 52488.8288\n",
      "Epoch 119/300\n",
      "27/27 [==============================] - 168s 6s/step - factorized_top_k/top_1_categorical_accuracy: 0.0061 - factorized_top_k/top_5_categorical_accuracy: 0.0935 - factorized_top_k/top_10_categorical_accuracy: 0.1549 - factorized_top_k/top_50_categorical_accuracy: 0.3307 - factorized_top_k/top_100_categorical_accuracy: 0.4228 - loss: 52478.3809 - regularization_loss: 0.0000e+00 - total_loss: 52478.3809\n",
      "Epoch 120/300\n",
      "27/27 [==============================] - 199s 7s/step - factorized_top_k/top_1_categorical_accuracy: 0.0059 - factorized_top_k/top_5_categorical_accuracy: 0.0934 - factorized_top_k/top_10_categorical_accuracy: 0.1549 - factorized_top_k/top_50_categorical_accuracy: 0.3311 - factorized_top_k/top_100_categorical_accuracy: 0.4232 - loss: 52468.0363 - regularization_loss: 0.0000e+00 - total_loss: 52468.0363 - val_factorized_top_k/top_1_categorical_accuracy: 0.0205 - val_factorized_top_k/top_5_categorical_accuracy: 0.1101 - val_factorized_top_k/top_10_categorical_accuracy: 0.1688 - val_factorized_top_k/top_50_categorical_accuracy: 0.3414 - val_factorized_top_k/top_100_categorical_accuracy: 0.4308 - val_loss: 7142.4292 - val_regularization_loss: 0.0000e+00 - val_total_loss: 7142.4292\n",
      "Epoch 121/300\n",
      "27/27 [==============================] - 170s 6s/step - factorized_top_k/top_1_categorical_accuracy: 0.0062 - factorized_top_k/top_5_categorical_accuracy: 0.0937 - factorized_top_k/top_10_categorical_accuracy: 0.1552 - factorized_top_k/top_50_categorical_accuracy: 0.3313 - factorized_top_k/top_100_categorical_accuracy: 0.4234 - loss: 52457.7934 - regularization_loss: 0.0000e+00 - total_loss: 52457.7934\n",
      "Epoch 122/300\n",
      "27/27 [==============================] - 169s 6s/step - factorized_top_k/top_1_categorical_accuracy: 0.0061 - factorized_top_k/top_5_categorical_accuracy: 0.0940 - factorized_top_k/top_10_categorical_accuracy: 0.1554 - factorized_top_k/top_50_categorical_accuracy: 0.3317 - factorized_top_k/top_100_categorical_accuracy: 0.4237 - loss: 52447.6530 - regularization_loss: 0.0000e+00 - total_loss: 52447.6530\n",
      "Epoch 123/300\n",
      "27/27 [==============================] - 169s 6s/step - factorized_top_k/top_1_categorical_accuracy: 0.0060 - factorized_top_k/top_5_categorical_accuracy: 0.0937 - factorized_top_k/top_10_categorical_accuracy: 0.1556 - factorized_top_k/top_50_categorical_accuracy: 0.3319 - factorized_top_k/top_100_categorical_accuracy: 0.4239 - loss: 52437.6077 - regularization_loss: 0.0000e+00 - total_loss: 52437.6077\n",
      "Epoch 124/300\n",
      "27/27 [==============================] - 169s 6s/step - factorized_top_k/top_1_categorical_accuracy: 0.0063 - factorized_top_k/top_5_categorical_accuracy: 0.0941 - factorized_top_k/top_10_categorical_accuracy: 0.1560 - factorized_top_k/top_50_categorical_accuracy: 0.3322 - factorized_top_k/top_100_categorical_accuracy: 0.4242 - loss: 52427.6572 - regularization_loss: 0.0000e+00 - total_loss: 52427.6572\n",
      "Epoch 125/300\n",
      "27/27 [==============================] - 200s 7s/step - factorized_top_k/top_1_categorical_accuracy: 0.0061 - factorized_top_k/top_5_categorical_accuracy: 0.0940 - factorized_top_k/top_10_categorical_accuracy: 0.1560 - factorized_top_k/top_50_categorical_accuracy: 0.3324 - factorized_top_k/top_100_categorical_accuracy: 0.4244 - loss: 52417.8044 - regularization_loss: 0.0000e+00 - total_loss: 52417.8044 - val_factorized_top_k/top_1_categorical_accuracy: 0.0195 - val_factorized_top_k/top_5_categorical_accuracy: 0.1104 - val_factorized_top_k/top_10_categorical_accuracy: 0.1694 - val_factorized_top_k/top_50_categorical_accuracy: 0.3427 - val_factorized_top_k/top_100_categorical_accuracy: 0.4318 - val_loss: 7134.4307 - val_regularization_loss: 0.0000e+00 - val_total_loss: 7134.4307\n",
      "Epoch 126/300\n",
      "27/27 [==============================] - 168s 6s/step - factorized_top_k/top_1_categorical_accuracy: 0.0061 - factorized_top_k/top_5_categorical_accuracy: 0.0942 - factorized_top_k/top_10_categorical_accuracy: 0.1563 - factorized_top_k/top_50_categorical_accuracy: 0.3326 - factorized_top_k/top_100_categorical_accuracy: 0.4245 - loss: 52408.0420 - regularization_loss: 0.0000e+00 - total_loss: 52408.0420\n",
      "Epoch 127/300\n",
      "27/27 [==============================] - 169s 6s/step - factorized_top_k/top_1_categorical_accuracy: 0.0062 - factorized_top_k/top_5_categorical_accuracy: 0.0943 - factorized_top_k/top_10_categorical_accuracy: 0.1563 - factorized_top_k/top_50_categorical_accuracy: 0.3329 - factorized_top_k/top_100_categorical_accuracy: 0.4248 - loss: 52398.3697 - regularization_loss: 0.0000e+00 - total_loss: 52398.3697\n",
      "Epoch 128/300\n",
      "27/27 [==============================] - 169s 6s/step - factorized_top_k/top_1_categorical_accuracy: 0.0061 - factorized_top_k/top_5_categorical_accuracy: 0.0944 - factorized_top_k/top_10_categorical_accuracy: 0.1567 - factorized_top_k/top_50_categorical_accuracy: 0.3331 - factorized_top_k/top_100_categorical_accuracy: 0.4250 - loss: 52388.7888 - regularization_loss: 0.0000e+00 - total_loss: 52388.7888\n",
      "Epoch 129/300\n"
     ]
    },
    {
     "name": "stdout",
     "output_type": "stream",
     "text": [
      "27/27 [==============================] - 169s 6s/step - factorized_top_k/top_1_categorical_accuracy: 0.0061 - factorized_top_k/top_5_categorical_accuracy: 0.0944 - factorized_top_k/top_10_categorical_accuracy: 0.1568 - factorized_top_k/top_50_categorical_accuracy: 0.3333 - factorized_top_k/top_100_categorical_accuracy: 0.4252 - loss: 52379.2937 - regularization_loss: 0.0000e+00 - total_loss: 52379.2937\n",
      "Epoch 130/300\n",
      "27/27 [==============================] - 200s 7s/step - factorized_top_k/top_1_categorical_accuracy: 0.0061 - factorized_top_k/top_5_categorical_accuracy: 0.0944 - factorized_top_k/top_10_categorical_accuracy: 0.1569 - factorized_top_k/top_50_categorical_accuracy: 0.3335 - factorized_top_k/top_100_categorical_accuracy: 0.4254 - loss: 52369.8852 - regularization_loss: 0.0000e+00 - total_loss: 52369.8852 - val_factorized_top_k/top_1_categorical_accuracy: 0.0200 - val_factorized_top_k/top_5_categorical_accuracy: 0.1104 - val_factorized_top_k/top_10_categorical_accuracy: 0.1705 - val_factorized_top_k/top_50_categorical_accuracy: 0.3436 - val_factorized_top_k/top_100_categorical_accuracy: 0.4325 - val_loss: 7126.7754 - val_regularization_loss: 0.0000e+00 - val_total_loss: 7126.7754\n",
      "Epoch 131/300\n",
      "27/27 [==============================] - 168s 6s/step - factorized_top_k/top_1_categorical_accuracy: 0.0062 - factorized_top_k/top_5_categorical_accuracy: 0.0945 - factorized_top_k/top_10_categorical_accuracy: 0.1572 - factorized_top_k/top_50_categorical_accuracy: 0.3338 - factorized_top_k/top_100_categorical_accuracy: 0.4256 - loss: 52360.5603 - regularization_loss: 0.0000e+00 - total_loss: 52360.5603\n",
      "Epoch 132/300\n",
      "27/27 [==============================] - 169s 6s/step - factorized_top_k/top_1_categorical_accuracy: 0.0059 - factorized_top_k/top_5_categorical_accuracy: 0.0946 - factorized_top_k/top_10_categorical_accuracy: 0.1572 - factorized_top_k/top_50_categorical_accuracy: 0.3340 - factorized_top_k/top_100_categorical_accuracy: 0.4259 - loss: 52351.3203 - regularization_loss: 0.0000e+00 - total_loss: 52351.3203\n",
      "Epoch 133/300\n",
      "27/27 [==============================] - 169s 6s/step - factorized_top_k/top_1_categorical_accuracy: 0.0061 - factorized_top_k/top_5_categorical_accuracy: 0.0947 - factorized_top_k/top_10_categorical_accuracy: 0.1575 - factorized_top_k/top_50_categorical_accuracy: 0.3344 - factorized_top_k/top_100_categorical_accuracy: 0.4262 - loss: 52342.1602 - regularization_loss: 0.0000e+00 - total_loss: 52342.1602\n",
      "Epoch 134/300\n",
      "27/27 [==============================] - 169s 6s/step - factorized_top_k/top_1_categorical_accuracy: 0.0062 - factorized_top_k/top_5_categorical_accuracy: 0.0948 - factorized_top_k/top_10_categorical_accuracy: 0.1578 - factorized_top_k/top_50_categorical_accuracy: 0.3347 - factorized_top_k/top_100_categorical_accuracy: 0.4263 - loss: 52333.0816 - regularization_loss: 0.0000e+00 - total_loss: 52333.0816\n",
      "Epoch 135/300\n",
      "27/27 [==============================] - 200s 7s/step - factorized_top_k/top_1_categorical_accuracy: 0.0059 - factorized_top_k/top_5_categorical_accuracy: 0.0950 - factorized_top_k/top_10_categorical_accuracy: 0.1579 - factorized_top_k/top_50_categorical_accuracy: 0.3348 - factorized_top_k/top_100_categorical_accuracy: 0.4265 - loss: 52324.0816 - regularization_loss: 0.0000e+00 - total_loss: 52324.0816 - val_factorized_top_k/top_1_categorical_accuracy: 0.0205 - val_factorized_top_k/top_5_categorical_accuracy: 0.1106 - val_factorized_top_k/top_10_categorical_accuracy: 0.1714 - val_factorized_top_k/top_50_categorical_accuracy: 0.3448 - val_factorized_top_k/top_100_categorical_accuracy: 0.4334 - val_loss: 7119.4326 - val_regularization_loss: 0.0000e+00 - val_total_loss: 7119.4326\n",
      "Epoch 136/300\n",
      "27/27 [==============================] - 169s 6s/step - factorized_top_k/top_1_categorical_accuracy: 0.0060 - factorized_top_k/top_5_categorical_accuracy: 0.0951 - factorized_top_k/top_10_categorical_accuracy: 0.1580 - factorized_top_k/top_50_categorical_accuracy: 0.3352 - factorized_top_k/top_100_categorical_accuracy: 0.4267 - loss: 52315.1585 - regularization_loss: 0.0000e+00 - total_loss: 52315.1585\n",
      "Epoch 137/300\n",
      "27/27 [==============================] - 169s 6s/step - factorized_top_k/top_1_categorical_accuracy: 0.0061 - factorized_top_k/top_5_categorical_accuracy: 0.0951 - factorized_top_k/top_10_categorical_accuracy: 0.1580 - factorized_top_k/top_50_categorical_accuracy: 0.3354 - factorized_top_k/top_100_categorical_accuracy: 0.4268 - loss: 52306.3124 - regularization_loss: 0.0000e+00 - total_loss: 52306.3124\n",
      "Epoch 138/300\n",
      "27/27 [==============================] - 169s 6s/step - factorized_top_k/top_1_categorical_accuracy: 0.0062 - factorized_top_k/top_5_categorical_accuracy: 0.0952 - factorized_top_k/top_10_categorical_accuracy: 0.1584 - factorized_top_k/top_50_categorical_accuracy: 0.3357 - factorized_top_k/top_100_categorical_accuracy: 0.4271 - loss: 52297.5420 - regularization_loss: 0.0000e+00 - total_loss: 52297.5420\n",
      "Epoch 139/300\n",
      "27/27 [==============================] - 169s 6s/step - factorized_top_k/top_1_categorical_accuracy: 0.0063 - factorized_top_k/top_5_categorical_accuracy: 0.0953 - factorized_top_k/top_10_categorical_accuracy: 0.1586 - factorized_top_k/top_50_categorical_accuracy: 0.3359 - factorized_top_k/top_100_categorical_accuracy: 0.4273 - loss: 52288.8431 - regularization_loss: 0.0000e+00 - total_loss: 52288.8431\n",
      "Epoch 140/300\n",
      "27/27 [==============================] - 200s 7s/step - factorized_top_k/top_1_categorical_accuracy: 0.0059 - factorized_top_k/top_5_categorical_accuracy: 0.0954 - factorized_top_k/top_10_categorical_accuracy: 0.1587 - factorized_top_k/top_50_categorical_accuracy: 0.3362 - factorized_top_k/top_100_categorical_accuracy: 0.4275 - loss: 52280.2176 - regularization_loss: 0.0000e+00 - total_loss: 52280.2176 - val_factorized_top_k/top_1_categorical_accuracy: 0.0197 - val_factorized_top_k/top_5_categorical_accuracy: 0.1111 - val_factorized_top_k/top_10_categorical_accuracy: 0.1726 - val_factorized_top_k/top_50_categorical_accuracy: 0.3458 - val_factorized_top_k/top_100_categorical_accuracy: 0.4341 - val_loss: 7112.3784 - val_regularization_loss: 0.0000e+00 - val_total_loss: 7112.3784\n",
      "Epoch 141/300\n",
      "27/27 [==============================] - 170s 6s/step - factorized_top_k/top_1_categorical_accuracy: 0.0062 - factorized_top_k/top_5_categorical_accuracy: 0.0952 - factorized_top_k/top_10_categorical_accuracy: 0.1588 - factorized_top_k/top_50_categorical_accuracy: 0.3363 - factorized_top_k/top_100_categorical_accuracy: 0.4278 - loss: 52271.6646 - regularization_loss: 0.0000e+00 - total_loss: 52271.6646\n",
      "Epoch 142/300\n",
      "27/27 [==============================] - 169s 6s/step - factorized_top_k/top_1_categorical_accuracy: 0.0061 - factorized_top_k/top_5_categorical_accuracy: 0.0954 - factorized_top_k/top_10_categorical_accuracy: 0.1590 - factorized_top_k/top_50_categorical_accuracy: 0.3365 - factorized_top_k/top_100_categorical_accuracy: 0.4280 - loss: 52263.1795 - regularization_loss: 0.0000e+00 - total_loss: 52263.1795\n",
      "Epoch 143/300\n",
      "27/27 [==============================] - 170s 6s/step - factorized_top_k/top_1_categorical_accuracy: 0.0062 - factorized_top_k/top_5_categorical_accuracy: 0.0956 - factorized_top_k/top_10_categorical_accuracy: 0.1593 - factorized_top_k/top_50_categorical_accuracy: 0.3367 - factorized_top_k/top_100_categorical_accuracy: 0.4282 - loss: 52254.7646 - regularization_loss: 0.0000e+00 - total_loss: 52254.7646\n",
      "Epoch 144/300\n",
      "27/27 [==============================] - 168s 6s/step - factorized_top_k/top_1_categorical_accuracy: 0.0061 - factorized_top_k/top_5_categorical_accuracy: 0.0956 - factorized_top_k/top_10_categorical_accuracy: 0.1595 - factorized_top_k/top_50_categorical_accuracy: 0.3370 - factorized_top_k/top_100_categorical_accuracy: 0.4283 - loss: 52246.4189 - regularization_loss: 0.0000e+00 - total_loss: 52246.4189\n",
      "Epoch 145/300\n"
     ]
    },
    {
     "name": "stdout",
     "output_type": "stream",
     "text": [
      "27/27 [==============================] - 200s 7s/step - factorized_top_k/top_1_categorical_accuracy: 0.0061 - factorized_top_k/top_5_categorical_accuracy: 0.0957 - factorized_top_k/top_10_categorical_accuracy: 0.1597 - factorized_top_k/top_50_categorical_accuracy: 0.3372 - factorized_top_k/top_100_categorical_accuracy: 0.4285 - loss: 52238.1378 - regularization_loss: 0.0000e+00 - total_loss: 52238.1378 - val_factorized_top_k/top_1_categorical_accuracy: 0.0201 - val_factorized_top_k/top_5_categorical_accuracy: 0.1119 - val_factorized_top_k/top_10_categorical_accuracy: 0.1736 - val_factorized_top_k/top_50_categorical_accuracy: 0.3468 - val_factorized_top_k/top_100_categorical_accuracy: 0.4349 - val_loss: 7105.5889 - val_regularization_loss: 0.0000e+00 - val_total_loss: 7105.5889\n",
      "Epoch 146/300\n",
      "27/27 [==============================] - 169s 6s/step - factorized_top_k/top_1_categorical_accuracy: 0.0064 - factorized_top_k/top_5_categorical_accuracy: 0.0957 - factorized_top_k/top_10_categorical_accuracy: 0.1598 - factorized_top_k/top_50_categorical_accuracy: 0.3374 - factorized_top_k/top_100_categorical_accuracy: 0.4287 - loss: 52229.9237 - regularization_loss: 0.0000e+00 - total_loss: 52229.9237\n",
      "Epoch 147/300\n",
      "27/27 [==============================] - 168s 6s/step - factorized_top_k/top_1_categorical_accuracy: 0.0062 - factorized_top_k/top_5_categorical_accuracy: 0.0959 - factorized_top_k/top_10_categorical_accuracy: 0.1599 - factorized_top_k/top_50_categorical_accuracy: 0.3375 - factorized_top_k/top_100_categorical_accuracy: 0.4288 - loss: 52221.7758 - regularization_loss: 0.0000e+00 - total_loss: 52221.7758\n",
      "Epoch 148/300\n",
      "27/27 [==============================] - 169s 6s/step - factorized_top_k/top_1_categorical_accuracy: 0.0061 - factorized_top_k/top_5_categorical_accuracy: 0.0957 - factorized_top_k/top_10_categorical_accuracy: 0.1600 - factorized_top_k/top_50_categorical_accuracy: 0.3377 - factorized_top_k/top_100_categorical_accuracy: 0.4290 - loss: 52213.6878 - regularization_loss: 0.0000e+00 - total_loss: 52213.6878\n",
      "Epoch 149/300\n",
      "27/27 [==============================] - 169s 6s/step - factorized_top_k/top_1_categorical_accuracy: 0.0061 - factorized_top_k/top_5_categorical_accuracy: 0.0957 - factorized_top_k/top_10_categorical_accuracy: 0.1602 - factorized_top_k/top_50_categorical_accuracy: 0.3378 - factorized_top_k/top_100_categorical_accuracy: 0.4293 - loss: 52205.6655 - regularization_loss: 0.0000e+00 - total_loss: 52205.6655\n",
      "Epoch 150/300\n",
      "27/27 [==============================] - 200s 7s/step - factorized_top_k/top_1_categorical_accuracy: 0.0061 - factorized_top_k/top_5_categorical_accuracy: 0.0960 - factorized_top_k/top_10_categorical_accuracy: 0.1603 - factorized_top_k/top_50_categorical_accuracy: 0.3381 - factorized_top_k/top_100_categorical_accuracy: 0.4294 - loss: 52197.7052 - regularization_loss: 0.0000e+00 - total_loss: 52197.7052 - val_factorized_top_k/top_1_categorical_accuracy: 0.0206 - val_factorized_top_k/top_5_categorical_accuracy: 0.1118 - val_factorized_top_k/top_10_categorical_accuracy: 0.1737 - val_factorized_top_k/top_50_categorical_accuracy: 0.3475 - val_factorized_top_k/top_100_categorical_accuracy: 0.4357 - val_loss: 7099.0444 - val_regularization_loss: 0.0000e+00 - val_total_loss: 7099.0444\n",
      "Epoch 151/300\n",
      "27/27 [==============================] - 169s 6s/step - factorized_top_k/top_1_categorical_accuracy: 0.0062 - factorized_top_k/top_5_categorical_accuracy: 0.0960 - factorized_top_k/top_10_categorical_accuracy: 0.1603 - factorized_top_k/top_50_categorical_accuracy: 0.3383 - factorized_top_k/top_100_categorical_accuracy: 0.4296 - loss: 52189.8064 - regularization_loss: 0.0000e+00 - total_loss: 52189.8064\n",
      "Epoch 152/300\n",
      "27/27 [==============================] - 168s 6s/step - factorized_top_k/top_1_categorical_accuracy: 0.0060 - factorized_top_k/top_5_categorical_accuracy: 0.0961 - factorized_top_k/top_10_categorical_accuracy: 0.1606 - factorized_top_k/top_50_categorical_accuracy: 0.3387 - factorized_top_k/top_100_categorical_accuracy: 0.4297 - loss: 52181.9662 - regularization_loss: 0.0000e+00 - total_loss: 52181.9662\n",
      "Epoch 153/300\n",
      "27/27 [==============================] - 169s 6s/step - factorized_top_k/top_1_categorical_accuracy: 0.0060 - factorized_top_k/top_5_categorical_accuracy: 0.0961 - factorized_top_k/top_10_categorical_accuracy: 0.1607 - factorized_top_k/top_50_categorical_accuracy: 0.3388 - factorized_top_k/top_100_categorical_accuracy: 0.4298 - loss: 52174.1844 - regularization_loss: 0.0000e+00 - total_loss: 52174.1844\n",
      "Epoch 154/300\n",
      "27/27 [==============================] - 168s 6s/step - factorized_top_k/top_1_categorical_accuracy: 0.0061 - factorized_top_k/top_5_categorical_accuracy: 0.0964 - factorized_top_k/top_10_categorical_accuracy: 0.1611 - factorized_top_k/top_50_categorical_accuracy: 0.3390 - factorized_top_k/top_100_categorical_accuracy: 0.4301 - loss: 52166.4632 - regularization_loss: 0.0000e+00 - total_loss: 52166.4632\n",
      "Epoch 155/300\n",
      "27/27 [==============================] - 199s 7s/step - factorized_top_k/top_1_categorical_accuracy: 0.0062 - factorized_top_k/top_5_categorical_accuracy: 0.0964 - factorized_top_k/top_10_categorical_accuracy: 0.1613 - factorized_top_k/top_50_categorical_accuracy: 0.3391 - factorized_top_k/top_100_categorical_accuracy: 0.4303 - loss: 52158.7969 - regularization_loss: 0.0000e+00 - total_loss: 52158.7969 - val_factorized_top_k/top_1_categorical_accuracy: 0.0201 - val_factorized_top_k/top_5_categorical_accuracy: 0.1122 - val_factorized_top_k/top_10_categorical_accuracy: 0.1749 - val_factorized_top_k/top_50_categorical_accuracy: 0.3489 - val_factorized_top_k/top_100_categorical_accuracy: 0.4365 - val_loss: 7092.7305 - val_regularization_loss: 0.0000e+00 - val_total_loss: 7092.7305\n",
      "Epoch 156/300\n",
      "27/27 [==============================] - 169s 6s/step - factorized_top_k/top_1_categorical_accuracy: 0.0063 - factorized_top_k/top_5_categorical_accuracy: 0.0965 - factorized_top_k/top_10_categorical_accuracy: 0.1614 - factorized_top_k/top_50_categorical_accuracy: 0.3393 - factorized_top_k/top_100_categorical_accuracy: 0.4304 - loss: 52151.1906 - regularization_loss: 0.0000e+00 - total_loss: 52151.1906\n",
      "Epoch 157/300\n",
      "27/27 [==============================] - 168s 6s/step - factorized_top_k/top_1_categorical_accuracy: 0.0062 - factorized_top_k/top_5_categorical_accuracy: 0.0964 - factorized_top_k/top_10_categorical_accuracy: 0.1615 - factorized_top_k/top_50_categorical_accuracy: 0.3395 - factorized_top_k/top_100_categorical_accuracy: 0.4306 - loss: 52143.6371 - regularization_loss: 0.0000e+00 - total_loss: 52143.6371\n",
      "Epoch 158/300\n",
      "27/27 [==============================] - 168s 6s/step - factorized_top_k/top_1_categorical_accuracy: 0.0061 - factorized_top_k/top_5_categorical_accuracy: 0.0964 - factorized_top_k/top_10_categorical_accuracy: 0.1617 - factorized_top_k/top_50_categorical_accuracy: 0.3397 - factorized_top_k/top_100_categorical_accuracy: 0.4308 - loss: 52136.1391 - regularization_loss: 0.0000e+00 - total_loss: 52136.1391\n",
      "Epoch 159/300\n",
      "27/27 [==============================] - 168s 6s/step - factorized_top_k/top_1_categorical_accuracy: 0.0064 - factorized_top_k/top_5_categorical_accuracy: 0.0966 - factorized_top_k/top_10_categorical_accuracy: 0.1618 - factorized_top_k/top_50_categorical_accuracy: 0.3399 - factorized_top_k/top_100_categorical_accuracy: 0.4310 - loss: 52128.6961 - regularization_loss: 0.0000e+00 - total_loss: 52128.6961\n",
      "Epoch 160/300\n",
      "27/27 [==============================] - 200s 7s/step - factorized_top_k/top_1_categorical_accuracy: 0.0062 - factorized_top_k/top_5_categorical_accuracy: 0.0966 - factorized_top_k/top_10_categorical_accuracy: 0.1619 - factorized_top_k/top_50_categorical_accuracy: 0.3401 - factorized_top_k/top_100_categorical_accuracy: 0.4311 - loss: 52121.3069 - regularization_loss: 0.0000e+00 - total_loss: 52121.3069 - val_factorized_top_k/top_1_categorical_accuracy: 0.0200 - val_factorized_top_k/top_5_categorical_accuracy: 0.1127 - val_factorized_top_k/top_10_categorical_accuracy: 0.1759 - val_factorized_top_k/top_50_categorical_accuracy: 0.3496 - val_factorized_top_k/top_100_categorical_accuracy: 0.4371 - val_loss: 7086.6274 - val_regularization_loss: 0.0000e+00 - val_total_loss: 7086.6274\n"
     ]
    },
    {
     "name": "stdout",
     "output_type": "stream",
     "text": [
      "Epoch 161/300\n",
      "27/27 [==============================] - 168s 6s/step - factorized_top_k/top_1_categorical_accuracy: 0.0063 - factorized_top_k/top_5_categorical_accuracy: 0.0969 - factorized_top_k/top_10_categorical_accuracy: 0.1622 - factorized_top_k/top_50_categorical_accuracy: 0.3402 - factorized_top_k/top_100_categorical_accuracy: 0.4312 - loss: 52113.9682 - regularization_loss: 0.0000e+00 - total_loss: 52113.9682\n",
      "Epoch 162/300\n",
      "27/27 [==============================] - 170s 6s/step - factorized_top_k/top_1_categorical_accuracy: 0.0062 - factorized_top_k/top_5_categorical_accuracy: 0.0970 - factorized_top_k/top_10_categorical_accuracy: 0.1623 - factorized_top_k/top_50_categorical_accuracy: 0.3404 - factorized_top_k/top_100_categorical_accuracy: 0.4314 - loss: 52106.6830 - regularization_loss: 0.0000e+00 - total_loss: 52106.6830\n",
      "Epoch 163/300\n",
      "27/27 [==============================] - 168s 6s/step - factorized_top_k/top_1_categorical_accuracy: 0.0062 - factorized_top_k/top_5_categorical_accuracy: 0.0970 - factorized_top_k/top_10_categorical_accuracy: 0.1625 - factorized_top_k/top_50_categorical_accuracy: 0.3405 - factorized_top_k/top_100_categorical_accuracy: 0.4316 - loss: 52099.4498 - regularization_loss: 0.0000e+00 - total_loss: 52099.4498\n",
      "Epoch 164/300\n",
      "27/27 [==============================] - 169s 6s/step - factorized_top_k/top_1_categorical_accuracy: 0.0062 - factorized_top_k/top_5_categorical_accuracy: 0.0970 - factorized_top_k/top_10_categorical_accuracy: 0.1626 - factorized_top_k/top_50_categorical_accuracy: 0.3408 - factorized_top_k/top_100_categorical_accuracy: 0.4317 - loss: 52092.2641 - regularization_loss: 0.0000e+00 - total_loss: 52092.2641\n",
      "Epoch 165/300\n",
      "27/27 [==============================] - 200s 7s/step - factorized_top_k/top_1_categorical_accuracy: 0.0062 - factorized_top_k/top_5_categorical_accuracy: 0.0973 - factorized_top_k/top_10_categorical_accuracy: 0.1629 - factorized_top_k/top_50_categorical_accuracy: 0.3411 - factorized_top_k/top_100_categorical_accuracy: 0.4319 - loss: 52085.1320 - regularization_loss: 0.0000e+00 - total_loss: 52085.1320 - val_factorized_top_k/top_1_categorical_accuracy: 0.0207 - val_factorized_top_k/top_5_categorical_accuracy: 0.1128 - val_factorized_top_k/top_10_categorical_accuracy: 0.1764 - val_factorized_top_k/top_50_categorical_accuracy: 0.3503 - val_factorized_top_k/top_100_categorical_accuracy: 0.4378 - val_loss: 7080.7212 - val_regularization_loss: 0.0000e+00 - val_total_loss: 7080.7212\n",
      "Epoch 166/300\n",
      "27/27 [==============================] - 169s 6s/step - factorized_top_k/top_1_categorical_accuracy: 0.0061 - factorized_top_k/top_5_categorical_accuracy: 0.0972 - factorized_top_k/top_10_categorical_accuracy: 0.1628 - factorized_top_k/top_50_categorical_accuracy: 0.3411 - factorized_top_k/top_100_categorical_accuracy: 0.4320 - loss: 52078.0481 - regularization_loss: 0.0000e+00 - total_loss: 52078.0481\n",
      "Epoch 167/300\n",
      "27/27 [==============================] - 168s 6s/step - factorized_top_k/top_1_categorical_accuracy: 0.0062 - factorized_top_k/top_5_categorical_accuracy: 0.0972 - factorized_top_k/top_10_categorical_accuracy: 0.1632 - factorized_top_k/top_50_categorical_accuracy: 0.3412 - factorized_top_k/top_100_categorical_accuracy: 0.4322 - loss: 52071.0117 - regularization_loss: 0.0000e+00 - total_loss: 52071.0117\n",
      "Epoch 168/300\n",
      "27/27 [==============================] - 169s 6s/step - factorized_top_k/top_1_categorical_accuracy: 0.0062 - factorized_top_k/top_5_categorical_accuracy: 0.0973 - factorized_top_k/top_10_categorical_accuracy: 0.1632 - factorized_top_k/top_50_categorical_accuracy: 0.3415 - factorized_top_k/top_100_categorical_accuracy: 0.4324 - loss: 52064.0227 - regularization_loss: 0.0000e+00 - total_loss: 52064.0227\n",
      "Epoch 169/300\n",
      "27/27 [==============================] - 169s 6s/step - factorized_top_k/top_1_categorical_accuracy: 0.0063 - factorized_top_k/top_5_categorical_accuracy: 0.0973 - factorized_top_k/top_10_categorical_accuracy: 0.1633 - factorized_top_k/top_50_categorical_accuracy: 0.3418 - factorized_top_k/top_100_categorical_accuracy: 0.4326 - loss: 52057.0815 - regularization_loss: 0.0000e+00 - total_loss: 52057.0815\n",
      "Epoch 170/300\n",
      "27/27 [==============================] - 200s 7s/step - factorized_top_k/top_1_categorical_accuracy: 0.0064 - factorized_top_k/top_5_categorical_accuracy: 0.0975 - factorized_top_k/top_10_categorical_accuracy: 0.1637 - factorized_top_k/top_50_categorical_accuracy: 0.3419 - factorized_top_k/top_100_categorical_accuracy: 0.4327 - loss: 52050.1868 - regularization_loss: 0.0000e+00 - total_loss: 52050.1868 - val_factorized_top_k/top_1_categorical_accuracy: 0.0204 - val_factorized_top_k/top_5_categorical_accuracy: 0.1130 - val_factorized_top_k/top_10_categorical_accuracy: 0.1767 - val_factorized_top_k/top_50_categorical_accuracy: 0.3513 - val_factorized_top_k/top_100_categorical_accuracy: 0.4384 - val_loss: 7075.0024 - val_regularization_loss: 0.0000e+00 - val_total_loss: 7075.0024\n",
      "Epoch 171/300\n",
      "27/27 [==============================] - 169s 6s/step - factorized_top_k/top_1_categorical_accuracy: 0.0062 - factorized_top_k/top_5_categorical_accuracy: 0.0977 - factorized_top_k/top_10_categorical_accuracy: 0.1636 - factorized_top_k/top_50_categorical_accuracy: 0.3419 - factorized_top_k/top_100_categorical_accuracy: 0.4329 - loss: 52043.3383 - regularization_loss: 0.0000e+00 - total_loss: 52043.3383\n",
      "Epoch 172/300\n",
      "27/27 [==============================] - 169s 6s/step - factorized_top_k/top_1_categorical_accuracy: 0.0063 - factorized_top_k/top_5_categorical_accuracy: 0.0978 - factorized_top_k/top_10_categorical_accuracy: 0.1637 - factorized_top_k/top_50_categorical_accuracy: 0.3422 - factorized_top_k/top_100_categorical_accuracy: 0.4331 - loss: 52036.5352 - regularization_loss: 0.0000e+00 - total_loss: 52036.5352\n",
      "Epoch 173/300\n",
      "27/27 [==============================] - 169s 6s/step - factorized_top_k/top_1_categorical_accuracy: 0.0062 - factorized_top_k/top_5_categorical_accuracy: 0.0977 - factorized_top_k/top_10_categorical_accuracy: 0.1638 - factorized_top_k/top_50_categorical_accuracy: 0.3423 - factorized_top_k/top_100_categorical_accuracy: 0.4333 - loss: 52029.7757 - regularization_loss: 0.0000e+00 - total_loss: 52029.7757\n",
      "Epoch 174/300\n",
      "27/27 [==============================] - 169s 6s/step - factorized_top_k/top_1_categorical_accuracy: 0.0061 - factorized_top_k/top_5_categorical_accuracy: 0.0978 - factorized_top_k/top_10_categorical_accuracy: 0.1639 - factorized_top_k/top_50_categorical_accuracy: 0.3425 - factorized_top_k/top_100_categorical_accuracy: 0.4335 - loss: 52023.0622 - regularization_loss: 0.0000e+00 - total_loss: 52023.0622\n",
      "Epoch 175/300\n",
      "27/27 [==============================] - 199s 7s/step - factorized_top_k/top_1_categorical_accuracy: 0.0060 - factorized_top_k/top_5_categorical_accuracy: 0.0977 - factorized_top_k/top_10_categorical_accuracy: 0.1640 - factorized_top_k/top_50_categorical_accuracy: 0.3427 - factorized_top_k/top_100_categorical_accuracy: 0.4337 - loss: 52016.3936 - regularization_loss: 0.0000e+00 - total_loss: 52016.3936 - val_factorized_top_k/top_1_categorical_accuracy: 0.0204 - val_factorized_top_k/top_5_categorical_accuracy: 0.1138 - val_factorized_top_k/top_10_categorical_accuracy: 0.1776 - val_factorized_top_k/top_50_categorical_accuracy: 0.3520 - val_factorized_top_k/top_100_categorical_accuracy: 0.4391 - val_loss: 7069.4561 - val_regularization_loss: 0.0000e+00 - val_total_loss: 7069.4561\n",
      "Epoch 176/300\n",
      "27/27 [==============================] - 168s 6s/step - factorized_top_k/top_1_categorical_accuracy: 0.0062 - factorized_top_k/top_5_categorical_accuracy: 0.0980 - factorized_top_k/top_10_categorical_accuracy: 0.1642 - factorized_top_k/top_50_categorical_accuracy: 0.3428 - factorized_top_k/top_100_categorical_accuracy: 0.4338 - loss: 52009.7653 - regularization_loss: 0.0000e+00 - total_loss: 52009.7653\n",
      "Epoch 177/300\n"
     ]
    },
    {
     "name": "stdout",
     "output_type": "stream",
     "text": [
      "27/27 [==============================] - 169s 6s/step - factorized_top_k/top_1_categorical_accuracy: 0.0063 - factorized_top_k/top_5_categorical_accuracy: 0.0979 - factorized_top_k/top_10_categorical_accuracy: 0.1643 - factorized_top_k/top_50_categorical_accuracy: 0.3430 - factorized_top_k/top_100_categorical_accuracy: 0.4340 - loss: 52003.1807 - regularization_loss: 0.0000e+00 - total_loss: 52003.1807\n",
      "Epoch 178/300\n",
      "27/27 [==============================] - 168s 6s/step - factorized_top_k/top_1_categorical_accuracy: 0.0062 - factorized_top_k/top_5_categorical_accuracy: 0.0979 - factorized_top_k/top_10_categorical_accuracy: 0.1643 - factorized_top_k/top_50_categorical_accuracy: 0.3431 - factorized_top_k/top_100_categorical_accuracy: 0.4341 - loss: 51996.6377 - regularization_loss: 0.0000e+00 - total_loss: 51996.6377\n",
      "Epoch 179/300\n",
      "27/27 [==============================] - 169s 6s/step - factorized_top_k/top_1_categorical_accuracy: 0.0063 - factorized_top_k/top_5_categorical_accuracy: 0.0981 - factorized_top_k/top_10_categorical_accuracy: 0.1645 - factorized_top_k/top_50_categorical_accuracy: 0.3432 - factorized_top_k/top_100_categorical_accuracy: 0.4343 - loss: 51990.1352 - regularization_loss: 0.0000e+00 - total_loss: 51990.1352\n",
      "Epoch 180/300\n",
      "27/27 [==============================] - 199s 7s/step - factorized_top_k/top_1_categorical_accuracy: 0.0063 - factorized_top_k/top_5_categorical_accuracy: 0.0983 - factorized_top_k/top_10_categorical_accuracy: 0.1647 - factorized_top_k/top_50_categorical_accuracy: 0.3434 - factorized_top_k/top_100_categorical_accuracy: 0.4345 - loss: 51983.6754 - regularization_loss: 0.0000e+00 - total_loss: 51983.6754 - val_factorized_top_k/top_1_categorical_accuracy: 0.0199 - val_factorized_top_k/top_5_categorical_accuracy: 0.1134 - val_factorized_top_k/top_10_categorical_accuracy: 0.1775 - val_factorized_top_k/top_50_categorical_accuracy: 0.3529 - val_factorized_top_k/top_100_categorical_accuracy: 0.4399 - val_loss: 7064.0742 - val_regularization_loss: 0.0000e+00 - val_total_loss: 7064.0742\n",
      "Epoch 181/300\n",
      "27/27 [==============================] - 168s 6s/step - factorized_top_k/top_1_categorical_accuracy: 0.0063 - factorized_top_k/top_5_categorical_accuracy: 0.0982 - factorized_top_k/top_10_categorical_accuracy: 0.1649 - factorized_top_k/top_50_categorical_accuracy: 0.3435 - factorized_top_k/top_100_categorical_accuracy: 0.4346 - loss: 51977.2557 - regularization_loss: 0.0000e+00 - total_loss: 51977.2557\n",
      "Epoch 182/300\n",
      "27/27 [==============================] - 169s 6s/step - factorized_top_k/top_1_categorical_accuracy: 0.0062 - factorized_top_k/top_5_categorical_accuracy: 0.0983 - factorized_top_k/top_10_categorical_accuracy: 0.1649 - factorized_top_k/top_50_categorical_accuracy: 0.3436 - factorized_top_k/top_100_categorical_accuracy: 0.4348 - loss: 51970.8751 - regularization_loss: 0.0000e+00 - total_loss: 51970.8751\n",
      "Epoch 183/300\n",
      "27/27 [==============================] - 169s 6s/step - factorized_top_k/top_1_categorical_accuracy: 0.0062 - factorized_top_k/top_5_categorical_accuracy: 0.0983 - factorized_top_k/top_10_categorical_accuracy: 0.1651 - factorized_top_k/top_50_categorical_accuracy: 0.3437 - factorized_top_k/top_100_categorical_accuracy: 0.4349 - loss: 51964.5343 - regularization_loss: 0.0000e+00 - total_loss: 51964.5343\n",
      "Epoch 184/300\n",
      "27/27 [==============================] - 169s 6s/step - factorized_top_k/top_1_categorical_accuracy: 0.0064 - factorized_top_k/top_5_categorical_accuracy: 0.0985 - factorized_top_k/top_10_categorical_accuracy: 0.1652 - factorized_top_k/top_50_categorical_accuracy: 0.3440 - factorized_top_k/top_100_categorical_accuracy: 0.4351 - loss: 51958.2331 - regularization_loss: 0.0000e+00 - total_loss: 51958.2331\n",
      "Epoch 185/300\n",
      "27/27 [==============================] - 200s 7s/step - factorized_top_k/top_1_categorical_accuracy: 0.0064 - factorized_top_k/top_5_categorical_accuracy: 0.0985 - factorized_top_k/top_10_categorical_accuracy: 0.1654 - factorized_top_k/top_50_categorical_accuracy: 0.3442 - factorized_top_k/top_100_categorical_accuracy: 0.4352 - loss: 51951.9700 - regularization_loss: 0.0000e+00 - total_loss: 51951.9700 - val_factorized_top_k/top_1_categorical_accuracy: 0.0211 - val_factorized_top_k/top_5_categorical_accuracy: 0.1133 - val_factorized_top_k/top_10_categorical_accuracy: 0.1785 - val_factorized_top_k/top_50_categorical_accuracy: 0.3533 - val_factorized_top_k/top_100_categorical_accuracy: 0.4407 - val_loss: 7058.8447 - val_regularization_loss: 0.0000e+00 - val_total_loss: 7058.8447\n",
      "Epoch 186/300\n",
      "27/27 [==============================] - 169s 6s/step - factorized_top_k/top_1_categorical_accuracy: 0.0060 - factorized_top_k/top_5_categorical_accuracy: 0.0986 - factorized_top_k/top_10_categorical_accuracy: 0.1655 - factorized_top_k/top_50_categorical_accuracy: 0.3444 - factorized_top_k/top_100_categorical_accuracy: 0.4353 - loss: 51945.7444 - regularization_loss: 0.0000e+00 - total_loss: 51945.7444\n",
      "Epoch 187/300\n",
      "27/27 [==============================] - 168s 6s/step - factorized_top_k/top_1_categorical_accuracy: 0.0063 - factorized_top_k/top_5_categorical_accuracy: 0.0985 - factorized_top_k/top_10_categorical_accuracy: 0.1656 - factorized_top_k/top_50_categorical_accuracy: 0.3445 - factorized_top_k/top_100_categorical_accuracy: 0.4355 - loss: 51939.5580 - regularization_loss: 0.0000e+00 - total_loss: 51939.5580\n",
      "Epoch 188/300\n",
      "27/27 [==============================] - 169s 6s/step - factorized_top_k/top_1_categorical_accuracy: 0.0064 - factorized_top_k/top_5_categorical_accuracy: 0.0988 - factorized_top_k/top_10_categorical_accuracy: 0.1656 - factorized_top_k/top_50_categorical_accuracy: 0.3446 - factorized_top_k/top_100_categorical_accuracy: 0.4357 - loss: 51933.4057 - regularization_loss: 0.0000e+00 - total_loss: 51933.4057\n",
      "Epoch 189/300\n",
      "27/27 [==============================] - 168s 6s/step - factorized_top_k/top_1_categorical_accuracy: 0.0062 - factorized_top_k/top_5_categorical_accuracy: 0.0986 - factorized_top_k/top_10_categorical_accuracy: 0.1657 - factorized_top_k/top_50_categorical_accuracy: 0.3449 - factorized_top_k/top_100_categorical_accuracy: 0.4357 - loss: 51927.2937 - regularization_loss: 0.0000e+00 - total_loss: 51927.2937\n",
      "Epoch 190/300\n",
      "27/27 [==============================] - 200s 7s/step - factorized_top_k/top_1_categorical_accuracy: 0.0062 - factorized_top_k/top_5_categorical_accuracy: 0.0988 - factorized_top_k/top_10_categorical_accuracy: 0.1659 - factorized_top_k/top_50_categorical_accuracy: 0.3450 - factorized_top_k/top_100_categorical_accuracy: 0.4359 - loss: 51921.2157 - regularization_loss: 0.0000e+00 - total_loss: 51921.2157 - val_factorized_top_k/top_1_categorical_accuracy: 0.0210 - val_factorized_top_k/top_5_categorical_accuracy: 0.1143 - val_factorized_top_k/top_10_categorical_accuracy: 0.1791 - val_factorized_top_k/top_50_categorical_accuracy: 0.3543 - val_factorized_top_k/top_100_categorical_accuracy: 0.4413 - val_loss: 7053.7632 - val_regularization_loss: 0.0000e+00 - val_total_loss: 7053.7632\n",
      "Epoch 191/300\n",
      "27/27 [==============================] - 169s 6s/step - factorized_top_k/top_1_categorical_accuracy: 0.0063 - factorized_top_k/top_5_categorical_accuracy: 0.0988 - factorized_top_k/top_10_categorical_accuracy: 0.1660 - factorized_top_k/top_50_categorical_accuracy: 0.3451 - factorized_top_k/top_100_categorical_accuracy: 0.4360 - loss: 51915.1731 - regularization_loss: 0.0000e+00 - total_loss: 51915.1731\n",
      "Epoch 192/300\n",
      "27/27 [==============================] - 169s 6s/step - factorized_top_k/top_1_categorical_accuracy: 0.0063 - factorized_top_k/top_5_categorical_accuracy: 0.0989 - factorized_top_k/top_10_categorical_accuracy: 0.1661 - factorized_top_k/top_50_categorical_accuracy: 0.3453 - factorized_top_k/top_100_categorical_accuracy: 0.4361 - loss: 51909.1684 - regularization_loss: 0.0000e+00 - total_loss: 51909.1684\n",
      "Epoch 193/300\n"
     ]
    },
    {
     "name": "stdout",
     "output_type": "stream",
     "text": [
      "27/27 [==============================] - 169s 6s/step - factorized_top_k/top_1_categorical_accuracy: 0.0062 - factorized_top_k/top_5_categorical_accuracy: 0.0989 - factorized_top_k/top_10_categorical_accuracy: 0.1662 - factorized_top_k/top_50_categorical_accuracy: 0.3454 - factorized_top_k/top_100_categorical_accuracy: 0.4362 - loss: 51903.1960 - regularization_loss: 0.0000e+00 - total_loss: 51903.1960\n",
      "Epoch 194/300\n",
      "27/27 [==============================] - 168s 6s/step - factorized_top_k/top_1_categorical_accuracy: 0.0063 - factorized_top_k/top_5_categorical_accuracy: 0.0989 - factorized_top_k/top_10_categorical_accuracy: 0.1663 - factorized_top_k/top_50_categorical_accuracy: 0.3456 - factorized_top_k/top_100_categorical_accuracy: 0.4363 - loss: 51897.2596 - regularization_loss: 0.0000e+00 - total_loss: 51897.2596\n",
      "Epoch 195/300\n",
      "27/27 [==============================] - 200s 7s/step - factorized_top_k/top_1_categorical_accuracy: 0.0064 - factorized_top_k/top_5_categorical_accuracy: 0.0990 - factorized_top_k/top_10_categorical_accuracy: 0.1664 - factorized_top_k/top_50_categorical_accuracy: 0.3459 - factorized_top_k/top_100_categorical_accuracy: 0.4367 - loss: 51891.3587 - regularization_loss: 0.0000e+00 - total_loss: 51891.3587 - val_factorized_top_k/top_1_categorical_accuracy: 0.0210 - val_factorized_top_k/top_5_categorical_accuracy: 0.1144 - val_factorized_top_k/top_10_categorical_accuracy: 0.1796 - val_factorized_top_k/top_50_categorical_accuracy: 0.3549 - val_factorized_top_k/top_100_categorical_accuracy: 0.4421 - val_loss: 7048.8184 - val_regularization_loss: 0.0000e+00 - val_total_loss: 7048.8184\n",
      "Epoch 196/300\n",
      "27/27 [==============================] - 169s 6s/step - factorized_top_k/top_1_categorical_accuracy: 0.0062 - factorized_top_k/top_5_categorical_accuracy: 0.0987 - factorized_top_k/top_10_categorical_accuracy: 0.1665 - factorized_top_k/top_50_categorical_accuracy: 0.3460 - factorized_top_k/top_100_categorical_accuracy: 0.4367 - loss: 51885.4901 - regularization_loss: 0.0000e+00 - total_loss: 51885.4901\n",
      "Epoch 197/300\n",
      "27/27 [==============================] - 169s 6s/step - factorized_top_k/top_1_categorical_accuracy: 0.0064 - factorized_top_k/top_5_categorical_accuracy: 0.0990 - factorized_top_k/top_10_categorical_accuracy: 0.1667 - factorized_top_k/top_50_categorical_accuracy: 0.3463 - factorized_top_k/top_100_categorical_accuracy: 0.4368 - loss: 51879.6536 - regularization_loss: 0.0000e+00 - total_loss: 51879.6536\n",
      "Epoch 198/300\n",
      "27/27 [==============================] - 169s 6s/step - factorized_top_k/top_1_categorical_accuracy: 0.0062 - factorized_top_k/top_5_categorical_accuracy: 0.0992 - factorized_top_k/top_10_categorical_accuracy: 0.1668 - factorized_top_k/top_50_categorical_accuracy: 0.3464 - factorized_top_k/top_100_categorical_accuracy: 0.4371 - loss: 51873.8542 - regularization_loss: 0.0000e+00 - total_loss: 51873.8542\n",
      "Epoch 199/300\n",
      "27/27 [==============================] - 168s 6s/step - factorized_top_k/top_1_categorical_accuracy: 0.0060 - factorized_top_k/top_5_categorical_accuracy: 0.0991 - factorized_top_k/top_10_categorical_accuracy: 0.1669 - factorized_top_k/top_50_categorical_accuracy: 0.3465 - factorized_top_k/top_100_categorical_accuracy: 0.4373 - loss: 51868.0851 - regularization_loss: 0.0000e+00 - total_loss: 51868.0851\n",
      "Epoch 200/300\n",
      "27/27 [==============================] - 200s 7s/step - factorized_top_k/top_1_categorical_accuracy: 0.0062 - factorized_top_k/top_5_categorical_accuracy: 0.0991 - factorized_top_k/top_10_categorical_accuracy: 0.1673 - factorized_top_k/top_50_categorical_accuracy: 0.3467 - factorized_top_k/top_100_categorical_accuracy: 0.4373 - loss: 51862.3475 - regularization_loss: 0.0000e+00 - total_loss: 51862.3475 - val_factorized_top_k/top_1_categorical_accuracy: 0.0209 - val_factorized_top_k/top_5_categorical_accuracy: 0.1145 - val_factorized_top_k/top_10_categorical_accuracy: 0.1802 - val_factorized_top_k/top_50_categorical_accuracy: 0.3558 - val_factorized_top_k/top_100_categorical_accuracy: 0.4428 - val_loss: 7044.0049 - val_regularization_loss: 0.0000e+00 - val_total_loss: 7044.0049\n",
      "Epoch 201/300\n",
      "27/27 [==============================] - 168s 6s/step - factorized_top_k/top_1_categorical_accuracy: 0.0063 - factorized_top_k/top_5_categorical_accuracy: 0.0993 - factorized_top_k/top_10_categorical_accuracy: 0.1672 - factorized_top_k/top_50_categorical_accuracy: 0.3468 - factorized_top_k/top_100_categorical_accuracy: 0.4375 - loss: 51856.6416 - regularization_loss: 0.0000e+00 - total_loss: 51856.6416\n",
      "Epoch 202/300\n",
      "27/27 [==============================] - 169s 6s/step - factorized_top_k/top_1_categorical_accuracy: 0.0063 - factorized_top_k/top_5_categorical_accuracy: 0.0993 - factorized_top_k/top_10_categorical_accuracy: 0.1672 - factorized_top_k/top_50_categorical_accuracy: 0.3470 - factorized_top_k/top_100_categorical_accuracy: 0.4377 - loss: 51850.9700 - regularization_loss: 0.0000e+00 - total_loss: 51850.9700\n",
      "Epoch 203/300\n",
      "27/27 [==============================] - 169s 6s/step - factorized_top_k/top_1_categorical_accuracy: 0.0062 - factorized_top_k/top_5_categorical_accuracy: 0.0994 - factorized_top_k/top_10_categorical_accuracy: 0.1674 - factorized_top_k/top_50_categorical_accuracy: 0.3471 - factorized_top_k/top_100_categorical_accuracy: 0.4377 - loss: 51845.3276 - regularization_loss: 0.0000e+00 - total_loss: 51845.3276\n",
      "Epoch 204/300\n",
      "27/27 [==============================] - 168s 6s/step - factorized_top_k/top_1_categorical_accuracy: 0.0063 - factorized_top_k/top_5_categorical_accuracy: 0.0995 - factorized_top_k/top_10_categorical_accuracy: 0.1676 - factorized_top_k/top_50_categorical_accuracy: 0.3473 - factorized_top_k/top_100_categorical_accuracy: 0.4379 - loss: 51839.7165 - regularization_loss: 0.0000e+00 - total_loss: 51839.7165\n",
      "Epoch 205/300\n",
      "27/27 [==============================] - 200s 7s/step - factorized_top_k/top_1_categorical_accuracy: 0.0064 - factorized_top_k/top_5_categorical_accuracy: 0.0996 - factorized_top_k/top_10_categorical_accuracy: 0.1676 - factorized_top_k/top_50_categorical_accuracy: 0.3474 - factorized_top_k/top_100_categorical_accuracy: 0.4380 - loss: 51834.1356 - regularization_loss: 0.0000e+00 - total_loss: 51834.1356 - val_factorized_top_k/top_1_categorical_accuracy: 0.0208 - val_factorized_top_k/top_5_categorical_accuracy: 0.1152 - val_factorized_top_k/top_10_categorical_accuracy: 0.1815 - val_factorized_top_k/top_50_categorical_accuracy: 0.3566 - val_factorized_top_k/top_100_categorical_accuracy: 0.4431 - val_loss: 7039.3145 - val_regularization_loss: 0.0000e+00 - val_total_loss: 7039.3145\n",
      "Epoch 206/300\n",
      "27/27 [==============================] - 169s 6s/step - factorized_top_k/top_1_categorical_accuracy: 0.0063 - factorized_top_k/top_5_categorical_accuracy: 0.0997 - factorized_top_k/top_10_categorical_accuracy: 0.1677 - factorized_top_k/top_50_categorical_accuracy: 0.3475 - factorized_top_k/top_100_categorical_accuracy: 0.4382 - loss: 51828.5864 - regularization_loss: 0.0000e+00 - total_loss: 51828.5864\n",
      "Epoch 207/300\n",
      "27/27 [==============================] - 169s 6s/step - factorized_top_k/top_1_categorical_accuracy: 0.0063 - factorized_top_k/top_5_categorical_accuracy: 0.0995 - factorized_top_k/top_10_categorical_accuracy: 0.1679 - factorized_top_k/top_50_categorical_accuracy: 0.3477 - factorized_top_k/top_100_categorical_accuracy: 0.4384 - loss: 51823.0665 - regularization_loss: 0.0000e+00 - total_loss: 51823.0665\n",
      "Epoch 208/300\n",
      "27/27 [==============================] - 169s 6s/step - factorized_top_k/top_1_categorical_accuracy: 0.0063 - factorized_top_k/top_5_categorical_accuracy: 0.0998 - factorized_top_k/top_10_categorical_accuracy: 0.1681 - factorized_top_k/top_50_categorical_accuracy: 0.3479 - factorized_top_k/top_100_categorical_accuracy: 0.4384 - loss: 51817.5753 - regularization_loss: 0.0000e+00 - total_loss: 51817.5753\n",
      "Epoch 209/300\n"
     ]
    },
    {
     "name": "stdout",
     "output_type": "stream",
     "text": [
      "27/27 [==============================] - 169s 6s/step - factorized_top_k/top_1_categorical_accuracy: 0.0062 - factorized_top_k/top_5_categorical_accuracy: 0.0996 - factorized_top_k/top_10_categorical_accuracy: 0.1681 - factorized_top_k/top_50_categorical_accuracy: 0.3480 - factorized_top_k/top_100_categorical_accuracy: 0.4386 - loss: 51812.1148 - regularization_loss: 0.0000e+00 - total_loss: 51812.1148\n",
      "Epoch 210/300\n",
      "27/27 [==============================] - 200s 7s/step - factorized_top_k/top_1_categorical_accuracy: 0.0064 - factorized_top_k/top_5_categorical_accuracy: 0.0997 - factorized_top_k/top_10_categorical_accuracy: 0.1681 - factorized_top_k/top_50_categorical_accuracy: 0.3482 - factorized_top_k/top_100_categorical_accuracy: 0.4387 - loss: 51806.6843 - regularization_loss: 0.0000e+00 - total_loss: 51806.6843 - val_factorized_top_k/top_1_categorical_accuracy: 0.0204 - val_factorized_top_k/top_5_categorical_accuracy: 0.1151 - val_factorized_top_k/top_10_categorical_accuracy: 0.1812 - val_factorized_top_k/top_50_categorical_accuracy: 0.3570 - val_factorized_top_k/top_100_categorical_accuracy: 0.4436 - val_loss: 7034.7427 - val_regularization_loss: 0.0000e+00 - val_total_loss: 7034.7427\n",
      "Epoch 211/300\n",
      "27/27 [==============================] - 168s 6s/step - factorized_top_k/top_1_categorical_accuracy: 0.0063 - factorized_top_k/top_5_categorical_accuracy: 0.0997 - factorized_top_k/top_10_categorical_accuracy: 0.1684 - factorized_top_k/top_50_categorical_accuracy: 0.3483 - factorized_top_k/top_100_categorical_accuracy: 0.4388 - loss: 51801.2811 - regularization_loss: 0.0000e+00 - total_loss: 51801.2811\n",
      "Epoch 212/300\n",
      "27/27 [==============================] - 169s 6s/step - factorized_top_k/top_1_categorical_accuracy: 0.0064 - factorized_top_k/top_5_categorical_accuracy: 0.0999 - factorized_top_k/top_10_categorical_accuracy: 0.1683 - factorized_top_k/top_50_categorical_accuracy: 0.3486 - factorized_top_k/top_100_categorical_accuracy: 0.4388 - loss: 51795.9057 - regularization_loss: 0.0000e+00 - total_loss: 51795.9057\n",
      "Epoch 213/300\n",
      "27/27 [==============================] - 169s 6s/step - factorized_top_k/top_1_categorical_accuracy: 0.0064 - factorized_top_k/top_5_categorical_accuracy: 0.1000 - factorized_top_k/top_10_categorical_accuracy: 0.1685 - factorized_top_k/top_50_categorical_accuracy: 0.3486 - factorized_top_k/top_100_categorical_accuracy: 0.4390 - loss: 51790.5589 - regularization_loss: 0.0000e+00 - total_loss: 51790.5589\n",
      "Epoch 214/300\n",
      "27/27 [==============================] - 169s 6s/step - factorized_top_k/top_1_categorical_accuracy: 0.0064 - factorized_top_k/top_5_categorical_accuracy: 0.0999 - factorized_top_k/top_10_categorical_accuracy: 0.1686 - factorized_top_k/top_50_categorical_accuracy: 0.3486 - factorized_top_k/top_100_categorical_accuracy: 0.4391 - loss: 51785.2402 - regularization_loss: 0.0000e+00 - total_loss: 51785.2402\n",
      "Epoch 215/300\n",
      "27/27 [==============================] - 200s 7s/step - factorized_top_k/top_1_categorical_accuracy: 0.0063 - factorized_top_k/top_5_categorical_accuracy: 0.1001 - factorized_top_k/top_10_categorical_accuracy: 0.1687 - factorized_top_k/top_50_categorical_accuracy: 0.3488 - factorized_top_k/top_100_categorical_accuracy: 0.4391 - loss: 51779.9498 - regularization_loss: 0.0000e+00 - total_loss: 51779.9498 - val_factorized_top_k/top_1_categorical_accuracy: 0.0215 - val_factorized_top_k/top_5_categorical_accuracy: 0.1157 - val_factorized_top_k/top_10_categorical_accuracy: 0.1821 - val_factorized_top_k/top_50_categorical_accuracy: 0.3577 - val_factorized_top_k/top_100_categorical_accuracy: 0.4440 - val_loss: 7030.2832 - val_regularization_loss: 0.0000e+00 - val_total_loss: 7030.2832\n",
      "Epoch 216/300\n",
      "27/27 [==============================] - 168s 6s/step - factorized_top_k/top_1_categorical_accuracy: 0.0061 - factorized_top_k/top_5_categorical_accuracy: 0.0999 - factorized_top_k/top_10_categorical_accuracy: 0.1687 - factorized_top_k/top_50_categorical_accuracy: 0.3489 - factorized_top_k/top_100_categorical_accuracy: 0.4391 - loss: 51774.6843 - regularization_loss: 0.0000e+00 - total_loss: 51774.6843\n",
      "Epoch 217/300\n",
      "27/27 [==============================] - 169s 6s/step - factorized_top_k/top_1_categorical_accuracy: 0.0062 - factorized_top_k/top_5_categorical_accuracy: 0.1002 - factorized_top_k/top_10_categorical_accuracy: 0.1690 - factorized_top_k/top_50_categorical_accuracy: 0.3491 - factorized_top_k/top_100_categorical_accuracy: 0.4393 - loss: 51769.4491 - regularization_loss: 0.0000e+00 - total_loss: 51769.4491\n",
      "Epoch 218/300\n",
      "27/27 [==============================] - 169s 6s/step - factorized_top_k/top_1_categorical_accuracy: 0.0063 - factorized_top_k/top_5_categorical_accuracy: 0.1002 - factorized_top_k/top_10_categorical_accuracy: 0.1691 - factorized_top_k/top_50_categorical_accuracy: 0.3492 - factorized_top_k/top_100_categorical_accuracy: 0.4394 - loss: 51764.2367 - regularization_loss: 0.0000e+00 - total_loss: 51764.2367\n",
      "Epoch 219/300\n",
      "27/27 [==============================] - 169s 6s/step - factorized_top_k/top_1_categorical_accuracy: 0.0062 - factorized_top_k/top_5_categorical_accuracy: 0.1002 - factorized_top_k/top_10_categorical_accuracy: 0.1691 - factorized_top_k/top_50_categorical_accuracy: 0.3493 - factorized_top_k/top_100_categorical_accuracy: 0.4396 - loss: 51759.0539 - regularization_loss: 0.0000e+00 - total_loss: 51759.0539\n",
      "Epoch 220/300\n",
      "27/27 [==============================] - 200s 7s/step - factorized_top_k/top_1_categorical_accuracy: 0.0064 - factorized_top_k/top_5_categorical_accuracy: 0.1003 - factorized_top_k/top_10_categorical_accuracy: 0.1691 - factorized_top_k/top_50_categorical_accuracy: 0.3494 - factorized_top_k/top_100_categorical_accuracy: 0.4396 - loss: 51753.8951 - regularization_loss: 0.0000e+00 - total_loss: 51753.8951 - val_factorized_top_k/top_1_categorical_accuracy: 0.0209 - val_factorized_top_k/top_5_categorical_accuracy: 0.1169 - val_factorized_top_k/top_10_categorical_accuracy: 0.1826 - val_factorized_top_k/top_50_categorical_accuracy: 0.3582 - val_factorized_top_k/top_100_categorical_accuracy: 0.4447 - val_loss: 7025.9307 - val_regularization_loss: 0.0000e+00 - val_total_loss: 7025.9307\n",
      "Epoch 221/300\n",
      "27/27 [==============================] - 168s 6s/step - factorized_top_k/top_1_categorical_accuracy: 0.0063 - factorized_top_k/top_5_categorical_accuracy: 0.1003 - factorized_top_k/top_10_categorical_accuracy: 0.1694 - factorized_top_k/top_50_categorical_accuracy: 0.3496 - factorized_top_k/top_100_categorical_accuracy: 0.4398 - loss: 51748.7638 - regularization_loss: 0.0000e+00 - total_loss: 51748.7638\n",
      "Epoch 222/300\n",
      "27/27 [==============================] - 168s 6s/step - factorized_top_k/top_1_categorical_accuracy: 0.0062 - factorized_top_k/top_5_categorical_accuracy: 0.1004 - factorized_top_k/top_10_categorical_accuracy: 0.1695 - factorized_top_k/top_50_categorical_accuracy: 0.3497 - factorized_top_k/top_100_categorical_accuracy: 0.4399 - loss: 51743.6589 - regularization_loss: 0.0000e+00 - total_loss: 51743.6589\n",
      "Epoch 223/300\n",
      "27/27 [==============================] - 169s 6s/step - factorized_top_k/top_1_categorical_accuracy: 0.0065 - factorized_top_k/top_5_categorical_accuracy: 0.1004 - factorized_top_k/top_10_categorical_accuracy: 0.1696 - factorized_top_k/top_50_categorical_accuracy: 0.3499 - factorized_top_k/top_100_categorical_accuracy: 0.4399 - loss: 51738.5788 - regularization_loss: 0.0000e+00 - total_loss: 51738.5788\n",
      "Epoch 224/300\n",
      "27/27 [==============================] - 169s 6s/step - factorized_top_k/top_1_categorical_accuracy: 0.0065 - factorized_top_k/top_5_categorical_accuracy: 0.1005 - factorized_top_k/top_10_categorical_accuracy: 0.1698 - factorized_top_k/top_50_categorical_accuracy: 0.3500 - factorized_top_k/top_100_categorical_accuracy: 0.4401 - loss: 51733.5212 - regularization_loss: 0.0000e+00 - total_loss: 51733.5212\n",
      "Epoch 225/300\n"
     ]
    },
    {
     "name": "stdout",
     "output_type": "stream",
     "text": [
      "27/27 [==============================] - 200s 7s/step - factorized_top_k/top_1_categorical_accuracy: 0.0064 - factorized_top_k/top_5_categorical_accuracy: 0.1003 - factorized_top_k/top_10_categorical_accuracy: 0.1698 - factorized_top_k/top_50_categorical_accuracy: 0.3500 - factorized_top_k/top_100_categorical_accuracy: 0.4402 - loss: 51728.4914 - regularization_loss: 0.0000e+00 - total_loss: 51728.4914 - val_factorized_top_k/top_1_categorical_accuracy: 0.0209 - val_factorized_top_k/top_5_categorical_accuracy: 0.1160 - val_factorized_top_k/top_10_categorical_accuracy: 0.1831 - val_factorized_top_k/top_50_categorical_accuracy: 0.3591 - val_factorized_top_k/top_100_categorical_accuracy: 0.4453 - val_loss: 7021.6807 - val_regularization_loss: 0.0000e+00 - val_total_loss: 7021.6807\n",
      "Epoch 226/300\n",
      "27/27 [==============================] - 169s 6s/step - factorized_top_k/top_1_categorical_accuracy: 0.0062 - factorized_top_k/top_5_categorical_accuracy: 0.1004 - factorized_top_k/top_10_categorical_accuracy: 0.1697 - factorized_top_k/top_50_categorical_accuracy: 0.3503 - factorized_top_k/top_100_categorical_accuracy: 0.4402 - loss: 51723.4845 - regularization_loss: 0.0000e+00 - total_loss: 51723.4845\n",
      "Epoch 227/300\n",
      "27/27 [==============================] - 168s 6s/step - factorized_top_k/top_1_categorical_accuracy: 0.0064 - factorized_top_k/top_5_categorical_accuracy: 0.1005 - factorized_top_k/top_10_categorical_accuracy: 0.1700 - factorized_top_k/top_50_categorical_accuracy: 0.3504 - factorized_top_k/top_100_categorical_accuracy: 0.4404 - loss: 51718.5039 - regularization_loss: 0.0000e+00 - total_loss: 51718.5039\n",
      "Epoch 228/300\n",
      "27/27 [==============================] - 169s 6s/step - factorized_top_k/top_1_categorical_accuracy: 0.0063 - factorized_top_k/top_5_categorical_accuracy: 0.1005 - factorized_top_k/top_10_categorical_accuracy: 0.1701 - factorized_top_k/top_50_categorical_accuracy: 0.3506 - factorized_top_k/top_100_categorical_accuracy: 0.4405 - loss: 51713.5463 - regularization_loss: 0.0000e+00 - total_loss: 51713.5463\n",
      "Epoch 229/300\n",
      "27/27 [==============================] - 169s 6s/step - factorized_top_k/top_1_categorical_accuracy: 0.0061 - factorized_top_k/top_5_categorical_accuracy: 0.1005 - factorized_top_k/top_10_categorical_accuracy: 0.1701 - factorized_top_k/top_50_categorical_accuracy: 0.3506 - factorized_top_k/top_100_categorical_accuracy: 0.4405 - loss: 51708.6134 - regularization_loss: 0.0000e+00 - total_loss: 51708.6134\n",
      "Epoch 230/300\n",
      "27/27 [==============================] - 200s 7s/step - factorized_top_k/top_1_categorical_accuracy: 0.0065 - factorized_top_k/top_5_categorical_accuracy: 0.1006 - factorized_top_k/top_10_categorical_accuracy: 0.1703 - factorized_top_k/top_50_categorical_accuracy: 0.3508 - factorized_top_k/top_100_categorical_accuracy: 0.4407 - loss: 51703.7040 - regularization_loss: 0.0000e+00 - total_loss: 51703.7040 - val_factorized_top_k/top_1_categorical_accuracy: 0.0214 - val_factorized_top_k/top_5_categorical_accuracy: 0.1165 - val_factorized_top_k/top_10_categorical_accuracy: 0.1833 - val_factorized_top_k/top_50_categorical_accuracy: 0.3596 - val_factorized_top_k/top_100_categorical_accuracy: 0.4458 - val_loss: 7017.5303 - val_regularization_loss: 0.0000e+00 - val_total_loss: 7017.5303\n",
      "Epoch 231/300\n",
      "27/27 [==============================] - 169s 6s/step - factorized_top_k/top_1_categorical_accuracy: 0.0066 - factorized_top_k/top_5_categorical_accuracy: 0.1008 - factorized_top_k/top_10_categorical_accuracy: 0.1705 - factorized_top_k/top_50_categorical_accuracy: 0.3508 - factorized_top_k/top_100_categorical_accuracy: 0.4410 - loss: 51698.8170 - regularization_loss: 0.0000e+00 - total_loss: 51698.8170\n",
      "Epoch 232/300\n",
      "27/27 [==============================] - 169s 6s/step - factorized_top_k/top_1_categorical_accuracy: 0.0062 - factorized_top_k/top_5_categorical_accuracy: 0.1007 - factorized_top_k/top_10_categorical_accuracy: 0.1705 - factorized_top_k/top_50_categorical_accuracy: 0.3510 - factorized_top_k/top_100_categorical_accuracy: 0.4411 - loss: 51693.9562 - regularization_loss: 0.0000e+00 - total_loss: 51693.9562\n",
      "Epoch 233/300\n",
      "27/27 [==============================] - 171s 6s/step - factorized_top_k/top_1_categorical_accuracy: 0.0064 - factorized_top_k/top_5_categorical_accuracy: 0.1008 - factorized_top_k/top_10_categorical_accuracy: 0.1707 - factorized_top_k/top_50_categorical_accuracy: 0.3512 - factorized_top_k/top_100_categorical_accuracy: 0.4411 - loss: 51689.1148 - regularization_loss: 0.0000e+00 - total_loss: 51689.1148\n",
      "Epoch 234/300\n",
      "27/27 [==============================] - 169s 6s/step - factorized_top_k/top_1_categorical_accuracy: 0.0066 - factorized_top_k/top_5_categorical_accuracy: 0.1008 - factorized_top_k/top_10_categorical_accuracy: 0.1708 - factorized_top_k/top_50_categorical_accuracy: 0.3514 - factorized_top_k/top_100_categorical_accuracy: 0.4412 - loss: 51684.2987 - regularization_loss: 0.0000e+00 - total_loss: 51684.2987\n",
      "Epoch 235/300\n",
      "27/27 [==============================] - 200s 7s/step - factorized_top_k/top_1_categorical_accuracy: 0.0066 - factorized_top_k/top_5_categorical_accuracy: 0.1010 - factorized_top_k/top_10_categorical_accuracy: 0.1709 - factorized_top_k/top_50_categorical_accuracy: 0.3515 - factorized_top_k/top_100_categorical_accuracy: 0.4414 - loss: 51679.5054 - regularization_loss: 0.0000e+00 - total_loss: 51679.5054 - val_factorized_top_k/top_1_categorical_accuracy: 0.0212 - val_factorized_top_k/top_5_categorical_accuracy: 0.1169 - val_factorized_top_k/top_10_categorical_accuracy: 0.1838 - val_factorized_top_k/top_50_categorical_accuracy: 0.3602 - val_factorized_top_k/top_100_categorical_accuracy: 0.4462 - val_loss: 7013.4712 - val_regularization_loss: 0.0000e+00 - val_total_loss: 7013.4712\n",
      "Epoch 236/300\n",
      "27/27 [==============================] - 175s 6s/step - factorized_top_k/top_1_categorical_accuracy: 0.0064 - factorized_top_k/top_5_categorical_accuracy: 0.1009 - factorized_top_k/top_10_categorical_accuracy: 0.1710 - factorized_top_k/top_50_categorical_accuracy: 0.3515 - factorized_top_k/top_100_categorical_accuracy: 0.4415 - loss: 51674.7330 - regularization_loss: 0.0000e+00 - total_loss: 51674.7330\n",
      "Epoch 237/300\n",
      "27/27 [==============================] - 169s 6s/step - factorized_top_k/top_1_categorical_accuracy: 0.0065 - factorized_top_k/top_5_categorical_accuracy: 0.1011 - factorized_top_k/top_10_categorical_accuracy: 0.1711 - factorized_top_k/top_50_categorical_accuracy: 0.3517 - factorized_top_k/top_100_categorical_accuracy: 0.4416 - loss: 51669.9831 - regularization_loss: 0.0000e+00 - total_loss: 51669.9831\n",
      "Epoch 238/300\n",
      "27/27 [==============================] - 169s 6s/step - factorized_top_k/top_1_categorical_accuracy: 0.0063 - factorized_top_k/top_5_categorical_accuracy: 0.1010 - factorized_top_k/top_10_categorical_accuracy: 0.1711 - factorized_top_k/top_50_categorical_accuracy: 0.3518 - factorized_top_k/top_100_categorical_accuracy: 0.4416 - loss: 51665.2561 - regularization_loss: 0.0000e+00 - total_loss: 51665.2561\n",
      "Epoch 239/300\n",
      "27/27 [==============================] - 168s 6s/step - factorized_top_k/top_1_categorical_accuracy: 0.0062 - factorized_top_k/top_5_categorical_accuracy: 0.1010 - factorized_top_k/top_10_categorical_accuracy: 0.1712 - factorized_top_k/top_50_categorical_accuracy: 0.3519 - factorized_top_k/top_100_categorical_accuracy: 0.4417 - loss: 51660.5499 - regularization_loss: 0.0000e+00 - total_loss: 51660.5499\n",
      "Epoch 240/300\n",
      "27/27 [==============================] - 199s 7s/step - factorized_top_k/top_1_categorical_accuracy: 0.0063 - factorized_top_k/top_5_categorical_accuracy: 0.1009 - factorized_top_k/top_10_categorical_accuracy: 0.1713 - factorized_top_k/top_50_categorical_accuracy: 0.3520 - factorized_top_k/top_100_categorical_accuracy: 0.4418 - loss: 51655.8650 - regularization_loss: 0.0000e+00 - total_loss: 51655.8650 - val_factorized_top_k/top_1_categorical_accuracy: 0.0208 - val_factorized_top_k/top_5_categorical_accuracy: 0.1170 - val_factorized_top_k/top_10_categorical_accuracy: 0.1844 - val_factorized_top_k/top_50_categorical_accuracy: 0.3607 - val_factorized_top_k/top_100_categorical_accuracy: 0.4465 - val_loss: 7009.5024 - val_regularization_loss: 0.0000e+00 - val_total_loss: 7009.5024\n"
     ]
    },
    {
     "name": "stdout",
     "output_type": "stream",
     "text": [
      "Epoch 241/300\n",
      "27/27 [==============================] - 169s 6s/step - factorized_top_k/top_1_categorical_accuracy: 0.0065 - factorized_top_k/top_5_categorical_accuracy: 0.1012 - factorized_top_k/top_10_categorical_accuracy: 0.1715 - factorized_top_k/top_50_categorical_accuracy: 0.3522 - factorized_top_k/top_100_categorical_accuracy: 0.4419 - loss: 51651.2030 - regularization_loss: 0.0000e+00 - total_loss: 51651.2030\n",
      "Epoch 242/300\n",
      "27/27 [==============================] - 168s 6s/step - factorized_top_k/top_1_categorical_accuracy: 0.0064 - factorized_top_k/top_5_categorical_accuracy: 0.1011 - factorized_top_k/top_10_categorical_accuracy: 0.1715 - factorized_top_k/top_50_categorical_accuracy: 0.3523 - factorized_top_k/top_100_categorical_accuracy: 0.4420 - loss: 51646.5607 - regularization_loss: 0.0000e+00 - total_loss: 51646.5607\n",
      "Epoch 243/300\n",
      "27/27 [==============================] - 168s 6s/step - factorized_top_k/top_1_categorical_accuracy: 0.0063 - factorized_top_k/top_5_categorical_accuracy: 0.1014 - factorized_top_k/top_10_categorical_accuracy: 0.1716 - factorized_top_k/top_50_categorical_accuracy: 0.3524 - factorized_top_k/top_100_categorical_accuracy: 0.4421 - loss: 51641.9411 - regularization_loss: 0.0000e+00 - total_loss: 51641.9411\n",
      "Epoch 244/300\n",
      "27/27 [==============================] - 169s 6s/step - factorized_top_k/top_1_categorical_accuracy: 0.0066 - factorized_top_k/top_5_categorical_accuracy: 0.1014 - factorized_top_k/top_10_categorical_accuracy: 0.1718 - factorized_top_k/top_50_categorical_accuracy: 0.3526 - factorized_top_k/top_100_categorical_accuracy: 0.4421 - loss: 51637.3411 - regularization_loss: 0.0000e+00 - total_loss: 51637.3411\n",
      "Epoch 245/300\n",
      "27/27 [==============================] - 200s 7s/step - factorized_top_k/top_1_categorical_accuracy: 0.0064 - factorized_top_k/top_5_categorical_accuracy: 0.1014 - factorized_top_k/top_10_categorical_accuracy: 0.1719 - factorized_top_k/top_50_categorical_accuracy: 0.3526 - factorized_top_k/top_100_categorical_accuracy: 0.4422 - loss: 51632.7637 - regularization_loss: 0.0000e+00 - total_loss: 51632.7637 - val_factorized_top_k/top_1_categorical_accuracy: 0.0206 - val_factorized_top_k/top_5_categorical_accuracy: 0.1173 - val_factorized_top_k/top_10_categorical_accuracy: 0.1845 - val_factorized_top_k/top_50_categorical_accuracy: 0.3611 - val_factorized_top_k/top_100_categorical_accuracy: 0.4472 - val_loss: 7005.6211 - val_regularization_loss: 0.0000e+00 - val_total_loss: 7005.6211\n",
      "Epoch 246/300\n",
      "27/27 [==============================] - 169s 6s/step - factorized_top_k/top_1_categorical_accuracy: 0.0065 - factorized_top_k/top_5_categorical_accuracy: 0.1013 - factorized_top_k/top_10_categorical_accuracy: 0.1718 - factorized_top_k/top_50_categorical_accuracy: 0.3528 - factorized_top_k/top_100_categorical_accuracy: 0.4424 - loss: 51628.2042 - regularization_loss: 0.0000e+00 - total_loss: 51628.2042\n",
      "Epoch 247/300\n",
      "27/27 [==============================] - 169s 6s/step - factorized_top_k/top_1_categorical_accuracy: 0.0064 - factorized_top_k/top_5_categorical_accuracy: 0.1013 - factorized_top_k/top_10_categorical_accuracy: 0.1719 - factorized_top_k/top_50_categorical_accuracy: 0.3530 - factorized_top_k/top_100_categorical_accuracy: 0.4424 - loss: 51623.6656 - regularization_loss: 0.0000e+00 - total_loss: 51623.6656\n",
      "Epoch 248/300\n",
      "27/27 [==============================] - 169s 6s/step - factorized_top_k/top_1_categorical_accuracy: 0.0063 - factorized_top_k/top_5_categorical_accuracy: 0.1014 - factorized_top_k/top_10_categorical_accuracy: 0.1720 - factorized_top_k/top_50_categorical_accuracy: 0.3531 - factorized_top_k/top_100_categorical_accuracy: 0.4424 - loss: 51619.1496 - regularization_loss: 0.0000e+00 - total_loss: 51619.1496\n",
      "Epoch 249/300\n",
      "27/27 [==============================] - 169s 6s/step - factorized_top_k/top_1_categorical_accuracy: 0.0063 - factorized_top_k/top_5_categorical_accuracy: 0.1015 - factorized_top_k/top_10_categorical_accuracy: 0.1720 - factorized_top_k/top_50_categorical_accuracy: 0.3532 - factorized_top_k/top_100_categorical_accuracy: 0.4424 - loss: 51614.6493 - regularization_loss: 0.0000e+00 - total_loss: 51614.6493\n",
      "Epoch 250/300\n",
      "27/27 [==============================] - 200s 7s/step - factorized_top_k/top_1_categorical_accuracy: 0.0063 - factorized_top_k/top_5_categorical_accuracy: 0.1015 - factorized_top_k/top_10_categorical_accuracy: 0.1720 - factorized_top_k/top_50_categorical_accuracy: 0.3534 - factorized_top_k/top_100_categorical_accuracy: 0.4426 - loss: 51610.1709 - regularization_loss: 0.0000e+00 - total_loss: 51610.1709 - val_factorized_top_k/top_1_categorical_accuracy: 0.0203 - val_factorized_top_k/top_5_categorical_accuracy: 0.1175 - val_factorized_top_k/top_10_categorical_accuracy: 0.1852 - val_factorized_top_k/top_50_categorical_accuracy: 0.3620 - val_factorized_top_k/top_100_categorical_accuracy: 0.4473 - val_loss: 7001.8213 - val_regularization_loss: 0.0000e+00 - val_total_loss: 7001.8213\n",
      "Epoch 251/300\n",
      "27/27 [==============================] - 169s 6s/step - factorized_top_k/top_1_categorical_accuracy: 0.0063 - factorized_top_k/top_5_categorical_accuracy: 0.1017 - factorized_top_k/top_10_categorical_accuracy: 0.1722 - factorized_top_k/top_50_categorical_accuracy: 0.3535 - factorized_top_k/top_100_categorical_accuracy: 0.4426 - loss: 51605.7129 - regularization_loss: 0.0000e+00 - total_loss: 51605.7129\n",
      "Epoch 252/300\n",
      "27/27 [==============================] - 169s 6s/step - factorized_top_k/top_1_categorical_accuracy: 0.0065 - factorized_top_k/top_5_categorical_accuracy: 0.1017 - factorized_top_k/top_10_categorical_accuracy: 0.1723 - factorized_top_k/top_50_categorical_accuracy: 0.3536 - factorized_top_k/top_100_categorical_accuracy: 0.4427 - loss: 51601.2751 - regularization_loss: 0.0000e+00 - total_loss: 51601.2751\n",
      "Epoch 253/300\n",
      "27/27 [==============================] - 169s 6s/step - factorized_top_k/top_1_categorical_accuracy: 0.0063 - factorized_top_k/top_5_categorical_accuracy: 0.1017 - factorized_top_k/top_10_categorical_accuracy: 0.1723 - factorized_top_k/top_50_categorical_accuracy: 0.3538 - factorized_top_k/top_100_categorical_accuracy: 0.4428 - loss: 51596.8531 - regularization_loss: 0.0000e+00 - total_loss: 51596.8531\n",
      "Epoch 254/300\n",
      "27/27 [==============================] - 169s 6s/step - factorized_top_k/top_1_categorical_accuracy: 0.0066 - factorized_top_k/top_5_categorical_accuracy: 0.1020 - factorized_top_k/top_10_categorical_accuracy: 0.1726 - factorized_top_k/top_50_categorical_accuracy: 0.3539 - factorized_top_k/top_100_categorical_accuracy: 0.4430 - loss: 51592.4508 - regularization_loss: 0.0000e+00 - total_loss: 51592.4508\n",
      "Epoch 255/300\n",
      "27/27 [==============================] - 200s 7s/step - factorized_top_k/top_1_categorical_accuracy: 0.0064 - factorized_top_k/top_5_categorical_accuracy: 0.1018 - factorized_top_k/top_10_categorical_accuracy: 0.1725 - factorized_top_k/top_50_categorical_accuracy: 0.3540 - factorized_top_k/top_100_categorical_accuracy: 0.4430 - loss: 51588.0698 - regularization_loss: 0.0000e+00 - total_loss: 51588.0698 - val_factorized_top_k/top_1_categorical_accuracy: 0.0208 - val_factorized_top_k/top_5_categorical_accuracy: 0.1180 - val_factorized_top_k/top_10_categorical_accuracy: 0.1855 - val_factorized_top_k/top_50_categorical_accuracy: 0.3624 - val_factorized_top_k/top_100_categorical_accuracy: 0.4479 - val_loss: 6998.0991 - val_regularization_loss: 0.0000e+00 - val_total_loss: 6998.0991\n",
      "Epoch 256/300\n",
      "27/27 [==============================] - 169s 6s/step - factorized_top_k/top_1_categorical_accuracy: 0.0064 - factorized_top_k/top_5_categorical_accuracy: 0.1019 - factorized_top_k/top_10_categorical_accuracy: 0.1727 - factorized_top_k/top_50_categorical_accuracy: 0.3541 - factorized_top_k/top_100_categorical_accuracy: 0.4431 - loss: 51583.7066 - regularization_loss: 0.0000e+00 - total_loss: 51583.7066\n",
      "Epoch 257/300\n"
     ]
    },
    {
     "name": "stdout",
     "output_type": "stream",
     "text": [
      "27/27 [==============================] - 169s 6s/step - factorized_top_k/top_1_categorical_accuracy: 0.0063 - factorized_top_k/top_5_categorical_accuracy: 0.1021 - factorized_top_k/top_10_categorical_accuracy: 0.1728 - factorized_top_k/top_50_categorical_accuracy: 0.3542 - factorized_top_k/top_100_categorical_accuracy: 0.4432 - loss: 51579.3617 - regularization_loss: 0.0000e+00 - total_loss: 51579.3617\n",
      "Epoch 258/300\n",
      "27/27 [==============================] - 173s 6s/step - factorized_top_k/top_1_categorical_accuracy: 0.0064 - factorized_top_k/top_5_categorical_accuracy: 0.1020 - factorized_top_k/top_10_categorical_accuracy: 0.1729 - factorized_top_k/top_50_categorical_accuracy: 0.3544 - factorized_top_k/top_100_categorical_accuracy: 0.4433 - loss: 51575.0354 - regularization_loss: 0.0000e+00 - total_loss: 51575.0354\n",
      "Epoch 259/300\n",
      "27/27 [==============================] - 171s 6s/step - factorized_top_k/top_1_categorical_accuracy: 0.0063 - factorized_top_k/top_5_categorical_accuracy: 0.1022 - factorized_top_k/top_10_categorical_accuracy: 0.1730 - factorized_top_k/top_50_categorical_accuracy: 0.3545 - factorized_top_k/top_100_categorical_accuracy: 0.4435 - loss: 51570.7267 - regularization_loss: 0.0000e+00 - total_loss: 51570.7267\n",
      "Epoch 260/300\n",
      "27/27 [==============================] - 200s 7s/step - factorized_top_k/top_1_categorical_accuracy: 0.0068 - factorized_top_k/top_5_categorical_accuracy: 0.1023 - factorized_top_k/top_10_categorical_accuracy: 0.1731 - factorized_top_k/top_50_categorical_accuracy: 0.3546 - factorized_top_k/top_100_categorical_accuracy: 0.4436 - loss: 51566.4378 - regularization_loss: 0.0000e+00 - total_loss: 51566.4378 - val_factorized_top_k/top_1_categorical_accuracy: 0.0209 - val_factorized_top_k/top_5_categorical_accuracy: 0.1172 - val_factorized_top_k/top_10_categorical_accuracy: 0.1854 - val_factorized_top_k/top_50_categorical_accuracy: 0.3628 - val_factorized_top_k/top_100_categorical_accuracy: 0.4482 - val_loss: 6994.4561 - val_regularization_loss: 0.0000e+00 - val_total_loss: 6994.4561\n",
      "Epoch 261/300\n",
      "27/27 [==============================] - 169s 6s/step - factorized_top_k/top_1_categorical_accuracy: 0.0066 - factorized_top_k/top_5_categorical_accuracy: 0.1024 - factorized_top_k/top_10_categorical_accuracy: 0.1732 - factorized_top_k/top_50_categorical_accuracy: 0.3548 - factorized_top_k/top_100_categorical_accuracy: 0.4437 - loss: 51562.1655 - regularization_loss: 0.0000e+00 - total_loss: 51562.1655\n",
      "Epoch 262/300\n",
      "27/27 [==============================] - 167s 6s/step - factorized_top_k/top_1_categorical_accuracy: 0.0065 - factorized_top_k/top_5_categorical_accuracy: 0.1023 - factorized_top_k/top_10_categorical_accuracy: 0.1732 - factorized_top_k/top_50_categorical_accuracy: 0.3549 - factorized_top_k/top_100_categorical_accuracy: 0.4437 - loss: 51557.9097 - regularization_loss: 0.0000e+00 - total_loss: 51557.9097\n",
      "Epoch 263/300\n",
      "27/27 [==============================] - 167s 6s/step - factorized_top_k/top_1_categorical_accuracy: 0.0063 - factorized_top_k/top_5_categorical_accuracy: 0.1022 - factorized_top_k/top_10_categorical_accuracy: 0.1732 - factorized_top_k/top_50_categorical_accuracy: 0.3550 - factorized_top_k/top_100_categorical_accuracy: 0.4439 - loss: 51553.6748 - regularization_loss: 0.0000e+00 - total_loss: 51553.6748\n",
      "Epoch 264/300\n",
      "27/27 [==============================] - 167s 6s/step - factorized_top_k/top_1_categorical_accuracy: 0.0066 - factorized_top_k/top_5_categorical_accuracy: 0.1025 - factorized_top_k/top_10_categorical_accuracy: 0.1733 - factorized_top_k/top_50_categorical_accuracy: 0.3551 - factorized_top_k/top_100_categorical_accuracy: 0.4439 - loss: 51549.4568 - regularization_loss: 0.0000e+00 - total_loss: 51549.4568\n",
      "Epoch 265/300\n",
      "27/27 [==============================] - 201s 7s/step - factorized_top_k/top_1_categorical_accuracy: 0.0065 - factorized_top_k/top_5_categorical_accuracy: 0.1025 - factorized_top_k/top_10_categorical_accuracy: 0.1733 - factorized_top_k/top_50_categorical_accuracy: 0.3551 - factorized_top_k/top_100_categorical_accuracy: 0.4440 - loss: 51545.2552 - regularization_loss: 0.0000e+00 - total_loss: 51545.2552 - val_factorized_top_k/top_1_categorical_accuracy: 0.0204 - val_factorized_top_k/top_5_categorical_accuracy: 0.1180 - val_factorized_top_k/top_10_categorical_accuracy: 0.1861 - val_factorized_top_k/top_50_categorical_accuracy: 0.3632 - val_factorized_top_k/top_100_categorical_accuracy: 0.4486 - val_loss: 6990.8828 - val_regularization_loss: 0.0000e+00 - val_total_loss: 6990.8828\n",
      "Epoch 266/300\n",
      "27/27 [==============================] - 168s 6s/step - factorized_top_k/top_1_categorical_accuracy: 0.0065 - factorized_top_k/top_5_categorical_accuracy: 0.1025 - factorized_top_k/top_10_categorical_accuracy: 0.1735 - factorized_top_k/top_50_categorical_accuracy: 0.3552 - factorized_top_k/top_100_categorical_accuracy: 0.4441 - loss: 51541.0721 - regularization_loss: 0.0000e+00 - total_loss: 51541.0721\n",
      "Epoch 267/300\n",
      "27/27 [==============================] - 167s 6s/step - factorized_top_k/top_1_categorical_accuracy: 0.0063 - factorized_top_k/top_5_categorical_accuracy: 0.1023 - factorized_top_k/top_10_categorical_accuracy: 0.1735 - factorized_top_k/top_50_categorical_accuracy: 0.3553 - factorized_top_k/top_100_categorical_accuracy: 0.4442 - loss: 51536.9046 - regularization_loss: 0.0000e+00 - total_loss: 51536.9046\n",
      "Epoch 268/300\n",
      "27/27 [==============================] - 170s 6s/step - factorized_top_k/top_1_categorical_accuracy: 0.0064 - factorized_top_k/top_5_categorical_accuracy: 0.1023 - factorized_top_k/top_10_categorical_accuracy: 0.1735 - factorized_top_k/top_50_categorical_accuracy: 0.3554 - factorized_top_k/top_100_categorical_accuracy: 0.4443 - loss: 51532.7556 - regularization_loss: 0.0000e+00 - total_loss: 51532.7556\n",
      "Epoch 269/300\n",
      "27/27 [==============================] - 168s 6s/step - factorized_top_k/top_1_categorical_accuracy: 0.0064 - factorized_top_k/top_5_categorical_accuracy: 0.1025 - factorized_top_k/top_10_categorical_accuracy: 0.1736 - factorized_top_k/top_50_categorical_accuracy: 0.3554 - factorized_top_k/top_100_categorical_accuracy: 0.4444 - loss: 51528.6208 - regularization_loss: 0.0000e+00 - total_loss: 51528.6208\n",
      "Epoch 270/300\n",
      "27/27 [==============================] - 198s 7s/step - factorized_top_k/top_1_categorical_accuracy: 0.0065 - factorized_top_k/top_5_categorical_accuracy: 0.1026 - factorized_top_k/top_10_categorical_accuracy: 0.1737 - factorized_top_k/top_50_categorical_accuracy: 0.3555 - factorized_top_k/top_100_categorical_accuracy: 0.4445 - loss: 51524.5056 - regularization_loss: 0.0000e+00 - total_loss: 51524.5056 - val_factorized_top_k/top_1_categorical_accuracy: 0.0206 - val_factorized_top_k/top_5_categorical_accuracy: 0.1178 - val_factorized_top_k/top_10_categorical_accuracy: 0.1862 - val_factorized_top_k/top_50_categorical_accuracy: 0.3638 - val_factorized_top_k/top_100_categorical_accuracy: 0.4492 - val_loss: 6987.3828 - val_regularization_loss: 0.0000e+00 - val_total_loss: 6987.3828\n",
      "Epoch 271/300\n",
      "27/27 [==============================] - 167s 6s/step - factorized_top_k/top_1_categorical_accuracy: 0.0066 - factorized_top_k/top_5_categorical_accuracy: 0.1027 - factorized_top_k/top_10_categorical_accuracy: 0.1739 - factorized_top_k/top_50_categorical_accuracy: 0.3556 - factorized_top_k/top_100_categorical_accuracy: 0.4447 - loss: 51520.4042 - regularization_loss: 0.0000e+00 - total_loss: 51520.4042\n",
      "Epoch 272/300\n",
      "27/27 [==============================] - 167s 6s/step - factorized_top_k/top_1_categorical_accuracy: 0.0066 - factorized_top_k/top_5_categorical_accuracy: 0.1027 - factorized_top_k/top_10_categorical_accuracy: 0.1738 - factorized_top_k/top_50_categorical_accuracy: 0.3557 - factorized_top_k/top_100_categorical_accuracy: 0.4448 - loss: 51516.3200 - regularization_loss: 0.0000e+00 - total_loss: 51516.3200\n",
      "Epoch 273/300\n"
     ]
    },
    {
     "name": "stdout",
     "output_type": "stream",
     "text": [
      "27/27 [==============================] - 167s 6s/step - factorized_top_k/top_1_categorical_accuracy: 0.0063 - factorized_top_k/top_5_categorical_accuracy: 0.1028 - factorized_top_k/top_10_categorical_accuracy: 0.1741 - factorized_top_k/top_50_categorical_accuracy: 0.3556 - factorized_top_k/top_100_categorical_accuracy: 0.4449 - loss: 51512.2535 - regularization_loss: 0.0000e+00 - total_loss: 51512.2535\n",
      "Epoch 274/300\n",
      "27/27 [==============================] - 167s 6s/step - factorized_top_k/top_1_categorical_accuracy: 0.0064 - factorized_top_k/top_5_categorical_accuracy: 0.1028 - factorized_top_k/top_10_categorical_accuracy: 0.1741 - factorized_top_k/top_50_categorical_accuracy: 0.3559 - factorized_top_k/top_100_categorical_accuracy: 0.4450 - loss: 51508.2016 - regularization_loss: 0.0000e+00 - total_loss: 51508.2016\n",
      "Epoch 275/300\n",
      "27/27 [==============================] - 198s 7s/step - factorized_top_k/top_1_categorical_accuracy: 0.0062 - factorized_top_k/top_5_categorical_accuracy: 0.1026 - factorized_top_k/top_10_categorical_accuracy: 0.1742 - factorized_top_k/top_50_categorical_accuracy: 0.3559 - factorized_top_k/top_100_categorical_accuracy: 0.4451 - loss: 51504.1677 - regularization_loss: 0.0000e+00 - total_loss: 51504.1677 - val_factorized_top_k/top_1_categorical_accuracy: 0.0206 - val_factorized_top_k/top_5_categorical_accuracy: 0.1187 - val_factorized_top_k/top_10_categorical_accuracy: 0.1871 - val_factorized_top_k/top_50_categorical_accuracy: 0.3642 - val_factorized_top_k/top_100_categorical_accuracy: 0.4497 - val_loss: 6983.9487 - val_regularization_loss: 0.0000e+00 - val_total_loss: 6983.9487\n",
      "Epoch 276/300\n",
      "27/27 [==============================] - 167s 6s/step - factorized_top_k/top_1_categorical_accuracy: 0.0065 - factorized_top_k/top_5_categorical_accuracy: 0.1028 - factorized_top_k/top_10_categorical_accuracy: 0.1743 - factorized_top_k/top_50_categorical_accuracy: 0.3560 - factorized_top_k/top_100_categorical_accuracy: 0.4452 - loss: 51500.1483 - regularization_loss: 0.0000e+00 - total_loss: 51500.1483\n",
      "Epoch 277/300\n",
      "27/27 [==============================] - 167s 6s/step - factorized_top_k/top_1_categorical_accuracy: 0.0063 - factorized_top_k/top_5_categorical_accuracy: 0.1029 - factorized_top_k/top_10_categorical_accuracy: 0.1742 - factorized_top_k/top_50_categorical_accuracy: 0.3560 - factorized_top_k/top_100_categorical_accuracy: 0.4453 - loss: 51496.1443 - regularization_loss: 0.0000e+00 - total_loss: 51496.1443\n",
      "Epoch 278/300\n",
      "27/27 [==============================] - 167s 6s/step - factorized_top_k/top_1_categorical_accuracy: 0.0066 - factorized_top_k/top_5_categorical_accuracy: 0.1030 - factorized_top_k/top_10_categorical_accuracy: 0.1744 - factorized_top_k/top_50_categorical_accuracy: 0.3562 - factorized_top_k/top_100_categorical_accuracy: 0.4453 - loss: 51492.1576 - regularization_loss: 0.0000e+00 - total_loss: 51492.1576\n",
      "Epoch 279/300\n",
      "27/27 [==============================] - 168s 6s/step - factorized_top_k/top_1_categorical_accuracy: 0.0065 - factorized_top_k/top_5_categorical_accuracy: 0.1030 - factorized_top_k/top_10_categorical_accuracy: 0.1746 - factorized_top_k/top_50_categorical_accuracy: 0.3564 - factorized_top_k/top_100_categorical_accuracy: 0.4455 - loss: 51488.1851 - regularization_loss: 0.0000e+00 - total_loss: 51488.1851\n",
      "Epoch 280/300\n",
      "27/27 [==============================] - 199s 7s/step - factorized_top_k/top_1_categorical_accuracy: 0.0064 - factorized_top_k/top_5_categorical_accuracy: 0.1031 - factorized_top_k/top_10_categorical_accuracy: 0.1747 - factorized_top_k/top_50_categorical_accuracy: 0.3565 - factorized_top_k/top_100_categorical_accuracy: 0.4456 - loss: 51484.2303 - regularization_loss: 0.0000e+00 - total_loss: 51484.2303 - val_factorized_top_k/top_1_categorical_accuracy: 0.0205 - val_factorized_top_k/top_5_categorical_accuracy: 0.1183 - val_factorized_top_k/top_10_categorical_accuracy: 0.1876 - val_factorized_top_k/top_50_categorical_accuracy: 0.3645 - val_factorized_top_k/top_100_categorical_accuracy: 0.4503 - val_loss: 6980.5796 - val_regularization_loss: 0.0000e+00 - val_total_loss: 6980.5796\n",
      "Epoch 281/300\n",
      "27/27 [==============================] - 167s 6s/step - factorized_top_k/top_1_categorical_accuracy: 0.0065 - factorized_top_k/top_5_categorical_accuracy: 0.1029 - factorized_top_k/top_10_categorical_accuracy: 0.1746 - factorized_top_k/top_50_categorical_accuracy: 0.3565 - factorized_top_k/top_100_categorical_accuracy: 0.4456 - loss: 51480.2879 - regularization_loss: 0.0000e+00 - total_loss: 51480.2879\n",
      "Epoch 282/300\n",
      "27/27 [==============================] - 167s 6s/step - factorized_top_k/top_1_categorical_accuracy: 0.0063 - factorized_top_k/top_5_categorical_accuracy: 0.1029 - factorized_top_k/top_10_categorical_accuracy: 0.1747 - factorized_top_k/top_50_categorical_accuracy: 0.3567 - factorized_top_k/top_100_categorical_accuracy: 0.4457 - loss: 51476.3615 - regularization_loss: 0.0000e+00 - total_loss: 51476.3615\n",
      "Epoch 283/300\n",
      "27/27 [==============================] - 168s 6s/step - factorized_top_k/top_1_categorical_accuracy: 0.0063 - factorized_top_k/top_5_categorical_accuracy: 0.1031 - factorized_top_k/top_10_categorical_accuracy: 0.1749 - factorized_top_k/top_50_categorical_accuracy: 0.3567 - factorized_top_k/top_100_categorical_accuracy: 0.4458 - loss: 51472.4506 - regularization_loss: 0.0000e+00 - total_loss: 51472.4506\n",
      "Epoch 284/300\n",
      "27/27 [==============================] - 167s 6s/step - factorized_top_k/top_1_categorical_accuracy: 0.0065 - factorized_top_k/top_5_categorical_accuracy: 0.1031 - factorized_top_k/top_10_categorical_accuracy: 0.1750 - factorized_top_k/top_50_categorical_accuracy: 0.3568 - factorized_top_k/top_100_categorical_accuracy: 0.4460 - loss: 51468.5559 - regularization_loss: 0.0000e+00 - total_loss: 51468.5559\n",
      "Epoch 285/300\n",
      "27/27 [==============================] - 199s 7s/step - factorized_top_k/top_1_categorical_accuracy: 0.0065 - factorized_top_k/top_5_categorical_accuracy: 0.1031 - factorized_top_k/top_10_categorical_accuracy: 0.1751 - factorized_top_k/top_50_categorical_accuracy: 0.3569 - factorized_top_k/top_100_categorical_accuracy: 0.4460 - loss: 51464.6722 - regularization_loss: 0.0000e+00 - total_loss: 51464.6722 - val_factorized_top_k/top_1_categorical_accuracy: 0.0204 - val_factorized_top_k/top_5_categorical_accuracy: 0.1187 - val_factorized_top_k/top_10_categorical_accuracy: 0.1881 - val_factorized_top_k/top_50_categorical_accuracy: 0.3652 - val_factorized_top_k/top_100_categorical_accuracy: 0.4508 - val_loss: 6977.2744 - val_regularization_loss: 0.0000e+00 - val_total_loss: 6977.2744\n",
      "Epoch 286/300\n",
      "27/27 [==============================] - 167s 6s/step - factorized_top_k/top_1_categorical_accuracy: 0.0068 - factorized_top_k/top_5_categorical_accuracy: 0.1033 - factorized_top_k/top_10_categorical_accuracy: 0.1752 - factorized_top_k/top_50_categorical_accuracy: 0.3571 - factorized_top_k/top_100_categorical_accuracy: 0.4461 - loss: 51460.8072 - regularization_loss: 0.0000e+00 - total_loss: 51460.8072\n",
      "Epoch 287/300\n",
      "27/27 [==============================] - 167s 6s/step - factorized_top_k/top_1_categorical_accuracy: 0.0064 - factorized_top_k/top_5_categorical_accuracy: 0.1031 - factorized_top_k/top_10_categorical_accuracy: 0.1752 - factorized_top_k/top_50_categorical_accuracy: 0.3572 - factorized_top_k/top_100_categorical_accuracy: 0.4462 - loss: 51456.9552 - regularization_loss: 0.0000e+00 - total_loss: 51456.9552\n",
      "Epoch 288/300\n",
      "27/27 [==============================] - 167s 6s/step - factorized_top_k/top_1_categorical_accuracy: 0.0066 - factorized_top_k/top_5_categorical_accuracy: 0.1034 - factorized_top_k/top_10_categorical_accuracy: 0.1754 - factorized_top_k/top_50_categorical_accuracy: 0.3573 - factorized_top_k/top_100_categorical_accuracy: 0.4463 - loss: 51453.1179 - regularization_loss: 0.0000e+00 - total_loss: 51453.1179\n",
      "Epoch 289/300\n"
     ]
    },
    {
     "name": "stdout",
     "output_type": "stream",
     "text": [
      "27/27 [==============================] - 168s 6s/step - factorized_top_k/top_1_categorical_accuracy: 0.0066 - factorized_top_k/top_5_categorical_accuracy: 0.1033 - factorized_top_k/top_10_categorical_accuracy: 0.1755 - factorized_top_k/top_50_categorical_accuracy: 0.3574 - factorized_top_k/top_100_categorical_accuracy: 0.4463 - loss: 51449.2960 - regularization_loss: 0.0000e+00 - total_loss: 51449.2960\n",
      "Epoch 290/300\n",
      "27/27 [==============================] - 198s 7s/step - factorized_top_k/top_1_categorical_accuracy: 0.0062 - factorized_top_k/top_5_categorical_accuracy: 0.1033 - factorized_top_k/top_10_categorical_accuracy: 0.1756 - factorized_top_k/top_50_categorical_accuracy: 0.3575 - factorized_top_k/top_100_categorical_accuracy: 0.4464 - loss: 51445.4865 - regularization_loss: 0.0000e+00 - total_loss: 51445.4865 - val_factorized_top_k/top_1_categorical_accuracy: 0.0208 - val_factorized_top_k/top_5_categorical_accuracy: 0.1195 - val_factorized_top_k/top_10_categorical_accuracy: 0.1885 - val_factorized_top_k/top_50_categorical_accuracy: 0.3658 - val_factorized_top_k/top_100_categorical_accuracy: 0.4511 - val_loss: 6974.0283 - val_regularization_loss: 0.0000e+00 - val_total_loss: 6974.0283\n",
      "Epoch 291/300\n",
      "27/27 [==============================] - 167s 6s/step - factorized_top_k/top_1_categorical_accuracy: 0.0066 - factorized_top_k/top_5_categorical_accuracy: 0.1034 - factorized_top_k/top_10_categorical_accuracy: 0.1756 - factorized_top_k/top_50_categorical_accuracy: 0.3576 - factorized_top_k/top_100_categorical_accuracy: 0.4465 - loss: 51441.6908 - regularization_loss: 0.0000e+00 - total_loss: 51441.6908\n",
      "Epoch 292/300\n",
      "27/27 [==============================] - 167s 6s/step - factorized_top_k/top_1_categorical_accuracy: 0.0066 - factorized_top_k/top_5_categorical_accuracy: 0.1036 - factorized_top_k/top_10_categorical_accuracy: 0.1757 - factorized_top_k/top_50_categorical_accuracy: 0.3577 - factorized_top_k/top_100_categorical_accuracy: 0.4465 - loss: 51437.9116 - regularization_loss: 0.0000e+00 - total_loss: 51437.9116\n",
      "Epoch 293/300\n",
      "27/27 [==============================] - 167s 6s/step - factorized_top_k/top_1_categorical_accuracy: 0.0065 - factorized_top_k/top_5_categorical_accuracy: 0.1034 - factorized_top_k/top_10_categorical_accuracy: 0.1759 - factorized_top_k/top_50_categorical_accuracy: 0.3578 - factorized_top_k/top_100_categorical_accuracy: 0.4466 - loss: 51434.1462 - regularization_loss: 0.0000e+00 - total_loss: 51434.1462\n",
      "Epoch 294/300\n",
      "27/27 [==============================] - 167s 6s/step - factorized_top_k/top_1_categorical_accuracy: 0.0066 - factorized_top_k/top_5_categorical_accuracy: 0.1035 - factorized_top_k/top_10_categorical_accuracy: 0.1759 - factorized_top_k/top_50_categorical_accuracy: 0.3579 - factorized_top_k/top_100_categorical_accuracy: 0.4466 - loss: 51430.3931 - regularization_loss: 0.0000e+00 - total_loss: 51430.3931\n",
      "Epoch 295/300\n",
      "27/27 [==============================] - 198s 7s/step - factorized_top_k/top_1_categorical_accuracy: 0.0065 - factorized_top_k/top_5_categorical_accuracy: 0.1037 - factorized_top_k/top_10_categorical_accuracy: 0.1758 - factorized_top_k/top_50_categorical_accuracy: 0.3580 - factorized_top_k/top_100_categorical_accuracy: 0.4467 - loss: 51426.6554 - regularization_loss: 0.0000e+00 - total_loss: 51426.6554 - val_factorized_top_k/top_1_categorical_accuracy: 0.0208 - val_factorized_top_k/top_5_categorical_accuracy: 0.1196 - val_factorized_top_k/top_10_categorical_accuracy: 0.1886 - val_factorized_top_k/top_50_categorical_accuracy: 0.3661 - val_factorized_top_k/top_100_categorical_accuracy: 0.4514 - val_loss: 6970.8413 - val_regularization_loss: 0.0000e+00 - val_total_loss: 6970.8413\n",
      "Epoch 296/300\n",
      "27/27 [==============================] - 167s 6s/step - factorized_top_k/top_1_categorical_accuracy: 0.0065 - factorized_top_k/top_5_categorical_accuracy: 0.1036 - factorized_top_k/top_10_categorical_accuracy: 0.1759 - factorized_top_k/top_50_categorical_accuracy: 0.3580 - factorized_top_k/top_100_categorical_accuracy: 0.4468 - loss: 51422.9300 - regularization_loss: 0.0000e+00 - total_loss: 51422.9300\n",
      "Epoch 297/300\n",
      "27/27 [==============================] - 167s 6s/step - factorized_top_k/top_1_categorical_accuracy: 0.0067 - factorized_top_k/top_5_categorical_accuracy: 0.1036 - factorized_top_k/top_10_categorical_accuracy: 0.1761 - factorized_top_k/top_50_categorical_accuracy: 0.3581 - factorized_top_k/top_100_categorical_accuracy: 0.4469 - loss: 51419.2171 - regularization_loss: 0.0000e+00 - total_loss: 51419.2171\n",
      "Epoch 298/300\n",
      "27/27 [==============================] - 167s 6s/step - factorized_top_k/top_1_categorical_accuracy: 0.0064 - factorized_top_k/top_5_categorical_accuracy: 0.1037 - factorized_top_k/top_10_categorical_accuracy: 0.1762 - factorized_top_k/top_50_categorical_accuracy: 0.3583 - factorized_top_k/top_100_categorical_accuracy: 0.4470 - loss: 51415.5190 - regularization_loss: 0.0000e+00 - total_loss: 51415.5190\n",
      "Epoch 299/300\n",
      "27/27 [==============================] - 167s 6s/step - factorized_top_k/top_1_categorical_accuracy: 0.0065 - factorized_top_k/top_5_categorical_accuracy: 0.1037 - factorized_top_k/top_10_categorical_accuracy: 0.1763 - factorized_top_k/top_50_categorical_accuracy: 0.3584 - factorized_top_k/top_100_categorical_accuracy: 0.4471 - loss: 51411.8366 - regularization_loss: 0.0000e+00 - total_loss: 51411.8366\n",
      "Epoch 300/300\n",
      "27/27 [==============================] - 199s 7s/step - factorized_top_k/top_1_categorical_accuracy: 0.0066 - factorized_top_k/top_5_categorical_accuracy: 0.1037 - factorized_top_k/top_10_categorical_accuracy: 0.1764 - factorized_top_k/top_50_categorical_accuracy: 0.3585 - factorized_top_k/top_100_categorical_accuracy: 0.4472 - loss: 51408.1643 - regularization_loss: 0.0000e+00 - total_loss: 51408.1643 - val_factorized_top_k/top_1_categorical_accuracy: 0.0205 - val_factorized_top_k/top_5_categorical_accuracy: 0.1194 - val_factorized_top_k/top_10_categorical_accuracy: 0.1891 - val_factorized_top_k/top_50_categorical_accuracy: 0.3666 - val_factorized_top_k/top_100_categorical_accuracy: 0.4517 - val_loss: 6967.7104 - val_regularization_loss: 0.0000e+00 - val_total_loss: 6967.7104\n",
      "Wall time: 14h 48min 2s\n"
     ]
    }
   ],
   "source": [
    "%%time\n",
    "model_1_history = model_1.fit(cached_train,\n",
    "                              epochs=300, \n",
    "                              verbose=1,\n",
    "                              validation_data=cached_val,\n",
    "                              validation_freq=5)"
   ]
  },
  {
   "cell_type": "markdown",
   "id": "a4c1873c",
   "metadata": {},
   "source": [
    "### Save"
   ]
  },
  {
   "cell_type": "code",
   "execution_count": 40,
   "id": "4c00530c",
   "metadata": {},
   "outputs": [],
   "source": [
    "model_1.save_weights('../TFRS/basic/ranking/model_1/model1_ranking_300_epochs_checkpoint')\n",
    "with open('../TFRS/basic/ranking/model_1/model1_history.obj', 'wb') as pickle_file:\n",
    "    pickle.dump(model_1_history.history, pickle_file)"
   ]
  },
  {
   "cell_type": "markdown",
   "id": "2c91469e",
   "metadata": {},
   "source": [
    "### Plot"
   ]
  },
  {
   "cell_type": "code",
   "execution_count": 41,
   "id": "9301747c",
   "metadata": {},
   "outputs": [
    {
     "data": {
      "image/png": "[encoded data removed]",
      "text/plain": [
       "<Figure size 432x288 with 1 Axes>"
      ]
     },
     "metadata": {
      "needs_background": "light"
     },
     "output_type": "display_data"
    }
   ],
   "source": [
    "import matplotlib.pyplot as plt\n",
    "\n",
    "num_validation_runs = len(model_1_history.history[\"val_factorized_top_k/top_100_categorical_accuracy\"])\n",
    "epochs = [(x + 1)* 5 for x in range(num_validation_runs)]\n",
    "\n",
    "plt.plot(epochs, model_1_history.history[\"val_factorized_top_k/top_100_categorical_accuracy\"])\n",
    "plt.title(\"Accuracy vs epoch\")\n",
    "plt.xlabel(\"epoch\")\n",
    "plt.ylabel(\"Top-100 accuracy\");\n",
    "# plt.legend()"
   ]
  },
  {
   "cell_type": "markdown",
   "id": "13c6161d",
   "metadata": {},
   "source": [
    "### Test"
   ]
  },
  {
   "cell_type": "code",
   "execution_count": 45,
   "id": "e47df4ae",
   "metadata": {},
   "outputs": [
    {
     "name": "stdout",
     "output_type": "stream",
     "text": [
      "12/12 [==============================] - 33s 3s/step - factorized_top_k/top_1_categorical_accuracy: 0.0205 - factorized_top_k/top_5_categorical_accuracy: 0.1194 - factorized_top_k/top_10_categorical_accuracy: 0.1891 - factorized_top_k/top_50_categorical_accuracy: 0.3666 - factorized_top_k/top_100_categorical_accuracy: 0.4517 - loss: 21321.1762 - regularization_loss: 0.0000e+00 - total_loss: 21321.1762\n"
     ]
    }
   ],
   "source": [
    "evaluated_model_300epochs = model_1.evaluate(cached_test, return_dict=True)"
   ]
  },
  {
   "cell_type": "code",
   "execution_count": 50,
   "id": "2fb50452",
   "metadata": {},
   "outputs": [
    {
     "name": "stdout",
     "output_type": "stream",
     "text": [
      "Evaluated metrics:\n",
      "factorized_top_k/top_1_categorical_accuracy: 0.020514804869890213\n",
      "factorized_top_k/top_5_categorical_accuracy: 0.11939014494419098\n",
      "factorized_top_k/top_10_categorical_accuracy: 0.18908457458019257\n",
      "factorized_top_k/top_50_categorical_accuracy: 0.3666430115699768\n",
      "factorized_top_k/top_100_categorical_accuracy: 0.4516697824001312\n",
      "loss: 6967.71044921875\n",
      "regularization_loss: 0\n",
      "total_loss: 6967.71044921875\n"
     ]
    }
   ],
   "source": [
    "print(\"Evaluated metrics:\")\n",
    "for metric in evaluated_model_300epochs.items():\n",
    "    print(f\"{metric[0]}: {metric[1]}\")"
   ]
  },
  {
   "cell_type": "code",
   "execution_count": 53,
   "id": "f96ed8fb",
   "metadata": {},
   "outputs": [],
   "source": [
    "index = tfrs.layers.factorized_top_k.BruteForce(model_1.user_model)\n",
    "index.index_from_dataset(tf.data.Dataset.zip((recipes.batch(100), recipes.batch(100).map(model_1.recipe_model))))\n",
    "\n",
    "x, titles = index(tf.constant([b'2695']))"
   ]
  },
  {
   "cell_type": "code",
   "execution_count": 56,
   "id": "a9853942",
   "metadata": {},
   "outputs": [
    {
     "name": "stdout",
     "output_type": "stream",
     "text": [
      "Recommendations for user 42: [b'4807' b'57033' b'104604']\n"
     ]
    }
   ],
   "source": [
    "print(f\"Recommendations for user 42: {titles[0, :3]}\")"
   ]
  },
  {
   "cell_type": "markdown",
   "id": "87732586",
   "metadata": {},
   "source": [
    "## Fit next 100 epochs"
   ]
  },
  {
   "cell_type": "code",
   "execution_count": 58,
   "id": "599fb3d4",
   "metadata": {},
   "outputs": [
    {
     "name": "stdout",
     "output_type": "stream",
     "text": [
      "Epoch 1/100\n",
      "27/27 [==============================] - 172s 6s/step - factorized_top_k/top_1_categorical_accuracy: 0.0066 - factorized_top_k/top_5_categorical_accuracy: 0.1038 - factorized_top_k/top_10_categorical_accuracy: 0.1764 - factorized_top_k/top_50_categorical_accuracy: 0.3586 - factorized_top_k/top_100_categorical_accuracy: 0.4472 - loss: 51404.5057 - regularization_loss: 0.0000e+00 - total_loss: 51404.5057\n",
      "Epoch 2/100\n",
      "27/27 [==============================] - 170s 6s/step - factorized_top_k/top_1_categorical_accuracy: 0.0065 - factorized_top_k/top_5_categorical_accuracy: 0.1038 - factorized_top_k/top_10_categorical_accuracy: 0.1765 - factorized_top_k/top_50_categorical_accuracy: 0.3586 - factorized_top_k/top_100_categorical_accuracy: 0.4473 - loss: 51400.8612 - regularization_loss: 0.0000e+00 - total_loss: 51400.8612\n",
      "Epoch 3/100\n",
      "27/27 [==============================] - 170s 6s/step - factorized_top_k/top_1_categorical_accuracy: 0.0068 - factorized_top_k/top_5_categorical_accuracy: 0.1040 - factorized_top_k/top_10_categorical_accuracy: 0.1766 - factorized_top_k/top_50_categorical_accuracy: 0.3587 - factorized_top_k/top_100_categorical_accuracy: 0.4473 - loss: 51397.2301 - regularization_loss: 0.0000e+00 - total_loss: 51397.2301\n",
      "Epoch 4/100\n",
      "27/27 [==============================] - 168s 6s/step - factorized_top_k/top_1_categorical_accuracy: 0.0068 - factorized_top_k/top_5_categorical_accuracy: 0.1038 - factorized_top_k/top_10_categorical_accuracy: 0.1767 - factorized_top_k/top_50_categorical_accuracy: 0.3587 - factorized_top_k/top_100_categorical_accuracy: 0.4474 - loss: 51393.6104 - regularization_loss: 0.0000e+00 - total_loss: 51393.6104\n",
      "Epoch 5/100\n",
      "27/27 [==============================] - 202s 8s/step - factorized_top_k/top_1_categorical_accuracy: 0.0065 - factorized_top_k/top_5_categorical_accuracy: 0.1039 - factorized_top_k/top_10_categorical_accuracy: 0.1768 - factorized_top_k/top_50_categorical_accuracy: 0.3588 - factorized_top_k/top_100_categorical_accuracy: 0.4475 - loss: 51390.0043 - regularization_loss: 0.0000e+00 - total_loss: 51390.0043 - val_factorized_top_k/top_1_categorical_accuracy: 0.0204 - val_factorized_top_k/top_5_categorical_accuracy: 0.1193 - val_factorized_top_k/top_10_categorical_accuracy: 0.1898 - val_factorized_top_k/top_50_categorical_accuracy: 0.3667 - val_factorized_top_k/top_100_categorical_accuracy: 0.4521 - val_loss: 6964.6348 - val_regularization_loss: 0.0000e+00 - val_total_loss: 6964.6348\n",
      "Epoch 6/100\n",
      "27/27 [==============================] - 170s 6s/step - factorized_top_k/top_1_categorical_accuracy: 0.0067 - factorized_top_k/top_5_categorical_accuracy: 0.1040 - factorized_top_k/top_10_categorical_accuracy: 0.1769 - factorized_top_k/top_50_categorical_accuracy: 0.3589 - factorized_top_k/top_100_categorical_accuracy: 0.4476 - loss: 51386.4120 - regularization_loss: 0.0000e+00 - total_loss: 51386.4120\n",
      "Epoch 7/100\n",
      "27/27 [==============================] - 170s 6s/step - factorized_top_k/top_1_categorical_accuracy: 0.0065 - factorized_top_k/top_5_categorical_accuracy: 0.1038 - factorized_top_k/top_10_categorical_accuracy: 0.1768 - factorized_top_k/top_50_categorical_accuracy: 0.3589 - factorized_top_k/top_100_categorical_accuracy: 0.4477 - loss: 51382.8297 - regularization_loss: 0.0000e+00 - total_loss: 51382.8297\n",
      "Epoch 8/100\n",
      "27/27 [==============================] - 170s 6s/step - factorized_top_k/top_1_categorical_accuracy: 0.0068 - factorized_top_k/top_5_categorical_accuracy: 0.1041 - factorized_top_k/top_10_categorical_accuracy: 0.1770 - factorized_top_k/top_50_categorical_accuracy: 0.3590 - factorized_top_k/top_100_categorical_accuracy: 0.4477 - loss: 51379.2609 - regularization_loss: 0.0000e+00 - total_loss: 51379.2609\n",
      "Epoch 9/100\n",
      "27/27 [==============================] - 170s 6s/step - factorized_top_k/top_1_categorical_accuracy: 0.0067 - factorized_top_k/top_5_categorical_accuracy: 0.1041 - factorized_top_k/top_10_categorical_accuracy: 0.1770 - factorized_top_k/top_50_categorical_accuracy: 0.3591 - factorized_top_k/top_100_categorical_accuracy: 0.4478 - loss: 51375.7062 - regularization_loss: 0.0000e+00 - total_loss: 51375.7062\n",
      "Epoch 10/100\n",
      "27/27 [==============================] - 201s 7s/step - factorized_top_k/top_1_categorical_accuracy: 0.0066 - factorized_top_k/top_5_categorical_accuracy: 0.1040 - factorized_top_k/top_10_categorical_accuracy: 0.1771 - factorized_top_k/top_50_categorical_accuracy: 0.3592 - factorized_top_k/top_100_categorical_accuracy: 0.4480 - loss: 51372.1624 - regularization_loss: 0.0000e+00 - total_loss: 51372.1624 - val_factorized_top_k/top_1_categorical_accuracy: 0.0215 - val_factorized_top_k/top_5_categorical_accuracy: 0.1196 - val_factorized_top_k/top_10_categorical_accuracy: 0.1899 - val_factorized_top_k/top_50_categorical_accuracy: 0.3671 - val_factorized_top_k/top_100_categorical_accuracy: 0.4524 - val_loss: 6961.6118 - val_regularization_loss: 0.0000e+00 - val_total_loss: 6961.6118\n",
      "Epoch 11/100\n",
      "27/27 [==============================] - 170s 6s/step - factorized_top_k/top_1_categorical_accuracy: 0.0066 - factorized_top_k/top_5_categorical_accuracy: 0.1041 - factorized_top_k/top_10_categorical_accuracy: 0.1771 - factorized_top_k/top_50_categorical_accuracy: 0.3593 - factorized_top_k/top_100_categorical_accuracy: 0.4480 - loss: 51368.6309 - regularization_loss: 0.0000e+00 - total_loss: 51368.6309\n",
      "Epoch 12/100\n",
      "27/27 [==============================] - 171s 6s/step - factorized_top_k/top_1_categorical_accuracy: 0.0066 - factorized_top_k/top_5_categorical_accuracy: 0.1042 - factorized_top_k/top_10_categorical_accuracy: 0.1772 - factorized_top_k/top_50_categorical_accuracy: 0.3594 - factorized_top_k/top_100_categorical_accuracy: 0.4481 - loss: 51365.1115 - regularization_loss: 0.0000e+00 - total_loss: 51365.1115\n",
      "Epoch 13/100\n",
      "27/27 [==============================] - 170s 6s/step - factorized_top_k/top_1_categorical_accuracy: 0.0066 - factorized_top_k/top_5_categorical_accuracy: 0.1041 - factorized_top_k/top_10_categorical_accuracy: 0.1771 - factorized_top_k/top_50_categorical_accuracy: 0.3595 - factorized_top_k/top_100_categorical_accuracy: 0.4481 - loss: 51361.6063 - regularization_loss: 0.0000e+00 - total_loss: 51361.6063\n",
      "Epoch 14/100\n",
      "27/27 [==============================] - 171s 6s/step - factorized_top_k/top_1_categorical_accuracy: 0.0066 - factorized_top_k/top_5_categorical_accuracy: 0.1042 - factorized_top_k/top_10_categorical_accuracy: 0.1774 - factorized_top_k/top_50_categorical_accuracy: 0.3595 - factorized_top_k/top_100_categorical_accuracy: 0.4482 - loss: 51358.1115 - regularization_loss: 0.0000e+00 - total_loss: 51358.1115\n",
      "Epoch 15/100\n",
      "27/27 [==============================] - 202s 8s/step - factorized_top_k/top_1_categorical_accuracy: 0.0067 - factorized_top_k/top_5_categorical_accuracy: 0.1041 - factorized_top_k/top_10_categorical_accuracy: 0.1774 - factorized_top_k/top_50_categorical_accuracy: 0.3596 - factorized_top_k/top_100_categorical_accuracy: 0.4483 - loss: 51354.6288 - regularization_loss: 0.0000e+00 - total_loss: 51354.6288 - val_factorized_top_k/top_1_categorical_accuracy: 0.0207 - val_factorized_top_k/top_5_categorical_accuracy: 0.1195 - val_factorized_top_k/top_10_categorical_accuracy: 0.1904 - val_factorized_top_k/top_50_categorical_accuracy: 0.3673 - val_factorized_top_k/top_100_categorical_accuracy: 0.4525 - val_loss: 6958.6387 - val_regularization_loss: 0.0000e+00 - val_total_loss: 6958.6387\n",
      "Epoch 16/100\n",
      "27/27 [==============================] - 170s 6s/step - factorized_top_k/top_1_categorical_accuracy: 0.0065 - factorized_top_k/top_5_categorical_accuracy: 0.1044 - factorized_top_k/top_10_categorical_accuracy: 0.1775 - factorized_top_k/top_50_categorical_accuracy: 0.3596 - factorized_top_k/top_100_categorical_accuracy: 0.4483 - loss: 51351.1557 - regularization_loss: 0.0000e+00 - total_loss: 51351.1557\n",
      "Epoch 17/100\n"
     ]
    },
    {
     "name": "stdout",
     "output_type": "stream",
     "text": [
      "27/27 [==============================] - 171s 6s/step - factorized_top_k/top_1_categorical_accuracy: 0.0065 - factorized_top_k/top_5_categorical_accuracy: 0.1043 - factorized_top_k/top_10_categorical_accuracy: 0.1776 - factorized_top_k/top_50_categorical_accuracy: 0.3597 - factorized_top_k/top_100_categorical_accuracy: 0.4484 - loss: 51347.6996 - regularization_loss: 0.0000e+00 - total_loss: 51347.6996\n",
      "Epoch 18/100\n",
      "27/27 [==============================] - 171s 6s/step - factorized_top_k/top_1_categorical_accuracy: 0.0065 - factorized_top_k/top_5_categorical_accuracy: 0.1043 - factorized_top_k/top_10_categorical_accuracy: 0.1777 - factorized_top_k/top_50_categorical_accuracy: 0.3599 - factorized_top_k/top_100_categorical_accuracy: 0.4485 - loss: 51344.2503 - regularization_loss: 0.0000e+00 - total_loss: 51344.2503\n",
      "Epoch 19/100\n",
      "27/27 [==============================] - 171s 6s/step - factorized_top_k/top_1_categorical_accuracy: 0.0066 - factorized_top_k/top_5_categorical_accuracy: 0.1042 - factorized_top_k/top_10_categorical_accuracy: 0.1778 - factorized_top_k/top_50_categorical_accuracy: 0.3599 - factorized_top_k/top_100_categorical_accuracy: 0.4486 - loss: 51340.8157 - regularization_loss: 0.0000e+00 - total_loss: 51340.8157\n",
      "Epoch 20/100\n",
      "27/27 [==============================] - 203s 8s/step - factorized_top_k/top_1_categorical_accuracy: 0.0066 - factorized_top_k/top_5_categorical_accuracy: 0.1043 - factorized_top_k/top_10_categorical_accuracy: 0.1779 - factorized_top_k/top_50_categorical_accuracy: 0.3600 - factorized_top_k/top_100_categorical_accuracy: 0.4487 - loss: 51337.3922 - regularization_loss: 0.0000e+00 - total_loss: 51337.3922 - val_factorized_top_k/top_1_categorical_accuracy: 0.0214 - val_factorized_top_k/top_5_categorical_accuracy: 0.1197 - val_factorized_top_k/top_10_categorical_accuracy: 0.1908 - val_factorized_top_k/top_50_categorical_accuracy: 0.3676 - val_factorized_top_k/top_100_categorical_accuracy: 0.4530 - val_loss: 6955.7163 - val_regularization_loss: 0.0000e+00 - val_total_loss: 6955.7163\n",
      "Epoch 21/100\n",
      "27/27 [==============================] - 172s 6s/step - factorized_top_k/top_1_categorical_accuracy: 0.0064 - factorized_top_k/top_5_categorical_accuracy: 0.1041 - factorized_top_k/top_10_categorical_accuracy: 0.1780 - factorized_top_k/top_50_categorical_accuracy: 0.3602 - factorized_top_k/top_100_categorical_accuracy: 0.4487 - loss: 51333.9788 - regularization_loss: 0.0000e+00 - total_loss: 51333.9788\n",
      "Epoch 22/100\n",
      "27/27 [==============================] - 170s 6s/step - factorized_top_k/top_1_categorical_accuracy: 0.0066 - factorized_top_k/top_5_categorical_accuracy: 0.1043 - factorized_top_k/top_10_categorical_accuracy: 0.1778 - factorized_top_k/top_50_categorical_accuracy: 0.3603 - factorized_top_k/top_100_categorical_accuracy: 0.4488 - loss: 51330.5784 - regularization_loss: 0.0000e+00 - total_loss: 51330.5784\n",
      "Epoch 23/100\n",
      "27/27 [==============================] - 167s 6s/step - factorized_top_k/top_1_categorical_accuracy: 0.0067 - factorized_top_k/top_5_categorical_accuracy: 0.1047 - factorized_top_k/top_10_categorical_accuracy: 0.1780 - factorized_top_k/top_50_categorical_accuracy: 0.3603 - factorized_top_k/top_100_categorical_accuracy: 0.4488 - loss: 51327.1892 - regularization_loss: 0.0000e+00 - total_loss: 51327.1892\n",
      "Epoch 24/100\n",
      "27/27 [==============================] - 168s 6s/step - factorized_top_k/top_1_categorical_accuracy: 0.0065 - factorized_top_k/top_5_categorical_accuracy: 0.1045 - factorized_top_k/top_10_categorical_accuracy: 0.1780 - factorized_top_k/top_50_categorical_accuracy: 0.3604 - factorized_top_k/top_100_categorical_accuracy: 0.4489 - loss: 51323.8080 - regularization_loss: 0.0000e+00 - total_loss: 51323.8080\n",
      "Epoch 25/100\n",
      "27/27 [==============================] - 199s 7s/step - factorized_top_k/top_1_categorical_accuracy: 0.0065 - factorized_top_k/top_5_categorical_accuracy: 0.1044 - factorized_top_k/top_10_categorical_accuracy: 0.1782 - factorized_top_k/top_50_categorical_accuracy: 0.3604 - factorized_top_k/top_100_categorical_accuracy: 0.4490 - loss: 51320.4406 - regularization_loss: 0.0000e+00 - total_loss: 51320.4406 - val_factorized_top_k/top_1_categorical_accuracy: 0.0207 - val_factorized_top_k/top_5_categorical_accuracy: 0.1201 - val_factorized_top_k/top_10_categorical_accuracy: 0.1915 - val_factorized_top_k/top_50_categorical_accuracy: 0.3681 - val_factorized_top_k/top_100_categorical_accuracy: 0.4533 - val_loss: 6952.8418 - val_regularization_loss: 0.0000e+00 - val_total_loss: 6952.8418\n",
      "Epoch 26/100\n",
      "27/27 [==============================] - 168s 6s/step - factorized_top_k/top_1_categorical_accuracy: 0.0064 - factorized_top_k/top_5_categorical_accuracy: 0.1044 - factorized_top_k/top_10_categorical_accuracy: 0.1782 - factorized_top_k/top_50_categorical_accuracy: 0.3605 - factorized_top_k/top_100_categorical_accuracy: 0.4491 - loss: 51317.0838 - regularization_loss: 0.0000e+00 - total_loss: 51317.0838\n",
      "Epoch 27/100\n",
      "27/27 [==============================] - 168s 6s/step - factorized_top_k/top_1_categorical_accuracy: 0.0066 - factorized_top_k/top_5_categorical_accuracy: 0.1044 - factorized_top_k/top_10_categorical_accuracy: 0.1782 - factorized_top_k/top_50_categorical_accuracy: 0.3607 - factorized_top_k/top_100_categorical_accuracy: 0.4492 - loss: 51313.7395 - regularization_loss: 0.0000e+00 - total_loss: 51313.7395\n",
      "Epoch 28/100\n",
      "27/27 [==============================] - 167s 6s/step - factorized_top_k/top_1_categorical_accuracy: 0.0065 - factorized_top_k/top_5_categorical_accuracy: 0.1047 - factorized_top_k/top_10_categorical_accuracy: 0.1785 - factorized_top_k/top_50_categorical_accuracy: 0.3608 - factorized_top_k/top_100_categorical_accuracy: 0.4493 - loss: 51310.4054 - regularization_loss: 0.0000e+00 - total_loss: 51310.4054\n",
      "Epoch 29/100\n",
      "27/27 [==============================] - 168s 6s/step - factorized_top_k/top_1_categorical_accuracy: 0.0066 - factorized_top_k/top_5_categorical_accuracy: 0.1046 - factorized_top_k/top_10_categorical_accuracy: 0.1785 - factorized_top_k/top_50_categorical_accuracy: 0.3609 - factorized_top_k/top_100_categorical_accuracy: 0.4494 - loss: 51307.0827 - regularization_loss: 0.0000e+00 - total_loss: 51307.0827\n",
      "Epoch 30/100\n",
      "27/27 [==============================] - 199s 7s/step - factorized_top_k/top_1_categorical_accuracy: 0.0066 - factorized_top_k/top_5_categorical_accuracy: 0.1046 - factorized_top_k/top_10_categorical_accuracy: 0.1785 - factorized_top_k/top_50_categorical_accuracy: 0.3610 - factorized_top_k/top_100_categorical_accuracy: 0.4494 - loss: 51303.7680 - regularization_loss: 0.0000e+00 - total_loss: 51303.7680 - val_factorized_top_k/top_1_categorical_accuracy: 0.0210 - val_factorized_top_k/top_5_categorical_accuracy: 0.1200 - val_factorized_top_k/top_10_categorical_accuracy: 0.1914 - val_factorized_top_k/top_50_categorical_accuracy: 0.3683 - val_factorized_top_k/top_100_categorical_accuracy: 0.4535 - val_loss: 6950.0122 - val_regularization_loss: 0.0000e+00 - val_total_loss: 6950.0122\n",
      "Epoch 31/100\n",
      "27/27 [==============================] - 171s 6s/step - factorized_top_k/top_1_categorical_accuracy: 0.0065 - factorized_top_k/top_5_categorical_accuracy: 0.1044 - factorized_top_k/top_10_categorical_accuracy: 0.1786 - factorized_top_k/top_50_categorical_accuracy: 0.3611 - factorized_top_k/top_100_categorical_accuracy: 0.4495 - loss: 51300.4678 - regularization_loss: 0.0000e+00 - total_loss: 51300.4678\n",
      "Epoch 32/100\n",
      "27/27 [==============================] - 171s 6s/step - factorized_top_k/top_1_categorical_accuracy: 0.0065 - factorized_top_k/top_5_categorical_accuracy: 0.1046 - factorized_top_k/top_10_categorical_accuracy: 0.1785 - factorized_top_k/top_50_categorical_accuracy: 0.3611 - factorized_top_k/top_100_categorical_accuracy: 0.4496 - loss: 51297.1744 - regularization_loss: 0.0000e+00 - total_loss: 51297.1744\n",
      "Epoch 33/100\n"
     ]
    },
    {
     "name": "stdout",
     "output_type": "stream",
     "text": [
      "27/27 [==============================] - 171s 6s/step - factorized_top_k/top_1_categorical_accuracy: 0.0064 - factorized_top_k/top_5_categorical_accuracy: 0.1045 - factorized_top_k/top_10_categorical_accuracy: 0.1785 - factorized_top_k/top_50_categorical_accuracy: 0.3612 - factorized_top_k/top_100_categorical_accuracy: 0.4496 - loss: 51293.8931 - regularization_loss: 0.0000e+00 - total_loss: 51293.8931\n",
      "Epoch 34/100\n",
      "27/27 [==============================] - 171s 6s/step - factorized_top_k/top_1_categorical_accuracy: 0.0066 - factorized_top_k/top_5_categorical_accuracy: 0.1048 - factorized_top_k/top_10_categorical_accuracy: 0.1787 - factorized_top_k/top_50_categorical_accuracy: 0.3612 - factorized_top_k/top_100_categorical_accuracy: 0.4497 - loss: 51290.6247 - regularization_loss: 0.0000e+00 - total_loss: 51290.6247\n",
      "Epoch 35/100\n",
      "27/27 [==============================] - 202s 8s/step - factorized_top_k/top_1_categorical_accuracy: 0.0067 - factorized_top_k/top_5_categorical_accuracy: 0.1046 - factorized_top_k/top_10_categorical_accuracy: 0.1789 - factorized_top_k/top_50_categorical_accuracy: 0.3613 - factorized_top_k/top_100_categorical_accuracy: 0.4498 - loss: 51287.3655 - regularization_loss: 0.0000e+00 - total_loss: 51287.3655 - val_factorized_top_k/top_1_categorical_accuracy: 0.0210 - val_factorized_top_k/top_5_categorical_accuracy: 0.1201 - val_factorized_top_k/top_10_categorical_accuracy: 0.1920 - val_factorized_top_k/top_50_categorical_accuracy: 0.3684 - val_factorized_top_k/top_100_categorical_accuracy: 0.4539 - val_loss: 6947.2290 - val_regularization_loss: 0.0000e+00 - val_total_loss: 6947.2290\n",
      "Epoch 36/100\n",
      "27/27 [==============================] - 171s 6s/step - factorized_top_k/top_1_categorical_accuracy: 0.0065 - factorized_top_k/top_5_categorical_accuracy: 0.1048 - factorized_top_k/top_10_categorical_accuracy: 0.1788 - factorized_top_k/top_50_categorical_accuracy: 0.3615 - factorized_top_k/top_100_categorical_accuracy: 0.4498 - loss: 51284.1166 - regularization_loss: 0.0000e+00 - total_loss: 51284.1166\n",
      "Epoch 37/100\n",
      "27/27 [==============================] - 173s 6s/step - factorized_top_k/top_1_categorical_accuracy: 0.0070 - factorized_top_k/top_5_categorical_accuracy: 0.1050 - factorized_top_k/top_10_categorical_accuracy: 0.1792 - factorized_top_k/top_50_categorical_accuracy: 0.3615 - factorized_top_k/top_100_categorical_accuracy: 0.4499 - loss: 51280.8796 - regularization_loss: 0.0000e+00 - total_loss: 51280.8796\n",
      "Epoch 38/100\n",
      "27/27 [==============================] - 172s 6s/step - factorized_top_k/top_1_categorical_accuracy: 0.0069 - factorized_top_k/top_5_categorical_accuracy: 0.1050 - factorized_top_k/top_10_categorical_accuracy: 0.1791 - factorized_top_k/top_50_categorical_accuracy: 0.3616 - factorized_top_k/top_100_categorical_accuracy: 0.4499 - loss: 51277.6511 - regularization_loss: 0.0000e+00 - total_loss: 51277.6511\n",
      "Epoch 39/100\n",
      "27/27 [==============================] - 173s 6s/step - factorized_top_k/top_1_categorical_accuracy: 0.0067 - factorized_top_k/top_5_categorical_accuracy: 0.1049 - factorized_top_k/top_10_categorical_accuracy: 0.1791 - factorized_top_k/top_50_categorical_accuracy: 0.3617 - factorized_top_k/top_100_categorical_accuracy: 0.4500 - loss: 51274.4304 - regularization_loss: 0.0000e+00 - total_loss: 51274.4304\n",
      "Epoch 40/100\n",
      "27/27 [==============================] - 204s 8s/step - factorized_top_k/top_1_categorical_accuracy: 0.0067 - factorized_top_k/top_5_categorical_accuracy: 0.1050 - factorized_top_k/top_10_categorical_accuracy: 0.1791 - factorized_top_k/top_50_categorical_accuracy: 0.3618 - factorized_top_k/top_100_categorical_accuracy: 0.4501 - loss: 51271.2239 - regularization_loss: 0.0000e+00 - total_loss: 51271.2239 - val_factorized_top_k/top_1_categorical_accuracy: 0.0205 - val_factorized_top_k/top_5_categorical_accuracy: 0.1204 - val_factorized_top_k/top_10_categorical_accuracy: 0.1917 - val_factorized_top_k/top_50_categorical_accuracy: 0.3690 - val_factorized_top_k/top_100_categorical_accuracy: 0.4545 - val_loss: 6944.4897 - val_regularization_loss: 0.0000e+00 - val_total_loss: 6944.4897\n",
      "Epoch 41/100\n",
      "27/27 [==============================] - 171s 6s/step - factorized_top_k/top_1_categorical_accuracy: 0.0066 - factorized_top_k/top_5_categorical_accuracy: 0.1048 - factorized_top_k/top_10_categorical_accuracy: 0.1792 - factorized_top_k/top_50_categorical_accuracy: 0.3618 - factorized_top_k/top_100_categorical_accuracy: 0.4503 - loss: 51268.0236 - regularization_loss: 0.0000e+00 - total_loss: 51268.0236\n",
      "Epoch 42/100\n",
      "27/27 [==============================] - 171s 6s/step - factorized_top_k/top_1_categorical_accuracy: 0.0064 - factorized_top_k/top_5_categorical_accuracy: 0.1048 - factorized_top_k/top_10_categorical_accuracy: 0.1792 - factorized_top_k/top_50_categorical_accuracy: 0.3620 - factorized_top_k/top_100_categorical_accuracy: 0.4503 - loss: 51264.8359 - regularization_loss: 0.0000e+00 - total_loss: 51264.8359\n",
      "Epoch 43/100\n",
      "27/27 [==============================] - 172s 6s/step - factorized_top_k/top_1_categorical_accuracy: 0.0068 - factorized_top_k/top_5_categorical_accuracy: 0.1048 - factorized_top_k/top_10_categorical_accuracy: 0.1792 - factorized_top_k/top_50_categorical_accuracy: 0.3620 - factorized_top_k/top_100_categorical_accuracy: 0.4503 - loss: 51261.6575 - regularization_loss: 0.0000e+00 - total_loss: 51261.6575\n",
      "Epoch 44/100\n",
      "27/27 [==============================] - 171s 6s/step - factorized_top_k/top_1_categorical_accuracy: 0.0064 - factorized_top_k/top_5_categorical_accuracy: 0.1048 - factorized_top_k/top_10_categorical_accuracy: 0.1793 - factorized_top_k/top_50_categorical_accuracy: 0.3620 - factorized_top_k/top_100_categorical_accuracy: 0.4504 - loss: 51258.4914 - regularization_loss: 0.0000e+00 - total_loss: 51258.4914\n",
      "Epoch 45/100\n",
      "27/27 [==============================] - 202s 8s/step - factorized_top_k/top_1_categorical_accuracy: 0.0066 - factorized_top_k/top_5_categorical_accuracy: 0.1049 - factorized_top_k/top_10_categorical_accuracy: 0.1793 - factorized_top_k/top_50_categorical_accuracy: 0.3620 - factorized_top_k/top_100_categorical_accuracy: 0.4504 - loss: 51255.3320 - regularization_loss: 0.0000e+00 - total_loss: 51255.3320 - val_factorized_top_k/top_1_categorical_accuracy: 0.0214 - val_factorized_top_k/top_5_categorical_accuracy: 0.1213 - val_factorized_top_k/top_10_categorical_accuracy: 0.1923 - val_factorized_top_k/top_50_categorical_accuracy: 0.3693 - val_factorized_top_k/top_100_categorical_accuracy: 0.4545 - val_loss: 6941.7920 - val_regularization_loss: 0.0000e+00 - val_total_loss: 6941.7920\n",
      "Epoch 46/100\n",
      "27/27 [==============================] - 173s 6s/step - factorized_top_k/top_1_categorical_accuracy: 0.0065 - factorized_top_k/top_5_categorical_accuracy: 0.1051 - factorized_top_k/top_10_categorical_accuracy: 0.1794 - factorized_top_k/top_50_categorical_accuracy: 0.3622 - factorized_top_k/top_100_categorical_accuracy: 0.4505 - loss: 51252.1808 - regularization_loss: 0.0000e+00 - total_loss: 51252.1808\n",
      "Epoch 47/100\n",
      "27/27 [==============================] - 170s 6s/step - factorized_top_k/top_1_categorical_accuracy: 0.0070 - factorized_top_k/top_5_categorical_accuracy: 0.1052 - factorized_top_k/top_10_categorical_accuracy: 0.1797 - factorized_top_k/top_50_categorical_accuracy: 0.3624 - factorized_top_k/top_100_categorical_accuracy: 0.4505 - loss: 51249.0458 - regularization_loss: 0.0000e+00 - total_loss: 51249.0458\n",
      "Epoch 48/100\n",
      "27/27 [==============================] - 173s 6s/step - factorized_top_k/top_1_categorical_accuracy: 0.0065 - factorized_top_k/top_5_categorical_accuracy: 0.1049 - factorized_top_k/top_10_categorical_accuracy: 0.1797 - factorized_top_k/top_50_categorical_accuracy: 0.3624 - factorized_top_k/top_100_categorical_accuracy: 0.4505 - loss: 51245.9138 - regularization_loss: 0.0000e+00 - total_loss: 51245.9138\n",
      "Epoch 49/100\n"
     ]
    },
    {
     "name": "stdout",
     "output_type": "stream",
     "text": [
      "27/27 [==============================] - 171s 6s/step - factorized_top_k/top_1_categorical_accuracy: 0.0067 - factorized_top_k/top_5_categorical_accuracy: 0.1051 - factorized_top_k/top_10_categorical_accuracy: 0.1797 - factorized_top_k/top_50_categorical_accuracy: 0.3625 - factorized_top_k/top_100_categorical_accuracy: 0.4506 - loss: 51242.7965 - regularization_loss: 0.0000e+00 - total_loss: 51242.7965\n",
      "Epoch 50/100\n",
      "27/27 [==============================] - 201s 7s/step - factorized_top_k/top_1_categorical_accuracy: 0.0067 - factorized_top_k/top_5_categorical_accuracy: 0.1052 - factorized_top_k/top_10_categorical_accuracy: 0.1798 - factorized_top_k/top_50_categorical_accuracy: 0.3626 - factorized_top_k/top_100_categorical_accuracy: 0.4507 - loss: 51239.6850 - regularization_loss: 0.0000e+00 - total_loss: 51239.6850 - val_factorized_top_k/top_1_categorical_accuracy: 0.0209 - val_factorized_top_k/top_5_categorical_accuracy: 0.1210 - val_factorized_top_k/top_10_categorical_accuracy: 0.1927 - val_factorized_top_k/top_50_categorical_accuracy: 0.3696 - val_factorized_top_k/top_100_categorical_accuracy: 0.4545 - val_loss: 6939.1362 - val_regularization_loss: 0.0000e+00 - val_total_loss: 6939.1362\n",
      "Epoch 51/100\n",
      "27/27 [==============================] - 170s 6s/step - factorized_top_k/top_1_categorical_accuracy: 0.0068 - factorized_top_k/top_5_categorical_accuracy: 0.1054 - factorized_top_k/top_10_categorical_accuracy: 0.1799 - factorized_top_k/top_50_categorical_accuracy: 0.3626 - factorized_top_k/top_100_categorical_accuracy: 0.4508 - loss: 51236.5837 - regularization_loss: 0.0000e+00 - total_loss: 51236.5837\n",
      "Epoch 52/100\n",
      "27/27 [==============================] - 171s 6s/step - factorized_top_k/top_1_categorical_accuracy: 0.0069 - factorized_top_k/top_5_categorical_accuracy: 0.1054 - factorized_top_k/top_10_categorical_accuracy: 0.1801 - factorized_top_k/top_50_categorical_accuracy: 0.3627 - factorized_top_k/top_100_categorical_accuracy: 0.4509 - loss: 51233.4951 - regularization_loss: 0.0000e+00 - total_loss: 51233.4951\n",
      "Epoch 53/100\n",
      "27/27 [==============================] - 170s 6s/step - factorized_top_k/top_1_categorical_accuracy: 0.0069 - factorized_top_k/top_5_categorical_accuracy: 0.1053 - factorized_top_k/top_10_categorical_accuracy: 0.1800 - factorized_top_k/top_50_categorical_accuracy: 0.3627 - factorized_top_k/top_100_categorical_accuracy: 0.4509 - loss: 51230.4146 - regularization_loss: 0.0000e+00 - total_loss: 51230.4146\n",
      "Epoch 54/100\n",
      "27/27 [==============================] - 170s 6s/step - factorized_top_k/top_1_categorical_accuracy: 0.0068 - factorized_top_k/top_5_categorical_accuracy: 0.1051 - factorized_top_k/top_10_categorical_accuracy: 0.1799 - factorized_top_k/top_50_categorical_accuracy: 0.3628 - factorized_top_k/top_100_categorical_accuracy: 0.4510 - loss: 51227.3403 - regularization_loss: 0.0000e+00 - total_loss: 51227.3403\n",
      "Epoch 55/100\n",
      "27/27 [==============================] - 202s 8s/step - factorized_top_k/top_1_categorical_accuracy: 0.0068 - factorized_top_k/top_5_categorical_accuracy: 0.1053 - factorized_top_k/top_10_categorical_accuracy: 0.1801 - factorized_top_k/top_50_categorical_accuracy: 0.3628 - factorized_top_k/top_100_categorical_accuracy: 0.4511 - loss: 51224.2764 - regularization_loss: 0.0000e+00 - total_loss: 51224.2764 - val_factorized_top_k/top_1_categorical_accuracy: 0.0208 - val_factorized_top_k/top_5_categorical_accuracy: 0.1212 - val_factorized_top_k/top_10_categorical_accuracy: 0.1928 - val_factorized_top_k/top_50_categorical_accuracy: 0.3700 - val_factorized_top_k/top_100_categorical_accuracy: 0.4549 - val_loss: 6936.5205 - val_regularization_loss: 0.0000e+00 - val_total_loss: 6936.5205\n",
      "Epoch 56/100\n",
      "27/27 [==============================] - 170s 6s/step - factorized_top_k/top_1_categorical_accuracy: 0.0065 - factorized_top_k/top_5_categorical_accuracy: 0.1052 - factorized_top_k/top_10_categorical_accuracy: 0.1801 - factorized_top_k/top_50_categorical_accuracy: 0.3629 - factorized_top_k/top_100_categorical_accuracy: 0.4512 - loss: 51221.2228 - regularization_loss: 0.0000e+00 - total_loss: 51221.2228\n",
      "Epoch 57/100\n",
      "27/27 [==============================] - 171s 6s/step - factorized_top_k/top_1_categorical_accuracy: 0.0067 - factorized_top_k/top_5_categorical_accuracy: 0.1053 - factorized_top_k/top_10_categorical_accuracy: 0.1801 - factorized_top_k/top_50_categorical_accuracy: 0.3630 - factorized_top_k/top_100_categorical_accuracy: 0.4512 - loss: 51218.1780 - regularization_loss: 0.0000e+00 - total_loss: 51218.1780\n",
      "Epoch 58/100\n",
      "27/27 [==============================] - 172s 6s/step - factorized_top_k/top_1_categorical_accuracy: 0.0068 - factorized_top_k/top_5_categorical_accuracy: 0.1054 - factorized_top_k/top_10_categorical_accuracy: 0.1804 - factorized_top_k/top_50_categorical_accuracy: 0.3631 - factorized_top_k/top_100_categorical_accuracy: 0.4513 - loss: 51215.1423 - regularization_loss: 0.0000e+00 - total_loss: 51215.1423\n",
      "Epoch 59/100\n",
      "27/27 [==============================] - 171s 6s/step - factorized_top_k/top_1_categorical_accuracy: 0.0066 - factorized_top_k/top_5_categorical_accuracy: 0.1053 - factorized_top_k/top_10_categorical_accuracy: 0.1803 - factorized_top_k/top_50_categorical_accuracy: 0.3632 - factorized_top_k/top_100_categorical_accuracy: 0.4514 - loss: 51212.1159 - regularization_loss: 0.0000e+00 - total_loss: 51212.1159\n",
      "Epoch 60/100\n",
      "27/27 [==============================] - 207s 8s/step - factorized_top_k/top_1_categorical_accuracy: 0.0067 - factorized_top_k/top_5_categorical_accuracy: 0.1053 - factorized_top_k/top_10_categorical_accuracy: 0.1805 - factorized_top_k/top_50_categorical_accuracy: 0.3633 - factorized_top_k/top_100_categorical_accuracy: 0.4515 - loss: 51209.1009 - regularization_loss: 0.0000e+00 - total_loss: 51209.1009 - val_factorized_top_k/top_1_categorical_accuracy: 0.0208 - val_factorized_top_k/top_5_categorical_accuracy: 0.1215 - val_factorized_top_k/top_10_categorical_accuracy: 0.1933 - val_factorized_top_k/top_50_categorical_accuracy: 0.3704 - val_factorized_top_k/top_100_categorical_accuracy: 0.4553 - val_loss: 6933.9443 - val_regularization_loss: 0.0000e+00 - val_total_loss: 6933.9443\n",
      "Epoch 61/100\n",
      "27/27 [==============================] - 175s 6s/step - factorized_top_k/top_1_categorical_accuracy: 0.0067 - factorized_top_k/top_5_categorical_accuracy: 0.1055 - factorized_top_k/top_10_categorical_accuracy: 0.1805 - factorized_top_k/top_50_categorical_accuracy: 0.3635 - factorized_top_k/top_100_categorical_accuracy: 0.4515 - loss: 51206.0912 - regularization_loss: 0.0000e+00 - total_loss: 51206.0912\n",
      "Epoch 62/100\n",
      "27/27 [==============================] - 173s 6s/step - factorized_top_k/top_1_categorical_accuracy: 0.0069 - factorized_top_k/top_5_categorical_accuracy: 0.1055 - factorized_top_k/top_10_categorical_accuracy: 0.1806 - factorized_top_k/top_50_categorical_accuracy: 0.3635 - factorized_top_k/top_100_categorical_accuracy: 0.4517 - loss: 51203.0914 - regularization_loss: 0.0000e+00 - total_loss: 51203.0914\n",
      "Epoch 63/100\n",
      "27/27 [==============================] - 172s 6s/step - factorized_top_k/top_1_categorical_accuracy: 0.0066 - factorized_top_k/top_5_categorical_accuracy: 0.1055 - factorized_top_k/top_10_categorical_accuracy: 0.1806 - factorized_top_k/top_50_categorical_accuracy: 0.3637 - factorized_top_k/top_100_categorical_accuracy: 0.4517 - loss: 51200.0997 - regularization_loss: 0.0000e+00 - total_loss: 51200.0997\n",
      "Epoch 64/100\n",
      "27/27 [==============================] - 172s 6s/step - factorized_top_k/top_1_categorical_accuracy: 0.0066 - factorized_top_k/top_5_categorical_accuracy: 0.1052 - factorized_top_k/top_10_categorical_accuracy: 0.1806 - factorized_top_k/top_50_categorical_accuracy: 0.3637 - factorized_top_k/top_100_categorical_accuracy: 0.4518 - loss: 51197.1175 - regularization_loss: 0.0000e+00 - total_loss: 51197.1175\n",
      "Epoch 65/100\n"
     ]
    },
    {
     "name": "stdout",
     "output_type": "stream",
     "text": [
      "27/27 [==============================] - 203s 8s/step - factorized_top_k/top_1_categorical_accuracy: 0.0066 - factorized_top_k/top_5_categorical_accuracy: 0.1055 - factorized_top_k/top_10_categorical_accuracy: 0.1805 - factorized_top_k/top_50_categorical_accuracy: 0.3637 - factorized_top_k/top_100_categorical_accuracy: 0.4518 - loss: 51194.1430 - regularization_loss: 0.0000e+00 - total_loss: 51194.1430 - val_factorized_top_k/top_1_categorical_accuracy: 0.0208 - val_factorized_top_k/top_5_categorical_accuracy: 0.1213 - val_factorized_top_k/top_10_categorical_accuracy: 0.1933 - val_factorized_top_k/top_50_categorical_accuracy: 0.3708 - val_factorized_top_k/top_100_categorical_accuracy: 0.4557 - val_loss: 6931.4058 - val_regularization_loss: 0.0000e+00 - val_total_loss: 6931.4058\n",
      "Epoch 66/100\n",
      "27/27 [==============================] - 171s 6s/step - factorized_top_k/top_1_categorical_accuracy: 0.0065 - factorized_top_k/top_5_categorical_accuracy: 0.1052 - factorized_top_k/top_10_categorical_accuracy: 0.1808 - factorized_top_k/top_50_categorical_accuracy: 0.3639 - factorized_top_k/top_100_categorical_accuracy: 0.4519 - loss: 51191.1782 - regularization_loss: 0.0000e+00 - total_loss: 51191.1782\n",
      "Epoch 67/100\n",
      "27/27 [==============================] - 171s 6s/step - factorized_top_k/top_1_categorical_accuracy: 0.0066 - factorized_top_k/top_5_categorical_accuracy: 0.1055 - factorized_top_k/top_10_categorical_accuracy: 0.1807 - factorized_top_k/top_50_categorical_accuracy: 0.3640 - factorized_top_k/top_100_categorical_accuracy: 0.4519 - loss: 51188.2215 - regularization_loss: 0.0000e+00 - total_loss: 51188.2215\n",
      "Epoch 68/100\n",
      "27/27 [==============================] - 171s 6s/step - factorized_top_k/top_1_categorical_accuracy: 0.0068 - factorized_top_k/top_5_categorical_accuracy: 0.1055 - factorized_top_k/top_10_categorical_accuracy: 0.1808 - factorized_top_k/top_50_categorical_accuracy: 0.3639 - factorized_top_k/top_100_categorical_accuracy: 0.4519 - loss: 51185.2750 - regularization_loss: 0.0000e+00 - total_loss: 51185.2750\n",
      "Epoch 69/100\n",
      "27/27 [==============================] - 175s 6s/step - factorized_top_k/top_1_categorical_accuracy: 0.0064 - factorized_top_k/top_5_categorical_accuracy: 0.1054 - factorized_top_k/top_10_categorical_accuracy: 0.1809 - factorized_top_k/top_50_categorical_accuracy: 0.3640 - factorized_top_k/top_100_categorical_accuracy: 0.4520 - loss: 51182.3358 - regularization_loss: 0.0000e+00 - total_loss: 51182.3358\n",
      "Epoch 70/100\n",
      "27/27 [==============================] - 206s 8s/step - factorized_top_k/top_1_categorical_accuracy: 0.0068 - factorized_top_k/top_5_categorical_accuracy: 0.1055 - factorized_top_k/top_10_categorical_accuracy: 0.1810 - factorized_top_k/top_50_categorical_accuracy: 0.3640 - factorized_top_k/top_100_categorical_accuracy: 0.4521 - loss: 51179.4047 - regularization_loss: 0.0000e+00 - total_loss: 51179.4047 - val_factorized_top_k/top_1_categorical_accuracy: 0.0206 - val_factorized_top_k/top_5_categorical_accuracy: 0.1213 - val_factorized_top_k/top_10_categorical_accuracy: 0.1938 - val_factorized_top_k/top_50_categorical_accuracy: 0.3709 - val_factorized_top_k/top_100_categorical_accuracy: 0.4559 - val_loss: 6928.9048 - val_regularization_loss: 0.0000e+00 - val_total_loss: 6928.9048\n",
      "Epoch 71/100\n",
      "27/27 [==============================] - 174s 6s/step - factorized_top_k/top_1_categorical_accuracy: 0.0067 - factorized_top_k/top_5_categorical_accuracy: 0.1054 - factorized_top_k/top_10_categorical_accuracy: 0.1812 - factorized_top_k/top_50_categorical_accuracy: 0.3641 - factorized_top_k/top_100_categorical_accuracy: 0.4522 - loss: 51176.4827 - regularization_loss: 0.0000e+00 - total_loss: 51176.4827\n",
      "Epoch 72/100\n",
      "27/27 [==============================] - 174s 6s/step - factorized_top_k/top_1_categorical_accuracy: 0.0065 - factorized_top_k/top_5_categorical_accuracy: 0.1057 - factorized_top_k/top_10_categorical_accuracy: 0.1812 - factorized_top_k/top_50_categorical_accuracy: 0.3642 - factorized_top_k/top_100_categorical_accuracy: 0.4523 - loss: 51173.5699 - regularization_loss: 0.0000e+00 - total_loss: 51173.5699\n",
      "Epoch 73/100\n",
      "27/27 [==============================] - 171s 6s/step - factorized_top_k/top_1_categorical_accuracy: 0.0065 - factorized_top_k/top_5_categorical_accuracy: 0.1055 - factorized_top_k/top_10_categorical_accuracy: 0.1812 - factorized_top_k/top_50_categorical_accuracy: 0.3642 - factorized_top_k/top_100_categorical_accuracy: 0.4523 - loss: 51170.6642 - regularization_loss: 0.0000e+00 - total_loss: 51170.6642\n",
      "Epoch 74/100\n",
      "27/27 [==============================] - 171s 6s/step - factorized_top_k/top_1_categorical_accuracy: 0.0067 - factorized_top_k/top_5_categorical_accuracy: 0.1056 - factorized_top_k/top_10_categorical_accuracy: 0.1813 - factorized_top_k/top_50_categorical_accuracy: 0.3643 - factorized_top_k/top_100_categorical_accuracy: 0.4524 - loss: 51167.7676 - regularization_loss: 0.0000e+00 - total_loss: 51167.7676\n",
      "Epoch 75/100\n",
      "27/27 [==============================] - 203s 8s/step - factorized_top_k/top_1_categorical_accuracy: 0.0068 - factorized_top_k/top_5_categorical_accuracy: 0.1057 - factorized_top_k/top_10_categorical_accuracy: 0.1814 - factorized_top_k/top_50_categorical_accuracy: 0.3643 - factorized_top_k/top_100_categorical_accuracy: 0.4525 - loss: 51164.8788 - regularization_loss: 0.0000e+00 - total_loss: 51164.8788 - val_factorized_top_k/top_1_categorical_accuracy: 0.0206 - val_factorized_top_k/top_5_categorical_accuracy: 0.1217 - val_factorized_top_k/top_10_categorical_accuracy: 0.1940 - val_factorized_top_k/top_50_categorical_accuracy: 0.3711 - val_factorized_top_k/top_100_categorical_accuracy: 0.4560 - val_loss: 6926.4409 - val_regularization_loss: 0.0000e+00 - val_total_loss: 6926.4409\n",
      "Epoch 76/100\n",
      "27/27 [==============================] - 171s 6s/step - factorized_top_k/top_1_categorical_accuracy: 0.0063 - factorized_top_k/top_5_categorical_accuracy: 0.1056 - factorized_top_k/top_10_categorical_accuracy: 0.1814 - factorized_top_k/top_50_categorical_accuracy: 0.3644 - factorized_top_k/top_100_categorical_accuracy: 0.4524 - loss: 51161.9968 - regularization_loss: 0.0000e+00 - total_loss: 51161.9968\n",
      "Epoch 77/100\n",
      "27/27 [==============================] - 171s 6s/step - factorized_top_k/top_1_categorical_accuracy: 0.0065 - factorized_top_k/top_5_categorical_accuracy: 0.1057 - factorized_top_k/top_10_categorical_accuracy: 0.1815 - factorized_top_k/top_50_categorical_accuracy: 0.3645 - factorized_top_k/top_100_categorical_accuracy: 0.4525 - loss: 51159.1230 - regularization_loss: 0.0000e+00 - total_loss: 51159.1230\n",
      "Epoch 78/100\n",
      "27/27 [==============================] - 173s 6s/step - factorized_top_k/top_1_categorical_accuracy: 0.0067 - factorized_top_k/top_5_categorical_accuracy: 0.1056 - factorized_top_k/top_10_categorical_accuracy: 0.1817 - factorized_top_k/top_50_categorical_accuracy: 0.3646 - factorized_top_k/top_100_categorical_accuracy: 0.4527 - loss: 51156.2595 - regularization_loss: 0.0000e+00 - total_loss: 51156.2595\n",
      "Epoch 79/100\n",
      "27/27 [==============================] - 173s 6s/step - factorized_top_k/top_1_categorical_accuracy: 0.0067 - factorized_top_k/top_5_categorical_accuracy: 0.1059 - factorized_top_k/top_10_categorical_accuracy: 0.1817 - factorized_top_k/top_50_categorical_accuracy: 0.3647 - factorized_top_k/top_100_categorical_accuracy: 0.4527 - loss: 51153.4019 - regularization_loss: 0.0000e+00 - total_loss: 51153.4019\n",
      "Epoch 80/100\n",
      "27/27 [==============================] - 205s 8s/step - factorized_top_k/top_1_categorical_accuracy: 0.0066 - factorized_top_k/top_5_categorical_accuracy: 0.1060 - factorized_top_k/top_10_categorical_accuracy: 0.1817 - factorized_top_k/top_50_categorical_accuracy: 0.3648 - factorized_top_k/top_100_categorical_accuracy: 0.4527 - loss: 51150.5550 - regularization_loss: 0.0000e+00 - total_loss: 51150.5550 - val_factorized_top_k/top_1_categorical_accuracy: 0.0209 - val_factorized_top_k/top_5_categorical_accuracy: 0.1223 - val_factorized_top_k/top_10_categorical_accuracy: 0.1945 - val_factorized_top_k/top_50_categorical_accuracy: 0.3715 - val_factorized_top_k/top_100_categorical_accuracy: 0.4565 - val_loss: 6924.0103 - val_regularization_loss: 0.0000e+00 - val_total_loss: 6924.0103\n"
     ]
    },
    {
     "name": "stdout",
     "output_type": "stream",
     "text": [
      "Epoch 81/100\n",
      "27/27 [==============================] - 174s 6s/step - factorized_top_k/top_1_categorical_accuracy: 0.0067 - factorized_top_k/top_5_categorical_accuracy: 0.1058 - factorized_top_k/top_10_categorical_accuracy: 0.1818 - factorized_top_k/top_50_categorical_accuracy: 0.3648 - factorized_top_k/top_100_categorical_accuracy: 0.4528 - loss: 51147.7146 - regularization_loss: 0.0000e+00 - total_loss: 51147.7146\n",
      "Epoch 82/100\n",
      "27/27 [==============================] - 172s 6s/step - factorized_top_k/top_1_categorical_accuracy: 0.0067 - factorized_top_k/top_5_categorical_accuracy: 0.1058 - factorized_top_k/top_10_categorical_accuracy: 0.1817 - factorized_top_k/top_50_categorical_accuracy: 0.3648 - factorized_top_k/top_100_categorical_accuracy: 0.4528 - loss: 51144.8818 - regularization_loss: 0.0000e+00 - total_loss: 51144.8818\n",
      "Epoch 83/100\n",
      "27/27 [==============================] - 174s 6s/step - factorized_top_k/top_1_categorical_accuracy: 0.0065 - factorized_top_k/top_5_categorical_accuracy: 0.1059 - factorized_top_k/top_10_categorical_accuracy: 0.1818 - factorized_top_k/top_50_categorical_accuracy: 0.3650 - factorized_top_k/top_100_categorical_accuracy: 0.4529 - loss: 51142.0566 - regularization_loss: 0.0000e+00 - total_loss: 51142.0566\n",
      "Epoch 84/100\n",
      "27/27 [==============================] - 174s 6s/step - factorized_top_k/top_1_categorical_accuracy: 0.0067 - factorized_top_k/top_5_categorical_accuracy: 0.1060 - factorized_top_k/top_10_categorical_accuracy: 0.1819 - factorized_top_k/top_50_categorical_accuracy: 0.3651 - factorized_top_k/top_100_categorical_accuracy: 0.4530 - loss: 51139.2407 - regularization_loss: 0.0000e+00 - total_loss: 51139.2407\n",
      "Epoch 85/100\n",
      "27/27 [==============================] - 205s 8s/step - factorized_top_k/top_1_categorical_accuracy: 0.0068 - factorized_top_k/top_5_categorical_accuracy: 0.1059 - factorized_top_k/top_10_categorical_accuracy: 0.1819 - factorized_top_k/top_50_categorical_accuracy: 0.3651 - factorized_top_k/top_100_categorical_accuracy: 0.4531 - loss: 51136.4316 - regularization_loss: 0.0000e+00 - total_loss: 51136.4316 - val_factorized_top_k/top_1_categorical_accuracy: 0.0209 - val_factorized_top_k/top_5_categorical_accuracy: 0.1233 - val_factorized_top_k/top_10_categorical_accuracy: 0.1946 - val_factorized_top_k/top_50_categorical_accuracy: 0.3720 - val_factorized_top_k/top_100_categorical_accuracy: 0.4566 - val_loss: 6921.6147 - val_regularization_loss: 0.0000e+00 - val_total_loss: 6921.6147\n",
      "Epoch 86/100\n",
      "27/27 [==============================] - 172s 6s/step - factorized_top_k/top_1_categorical_accuracy: 0.0068 - factorized_top_k/top_5_categorical_accuracy: 0.1062 - factorized_top_k/top_10_categorical_accuracy: 0.1820 - factorized_top_k/top_50_categorical_accuracy: 0.3652 - factorized_top_k/top_100_categorical_accuracy: 0.4531 - loss: 51133.6302 - regularization_loss: 0.0000e+00 - total_loss: 51133.6302\n",
      "Epoch 87/100\n",
      "27/27 [==============================] - 173s 6s/step - factorized_top_k/top_1_categorical_accuracy: 0.0068 - factorized_top_k/top_5_categorical_accuracy: 0.1060 - factorized_top_k/top_10_categorical_accuracy: 0.1820 - factorized_top_k/top_50_categorical_accuracy: 0.3652 - factorized_top_k/top_100_categorical_accuracy: 0.4532 - loss: 51130.8362 - regularization_loss: 0.0000e+00 - total_loss: 51130.8362\n",
      "Epoch 88/100\n",
      "27/27 [==============================] - 173s 6s/step - factorized_top_k/top_1_categorical_accuracy: 0.0069 - factorized_top_k/top_5_categorical_accuracy: 0.1061 - factorized_top_k/top_10_categorical_accuracy: 0.1822 - factorized_top_k/top_50_categorical_accuracy: 0.3653 - factorized_top_k/top_100_categorical_accuracy: 0.4532 - loss: 51128.0505 - regularization_loss: 0.0000e+00 - total_loss: 51128.0505\n",
      "Epoch 89/100\n",
      "27/27 [==============================] - 172s 6s/step - factorized_top_k/top_1_categorical_accuracy: 0.0065 - factorized_top_k/top_5_categorical_accuracy: 0.1058 - factorized_top_k/top_10_categorical_accuracy: 0.1821 - factorized_top_k/top_50_categorical_accuracy: 0.3654 - factorized_top_k/top_100_categorical_accuracy: 0.4533 - loss: 51125.2734 - regularization_loss: 0.0000e+00 - total_loss: 51125.2734\n",
      "Epoch 90/100\n",
      "27/27 [==============================] - 203s 8s/step - factorized_top_k/top_1_categorical_accuracy: 0.0067 - factorized_top_k/top_5_categorical_accuracy: 0.1060 - factorized_top_k/top_10_categorical_accuracy: 0.1822 - factorized_top_k/top_50_categorical_accuracy: 0.3655 - factorized_top_k/top_100_categorical_accuracy: 0.4533 - loss: 51122.5028 - regularization_loss: 0.0000e+00 - total_loss: 51122.5028 - val_factorized_top_k/top_1_categorical_accuracy: 0.0199 - val_factorized_top_k/top_5_categorical_accuracy: 0.1227 - val_factorized_top_k/top_10_categorical_accuracy: 0.1950 - val_factorized_top_k/top_50_categorical_accuracy: 0.3722 - val_factorized_top_k/top_100_categorical_accuracy: 0.4570 - val_loss: 6919.2549 - val_regularization_loss: 0.0000e+00 - val_total_loss: 6919.2549\n",
      "Epoch 91/100\n",
      "27/27 [==============================] - 173s 6s/step - factorized_top_k/top_1_categorical_accuracy: 0.0067 - factorized_top_k/top_5_categorical_accuracy: 0.1062 - factorized_top_k/top_10_categorical_accuracy: 0.1822 - factorized_top_k/top_50_categorical_accuracy: 0.3655 - factorized_top_k/top_100_categorical_accuracy: 0.4533 - loss: 51119.7391 - regularization_loss: 0.0000e+00 - total_loss: 51119.7391\n",
      "Epoch 92/100\n",
      "27/27 [==============================] - 177s 7s/step - factorized_top_k/top_1_categorical_accuracy: 0.0069 - factorized_top_k/top_5_categorical_accuracy: 0.1063 - factorized_top_k/top_10_categorical_accuracy: 0.1824 - factorized_top_k/top_50_categorical_accuracy: 0.3655 - factorized_top_k/top_100_categorical_accuracy: 0.4534 - loss: 51116.9827 - regularization_loss: 0.0000e+00 - total_loss: 51116.9827\n",
      "Epoch 93/100\n",
      "27/27 [==============================] - 174s 6s/step - factorized_top_k/top_1_categorical_accuracy: 0.0068 - factorized_top_k/top_5_categorical_accuracy: 0.1063 - factorized_top_k/top_10_categorical_accuracy: 0.1823 - factorized_top_k/top_50_categorical_accuracy: 0.3656 - factorized_top_k/top_100_categorical_accuracy: 0.4534 - loss: 51114.2335 - regularization_loss: 0.0000e+00 - total_loss: 51114.2335\n",
      "Epoch 94/100\n",
      "27/27 [==============================] - 174s 6s/step - factorized_top_k/top_1_categorical_accuracy: 0.0068 - factorized_top_k/top_5_categorical_accuracy: 0.1063 - factorized_top_k/top_10_categorical_accuracy: 0.1825 - factorized_top_k/top_50_categorical_accuracy: 0.3656 - factorized_top_k/top_100_categorical_accuracy: 0.4535 - loss: 51111.4950 - regularization_loss: 0.0000e+00 - total_loss: 51111.4950\n",
      "Epoch 95/100\n",
      "27/27 [==============================] - 206s 8s/step - factorized_top_k/top_1_categorical_accuracy: 0.0066 - factorized_top_k/top_5_categorical_accuracy: 0.1063 - factorized_top_k/top_10_categorical_accuracy: 0.1825 - factorized_top_k/top_50_categorical_accuracy: 0.3658 - factorized_top_k/top_100_categorical_accuracy: 0.4535 - loss: 51108.7630 - regularization_loss: 0.0000e+00 - total_loss: 51108.7630 - val_factorized_top_k/top_1_categorical_accuracy: 0.0211 - val_factorized_top_k/top_5_categorical_accuracy: 0.1225 - val_factorized_top_k/top_10_categorical_accuracy: 0.1951 - val_factorized_top_k/top_50_categorical_accuracy: 0.3724 - val_factorized_top_k/top_100_categorical_accuracy: 0.4573 - val_loss: 6916.9253 - val_regularization_loss: 0.0000e+00 - val_total_loss: 6916.9253\n",
      "Epoch 96/100\n",
      "27/27 [==============================] - 174s 6s/step - factorized_top_k/top_1_categorical_accuracy: 0.0065 - factorized_top_k/top_5_categorical_accuracy: 0.1066 - factorized_top_k/top_10_categorical_accuracy: 0.1826 - factorized_top_k/top_50_categorical_accuracy: 0.3658 - factorized_top_k/top_100_categorical_accuracy: 0.4536 - loss: 51106.0340 - regularization_loss: 0.0000e+00 - total_loss: 51106.0340\n",
      "Epoch 97/100\n"
     ]
    },
    {
     "name": "stdout",
     "output_type": "stream",
     "text": [
      "27/27 [==============================] - 174s 6s/step - factorized_top_k/top_1_categorical_accuracy: 0.0067 - factorized_top_k/top_5_categorical_accuracy: 0.1063 - factorized_top_k/top_10_categorical_accuracy: 0.1826 - factorized_top_k/top_50_categorical_accuracy: 0.3659 - factorized_top_k/top_100_categorical_accuracy: 0.4536 - loss: 51103.3168 - regularization_loss: 0.0000e+00 - total_loss: 51103.3168\n",
      "Epoch 98/100\n",
      "27/27 [==============================] - 172s 6s/step - factorized_top_k/top_1_categorical_accuracy: 0.0068 - factorized_top_k/top_5_categorical_accuracy: 0.1065 - factorized_top_k/top_10_categorical_accuracy: 0.1827 - factorized_top_k/top_50_categorical_accuracy: 0.3659 - factorized_top_k/top_100_categorical_accuracy: 0.4537 - loss: 51100.6064 - regularization_loss: 0.0000e+00 - total_loss: 51100.6064\n",
      "Epoch 99/100\n",
      "27/27 [==============================] - 173s 6s/step - factorized_top_k/top_1_categorical_accuracy: 0.0065 - factorized_top_k/top_5_categorical_accuracy: 0.1063 - factorized_top_k/top_10_categorical_accuracy: 0.1827 - factorized_top_k/top_50_categorical_accuracy: 0.3660 - factorized_top_k/top_100_categorical_accuracy: 0.4538 - loss: 51097.9009 - regularization_loss: 0.0000e+00 - total_loss: 51097.9009\n",
      "Epoch 100/100\n",
      "27/27 [==============================] - 204s 8s/step - factorized_top_k/top_1_categorical_accuracy: 0.0068 - factorized_top_k/top_5_categorical_accuracy: 0.1063 - factorized_top_k/top_10_categorical_accuracy: 0.1826 - factorized_top_k/top_50_categorical_accuracy: 0.3660 - factorized_top_k/top_100_categorical_accuracy: 0.4538 - loss: 51095.2042 - regularization_loss: 0.0000e+00 - total_loss: 51095.2042 - val_factorized_top_k/top_1_categorical_accuracy: 0.0212 - val_factorized_top_k/top_5_categorical_accuracy: 0.1225 - val_factorized_top_k/top_10_categorical_accuracy: 0.1954 - val_factorized_top_k/top_50_categorical_accuracy: 0.3727 - val_factorized_top_k/top_100_categorical_accuracy: 0.4574 - val_loss: 6914.6294 - val_regularization_loss: 0.0000e+00 - val_total_loss: 6914.6294\n",
      "Wall time: 5h 4min 37s\n"
     ]
    }
   ],
   "source": [
    "%%time\n",
    "model_1_history_part2 = model_1.fit(cached_train,\n",
    "                              epochs=100, \n",
    "                              verbose=1,\n",
    "                              validation_data=cached_val,\n",
    "                              validation_freq=5)"
   ]
  },
  {
   "cell_type": "markdown",
   "id": "a16dae2d",
   "metadata": {},
   "source": [
    "### Save"
   ]
  },
  {
   "cell_type": "code",
   "execution_count": 59,
   "id": "6c46f10d",
   "metadata": {},
   "outputs": [],
   "source": [
    "model_1.save_weights('../TFRS/basic/ranking/model_1/400epochs/model1_ranking_300_epochs_checkpoint')\n",
    "with open('../TFRS/basic/ranking/model_1/400epochs/model1_history_part2.obj', 'wb') as pickle_file:\n",
    "    pickle.dump(model_1_history_part2.history, pickle_file)"
   ]
  },
  {
   "cell_type": "code",
   "execution_count": 63,
   "id": "73bc9ead",
   "metadata": {},
   "outputs": [],
   "source": [
    "history = model_1_history.history[\"val_factorized_top_k/top_100_categorical_accuracy\"] + model_1_history_part2.history[\"val_factorized_top_k/top_100_categorical_accuracy\"]"
   ]
  },
  {
   "cell_type": "code",
   "execution_count": 64,
   "id": "c39ebf1b",
   "metadata": {},
   "outputs": [],
   "source": [
    "accuracy = model_1_history.history[\"val_factorized_top_k/top_100_categorical_accuracy\"] + model_1_history_part2.history[\"val_factorized_top_k/top_100_categorical_accuracy\"]"
   ]
  },
  {
   "cell_type": "code",
   "execution_count": 65,
   "id": "5a884233",
   "metadata": {},
   "outputs": [
    {
     "data": {
      "image/png": "[encoded data removed]",
      "text/plain": [
       "<Figure size 432x288 with 1 Axes>"
      ]
     },
     "metadata": {
      "needs_background": "light"
     },
     "output_type": "display_data"
    }
   ],
   "source": [
    "import matplotlib.pyplot as plt\n",
    "\n",
    "num_validation_runs = len(history)\n",
    "epochs = [(x + 1)* 5 for x in range(num_validation_runs)]\n",
    "\n",
    "plt.plot(epochs, accuracy)\n",
    "plt.title(\"Accuracy vs epoch\")\n",
    "plt.xlabel(\"epoch\")\n",
    "plt.ylabel(\"Top-100 accuracy\");\n",
    "# plt.legend()"
   ]
  },
  {
   "cell_type": "code",
   "execution_count": 72,
   "id": "89f6270c",
   "metadata": {},
   "outputs": [
    {
     "data": {
      "image/png": "[encoded data removed]",
      "text/plain": [
       "<Figure size 432x288 with 1 Axes>"
      ]
     },
     "metadata": {
      "needs_background": "light"
     },
     "output_type": "display_data"
    }
   ],
   "source": [
    "history=[]\n",
    "accuracy=[]\n",
    "history = model_1_history.history[\"factorized_top_k/top_100_categorical_accuracy\"] + model_1_history_part2.history[\"factorized_top_k/top_100_categorical_accuracy\"]\n",
    "accuracy = model_1_history.history[\"factorized_top_k/top_100_categorical_accuracy\"] + model_1_history_part2.history[\"factorized_top_k/top_100_categorical_accuracy\"]\n",
    "\n",
    "import matplotlib.pyplot as plt\n",
    "\n",
    "num_validation_runs = len(history)\n",
    "epochs = [(x + 1)* 1 for x in range(num_validation_runs)]\n",
    "\n",
    "plt.plot(epochs, accuracy)\n",
    "plt.title(\"Accuracy vs epoch\")\n",
    "plt.xlabel(\"epoch\")\n",
    "plt.ylabel(\"Top-100 accuracy\");\n",
    "# plt.legend()"
   ]
  },
  {
   "cell_type": "code",
   "execution_count": null,
   "id": "e0e393ac",
   "metadata": {},
   "outputs": [],
   "source": []
  }
 ],
 "metadata": {
  "kernelspec": {
   "display_name": "Python 3 (ipykernel)",
   "language": "python",
   "name": "python3"
  },
  "language_info": {
   "codemirror_mode": {
    "name": "ipython",
    "version": 3
   },
   "file_extension": ".py",
   "mimetype": "text/x-python",
   "name": "python",
   "nbconvert_exporter": "python",
   "pygments_lexer": "ipython3",
   "version": "3.9.7"
  }
 },
 "nbformat": 4,
 "nbformat_minor": 5
}
