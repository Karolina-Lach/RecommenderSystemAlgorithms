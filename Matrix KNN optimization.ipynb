{
 "cells": [
  {
   "cell_type": "markdown",
   "id": "da6eca8d",
   "metadata": {
    "id": "da6eca8d"
   },
   "source": [
    "# Imports"
   ]
  },
  {
   "cell_type": "code",
   "execution_count": 2,
   "id": "c05661c5",
   "metadata": {
    "id": "c05661c5"
   },
   "outputs": [],
   "source": [
    "from surprise import NormalPredictor\n",
    "from surprise.model_selection import train_test_split\n",
    "from surprise import accuracy\n",
    "import heapq\n",
    "import pickle \n",
    "import pandas as pd\n",
    "from surprise import Dataset\n",
    "from surprise import Reader\n",
    "from surprise import AlgoBase\n",
    "from create_similarity_vectors import create_top_k_similar_vectors\n",
    "from sentence_transformers import util\n",
    "import torch\n",
    "import sampling\n",
    "\n",
    "from surprise.prediction_algorithms.predictions import PredictionImpossible\n",
    "from sklearn.metrics.pairwise import cosine_similarity\n",
    "import numpy as np\n",
    "\n",
    "from sklearn.model_selection import train_test_split as train_test_split\n",
    "from surprise.model_selection import train_test_split as train_test_split_sup"
   ]
  },
  {
   "cell_type": "markdown",
   "id": "359efe5c",
   "metadata": {
    "id": "359efe5c"
   },
   "source": [
    "# Constants"
   ]
  },
  {
   "cell_type": "code",
   "execution_count": 3,
   "id": "e77f9b8f",
   "metadata": {
    "id": "e77f9b8f"
   },
   "outputs": [],
   "source": [
    "MATRIX_ING_50 = \"G:/Recipes/Matrix/ING_50/matrix_top25k_ing_50.obj\"\n",
    "POS_TO_RECIPE_ID_MATRIX = \"G:/Recipes/Matrix/ING_50/pos_to_recipe_id.obj\"\n",
    "RECIPE_ID_TO_POS_MATRIX = \"G:/Recipes/Matrix/ING_50/recipe_id_to_pos.obj\"\n",
    "\n",
    "RATINGS_BASE = \"../Data/base/ratings_base.parquet\"\n",
    "\n",
    "WORD2VEC_ING_50_VECTORS = \"G:/Recipes/Vectors/ingredients_vectors_50_dict.obj\""
   ]
  },
  {
   "cell_type": "markdown",
   "id": "3a49f7a5",
   "metadata": {
    "id": "3a49f7a5"
   },
   "source": [
    "# Load data"
   ]
  },
  {
   "cell_type": "code",
   "execution_count": 33,
   "id": "3694d57c",
   "metadata": {
    "id": "3694d57c"
   },
   "outputs": [],
   "source": [
    "with open(\"G:/Recipes/Matrix/ING_50/matrix_top25k_ing_50.obj\", \"rb\") as input_file:\n",
    "    matrix_ing_50 = pickle.load(input_file)"
   ]
  },
  {
   "cell_type": "code",
   "execution_count": 39,
   "id": "76e0af7d",
   "metadata": {
    "id": "76e0af7d"
   },
   "outputs": [],
   "source": [
    "with open(POS_TO_RECIPE_ID_MATRIX, \"rb\") as input_file:\n",
    "    pos_to_recipe_id = pickle.load(input_file)"
   ]
  },
  {
   "cell_type": "code",
   "execution_count": 40,
   "id": "45beddc9",
   "metadata": {
    "id": "45beddc9"
   },
   "outputs": [],
   "source": [
    "with open(RECIPE_ID_TO_POS_MATRIX, \"rb\") as input_file:\n",
    "    recipe_id_to_pos = pickle.load(input_file)"
   ]
  },
  {
   "cell_type": "code",
   "execution_count": 9,
   "id": "6906e714",
   "metadata": {
    "id": "6906e714"
   },
   "outputs": [],
   "source": [
    "with open(WORD2VEC_ING_50_VECTORS, \"rb\") as input_file:\n",
    "    word2vec_ing_vectors = pickle.load(input_file)"
   ]
  },
  {
   "cell_type": "code",
   "execution_count": 4,
   "id": "9a133bd5",
   "metadata": {
    "id": "9a133bd5"
   },
   "outputs": [],
   "source": [
    "ratings_base = pd.read_parquet(RATINGS_BASE)"
   ]
  },
  {
   "cell_type": "code",
   "execution_count": 5,
   "id": "564c1ffc",
   "metadata": {
    "id": "564c1ffc"
   },
   "outputs": [],
   "source": [
    "ratings_sample = sampling.get_ratings_with_min_number_list(ratings_base, [20,10])"
   ]
  },
  {
   "cell_type": "code",
   "execution_count": 6,
   "id": "ee4ce11a",
   "metadata": {
    "id": "ee4ce11a"
   },
   "outputs": [],
   "source": [
    "del(ratings_base)"
   ]
  },
  {
   "cell_type": "markdown",
   "id": "65e02eed",
   "metadata": {
    "id": "65e02eed"
   },
   "source": [
    "## Create dataset"
   ]
  },
  {
   "cell_type": "code",
   "execution_count": 7,
   "id": "4e3c13af",
   "metadata": {
    "id": "4e3c13af"
   },
   "outputs": [],
   "source": [
    "def create_train_test_dataframe(ratings_df, test_size, random_state):\n",
    "    x_train, x_test, y_train, y_test = train_test_split(\n",
    "        ratings_df[[\"AuthorId\", \"RecipeId\"]], \n",
    "        ratings_df[[\"Rating\"]], \n",
    "        test_size=test_size, \n",
    "        random_state=random_state, \n",
    "        stratify=ratings_df[\"AuthorId\"])\n",
    "    \n",
    "    trainset = x_train.merge(y_train, left_index=True, right_index=True)\n",
    "    testset = x_test.merge(y_test, left_index=True, right_index=True)\n",
    "\n",
    "    return trainset, testset"
   ]
  },
  {
   "cell_type": "code",
   "execution_count": 8,
   "id": "5904b4ee",
   "metadata": {
    "id": "5904b4ee"
   },
   "outputs": [],
   "source": [
    "def train_test_surprise_format(trainset_df, testset_df):\n",
    "    trainset_surprise = Dataset.load_from_df(trainset_df[[\"AuthorId\", \"RecipeId\", \"Rating\"]], Reader(rating_scale=(0, 5)))\n",
    "    trainset_surprise = trainset_surprise.build_full_trainset()\n",
    "    \n",
    "    testset_surprise = list(testset_df.to_records())\n",
    "    testset_surprise = [(x[1], x[2], x[3]) for x in testset_surprise]\n",
    "    \n",
    "    return trainset_surprise, testset_surprise"
   ]
  },
  {
   "cell_type": "code",
   "execution_count": 9,
   "id": "79dae20c",
   "metadata": {
    "id": "79dae20c"
   },
   "outputs": [],
   "source": [
    "user_item_ratings_dataset = Dataset.load_from_df(ratings_sample[[\"AuthorId\", \"RecipeId\", \"Rating\"]], Reader(rating_scale=(0, 5)))"
   ]
  },
  {
   "cell_type": "code",
   "execution_count": 10,
   "id": "4871869f",
   "metadata": {
    "id": "4871869f"
   },
   "outputs": [],
   "source": [
    "train_df, test_df = create_train_test_dataframe(ratings_sample, 0.2, 13)\n",
    "trainset, testset = train_test_surprise_format(train_df, test_df)"
   ]
  },
  {
   "cell_type": "markdown",
   "id": "ec1b441b",
   "metadata": {
    "id": "ec1b441b"
   },
   "source": [
    "# KNN Algo"
   ]
  },
  {
   "cell_type": "code",
   "execution_count": 11,
   "id": "4adc45ab",
   "metadata": {
    "id": "4adc45ab"
   },
   "outputs": [],
   "source": [
    "class KnnMatrixAglorithm(AlgoBase):\n",
    "    def __init__(self, matrix, recipe_id_to_pos, vectors, k=40, verbose=True):\n",
    "        self.k = k\n",
    "        self.verbose = verbose\n",
    "        self.matrix = matrix\n",
    "        self.recipe_id_to_pos = recipe_id_to_pos\n",
    "        self.vectors = vectors\n",
    "    \n",
    "    def fit(self, trainset):\n",
    "        AlgoBase.fit(self, trainset)\n",
    "        self.items_not_in_matrix = {}\n",
    "        for item in trainset.all_items():\n",
    "            raw_item = trainset.to_raw_iid(item)\n",
    "            self.items_not_in_matrix[raw_item] = {}\n",
    "        return self\n",
    "    \n",
    "    def estimate(self, u, i):\n",
    "        if not (self.trainset.knows_item(i)):\n",
    "#             if(self.verbose):\n",
    "#                 print('raise for ', u, ' ', i)\n",
    "            raise PredictionImpossible('Item is unknown')\n",
    "        if not (self.trainset.knows_user(u)):\n",
    "            raise PredictionImpossible('User is unknown')\n",
    "        \n",
    "        item_recipe_id = self.trainset.to_raw_iid(i)\n",
    "        is_in_matrix = True\n",
    "        neighbours = []\n",
    "        calculated = 0\n",
    "        from_matrix = 0\n",
    "        from_dict = 0\n",
    "        for rating in self.trainset.ur[u]:\n",
    "            recipe_id = self.trainset.to_raw_iid(rating[0])\n",
    "            \n",
    "            try:\n",
    "                item_pos = self.recipe_id_to_pos[item_recipe_id]\n",
    "            except:\n",
    "#                 print(f\"{item_recipe_id} error\")\n",
    "                is_in_matrix = False\n",
    "            \n",
    "            try:\n",
    "                recipe_pos = self.recipe_id_to_pos[recipe_id]\n",
    "            except:\n",
    "#                 print(f\"{recipe_id} error\")\n",
    "                is_in_matrix = False\n",
    "                \n",
    "            if is_in_matrix:\n",
    "                sim = self.matrix[item_pos, recipe_pos]\n",
    "                from_matrix += 1\n",
    "            else:\n",
    "#                 print(item_recipe_id, \" \", recipe_id)\n",
    "                try:\n",
    "                    if item_recipe_id > recipe_id:\n",
    "                        sim = self.items_not_in_matrix[item_recipe_id][recipe_id]\n",
    "                    else:\n",
    "                        sim = self.items_not_in_matrix[recipe_id][item_recipe_id]\n",
    "                    from_dict += 1\n",
    "                except:\n",
    "                    tensor1 = torch.tensor(self.vectors[item_recipe_id], dtype=torch.float)\n",
    "                    tensor2 = torch.tensor(self.vectors[recipe_id], dtype=torch.float)\n",
    "\n",
    "                    sim = util.pytorch_cos_sim(tensor1, tensor2)[0][0].item()\n",
    "                    \n",
    "                    if item_recipe_id > recipe_id:\n",
    "                        self.items_not_in_matrix[item_recipe_id][recipe_id] = sim\n",
    "                    else:\n",
    "                        self.items_not_in_matrix[recipe_id][item_recipe_id] = sim\n",
    "                    calculated += 1   \n",
    "#                     print(f'Calculating similarity for {recipe_id} and {item_recipe_id}')\n",
    "                \n",
    "            neighbours.append((sim, rating[1]))\n",
    "        k_neighbours = heapq.nlargest(self.k, neighbours, key=lambda t: t[0])\n",
    "        \n",
    "        sim_total = 0\n",
    "        weighted_sum = 0\n",
    "        for sim_score, rating in k_neighbours:\n",
    "            if sim_score > 0:\n",
    "                sim_total += sim_score\n",
    "                weighted_sum += sim_score * rating\n",
    "                \n",
    "        if sim_total == 0:\n",
    "            raise PredictionImpossible('No neighbours')\n",
    "            \n",
    "        predicted_rating= weighted_sum / sim_total\n",
    "        \n",
    "#         print(f\"Calculated {calculated}, from matrix: {from_matrix}, from dict: {from_dict}\")\n",
    "        return predicted_rating"
   ]
  },
  {
   "cell_type": "code",
   "execution_count": 56,
   "id": "774b1e06",
   "metadata": {
    "id": "774b1e06",
    "outputId": "70be2b37-bcf7-4575-dc54-77274a23aede"
   },
   "outputs": [],
   "source": [
    "knnMatrixAlgorithm = KnnMatrixAglorithm(matrix = matrix_ing_50, recipe_id_to_pos=recipe_id_to_pos, \n",
    "                                        vectors=word2vec_ing_vectors)\n",
    "knnMatrixAlgorithm.fit(trainset)"
   ]
  },
  {
   "cell_type": "markdown",
   "id": "a788b02c",
   "metadata": {},
   "source": [
    "## Predictions ING CAT 50"
   ]
  },
  {
   "cell_type": "code",
   "execution_count": 53,
   "id": "a13ace75",
   "metadata": {},
   "outputs": [],
   "source": [
    "predictions = knnMatrixAlgorithm.test(testset)"
   ]
  },
  {
   "cell_type": "code",
   "execution_count": 21,
   "id": "cb89e66c",
   "metadata": {
    "id": "cb89e66c",
    "outputId": "dcc71f6d-997f-4d7b-9f31-23f18ed4e8d0"
   },
   "outputs": [
    {
     "name": "stdout",
     "output_type": "stream",
     "text": [
      "RMSE: 0.8631\n"
     ]
    },
    {
     "data": {
      "text/plain": [
       "0.8631389410134441"
      ]
     },
     "execution_count": 21,
     "metadata": {},
     "output_type": "execute_result"
    }
   ],
   "source": [
    "accuracy.rmse(predictions)"
   ]
  },
  {
   "cell_type": "markdown",
   "id": "d9f3316d",
   "metadata": {},
   "source": [
    "## Predictions ING 50"
   ]
  },
  {
   "cell_type": "code",
   "execution_count": 52,
   "id": "dd710e2f",
   "metadata": {
    "id": "dd710e2f"
   },
   "outputs": [],
   "source": [
    "predictions = knnMatrixAlgorithm.test(testset)"
   ]
  },
  {
   "cell_type": "code",
   "execution_count": 45,
   "id": "e9e37357",
   "metadata": {},
   "outputs": [
    {
     "name": "stdout",
     "output_type": "stream",
     "text": [
      "RMSE: 0.8639\n"
     ]
    },
    {
     "data": {
      "text/plain": [
       "0.8638989963596698"
      ]
     },
     "execution_count": 45,
     "metadata": {},
     "output_type": "execute_result"
    }
   ],
   "source": [
    "accuracy.rmse(predictions)"
   ]
  },
  {
   "cell_type": "markdown",
   "id": "dcbf91ee",
   "metadata": {},
   "source": [
    "## Predictions ING CAT 100"
   ]
  },
  {
   "cell_type": "code",
   "execution_count": 48,
   "id": "50354e00",
   "metadata": {},
   "outputs": [],
   "source": [
    "del(matrix_ing_50)\n",
    "del(recipe_id_to_pos)\n",
    "del(pos_to_recipe_id)"
   ]
  },
  {
   "cell_type": "code",
   "execution_count": 12,
   "id": "2b1c2e93",
   "metadata": {},
   "outputs": [],
   "source": [
    "with open(\"C:/Users/Użytkownik/Recipes/Data/word_embeddings_files/matrix/ING_CAT_100_VECTORS/matrix_25k_most_popular.obj\", \"rb\") as input_file:\n",
    "    matrix_ing_100 = pickle.load(input_file)\n",
    "\n",
    "with open(\"C:/Users/Użytkownik/Recipes/Data/word_embeddings_files/matrix/ING_CAT_100_VECTORS/pos_to_idmatrix_25k_most_popular.obj\", \"rb\") as input_file:\n",
    "    pos_to_recipe_id = pickle.load(input_file)\n",
    "\n",
    "with open(\"C:/Users/Użytkownik/Recipes/Data/word_embeddings_files/matrix/ING_CAT_100_VECTORS/id_to_pos_matrix_25k_most_popular.obj\", \"rb\") as input_file:\n",
    "    recipe_id_to_pos = pickle.load(input_file)\n",
    "\n",
    "with open(\"C:/Users/Użytkownik/Recipes/Data/word_embeddings_files/vectors/word2vec_ing_cat_vectors.obj\", \"rb\") as input_file:\n",
    "    word2vec_ing_100_vectors = pickle.load(input_file)"
   ]
  },
  {
   "cell_type": "code",
   "execution_count": 13,
   "id": "4c6369b5",
   "metadata": {},
   "outputs": [
    {
     "data": {
      "text/plain": [
       "<__main__.KnnMatrixAglorithm at 0x1ea24d92e80>"
      ]
     },
     "execution_count": 13,
     "metadata": {},
     "output_type": "execute_result"
    }
   ],
   "source": [
    "knnMatrixAlgorithm = KnnMatrixAglorithm(matrix = matrix_ing_100, recipe_id_to_pos=recipe_id_to_pos, \n",
    "                                        vectors=word2vec_ing_100_vectors)\n",
    "knnMatrixAlgorithm.fit(trainset)"
   ]
  },
  {
   "cell_type": "code",
   "execution_count": 16,
   "id": "03a7ae2c",
   "metadata": {},
   "outputs": [
    {
     "name": "stdout",
     "output_type": "stream",
     "text": [
      "Wall time: 42min 28s\n"
     ]
    }
   ],
   "source": [
    "%%time\n",
    "predictions = knnMatrixAlgorithm.test(testset)"
   ]
  },
  {
   "cell_type": "code",
   "execution_count": 17,
   "id": "61d0c9dc",
   "metadata": {},
   "outputs": [
    {
     "name": "stdout",
     "output_type": "stream",
     "text": [
      "RMSE: 0.8646\n"
     ]
    },
    {
     "data": {
      "text/plain": [
       "0.8645553249084379"
      ]
     },
     "execution_count": 17,
     "metadata": {},
     "output_type": "execute_result"
    }
   ],
   "source": [
    "accuracy.rmse(predictions)"
   ]
  },
  {
   "cell_type": "code",
   "execution_count": 19,
   "id": "1a1438fc",
   "metadata": {},
   "outputs": [],
   "source": []
  },
  {
   "cell_type": "markdown",
   "id": "9580e630",
   "metadata": {},
   "source": [
    "## ING 100"
   ]
  },
  {
   "cell_type": "code",
   "execution_count": 20,
   "id": "24b3e8b2",
   "metadata": {},
   "outputs": [
    {
     "name": "stderr",
     "output_type": "stream",
     "text": [
      "UsageError: Line magic function `%%time` not found.\n"
     ]
    }
   ],
   "source": [
    "del(matrix_ing_100)\n",
    "del(recipe_id_to_pos)\n",
    "del(pos_to_recipe_id)\n",
    "\n",
    "with open(\"C:/Users/Użytkownik/Recipes/Data/word_embeddings_files/matrix/ING_100_VECTORS/matrix_25k_most_popular.obj\", \"rb\") as input_file:\n",
    "    matrix_ing_100 = pickle.load(input_file)\n",
    "\n",
    "with open(\"C:/Users/Użytkownik/Recipes/Data/word_embeddings_files/matrix/ING_100_VECTORS/id_to_pos_matrix_25k_most_popular.obj\", \"rb\") as input_file:\n",
    "    recipe_id_to_pos = pickle.load(input_file)\n",
    "\n",
    "with open(\"C:/Users/Użytkownik/Recipes/Data/word_embeddings_files/vectors/word2vec_ingredients_vectors.obj\", \"rb\") as input_file:\n",
    "    word2vec_ing_100_vectors = pickle.load(input_file)\n",
    "\n"
   ]
  },
  {
   "cell_type": "code",
   "execution_count": 21,
   "id": "450325a3",
   "metadata": {},
   "outputs": [
    {
     "name": "stdout",
     "output_type": "stream",
     "text": [
      "RMSE: 0.8644\n",
      "Wall time: 47min 20s\n"
     ]
    },
    {
     "data": {
      "text/plain": [
       "0.8643714553957503"
      ]
     },
     "execution_count": 21,
     "metadata": {},
     "output_type": "execute_result"
    }
   ],
   "source": [
    "%%time\n",
    "knnMatrixAlgorithm = KnnMatrixAglorithm(matrix = matrix_ing_100, recipe_id_to_pos=recipe_id_to_pos, \n",
    "                                        vectors=word2vec_ing_100_vectors)\n",
    "knnMatrixAlgorithm.fit(trainset)\n",
    "\n",
    "\n",
    "predictions = knnMatrixAlgorithm.test(testset)\n",
    "\n",
    "accuracy.rmse(predictions)"
   ]
  },
  {
   "cell_type": "code",
   "execution_count": 41,
   "id": "6d1cd2c0",
   "metadata": {},
   "outputs": [],
   "source": [
    "all_items = []\n",
    "for item in trainset.all_items():\n",
    "    item_raw = trainset.to_raw_iid(item)\n",
    "    all_items.append(item_raw)"
   ]
  },
  {
   "cell_type": "code",
   "execution_count": 42,
   "id": "37ae9aa2",
   "metadata": {},
   "outputs": [
    {
     "data": {
      "text/plain": [
       "25719"
      ]
     },
     "execution_count": 42,
     "metadata": {},
     "output_type": "execute_result"
    }
   ],
   "source": [
    "len(set(all_items) & set(recipe_id_to_pos.keys()))"
   ]
  },
  {
   "cell_type": "code",
   "execution_count": null,
   "id": "23bda7ad",
   "metadata": {},
   "outputs": [],
   "source": []
  }
 ],
 "metadata": {
  "colab": {
   "collapsed_sections": [],
   "name": "Untitled1.ipynb",
   "provenance": []
  },
  "kernelspec": {
   "display_name": "Python 3 (ipykernel)",
   "language": "python",
   "name": "python3"
  },
  "language_info": {
   "codemirror_mode": {
    "name": "ipython",
    "version": 3
   },
   "file_extension": ".py",
   "mimetype": "text/x-python",
   "name": "python",
   "nbconvert_exporter": "python",
   "pygments_lexer": "ipython3",
   "version": "3.9.7"
  }
 },
 "nbformat": 4,
 "nbformat_minor": 5
}
