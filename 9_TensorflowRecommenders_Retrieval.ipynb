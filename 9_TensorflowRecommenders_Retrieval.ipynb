{
 "cells": [
  {
   "cell_type": "code",
   "execution_count": null,
   "id": "10e15a8b",
   "metadata": {},
   "outputs": [],
   "source": [
    "# !pip install -q tensorflow-recommenders\n",
    "# !pip install -q --upgrade tensorflow-datasets\n",
    "# !pip install -q scann"
   ]
  },
  {
   "cell_type": "code",
   "execution_count": 1,
   "id": "5d2cf4d8",
   "metadata": {},
   "outputs": [],
   "source": [
    "import os\n",
    "import pprint\n",
    "import tempfile\n",
    "from typing import Dict, Text\n",
    "\n",
    "import numpy as np\n",
    "import tensorflow as tf\n",
    "import tensorflow_datasets as tfds\n",
    "\n",
    "import pandas as pd\n",
    "import sampling"
   ]
  },
  {
   "cell_type": "code",
   "execution_count": 2,
   "id": "7f67aaaf",
   "metadata": {},
   "outputs": [],
   "source": [
    "import tensorflow_recommenders as tfrs"
   ]
  },
  {
   "cell_type": "code",
   "execution_count": 3,
   "id": "b4a788a2",
   "metadata": {},
   "outputs": [],
   "source": [
    "import pickle"
   ]
  },
  {
   "cell_type": "markdown",
   "id": "268e89a1",
   "metadata": {},
   "source": [
    "# Constants "
   ]
  },
  {
   "cell_type": "code",
   "execution_count": 4,
   "id": "a1718cc1",
   "metadata": {},
   "outputs": [],
   "source": [
    "RATINGS_SMALL = \"../EDA_files/ratings_small.parquet\"\n",
    "RECIPES_SMALL = \"../EDA_files/recipes_small.parquet\"\n",
    "INDEX_TO_RECIPE_OBJ = \"../EDA_files/index_to_recipe.obj\"\n",
    "RECIPE_TO_INDEX_OBJ = \"../EDA_files/recipe_to_index.obj\"\n",
    "\n",
    "ING_CLEAN_NO_COMMON = '../cleaned_files/ingredients_clean_without_common_words.obj'\n",
    "KEYWORDS_CLEAN = '../cleaned_files/keywords_cleaned.obj'\n",
    "CATEGORIES_CLEAN = '../cleaned_files/categories_cleaned.obj'\n",
    "NAMES_CLEAN = '../cleaned_files/names_cleaned.obj'\n",
    "\n",
    "RECIPES_DATA = \"../dataset/recipes.parquet\""
   ]
  },
  {
   "cell_type": "markdown",
   "id": "32c0c03d",
   "metadata": {},
   "source": [
    "# Load data "
   ]
  },
  {
   "cell_type": "code",
   "execution_count": 5,
   "id": "1c3d7c5a",
   "metadata": {},
   "outputs": [],
   "source": [
    "recipes_small = pd.read_parquet(RECIPES_SMALL)\n",
    "ratings_small = pd.read_parquet(RATINGS_SMALL)"
   ]
  },
  {
   "cell_type": "code",
   "execution_count": 6,
   "id": "d6bdfe68",
   "metadata": {},
   "outputs": [],
   "source": [
    "with open(RECIPE_TO_INDEX_OBJ, \"rb\") as input_file:\n",
    "    recipe_to_index = pickle.load(input_file)"
   ]
  },
  {
   "cell_type": "code",
   "execution_count": 7,
   "id": "59bcf49f",
   "metadata": {},
   "outputs": [],
   "source": [
    "# with open(ING_CLEAN_NO_COMMON, \"rb\") as input_file:\n",
    "#     ingredients_no_common_words = pickle.load(input_file)\n",
    "\n",
    "# with open(KEYWORDS_CLEAN, \"rb\") as input_file:\n",
    "#     keywords_clean = pickle.load(input_file)\n",
    "\n",
    "# with open(CATEGORIES_CLEAN, \"rb\") as input_file:\n",
    "#     categories_clean = pickle.load(input_file)\n",
    "    \n",
    "# with open(NAMES_CLEAN, \"rb\") as input_file:\n",
    "#     names_clean = pickle.load(input_file)"
   ]
  },
  {
   "cell_type": "markdown",
   "id": "2aad988e",
   "metadata": {},
   "source": [
    "## Ratings"
   ]
  },
  {
   "cell_type": "code",
   "execution_count": 8,
   "id": "3e9a4e21",
   "metadata": {},
   "outputs": [],
   "source": [
    "author_min_20 = sampling.get_rating_with_min_number(ratings_small, 20, col_name='AuthorId')\n",
    "recipe_min_20 = sampling.get_rating_with_min_number(ratings_small, 20, col_name='RecipeId')\n",
    "\n",
    "ratings_min_20 = author_min_20.merge(recipe_min_20, how='inner')"
   ]
  },
  {
   "cell_type": "code",
   "execution_count": 9,
   "id": "c1a8968f",
   "metadata": {},
   "outputs": [],
   "source": [
    "ratings_sample = ratings_min_20.copy()"
   ]
  },
  {
   "cell_type": "markdown",
   "id": "36a5cff6",
   "metadata": {},
   "source": [
    "## Recipes"
   ]
  },
  {
   "cell_type": "code",
   "execution_count": 10,
   "id": "89b6c3a3",
   "metadata": {},
   "outputs": [],
   "source": [
    "# ingredients_no_common_words.Ingredients = ingredients_no_common_words.Ingredients.map(lambda x: ' '.join(x))"
   ]
  },
  {
   "cell_type": "code",
   "execution_count": 11,
   "id": "546705f8",
   "metadata": {},
   "outputs": [],
   "source": [
    "# keywords_clean.Keywords = keywords_clean.Keywords.map(lambda x: ' '.join(x)) "
   ]
  },
  {
   "cell_type": "code",
   "execution_count": 12,
   "id": "c5125535",
   "metadata": {},
   "outputs": [],
   "source": [
    "# recipes_clean = recipes_small.copy()\n",
    "# recipes_clean.drop(columns=['Ingredients', 'Keywords', 'RecipeCategory', 'Nutritions'], axis=1, inplace=True)\n",
    "# recipes_clean = recipes_clean.merge(ingredients_no_common_words, on='RecipeId')\n",
    "# recipes_clean = recipes_clean.merge(keywords_clean, on='RecipeId')\n",
    "# recipes_clean = recipes_clean.merge(categories_clean, on='RecipeId')\n",
    "\n",
    "# sample = recipes[['RecipeId', 'Calories', 'FatContent', 'SaturatedFatContent',\n",
    "#                                             'CholesterolContent', 'SodiumContent', 'CarbohydrateContent',\n",
    "#                                             'FiberContent', 'SugarContent', 'ProteinContent']]\n",
    "\n",
    "# recipes_clean = recipes_clean.merge(sample, on='RecipeId')"
   ]
  },
  {
   "cell_type": "code",
   "execution_count": 57,
   "id": "6b440651",
   "metadata": {},
   "outputs": [],
   "source": [
    "recipes_sample = recipes_small[recipes_small.RecipeId.isin(list(ratings_min_20.RecipeId))].copy()"
   ]
  },
  {
   "cell_type": "markdown",
   "id": "405beec1",
   "metadata": {},
   "source": [
    "# Prepare dataset"
   ]
  },
  {
   "cell_type": "markdown",
   "id": "45806056",
   "metadata": {},
   "source": [
    "## Ratings"
   ]
  },
  {
   "cell_type": "code",
   "execution_count": 14,
   "id": "a78ff138",
   "metadata": {},
   "outputs": [],
   "source": [
    "ratings_sample.AuthorId = ratings_sample.AuthorId.map(lambda x: bytes(str(x), 'utf-8'))\n",
    "ratings_sample.RecipeId = ratings_sample.RecipeId.map(lambda x: bytes(str(x), 'utf-8'))"
   ]
  },
  {
   "cell_type": "code",
   "execution_count": 15,
   "id": "acbcb670",
   "metadata": {},
   "outputs": [],
   "source": [
    "ratings_dict = ratings_sample.groupby(['AuthorId', 'RecipeId'])['Rating'].sum().reset_index()"
   ]
  },
  {
   "cell_type": "code",
   "execution_count": 16,
   "id": "0360d047",
   "metadata": {},
   "outputs": [],
   "source": [
    "ratings_dict = {name: np.array(value) for name, value in ratings_dict.items()}\n",
    "ratings = tf.data.Dataset.from_tensor_slices(ratings_dict)\n"
   ]
  },
  {
   "cell_type": "code",
   "execution_count": 17,
   "id": "c2d404e6",
   "metadata": {},
   "outputs": [],
   "source": [
    "ratings = ratings.map(lambda x: {'AuthorId' : x['AuthorId'], \n",
    "                                 'RecipeId' : x['RecipeId'], \n",
    "                                 'Rating' : float(x['Rating']),})"
   ]
  },
  {
   "cell_type": "code",
   "execution_count": 18,
   "id": "79a7a888",
   "metadata": {},
   "outputs": [
    {
     "name": "stdout",
     "output_type": "stream",
     "text": [
      "{'AuthorId': b'100026', 'Rating': 5.0, 'RecipeId': b'120914'}\n",
      "{'AuthorId': b'100026', 'Rating': 5.0, 'RecipeId': b'143736'}\n",
      "{'AuthorId': b'100026', 'Rating': 4.0, 'RecipeId': b'161324'}\n",
      "{'AuthorId': b'100026', 'Rating': 5.0, 'RecipeId': b'161335'}\n",
      "{'AuthorId': b'100026', 'Rating': 4.0, 'RecipeId': b'161381'}\n",
      "{'AuthorId': b'100026', 'Rating': 5.0, 'RecipeId': b'172588'}\n",
      "{'AuthorId': b'100026', 'Rating': 5.0, 'RecipeId': b'195437'}\n",
      "{'AuthorId': b'100026', 'Rating': 5.0, 'RecipeId': b'33201'}\n",
      "{'AuthorId': b'100026', 'Rating': 5.0, 'RecipeId': b'39165'}\n",
      "{'AuthorId': b'100026', 'Rating': 5.0, 'RecipeId': b'8739'}\n"
     ]
    }
   ],
   "source": [
    "for x in ratings.take(10).as_numpy_iterator():\n",
    "    pprint.pprint(x)"
   ]
  },
  {
   "cell_type": "markdown",
   "id": "966aaca6",
   "metadata": {},
   "source": [
    "## Recipes"
   ]
  },
  {
   "cell_type": "code",
   "execution_count": null,
   "id": "c51abfaf",
   "metadata": {},
   "outputs": [],
   "source": [
    "# recipes_clean.info()"
   ]
  },
  {
   "cell_type": "code",
   "execution_count": 19,
   "id": "fcaf2a6f",
   "metadata": {},
   "outputs": [],
   "source": [
    "features = [\"RecipeId\", \"Name\", \"Keywords\", \"Ingredients\", \"FatContent\", \"SaturatedFatContent\", \"CholesterolContent\", \"SodiumContent\",\n",
    "           \"CarbohydrateContent\", \"FiberContent\",\"SugarContent\", \"ProteinContent\"]"
   ]
  },
  {
   "cell_type": "code",
   "execution_count": 58,
   "id": "d92cbe5f",
   "metadata": {},
   "outputs": [],
   "source": [
    "recipes_sample.RecipeId = recipes_sample.RecipeId.map(lambda x: bytes(str(x), 'utf-8'))\n",
    "recipes_dict = recipes_sample[['RecipeId']]\n",
    "recipes_dict = {name: np.array(value) for name, value in recipes_dict.items()}\n",
    "recipes = tf.data.Dataset.from_tensor_slices(recipes_dict)"
   ]
  },
  {
   "cell_type": "code",
   "execution_count": 63,
   "id": "2cb50963",
   "metadata": {},
   "outputs": [],
   "source": [
    "recipes = recipes.map(lambda x: x['RecipeId'])"
   ]
  },
  {
   "cell_type": "markdown",
   "id": "3465c661",
   "metadata": {},
   "source": [
    "## Basic version - just ids"
   ]
  },
  {
   "cell_type": "code",
   "execution_count": 66,
   "id": "dc922f4b",
   "metadata": {},
   "outputs": [],
   "source": [
    "size = ratings_min_20.shape[0]\n",
    "train_size = int(0.8 * size)\n",
    "test_size = size - train_size\n",
    "\n",
    "tf.random.set_seed(42)\n",
    "shuffled = ratings.shuffle(size, seed=42, reshuffle_each_iteration=False)\n",
    "\n",
    "train = shuffled.take(train_size)\n",
    "test = shuffled.take(train_size).take(test_size)"
   ]
  },
  {
   "cell_type": "code",
   "execution_count": 67,
   "id": "e332e846",
   "metadata": {},
   "outputs": [],
   "source": [
    "recipe_ids = recipes.batch(1_000)\n",
    "user_ids = ratings.batch(1_000_000).map(lambda x: x[\"AuthorId\"])\n",
    "\n",
    "unique_recipe_ids = np.unique(np.concatenate(list(recipe_ids)))\n",
    "unique_user_ids = np.unique(np.concatenate(list(user_ids)))"
   ]
  },
  {
   "cell_type": "code",
   "execution_count": null,
   "id": "46f420c1",
   "metadata": {},
   "outputs": [],
   "source": [
    "# unique_user_ids = [bytes(str(x), 'utf-8') for x in unique_user_ids]"
   ]
  },
  {
   "cell_type": "code",
   "execution_count": null,
   "id": "4b9d51f9",
   "metadata": {},
   "outputs": [],
   "source": [
    "# unique_recipe_ids = [bytes(str(x), 'utf-8') for x in unique_recipe_ids]"
   ]
  },
  {
   "cell_type": "markdown",
   "id": "61939904",
   "metadata": {},
   "source": [
    "# Implementing model"
   ]
  },
  {
   "cell_type": "markdown",
   "id": "a19ae685",
   "metadata": {},
   "source": [
    "## Query tower"
   ]
  },
  {
   "cell_type": "code",
   "execution_count": 71,
   "id": "1e2f165c",
   "metadata": {},
   "outputs": [],
   "source": [
    "embedding_dimension = 32"
   ]
  },
  {
   "cell_type": "code",
   "execution_count": 72,
   "id": "537fb15a",
   "metadata": {},
   "outputs": [],
   "source": [
    "user_model = tf.keras.Sequential([\n",
    "    tf.keras.layers.StringLookup(vocabulary=unique_user_ids, mask_token=None),\n",
    "    tf.keras.layers.Embedding(len(unique_user_ids) + 1, embedding_dimension)\n",
    "])"
   ]
  },
  {
   "cell_type": "markdown",
   "id": "f35bff0e",
   "metadata": {},
   "source": [
    "## Candidate tower"
   ]
  },
  {
   "cell_type": "code",
   "execution_count": 73,
   "id": "48bfab3c",
   "metadata": {},
   "outputs": [],
   "source": [
    "recipe_model = tf.keras.Sequential([\n",
    "  tf.keras.layers.StringLookup(\n",
    "      vocabulary=unique_recipe_ids, mask_token=None),\n",
    "  tf.keras.layers.Embedding(len(unique_recipe_ids) + 1, embedding_dimension)\n",
    "])"
   ]
  },
  {
   "cell_type": "markdown",
   "id": "c4b0b8c9",
   "metadata": {},
   "source": [
    "## Model"
   ]
  },
  {
   "cell_type": "code",
   "execution_count": 74,
   "id": "23a0f11b",
   "metadata": {},
   "outputs": [],
   "source": [
    "class RecipeModel(tfrs.Model):\n",
    "    def __init__(self, user_model, recipe_model):\n",
    "        super().__init__()\n",
    "        self.recipe_model: tf.keras.Model = recipe_model\n",
    "        self.user_model: tf.keras.Model = user_model\n",
    "            \n",
    "        metrics = tfrs.metrics.FactorizedTopK(candidates=recipes.batch(128).map(recipe_model))\n",
    "        task = tfrs.tasks.Retrieval(metrics=metrics)\n",
    "        self.task: tf.keras.layers.Layer = task\n",
    "            \n",
    "    def compute_loss(self, features: Dict[Text, tf.Tensor], training=False) -> tf.Tensor:\n",
    "        print(features)\n",
    "        user_embeddings = self.user_model(features[\"AuthorId\"])\n",
    "        positive_recipe_embeddings = self.recipe_model(features[\"RecipeId\"])\n",
    "        \n",
    "        return self.task(user_embeddings, positive_recipe_embeddings)"
   ]
  },
  {
   "cell_type": "code",
   "execution_count": 75,
   "id": "1468f00b",
   "metadata": {},
   "outputs": [],
   "source": [
    "model = RecipeModel(user_model, recipe_model)\n",
    "model.compile(optimizer=tf.keras.optimizers.Adagrad(learning_rate=0.1))"
   ]
  },
  {
   "cell_type": "code",
   "execution_count": 76,
   "id": "c6d31156",
   "metadata": {},
   "outputs": [],
   "source": [
    "cached_train = train.shuffle(100_000).batch(8192).cache()\n",
    "cached_test = test.batch(4096).cache()"
   ]
  },
  {
   "cell_type": "code",
   "execution_count": 77,
   "id": "e07f06a6",
   "metadata": {},
   "outputs": [
    {
     "name": "stdout",
     "output_type": "stream",
     "text": [
      "Epoch 1/3\n",
      "{'AuthorId': <tf.Tensor 'IteratorGetNext:0' shape=(None,) dtype=string>, 'RecipeId': <tf.Tensor 'IteratorGetNext:2' shape=(None,) dtype=string>, 'Rating': <tf.Tensor 'IteratorGetNext:1' shape=(None,) dtype=float32>}\n",
      "{'AuthorId': <tf.Tensor 'IteratorGetNext:0' shape=(None,) dtype=string>, 'RecipeId': <tf.Tensor 'IteratorGetNext:2' shape=(None,) dtype=string>, 'Rating': <tf.Tensor 'IteratorGetNext:1' shape=(None,) dtype=float32>}\n",
      "31/31 [==============================] - 210s 6s/step - factorized_top_k/top_1_categorical_accuracy: 1.8950e-04 - factorized_top_k/top_5_categorical_accuracy: 0.0021 - factorized_top_k/top_10_categorical_accuracy: 0.0045 - factorized_top_k/top_50_categorical_accuracy: 0.0186 - factorized_top_k/top_100_categorical_accuracy: 0.0319 - loss: 70181.0548 - regularization_loss: 0.0000e+00 - total_loss: 70181.0548\n",
      "Epoch 2/3\n",
      "31/31 [==============================] - 201s 6s/step - factorized_top_k/top_1_categorical_accuracy: 0.0011 - factorized_top_k/top_5_categorical_accuracy: 0.0115 - factorized_top_k/top_10_categorical_accuracy: 0.0212 - factorized_top_k/top_50_categorical_accuracy: 0.0700 - factorized_top_k/top_100_categorical_accuracy: 0.1102 - loss: 68591.0181 - regularization_loss: 0.0000e+00 - total_loss: 68591.0181\n",
      "Epoch 3/3\n",
      "31/31 [==============================] - 202s 7s/step - factorized_top_k/top_1_categorical_accuracy: 0.0022 - factorized_top_k/top_5_categorical_accuracy: 0.0218 - factorized_top_k/top_10_categorical_accuracy: 0.0383 - factorized_top_k/top_50_categorical_accuracy: 0.1172 - factorized_top_k/top_100_categorical_accuracy: 0.1771 - loss: 65957.7162 - regularization_loss: 0.0000e+00 - total_loss: 65957.7162\n"
     ]
    },
    {
     "data": {
      "text/plain": [
       "<keras.callbacks.History at 0x2a8269e4d60>"
      ]
     },
     "execution_count": 77,
     "metadata": {},
     "output_type": "execute_result"
    }
   ],
   "source": [
    "model.fit(cached_train, epochs=3)"
   ]
  },
  {
   "cell_type": "code",
   "execution_count": 78,
   "id": "e47df4ae",
   "metadata": {},
   "outputs": [
    {
     "name": "stdout",
     "output_type": "stream",
     "text": [
      "{'AuthorId': <tf.Tensor 'IteratorGetNext:0' shape=(None,) dtype=string>, 'RecipeId': <tf.Tensor 'IteratorGetNext:2' shape=(None,) dtype=string>, 'Rating': <tf.Tensor 'IteratorGetNext:1' shape=(None,) dtype=float32>}\n",
      "16/16 [==============================] - 52s 3s/step - factorized_top_k/top_1_categorical_accuracy: 0.0084 - factorized_top_k/top_5_categorical_accuracy: 0.0387 - factorized_top_k/top_10_categorical_accuracy: 0.0630 - factorized_top_k/top_50_categorical_accuracy: 0.1726 - factorized_top_k/top_100_categorical_accuracy: 0.2488 - loss: 27485.1939 - regularization_loss: 0.0000e+00 - total_loss: 27485.1939\n"
     ]
    },
    {
     "data": {
      "text/plain": [
       "{'factorized_top_k/top_1_categorical_accuracy': 0.008418675512075424,\n",
       " 'factorized_top_k/top_5_categorical_accuracy': 0.03870655596256256,\n",
       " 'factorized_top_k/top_10_categorical_accuracy': 0.06296266615390778,\n",
       " 'factorized_top_k/top_50_categorical_accuracy': 0.1725667268037796,\n",
       " 'factorized_top_k/top_100_categorical_accuracy': 0.24878638982772827,\n",
       " 'loss': 3112.62451171875,\n",
       " 'regularization_loss': 0,\n",
       " 'total_loss': 3112.62451171875}"
      ]
     },
     "execution_count": 78,
     "metadata": {},
     "output_type": "execute_result"
    }
   ],
   "source": [
    "model.evaluate(cached_test, return_dict=True)"
   ]
  },
  {
   "cell_type": "code",
   "execution_count": 80,
   "id": "6674bb96",
   "metadata": {},
   "outputs": [],
   "source": [
    "index = tfrs.layers.factorized_top_k.BruteForce(model.user_model)\n",
    "index.index_from_dataset(tf.data.Dataset.zip((recipes.batch(100), recipes.batch(100).map(model.recipe_model))))\n",
    "\n",
    "x, titles = index(tf.constant([b'2695']))"
   ]
  },
  {
   "cell_type": "code",
   "execution_count": 81,
   "id": "8340f4bb",
   "metadata": {},
   "outputs": [
    {
     "name": "stdout",
     "output_type": "stream",
     "text": [
      "Recommendatons for user 42: [b'38846' b'11969' b'86623']\n"
     ]
    }
   ],
   "source": [
    "print(f\"Recommendatons for user 42: {titles[0, :3]}\")"
   ]
  },
  {
   "cell_type": "code",
   "execution_count": 84,
   "id": "2cf00a3e",
   "metadata": {},
   "outputs": [
    {
     "data": {
      "text/html": [
       "<div>\n",
       "<style scoped>\n",
       "    .dataframe tbody tr th:only-of-type {\n",
       "        vertical-align: middle;\n",
       "    }\n",
       "\n",
       "    .dataframe tbody tr th {\n",
       "        vertical-align: top;\n",
       "    }\n",
       "\n",
       "    .dataframe thead th {\n",
       "        text-align: right;\n",
       "    }\n",
       "</style>\n",
       "<table border=\"1\" class=\"dataframe\">\n",
       "  <thead>\n",
       "    <tr style=\"text-align: right;\">\n",
       "      <th></th>\n",
       "      <th>RecipeId</th>\n",
       "      <th>AuthorId</th>\n",
       "      <th>Rating</th>\n",
       "      <th>Review</th>\n",
       "      <th>DateSubmitted</th>\n",
       "    </tr>\n",
       "  </thead>\n",
       "  <tbody>\n",
       "    <tr>\n",
       "      <th>0</th>\n",
       "      <td>b'4807'</td>\n",
       "      <td>b'2695'</td>\n",
       "      <td>2</td>\n",
       "      <td>I'm sorry, but I tried this method for my Chri...</td>\n",
       "      <td>2000-12-27 13:47:50+00:00</td>\n",
       "    </tr>\n",
       "    <tr>\n",
       "      <th>2</th>\n",
       "      <td>b'12134'</td>\n",
       "      <td>b'2695'</td>\n",
       "      <td>5</td>\n",
       "      <td>This dish was excellent.  The sauce turned out...</td>\n",
       "      <td>2001-01-19 16:40:14+00:00</td>\n",
       "    </tr>\n",
       "    <tr>\n",
       "      <th>48018</th>\n",
       "      <td>b'86623'</td>\n",
       "      <td>b'2695'</td>\n",
       "      <td>2</td>\n",
       "      <td>A bit too dry for our tastes.</td>\n",
       "      <td>2007-01-31 11:30:50+00:00</td>\n",
       "    </tr>\n",
       "    <tr>\n",
       "      <th>49166</th>\n",
       "      <td>b'53767'</td>\n",
       "      <td>b'2695'</td>\n",
       "      <td>5</td>\n",
       "      <td>This soup was very easy to make and tasted fan...</td>\n",
       "      <td>2005-08-13 09:49:33+00:00</td>\n",
       "    </tr>\n",
       "    <tr>\n",
       "      <th>58607</th>\n",
       "      <td>b'41685'</td>\n",
       "      <td>b'2695'</td>\n",
       "      <td>4</td>\n",
       "      <td>This was very good, and easy.  I added some ch...</td>\n",
       "      <td>2005-12-24 07:19:11+00:00</td>\n",
       "    </tr>\n",
       "    <tr>\n",
       "      <th>58899</th>\n",
       "      <td>b'83287'</td>\n",
       "      <td>b'2695'</td>\n",
       "      <td>1</td>\n",
       "      <td>Tried this with our leftover ham bone from the...</td>\n",
       "      <td>2005-12-27 16:01:03+00:00</td>\n",
       "    </tr>\n",
       "    <tr>\n",
       "      <th>67440</th>\n",
       "      <td>b'109295'</td>\n",
       "      <td>b'2695'</td>\n",
       "      <td>5</td>\n",
       "      <td>This sounds odd, but I'm telling you it is fan...</td>\n",
       "      <td>2006-04-16 17:35:16+00:00</td>\n",
       "    </tr>\n",
       "    <tr>\n",
       "      <th>79717</th>\n",
       "      <td>b'37638'</td>\n",
       "      <td>b'2695'</td>\n",
       "      <td>4</td>\n",
       "      <td>loved it . . . i did add several fresh chopped...</td>\n",
       "      <td>2006-09-20 09:23:01+00:00</td>\n",
       "    </tr>\n",
       "    <tr>\n",
       "      <th>92275</th>\n",
       "      <td>b'30018'</td>\n",
       "      <td>b'2695'</td>\n",
       "      <td>5</td>\n",
       "      <td>Wonderful.  I did add 8oz of tomato juice so i...</td>\n",
       "      <td>2007-01-18 08:38:56+00:00</td>\n",
       "    </tr>\n",
       "    <tr>\n",
       "      <th>164510</th>\n",
       "      <td>b'70224'</td>\n",
       "      <td>b'2695'</td>\n",
       "      <td>3</td>\n",
       "      <td>Not bad.  A little too thin for our taste, so ...</td>\n",
       "      <td>2008-07-11 14:50:56+00:00</td>\n",
       "    </tr>\n",
       "    <tr>\n",
       "      <th>164511</th>\n",
       "      <td>b'63750'</td>\n",
       "      <td>b'2695'</td>\n",
       "      <td>2</td>\n",
       "      <td>I was expecting a lot better.  Very dry, but t...</td>\n",
       "      <td>2008-07-11 14:52:06+00:00</td>\n",
       "    </tr>\n",
       "    <tr>\n",
       "      <th>190029</th>\n",
       "      <td>b'57033'</td>\n",
       "      <td>b'2695'</td>\n",
       "      <td>5</td>\n",
       "      <td>I used to use a recipe out of a Hungarian cook...</td>\n",
       "      <td>2009-01-17 12:03:39+00:00</td>\n",
       "    </tr>\n",
       "    <tr>\n",
       "      <th>229799</th>\n",
       "      <td>b'90822'</td>\n",
       "      <td>b'2695'</td>\n",
       "      <td>5</td>\n",
       "      <td>wonderful dish . . . made it exactly as descri...</td>\n",
       "      <td>2009-12-18 22:14:38+00:00</td>\n",
       "    </tr>\n",
       "    <tr>\n",
       "      <th>259480</th>\n",
       "      <td>b'213535'</td>\n",
       "      <td>b'2695'</td>\n",
       "      <td>5</td>\n",
       "      <td>Wonderful!   I use this as my go-to risotto re...</td>\n",
       "      <td>2010-12-22 14:52:48+00:00</td>\n",
       "    </tr>\n",
       "  </tbody>\n",
       "</table>\n",
       "</div>"
      ],
      "text/plain": [
       "         RecipeId AuthorId  Rating  \\\n",
       "0         b'4807'  b'2695'       2   \n",
       "2        b'12134'  b'2695'       5   \n",
       "48018    b'86623'  b'2695'       2   \n",
       "49166    b'53767'  b'2695'       5   \n",
       "58607    b'41685'  b'2695'       4   \n",
       "58899    b'83287'  b'2695'       1   \n",
       "67440   b'109295'  b'2695'       5   \n",
       "79717    b'37638'  b'2695'       4   \n",
       "92275    b'30018'  b'2695'       5   \n",
       "164510   b'70224'  b'2695'       3   \n",
       "164511   b'63750'  b'2695'       2   \n",
       "190029   b'57033'  b'2695'       5   \n",
       "229799   b'90822'  b'2695'       5   \n",
       "259480  b'213535'  b'2695'       5   \n",
       "\n",
       "                                                   Review  \\\n",
       "0       I'm sorry, but I tried this method for my Chri...   \n",
       "2       This dish was excellent.  The sauce turned out...   \n",
       "48018                       A bit too dry for our tastes.   \n",
       "49166   This soup was very easy to make and tasted fan...   \n",
       "58607   This was very good, and easy.  I added some ch...   \n",
       "58899   Tried this with our leftover ham bone from the...   \n",
       "67440   This sounds odd, but I'm telling you it is fan...   \n",
       "79717   loved it . . . i did add several fresh chopped...   \n",
       "92275   Wonderful.  I did add 8oz of tomato juice so i...   \n",
       "164510  Not bad.  A little too thin for our taste, so ...   \n",
       "164511  I was expecting a lot better.  Very dry, but t...   \n",
       "190029  I used to use a recipe out of a Hungarian cook...   \n",
       "229799  wonderful dish . . . made it exactly as descri...   \n",
       "259480  Wonderful!   I use this as my go-to risotto re...   \n",
       "\n",
       "                   DateSubmitted  \n",
       "0      2000-12-27 13:47:50+00:00  \n",
       "2      2001-01-19 16:40:14+00:00  \n",
       "48018  2007-01-31 11:30:50+00:00  \n",
       "49166  2005-08-13 09:49:33+00:00  \n",
       "58607  2005-12-24 07:19:11+00:00  \n",
       "58899  2005-12-27 16:01:03+00:00  \n",
       "67440  2006-04-16 17:35:16+00:00  \n",
       "79717  2006-09-20 09:23:01+00:00  \n",
       "92275  2007-01-18 08:38:56+00:00  \n",
       "164510 2008-07-11 14:50:56+00:00  \n",
       "164511 2008-07-11 14:52:06+00:00  \n",
       "190029 2009-01-17 12:03:39+00:00  \n",
       "229799 2009-12-18 22:14:38+00:00  \n",
       "259480 2010-12-22 14:52:48+00:00  "
      ]
     },
     "execution_count": 84,
     "metadata": {},
     "output_type": "execute_result"
    }
   ],
   "source": [
    "ratings_sample[ratings_sample.AuthorId == b'2695']"
   ]
  },
  {
   "cell_type": "code",
   "execution_count": 89,
   "id": "a6d9f276",
   "metadata": {},
   "outputs": [
    {
     "data": {
      "text/html": [
       "<div>\n",
       "<style scoped>\n",
       "    .dataframe tbody tr th:only-of-type {\n",
       "        vertical-align: middle;\n",
       "    }\n",
       "\n",
       "    .dataframe tbody tr th {\n",
       "        vertical-align: top;\n",
       "    }\n",
       "\n",
       "    .dataframe thead th {\n",
       "        text-align: right;\n",
       "    }\n",
       "</style>\n",
       "<table border=\"1\" class=\"dataframe\">\n",
       "  <thead>\n",
       "    <tr style=\"text-align: right;\">\n",
       "      <th></th>\n",
       "      <th>RecipeId</th>\n",
       "      <th>Name</th>\n",
       "      <th>AuthorId</th>\n",
       "      <th>CookTimeInMinutes</th>\n",
       "      <th>PrepTimeInMinutes</th>\n",
       "      <th>TotalTimeInMinutes</th>\n",
       "      <th>DatePublished</th>\n",
       "      <th>Description</th>\n",
       "      <th>RecipeCategory</th>\n",
       "      <th>Keywords</th>\n",
       "      <th>Ingredients</th>\n",
       "      <th>RecipeServings</th>\n",
       "      <th>RecipeInstructions</th>\n",
       "      <th>Nutritions</th>\n",
       "    </tr>\n",
       "  </thead>\n",
       "  <tbody>\n",
       "    <tr>\n",
       "      <th>81549</th>\n",
       "      <td>b'86623'</td>\n",
       "      <td>Lasagna Supremo (The Best Lasagna Ever!)</td>\n",
       "      <td>112818</td>\n",
       "      <td>60.0</td>\n",
       "      <td>45.0</td>\n",
       "      <td>105.0</td>\n",
       "      <td>2004-03-15 20:00:00+00:00</td>\n",
       "      <td>This is a recipe that I have been making for m...</td>\n",
       "      <td>Pork</td>\n",
       "      <td>[Cheese, Vegetable, Meat, European, Oven, &lt; 4 ...</td>\n",
       "      <td>[ground beef, ground pork, Italian sausage, bu...</td>\n",
       "      <td>8.0</td>\n",
       "      <td>[FOR THE LASAGNA: Prepare lasagna according to...</td>\n",
       "      <td>[67.0, 29.8, 230.3, 2927.0, 78.0, 8.0, 14.1, 6...</td>\n",
       "    </tr>\n",
       "  </tbody>\n",
       "</table>\n",
       "</div>"
      ],
      "text/plain": [
       "       RecipeId                                      Name  AuthorId  \\\n",
       "81549  b'86623'  Lasagna Supremo (The Best Lasagna Ever!)    112818   \n",
       "\n",
       "       CookTimeInMinutes  PrepTimeInMinutes  TotalTimeInMinutes  \\\n",
       "81549               60.0               45.0               105.0   \n",
       "\n",
       "                  DatePublished  \\\n",
       "81549 2004-03-15 20:00:00+00:00   \n",
       "\n",
       "                                             Description RecipeCategory  \\\n",
       "81549  This is a recipe that I have been making for m...           Pork   \n",
       "\n",
       "                                                Keywords  \\\n",
       "81549  [Cheese, Vegetable, Meat, European, Oven, < 4 ...   \n",
       "\n",
       "                                             Ingredients  RecipeServings  \\\n",
       "81549  [ground beef, ground pork, Italian sausage, bu...             8.0   \n",
       "\n",
       "                                      RecipeInstructions  \\\n",
       "81549  [FOR THE LASAGNA: Prepare lasagna according to...   \n",
       "\n",
       "                                              Nutritions  \n",
       "81549  [67.0, 29.8, 230.3, 2927.0, 78.0, 8.0, 14.1, 6...  "
      ]
     },
     "execution_count": 89,
     "metadata": {},
     "output_type": "execute_result"
    }
   ],
   "source": [
    "recipes_sample[recipes_sample.RecipeId == b'86623']"
   ]
  },
  {
   "cell_type": "code",
   "execution_count": null,
   "id": "10440ad1",
   "metadata": {},
   "outputs": [],
   "source": []
  }
 ],
 "metadata": {
  "kernelspec": {
   "display_name": "Python 3 (ipykernel)",
   "language": "python",
   "name": "python3"
  },
  "language_info": {
   "codemirror_mode": {
    "name": "ipython",
    "version": 3
   },
   "file_extension": ".py",
   "mimetype": "text/x-python",
   "name": "python",
   "nbconvert_exporter": "python",
   "pygments_lexer": "ipython3",
   "version": "3.9.7"
  }
 },
 "nbformat": 4,
 "nbformat_minor": 5
}
