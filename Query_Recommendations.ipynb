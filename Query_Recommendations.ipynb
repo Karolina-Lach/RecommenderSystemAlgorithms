{
 "cells": [
  {
   "cell_type": "markdown",
   "id": "28c6ac05",
   "metadata": {},
   "source": [
    "# Imports"
   ]
  },
  {
   "cell_type": "code",
   "execution_count": 17,
   "id": "76056ee1",
   "metadata": {},
   "outputs": [],
   "source": [
    "from cleaning_words import clean_phrases_in_list_spacy\n",
    "from cleaning_words import remove_common_words\n",
    "from cleaning_words import read_common_words\n",
    "from doc_embeddings import TfidfEmbeddingVectorizer\n",
    "from sklearn.metrics.pairwise import cosine_similarity\n",
    "import heapq\n",
    "\n",
    "import dill\n",
    "import pickle"
   ]
  },
  {
   "cell_type": "markdown",
   "id": "75bcd13c",
   "metadata": {},
   "source": [
    "# Constants"
   ]
  },
  {
   "cell_type": "code",
   "execution_count": 23,
   "id": "c6d59059",
   "metadata": {},
   "outputs": [],
   "source": [
    "COMMON_WORDS = '../cleaned_files/common_words.txt'\n",
    "TFIDF_VECTORIZER_ING = \"../word_embeddings_files/vectors/tfidf_vectorizer_ingredients.obj\"\n",
    "WORD2VEC_ING_VECTORS = \"../word_embeddings_files/vectors/word2vec_ingredients_vectors.obj\"\n",
    "RECIPE_ID_TO_NAME = \"../EDA_files/recipe_id_to_name.obj\"\n",
    "RECIPE_ID_TO_INGREDIENTS = \"../EDA_files/recipe_id_to_ingredients.obj\"\n"
   ]
  },
  {
   "cell_type": "markdown",
   "id": "79175168",
   "metadata": {},
   "source": [
    "# Load data"
   ]
  },
  {
   "cell_type": "code",
   "execution_count": 3,
   "id": "a35f13be",
   "metadata": {},
   "outputs": [],
   "source": [
    "common_words = read_common_words(COMMON_WORDS)"
   ]
  },
  {
   "cell_type": "code",
   "execution_count": 4,
   "id": "29c43f38",
   "metadata": {},
   "outputs": [],
   "source": [
    "with open(TFIDF_VECTORIZER_ING, 'rb') as pickle_file:\n",
    "    tfidf_ingredients = dill.load(pickle_file)"
   ]
  },
  {
   "cell_type": "code",
   "execution_count": 5,
   "id": "cd23808e",
   "metadata": {},
   "outputs": [],
   "source": [
    "with open(WORD2VEC_ING_VECTORS, 'rb') as pickle_file:\n",
    "    ingredient_vectors_dict = dill.load(pickle_file)"
   ]
  },
  {
   "cell_type": "code",
   "execution_count": 18,
   "id": "f18dd43b",
   "metadata": {},
   "outputs": [],
   "source": [
    "with open(RECIPE_ID_TO_NAME, 'rb') as pickle_file:\n",
    "    recipe_id_to_name = pickle.load(pickle_file)"
   ]
  },
  {
   "cell_type": "code",
   "execution_count": 24,
   "id": "ae13f456",
   "metadata": {},
   "outputs": [],
   "source": [
    "with open(RECIPE_ID_TO_INGREDIENTS, 'rb') as pickle_file:\n",
    "    recipe_id_to_ing = pickle.load(pickle_file)"
   ]
  },
  {
   "cell_type": "markdown",
   "id": "419616cc",
   "metadata": {},
   "source": [
    "# Recommendation functions"
   ]
  },
  {
   "cell_type": "code",
   "execution_count": 11,
   "id": "3e851851",
   "metadata": {},
   "outputs": [],
   "source": [
    "def get_top_k_recommendations(query, vectors_dict, tfidifVectorizer, common_words, k=10):\n",
    "    query = clean_phrases_in_list_spacy(query.split())\n",
    "    query = remove_common_words(query, common_words)\n",
    "    \n",
    "    query_embedding = tfidifVectorizer.create_doc_vectors([query])\n",
    "    cos_sim_scores = list(map(lambda x: (x[0], cosine_similarity(query_embedding[0], \n",
    "                                                                 x[1].reshape(1, -1))[0][0]), \n",
    "                              vectors_dict.items()))\n",
    "    \n",
    "    top_k = heapq.nlargest(k, cos_sim_scores, key=lambda t: t[1])\n",
    "    return top_k"
   ]
  },
  {
   "cell_type": "code",
   "execution_count": 28,
   "id": "fc472b3b",
   "metadata": {},
   "outputs": [],
   "source": [
    "def print_recommendations(top_k):\n",
    "    i = 1\n",
    "    for recipe_id, sim in top_k:\n",
    "        print(i, \"(\", sim, \")\")\n",
    "        print(recipe_id_to_name[recipe_id])\n",
    "        print(recipe_id_to_ing[recipe_id])\n",
    "        print()\n",
    "        i += 1"
   ]
  },
  {
   "cell_type": "code",
   "execution_count": 33,
   "id": "013351ed",
   "metadata": {},
   "outputs": [],
   "source": [
    "def get_recommendations(query, vectors_dict, tfidifVectorizer, common_words, k=10):\n",
    "    top_k = get_top_k_recommendations(query, vectors_dict, tfidifVectorizer, common_words, k)\n",
    "    print_recommendations(top_k)"
   ]
  },
  {
   "cell_type": "code",
   "execution_count": 34,
   "id": "cc75ef78",
   "metadata": {},
   "outputs": [],
   "source": [
    "query = 'fresh tomatoes, onion, cheese, pasta, bread, egg'"
   ]
  },
  {
   "cell_type": "code",
   "execution_count": 36,
   "id": "b9eca0ad",
   "metadata": {},
   "outputs": [
    {
     "name": "stdout",
     "output_type": "stream",
     "text": [
      "1 ( 0.8005910885943857 )\n",
      "Low-Carb Pizza\n",
      "['pasta', 'cheese', 'onion']\n",
      "\n",
      "2 ( 0.7994824888145369 )\n",
      "Chili & Cheese Ramen Wonder\n",
      "['pasta', 'diced tomatoes', 'cheese', 'cheese']\n",
      "\n",
      "3 ( 0.7606241357571717 )\n",
      "Vegeroni\n",
      "['pasta', 'cheese']\n",
      "\n",
      "4 ( 0.7606241357571717 )\n",
      "Sweet Lunchbox Noodles\n",
      "['pasta', 'cheese']\n",
      "\n",
      "5 ( 0.7291152819926507 )\n",
      "Pasta Seafood Salad\n",
      "['pasta', 'red onion']\n",
      "\n",
      "6 ( 0.7238693450007452 )\n",
      "Smart Alec Pork Neck Bones Spaghetti - Pressure Cooker Style\n",
      "['pasta', 'cheese', 'water']\n",
      "\n",
      "7 ( 0.7174492260338161 )\n",
      "Venison Cacciatore\n",
      "['onions', 'green peppers', 'bacon', 'crushed tomatoes', 'tomatoes', 'penne pasta']\n",
      "\n",
      "8 ( 0.7130828826644078 )\n",
      "Delicious Quick Pasta &amp; Sauce\n",
      "['olive oil', 'onion', 'garlic cloves', 'tomato sauce', 'salt', 'thyme', 'red pepper flakes', 'fresh basil leaf', 'mozzarella cheese', 'monterey jack cheese', 'cheddar cheese', 'parmesan cheese', 'pasta']\n",
      "\n",
      "9 ( 0.7129608882777569 )\n",
      "Pasta Fiesta\n",
      "['tomatoes', 'fresh basil', 'garlic cloves', 'olive oil', 'rotini pasta', 'penne', 'cheddar cheese', 'mozzarella cheese']\n",
      "\n",
      "10 ( 0.7126057514818792 )\n",
      "Tomato, Cheese &amp; Egg Savoury\n",
      "['onion', 'diced tomato', 'cheese', 'eggs', 'parsley']\n",
      "\n"
     ]
    }
   ],
   "source": [
    "get_recommendations(query, ingredient_vectors_dict, tfidf_ingredients, common_words)"
   ]
  },
  {
   "cell_type": "code",
   "execution_count": null,
   "id": "4c414196",
   "metadata": {},
   "outputs": [],
   "source": []
  },
  {
   "cell_type": "code",
   "execution_count": null,
   "id": "02a9136f",
   "metadata": {},
   "outputs": [],
   "source": []
  }
 ],
 "metadata": {
  "kernelspec": {
   "display_name": "Python 3 (ipykernel)",
   "language": "python",
   "name": "python3"
  },
  "language_info": {
   "codemirror_mode": {
    "name": "ipython",
    "version": 3
   },
   "file_extension": ".py",
   "mimetype": "text/x-python",
   "name": "python",
   "nbconvert_exporter": "python",
   "pygments_lexer": "ipython3",
   "version": "3.9.7"
  }
 },
 "nbformat": 4,
 "nbformat_minor": 5
}
