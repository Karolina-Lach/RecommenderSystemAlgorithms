{
 "cells": [
  {
   "cell_type": "markdown",
   "id": "35aa1438",
   "metadata": {},
   "source": [
    "# Imports"
   ]
  },
  {
   "cell_type": "code",
   "execution_count": 6,
   "id": "f5621c65",
   "metadata": {},
   "outputs": [],
   "source": [
    "import pandas as pd\n",
    "import sampling"
   ]
  },
  {
   "cell_type": "code",
   "execution_count": 2,
   "id": "3a07d798",
   "metadata": {},
   "outputs": [],
   "source": [
    "REVIEWS_DATA = \"../Data/dataset/reviews.parquet\"\n",
    "RECIPES_DATA = \"../Data/dataset/recipes.parquet\""
   ]
  },
  {
   "cell_type": "markdown",
   "id": "dbd6ee13",
   "metadata": {},
   "source": [
    "# Load data"
   ]
  },
  {
   "cell_type": "code",
   "execution_count": 5,
   "id": "997c9d46",
   "metadata": {},
   "outputs": [],
   "source": [
    "recipes = pd.read_parquet(RECIPES_DATA)\n",
    "ratings = pd.read_parquet(REVIEWS_DATA)"
   ]
  },
  {
   "cell_type": "code",
   "execution_count": 28,
   "id": "3556ee73",
   "metadata": {},
   "outputs": [],
   "source": [
    "df_samples_desc = pd.DataFrame(columns=[\"Min_per_user\", \"Min_per_recipe\", \"Num_ratings\", \"Unique_users\", \"Unique_recipes\"])"
   ]
  },
  {
   "cell_type": "markdown",
   "id": "87e5e583",
   "metadata": {},
   "source": [
    "## All recipes\n"
   ]
  },
  {
   "cell_type": "code",
   "execution_count": 29,
   "id": "b4329e9e",
   "metadata": {},
   "outputs": [
    {
     "data": {
      "text/plain": [
       "{'Min_per_user': 0,\n",
       " 'Min_per_recipe': 0,\n",
       " 'Num_ratings': 1401982,\n",
       " 'Unique_users': 271907,\n",
       " 'Unique_recipes': 271678}"
      ]
     },
     "execution_count": 29,
     "metadata": {},
     "output_type": "execute_result"
    }
   ],
   "source": [
    "sample = ratings.copy()\n",
    "min_per_user = 0\n",
    "min_per_recipe = 0\n",
    "\n",
    "desc = {\"Min_per_user\": min_per_user, \n",
    "        \"Min_per_recipe\": min_per_recipe, \n",
    "        \"Num_ratings\": sample.shape[0], \n",
    "        \"Unique_users\": sample.AuthorId.nunique(), \n",
    "        \"Unique_recipes\": sample.RecipeId.nunique()}\n",
    "\n",
    "df_samples_desc = df_samples_desc.append(desc, ignore_index=True)\n",
    "desc"
   ]
  },
  {
   "cell_type": "markdown",
   "id": "476ae3a0",
   "metadata": {},
   "source": [
    "## Min 5 per author"
   ]
  },
  {
   "cell_type": "code",
   "execution_count": 30,
   "id": "31735cce",
   "metadata": {},
   "outputs": [
    {
     "data": {
      "text/plain": [
       "{'Min_per_user': 5,\n",
       " 'Min_per_recipe': 0,\n",
       " 'Num_ratings': 1069317,\n",
       " 'Unique_users': 23569,\n",
       " 'Unique_recipes': 247475}"
      ]
     },
     "execution_count": 30,
     "metadata": {},
     "output_type": "execute_result"
    }
   ],
   "source": [
    "min_per_user = 5\n",
    "min_per_recipe = 0\n",
    "sample = sampling.get_rating_with_min_number(ratings, min_per_user, col_name='AuthorId')\n",
    "\n",
    "desc = {\"Min_per_user\": min_per_user, \n",
    "        \"Min_per_recipe\": min_per_recipe, \n",
    "        \"Num_ratings\": sample.shape[0], \n",
    "        \"Unique_users\": sample.AuthorId.nunique(), \n",
    "        \"Unique_recipes\": sample.RecipeId.nunique()}\n",
    "\n",
    "df_samples_desc = df_samples_desc.append(desc, ignore_index=True)\n",
    "desc"
   ]
  },
  {
   "cell_type": "markdown",
   "id": "423c8a8b",
   "metadata": {},
   "source": [
    "## Min 10 per author"
   ]
  },
  {
   "cell_type": "code",
   "execution_count": 31,
   "id": "cca0fa82",
   "metadata": {},
   "outputs": [
    {
     "data": {
      "text/plain": [
       "{'Min_per_user': 10,\n",
       " 'Min_per_recipe': 0,\n",
       " 'Num_ratings': 996428,\n",
       " 'Unique_users': 13946,\n",
       " 'Unique_recipes': 241457}"
      ]
     },
     "execution_count": 31,
     "metadata": {},
     "output_type": "execute_result"
    }
   ],
   "source": [
    "min_per_user = 10\n",
    "min_per_recipe = 0\n",
    "sample = sampling.get_rating_with_min_number(ratings, min_per_user, col_name='AuthorId')\n",
    "\n",
    "\n",
    "desc = {\"Min_per_user\": min_per_user, \n",
    "        \"Min_per_recipe\": min_per_recipe, \n",
    "        \"Num_ratings\": sample.shape[0], \n",
    "        \"Unique_users\": sample.AuthorId.nunique(), \n",
    "        \"Unique_recipes\": sample.RecipeId.nunique()}\n",
    "\n",
    "df_samples_desc = df_samples_desc.append(desc, ignore_index=True)\n",
    "desc"
   ]
  },
  {
   "cell_type": "markdown",
   "id": "ff025b34",
   "metadata": {},
   "source": [
    "## Min 15 per author"
   ]
  },
  {
   "cell_type": "code",
   "execution_count": 32,
   "id": "da29563a",
   "metadata": {},
   "outputs": [
    {
     "data": {
      "text/plain": [
       "{'Min_per_user': 15,\n",
       " 'Min_per_recipe': 0,\n",
       " 'Num_ratings': 946928,\n",
       " 'Unique_users': 10054,\n",
       " 'Unique_recipes': 237327}"
      ]
     },
     "execution_count": 32,
     "metadata": {},
     "output_type": "execute_result"
    }
   ],
   "source": [
    "min_per_user = 15\n",
    "min_per_recipe = 0\n",
    "sample = sampling.get_rating_with_min_number(ratings, min_per_user, col_name='AuthorId')\n",
    "\n",
    "desc = {\"Min_per_user\": min_per_user, \n",
    "        \"Min_per_recipe\": min_per_recipe, \n",
    "        \"Num_ratings\": sample.shape[0], \n",
    "        \"Unique_users\": sample.AuthorId.nunique(), \n",
    "        \"Unique_recipes\": sample.RecipeId.nunique()}\n",
    "\n",
    "df_samples_desc = df_samples_desc.append(desc, ignore_index=True)\n",
    "desc"
   ]
  },
  {
   "cell_type": "markdown",
   "id": "5630bcb4",
   "metadata": {},
   "source": [
    "## Min 20 per author"
   ]
  },
  {
   "cell_type": "code",
   "execution_count": 33,
   "id": "d9e62ea3",
   "metadata": {},
   "outputs": [
    {
     "data": {
      "text/plain": [
       "{'Min_per_user': 20,\n",
       " 'Min_per_recipe': 0,\n",
       " 'Num_ratings': 907573,\n",
       " 'Unique_users': 7841,\n",
       " 'Unique_recipes': 234111}"
      ]
     },
     "execution_count": 33,
     "metadata": {},
     "output_type": "execute_result"
    }
   ],
   "source": [
    "min_per_user = 20\n",
    "min_per_recipe = 0\n",
    "\n",
    "sample = sampling.get_rating_with_min_number(ratings, min_per_user, col_name='AuthorId')\n",
    "\n",
    "desc = {\"Min_per_user\": min_per_user, \n",
    "        \"Min_per_recipe\": min_per_recipe, \n",
    "        \"Num_ratings\": sample.shape[0], \n",
    "        \"Unique_users\": sample.AuthorId.nunique(), \n",
    "        \"Unique_recipes\": sample.RecipeId.nunique()}\n",
    "\n",
    "df_samples_desc = df_samples_desc.append(desc, ignore_index=True)\n",
    "desc"
   ]
  },
  {
   "cell_type": "markdown",
   "id": "594ea3e0",
   "metadata": {},
   "source": [
    "## Min 20 per author and 5 per recipe"
   ]
  },
  {
   "cell_type": "code",
   "execution_count": 35,
   "id": "4794d614",
   "metadata": {},
   "outputs": [
    {
     "data": {
      "text/plain": [
       "{'Min_per_user': 20,\n",
       " 'Min_per_recipe': 5,\n",
       " 'Num_ratings': 593499,\n",
       " 'Unique_users': 7840,\n",
       " 'Unique_recipes': 51751}"
      ]
     },
     "execution_count": 35,
     "metadata": {},
     "output_type": "execute_result"
    }
   ],
   "source": [
    "min_per_user = 20\n",
    "min_per_recipe = 5\n",
    "\n",
    "author_min = sampling.get_rating_with_min_number(ratings, min_per_user, col_name='AuthorId')\n",
    "recipe_min = sampling.get_rating_with_min_number(ratings, min_per_recipe, col_name='RecipeId')\n",
    "ratings_sample = author_min.merge(recipe_min, how='inner')\n",
    "\n",
    "sample = ratings_sample.copy()\n",
    "\n",
    "\n",
    "desc = {\"Min_per_user\": min_per_user, \n",
    "        \"Min_per_recipe\": min_per_recipe, \n",
    "        \"Num_ratings\": sample.shape[0], \n",
    "        \"Unique_users\": sample.AuthorId.nunique(), \n",
    "        \"Unique_recipes\": sample.RecipeId.nunique()}\n",
    "\n",
    "df_samples_desc = df_samples_desc.append(desc, ignore_index=True)\n",
    "desc"
   ]
  },
  {
   "cell_type": "markdown",
   "id": "6290bdd8",
   "metadata": {},
   "source": [
    "## Min 20 per author and 10 per recipe"
   ]
  },
  {
   "cell_type": "code",
   "execution_count": 38,
   "id": "44f2837d",
   "metadata": {},
   "outputs": [
    {
     "data": {
      "text/plain": [
       "{'Min_per_user': 20,\n",
       " 'Min_per_recipe': 10,\n",
       " 'Num_ratings': 441665,\n",
       " 'Unique_users': 7839,\n",
       " 'Unique_recipes': 23313}"
      ]
     },
     "execution_count": 38,
     "metadata": {},
     "output_type": "execute_result"
    }
   ],
   "source": [
    "min_per_user = 20\n",
    "min_per_recipe = 10\n",
    "\n",
    "author_min = sampling.get_rating_with_min_number(ratings, min_per_user, col_name='AuthorId')\n",
    "recipe_min = sampling.get_rating_with_min_number(ratings, min_per_recipe, col_name='RecipeId')\n",
    "ratings_sample = author_min.merge(recipe_min, how='inner')\n",
    "\n",
    "sample = ratings_sample.copy()\n",
    "\n",
    "\n",
    "desc = {\"Min_per_user\": min_per_user, \n",
    "        \"Min_per_recipe\": min_per_recipe, \n",
    "        \"Num_ratings\": sample.shape[0], \n",
    "        \"Unique_users\": sample.AuthorId.nunique(), \n",
    "        \"Unique_recipes\": sample.RecipeId.nunique()}\n",
    "\n",
    "df_samples_desc = df_samples_desc.append(desc, ignore_index=True)\n",
    "desc"
   ]
  },
  {
   "cell_type": "markdown",
   "id": "86a06685",
   "metadata": {},
   "source": [
    "## Min 20 per author and 15 per recipe"
   ]
  },
  {
   "cell_type": "code",
   "execution_count": 39,
   "id": "d274f353",
   "metadata": {},
   "outputs": [
    {
     "data": {
      "text/plain": [
       "{'Min_per_user': 20,\n",
       " 'Min_per_recipe': 15,\n",
       " 'Num_ratings': 361420,\n",
       " 'Unique_users': 7837,\n",
       " 'Unique_recipes': 14015}"
      ]
     },
     "execution_count": 39,
     "metadata": {},
     "output_type": "execute_result"
    }
   ],
   "source": [
    "min_per_user = 20\n",
    "min_per_recipe = 15\n",
    "\n",
    "author_min = sampling.get_rating_with_min_number(ratings, min_per_user, col_name='AuthorId')\n",
    "recipe_min = sampling.get_rating_with_min_number(ratings, min_per_recipe, col_name='RecipeId')\n",
    "ratings_sample = author_min.merge(recipe_min, how='inner')\n",
    "\n",
    "sample = ratings_sample.copy()\n",
    "\n",
    "\n",
    "desc = {\"Min_per_user\": min_per_user, \n",
    "        \"Min_per_recipe\": min_per_recipe, \n",
    "        \"Num_ratings\": sample.shape[0], \n",
    "        \"Unique_users\": sample.AuthorId.nunique(), \n",
    "        \"Unique_recipes\": sample.RecipeId.nunique()}\n",
    "\n",
    "df_samples_desc = df_samples_desc.append(desc, ignore_index=True)\n",
    "desc"
   ]
  },
  {
   "cell_type": "markdown",
   "id": "bd6a84a0",
   "metadata": {},
   "source": [
    "## Min 20 per author and 20 per recipe"
   ]
  },
  {
   "cell_type": "code",
   "execution_count": 40,
   "id": "5a3b3354",
   "metadata": {},
   "outputs": [
    {
     "data": {
      "text/plain": [
       "{'Min_per_user': 20,\n",
       " 'Min_per_recipe': 20,\n",
       " 'Num_ratings': 310022,\n",
       " 'Unique_users': 7828,\n",
       " 'Unique_recipes': 9578}"
      ]
     },
     "execution_count": 40,
     "metadata": {},
     "output_type": "execute_result"
    }
   ],
   "source": [
    "min_per_user = 20\n",
    "min_per_recipe = 20\n",
    "\n",
    "author_min = sampling.get_rating_with_min_number(ratings, min_per_user, col_name='AuthorId')\n",
    "recipe_min = sampling.get_rating_with_min_number(ratings, min_per_recipe, col_name='RecipeId')\n",
    "ratings_sample = author_min.merge(recipe_min, how='inner')\n",
    "\n",
    "sample = ratings_sample.copy()\n",
    "\n",
    "\n",
    "desc = {\"Min_per_user\": min_per_user, \n",
    "        \"Min_per_recipe\": min_per_recipe, \n",
    "        \"Num_ratings\": sample.shape[0], \n",
    "        \"Unique_users\": sample.AuthorId.nunique(), \n",
    "        \"Unique_recipes\": sample.RecipeId.nunique()}\n",
    "\n",
    "df_samples_desc = df_samples_desc.append(desc, ignore_index=True)\n",
    "desc"
   ]
  },
  {
   "cell_type": "code",
   "execution_count": 42,
   "id": "3b338055",
   "metadata": {},
   "outputs": [],
   "source": [
    "df_samples_desc.to_csv(\"../Data/samples/samples_desc.xlsx\")"
   ]
  },
  {
   "cell_type": "code",
   "execution_count": null,
   "id": "a83f95e6",
   "metadata": {},
   "outputs": [],
   "source": []
  }
 ],
 "metadata": {
  "kernelspec": {
   "display_name": "Python 3 (ipykernel)",
   "language": "python",
   "name": "python3"
  },
  "language_info": {
   "codemirror_mode": {
    "name": "ipython",
    "version": 3
   },
   "file_extension": ".py",
   "mimetype": "text/x-python",
   "name": "python",
   "nbconvert_exporter": "python",
   "pygments_lexer": "ipython3",
   "version": "3.9.7"
  }
 },
 "nbformat": 4,
 "nbformat_minor": 5
}
