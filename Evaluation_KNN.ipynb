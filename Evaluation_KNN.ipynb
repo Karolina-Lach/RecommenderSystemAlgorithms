{
 "cells": [
  {
   "cell_type": "markdown",
   "metadata": {
    "id": "8nCqQOcJYHIz"
   },
   "source": [
    "# Imports"
   ]
  },
  {
   "cell_type": "code",
   "execution_count": 1,
   "metadata": {
    "colab": {
     "base_uri": "https://localhost:8080/"
    },
    "executionInfo": {
     "elapsed": 41892,
     "status": "ok",
     "timestamp": 1651512854417,
     "user": {
      "displayName": "Karolina Lach",
      "userId": "00111092321882151185"
     },
     "user_tz": -120
    },
    "id": "wWi6_thiYOQN",
    "outputId": "c31e94fd-eb43-46a1-9ff5-fdea5ee98d82"
   },
   "outputs": [],
   "source": [
    "# !pip install surprise"
   ]
  },
  {
   "cell_type": "code",
   "execution_count": 11,
   "metadata": {
    "executionInfo": {
     "elapsed": 271,
     "status": "ok",
     "timestamp": 1651517131916,
     "user": {
      "displayName": "Karolina Lach",
      "userId": "00111092321882151185"
     },
     "user_tz": -120
    },
    "id": "ct6skNXHXyKf"
   },
   "outputs": [],
   "source": [
    "import pandas as pd\n",
    "import pickle\n",
    "from collections import defaultdict\n",
    "\n",
    "from surprise import NormalPredictor\n",
    "from surprise import SVD\n",
    "from surprise import Dataset\n",
    "from surprise import Reader\n",
    "from surprise import accuracy\n",
    "from surprise import AlgoBase\n",
    "from surprise.model_selection import train_test_split as train_test_split_sup\n",
    "\n",
    "import metrics\n",
    "import sampling\n",
    "\n",
    "import numpy as np\n",
    "\n",
    "from sklearn.model_selection import train_test_split as train_test_split\n",
    "from surprise.model_selection import LeaveOneOut\n",
    "import random\n",
    "\n",
    "from create_similarity_vectors import create_top_k_similar_vectors\n",
    "from sentence_transformers import util\n",
    "import torch\n",
    "from surprise.prediction_algorithms.predictions import PredictionImpossible\n",
    "import heapq\n",
    "\n",
    "from metrics import recommender_map\n",
    "\n",
    "from sampling import create_train_test_dataframe\n",
    "from sampling import train_test_surprise_format\n",
    "from top_n_evaluation import create_anti_testset_for_user_all\n",
    "from top_n_evaluation import create_anti_testset_for_user\n",
    "from top_n_evaluation import create_recommendation_top_n_evaluation"
   ]
  },
  {
   "cell_type": "markdown",
   "metadata": {
    "id": "rvN86mRhZ9uQ"
   },
   "source": [
    "# Constants"
   ]
  },
  {
   "cell_type": "code",
   "execution_count": 13,
   "metadata": {
    "executionInfo": {
     "elapsed": 10,
     "status": "ok",
     "timestamp": 1651512876348,
     "user": {
      "displayName": "Karolina Lach",
      "userId": "00111092321882151185"
     },
     "user_tz": -120
    },
    "id": "ElRqBwD8ZSN0"
   },
   "outputs": [],
   "source": [
    "RATINGS_BASE = '../Data/base/ratings_base.parquet'"
   ]
  },
  {
   "cell_type": "markdown",
   "metadata": {
    "id": "PbqPdkkkaWLg"
   },
   "source": [
    "# Load data"
   ]
  },
  {
   "cell_type": "code",
   "execution_count": 14,
   "metadata": {
    "executionInfo": {
     "elapsed": 3210,
     "status": "ok",
     "timestamp": 1651512879550,
     "user": {
      "displayName": "Karolina Lach",
      "userId": "00111092321882151185"
     },
     "user_tz": -120
    },
    "id": "wBlSaVHAaVvy"
   },
   "outputs": [],
   "source": [
    "ratings_base = pd.read_parquet(RATINGS_BASE)"
   ]
  },
  {
   "cell_type": "code",
   "execution_count": 15,
   "metadata": {
    "executionInfo": {
     "elapsed": 11335,
     "status": "ok",
     "timestamp": 1651512890865,
     "user": {
      "displayName": "Karolina Lach",
      "userId": "00111092321882151185"
     },
     "user_tz": -120
    },
    "id": "59q6aJ9MaUlK"
   },
   "outputs": [],
   "source": [
    "ratings_sample = sampling.get_ratings_with_min_number_list(ratings_base, [20, 10])"
   ]
  },
  {
   "cell_type": "code",
   "execution_count": 13,
   "metadata": {},
   "outputs": [],
   "source": [
    "with open(\"G:/Recipes/Matrix/ING_CAT_50/matrix_top25k_ing_cat_50.obj\", \"rb\") as input_file:\n",
    "    matrix = pickle.load(input_file)\n",
    "\n",
    "with open(\"G:/Recipes/Matrix/ING_CAT_50/recipe_id_to_pos.obj\", \"rb\") as input_file:\n",
    "    recipe_id_to_pos = pickle.load(input_file)\n",
    "\n",
    "with open(\"G:/Recipes/Vectors/ing_cat_vectors_50_dict.obj\", \"rb\") as input_file:\n",
    "    vectors = pickle.load(input_file)\n",
    "\n"
   ]
  },
  {
   "cell_type": "markdown",
   "metadata": {
    "id": "9NyFWJo3dCKp"
   },
   "source": [
    "## Create dataset"
   ]
  },
  {
   "cell_type": "code",
   "execution_count": 16,
   "metadata": {
    "executionInfo": {
     "elapsed": 383,
     "status": "ok",
     "timestamp": 1651488472205,
     "user": {
      "displayName": "Karolina Lach",
      "userId": "00111092321882151185"
     },
     "user_tz": -120
    },
    "id": "jaMhDZ8wdB85"
   },
   "outputs": [],
   "source": [
    "user_item_ratings_dataset = Dataset.load_from_df(ratings_sample[[\"AuthorId\", \"RecipeId\", \"Rating\"]], Reader(rating_scale=(0, 5)))"
   ]
  },
  {
   "cell_type": "code",
   "execution_count": 17,
   "metadata": {
    "executionInfo": {
     "elapsed": 1830,
     "status": "ok",
     "timestamp": 1651488474033,
     "user": {
      "displayName": "Karolina Lach",
      "userId": "00111092321882151185"
     },
     "user_tz": -120
    },
    "id": "qR-IVsiNc-KF"
   },
   "outputs": [],
   "source": [
    "train_df, test_df = create_train_test_dataframe(ratings_sample, 0.2, 13)\n",
    "trainset, testset = train_test_surprise_format(train_df, test_df)"
   ]
  },
  {
   "cell_type": "markdown",
   "metadata": {},
   "source": [
    "## Create recommendations"
   ]
  },
  {
   "cell_type": "code",
   "execution_count": 2,
   "metadata": {
    "executionInfo": {
     "elapsed": 2557574,
     "status": "ok",
     "timestamp": 1651491034057,
     "user": {
      "displayName": "Karolina Lach",
      "userId": "00111092321882151185"
     },
     "user_tz": -120
    },
    "id": "L98jMPNqU2LQ"
   },
   "outputs": [],
   "source": [
    "recommendations_knn_sample, relevant_items_knn_sample = create_recommendation_top_n_evaluation(train_df, \n",
    "                                           ratings_sample, \n",
    "                                           algorithm=None, \n",
    "                                           word2vec_vectors=vectors,\n",
    "                                           sample_size=20000, \n",
    "                                           user_sample_size=0,\n",
    "                                           k=100,\n",
    "                                           knn=True,\n",
    "                                           verbose=True)"
   ]
  },
  {
   "cell_type": "markdown",
   "metadata": {},
   "source": [
    "# MAP"
   ]
  },
  {
   "cell_type": "code",
   "execution_count": 44,
   "metadata": {},
   "outputs": [],
   "source": [
    "map_list_knn = []\n",
    "k_list = [1] + list(range(5, 105, 2))\n",
    "for k in k_list:\n",
    "    map_k_knn = metrics.recommender_map(recommendations=recommendations_knn_sample, \n",
    "                                relevant_items=relevant_items_knn_sample,\n",
    "                                k=k)\n",
    "    map_list_knn.append(map_k_knn)"
   ]
  },
  {
   "cell_type": "code",
   "execution_count": 46,
   "metadata": {},
   "outputs": [],
   "source": [
    "with open(\"G:/Recipes/Wykresy_samples/map_k_knn.obj\", \"wb\") as pickle_file:\n",
    "    pickle.dump(map_list_knn, pickle_file)\n",
    "    \n",
    "# with open(\"G:/Recipes/Wykresy_samples/k_1_100_list.obj\", \"wb\") as pickle_file:\n",
    "#     pickle.dump(k_list, pickle_file)"
   ]
  },
  {
   "cell_type": "markdown",
   "metadata": {},
   "source": [
    "# Hit rate"
   ]
  },
  {
   "cell_type": "code",
   "execution_count": 53,
   "metadata": {},
   "outputs": [],
   "source": [
    "hr_list_knn = []\n",
    "k_list = [1] + list(range(5, 105, 2))\n",
    "for k in k_list:\n",
    "    hr_k = metrics.hit_rate(recommendations=recommendations_knn_sample, \n",
    "                                relevant_items=relevant_items_knn_sample,\n",
    "                                k=k)\n",
    "    hr_list_knn.append(hr_k)"
   ]
  },
  {
   "cell_type": "code",
   "execution_count": 54,
   "metadata": {},
   "outputs": [],
   "source": [
    "with open(\"G:/Recipes/Wykresy_samples/10000/hr_knn.obj\", \"wb\") as pickle_file:\n",
    "    pickle.dump(hr_list_knn, pickle_file)"
   ]
  },
  {
   "cell_type": "markdown",
   "metadata": {},
   "source": [
    "# Item coverage"
   ]
  },
  {
   "cell_type": "code",
   "execution_count": 56,
   "metadata": {},
   "outputs": [],
   "source": [
    "item_cov_k = []\n",
    "k_list = [1] + list(range(5, 105, 2))\n",
    "\n",
    "for k in k_list:\n",
    "    item_cov_temp = {}\n",
    "    for key in recommendations_knn_sample.keys():\n",
    "        item_cov_temp[key] = recommendations_knn_sample[key][:k]\n",
    "        \n",
    "    cov = metrics.item_coverage(item_cov_temp, ratings_sample.RecipeId.nunique(), min_rating=0)\n",
    "    item_cov_k.append(cov)"
   ]
  },
  {
   "cell_type": "code",
   "execution_count": 57,
   "metadata": {},
   "outputs": [],
   "source": [
    "with open(\"G:/Recipes/Wykresy_samples/10000/item_cov_knn.obj\", \"wb\") as pickle_file:\n",
    "    pickle.dump(item_cov_k, pickle_file)"
   ]
  },
  {
   "cell_type": "markdown",
   "metadata": {},
   "source": [
    "### Novelty"
   ]
  },
  {
   "cell_type": "code",
   "execution_count": 18,
   "metadata": {},
   "outputs": [],
   "source": [
    "ratings_per_recipe = defaultdict(int)\n",
    "for uid in recommendations_knn_sample.keys():\n",
    "    for iid in recommendations_knn_sample[uid]:\n",
    "        ratings_per_recipe[iid] += 1\n",
    "    "
   ]
  },
  {
   "cell_type": "code",
   "execution_count": 59,
   "metadata": {
    "executionInfo": {
     "elapsed": 16,
     "status": "ok",
     "timestamp": 1651491041555,
     "user": {
      "displayName": "Karolina Lach",
      "userId": "00111092321882151185"
     },
     "user_tz": -120
    },
    "id": "CAwUXv6yXRSF"
   },
   "outputs": [],
   "source": [
    "number_of_ratings_per_recipe = ratings_sample.groupby([\"RecipeId\"]).size()\n",
    "popularity_ranking = metrics.get_popularity_ranks(number_of_ratings_per_recipe)"
   ]
  },
  {
   "cell_type": "code",
   "execution_count": 22,
   "metadata": {},
   "outputs": [],
   "source": [
    "novelty_k = []\n",
    "k_list = [1] + list(range(5, 105, 2))\n",
    "\n",
    "for k in k_list:\n",
    "    novelty_temp = {}\n",
    "    for key in recommendations_knn_sample.keys():\n",
    "        novelty_temp[key] = recommendations_knn_sample[key][:k]\n",
    "        \n",
    "    nov = metrics.novelty(novelty_temp, ratings_per_recipe)\n",
    "    novelty_k.append(nov)"
   ]
  },
  {
   "cell_type": "code",
   "execution_count": 23,
   "metadata": {},
   "outputs": [],
   "source": [
    "with open(\"G:/Recipes/Wykresy_samples/500/novelty_knn_new.obj\", \"wb\") as pickle_file:\n",
    "    pickle.dump(novelty_k, pickle_file)"
   ]
  },
  {
   "cell_type": "markdown",
   "metadata": {},
   "source": [
    "## Diversity"
   ]
  },
  {
   "cell_type": "code",
   "execution_count": 28,
   "metadata": {},
   "outputs": [],
   "source": [
    "# with open('G:/Recipes/Matrix/ING_CAT_50_SEPERATE/matrix.obj', 'rb') as pickle_file:\n",
    "#     matrix_names = pickle.load(pickle_file)\n",
    "    \n",
    "# with open('G:/Recipes/Matrix/ING_CAT_50_SEPERATE/recipe_id_to_pos.obj', 'rb') as pickle_file:\n",
    "#     recipe_id_to_pos = pickle.load(pickle_file)\n",
    "\n",
    "# with open('G:/Recipes/Matrix/ING_CAT_50_SEPERATE/pos_to_recipe_id.obj', 'rb') as pickle_file:\n",
    "#     pos_to_recipe_id = pickle.load(pickle_file)\n",
    "    "
   ]
  },
  {
   "cell_type": "code",
   "execution_count": 5,
   "metadata": {},
   "outputs": [],
   "source": [
    "import itertools\n",
    "from sentence_transformers import util\n",
    "\n",
    "div_ing_k = []\n",
    "k_list = [1] + list(range(5, 105, 2))\n",
    "\n",
    "for k in k_list:\n",
    "    if k % 3==0:\n",
    "        print(k)\n",
    "    div_temp = {}\n",
    "    for key in recommendations_knn_sample.keys():\n",
    "        div_temp[key] = recommendations_knn_sample[key][:k]\n",
    "        \n",
    "    div = metrics.diversity(div_temp, matrix_names, recipe_id_to_pos)\n",
    "    div_ing_k.append(div)"
   ]
  },
  {
   "cell_type": "code",
   "execution_count": 64,
   "metadata": {},
   "outputs": [],
   "source": [
    "# with open(\"G:/Recipes/Wykresy_samples/10000/diversity_knn.obj\", \"wb\") as pickle_file:\n",
    "#     pickle.dump(div_ing_k, pickle_file)"
   ]
  },
  {
   "cell_type": "markdown",
   "metadata": {
    "executionInfo": {
     "elapsed": 13,
     "status": "ok",
     "timestamp": 1651491041909,
     "user": {
      "displayName": "Karolina Lach",
      "userId": "00111092321882151185"
     },
     "user_tz": -120
    },
    "id": "p_EOvyuLTNYL"
   },
   "source": [
    "# Most popular"
   ]
  },
  {
   "cell_type": "code",
   "execution_count": 47,
   "metadata": {},
   "outputs": [],
   "source": [
    "most_popular_users = sampling.create_sample_n_popular_users(ratings_sample, n=2500)"
   ]
  },
  {
   "cell_type": "code",
   "execution_count": 48,
   "metadata": {},
   "outputs": [],
   "source": [
    "least_popular_users = ratings_sample[~ratings_sample.AuthorId.isin(most_popular_users.AuthorId.unique())]"
   ]
  },
  {
   "cell_type": "code",
   "execution_count": 49,
   "metadata": {},
   "outputs": [],
   "source": [
    "recommendations_knn_most_popular = {}\n",
    "for key, value in recommendations_knn_sample.items():\n",
    "    if key in most_popular_users.AuthorId.unique():\n",
    "        recommendations_knn_most_popular[key] = value\n",
    "        \n",
    "recommendations_knn_least_popular = {}\n",
    "for key, value in recommendations_knn_sample.items():\n",
    "    if key in least_popular_users.AuthorId.unique():\n",
    "        recommendations_knn_least_popular[key] = value"
   ]
  },
  {
   "cell_type": "markdown",
   "metadata": {},
   "source": [
    "## MAP"
   ]
  },
  {
   "cell_type": "code",
   "execution_count": 50,
   "metadata": {},
   "outputs": [],
   "source": [
    "map_knn_most_popular_list = []\n",
    "k_list = [1] + list(range(5, 105, 2))\n",
    "for k in k_list:\n",
    "    map_k = recommender_map(recommendations=recommendations_knn_most_popular, \n",
    "                                relevant_items=relevant_items_knn_sample,\n",
    "                                k=k)\n",
    "    map_knn_most_popular_list.append(map_k)\n",
    "    \n",
    "map_knn_least_popular_list = []\n",
    "k_list = [1] + list(range(5, 105, 2))\n",
    "for k in k_list:\n",
    "    map_k = recommender_map(recommendations=recommendations_knn_least_popular, \n",
    "                                relevant_items=relevant_items_knn_sample,\n",
    "                                k=k)\n",
    "    map_knn_least_popular_list.append(map_k)"
   ]
  },
  {
   "cell_type": "code",
   "execution_count": 51,
   "metadata": {},
   "outputs": [],
   "source": [
    "with open(\"G:/Recipes/Wykresy_samples/1000/map_k_most_popular_knn.obj\", \"wb\") as pickle_file:\n",
    "    pickle.dump(map_knn_most_popular_list, pickle_file)\n",
    "    \n",
    "with open(\"G:/Recipes/Wykresy_samples/1000/map_k_least_popular_knn.obj\", \"wb\") as pickle_file:\n",
    "    pickle.dump(map_knn_least_popular_list, pickle_file)\n",
    "\n",
    "# with open(\"G:/Recipes/tests_samples/20_10/knn/wykresy/sample500/mapk_most_popular_list.obj\", \"wb\") as pickle_file:\n",
    "#     pickle.dump(map_knn_most_popular_list, pickle_file)\n",
    "    \n",
    "# with open(\"G:/Recipes/tests_samples/20_10/knn/wykresy/sample500/mapk_lest_popular_list.obj\", \"wb\") as pickle_file:\n",
    "#     pickle.dump(map_knn_least_popular_list, pickle_file)\n",
    "    "
   ]
  },
  {
   "cell_type": "code",
   "execution_count": null,
   "metadata": {},
   "outputs": [],
   "source": []
  }
 ],
 "metadata": {
  "colab": {
   "authorship_tag": "ABX9TyP/YxoIvwWGTdBR3zs/7EUz",
   "collapsed_sections": [],
   "name": "Evaluation normal recommender.ipynb",
   "provenance": []
  },
  "kernelspec": {
   "display_name": "Python 3 (ipykernel)",
   "language": "python",
   "name": "python3"
  },
  "language_info": {
   "codemirror_mode": {
    "name": "ipython",
    "version": 3
   },
   "file_extension": ".py",
   "mimetype": "text/x-python",
   "name": "python",
   "nbconvert_exporter": "python",
   "pygments_lexer": "ipython3",
   "version": "3.9.7"
  }
 },
 "nbformat": 4,
 "nbformat_minor": 1
}
