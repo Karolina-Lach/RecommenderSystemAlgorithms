{
 "cells": [
  {
   "cell_type": "markdown",
   "id": "7c11d9a7",
   "metadata": {
    "id": "7c11d9a7"
   },
   "source": [
    "# Imports"
   ]
  },
  {
   "cell_type": "code",
   "execution_count": 1,
   "id": "BVW5_reLXkZb",
   "metadata": {
    "colab": {
     "base_uri": "https://localhost:8080/"
    },
    "executionInfo": {
     "elapsed": 3666,
     "status": "ok",
     "timestamp": 1651094083955,
     "user": {
      "displayName": "Karolina Lach",
      "userId": "00111092321882151185"
     },
     "user_tz": -120
    },
    "id": "BVW5_reLXkZb",
    "outputId": "d29a0b58-0ccb-48dc-b028-e45f49b1f040"
   },
   "outputs": [],
   "source": [
    "# !pip install sentence_transformers"
   ]
  },
  {
   "cell_type": "code",
   "execution_count": 1,
   "id": "de3519e5",
   "metadata": {
    "executionInfo": {
     "elapsed": 13,
     "status": "ok",
     "timestamp": 1651094083957,
     "user": {
      "displayName": "Karolina Lach",
      "userId": "00111092321882151185"
     },
     "user_tz": -120
    },
    "id": "de3519e5"
   },
   "outputs": [],
   "source": [
    "import pickle\n",
    "from gensim.models import Word2Vec\n",
    "import gensim\n",
    "from sklearn.feature_extraction.text import CountVectorizer\n",
    "from sklearn.feature_extraction.text import TfidfVectorizer\n",
    "from sklearn.metrics.pairwise import cosine_similarity\n",
    "from collections import defaultdict\n",
    "import numpy as np\n",
    "import pandas as pd\n",
    "from sentence_transformers import util\n",
    "import torch\n",
    "\n",
    "import create_similarity_vectors\n",
    "import sampling\n",
    "\n",
    "from collections import defaultdict\n",
    "import heapq\n",
    "import sampling"
   ]
  },
  {
   "cell_type": "code",
   "execution_count": 2,
   "id": "dbN1RCIJXRM4",
   "metadata": {
    "colab": {
     "base_uri": "https://localhost:8080/"
    },
    "executionInfo": {
     "elapsed": 17269,
     "status": "ok",
     "timestamp": 1651094101213,
     "user": {
      "displayName": "Karolina Lach",
      "userId": "00111092321882151185"
     },
     "user_tz": -120
    },
    "id": "dbN1RCIJXRM4",
    "outputId": "822667c5-db80-4297-965f-2be1d25e65cf"
   },
   "outputs": [],
   "source": [
    "# from google.colab import drive\n",
    "# drive.mount('/content/drive')"
   ]
  },
  {
   "cell_type": "markdown",
   "id": "158d8942",
   "metadata": {
    "id": "158d8942"
   },
   "source": [
    "# Constants"
   ]
  },
  {
   "cell_type": "code",
   "execution_count": 2,
   "id": "24359cec",
   "metadata": {
    "executionInfo": {
     "elapsed": 17,
     "status": "ok",
     "timestamp": 1651094101215,
     "user": {
      "displayName": "Karolina Lach",
      "userId": "00111092321882151185"
     },
     "user_tz": -120
    },
    "id": "24359cec"
   },
   "outputs": [],
   "source": [
    "RATINGS_BASE = \"../Data/base/ratings_base.parquet\"\n",
    "WORD2VEC_ING_CAT_VECTORS = \"../Data/word_embeddings_files/vectors/word2vec_ing_cat_vectors.obj\"\n",
    "WORD2VEC_ING_50_VECTORS = \"G:/Recipes/Vectors/ingredients_vectors_50_dict.obj\"\n",
    "\n",
    "WORD2VEC_ING_VECTORS = \"../Data/word_embeddings_files/vectors/word2vec_ingredients_vectors.obj\""
   ]
  },
  {
   "cell_type": "code",
   "execution_count": 3,
   "id": "GDj7h6sedgVM",
   "metadata": {
    "executionInfo": {
     "elapsed": 14,
     "status": "ok",
     "timestamp": 1651094101216,
     "user": {
      "displayName": "Karolina Lach",
      "userId": "00111092321882151185"
     },
     "user_tz": -120
    },
    "id": "GDj7h6sedgVM"
   },
   "outputs": [],
   "source": [
    "RATINGS_COUNT_PER_RECIPE = \"../Data/base/ratings_per_recipe.parquet\"\n",
    "TOP1000_MOST_POPULAR = \"../Data/word_embeddings_files/topk_sim/top1000_for_most_popular_recipes.obj\"\n",
    "\n",
    "MATRIX_25K_MOST_POPULAR = \"../Data/word_embeddings_files/matrix/matrix_25k_most_popular.obj\"\n",
    "ID_TO_POS_IN_MATRIX = \"../Data/word_embeddings_files/matrix/id_to_pos_matrix_25k_most_popular.obj\"\n",
    "POS_IN_MATRIX_TO_ID = \"../Data/word_embeddings_files/matrix/pos_to_idmatrix_25k_most_popular.obj\""
   ]
  },
  {
   "cell_type": "markdown",
   "id": "936d126a",
   "metadata": {
    "id": "936d126a"
   },
   "source": [
    "# Load data"
   ]
  },
  {
   "cell_type": "code",
   "execution_count": 11,
   "id": "5d6bb20c",
   "metadata": {
    "executionInfo": {
     "elapsed": 18480,
     "status": "ok",
     "timestamp": 1651094141289,
     "user": {
      "displayName": "Karolina Lach",
      "userId": "00111092321882151185"
     },
     "user_tz": -120
    },
    "id": "5d6bb20c"
   },
   "outputs": [],
   "source": [
    "# ratings = pd.read_parquet(RATINGS_BASE)\n",
    "# ratings_sample = sampling.get_ratings_with_min_number_list(ratings, [20,0])"
   ]
  },
  {
   "cell_type": "code",
   "execution_count": 12,
   "id": "b0ef416e",
   "metadata": {
    "executionInfo": {
     "elapsed": 4170,
     "status": "ok",
     "timestamp": 1651094145429,
     "user": {
      "displayName": "Karolina Lach",
      "userId": "00111092321882151185"
     },
     "user_tz": -120
    },
    "id": "b0ef416e"
   },
   "outputs": [],
   "source": [
    "# with open(WORD2VEC_ING_CAT_VECTORS, \"rb\") as input_file:\n",
    "#     word2vec_ing_cat_vectors = pickle.load(input_file)\n",
    "\n",
    "# with open(WORD2VEC_ING_CAT_50_VECTORS, \"rb\") as input_file:\n",
    "#     word2vec_ing_cat_vectors = pickle.load(input_file)"
   ]
  },
  {
   "cell_type": "code",
   "execution_count": 4,
   "id": "4f3f71b2",
   "metadata": {},
   "outputs": [],
   "source": [
    "with open(WORD2VEC_ING_50_VECTORS, \"rb\") as input_file:\n",
    "    word2vec_ing_vectors = pickle.load(input_file)"
   ]
  },
  {
   "cell_type": "code",
   "execution_count": 5,
   "id": "Em0cpB_xdlpF",
   "metadata": {
    "executionInfo": {
     "elapsed": 703,
     "status": "ok",
     "timestamp": 1651094146106,
     "user": {
      "displayName": "Karolina Lach",
      "userId": "00111092321882151185"
     },
     "user_tz": -120
    },
    "id": "Em0cpB_xdlpF"
   },
   "outputs": [],
   "source": [
    "ratings_count_per_recipe = pd.read_parquet(RATINGS_COUNT_PER_RECIPE)"
   ]
  },
  {
   "cell_type": "markdown",
   "id": "af849958",
   "metadata": {
    "id": "af849958"
   },
   "source": [
    "# Compute top1000 cosine similarities"
   ]
  },
  {
   "cell_type": "code",
   "execution_count": 9,
   "id": "alXuP4YmcZvv",
   "metadata": {
    "executionInfo": {
     "elapsed": 12,
     "status": "ok",
     "timestamp": 1651087877117,
     "user": {
      "displayName": "Karolina Lach",
      "userId": "00111092321882151185"
     },
     "user_tz": -120
    },
    "id": "alXuP4YmcZvv"
   },
   "outputs": [],
   "source": [
    "# recipe_ids_min_20_per_user = list(ratings_sample.RecipeId.unique())"
   ]
  },
  {
   "cell_type": "code",
   "execution_count": 10,
   "id": "kyK0UXggdOyH",
   "metadata": {
    "executionInfo": {
     "elapsed": 264,
     "status": "ok",
     "timestamp": 1651089391100,
     "user": {
      "displayName": "Karolina Lach",
      "userId": "00111092321882151185"
     },
     "user_tz": -120
    },
    "id": "kyK0UXggdOyH"
   },
   "outputs": [],
   "source": [
    "# items_to_check = ratings_count_per_recipe[ratings_count_per_recipe.index.isin(ratings_sample.RecipeId)]"
   ]
  },
  {
   "cell_type": "code",
   "execution_count": 11,
   "id": "5_pVuzxLj27P",
   "metadata": {
    "executionInfo": {
     "elapsed": 6,
     "status": "ok",
     "timestamp": 1651089497896,
     "user": {
      "displayName": "Karolina Lach",
      "userId": "00111092321882151185"
     },
     "user_tz": -120
    },
    "id": "5_pVuzxLj27P"
   },
   "outputs": [],
   "source": [
    "# items_to_check = items_to_check[items_to_check.Count >= 10]"
   ]
  },
  {
   "cell_type": "code",
   "execution_count": 12,
   "id": "SphRN9IYmmYT",
   "metadata": {
    "executionInfo": {
     "elapsed": 245,
     "status": "ok",
     "timestamp": 1651089579763,
     "user": {
      "displayName": "Karolina Lach",
      "userId": "00111092321882151185"
     },
     "user_tz": -120
    },
    "id": "SphRN9IYmmYT"
   },
   "outputs": [],
   "source": [
    "# items_to_check = list(items_to_check.index)"
   ]
  },
  {
   "cell_type": "code",
   "execution_count": 13,
   "id": "yIb3RjHmcwlP",
   "metadata": {
    "executionInfo": {
     "elapsed": 736,
     "status": "ok",
     "timestamp": 1651089775083,
     "user": {
      "displayName": "Karolina Lach",
      "userId": "00111092321882151185"
     },
     "user_tz": -120
    },
    "id": "yIb3RjHmcwlP"
   },
   "outputs": [],
   "source": [
    "# word2vec_ing_cat_vectors_sample = {}\n",
    "# for key in recipe_ids_min_20_per_user:\n",
    "#     word2vec_ing_cat_vectors_sample[key] = word2vec_ing_cat_vectors[key]"
   ]
  },
  {
   "cell_type": "code",
   "execution_count": 14,
   "id": "bb84e0ee",
   "metadata": {
    "colab": {
     "base_uri": "https://localhost:8080/"
    },
    "executionInfo": {
     "elapsed": 3576972,
     "status": "ok",
     "timestamp": 1651093353245,
     "user": {
      "displayName": "Karolina Lach",
      "userId": "00111092321882151185"
     },
     "user_tz": -120
    },
    "id": "bb84e0ee",
    "outputId": "b5b13726-f582-4601-be3a-164ebec439fa",
    "scrolled": true
   },
   "outputs": [],
   "source": [
    "# %%time\n",
    "# top_1000_similar_recipes_for_most_popular = create_similarity_vectors.create_top_k_similar_vectors(vectors_dict=word2vec_ing_cat_vectors_sample, \n",
    "#                                                                                                    items_to_check_list=items_to_check, \n",
    "#                                                                                                    top_k=1000,\n",
    "#                                                                                                    verbose=True)\n"
   ]
  },
  {
   "cell_type": "code",
   "execution_count": 15,
   "id": "6fc3fed5",
   "metadata": {
    "executionInfo": {
     "elapsed": 19317,
     "status": "ok",
     "timestamp": 1651093372526,
     "user": {
      "displayName": "Karolina Lach",
      "userId": "00111092321882151185"
     },
     "user_tz": -120
    },
    "id": "6fc3fed5"
   },
   "outputs": [],
   "source": [
    "# with open(TOP1000_MOST_POPULAR, 'wb') as pickle_file:\n",
    "#     pickle.dump(top_1000_similar_recipes_for_most_popular, pickle_file)"
   ]
  },
  {
   "cell_type": "markdown",
   "id": "9872b533",
   "metadata": {
    "id": "9872b533"
   },
   "source": [
    "# Calculate similarities matrix for ING CAT"
   ]
  },
  {
   "cell_type": "markdown",
   "id": "8f3fde26",
   "metadata": {},
   "source": [
    "## 100"
   ]
  },
  {
   "cell_type": "code",
   "execution_count": 8,
   "id": "rkeSxFLX1tTW",
   "metadata": {
    "executionInfo": {
     "elapsed": 271,
     "status": "ok",
     "timestamp": 1651094153403,
     "user": {
      "displayName": "Karolina Lach",
      "userId": "00111092321882151185"
     },
     "user_tz": -120
    },
    "id": "rkeSxFLX1tTW"
   },
   "outputs": [],
   "source": [
    "items_to_check = list(ratings_count_per_recipe[:25000].index)"
   ]
  },
  {
   "cell_type": "code",
   "execution_count": 9,
   "id": "pUvm1s6_2ZTg",
   "metadata": {
    "executionInfo": {
     "elapsed": 5,
     "status": "ok",
     "timestamp": 1651094153669,
     "user": {
      "displayName": "Karolina Lach",
      "userId": "00111092321882151185"
     },
     "user_tz": -120
    },
    "id": "pUvm1s6_2ZTg"
   },
   "outputs": [],
   "source": [
    "word2vec_ing_cat_vectors_sample = {}\n",
    "for key in items_to_check:\n",
    "    word2vec_ing_cat_vectors_sample[key] = word2vec_ing_cat_vectors[key]"
   ]
  },
  {
   "cell_type": "code",
   "execution_count": 18,
   "id": "d3b6c343",
   "metadata": {
    "id": "d3b6c343",
    "scrolled": true
   },
   "outputs": [
    {
     "name": "stdout",
     "output_type": "stream",
     "text": [
      "0  of  25000\n",
      "250  of  25000\n",
      "500  of  25000\n",
      "750  of  25000\n",
      "1000  of  25000\n",
      "1250  of  25000\n",
      "1500  of  25000\n",
      "1750  of  25000\n",
      "2000  of  25000\n",
      "2250  of  25000\n",
      "2500  of  25000\n",
      "2750  of  25000\n",
      "3000  of  25000\n",
      "3250  of  25000\n",
      "3500  of  25000\n",
      "3750  of  25000\n",
      "4000  of  25000\n",
      "4250  of  25000\n",
      "4500  of  25000\n",
      "4750  of  25000\n",
      "5000  of  25000\n",
      "5250  of  25000\n",
      "5500  of  25000\n",
      "5750  of  25000\n",
      "6000  of  25000\n",
      "6250  of  25000\n",
      "6500  of  25000\n",
      "6750  of  25000\n",
      "7000  of  25000\n",
      "7250  of  25000\n",
      "7500  of  25000\n",
      "7750  of  25000\n",
      "8000  of  25000\n",
      "8250  of  25000\n",
      "8500  of  25000\n",
      "8750  of  25000\n",
      "9000  of  25000\n",
      "9250  of  25000\n",
      "9500  of  25000\n",
      "9750  of  25000\n",
      "10000  of  25000\n",
      "10250  of  25000\n",
      "10500  of  25000\n",
      "10750  of  25000\n",
      "11000  of  25000\n",
      "11250  of  25000\n",
      "11500  of  25000\n",
      "11750  of  25000\n",
      "12000  of  25000\n",
      "12250  of  25000\n",
      "12500  of  25000\n",
      "12750  of  25000\n",
      "13000  of  25000\n",
      "13250  of  25000\n",
      "13500  of  25000\n",
      "13750  of  25000\n",
      "14000  of  25000\n",
      "14250  of  25000\n",
      "14500  of  25000\n",
      "14750  of  25000\n",
      "15000  of  25000\n",
      "15250  of  25000\n",
      "15500  of  25000\n",
      "15750  of  25000\n",
      "16000  of  25000\n",
      "16250  of  25000\n",
      "16500  of  25000\n",
      "16750  of  25000\n",
      "17000  of  25000\n",
      "17250  of  25000\n",
      "17500  of  25000\n",
      "17750  of  25000\n",
      "18000  of  25000\n",
      "18250  of  25000\n",
      "18500  of  25000\n",
      "18750  of  25000\n",
      "19000  of  25000\n",
      "19250  of  25000\n",
      "19500  of  25000\n",
      "19750  of  25000\n",
      "20000  of  25000\n",
      "20250  of  25000\n",
      "20500  of  25000\n",
      "20750  of  25000\n",
      "21000  of  25000\n",
      "21250  of  25000\n",
      "21500  of  25000\n",
      "21750  of  25000\n",
      "22000  of  25000\n",
      "22250  of  25000\n",
      "22500  of  25000\n",
      "22750  of  25000\n",
      "23000  of  25000\n",
      "23250  of  25000\n",
      "23500  of  25000\n",
      "23750  of  25000\n",
      "24000  of  25000\n",
      "24250  of  25000\n",
      "24500  of  25000\n",
      "24750  of  25000\n"
     ]
    }
   ],
   "source": [
    "pos_to_recipe_id, recipe_id_to_pos, similarities = create_similarity_vectors.create_similarity_matrix(word2vec_ing_cat_vectors_sample, verbose=True)"
   ]
  },
  {
   "cell_type": "markdown",
   "id": "164c4c1e",
   "metadata": {
    "id": "164c4c1e"
   },
   "source": [
    "### Save"
   ]
  },
  {
   "cell_type": "code",
   "execution_count": 12,
   "id": "bba51197",
   "metadata": {
    "executionInfo": {
     "elapsed": 23,
     "status": "aborted",
     "timestamp": 1651087708539,
     "user": {
      "displayName": "Karolina Lach",
      "userId": "00111092321882151185"
     },
     "user_tz": -120
    },
    "id": "bba51197"
   },
   "outputs": [],
   "source": [
    "# with open(MATRIX_25K_MOST_POPULAR, 'wb') as pickle_file:\n",
    "#      pickle.dump(similarities, pickle_file)\n",
    "\n",
    "# with open(ID_TO_POS_IN_MATRIX, 'wb') as pickle_file:\n",
    "#      pickle.dump(recipe_id_to_pos, pickle_file)\n",
    "\n",
    "# with open(POS_IN_MATRIX_TO_ID, 'wb') as pickle_file:\n",
    "#      pickle.dump(pos_to_recipe_id, pickle_file)"
   ]
  },
  {
   "cell_type": "markdown",
   "id": "248b1cef",
   "metadata": {},
   "source": [
    "## 50"
   ]
  },
  {
   "cell_type": "code",
   "execution_count": 8,
   "id": "c5d2e5ae",
   "metadata": {
    "scrolled": true
   },
   "outputs": [
    {
     "name": "stdout",
     "output_type": "stream",
     "text": [
      "0  of  25000\n",
      "250  of  25000\n",
      "500  of  25000\n",
      "750  of  25000\n",
      "1000  of  25000\n",
      "1250  of  25000\n",
      "1500  of  25000\n",
      "1750  of  25000\n",
      "2000  of  25000\n",
      "2250  of  25000\n",
      "2500  of  25000\n",
      "2750  of  25000\n",
      "3000  of  25000\n",
      "3250  of  25000\n",
      "3500  of  25000\n",
      "3750  of  25000\n",
      "4000  of  25000\n",
      "4250  of  25000\n",
      "4500  of  25000\n",
      "4750  of  25000\n",
      "5000  of  25000\n",
      "5250  of  25000\n",
      "5500  of  25000\n",
      "5750  of  25000\n",
      "6000  of  25000\n",
      "6250  of  25000\n",
      "6500  of  25000\n",
      "6750  of  25000\n",
      "7000  of  25000\n",
      "7250  of  25000\n",
      "7500  of  25000\n",
      "7750  of  25000\n",
      "8000  of  25000\n",
      "8250  of  25000\n",
      "8500  of  25000\n",
      "8750  of  25000\n",
      "9000  of  25000\n",
      "9250  of  25000\n",
      "9500  of  25000\n",
      "9750  of  25000\n",
      "10000  of  25000\n",
      "10250  of  25000\n",
      "10500  of  25000\n",
      "10750  of  25000\n",
      "11000  of  25000\n",
      "11250  of  25000\n",
      "11500  of  25000\n",
      "11750  of  25000\n",
      "12000  of  25000\n",
      "12250  of  25000\n",
      "12500  of  25000\n",
      "12750  of  25000\n",
      "13000  of  25000\n",
      "13250  of  25000\n",
      "13500  of  25000\n",
      "13750  of  25000\n",
      "14000  of  25000\n",
      "14250  of  25000\n",
      "14500  of  25000\n",
      "14750  of  25000\n",
      "15000  of  25000\n",
      "15250  of  25000\n",
      "15500  of  25000\n",
      "15750  of  25000\n",
      "16000  of  25000\n",
      "16250  of  25000\n",
      "16500  of  25000\n",
      "16750  of  25000\n",
      "17000  of  25000\n",
      "17250  of  25000\n",
      "17500  of  25000\n",
      "17750  of  25000\n",
      "18000  of  25000\n",
      "18250  of  25000\n",
      "18500  of  25000\n",
      "18750  of  25000\n",
      "19000  of  25000\n",
      "19250  of  25000\n",
      "19500  of  25000\n",
      "19750  of  25000\n",
      "20000  of  25000\n",
      "20250  of  25000\n",
      "20500  of  25000\n",
      "20750  of  25000\n",
      "21000  of  25000\n",
      "21250  of  25000\n",
      "21500  of  25000\n",
      "21750  of  25000\n",
      "22000  of  25000\n",
      "22250  of  25000\n",
      "22500  of  25000\n",
      "22750  of  25000\n",
      "23000  of  25000\n",
      "23250  of  25000\n",
      "23500  of  25000\n",
      "23750  of  25000\n",
      "24000  of  25000\n",
      "24250  of  25000\n",
      "24500  of  25000\n",
      "24750  of  25000\n",
      "Wall time: 16h 15min 11s\n"
     ]
    }
   ],
   "source": [
    "%%time\n",
    "items_to_check = list(ratings_count_per_recipe[:25000].index)\n",
    "\n",
    "word2vec_ing_cat_vectors_sample = {}\n",
    "for key in items_to_check:\n",
    "    word2vec_ing_cat_vectors_sample[key] = word2vec_ing_cat_vectors[key]\n",
    "\n",
    "pos_to_recipe_id, recipe_id_to_pos, similarities = create_similarity_vectors.create_similarity_matrix(word2vec_ing_cat_vectors_sample, \n",
    "                                                                                                      verbose=True)"
   ]
  },
  {
   "cell_type": "code",
   "execution_count": 9,
   "id": "0c916248",
   "metadata": {},
   "outputs": [],
   "source": [
    "# with open(\"G:/Recipes/Matrix/ING_CAT_50/matrix_top25k_ing_cat_50.obj\", 'wb') as pickle_file:\n",
    "#      pickle.dump(similarities, pickle_file)\n",
    "\n",
    "# with open(\"G:/Recipes/Matrix/ING_CAT_50/recipe_id_to_pos.obj\", 'wb') as pickle_file:\n",
    "#      pickle.dump(recipe_id_to_pos, pickle_file)\n",
    "\n",
    "# with open(\"G:/Recipes/Matrix/ING_CAT_50/pos_to_recipe_id.obj\", 'wb') as pickle_file:\n",
    "#      pickle.dump(pos_to_recipe_id, pickle_file)"
   ]
  },
  {
   "cell_type": "markdown",
   "id": "d44b8b79",
   "metadata": {
    "id": "sb7-A0e_frOx"
   },
   "source": [
    "# Sim matrix ING"
   ]
  },
  {
   "cell_type": "markdown",
   "id": "cd69fec3",
   "metadata": {},
   "source": [
    "## 50"
   ]
  },
  {
   "cell_type": "code",
   "execution_count": 6,
   "id": "9fbdf30f",
   "metadata": {},
   "outputs": [
    {
     "name": "stdout",
     "output_type": "stream",
     "text": [
      "0  of  26000\n",
      "250  of  26000\n",
      "500  of  26000\n",
      "750  of  26000\n",
      "1000  of  26000\n",
      "1250  of  26000\n",
      "1500  of  26000\n",
      "1750  of  26000\n",
      "2000  of  26000\n",
      "2250  of  26000\n",
      "2500  of  26000\n",
      "2750  of  26000\n",
      "3000  of  26000\n",
      "3250  of  26000\n",
      "3500  of  26000\n",
      "3750  of  26000\n",
      "4000  of  26000\n",
      "4250  of  26000\n",
      "4500  of  26000\n",
      "4750  of  26000\n",
      "5000  of  26000\n",
      "5250  of  26000\n",
      "5500  of  26000\n",
      "5750  of  26000\n",
      "6000  of  26000\n",
      "6250  of  26000\n",
      "6500  of  26000\n",
      "6750  of  26000\n",
      "7000  of  26000\n",
      "7250  of  26000\n",
      "7500  of  26000\n",
      "7750  of  26000\n",
      "8000  of  26000\n",
      "8250  of  26000\n",
      "8500  of  26000\n",
      "8750  of  26000\n",
      "9000  of  26000\n",
      "9250  of  26000\n",
      "9500  of  26000\n",
      "9750  of  26000\n",
      "10000  of  26000\n",
      "10250  of  26000\n",
      "10500  of  26000\n",
      "10750  of  26000\n",
      "11000  of  26000\n",
      "11250  of  26000\n",
      "11500  of  26000\n",
      "11750  of  26000\n",
      "12000  of  26000\n",
      "12250  of  26000\n",
      "12500  of  26000\n",
      "12750  of  26000\n",
      "13000  of  26000\n",
      "13250  of  26000\n",
      "13500  of  26000\n",
      "13750  of  26000\n",
      "14000  of  26000\n",
      "14250  of  26000\n",
      "14500  of  26000\n",
      "14750  of  26000\n",
      "15000  of  26000\n",
      "15250  of  26000\n",
      "15500  of  26000\n",
      "15750  of  26000\n",
      "16000  of  26000\n",
      "16250  of  26000\n",
      "16500  of  26000\n",
      "16750  of  26000\n",
      "17000  of  26000\n",
      "17250  of  26000\n",
      "17500  of  26000\n",
      "17750  of  26000\n",
      "18000  of  26000\n",
      "18250  of  26000\n",
      "18500  of  26000\n",
      "18750  of  26000\n",
      "19000  of  26000\n",
      "19250  of  26000\n",
      "19500  of  26000\n",
      "19750  of  26000\n",
      "20000  of  26000\n",
      "20250  of  26000\n",
      "20500  of  26000\n",
      "20750  of  26000\n",
      "21000  of  26000\n",
      "21250  of  26000\n",
      "21500  of  26000\n",
      "21750  of  26000\n",
      "22000  of  26000\n",
      "22250  of  26000\n",
      "22500  of  26000\n",
      "22750  of  26000\n",
      "23000  of  26000\n",
      "23250  of  26000\n",
      "23500  of  26000\n",
      "23750  of  26000\n",
      "24000  of  26000\n",
      "24250  of  26000\n",
      "24500  of  26000\n",
      "24750  of  26000\n",
      "25000  of  26000\n",
      "25250  of  26000\n",
      "25500  of  26000\n",
      "25750  of  26000\n",
      "Wall time: 13h 50min 16s\n"
     ]
    }
   ],
   "source": [
    "%%time\n",
    "items_to_check = list(ratings_count_per_recipe[:26000].index)\n",
    "\n",
    "word2vec_ing_vectors_sample = {}\n",
    "for key in items_to_check:\n",
    "    word2vec_ing_vectors_sample[key] = word2vec_ing_vectors[key]\n",
    "\n",
    "pos_to_recipe_id, recipe_id_to_pos, similarities = create_similarity_vectors.create_similarity_matrix(word2vec_ing_vectors_sample, \n",
    "                                                                                                      verbose=True)"
   ]
  },
  {
   "cell_type": "code",
   "execution_count": 7,
   "id": "67c6b9ad",
   "metadata": {},
   "outputs": [],
   "source": [
    "# with open(\"G:/Recipes/Matrix/ING_50/matrix_top25k_ing_50.obj\", 'wb') as pickle_file:\n",
    "#      pickle.dump(similarities, pickle_file)\n",
    "\n",
    "# with open(\"G:/Recipes/Matrix/ING_50/recipe_id_to_pos.obj\", 'wb') as pickle_file:\n",
    "#      pickle.dump(recipe_id_to_pos, pickle_file)\n",
    "\n",
    "# with open(\"G:/Recipes/Matrix/ING_50/pos_to_recipe_id.obj\", 'wb') as pickle_file:\n",
    "#      pickle.dump(pos_to_recipe_id, pickle_file)"
   ]
  },
  {
   "cell_type": "code",
   "execution_count": null,
   "id": "8f2d4091",
   "metadata": {},
   "outputs": [],
   "source": []
  }
 ],
 "metadata": {
  "colab": {
   "collapsed_sections": [],
   "name": "04_Vector similarities.ipynb",
   "provenance": []
  },
  "kernelspec": {
   "display_name": "Python 3 (ipykernel)",
   "language": "python",
   "name": "python3"
  },
  "language_info": {
   "codemirror_mode": {
    "name": "ipython",
    "version": 3
   },
   "file_extension": ".py",
   "mimetype": "text/x-python",
   "name": "python",
   "nbconvert_exporter": "python",
   "pygments_lexer": "ipython3",
   "version": "3.9.7"
  }
 },
 "nbformat": 4,
 "nbformat_minor": 5
}
