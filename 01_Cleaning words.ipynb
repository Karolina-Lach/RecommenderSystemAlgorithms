{
 "cells": [
  {
   "cell_type": "markdown",
   "id": "e2a56894",
   "metadata": {},
   "source": [
    "# Imports"
   ]
  },
  {
   "cell_type": "code",
   "execution_count": 1,
   "id": "094dbedb",
   "metadata": {},
   "outputs": [],
   "source": [
    "import pandas as pd\n",
    "import pickle\n",
    "%matplotlib inline\n",
    "\n",
    "import nltk\n",
    "from nltk.stem import PorterStemmer\n",
    "from nltk.corpus import stopwords\n",
    "from nltk.tokenize import word_tokenize\n",
    "from nltk.stem import WordNetLemmatizer \n",
    "\n",
    "import string\n",
    "from unidecode import unidecode\n",
    "import re\n",
    "\n",
    "from cleaning_words import read_common_words\n",
    "from cleaning_words import transform_common_words\n",
    "from cleaning_words import clean_single_phrase\n",
    "from cleaning_words import remove_from_single_phrase\n",
    "from cleaning_words import convert_list_from_dict\n",
    "from cleaning_words import make_clean_keywords\n",
    "from cleaning_words import clean_keyword"
   ]
  },
  {
   "cell_type": "code",
   "execution_count": 2,
   "id": "ead41af2",
   "metadata": {},
   "outputs": [],
   "source": [
    "import spacy\n",
    "nlp = spacy.load(\"en_core_web_sm\")"
   ]
  },
  {
   "cell_type": "markdown",
   "id": "f20ad6d7",
   "metadata": {},
   "source": [
    "# Constants"
   ]
  },
  {
   "cell_type": "markdown",
   "id": "928b378d",
   "metadata": {},
   "source": [
    "## Load:"
   ]
  },
  {
   "cell_type": "code",
   "execution_count": null,
   "id": "80b4d4a8",
   "metadata": {},
   "outputs": [],
   "source": [
    "RECIPES_BASE = \"../Data/base/recipes_base.parquet\"\n",
    "RECIPES_DESCRIPTIVE = \"../Data/base/recipes_descriptive.parquet\"\n",
    "\n",
    "COMMON_WORDS_OLD = '../words.txt'"
   ]
  },
  {
   "cell_type": "markdown",
   "id": "0985787f",
   "metadata": {},
   "source": [
    "## Save:"
   ]
  },
  {
   "cell_type": "code",
   "execution_count": 6,
   "id": "7f7c54c6",
   "metadata": {},
   "outputs": [],
   "source": [
    "COMMON_WORDS = '../cleaned_files/common_words.txt'\n",
    "\n",
    "ING_CLEAN = '../cleaned_files/ingredients_clean.obj'\n",
    "ING_CLEAN_NO_COMMON = '../cleaned_files/ingredients_clean_without_common_words.obj'\n",
    "KEYWORDS_CLEAN = '../cleaned_files/keywords_cleaned.obj'\n",
    "CATEGORIES_CLEAN = '../cleaned_files/categories_cleaned.obj'\n",
    "NAMES_CLEAN = '../cleaned_files/names_cleaned.obj'\n",
    "NAMES_CLEAN_NO_COMMON = '../cleaned_files/names_clean_no_common.obj'\n",
    "\n",
    "ING2CLEAN_DICT = \"../cleaned_files/ingredient_2_clean_dict.obj\"\n",
    "ING2CLEAN_NO_COMMON_DICT = \"../cleaned_files/ingredient_2_clean_no_common_dict.obj\"\n",
    "KEY2CLEAN_DICT = \"../cleaned_files/keywords_2_clean_dict.obj\"\n",
    "CAT2CLEAN_DICT = \"../cleaned_files/category_2_clean_dict.obj\"\n",
    "NAME2CLEAN_DICT = \"../cleaned_files/name_2_clean_dict.obj\"\n",
    "NAME2CLEAN_NO_COMMON_DICT = \"../cleaned_files/name_2_clean_no_common_dict.obj\""
   ]
  },
  {
   "cell_type": "markdown",
   "id": "c79e900d",
   "metadata": {},
   "source": [
    "# Load data"
   ]
  },
  {
   "cell_type": "code",
   "execution_count": 8,
   "id": "3e3d4958",
   "metadata": {},
   "outputs": [],
   "source": [
    "recipes_base = pd.read_parquet(RECIPES_BASE)\n",
    "recipes_desc = pd.read_parquet(RECIPES_DESCRIPTIVE)"
   ]
  },
  {
   "cell_type": "code",
   "execution_count": 9,
   "id": "bc56130f",
   "metadata": {},
   "outputs": [],
   "source": [
    "recipe_ids = pd.DataFrame(recipes_base['RecipeId'])"
   ]
  },
  {
   "cell_type": "markdown",
   "id": "c4c2177f",
   "metadata": {},
   "source": [
    "# Ingredients inspection"
   ]
  },
  {
   "cell_type": "code",
   "execution_count": 59,
   "id": "afa75c43",
   "metadata": {},
   "outputs": [],
   "source": [
    "all_ingredients = []\n",
    "for ing_list in recipes_desc.Ingredients.tolist():\n",
    "    for ing in ing_list:\n",
    "        all_ingredients.append(ing)\n",
    "all_ingredients_unique = set(all_ingredients)"
   ]
  },
  {
   "cell_type": "code",
   "execution_count": 60,
   "id": "1dc72133",
   "metadata": {},
   "outputs": [
    {
     "name": "stdout",
     "output_type": "stream",
     "text": [
      "Number of unique ingredients:  7368\n"
     ]
    }
   ],
   "source": [
    "print('Number of unique ingredients: ', len(all_ingredients_unique))"
   ]
  },
  {
   "cell_type": "markdown",
   "id": "58e3fc1c",
   "metadata": {},
   "source": [
    "# Common words"
   ]
  },
  {
   "cell_type": "markdown",
   "id": "b0051010",
   "metadata": {},
   "source": [
    "## Read common words"
   ]
  },
  {
   "cell_type": "code",
   "execution_count": 61,
   "id": "c838060d",
   "metadata": {},
   "outputs": [
    {
     "name": "stdout",
     "output_type": "stream",
     "text": [
      "Number of common words to remove:  451\n"
     ]
    }
   ],
   "source": [
    "common_words = read_common_words(COMMON_WORDS_OLD)\n",
    "common_words = transform_common_words(common_words)\n",
    "print('Number of common words to remove: ', len(common_words))"
   ]
  },
  {
   "cell_type": "markdown",
   "id": "fc8771d6",
   "metadata": {},
   "source": [
    "## Save unique common words"
   ]
  },
  {
   "cell_type": "code",
   "execution_count": 62,
   "id": "484a7631",
   "metadata": {},
   "outputs": [],
   "source": [
    "# with open(COMMON_WORDS, 'w') as f:\n",
    "#     f.writelines('\\n'.join(common_words))"
   ]
  },
  {
   "cell_type": "markdown",
   "id": "9e5cb327",
   "metadata": {},
   "source": [
    "# Clean ingredients"
   ]
  },
  {
   "cell_type": "markdown",
   "id": "c0efc4f6",
   "metadata": {},
   "source": [
    "## Create cleaned ingredients' dictionaries"
   ]
  },
  {
   "cell_type": "markdown",
   "id": "e2c55f34",
   "metadata": {},
   "source": [
    "### Ingredient to clean ingredient\n",
    "    Key:   Ingredient\n",
    "    Value: Clean ingredient"
   ]
  },
  {
   "cell_type": "code",
   "execution_count": 63,
   "id": "6b9c8e59",
   "metadata": {},
   "outputs": [],
   "source": [
    "ingredient_2_clean_ingredient_dict = {}\n",
    "for ingredient in all_ingredients_unique:\n",
    "    ingredient_2_clean_ingredient_dict[ingredient] = clean_single_phrase(ingredient)"
   ]
  },
  {
   "cell_type": "markdown",
   "id": "927c3db9",
   "metadata": {},
   "source": [
    "### Ingredient to clean ingredient without common words\n",
    "    Key:   Ingredient\n",
    "    Value: Clean ingredient without common words"
   ]
  },
  {
   "cell_type": "code",
   "execution_count": 65,
   "id": "2f214a47",
   "metadata": {},
   "outputs": [],
   "source": [
    "ingredient_2_clean_no_common_dict = {}\n",
    "for ingredient in all_ingredients_unique:\n",
    "    ingredient_2_clean_no_common_dict[ingredient] = remove_from_single_phrase(ingredient_2_clean_ingredient_dict[ingredient], \n",
    "                                                                              common_words)"
   ]
  },
  {
   "cell_type": "markdown",
   "id": "ecf87da5",
   "metadata": {},
   "source": [
    "## Transform ingredients' lists"
   ]
  },
  {
   "cell_type": "markdown",
   "id": "a3a98fc8",
   "metadata": {},
   "source": [
    "### Clean ingredients dataframe"
   ]
  },
  {
   "cell_type": "code",
   "execution_count": 17,
   "id": "3f5edd4b",
   "metadata": {},
   "outputs": [],
   "source": [
    "clean_ingredients = recipes_desc['Ingredients'].apply(convert_list_from_dict, dictionary_phrases=ingredient_2_clean_ingredient_dict)"
   ]
  },
  {
   "cell_type": "markdown",
   "id": "17aae4b7",
   "metadata": {},
   "source": [
    "### Unique clean ingredients "
   ]
  },
  {
   "cell_type": "code",
   "execution_count": 18,
   "id": "f50edd0f",
   "metadata": {},
   "outputs": [],
   "source": [
    "all_clean_ingredients = []\n",
    "for ing_list in clean_ingredients.tolist():\n",
    "    for ing in ing_list:\n",
    "        all_clean_ingredients.append(ing)\n",
    "all_clean_ingredients_unique = set(all_clean_ingredients)"
   ]
  },
  {
   "cell_type": "code",
   "execution_count": 19,
   "id": "e762685a",
   "metadata": {},
   "outputs": [
    {
     "name": "stdout",
     "output_type": "stream",
     "text": [
      "Number of unique ingredients:  6463\n"
     ]
    }
   ],
   "source": [
    "print('Number of unique ingredients: ', len(all_clean_ingredients_unique))"
   ]
  },
  {
   "cell_type": "code",
   "execution_count": 20,
   "id": "51d0aadc",
   "metadata": {},
   "outputs": [
    {
     "data": {
      "text/plain": [
       "0         [blueberry, granulate sugar, lemon juice, vani...\n",
       "1         [basmati rice, boneless chicken, cardamom seed...\n",
       "2         [fresh lemon juice, fresh water, lemon rind, l...\n",
       "3         [black pepper, eggplant, extra firm tofu, garl...\n",
       "4         [cabbage, carrot, celery, onion, plain tomato ...\n",
       "                                ...                        \n",
       "522512    [bake soda, buttermilk, cinnamon, dark brown s...\n",
       "522513    [brandy, cognac, dijon mustard, garlic, pepper...\n",
       "522514              [brandy, half half, heavy cream, sugar]\n",
       "522515    [dill, english cucumber, pickled ginger, smoke...\n",
       "522516    [breakfast sausage, flour, hard boil egg, pank...\n",
       "Name: Ingredients, Length: 522517, dtype: object"
      ]
     },
     "execution_count": 20,
     "metadata": {},
     "output_type": "execute_result"
    }
   ],
   "source": [
    "clean_ingredients"
   ]
  },
  {
   "cell_type": "markdown",
   "id": "f68f87a8",
   "metadata": {},
   "source": [
    "### Remove common words -> dataframe"
   ]
  },
  {
   "cell_type": "code",
   "execution_count": 26,
   "id": "0736a14b",
   "metadata": {},
   "outputs": [],
   "source": [
    "clean_ingredients_withot_common = recipes_desc['Ingredients'].apply(convert_list_from_dict, \n",
    "                                                                     dictionary_phrases=ingredient_2_clean_no_common_dict)"
   ]
  },
  {
   "cell_type": "markdown",
   "id": "2121aa71",
   "metadata": {},
   "source": [
    "### Unique clean ingredients without common words"
   ]
  },
  {
   "cell_type": "code",
   "execution_count": 22,
   "id": "4d5ff229",
   "metadata": {},
   "outputs": [],
   "source": [
    "all_ingredients = []\n",
    "for ing_list in clean_ingredients_withot_common.tolist():\n",
    "    for ing in ing_list:\n",
    "        all_ingredients.append(ing)\n",
    "all_ingredients_unique = set(all_ingredients)"
   ]
  },
  {
   "cell_type": "code",
   "execution_count": 23,
   "id": "2e5e5633",
   "metadata": {
    "scrolled": true
   },
   "outputs": [
    {
     "name": "stdout",
     "output_type": "stream",
     "text": [
      "Number of unique ingredients after cleaning:  5070\n"
     ]
    }
   ],
   "source": [
    "print('Number of unique ingredients after cleaning: ', len(all_ingredients_unique))"
   ]
  },
  {
   "cell_type": "code",
   "execution_count": 24,
   "id": "70ca1abc",
   "metadata": {},
   "outputs": [],
   "source": [
    "clean_ingredents = recipe_ids.merge(pd.DataFrame(clean_ingredients), left_index=True, right_index=True)"
   ]
  },
  {
   "cell_type": "code",
   "execution_count": 25,
   "id": "5e39025f",
   "metadata": {},
   "outputs": [],
   "source": [
    "clean_ingredients_withot_common = recipe_ids.merge(pd.DataFrame(clean_ingredients_withot_common), left_index=True, right_index=True)"
   ]
  },
  {
   "cell_type": "markdown",
   "id": "5cff2ca0",
   "metadata": {},
   "source": [
    "## Save"
   ]
  },
  {
   "cell_type": "code",
   "execution_count": 82,
   "id": "7a164b9f",
   "metadata": {},
   "outputs": [],
   "source": [
    "# with open(ING_CLEAN, 'wb') as pickle_file:\n",
    "#     pickle.dump(clean_ingredients, pickle_file)"
   ]
  },
  {
   "cell_type": "code",
   "execution_count": 83,
   "id": "c04599fd",
   "metadata": {},
   "outputs": [],
   "source": [
    "# with open(ING_CLEAN_NO_COMMON, 'wb') as pickle_file:\n",
    "#     pickle.dump(clean_ingredients_withot_common, pickle_file)"
   ]
  },
  {
   "cell_type": "markdown",
   "id": "cf1ae7d9",
   "metadata": {},
   "source": [
    "# Recipes keywords"
   ]
  },
  {
   "cell_type": "markdown",
   "id": "62e11b32",
   "metadata": {},
   "source": [
    "## Unique keywords"
   ]
  },
  {
   "cell_type": "code",
   "execution_count": 67,
   "id": "87c137b2",
   "metadata": {},
   "outputs": [],
   "source": [
    "all_keywords = []\n",
    "for keywords in recipes_desc.Keywords.tolist():\n",
    "    for key in keywords:\n",
    "        all_keywords.append(key)"
   ]
  },
  {
   "cell_type": "code",
   "execution_count": 68,
   "id": "90ef5755",
   "metadata": {},
   "outputs": [],
   "source": [
    "all_keywords_unique = set(all_keywords)"
   ]
  },
  {
   "cell_type": "code",
   "execution_count": 69,
   "id": "fe1b99b0",
   "metadata": {},
   "outputs": [
    {
     "name": "stdout",
     "output_type": "stream",
     "text": [
      "Number of unique keywords:  315\n"
     ]
    }
   ],
   "source": [
    "print('Number of unique keywords: ', len(all_keywords_unique))"
   ]
  },
  {
   "cell_type": "markdown",
   "id": "870dc765",
   "metadata": {},
   "source": [
    "## Create keyword dictionary"
   ]
  },
  {
   "cell_type": "code",
   "execution_count": 70,
   "id": "3390744e",
   "metadata": {},
   "outputs": [],
   "source": [
    "keywords_2_cleaned_dict = {}\n",
    "for key in all_keywords_unique:\n",
    "    keywords_2_cleaned_dict[key] = clean_keyword(key)"
   ]
  },
  {
   "cell_type": "markdown",
   "id": "90293cef",
   "metadata": {},
   "source": [
    "## Clean keywords -> dataframe"
   ]
  },
  {
   "cell_type": "code",
   "execution_count": 69,
   "id": "f6ff50e8",
   "metadata": {},
   "outputs": [],
   "source": [
    "cleaned_keywords = recipes_desc.Keywords.apply(convert_list_from_dict, \n",
    "                                                dictionary_phrases=keywords_2_cleaned_dict)"
   ]
  },
  {
   "cell_type": "code",
   "execution_count": 70,
   "id": "00437082",
   "metadata": {},
   "outputs": [],
   "source": [
    "cleaned_keywords = recipe_ids.merge(pd.DataFrame(cleaned_keywords), left_index=True, right_index=True)"
   ]
  },
  {
   "cell_type": "markdown",
   "id": "30acef72",
   "metadata": {},
   "source": [
    "# Recipes categories"
   ]
  },
  {
   "cell_type": "markdown",
   "id": "bc57c311",
   "metadata": {},
   "source": [
    "## Unique categories"
   ]
  },
  {
   "cell_type": "code",
   "execution_count": 72,
   "id": "8f8131bd",
   "metadata": {},
   "outputs": [
    {
     "name": "stdout",
     "output_type": "stream",
     "text": [
      "Number of unique categories:  311\n"
     ]
    }
   ],
   "source": [
    "print('Number of unique categories: ', recipes_desc.RecipeCategory.nunique())"
   ]
  },
  {
   "cell_type": "code",
   "execution_count": 76,
   "id": "c190b495",
   "metadata": {},
   "outputs": [],
   "source": [
    "all_categories_unique = recipes_desc.RecipeCategory.unique()"
   ]
  },
  {
   "cell_type": "markdown",
   "id": "271cc6c7",
   "metadata": {},
   "source": [
    "## Create categories dictionary"
   ]
  },
  {
   "cell_type": "code",
   "execution_count": 77,
   "id": "b66d3716",
   "metadata": {},
   "outputs": [],
   "source": [
    "category_2_cleaned_dict = {}\n",
    "for cat in all_categories_unique:\n",
    "    category_2_cleaned_dict[cat] = clean_keyword(cat)"
   ]
  },
  {
   "cell_type": "markdown",
   "id": "8000ed15",
   "metadata": {},
   "source": [
    "## Clean recipe categories"
   ]
  },
  {
   "cell_type": "code",
   "execution_count": 75,
   "id": "a0185da8",
   "metadata": {},
   "outputs": [],
   "source": [
    "clean_recipes_categories = recipes_desc.RecipeCategory.apply(lambda x: category_2_cleaned_dict[x])"
   ]
  },
  {
   "cell_type": "code",
   "execution_count": 76,
   "id": "20973909",
   "metadata": {},
   "outputs": [],
   "source": [
    "clean_recipes_categories = recipe_ids.merge(pd.DataFrame(clean_recipes_categories), left_index=True, right_index=True)"
   ]
  },
  {
   "cell_type": "code",
   "execution_count": 81,
   "id": "f9386d62",
   "metadata": {},
   "outputs": [],
   "source": [
    "# with open(CATEGORIES_CLEAN, 'wb') as pickle_file:\n",
    "#     pickle.dump(clean_recipes_categories, pickle_file)"
   ]
  },
  {
   "cell_type": "markdown",
   "id": "26a1ad31",
   "metadata": {},
   "source": [
    "# Names"
   ]
  },
  {
   "cell_type": "markdown",
   "id": "68f2776c",
   "metadata": {},
   "source": [
    "## Create name dictionary"
   ]
  },
  {
   "cell_type": "code",
   "execution_count": 71,
   "id": "04d4f5f4",
   "metadata": {},
   "outputs": [],
   "source": [
    "all_names = list(recipes_base.Name)\n",
    "all_names_unique = set(all_names)\n",
    "name_2_cleaned_dict = {}\n",
    "for name in all_names_unique:\n",
    "    name_2_cleaned_dict[name] = clean_single_phrase(name)"
   ]
  },
  {
   "cell_type": "markdown",
   "id": "f8116881",
   "metadata": {},
   "source": [
    "## Clean names"
   ]
  },
  {
   "cell_type": "code",
   "execution_count": 46,
   "id": "93a27c85",
   "metadata": {},
   "outputs": [],
   "source": [
    "clean_names = recipes_base.Name.apply(lambda x: name_2_cleaned[x])"
   ]
  },
  {
   "cell_type": "code",
   "execution_count": 47,
   "id": "b7312597",
   "metadata": {},
   "outputs": [],
   "source": [
    "clean_names = recipe_ids.merge(pd.DataFrame(clean_names), left_index=True, right_index=True)"
   ]
  },
  {
   "cell_type": "code",
   "execution_count": 39,
   "id": "dbd8abc6",
   "metadata": {},
   "outputs": [],
   "source": [
    "clean_names_unique = set(name_2_cleaned.items())"
   ]
  },
  {
   "cell_type": "markdown",
   "id": "f185a631",
   "metadata": {},
   "source": [
    "## Create name dictionary without common words"
   ]
  },
  {
   "cell_type": "code",
   "execution_count": 40,
   "id": "7128b6e1",
   "metadata": {},
   "outputs": [],
   "source": [
    "name_2_clean_no_common = {}\n",
    "for name in name_2_cleaned_dict.keys():\n",
    "    name_2_clean_no_common[name] = remove_from_single_phrase(name_2_cleaned_dict[name], common_words)"
   ]
  },
  {
   "cell_type": "markdown",
   "id": "14f0ecd7",
   "metadata": {},
   "source": [
    "## Clean names without common words"
   ]
  },
  {
   "cell_type": "code",
   "execution_count": 48,
   "id": "68add1e1",
   "metadata": {},
   "outputs": [],
   "source": [
    "clean_names_no_common = recipes_base.Name.apply(lambda x: name_2_clean_no_common[x])\n",
    "clean_names_no_common = recipe_ids.merge(pd.DataFrame(clean_names_no_common), left_index=True, right_index=True)"
   ]
  },
  {
   "cell_type": "markdown",
   "id": "8c244d5e",
   "metadata": {},
   "source": [
    "## Names with duplicates"
   ]
  },
  {
   "cell_type": "code",
   "execution_count": 9,
   "id": "0d82dbf8",
   "metadata": {},
   "outputs": [
    {
     "data": {
      "text/html": [
       "<div>\n",
       "<style scoped>\n",
       "    .dataframe tbody tr th:only-of-type {\n",
       "        vertical-align: middle;\n",
       "    }\n",
       "\n",
       "    .dataframe tbody tr th {\n",
       "        vertical-align: top;\n",
       "    }\n",
       "\n",
       "    .dataframe thead th {\n",
       "        text-align: right;\n",
       "    }\n",
       "</style>\n",
       "<table border=\"1\" class=\"dataframe\">\n",
       "  <thead>\n",
       "    <tr style=\"text-align: right;\">\n",
       "      <th></th>\n",
       "      <th>RecipeId</th>\n",
       "      <th>Name</th>\n",
       "      <th>AuthorId</th>\n",
       "      <th>CookTimeInMinutes</th>\n",
       "      <th>PrepTimeInMinutes</th>\n",
       "      <th>TotalTimeInMinutes</th>\n",
       "      <th>DatePublished</th>\n",
       "      <th>Description</th>\n",
       "      <th>RecipeCategory</th>\n",
       "      <th>Keywords</th>\n",
       "      <th>Ingredients</th>\n",
       "      <th>RecipeServings</th>\n",
       "      <th>RecipeInstructions</th>\n",
       "      <th>Nutritions</th>\n",
       "    </tr>\n",
       "  </thead>\n",
       "  <tbody>\n",
       "    <tr>\n",
       "      <th>1</th>\n",
       "      <td>39</td>\n",
       "      <td>Biryani</td>\n",
       "      <td>1567</td>\n",
       "      <td>25.0</td>\n",
       "      <td>240.0</td>\n",
       "      <td>265.0</td>\n",
       "      <td>1999-08-29 13:12:00+00:00</td>\n",
       "      <td>Make and share this Biryani recipe from Food.com.</td>\n",
       "      <td>Chicken Breast</td>\n",
       "      <td>[Chicken Thigh &amp; Leg, Chicken, Poultry, Meat, ...</td>\n",
       "      <td>[saffron, milk, hot green chili peppers, onion...</td>\n",
       "      <td>6.0</td>\n",
       "      <td>[Soak saffron in warm milk for 5 minutes and p...</td>\n",
       "      <td>[58.8, 16.6, 372.8, 368.4, 84.4, 9.0, 20.4, 63.4]</td>\n",
       "    </tr>\n",
       "    <tr>\n",
       "      <th>2</th>\n",
       "      <td>40</td>\n",
       "      <td>Best Lemonade</td>\n",
       "      <td>1566</td>\n",
       "      <td>5.0</td>\n",
       "      <td>30.0</td>\n",
       "      <td>35.0</td>\n",
       "      <td>1999-09-05 19:52:00+00:00</td>\n",
       "      <td>This is from one of my  first Good House Keepi...</td>\n",
       "      <td>Beverages</td>\n",
       "      <td>[Low Protein, Low Cholesterol, Healthy, Summer...</td>\n",
       "      <td>[sugar, lemons, rind of, lemon, zest of, fresh...</td>\n",
       "      <td>4.0</td>\n",
       "      <td>[Into a 1 quart Jar with tight fitting lid, pu...</td>\n",
       "      <td>[0.2, 0.0, 0.0, 1.8, 81.5, 0.4, 77.2, 0.3]</td>\n",
       "    </tr>\n",
       "    <tr>\n",
       "      <th>4</th>\n",
       "      <td>42</td>\n",
       "      <td>Cabbage Soup</td>\n",
       "      <td>1538</td>\n",
       "      <td>30.0</td>\n",
       "      <td>20.0</td>\n",
       "      <td>50.0</td>\n",
       "      <td>1999-09-19 06:19:00+00:00</td>\n",
       "      <td>Make and share this Cabbage Soup recipe from F...</td>\n",
       "      <td>Vegetable</td>\n",
       "      <td>[Low Protein, Vegan, Low Cholesterol, Healthy,...</td>\n",
       "      <td>[plain tomato juice, cabbage, onion, carrots, ...</td>\n",
       "      <td>4.0</td>\n",
       "      <td>[Mix everything together and bring to a boil.,...</td>\n",
       "      <td>[0.4, 0.1, 0.0, 959.3, 25.1, 4.8, 17.7, 4.3]</td>\n",
       "    </tr>\n",
       "    <tr>\n",
       "      <th>9</th>\n",
       "      <td>47</td>\n",
       "      <td>Butter Pecan Cookies</td>\n",
       "      <td>1573</td>\n",
       "      <td>9.0</td>\n",
       "      <td>55.0</td>\n",
       "      <td>64.0</td>\n",
       "      <td>1999-09-07 09:01:00+00:00</td>\n",
       "      <td>Make and share this Butter Pecan Cookies recip...</td>\n",
       "      <td>Dessert</td>\n",
       "      <td>[Cookie &amp; Brownie, Fruit, Nuts, Weeknight, Ove...</td>\n",
       "      <td>[butter, brown sugar, granulated sugar, vanill...</td>\n",
       "      <td>NaN</td>\n",
       "      <td>[Preheat oven to 350 degrees., Cream butter in...</td>\n",
       "      <td>[5.6, 1.4, 6.3, 15.0, 4.5, 0.6, 1.6, 0.8]</td>\n",
       "    </tr>\n",
       "    <tr>\n",
       "      <th>10</th>\n",
       "      <td>48</td>\n",
       "      <td>Boston Cream Pie</td>\n",
       "      <td>1545</td>\n",
       "      <td>0.0</td>\n",
       "      <td>135.0</td>\n",
       "      <td>135.0</td>\n",
       "      <td>1999-08-24 04:35:00+00:00</td>\n",
       "      <td>Make and share this Boston Cream Pie recipe fr...</td>\n",
       "      <td>Pie</td>\n",
       "      <td>[Dessert, Weeknight, Oven, &lt; 4 Hours]</td>\n",
       "      <td>[margarine, cake flour, baking powder, salt, s...</td>\n",
       "      <td>8.0</td>\n",
       "      <td>[Beat egg whites until soft peaks form., Gradu...</td>\n",
       "      <td>[36.4, 12.9, 105.9, 722.3, 84.0, 1.6, 46.2, 8.8]</td>\n",
       "    </tr>\n",
       "    <tr>\n",
       "      <th>...</th>\n",
       "      <td>...</td>\n",
       "      <td>...</td>\n",
       "      <td>...</td>\n",
       "      <td>...</td>\n",
       "      <td>...</td>\n",
       "      <td>...</td>\n",
       "      <td>...</td>\n",
       "      <td>...</td>\n",
       "      <td>...</td>\n",
       "      <td>...</td>\n",
       "      <td>...</td>\n",
       "      <td>...</td>\n",
       "      <td>...</td>\n",
       "      <td>...</td>\n",
       "    </tr>\n",
       "    <tr>\n",
       "      <th>522413</th>\n",
       "      <td>541278</td>\n",
       "      <td>Sherried Artichoke Chicken</td>\n",
       "      <td>298447</td>\n",
       "      <td>25.0</td>\n",
       "      <td>25.0</td>\n",
       "      <td>50.0</td>\n",
       "      <td>2020-11-30 17:58:00+00:00</td>\n",
       "      <td>Make and share this Sherried Artichoke Chicken...</td>\n",
       "      <td>Chicken Breast</td>\n",
       "      <td>[Chicken, Poultry, Meat, Healthy, &lt; 60 Mins]</td>\n",
       "      <td>[paprika, salt, pepper, boneless skinless chic...</td>\n",
       "      <td>NaN</td>\n",
       "      <td>[Combine the paprika, salt &amp; pepper; sprinkle ...</td>\n",
       "      <td>[9.8, 4.5, 90.8, 560.5, 18.4, 9.3, 2.5, 31.4]</td>\n",
       "    </tr>\n",
       "    <tr>\n",
       "      <th>522431</th>\n",
       "      <td>541298</td>\n",
       "      <td>Homemade Ketchup</td>\n",
       "      <td>2002848998</td>\n",
       "      <td>0.0</td>\n",
       "      <td>5.0</td>\n",
       "      <td>5.0</td>\n",
       "      <td>2020-11-30 18:03:00+00:00</td>\n",
       "      <td>Homemade ketchup is so easy and is made with j...</td>\n",
       "      <td>&lt; 15 Mins</td>\n",
       "      <td>[Easy]</td>\n",
       "      <td>[tomato paste, white sugar, cold water, allspi...</td>\n",
       "      <td>3.0</td>\n",
       "      <td>[Whisk all ingredients together in a bowl., En...</td>\n",
       "      <td>[0.7, 0.1, 0.0, 1812.3, 38.5, 5.8, 28.6, 5.8]</td>\n",
       "    </tr>\n",
       "    <tr>\n",
       "      <th>522451</th>\n",
       "      <td>541318</td>\n",
       "      <td>Peppermint Hot Chocolate</td>\n",
       "      <td>2002835852</td>\n",
       "      <td>0.0</td>\n",
       "      <td>5.0</td>\n",
       "      <td>5.0</td>\n",
       "      <td>2020-12-07 13:54:00+00:00</td>\n",
       "      <td>Make and share this Peppermint Hot Chocolate r...</td>\n",
       "      <td>Beverages</td>\n",
       "      <td>[Kid Friendly, &lt; 15 Mins, Easy]</td>\n",
       "      <td>[milk, sugar, salt]</td>\n",
       "      <td>1.0</td>\n",
       "      <td>[Mixed cocoa powder, sugar, salt, and 1/2 of t...</td>\n",
       "      <td>[10.9, 6.7, 34.2, 277.9, 44.7, 4.8, 25.2, 10.8]</td>\n",
       "    </tr>\n",
       "    <tr>\n",
       "      <th>522460</th>\n",
       "      <td>541327</td>\n",
       "      <td>Eggplant Casserole</td>\n",
       "      <td>48920</td>\n",
       "      <td>30.0</td>\n",
       "      <td>45.0</td>\n",
       "      <td>75.0</td>\n",
       "      <td>2020-12-07 19:03:00+00:00</td>\n",
       "      <td>Make and share this Eggplant Casserole recipe ...</td>\n",
       "      <td>&lt; 4 Hours</td>\n",
       "      <td>[None]</td>\n",
       "      <td>[lean ground beef, onion, bell pepper, eggplan...</td>\n",
       "      <td>6.0</td>\n",
       "      <td>[In a large skillet saute ground beef, onion, ...</td>\n",
       "      <td>[20.0, 10.6, 124.0, 393.5, 10.6, 3.5, 4.4, 28.1]</td>\n",
       "    </tr>\n",
       "    <tr>\n",
       "      <th>522505</th>\n",
       "      <td>541372</td>\n",
       "      <td>Chiles Rellenos Casserole</td>\n",
       "      <td>2002090414</td>\n",
       "      <td>60.0</td>\n",
       "      <td>60.0</td>\n",
       "      <td>120.0</td>\n",
       "      <td>2020-12-21 16:34:00+00:00</td>\n",
       "      <td>Make and share this Chiles Rellenos Casserole ...</td>\n",
       "      <td>Mexican</td>\n",
       "      <td>[&lt; 4 Hours]</td>\n",
       "      <td>[green chilies, cheddar cheese, eggs, half &amp; h...</td>\n",
       "      <td>NaN</td>\n",
       "      <td>[Preheat oven to 350F., Butter a 2 quart casse...</td>\n",
       "      <td>[44.5, 27.3, 226.8, 1196.8, 11.9, 0.9, 3.6, 29.0]</td>\n",
       "    </tr>\n",
       "  </tbody>\n",
       "</table>\n",
       "<p>116929 rows × 14 columns</p>\n",
       "</div>"
      ],
      "text/plain": [
       "        RecipeId                        Name    AuthorId  CookTimeInMinutes  \\\n",
       "1             39                     Biryani        1567               25.0   \n",
       "2             40               Best Lemonade        1566                5.0   \n",
       "4             42                Cabbage Soup        1538               30.0   \n",
       "9             47        Butter Pecan Cookies        1573                9.0   \n",
       "10            48            Boston Cream Pie        1545                0.0   \n",
       "...          ...                         ...         ...                ...   \n",
       "522413    541278  Sherried Artichoke Chicken      298447               25.0   \n",
       "522431    541298            Homemade Ketchup  2002848998                0.0   \n",
       "522451    541318    Peppermint Hot Chocolate  2002835852                0.0   \n",
       "522460    541327          Eggplant Casserole       48920               30.0   \n",
       "522505    541372   Chiles Rellenos Casserole  2002090414               60.0   \n",
       "\n",
       "        PrepTimeInMinutes  TotalTimeInMinutes             DatePublished  \\\n",
       "1                   240.0               265.0 1999-08-29 13:12:00+00:00   \n",
       "2                    30.0                35.0 1999-09-05 19:52:00+00:00   \n",
       "4                    20.0                50.0 1999-09-19 06:19:00+00:00   \n",
       "9                    55.0                64.0 1999-09-07 09:01:00+00:00   \n",
       "10                  135.0               135.0 1999-08-24 04:35:00+00:00   \n",
       "...                   ...                 ...                       ...   \n",
       "522413               25.0                50.0 2020-11-30 17:58:00+00:00   \n",
       "522431                5.0                 5.0 2020-11-30 18:03:00+00:00   \n",
       "522451                5.0                 5.0 2020-12-07 13:54:00+00:00   \n",
       "522460               45.0                75.0 2020-12-07 19:03:00+00:00   \n",
       "522505               60.0               120.0 2020-12-21 16:34:00+00:00   \n",
       "\n",
       "                                              Description  RecipeCategory  \\\n",
       "1       Make and share this Biryani recipe from Food.com.  Chicken Breast   \n",
       "2       This is from one of my  first Good House Keepi...       Beverages   \n",
       "4       Make and share this Cabbage Soup recipe from F...       Vegetable   \n",
       "9       Make and share this Butter Pecan Cookies recip...         Dessert   \n",
       "10      Make and share this Boston Cream Pie recipe fr...             Pie   \n",
       "...                                                   ...             ...   \n",
       "522413  Make and share this Sherried Artichoke Chicken...  Chicken Breast   \n",
       "522431  Homemade ketchup is so easy and is made with j...       < 15 Mins   \n",
       "522451  Make and share this Peppermint Hot Chocolate r...       Beverages   \n",
       "522460  Make and share this Eggplant Casserole recipe ...       < 4 Hours   \n",
       "522505  Make and share this Chiles Rellenos Casserole ...         Mexican   \n",
       "\n",
       "                                                 Keywords  \\\n",
       "1       [Chicken Thigh & Leg, Chicken, Poultry, Meat, ...   \n",
       "2       [Low Protein, Low Cholesterol, Healthy, Summer...   \n",
       "4       [Low Protein, Vegan, Low Cholesterol, Healthy,...   \n",
       "9       [Cookie & Brownie, Fruit, Nuts, Weeknight, Ove...   \n",
       "10                  [Dessert, Weeknight, Oven, < 4 Hours]   \n",
       "...                                                   ...   \n",
       "522413       [Chicken, Poultry, Meat, Healthy, < 60 Mins]   \n",
       "522431                                             [Easy]   \n",
       "522451                    [Kid Friendly, < 15 Mins, Easy]   \n",
       "522460                                             [None]   \n",
       "522505                                        [< 4 Hours]   \n",
       "\n",
       "                                              Ingredients  RecipeServings  \\\n",
       "1       [saffron, milk, hot green chili peppers, onion...             6.0   \n",
       "2       [sugar, lemons, rind of, lemon, zest of, fresh...             4.0   \n",
       "4       [plain tomato juice, cabbage, onion, carrots, ...             4.0   \n",
       "9       [butter, brown sugar, granulated sugar, vanill...             NaN   \n",
       "10      [margarine, cake flour, baking powder, salt, s...             8.0   \n",
       "...                                                   ...             ...   \n",
       "522413  [paprika, salt, pepper, boneless skinless chic...             NaN   \n",
       "522431  [tomato paste, white sugar, cold water, allspi...             3.0   \n",
       "522451                                [milk, sugar, salt]             1.0   \n",
       "522460  [lean ground beef, onion, bell pepper, eggplan...             6.0   \n",
       "522505  [green chilies, cheddar cheese, eggs, half & h...             NaN   \n",
       "\n",
       "                                       RecipeInstructions  \\\n",
       "1       [Soak saffron in warm milk for 5 minutes and p...   \n",
       "2       [Into a 1 quart Jar with tight fitting lid, pu...   \n",
       "4       [Mix everything together and bring to a boil.,...   \n",
       "9       [Preheat oven to 350 degrees., Cream butter in...   \n",
       "10      [Beat egg whites until soft peaks form., Gradu...   \n",
       "...                                                   ...   \n",
       "522413  [Combine the paprika, salt & pepper; sprinkle ...   \n",
       "522431  [Whisk all ingredients together in a bowl., En...   \n",
       "522451  [Mixed cocoa powder, sugar, salt, and 1/2 of t...   \n",
       "522460  [In a large skillet saute ground beef, onion, ...   \n",
       "522505  [Preheat oven to 350F., Butter a 2 quart casse...   \n",
       "\n",
       "                                               Nutritions  \n",
       "1       [58.8, 16.6, 372.8, 368.4, 84.4, 9.0, 20.4, 63.4]  \n",
       "2              [0.2, 0.0, 0.0, 1.8, 81.5, 0.4, 77.2, 0.3]  \n",
       "4            [0.4, 0.1, 0.0, 959.3, 25.1, 4.8, 17.7, 4.3]  \n",
       "9               [5.6, 1.4, 6.3, 15.0, 4.5, 0.6, 1.6, 0.8]  \n",
       "10       [36.4, 12.9, 105.9, 722.3, 84.0, 1.6, 46.2, 8.8]  \n",
       "...                                                   ...  \n",
       "522413      [9.8, 4.5, 90.8, 560.5, 18.4, 9.3, 2.5, 31.4]  \n",
       "522431      [0.7, 0.1, 0.0, 1812.3, 38.5, 5.8, 28.6, 5.8]  \n",
       "522451    [10.9, 6.7, 34.2, 277.9, 44.7, 4.8, 25.2, 10.8]  \n",
       "522460   [20.0, 10.6, 124.0, 393.5, 10.6, 3.5, 4.4, 28.1]  \n",
       "522505  [44.5, 27.3, 226.8, 1196.8, 11.9, 0.9, 3.6, 29.0]  \n",
       "\n",
       "[116929 rows x 14 columns]"
      ]
     },
     "execution_count": 9,
     "metadata": {},
     "output_type": "execute_result"
    }
   ],
   "source": [
    "recipes_base[recipes_base.Name.isin(recipes_base.Name[recipes_base.Name.duplicated()])]"
   ]
  },
  {
   "cell_type": "markdown",
   "id": "37f85074",
   "metadata": {},
   "source": [
    "## Save files"
   ]
  },
  {
   "cell_type": "code",
   "execution_count": 34,
   "id": "22113172",
   "metadata": {},
   "outputs": [],
   "source": [
    "# with open(NAMES_CLEAN, 'wb') as pickle_file:\n",
    "#     pickle.dump(clean_names, pickle_file)"
   ]
  },
  {
   "cell_type": "code",
   "execution_count": 51,
   "id": "907cd1f8",
   "metadata": {},
   "outputs": [],
   "source": [
    "# with open(NAMES_CLEAN_NO_COMMON, 'wb') as pickle_file:\n",
    "#     pickle.dump(clean_names_no_common, pickle_file)"
   ]
  },
  {
   "cell_type": "markdown",
   "id": "3201d4eb",
   "metadata": {},
   "source": [
    "# Save dictionaries"
   ]
  },
  {
   "cell_type": "code",
   "execution_count": 78,
   "id": "d46616ae",
   "metadata": {},
   "outputs": [],
   "source": [
    "# with open(ING2CLEAN_DICT, 'wb') as pickle_file:\n",
    "#     pickle.dump(ingredient_2_clean_ingredient_dict, pickle_file)\n",
    "    \n",
    "# with open(ING2CLEAN_NO_COMMON_DICT, 'wb') as pickle_file:\n",
    "#     pickle.dump(ingredient_2_clean_no_common_dict, pickle_file)\n",
    "    \n",
    "# with open(KEY2CLEAN_DICT, 'wb') as pickle_file:\n",
    "#     pickle.dump(keywords_2_cleaned, pickle_file)\n",
    "    \n",
    "# with open(CAT2CLEAN_DICT, 'wb') as pickle_file:\n",
    "#     pickle.dump(category_2_cleaned_dict, pickle_file)\n",
    "    \n",
    "# with open(NAME2CLEAN_DICT, 'wb') as pickle_file:\n",
    "#     pickle.dump(name_2_cleaned, pickle_file)\n",
    "    \n",
    "# with open(NAME2CLEAN_NO_COMMON_DICT, 'wb') as pickle_file:\n",
    "#     pickle.dump(name_2_clean_no_common, pickle_file)"
   ]
  }
 ],
 "metadata": {
  "kernelspec": {
   "display_name": "Python 3 (ipykernel)",
   "language": "python",
   "name": "python3"
  },
  "language_info": {
   "codemirror_mode": {
    "name": "ipython",
    "version": 3
   },
   "file_extension": ".py",
   "mimetype": "text/x-python",
   "name": "python",
   "nbconvert_exporter": "python",
   "pygments_lexer": "ipython3",
   "version": "3.9.7"
  }
 },
 "nbformat": 4,
 "nbformat_minor": 5
}
