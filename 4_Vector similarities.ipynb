{
 "cells": [
  {
   "cell_type": "markdown",
   "id": "7c11d9a7",
   "metadata": {},
   "source": [
    "# Imports"
   ]
  },
  {
   "cell_type": "code",
   "execution_count": 64,
   "id": "de3519e5",
   "metadata": {},
   "outputs": [],
   "source": [
    "import pickle\n",
    "from gensim.models import Word2Vec\n",
    "import gensim\n",
    "from sklearn.feature_extraction.text import CountVectorizer\n",
    "from sklearn.feature_extraction.text import TfidfVectorizer\n",
    "from sklearn.metrics.pairwise import cosine_similarity\n",
    "from collections import defaultdict\n",
    "import numpy as np\n",
    "import pandas as pd\n",
    "from sentence_transformers import util\n",
    "import torch\n",
    "\n",
    "from collections import defaultdict\n",
    "import heapq"
   ]
  },
  {
   "cell_type": "markdown",
   "id": "158d8942",
   "metadata": {},
   "source": [
    "# Constants"
   ]
  },
  {
   "cell_type": "code",
   "execution_count": 134,
   "id": "24359cec",
   "metadata": {},
   "outputs": [],
   "source": [
    "RECIPES_WITH_RATINGS = \"../samples/recipes_with_ratings.obj\"\n",
    "\n",
    "INDEX_TO_RECIPE_OBJ = \"../samples/index_to_recipe_with_ratings.obj\"\n",
    "RECIPE_TO_INDEX_OBJ = \"../samples/recipe_to_index_with_ratings.obj\"\n",
    "\n",
    "WORD2VEC_ING_VECTORS = \"../word_embeddings_files/vectors/word2vec_ingredients_vectors.obj\"\n",
    "WORD2VEC_ING_CAT_VECTORS = \"../word_embeddings_files/vectors/word2vec_ing_cat_vectors.obj\"\n",
    "WORD2VEC_ING_CAT_KEY_VECTORS = \"../word_embeddings_files/vectors/word2vec_ing_cat_key_vectors.obj\"\n",
    "\n",
    "WORD2VEC_ING_CAT_TENSORS = \"../word_embeddings_files/vectors/word2vec_ing_cat_tensors.pt\""
   ]
  },
  {
   "cell_type": "markdown",
   "id": "936d126a",
   "metadata": {},
   "source": [
    "# Load data"
   ]
  },
  {
   "cell_type": "code",
   "execution_count": 135,
   "id": "5d6bb20c",
   "metadata": {},
   "outputs": [],
   "source": [
    "with open(RECIPES_WITH_RATINGS, \"rb\") as input_file:\n",
    "    recipes_with_ratings = pickle.load(input_file)\n",
    "\n",
    "with open(INDEX_TO_RECIPE_OBJ, \"rb\") as input_file:\n",
    "    index_to_recipe = pickle.load(input_file)\n",
    "\n",
    "with open(RECIPE_TO_INDEX_OBJ, \"rb\") as input_file:\n",
    "    recipe_to_index = pickle.load(input_file)"
   ]
  },
  {
   "cell_type": "code",
   "execution_count": 136,
   "id": "b0ef416e",
   "metadata": {},
   "outputs": [],
   "source": [
    "with open(WORD2VEC_ING_CAT_VECTORS, \"rb\") as input_file:\n",
    "    word2vec_ing_cat_vectors = pickle.load(input_file)"
   ]
  },
  {
   "cell_type": "code",
   "execution_count": 68,
   "id": "9f806566",
   "metadata": {},
   "outputs": [],
   "source": [
    "# word2vec_ing_cat_tensors = torch.load(WORD2VEC_ING_CAT_TENSORS, map_location=torch.device('cpu'))"
   ]
  },
  {
   "cell_type": "markdown",
   "id": "d33897a4",
   "metadata": {},
   "source": [
    "# Create tensors"
   ]
  },
  {
   "cell_type": "code",
   "execution_count": 84,
   "id": "214c94bb",
   "metadata": {},
   "outputs": [],
   "source": [
    "word2vec_ing_cat_vectors_sample = {}\n",
    "for key, value in word2vec_ing_cat_vectors.items():\n",
    "    if key in recipe_to_index.keys():\n",
    "        word2vec_ing_cat_vectors_sample[key] = value"
   ]
  },
  {
   "cell_type": "code",
   "execution_count": 139,
   "id": "4827fda9",
   "metadata": {},
   "outputs": [],
   "source": [
    "vectors = list(word2vec_ing_cat_vectors_sample.values())\n",
    "vectors = [np.array(x).ravel() for x in vectors]\n",
    "\n",
    "word2vec_ing_cat_tensors = torch.tensor(vectors, dtype=torch.float)"
   ]
  },
  {
   "cell_type": "code",
   "execution_count": 180,
   "id": "f23cc79b",
   "metadata": {},
   "outputs": [],
   "source": [
    "list_pos_to_recipe_id = {}\n",
    "i = 0\n",
    "for key in word2vec_ing_cat_vectors_sample.keys():\n",
    "    list_pos_to_recipe_id[i] = key\n",
    "    i += 1"
   ]
  },
  {
   "cell_type": "markdown",
   "id": "ddd083b6",
   "metadata": {},
   "source": [
    "## Save"
   ]
  },
  {
   "cell_type": "code",
   "execution_count": 70,
   "id": "e2e4147a",
   "metadata": {},
   "outputs": [],
   "source": [
    "# torch.save(word2vec_ing_cat_tensors, WORD2VEC_ING_CAT_TENSORS)"
   ]
  },
  {
   "cell_type": "markdown",
   "id": "0bf1b4b3",
   "metadata": {},
   "source": [
    "# Cosine similarities"
   ]
  },
  {
   "cell_type": "code",
   "execution_count": 226,
   "id": "a5c125d0",
   "metadata": {},
   "outputs": [],
   "source": [
    "def create_top_k_similar_vectors(tensors, list_pos_to_recipe_id, top_k=25):\n",
    "    top_k=100\n",
    "    top_scores = defaultdict()\n",
    "    for list_pos, key in test.items(): #list_pos_to_recipe_id.items():\n",
    "        if(list_pos % 1000 == 0):\n",
    "            print(\"Iteration: \", list_pos)\n",
    "        cos_scores = util.pytorch_cos_sim(word2vec_ing_cat_tensors[list_pos], \n",
    "                                          word2vec_ing_cat_tensors)\n",
    "        top_scores[key] = torch.topk(cos_scores, k=top_k)\n",
    "        \n",
    "    ingredients_top100 = defaultdict(list)\n",
    "    for list_pos, key in test.items():\n",
    "        if(list_pos % 1000 == 0):\n",
    "            print(\"Iteration: \", list_pos)\n",
    "        ingredients_top100[key] = [(list_pos_to_recipe_id[k[0].item()],k[1].item()) \n",
    "                                     for k \n",
    "                                     in list(tuple(zip(top_scores[key][1][0], top_scores[key][0][0])))]\n",
    "        \n",
    "    return ingredients_top100"
   ]
  },
  {
   "cell_type": "code",
   "execution_count": 224,
   "id": "55091d43",
   "metadata": {},
   "outputs": [
    {
     "name": "stdout",
     "output_type": "stream",
     "text": [
      "Iteration:  0\n"
     ]
    }
   ],
   "source": [
    "top_k=100\n",
    "top_scores = defaultdict()\n",
    "for list_pos, key in test.items(): #list_pos_to_recipe_id.items():\n",
    "    if(list_pos % 1000 == 0):\n",
    "        print(\"Iteration: \", list_pos)\n",
    "    cos_scores = util.pytorch_cos_sim(word2vec_ing_cat_tensors[list_pos], \n",
    "                                      word2vec_ing_cat_tensors)\n",
    "    top_scores[key] = torch.topk(cos_scores, k=top_k)"
   ]
  },
  {
   "cell_type": "code",
   "execution_count": 225,
   "id": "25885335",
   "metadata": {},
   "outputs": [
    {
     "name": "stdout",
     "output_type": "stream",
     "text": [
      "Iteration:  0\n"
     ]
    }
   ],
   "source": [
    "ingredients_top100 = defaultdict(list)\n",
    "for list_pos, key in test.items():\n",
    "    if(list_pos % 1000 == 0):\n",
    "        print(\"Iteration: \", list_pos)\n",
    "    ingredients_top100[key] = [(list_pos_to_recipe_id[k[0].item()],k[1].item()) \n",
    "                                 for k \n",
    "                                 in list(tuple(zip(top_scores[key][1][0], top_scores[key][0][0])))]"
   ]
  },
  {
   "cell_type": "code",
   "execution_count": 227,
   "id": "93b194a0",
   "metadata": {},
   "outputs": [
    {
     "name": "stdout",
     "output_type": "stream",
     "text": [
      "Iteration:  0\n",
      "Iteration:  0\n"
     ]
    },
    {
     "ename": "KeyError",
     "evalue": "214534",
     "output_type": "error",
     "traceback": [
      "\u001b[1;31m---------------------------------------------------------------------------\u001b[0m",
      "\u001b[1;31mKeyError\u001b[0m                                  Traceback (most recent call last)",
      "\u001b[1;32mC:\\Users\\UYTKOW~1\\AppData\\Local\\Temp/ipykernel_13476/4083691464.py\u001b[0m in \u001b[0;36m<module>\u001b[1;34m\u001b[0m\n\u001b[1;32m----> 1\u001b[1;33m \u001b[0mcreate_top_k_similar_vectors\u001b[0m\u001b[1;33m(\u001b[0m\u001b[0mword2vec_ing_cat_tensors\u001b[0m\u001b[1;33m,\u001b[0m \u001b[0mtest\u001b[0m\u001b[1;33m,\u001b[0m \u001b[1;36m25\u001b[0m\u001b[1;33m)\u001b[0m\u001b[1;33m\u001b[0m\u001b[1;33m\u001b[0m\u001b[0m\n\u001b[0m",
      "\u001b[1;32mC:\\Users\\UYTKOW~1\\AppData\\Local\\Temp/ipykernel_13476/1791715695.py\u001b[0m in \u001b[0;36mcreate_top_k_similar_vectors\u001b[1;34m(tensors, list_pos_to_recipe_id, top_k)\u001b[0m\n\u001b[0;32m     13\u001b[0m         \u001b[1;32mif\u001b[0m\u001b[1;33m(\u001b[0m\u001b[0mlist_pos\u001b[0m \u001b[1;33m%\u001b[0m \u001b[1;36m1000\u001b[0m \u001b[1;33m==\u001b[0m \u001b[1;36m0\u001b[0m\u001b[1;33m)\u001b[0m\u001b[1;33m:\u001b[0m\u001b[1;33m\u001b[0m\u001b[1;33m\u001b[0m\u001b[0m\n\u001b[0;32m     14\u001b[0m             \u001b[0mprint\u001b[0m\u001b[1;33m(\u001b[0m\u001b[1;34m\"Iteration: \"\u001b[0m\u001b[1;33m,\u001b[0m \u001b[0mlist_pos\u001b[0m\u001b[1;33m)\u001b[0m\u001b[1;33m\u001b[0m\u001b[1;33m\u001b[0m\u001b[0m\n\u001b[1;32m---> 15\u001b[1;33m         ingredients_top100[key] = [(list_pos_to_recipe_id[k[0].item()],k[1].item()) \n\u001b[0m\u001b[0;32m     16\u001b[0m                                      \u001b[1;32mfor\u001b[0m \u001b[0mk\u001b[0m\u001b[1;33m\u001b[0m\u001b[1;33m\u001b[0m\u001b[0m\n\u001b[0;32m     17\u001b[0m                                      in list(tuple(zip(top_scores[key][1][0], top_scores[key][0][0])))]\n",
      "\u001b[1;32mC:\\Users\\UYTKOW~1\\AppData\\Local\\Temp/ipykernel_13476/1791715695.py\u001b[0m in \u001b[0;36m<listcomp>\u001b[1;34m(.0)\u001b[0m\n\u001b[0;32m     13\u001b[0m         \u001b[1;32mif\u001b[0m\u001b[1;33m(\u001b[0m\u001b[0mlist_pos\u001b[0m \u001b[1;33m%\u001b[0m \u001b[1;36m1000\u001b[0m \u001b[1;33m==\u001b[0m \u001b[1;36m0\u001b[0m\u001b[1;33m)\u001b[0m\u001b[1;33m:\u001b[0m\u001b[1;33m\u001b[0m\u001b[1;33m\u001b[0m\u001b[0m\n\u001b[0;32m     14\u001b[0m             \u001b[0mprint\u001b[0m\u001b[1;33m(\u001b[0m\u001b[1;34m\"Iteration: \"\u001b[0m\u001b[1;33m,\u001b[0m \u001b[0mlist_pos\u001b[0m\u001b[1;33m)\u001b[0m\u001b[1;33m\u001b[0m\u001b[1;33m\u001b[0m\u001b[0m\n\u001b[1;32m---> 15\u001b[1;33m         ingredients_top100[key] = [(list_pos_to_recipe_id[k[0].item()],k[1].item()) \n\u001b[0m\u001b[0;32m     16\u001b[0m                                      \u001b[1;32mfor\u001b[0m \u001b[0mk\u001b[0m\u001b[1;33m\u001b[0m\u001b[1;33m\u001b[0m\u001b[0m\n\u001b[0;32m     17\u001b[0m                                      in list(tuple(zip(top_scores[key][1][0], top_scores[key][0][0])))]\n",
      "\u001b[1;31mKeyError\u001b[0m: 214534"
     ]
    }
   ],
   "source": [
    "create_top_k_similar_vectors(word2vec_ing_cat_tensors, test, 25)"
   ]
  },
  {
   "cell_type": "code",
   "execution_count": 222,
   "id": "4c621693",
   "metadata": {},
   "outputs": [
    {
     "data": {
      "text/plain": [
       "353794"
      ]
     },
     "execution_count": 222,
     "metadata": {},
     "output_type": "execute_result"
    }
   ],
   "source": [
    "list_pos_to_recipe_id[214534]"
   ]
  },
  {
   "cell_type": "code",
   "execution_count": null,
   "id": "f0b77be3",
   "metadata": {},
   "outputs": [],
   "source": []
  }
 ],
 "metadata": {
  "kernelspec": {
   "display_name": "Python 3 (ipykernel)",
   "language": "python",
   "name": "python3"
  },
  "language_info": {
   "codemirror_mode": {
    "name": "ipython",
    "version": 3
   },
   "file_extension": ".py",
   "mimetype": "text/x-python",
   "name": "python",
   "nbconvert_exporter": "python",
   "pygments_lexer": "ipython3",
   "version": "3.9.7"
  }
 },
 "nbformat": 4,
 "nbformat_minor": 5
}
