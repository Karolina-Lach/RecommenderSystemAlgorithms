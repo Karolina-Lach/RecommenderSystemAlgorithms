{
 "cells": [
  {
   "cell_type": "markdown",
   "metadata": {
    "id": "8nCqQOcJYHIz"
   },
   "source": [
    "# Imports"
   ]
  },
  {
   "cell_type": "code",
   "execution_count": 12,
   "metadata": {
    "colab": {
     "base_uri": "https://localhost:8080/"
    },
    "executionInfo": {
     "elapsed": 41892,
     "status": "ok",
     "timestamp": 1651512854417,
     "user": {
      "displayName": "Karolina Lach",
      "userId": "00111092321882151185"
     },
     "user_tz": -120
    },
    "id": "wWi6_thiYOQN",
    "outputId": "c31e94fd-eb43-46a1-9ff5-fdea5ee98d82"
   },
   "outputs": [],
   "source": [
    "# !pip install surprise"
   ]
  },
  {
   "cell_type": "code",
   "execution_count": 1,
   "metadata": {
    "executionInfo": {
     "elapsed": 271,
     "status": "ok",
     "timestamp": 1651517131916,
     "user": {
      "displayName": "Karolina Lach",
      "userId": "00111092321882151185"
     },
     "user_tz": -120
    },
    "id": "ct6skNXHXyKf"
   },
   "outputs": [],
   "source": [
    "import pandas as pd\n",
    "import pickle\n",
    "from collections import defaultdict\n",
    "\n",
    "from surprise import NormalPredictor\n",
    "from surprise import SVD\n",
    "from surprise import Dataset\n",
    "from surprise import Reader\n",
    "from surprise import accuracy\n",
    "from surprise import AlgoBase\n",
    "from surprise.model_selection import train_test_split as train_test_split_sup\n",
    "\n",
    "import metrics\n",
    "import sampling\n",
    "\n",
    "import numpy as np\n",
    "\n",
    "from sklearn.model_selection import train_test_split as train_test_split\n",
    "from surprise.model_selection import LeaveOneOut\n",
    "import random\n",
    "\n",
    "from create_similarity_vectors import create_top_k_similar_vectors\n",
    "from sentence_transformers import util\n",
    "import torch\n",
    "from surprise.prediction_algorithms.predictions import PredictionImpossible\n",
    "import heapq\n",
    "\n",
    "from metrics import recommender_map\n",
    "\n",
    "from sampling import create_train_test_dataframe\n",
    "from sampling import train_test_surprise_format\n",
    "from top_n_evaluation import create_anti_testset_for_user_all\n",
    "from top_n_evaluation import create_anti_testset_for_user\n",
    "from top_n_evaluation import create_recommendation_top_n_evaluation"
   ]
  },
  {
   "cell_type": "code",
   "execution_count": 2,
   "metadata": {
    "colab": {
     "base_uri": "https://localhost:8080/"
    },
    "executionInfo": {
     "elapsed": 21087,
     "status": "ok",
     "timestamp": 1651512876347,
     "user": {
      "displayName": "Karolina Lach",
      "userId": "00111092321882151185"
     },
     "user_tz": -120
    },
    "id": "sLUVCmV9aGbx",
    "outputId": "df6dd4c7-ce1d-43c3-b2e9-8d2bbee4db5a"
   },
   "outputs": [],
   "source": [
    "# from google.colab import drive\n",
    "# drive.mount('/content/drive')"
   ]
  },
  {
   "cell_type": "markdown",
   "metadata": {
    "id": "rvN86mRhZ9uQ"
   },
   "source": [
    "# Constants"
   ]
  },
  {
   "cell_type": "code",
   "execution_count": 3,
   "metadata": {
    "executionInfo": {
     "elapsed": 10,
     "status": "ok",
     "timestamp": 1651512876348,
     "user": {
      "displayName": "Karolina Lach",
      "userId": "00111092321882151185"
     },
     "user_tz": -120
    },
    "id": "ElRqBwD8ZSN0"
   },
   "outputs": [],
   "source": [
    "# RATINGS_BASE = './drive/MyDrive/Colab Notebooks/Recipes_new/Data/base/ratings_base.parquet'\n",
    "RATINGS_BASE = '../Data/base/ratings_base.parquet'"
   ]
  },
  {
   "cell_type": "markdown",
   "metadata": {
    "id": "PbqPdkkkaWLg"
   },
   "source": [
    "# Load data"
   ]
  },
  {
   "cell_type": "code",
   "execution_count": 4,
   "metadata": {
    "executionInfo": {
     "elapsed": 3210,
     "status": "ok",
     "timestamp": 1651512879550,
     "user": {
      "displayName": "Karolina Lach",
      "userId": "00111092321882151185"
     },
     "user_tz": -120
    },
    "id": "wBlSaVHAaVvy"
   },
   "outputs": [],
   "source": [
    "ratings_base = pd.read_parquet(RATINGS_BASE)"
   ]
  },
  {
   "cell_type": "code",
   "execution_count": 5,
   "metadata": {
    "executionInfo": {
     "elapsed": 11335,
     "status": "ok",
     "timestamp": 1651512890865,
     "user": {
      "displayName": "Karolina Lach",
      "userId": "00111092321882151185"
     },
     "user_tz": -120
    },
    "id": "59q6aJ9MaUlK"
   },
   "outputs": [],
   "source": [
    "ratings_sample = sampling.get_ratings_with_min_number_list(ratings_base, [20, 10])"
   ]
  },
  {
   "cell_type": "markdown",
   "metadata": {
    "id": "9NyFWJo3dCKp"
   },
   "source": [
    "## Create dataset"
   ]
  },
  {
   "cell_type": "code",
   "execution_count": 18,
   "metadata": {
    "executionInfo": {
     "elapsed": 383,
     "status": "ok",
     "timestamp": 1651488472205,
     "user": {
      "displayName": "Karolina Lach",
      "userId": "00111092321882151185"
     },
     "user_tz": -120
    },
    "id": "jaMhDZ8wdB85"
   },
   "outputs": [],
   "source": [
    "user_item_ratings_dataset = Dataset.load_from_df(ratings_sample[[\"AuthorId\", \"RecipeId\", \"Rating\"]], Reader(rating_scale=(0, 5)))"
   ]
  },
  {
   "cell_type": "code",
   "execution_count": 19,
   "metadata": {
    "executionInfo": {
     "elapsed": 1830,
     "status": "ok",
     "timestamp": 1651488474033,
     "user": {
      "displayName": "Karolina Lach",
      "userId": "00111092321882151185"
     },
     "user_tz": -120
    },
    "id": "qR-IVsiNc-KF"
   },
   "outputs": [],
   "source": [
    "train_df, test_df = create_train_test_dataframe(ratings_sample, 0.2, 13)\n",
    "trainset, testset = train_test_surprise_format(train_df, test_df)"
   ]
  },
  {
   "cell_type": "code",
   "execution_count": 9,
   "metadata": {},
   "outputs": [
    {
     "data": {
      "text/plain": [
       "<surprise.prediction_algorithms.random_pred.NormalPredictor at 0x1d7a2794700>"
      ]
     },
     "execution_count": 9,
     "metadata": {},
     "output_type": "execute_result"
    }
   ],
   "source": [
    "with open(\"../Data/NP/model.obj\", 'rb') as pickle_file:\n",
    "     algo = pickle.load(pickle_file)"
   ]
  },
  {
   "cell_type": "code",
   "execution_count": 10,
   "metadata": {},
   "outputs": [
    {
     "name": "stdout",
     "output_type": "stream",
     "text": [
      "RMSE: 1.1114\n",
      "MAE:  0.7161\n"
     ]
    },
    {
     "data": {
      "text/plain": [
       "0.716093591032219"
      ]
     },
     "execution_count": 10,
     "metadata": {},
     "output_type": "execute_result"
    }
   ],
   "source": [
    "predictions = algo.test(testset)\n",
    "accuracy.rmse(predictions)\n",
    "accuracy.mae(predictions)"
   ]
  },
  {
   "cell_type": "code",
   "execution_count": 1,
   "metadata": {
    "executionInfo": {
     "elapsed": 2557574,
     "status": "ok",
     "timestamp": 1651491034057,
     "user": {
      "displayName": "Karolina Lach",
      "userId": "00111092321882151185"
     },
     "user_tz": -120
    },
    "id": "L98jMPNqU2LQ"
   },
   "outputs": [],
   "source": [
    "recommendations_sample, relevant_items_sample = create_recommendation_top_n_evaluation(train_df, \n",
    "                                           ratings_sample, \n",
    "                                           algorithm=algo, \n",
    "                                           word2vec_vectors=None,\n",
    "                                           sample_size=20000, \n",
    "                                           user_sample_size=0,\n",
    "                                           k=100,\n",
    "                                           knn=False,\n",
    "                                           verbose=True)"
   ]
  },
  {
   "cell_type": "markdown",
   "metadata": {},
   "source": [
    "# MAP"
   ]
  },
  {
   "cell_type": "code",
   "execution_count": 43,
   "metadata": {},
   "outputs": [],
   "source": [
    "def average_precision_at_k(recommendations_per_user: list, relevant_items_per_user: list, k=10):\n",
    "    '''\n",
    "    Calculates avarage precision@k for one user\n",
    "    Parameters:\n",
    "    recommendations_per_user (list) - list of predictions for one user\n",
    "    relevant_items_per_user - list of items from user's history\n",
    "\n",
    "    Result\n",
    "    apk - average precision at k for user\n",
    "    '''\n",
    "    if len(relevant_items_per_user) == 0:\n",
    "        return 0.0\n",
    "    \n",
    "    if len(recommendations_per_user) > k:\n",
    "            recommendations_per_user = recommendations_per_user[:k]\n",
    "    hits = 0.0\n",
    "    precision_sum = 0.0\n",
    "    for i, item in enumerate(recommendations_per_user):\n",
    "        if item in relevant_items_per_user:\n",
    "            hits += 1.0\n",
    "            precision_sum += hits / (i + 1.0)\n",
    "    \n",
    "#     apk = precision_sum / min(len(relevant_items_per_user), k)\n",
    "#     apk = precision_sum / len(relevant_items_per_user)\n",
    "    apk = precision_sum / k\n",
    "    \n",
    "    return apk\n",
    "\n",
    "\n",
    "def recommender_map(recommendations: dict, relevant_items: dict, k: int):\n",
    "    '''\n",
    "    Calculates mean average precision for recommender system at k\n",
    "    \n",
    "    Parameters:\n",
    "    recommendations (dict) - dictionary of recommendations for all users\n",
    "    relevant_items (dict) - dictionary of relevant items for all users\n",
    "    k - length of top k list\n",
    "    Result:\n",
    "    MAP@k\n",
    "    '''\n",
    "    apks = []\n",
    "    for uid in recommendations.keys():\n",
    "        apks.append(average_precision_at_k(recommendations[uid], relevant_items[uid], k=k))\n",
    "    return np.mean(apks)"
   ]
  },
  {
   "cell_type": "code",
   "execution_count": 44,
   "metadata": {},
   "outputs": [],
   "source": [
    "map_list = []\n",
    "k_list = [1] + list(range(5, 105, 2))\n",
    "for k in k_list:\n",
    "    map_k_knn = metrics.recommender_map(recommendations=recommendations_normal_sample, \n",
    "                                relevant_items=relevant_items_normal_sample,\n",
    "                                k=k)\n",
    "    map_list.append(map_k_knn)"
   ]
  },
  {
   "cell_type": "code",
   "execution_count": 45,
   "metadata": {},
   "outputs": [
    {
     "data": {
      "text/plain": [
       "0.013253224951404841"
      ]
     },
     "execution_count": 45,
     "metadata": {},
     "output_type": "execute_result"
    }
   ],
   "source": [
    "map_list[0]"
   ]
  },
  {
   "cell_type": "code",
   "execution_count": 46,
   "metadata": {},
   "outputs": [],
   "source": [
    "with open(\"G:/Recipes/Wykresy_samples/1000/map_k_np.obj\", \"wb\") as pickle_file:\n",
    "    pickle.dump(map_list, pickle_file)\n",
    "    \n",
    "# with open(\"G:/Recipes/tests_samples/20_10/knn/sample/k_1_100_list.obj\", \"wb\") as pickle_file:\n",
    "#     pickle.dump(k_list, pickle_file)"
   ]
  },
  {
   "cell_type": "markdown",
   "metadata": {},
   "source": [
    "# Hit rate"
   ]
  },
  {
   "cell_type": "code",
   "execution_count": 17,
   "metadata": {},
   "outputs": [],
   "source": [
    "hr_list = []\n",
    "k_list = [1] + list(range(5, 105, 2))\n",
    "for k in k_list:\n",
    "    hr_k = metrics.hit_rate(recommendations=recommendations_normal_sample, \n",
    "                                relevant_items=relevant_items_normal_sample,\n",
    "                                k=k)\n",
    "    hr_list.append(hr_k)"
   ]
  },
  {
   "cell_type": "code",
   "execution_count": 19,
   "metadata": {},
   "outputs": [],
   "source": [
    "with open(\"G:/Recipes/Wykresy_samples/20000/hr_np.obj\", \"wb\") as pickle_file:\n",
    "    pickle.dump(hr_list, pickle_file)"
   ]
  },
  {
   "cell_type": "markdown",
   "metadata": {},
   "source": [
    "## Item coverage"
   ]
  },
  {
   "cell_type": "code",
   "execution_count": 21,
   "metadata": {},
   "outputs": [],
   "source": [
    "item_cov_k = []\n",
    "k_list = [1] + list(range(5, 105, 2))\n",
    "\n",
    "for k in k_list:\n",
    "    item_cov_temp = {}\n",
    "    for key in recommendations_normal_sample.keys():\n",
    "        item_cov_temp[key] = recommendations_normal_sample[key][:k]\n",
    "        \n",
    "    cov = metrics.item_coverage(item_cov_temp, ratings_sample.RecipeId.nunique(), min_rating=0)\n",
    "    item_cov_k.append(cov)"
   ]
  },
  {
   "cell_type": "code",
   "execution_count": 22,
   "metadata": {},
   "outputs": [],
   "source": [
    "with open(\"G:/Recipes/Wykresy_samples/20000/item_cov_np.obj\", \"wb\") as pickle_file:\n",
    "    pickle.dump(item_cov_k, pickle_file)"
   ]
  },
  {
   "cell_type": "markdown",
   "metadata": {},
   "source": [
    "### Novelty"
   ]
  },
  {
   "cell_type": "code",
   "execution_count": 24,
   "metadata": {
    "executionInfo": {
     "elapsed": 16,
     "status": "ok",
     "timestamp": 1651491041555,
     "user": {
      "displayName": "Karolina Lach",
      "userId": "00111092321882151185"
     },
     "user_tz": -120
    },
    "id": "CAwUXv6yXRSF"
   },
   "outputs": [],
   "source": [
    "number_of_ratings_per_recipe = ratings_sample.groupby([\"RecipeId\"]).size()\n",
    "popularity_ranking = metrics.get_popularity_ranks(number_of_ratings_per_recipe)"
   ]
  },
  {
   "cell_type": "code",
   "execution_count": 24,
   "metadata": {},
   "outputs": [],
   "source": [
    "novelty_k = []\n",
    "k_list = [1] + list(range(5, 105, 2))\n",
    "\n",
    "for k in k_list:\n",
    "    novelty_temp = {}\n",
    "    for key in recommendations_normal_sample.keys():\n",
    "        novelty_temp[key] = recommendations_normal_sample[key][:k]\n",
    "        \n",
    "    nov = metrics.novelty(novelty_temp, ratings_per_recipe)\n",
    "    novelty_k.append(nov)"
   ]
  },
  {
   "cell_type": "code",
   "execution_count": 25,
   "metadata": {},
   "outputs": [],
   "source": [
    "with open(\"G:/Recipes/Wykresy_samples/500/novelty_np_new.obj\", \"wb\") as pickle_file:\n",
    "    pickle.dump(novelty_k, pickle_file)"
   ]
  },
  {
   "cell_type": "markdown",
   "metadata": {},
   "source": [
    "## Diversity"
   ]
  },
  {
   "cell_type": "code",
   "execution_count": 28,
   "metadata": {},
   "outputs": [],
   "source": [
    "with open('G:/Recipes/Matrix/ING_CAT_50_SEPERATE/matrix.obj', 'rb') as pickle_file:\n",
    "    matrix_names = pickle.load(pickle_file)\n",
    "    \n",
    "with open('G:/Recipes/Matrix/ING_CAT_50_SEPERATE/recipe_id_to_pos.obj', 'rb') as pickle_file:\n",
    "    recipe_id_to_pos = pickle.load(pickle_file)\n",
    "\n",
    "with open('G:/Recipes/Matrix/ING_CAT_50_SEPERATE/pos_to_recipe_id.obj', 'rb') as pickle_file:\n",
    "    pos_to_recipe_id = pickle.load(pickle_file)\n",
    "    "
   ]
  },
  {
   "cell_type": "code",
   "execution_count": 2,
   "metadata": {},
   "outputs": [],
   "source": [
    "import itertools\n",
    "from sentence_transformers import util\n",
    "\n",
    "div_ing_k = []\n",
    "k_list = [1] + list(range(5, 105, 2))\n",
    "\n",
    "for k in k_list:\n",
    "    if k % 3==0:\n",
    "        print(k)\n",
    "    div_temp = {}\n",
    "    for key in recommendations_normal_sample.keys():\n",
    "        div_temp[key] = recommendations_normal_sample[key][:k]\n",
    "        \n",
    "    div = metrics.diversity(div_temp, matrix_names, recipe_id_to_pos)\n",
    "    div_ing_k.append(div)"
   ]
  },
  {
   "cell_type": "code",
   "execution_count": 30,
   "metadata": {},
   "outputs": [],
   "source": [
    "with open(\"G:/Recipes/Wykresy_samples/20000/diversity_np.obj\", \"wb\") as pickle_file:\n",
    "    pickle.dump(div_ing_k, pickle_file)"
   ]
  },
  {
   "cell_type": "markdown",
   "metadata": {
    "executionInfo": {
     "elapsed": 13,
     "status": "ok",
     "timestamp": 1651491041909,
     "user": {
      "displayName": "Karolina Lach",
      "userId": "00111092321882151185"
     },
     "user_tz": -120
    },
    "id": "p_EOvyuLTNYL"
   },
   "source": [
    "# Most popular"
   ]
  },
  {
   "cell_type": "code",
   "execution_count": 47,
   "metadata": {},
   "outputs": [],
   "source": [
    "most_popular_users = sampling.create_sample_n_popular_users(ratings_sample, n=2500)"
   ]
  },
  {
   "cell_type": "code",
   "execution_count": 48,
   "metadata": {},
   "outputs": [],
   "source": [
    "least_popular_users = ratings_sample[~ratings_sample.AuthorId.isin(most_popular_users.AuthorId.unique())]"
   ]
  },
  {
   "cell_type": "code",
   "execution_count": 49,
   "metadata": {},
   "outputs": [],
   "source": [
    "recommendations_knn_most_popular = {}\n",
    "for key, value in recommendations_normal_sample.items():\n",
    "    if key in most_popular_users.AuthorId.unique():\n",
    "        recommendations_knn_most_popular[key] = value\n",
    "        \n",
    "recommendations_knn_least_popular = {}\n",
    "for key, value in recommendations_normal_sample.items():\n",
    "    if key in least_popular_users.AuthorId.unique():\n",
    "        recommendations_knn_least_popular[key] = value"
   ]
  },
  {
   "cell_type": "markdown",
   "metadata": {},
   "source": [
    "## MAP"
   ]
  },
  {
   "cell_type": "code",
   "execution_count": 50,
   "metadata": {},
   "outputs": [],
   "source": [
    "map_knn_most_popular_list = []\n",
    "k_list = [1] + list(range(5, 105, 2))\n",
    "for k in k_list:\n",
    "    map_k = recommender_map(recommendations=recommendations_knn_most_popular, \n",
    "                                relevant_items=relevant_items_normal_sample,\n",
    "                                k=k)\n",
    "    map_knn_most_popular_list.append(map_k)\n",
    "    \n",
    "map_knn_least_popular_list = []\n",
    "k_list = [1] + list(range(5, 105, 2))\n",
    "for k in k_list:\n",
    "    map_k = recommender_map(recommendations=recommendations_knn_least_popular, \n",
    "                                relevant_items=relevant_items_normal_sample,\n",
    "                                k=k)\n",
    "    map_knn_least_popular_list.append(map_k)"
   ]
  },
  {
   "cell_type": "code",
   "execution_count": 51,
   "metadata": {},
   "outputs": [],
   "source": [
    "with open(\"G:/Recipes/Wykresy_samples/1000/map_k_most_popular_list.obj\", \"wb\") as pickle_file:\n",
    "    pickle.dump(map_knn_most_popular_list, pickle_file)\n",
    "    \n",
    "with open(\"G:/Recipes/Wykresy_samples/1000/map_k_least_popular.obj\", \"wb\") as pickle_file:\n",
    "    pickle.dump(map_knn_least_popular_list, pickle_file)\n",
    "    "
   ]
  },
  {
   "cell_type": "markdown",
   "metadata": {},
   "source": [
    "## HR"
   ]
  },
  {
   "cell_type": "markdown",
   "metadata": {},
   "source": [
    "#### KNN"
   ]
  },
  {
   "cell_type": "code",
   "execution_count": 40,
   "metadata": {},
   "outputs": [],
   "source": [
    "hr_knn_most_popular_list = []\n",
    "k_list = [1] + list(range(5, 105, 2))\n",
    "for k in k_list:\n",
    "    hr_k = hit_rate(recommendations=recommendations_normal_sample,\n",
    "                                relevant_items=relevant_items_normal_sample,\n",
    "                                k=k)\n",
    "    hr_knn_most_popular_list.append(hr_k)"
   ]
  },
  {
   "cell_type": "code",
   "execution_count": 41,
   "metadata": {},
   "outputs": [],
   "source": [
    "hr_knn_least_popular_list = []\n",
    "k_list = [1] + list(range(5, 105, 2))\n",
    "for k in k_list:\n",
    "    hr_k = hit_rate(recommendations=recommendations_normal_sample,\n",
    "                                relevant_items=relevant_items_normal_sample,\n",
    "                                k=k)\n",
    "    hr_knn_least_popular_list.append(hr_k)"
   ]
  },
  {
   "cell_type": "code",
   "execution_count": 42,
   "metadata": {},
   "outputs": [],
   "source": [
    "with open(\"G:/Recipes/Wykresy_samples/20000/hr_most_popular_list.obj\", \"wb\") as pickle_file:\n",
    "    pickle.dump(hr_knn_most_popular_list, pickle_file)\n",
    "    \n",
    "with open(\"G:/Recipes/Wykresy_samples/20000/hr_least_popular.obj\", \"wb\") as pickle_file:\n",
    "    pickle.dump(hr_knn_least_popular_list, pickle_file)\n",
    "    "
   ]
  }
 ],
 "metadata": {
  "colab": {
   "authorship_tag": "ABX9TyP/YxoIvwWGTdBR3zs/7EUz",
   "collapsed_sections": [],
   "name": "Evaluation normal recommender.ipynb",
   "provenance": []
  },
  "kernelspec": {
   "display_name": "Python 3 (ipykernel)",
   "language": "python",
   "name": "python3"
  },
  "language_info": {
   "codemirror_mode": {
    "name": "ipython",
    "version": 3
   },
   "file_extension": ".py",
   "mimetype": "text/x-python",
   "name": "python",
   "nbconvert_exporter": "python",
   "pygments_lexer": "ipython3",
   "version": "3.9.7"
  }
 },
 "nbformat": 4,
 "nbformat_minor": 1
}
