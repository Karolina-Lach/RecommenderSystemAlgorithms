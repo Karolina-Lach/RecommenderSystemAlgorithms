{
 "cells": [
  {
   "cell_type": "markdown",
   "id": "7c11d9a7",
   "metadata": {},
   "source": [
    "# Imports"
   ]
  },
  {
   "cell_type": "code",
   "execution_count": 1,
   "id": "de3519e5",
   "metadata": {},
   "outputs": [],
   "source": [
    "import pickle\n",
    "from gensim.models import Word2Vec\n",
    "import gensim\n",
    "from sklearn.feature_extraction.text import CountVectorizer\n",
    "from sklearn.feature_extraction.text import TfidfVectorizer\n",
    "from sklearn.metrics.pairwise import cosine_similarity\n",
    "from collections import defaultdict\n",
    "import numpy as np\n",
    "import pandas as pd\n",
    "from sentence_transformers import util\n",
    "import torch\n",
    "\n",
    "import create_similarity_vectors\n",
    "import sampling\n",
    "\n",
    "from collections import defaultdict\n",
    "import heapq\n",
    "import sampling"
   ]
  },
  {
   "cell_type": "markdown",
   "id": "158d8942",
   "metadata": {},
   "source": [
    "# Constants"
   ]
  },
  {
   "cell_type": "code",
   "execution_count": 2,
   "id": "24359cec",
   "metadata": {},
   "outputs": [],
   "source": [
    "RATINGS_BASE = \"../Data/base/ratings_base.parquet\"\n",
    "WORD2VEC_ING_CAT_VECTORS = \"../Data/word_embeddings_files/vectors/word2vec_ing_cat_vectors.obj\""
   ]
  },
  {
   "cell_type": "markdown",
   "id": "936d126a",
   "metadata": {},
   "source": [
    "# Load data"
   ]
  },
  {
   "cell_type": "code",
   "execution_count": 3,
   "id": "5d6bb20c",
   "metadata": {},
   "outputs": [],
   "source": [
    "ratings = pd.read_parquet(RATINGS_BASE)\n",
    "ratings_sample = sampling.get_ratings_with_min_number_list(ratings, [20,10])"
   ]
  },
  {
   "cell_type": "code",
   "execution_count": 8,
   "id": "b0ef416e",
   "metadata": {},
   "outputs": [],
   "source": [
    "with open(WORD2VEC_ING_CAT_VECTORS, \"rb\") as input_file:\n",
    "    word2vec_ing_cat_vectors = pickle.load(input_file)"
   ]
  },
  {
   "cell_type": "markdown",
   "id": "af849958",
   "metadata": {},
   "source": [
    "# Compute cosine similarities"
   ]
  },
  {
   "cell_type": "markdown",
   "id": "1aa0ad8d",
   "metadata": {},
   "source": [
    "## 38 - 83566"
   ]
  },
  {
   "cell_type": "code",
   "execution_count": 20,
   "id": "0dfb6d76",
   "metadata": {},
   "outputs": [],
   "source": [
    "items_to_check = list(word2vec_ing_cat_vectors_sample.keys())[:60000]"
   ]
  },
  {
   "cell_type": "code",
   "execution_count": 21,
   "id": "bb84e0ee",
   "metadata": {
    "scrolled": true
   },
   "outputs": [
    {
     "name": "stdout",
     "output_type": "stream",
     "text": [
      "Iteration:  0\n",
      "Iteration:  1000\n",
      "Iteration:  2000\n",
      "Iteration:  3000\n",
      "Iteration:  4000\n",
      "Iteration:  5000\n",
      "Iteration:  6000\n",
      "Iteration:  7000\n",
      "Iteration:  8000\n",
      "Iteration:  9000\n",
      "Iteration:  10000\n",
      "Iteration:  11000\n",
      "Iteration:  12000\n",
      "Iteration:  13000\n",
      "Iteration:  14000\n",
      "Iteration:  15000\n",
      "Iteration:  16000\n",
      "Iteration:  17000\n",
      "Iteration:  18000\n",
      "Iteration:  19000\n",
      "Iteration:  20000\n",
      "Iteration:  21000\n",
      "Iteration:  22000\n",
      "Iteration:  23000\n",
      "Iteration:  24000\n",
      "Iteration:  25000\n",
      "Iteration:  26000\n",
      "Iteration:  27000\n",
      "Iteration:  28000\n",
      "Iteration:  29000\n",
      "Iteration:  30000\n",
      "Iteration:  31000\n",
      "Iteration:  32000\n",
      "Iteration:  33000\n",
      "Iteration:  34000\n",
      "Iteration:  35000\n",
      "Iteration:  36000\n",
      "Iteration:  37000\n",
      "Iteration:  38000\n",
      "Iteration:  39000\n",
      "Iteration:  40000\n",
      "Iteration:  41000\n",
      "Iteration:  42000\n",
      "Iteration:  43000\n",
      "Iteration:  44000\n",
      "Iteration:  45000\n",
      "Iteration:  46000\n",
      "Iteration:  47000\n",
      "Iteration:  48000\n",
      "Iteration:  49000\n",
      "Iteration:  50000\n",
      "Iteration:  51000\n",
      "Iteration:  52000\n",
      "Iteration:  53000\n",
      "Iteration:  54000\n",
      "Iteration:  55000\n",
      "Iteration:  56000\n",
      "Iteration:  57000\n",
      "Iteration:  58000\n",
      "Iteration:  59000\n",
      "Wall time: 3h 9min 36s\n"
     ]
    }
   ],
   "source": [
    "%%time\n",
    "top_1000_similar_recipes_38_83566 = create_top_k_similar_vectors(word2vec_ing_cat_vectors_sample, \n",
    "                                                        items_to_check, \n",
    "                                                        top_k=1000,\n",
    "                                                        verbose=True)\n"
   ]
  },
  {
   "cell_type": "code",
   "execution_count": 28,
   "id": "6fc3fed5",
   "metadata": {},
   "outputs": [],
   "source": [
    "# with open('../word_embeddings_files/topk_sim/top1000_similar_recipes_38_83566.obj', 'wb') as pickle_file:\n",
    "#     pickle.dump(top_1000_similar_recipes, pickle_file)"
   ]
  },
  {
   "cell_type": "code",
   "execution_count": 3,
   "id": "b65ecfe9",
   "metadata": {},
   "outputs": [],
   "source": [
    "# with open('../word_embeddings_files/topk_sim/top1000_similar_recipes_83567_175776.obj', 'rb') as pickle_file:\n",
    "#     top_1000_similar_recipes_83567_175776 = pickle.load(pickle_file)"
   ]
  },
  {
   "cell_type": "markdown",
   "id": "9872b533",
   "metadata": {},
   "source": [
    "# Calculate similarities matrix"
   ]
  },
  {
   "cell_type": "code",
   "execution_count": 49,
   "id": "d3b6c343",
   "metadata": {},
   "outputs": [],
   "source": [
    "pos_to_recipe_id, recipe_id_to_pos, similarities = create_similarity_matrix(word2vec_ing_cat_vectors_sample, verbose=False)"
   ]
  },
  {
   "cell_type": "markdown",
   "id": "164c4c1e",
   "metadata": {},
   "source": [
    "## Save"
   ]
  },
  {
   "cell_type": "code",
   "execution_count": 77,
   "id": "bba51197",
   "metadata": {},
   "outputs": [],
   "source": [
    "# with open(TOP_ING_CAT, 'wb') as pickle_file:\n",
    "#      pickle.dump(top25_ing_cat, pickle_file)"
   ]
  }
 ],
 "metadata": {
  "kernelspec": {
   "display_name": "Python 3 (ipykernel)",
   "language": "python",
   "name": "python3"
  },
  "language_info": {
   "codemirror_mode": {
    "name": "ipython",
    "version": 3
   },
   "file_extension": ".py",
   "mimetype": "text/x-python",
   "name": "python",
   "nbconvert_exporter": "python",
   "pygments_lexer": "ipython3",
   "version": "3.9.7"
  }
 },
 "nbformat": 4,
 "nbformat_minor": 5
}
