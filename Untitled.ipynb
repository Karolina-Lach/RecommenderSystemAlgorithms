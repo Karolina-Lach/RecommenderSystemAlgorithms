{
 "cells": [
  {
   "cell_type": "markdown",
   "id": "bbc84431",
   "metadata": {},
   "source": [
    "# Imports"
   ]
  },
  {
   "cell_type": "code",
   "execution_count": 1,
   "id": "566b3f4f",
   "metadata": {},
   "outputs": [],
   "source": [
    "import pandas as pd\n",
    "import pickle\n",
    "%matplotlib inline\n",
    "\n",
    "from gensim.models import Word2Vec\n",
    "from gensim.models.doc2vec import Doc2Vec\n",
    "from gensim.models.doc2vec import Doc2Vec, TaggedDocument\n",
    "from sklearn.feature_extraction.text import TfidfVectorizer\n",
    "from sklearn.manifold import TSNE\n",
    "import gensim\n",
    "\n",
    "from collections import defaultdict\n",
    "import numpy as np\n",
    "import matplotlib.pyplot as plt\n",
    "import seaborn as sns\n",
    "import random\n",
    "\n",
    "import sampling\n",
    "\n",
    "from doc_embeddings import get_average_number_of_words\n",
    "from doc_embeddings import create_vectors_for_recipe_id\n",
    "from doc_embeddings import create_doc2vec_embeddings\n",
    "from doc_embeddings import tsne_plot\n",
    "from doc_embeddings import draw_scatter_per_category\n",
    "from doc_embeddings import draw_scatter_with_labels\n",
    "from doc_embeddings import TfidfEmbeddingVectorizer"
   ]
  },
  {
   "cell_type": "markdown",
   "id": "2d16fe11",
   "metadata": {},
   "source": [
    "# Constants"
   ]
  },
  {
   "cell_type": "code",
   "execution_count": 5,
   "id": "ee3cd5a4",
   "metadata": {},
   "outputs": [],
   "source": [
    "DOC2VEC_ING_MODEL = \"../Data/word_embeddings_files/models/doc2vec_ingredients_model.obj\""
   ]
  },
  {
   "cell_type": "markdown",
   "id": "028dab60",
   "metadata": {},
   "source": [
    "# Load"
   ]
  },
  {
   "cell_type": "code",
   "execution_count": 6,
   "id": "7be05d28",
   "metadata": {},
   "outputs": [],
   "source": [
    "with open(DOC2VEC_ING_MODEL, 'rb') as pickle_file:\n",
    "    doc2vec_model_ingredients = pickle.load(pickle_file)"
   ]
  },
  {
   "cell_type": "code",
   "execution_count": 13,
   "id": "2c250b0e",
   "metadata": {},
   "outputs": [
    {
     "data": {
      "text/plain": [
       "[(523988, 0.7841662168502808)]"
      ]
     },
     "execution_count": 13,
     "metadata": {},
     "output_type": "execute_result"
    }
   ],
   "source": [
    "doc2vec_model_ingredients.dv.most_similar([38], topn = 1)"
   ]
  },
  {
   "cell_type": "code",
   "execution_count": 32,
   "id": "cced288b",
   "metadata": {},
   "outputs": [
    {
     "data": {
      "text/plain": [
       "[(64235, 0.8534121513366699),\n",
       " (229247, 0.8517695665359497),\n",
       " (108931, 0.8460788726806641),\n",
       " (22338, 0.8305729031562805),\n",
       " (32034, 0.827616810798645),\n",
       " (146109, 0.8272796273231506),\n",
       " (431167, 0.8266602158546448),\n",
       " (146048, 0.8250735998153687),\n",
       " (168746, 0.8235833048820496),\n",
       " (170662, 0.8221015930175781),\n",
       " (181651, 0.8206020593643188),\n",
       " (317556, 0.8194299340248108),\n",
       " (485640, 0.8145602345466614),\n",
       " (506692, 0.8132249712944031),\n",
       " (518954, 0.810697615146637),\n",
       " (449400, 0.8050360679626465),\n",
       " (180570, 0.8047670125961304),\n",
       " (175781, 0.8046769499778748),\n",
       " (319452, 0.804334282875061),\n",
       " (439139, 0.8026775121688843),\n",
       " (447413, 0.8010052442550659),\n",
       " (481438, 0.8001256585121155),\n",
       " (410225, 0.799957811832428),\n",
       " (143337, 0.7991466522216797),\n",
       " (358825, 0.7990327477455139),\n",
       " (289851, 0.7972136735916138),\n",
       " (184337, 0.7966495752334595),\n",
       " (356754, 0.7960525751113892),\n",
       " (517837, 0.7953654527664185),\n",
       " (480289, 0.7943341135978699),\n",
       " (374071, 0.7937852144241333),\n",
       " (407102, 0.7919347286224365),\n",
       " (29573, 0.7917463183403015),\n",
       " (467150, 0.7904714345932007),\n",
       " (63066, 0.7887736558914185),\n",
       " (538746, 0.7885714769363403),\n",
       " (125210, 0.7874424457550049),\n",
       " (170278, 0.7872867584228516),\n",
       " (167962, 0.7856908440589905),\n",
       " (398649, 0.785423219203949),\n",
       " (66022, 0.7848877906799316),\n",
       " (432, 0.7848091721534729),\n",
       " (41201, 0.784634530544281),\n",
       " (38, 0.784166157245636),\n",
       " (428780, 0.7837488055229187),\n",
       " (146458, 0.7836140394210815),\n",
       " (74761, 0.7835119366645813),\n",
       " (397023, 0.7819103598594666),\n",
       " (370818, 0.7814230918884277),\n",
       " (508553, 0.7811055779457092)]"
      ]
     },
     "execution_count": 32,
     "metadata": {},
     "output_type": "execute_result"
    }
   ],
   "source": [
    "doc2vec_model_ingredients.dv.most_similar([523988], topn = 50)"
   ]
  },
  {
   "cell_type": "code",
   "execution_count": 38,
   "id": "3fb2f93c",
   "metadata": {},
   "outputs": [
    {
     "name": "stdout",
     "output_type": "stream",
     "text": [
      "Wall time: 0 ns\n"
     ]
    },
    {
     "data": {
      "text/plain": [
       "0.7841662"
      ]
     },
     "execution_count": 38,
     "metadata": {},
     "output_type": "execute_result"
    }
   ],
   "source": [
    "%%time\n",
    "doc2vec_model_ingredients.dv.similarity(38, 523988)"
   ]
  },
  {
   "cell_type": "code",
   "execution_count": 33,
   "id": "ede53ae2",
   "metadata": {},
   "outputs": [
    {
     "data": {
      "text/plain": [
       "array([[0.7841662]], dtype=float32)"
      ]
     },
     "execution_count": 33,
     "metadata": {},
     "output_type": "execute_result"
    }
   ],
   "source": [
    "from sklearn.metrics.pairwise import cosine_similarity\n",
    "\n",
    "cosine_similarity(doc2vec_model_ingredients.dv.vectors[38].reshape(1, -1), doc2vec_model_ingredients.dv.vectors[523988].reshape(1, -1))"
   ]
  },
  {
   "cell_type": "code",
   "execution_count": null,
   "id": "cf143350",
   "metadata": {},
   "outputs": [],
   "source": []
  }
 ],
 "metadata": {
  "kernelspec": {
   "display_name": "Python 3 (ipykernel)",
   "language": "python",
   "name": "python3"
  },
  "language_info": {
   "codemirror_mode": {
    "name": "ipython",
    "version": 3
   },
   "file_extension": ".py",
   "mimetype": "text/x-python",
   "name": "python",
   "nbconvert_exporter": "python",
   "pygments_lexer": "ipython3",
   "version": "3.9.7"
  }
 },
 "nbformat": 4,
 "nbformat_minor": 5
}
