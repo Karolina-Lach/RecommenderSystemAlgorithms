{
 "cells": [
  {
   "cell_type": "markdown",
   "id": "6bb31b77",
   "metadata": {},
   "source": [
    "# Imports"
   ]
  },
  {
   "cell_type": "code",
   "execution_count": 12,
   "id": "ddc86779",
   "metadata": {},
   "outputs": [],
   "source": [
    "import pandas as pd\n",
    "import pickle\n",
    "import sampling\n",
    "from collections import defaultdict\n",
    "\n",
    "from surprise import NormalPredictor\n",
    "from sklearn.model_selection import train_test_split as train_test_split\n",
    "from surprise.model_selection import train_test_split as train_test_split_sup\n",
    "from surprise.model_selection import LeaveOneOut\n",
    "from surprise.model_selection import KFold\n",
    "from surprise import accuracy\n",
    "from surprise import Dataset\n",
    "from surprise import Reader\n",
    "from surprise import SVD, SVDpp, NMF\n",
    "from surprise.model_selection import GridSearchCV\n",
    "from surprise.model_selection import RandomizedSearchCV\n",
    "import heapq\n",
    "\n",
    "import random\n",
    "import os\n",
    "import numpy as np\n",
    "\n",
    "import matplotlib.pyplot as plt\n",
    "\n",
    "my_seed = 13\n",
    "random.seed(my_seed)"
   ]
  },
  {
   "cell_type": "markdown",
   "id": "1a9b80be",
   "metadata": {},
   "source": [
    "# Constants"
   ]
  },
  {
   "cell_type": "code",
   "execution_count": 13,
   "id": "6916508c",
   "metadata": {},
   "outputs": [],
   "source": [
    "RATINGS_BASE = \"../Data/base/ratings_base.parquet\"\n",
    "RECIPES_BASE = \"../Data/base/recipes_base.parquet\"\n",
    "INDEX_TO_RECIPE_OBJ = \"../Data/index/index_to_recipe.obj\"\n",
    "RECIPE_TO_INDEX_OBJ = \"../Data/index/recipe_to_index.obj\""
   ]
  },
  {
   "cell_type": "markdown",
   "id": "b407361f",
   "metadata": {},
   "source": [
    "# Load data\n"
   ]
  },
  {
   "cell_type": "code",
   "execution_count": 14,
   "id": "b397b7a5",
   "metadata": {},
   "outputs": [],
   "source": [
    "def create_train_test_dataframe(ratings_df, test_size, random_state):\n",
    "    x_train, x_test, y_train, y_test = train_test_split(\n",
    "        ratings_df[[\"AuthorId\", \"RecipeId\"]], \n",
    "        ratings_df[[\"Rating\"]], \n",
    "        test_size=test_size, \n",
    "        random_state=random_state, \n",
    "        stratify=ratings_df[\"AuthorId\"])\n",
    "    \n",
    "    trainset = x_train.merge(y_train, left_index=True, right_index=True)\n",
    "    testset = x_test.merge(y_test, left_index=True, right_index=True)\n",
    "\n",
    "    return trainset, testset\n",
    "\n",
    "def train_test_surprise_format(trainset_df, testset_df):\n",
    "    trainset_surprise = Dataset.load_from_df(trainset_df[[\"AuthorId\", \"RecipeId\", \"Rating\"]], Reader(rating_scale=(0, 5)))\n",
    "    trainset_surprise = trainset_surprise.build_full_trainset()\n",
    "    \n",
    "    testset_surprise = list(testset_df.to_records())\n",
    "    testset_surprise = [(x[1], x[2], x[3]) for x in testset_surprise]\n",
    "    \n",
    "    return trainset_surprise, testset_surprise"
   ]
  },
  {
   "cell_type": "code",
   "execution_count": 15,
   "id": "4976abcd",
   "metadata": {},
   "outputs": [],
   "source": [
    "\n",
    "ratings_base = pd.read_parquet(RATINGS_BASE)"
   ]
  },
  {
   "cell_type": "code",
   "execution_count": 16,
   "id": "065898d8",
   "metadata": {},
   "outputs": [],
   "source": [
    "ratings_sample = sampling.get_ratings_with_min_number_list(ratings_base, [20,10])"
   ]
  },
  {
   "cell_type": "markdown",
   "id": "c2af44b9",
   "metadata": {},
   "source": [
    "# Create surprise dataset"
   ]
  },
  {
   "cell_type": "code",
   "execution_count": 17,
   "id": "dbfcb1d8",
   "metadata": {},
   "outputs": [],
   "source": [
    "ratings_sample_dataset = Dataset.load_from_df(ratings_sample[['AuthorId', 'RecipeId', 'Rating']], Reader(rating_scale=(0, 5))) \n",
    "# all_ratings_dataset = Dataset.load_from_df(ratings_small[['AuthorId', 'RecipeId', 'Rating']], Reader(rating_scale=(1, 5)))"
   ]
  },
  {
   "cell_type": "code",
   "execution_count": 27,
   "id": "204087b8",
   "metadata": {},
   "outputs": [],
   "source": [
    "train_df, test_df = create_train_test_dataframe(ratings_sample, 0.2, 13)\n",
    "trainset, testset = train_test_surprise_format(train_df, test_df)"
   ]
  },
  {
   "cell_type": "markdown",
   "id": "3fdea28e",
   "metadata": {},
   "source": [
    "# SVD algorithm"
   ]
  },
  {
   "cell_type": "markdown",
   "id": "63482482",
   "metadata": {},
   "source": [
    "Ocena jest wyznaczana jako:\n",
    "\n",
    "$$\\hat{r}_{ui}=\\mu + b_{u} + b_{i} + q_{i}^{T}p_{u}$$\n",
    "\n",
    "$\\mu$ - średnia ze wszystkich ocen\n",
    "\n",
    "$b_{u}$ - średnia ocen użytkownika $u$\n",
    "\n",
    "$b_{i}$ - średnia ocen przepisu $i$\n",
    "\n",
    "Algorytm wykorzystuje SGD do minimalizacji zregularyzowanego błędu kwadratowego:\n",
    "\n",
    "$$\\sum (r_{ui}-\\hat{r}_{ui})^2 + \\lambda(b_{i}^2+b_{u}^2 + ||q_{i}||^2 + ||p_{i}||^2)$$\n",
    "\n",
    "PARAMETRY:\n",
    "$n\\_factors$ - liczba współczynników w rozłożonej macierzy\n",
    "\n",
    "$n\\_epochs$ - liczba iteracji SGD\n",
    "\n",
    "$init\\_mean$ - średnia rozkładu normalnego wykorzystywanego do inicjalizacji\n",
    "\n",
    "$inid\\_std\\_dev$ - odchylenie standardowe rozkładu normalnego wykorzystywanego do inicjalizacji\n",
    "\n",
    "$lr\\_all$ - współczynnik uczenia wszystkich parametrów\n",
    "\n",
    "$reg\\_all$ - współćzynnik regularyzacji dla wszystkich parametrów\n",
    "\n",
    "$lr\\_bu$ - współczynnik uczenia $b_{u}$\n",
    "\n",
    "$lr\\_bi$ - współczynnik uczenia $b_{i}$\n",
    "\n",
    "$lr\\_pu$ - współczynnik uczenia $p_{u}$\n",
    "\n",
    "$lr\\_qi$ - współczynnik uczenia $q_{i}$\n",
    "\n",
    "$reg\\_bu$ - współczynnik regularyzacji $b_{u}$\n",
    "\n",
    "$reg\\_bi$ - współczynnik regularyzacji $b_{i}$\n",
    "\n",
    "$reg\\_pu$ - współczynnik regularyzacji $p_{u}$\n",
    "\n",
    "$reg\\_qi$ - współczynnik regularyzacji $q_{i}$"
   ]
  },
  {
   "cell_type": "code",
   "execution_count": 19,
   "id": "8e3e8e55",
   "metadata": {},
   "outputs": [],
   "source": [
    "rmse_per_num_of_min = {}"
   ]
  },
  {
   "cell_type": "markdown",
   "id": "d0107c74",
   "metadata": {},
   "source": [
    "## All ratings"
   ]
  },
  {
   "cell_type": "markdown",
   "id": "28e39626",
   "metadata": {},
   "source": [
    "### Grid search\n",
    "\n",
    "Searching for best parameters of SVD algorithm for all ratings in the dataset. "
   ]
  },
  {
   "cell_type": "code",
   "execution_count": 1,
   "id": "31724ad2",
   "metadata": {},
   "outputs": [],
   "source": [
    "%%time\n",
    "param_grid = {'n_epochs': [50, 80, 90, 100, 110],\n",
    "              'n_factors': [10, 20, 30], \n",
    "              'lr_bu': [0.001,  0.002, 0.003], \n",
    "              'reg_all': [0.05, 0.08, 0.1, 0.2]}\n",
    "\n",
    "gs = GridSearchCV(SVD, param_grid, measures=['rmse'], cv=3, joblib_verbose=3, n_jobs=-1)\n",
    "\n",
    "print(\"Fitting...\")\n",
    "gs.fit(ratings_sample_dataset)\n",
    "\n",
    "# best RMSE score\n",
    "print(f\"Best RMSE score: {gs.best_score['rmse']}\")\n",
    "\n",
    "# combination of parameters that gave the best RMSE score\n",
    "print(f\"Best parameters: {gs.best_params['rmse']}\")\n",
    "\n",
    "results_df = pd.DataFrame.from_dict(gs.cv_results)\n",
    "\n",
    "algoSVD_all_best = gs.best_estimator['rmse']\n",
    "\n"
   ]
  },
  {
   "cell_type": "code",
   "execution_count": 26,
   "id": "200062e6",
   "metadata": {},
   "outputs": [],
   "source": [
    "# with open(\"../Data/SVD/author_min_10/results_df.obj\", 'wb') as pickle_file:\n",
    "#      pickle.dump(results_df, pickle_file)\n",
    "        \n",
    "# with open(\"../Data/SVD/author_min_10/SVD_best_model.obj\", 'wb') as pickle_file:\n",
    "#      pickle.dump(algoSVD_all_best, pickle_file)\n",
    "        \n",
    "# with open(\"../Data/SVD/author_min_10/gridsearch_object.obj\", 'wb') as pickle_file:\n",
    "#      pickle.dump(gs, pickle_file)"
   ]
  },
  {
   "cell_type": "markdown",
   "id": "baac4434",
   "metadata": {},
   "source": [
    "## Each user - min 5 ratings"
   ]
  },
  {
   "cell_type": "markdown",
   "id": "6ac4adc0",
   "metadata": {},
   "source": [
    "### Grid search\n",
    "Searching for best parameters for dataset with min 5 ratings per user"
   ]
  },
  {
   "cell_type": "code",
   "execution_count": 21,
   "id": "8da99011",
   "metadata": {},
   "outputs": [
    {
     "name": "stdout",
     "output_type": "stream",
     "text": [
      "Fitting...\n"
     ]
    },
    {
     "name": "stderr",
     "output_type": "stream",
     "text": [
      "[Parallel(n_jobs=-1)]: Using backend LokyBackend with 4 concurrent workers.\n",
      "[Parallel(n_jobs=-1)]: Done  24 tasks      | elapsed: 13.2min\n",
      "[Parallel(n_jobs=-1)]: Done 120 tasks      | elapsed: 86.4min\n"
     ]
    },
    {
     "name": "stdout",
     "output_type": "stream",
     "text": [
      "Best RMSE score: 0.9351586063179143\n",
      "Best parameters: {'n_epochs': 100, 'n_factors': 10, 'lr_all': 0.001, 'reg_all': 0.08}\n",
      "Wall time: 5h 17min 13s\n"
     ]
    },
    {
     "name": "stderr",
     "output_type": "stream",
     "text": [
      "[Parallel(n_jobs=-1)]: Done 270 out of 270 | elapsed: 316.8min finished\n"
     ]
    }
   ],
   "source": [
    "%%time\n",
    "param_grid = {'n_epochs': [50, 100, 150], \n",
    "              'n_factors': [10, 15, 20], \n",
    "              'lr_all': [0.001, 0.005], \n",
    "              'reg_all': [0.02, 0.05, 0.08] }\n",
    "\n",
    "gs = GridSearchCV(SVD, param_grid, measures=['rmse'], cv=5, joblib_verbose=3, n_jobs=-1)\n",
    "\n",
    "print(\"Fitting...\")\n",
    "gs.fit(authors_min_5_dataset)\n",
    "\n",
    "# best RMSE score\n",
    "print(f\"Best RMSE score: {gs.best_score['rmse']}\")\n",
    "\n",
    "# combination of parameters that gave the best RMSE score\n",
    "print(f\"Best parameters: {gs.best_params['rmse']}\")\n",
    "\n",
    "results_df = pd.DataFrame.from_dict(gs.cv_results)\n",
    "\n",
    "algoSVD_author_min_5 = gs.best_estimator['rmse']\n",
    "\n",
    "# with open(\"../SVD/author_min_5/results_df.obj\", 'wb') as pickle_file:\n",
    "#      pickle.dump(results_df, pickle_file)\n",
    "        \n",
    "# with open(\"../SVD/author_min_5/SVD_best_model.obj\", 'wb') as pickle_file:\n",
    "#      pickle.dump(algoSVD_author_min_5, pickle_file)\n",
    "        \n",
    "# with open(\"../SVD/author_min_5/gridsearch_object.obj\", 'wb') as pickle_file:\n",
    "#      pickle.dump(gs, pickle_file)"
   ]
  },
  {
   "cell_type": "markdown",
   "id": "435230fe",
   "metadata": {},
   "source": [
    "## Each user - min 20 ratings"
   ]
  },
  {
   "cell_type": "markdown",
   "id": "47c78f44",
   "metadata": {},
   "source": [
    "### Grid search\n",
    "\n",
    "Searching for best parameters of SVD algorithms based on dataset where each user has at least 20 ratings"
   ]
  },
  {
   "cell_type": "code",
   "execution_count": 19,
   "id": "b4c417e1",
   "metadata": {},
   "outputs": [
    {
     "name": "stdout",
     "output_type": "stream",
     "text": [
      "Fitting...\n"
     ]
    },
    {
     "name": "stderr",
     "output_type": "stream",
     "text": [
      "[Parallel(n_jobs=-1)]: Using backend LokyBackend with 4 concurrent workers.\n",
      "[Parallel(n_jobs=-1)]: Done  24 tasks      | elapsed: 10.9min\n",
      "[Parallel(n_jobs=-1)]: Done 120 tasks      | elapsed: 71.8min\n"
     ]
    },
    {
     "name": "stdout",
     "output_type": "stream",
     "text": [
      "Best RMSE score: 0.8773034194006073\n",
      "Best parameters: {'n_epochs': 50, 'n_factors': 10, 'lr_all': 0.001, 'reg_all': 0.07}\n"
     ]
    },
    {
     "name": "stderr",
     "output_type": "stream",
     "text": [
      "[Parallel(n_jobs=-1)]: Done 270 out of 270 | elapsed: 260.8min finished\n"
     ]
    }
   ],
   "source": [
    "param_grid = {'n_epochs': [50, 100, 150], \n",
    "              'n_factors': [10, 15, 20], \n",
    "              'lr_all': [0.001, 0.005], \n",
    "              'reg_all': [0.02, 0.05, 0.07] }\n",
    "\n",
    "gs = GridSearchCV(SVD, param_grid, measures=['rmse'], cv=5, joblib_verbose=3, n_jobs=-1)\n",
    "\n",
    "print(\"Fitting...\")\n",
    "gs.fit(authors_min_20_dataset)\n",
    "\n",
    "# best RMSE score\n",
    "print(f\"Best RMSE score: {gs.best_score['rmse']}\")\n",
    "\n",
    "# combination of parameters that gave the best RMSE score\n",
    "print(f\"Best parameters: {gs.best_params['rmse']}\")\n",
    "\n",
    "results_df = pd.DataFrame.from_dict(gs.cv_results)\n",
    "\n",
    "algoSVD_author_min_20 = gs.best_estimator['rmse']\n",
    "\n",
    "# with open(\"../SVD/author_min_20/results_df.obj\", 'wb') as pickle_file:\n",
    "#      pickle.dump(results_df, pickle_file)\n",
    "        \n",
    "# with open(\"../SVD/author_min_20/SVD_best_model.obj\", 'wb') as pickle_file:\n",
    "#      pickle.dump(algoSVD_author_min_20, pickle_file)\n",
    "        \n",
    "# with open(\"../SVD/author_min_20/gridsearch_object.obj\", 'wb') as pickle_file:\n",
    "#      pickle.dump(gs, pickle_file)"
   ]
  },
  {
   "cell_type": "markdown",
   "id": "7b04017c",
   "metadata": {},
   "source": [
    "#### Check reg_all"
   ]
  },
  {
   "cell_type": "code",
   "execution_count": 20,
   "id": "ed7a32b9",
   "metadata": {},
   "outputs": [
    {
     "name": "stdout",
     "output_type": "stream",
     "text": [
      "Fitting...\n"
     ]
    },
    {
     "name": "stderr",
     "output_type": "stream",
     "text": [
      "[Parallel(n_jobs=-1)]: Using backend LokyBackend with 4 concurrent workers.\n"
     ]
    },
    {
     "name": "stdout",
     "output_type": "stream",
     "text": [
      "Best RMSE score: 0.8771325518694285\n",
      "Best parameters: {'n_epochs': 50, 'n_factors': 10, 'lr_all': 0.001, 'reg_all': 0.08}\n",
      "Wall time: 7min 16s\n"
     ]
    },
    {
     "name": "stderr",
     "output_type": "stream",
     "text": [
      "[Parallel(n_jobs=-1)]: Done  15 out of  15 | elapsed:  6.9min finished\n"
     ]
    }
   ],
   "source": [
    "%%time\n",
    "param_grid = {'n_epochs': [50], \n",
    "              'n_factors': [10], \n",
    "              'lr_all': [0.001], \n",
    "              'reg_all': [0.07, 0.08, 0.1] }\n",
    "\n",
    "gs = GridSearchCV(SVD, param_grid, measures=['rmse'], cv=5, joblib_verbose=3, n_jobs=-1)\n",
    "\n",
    "print(\"Fitting...\")\n",
    "gs.fit(authors_min_20_dataset)\n",
    "\n",
    "# best RMSE score\n",
    "print(f\"Best RMSE score: {gs.best_score['rmse']}\")\n",
    "\n",
    "# combination of parameters that gave the best RMSE score\n",
    "print(f\"Best parameters: {gs.best_params['rmse']}\")\n",
    "\n",
    "results_df = pd.DataFrame.from_dict(gs.cv_results)\n",
    "\n",
    "algoSVD_author_min_20 = gs.best_estimator['rmse']\n",
    "\n",
    "# with open(\"../SVD/author_min_20/results_df_reg.obj\", 'wb') as pickle_file:\n",
    "#      pickle.dump(results_df, pickle_file)\n",
    "        \n",
    "# with open(\"../SVD/author_min_20/SVD_best_model_reg.obj\", 'wb') as pickle_file:\n",
    "#      pickle.dump(algoSVD_author_min_20, pickle_file)\n",
    "        \n",
    "# with open(\"../SVD/author_min_20/gridsearch_object_reg.obj\", 'wb') as pickle_file:\n",
    "#      pickle.dump(gs, pickle_file)"
   ]
  },
  {
   "cell_type": "markdown",
   "id": "cb08d2e0",
   "metadata": {},
   "source": [
    "## Each user - min 40 ratings"
   ]
  },
  {
   "cell_type": "markdown",
   "id": "5772828e",
   "metadata": {},
   "source": [
    "### Gridsearch"
   ]
  },
  {
   "cell_type": "code",
   "execution_count": 22,
   "id": "c2ad3acb",
   "metadata": {},
   "outputs": [
    {
     "name": "stdout",
     "output_type": "stream",
     "text": [
      "Fitting...\n"
     ]
    },
    {
     "name": "stderr",
     "output_type": "stream",
     "text": [
      "[Parallel(n_jobs=-1)]: Using backend LokyBackend with 4 concurrent workers.\n",
      "[Parallel(n_jobs=-1)]: Done  24 tasks      | elapsed:  9.9min\n",
      "[Parallel(n_jobs=-1)]: Done 120 tasks      | elapsed: 66.1min\n"
     ]
    },
    {
     "name": "stdout",
     "output_type": "stream",
     "text": [
      "Best RMSE score: 0.847676725842636\n",
      "Best parameters: {'n_epochs': 50, 'n_factors': 10, 'lr_all': 0.001, 'reg_all': 0.07}\n"
     ]
    },
    {
     "name": "stderr",
     "output_type": "stream",
     "text": [
      "[Parallel(n_jobs=-1)]: Done 270 out of 270 | elapsed: 240.7min finished\n"
     ]
    }
   ],
   "source": [
    "param_grid = {'n_epochs': [50, 100, 150], \n",
    "              'n_factors': [10, 15, 20], \n",
    "              'lr_all': [0.001, 0.005], \n",
    "              'reg_all': [0.02, 0.05, 0.07] }\n",
    "\n",
    "gs = GridSearchCV(SVD, param_grid, measures=['rmse'], cv=5, joblib_verbose=3, n_jobs=-1)\n",
    "\n",
    "print(\"Fitting...\")\n",
    "gs.fit(authors_min_40_dataset)\n",
    "\n",
    "# best RMSE score\n",
    "print(f\"Best RMSE score: {gs.best_score['rmse']}\")\n",
    "\n",
    "# combination of parameters that gave the best RMSE score\n",
    "print(f\"Best parameters: {gs.best_params['rmse']}\")\n",
    "\n",
    "results_df = pd.DataFrame.from_dict(gs.cv_results)\n",
    "\n",
    "algoSVD_author_min_40 = gs.best_estimator['rmse']\n",
    "\n",
    "# with open(\"../SVD/author_min_40/results_df.obj\", 'wb') as pickle_file:\n",
    "#      pickle.dump(results_df, pickle_file)\n",
    "        \n",
    "# with open(\"../SVD/author_min_40/SVD_best_model.obj\", 'wb') as pickle_file:\n",
    "#      pickle.dump(algoSVD_author_min_40, pickle_file)\n",
    "        \n",
    "# with open(\"../SVD/author_min_40/gridsearch_object.obj\", 'wb') as pickle_file:\n",
    "#      pickle.dump(gs, pickle_file)"
   ]
  },
  {
   "cell_type": "markdown",
   "id": "07656819",
   "metadata": {},
   "source": [
    "## Sample"
   ]
  },
  {
   "cell_type": "markdown",
   "id": "73853797",
   "metadata": {},
   "source": [
    "### Gridsearch"
   ]
  },
  {
   "cell_type": "code",
   "execution_count": 13,
   "id": "a6973416",
   "metadata": {},
   "outputs": [
    {
     "name": "stdout",
     "output_type": "stream",
     "text": [
      "Fitting...\n"
     ]
    },
    {
     "name": "stderr",
     "output_type": "stream",
     "text": [
      "[Parallel(n_jobs=-1)]: Using backend LokyBackend with 4 concurrent workers.\n",
      "[Parallel(n_jobs=-1)]: Done  24 tasks      | elapsed:  3.5min\n",
      "[Parallel(n_jobs=-1)]: Done 120 tasks      | elapsed: 23.4min\n"
     ]
    },
    {
     "name": "stdout",
     "output_type": "stream",
     "text": [
      "Best RMSE score: 0.8785297669836227\n",
      "Best parameters: {'n_epochs': 50, 'n_factors': 10, 'lr_all': 0.001, 'reg_all': 0.07}\n",
      "Wall time: 1h 25min 23s\n"
     ]
    },
    {
     "name": "stderr",
     "output_type": "stream",
     "text": [
      "[Parallel(n_jobs=-1)]: Done 270 out of 270 | elapsed: 85.3min finished\n"
     ]
    }
   ],
   "source": [
    "%%time\n",
    "param_grid = {'n_epochs': [50, 100, 150], \n",
    "              'n_factors': [10, 15, 20], \n",
    "              'lr_all': [0.001, 0.005], \n",
    "              'reg_all': [0.02, 0.05, 0.07] }\n",
    "\n",
    "gs = GridSearchCV(SVD, param_grid, measures=['rmse'], cv=5, joblib_verbose=3, n_jobs=-1)\n",
    "\n",
    "print(\"Fitting...\")\n",
    "gs.fit(ratings_sample_dataset)\n",
    "\n",
    "# best RMSE score\n",
    "print(f\"Best RMSE score: {gs.best_score['rmse']}\")\n",
    "\n",
    "# combination of parameters that gave the best RMSE score\n",
    "print(f\"Best parameters: {gs.best_params['rmse']}\")\n",
    "\n",
    "results_df = pd.DataFrame.from_dict(gs.cv_results)\n",
    "\n",
    "algoSVD_sample = gs.best_estimator['rmse']\n",
    "\n",
    "# with open(\"../SVD/sample/results_df.obj\", 'wb') as pickle_file:\n",
    "#      pickle.dump(results_df, pickle_file)\n",
    "        \n",
    "# with open(\"../SVD/sample/SVD_best_model.obj\", 'wb') as pickle_file:\n",
    "#      pickle.dump(algoSVD_sample, pickle_file)\n",
    "        \n",
    "# with open(\"../SVD/sample/gridsearch_object.obj\", 'wb') as pickle_file:\n",
    "#      pickle.dump(gs, pickle_file)"
   ]
  },
  {
   "cell_type": "markdown",
   "id": "fc784ca5",
   "metadata": {},
   "source": [
    "### Train & test with sample"
   ]
  },
  {
   "cell_type": "code",
   "execution_count": 9,
   "id": "0bae18b3",
   "metadata": {},
   "outputs": [
    {
     "name": "stdout",
     "output_type": "stream",
     "text": [
      "RMSE for fold 1: 0.8741871140233611\n",
      "RMSE for fold 2: 0.8894501141473051\n",
      "RMSE for fold 3: 0.8845433742393906\n",
      "RMSE for fold 4: 0.8705007334554156\n",
      "RMSE for fold 5: 0.8719576618801302\n",
      "Mean RMSE: 0.8781277995491206\n"
     ]
    }
   ],
   "source": [
    "n_factors = 10\n",
    "n_epochs = 50\n",
    "init_mean= 0\n",
    "init_std_dev = 0.1\n",
    "lr_all = 0.001\n",
    "reg_all = 0.08\n",
    "\n",
    "algoSVD_min = SVD(n_factors=n_factors,\n",
    "                  n_epochs=n_epochs, \n",
    "                  init_mean=init_mean,\n",
    "                  init_std_dev = init_std_dev,\n",
    "                  lr_all = lr_all,\n",
    "                  reg_all = reg_all)\n",
    "\n",
    "j = 1\n",
    "kf = KFold(n_splits=5)\n",
    "rmses = []\n",
    "for trainset, testset in kf.split(ratings_sample_dataset):\n",
    "    algoSVD_min.fit(trainset)\n",
    "    predictions = algoSVD_min.test(testset)\n",
    "        \n",
    "    print(f\"RMSE for fold {j}: {accuracy.rmse(predictions, verbose=False)}\")\n",
    "    rmses.append(accuracy.rmse(predictions, verbose=False))\n",
    "    j = j + 1\n",
    "\n",
    "print(f\"Mean RMSE: {np.mean(rmses)}\")"
   ]
  },
  {
   "cell_type": "markdown",
   "id": "b4c6f11f",
   "metadata": {},
   "source": [
    "# RMSE / min ratings"
   ]
  },
  {
   "cell_type": "code",
   "execution_count": 7,
   "id": "27d79efb",
   "metadata": {},
   "outputs": [
    {
     "name": "stdout",
     "output_type": "stream",
     "text": [
      "Creating dataset with min rating 0\n",
      "Initialize algorithm\n",
      "Create kfold split...\n",
      "Mean RMSE SVD: 1.2202269770574072\n",
      "Mean RMSE normal: 1.5999692400139252\n",
      "\n",
      "Creating dataset with min rating 5\n",
      "Initialize algorithm\n",
      "Create kfold split...\n",
      "Mean RMSE SVD: 0.9459715807703872\n",
      "Mean RMSE normal: 1.252093910240377\n",
      "\n",
      "Creating dataset with min rating 10\n",
      "Initialize algorithm\n",
      "Create kfold split...\n",
      "Mean RMSE SVD: 0.9106377954741876\n",
      "Mean RMSE normal: 1.2073059310399\n",
      "\n",
      "Creating dataset with min rating 15\n",
      "Initialize algorithm\n",
      "Create kfold split...\n",
      "Mean RMSE SVD: 0.8917527465025803\n",
      "Mean RMSE normal: 1.1848014548181647\n",
      "\n",
      "Creating dataset with min rating 20\n",
      "Initialize algorithm\n",
      "Create kfold split...\n",
      "Mean RMSE SVD: 0.8791891623606478\n",
      "Mean RMSE normal: 1.1691183598069295\n",
      "\n",
      "Creating dataset with min rating 25\n",
      "Initialize algorithm\n",
      "Create kfold split...\n",
      "Mean RMSE SVD: 0.8703830726170491\n",
      "Mean RMSE normal: 1.1553665536793605\n",
      "\n",
      "Creating dataset with min rating 30\n",
      "Initialize algorithm\n",
      "Create kfold split...\n",
      "Mean RMSE SVD: 0.8620270499582864\n",
      "Mean RMSE normal: 1.1451584017413547\n",
      "\n",
      "Creating dataset with min rating 40\n",
      "Initialize algorithm\n",
      "Create kfold split...\n",
      "Mean RMSE SVD: 0.8495403355229891\n",
      "Mean RMSE normal: 1.1302764036879023\n",
      "\n",
      "Creating dataset with min rating 50\n",
      "Initialize algorithm\n",
      "Create kfold split...\n",
      "Mean RMSE SVD: 0.8371346804068327\n",
      "Mean RMSE normal: 1.1144588158254465\n",
      "\n",
      "Creating dataset with min rating 60\n",
      "Initialize algorithm\n",
      "Create kfold split...\n",
      "Mean RMSE SVD: 0.8305405271623545\n",
      "Mean RMSE normal: 1.1056780005131168\n",
      "\n",
      "Creating dataset with min rating 70\n",
      "Initialize algorithm\n",
      "Create kfold split...\n",
      "Mean RMSE SVD: 0.8238604714423505\n",
      "Mean RMSE normal: 1.0983841987758614\n",
      "\n",
      "Creating dataset with min rating 80\n",
      "Initialize algorithm\n",
      "Create kfold split...\n",
      "Mean RMSE SVD: 0.8179494051239422\n",
      "Mean RMSE normal: 1.090696071027063\n",
      "\n",
      "Creating dataset with min rating 90\n",
      "Initialize algorithm\n",
      "Create kfold split...\n",
      "Mean RMSE SVD: 0.8140096433734183\n",
      "Mean RMSE normal: 1.084463713801354\n",
      "\n",
      "Creating dataset with min rating 100\n",
      "Initialize algorithm\n",
      "Create kfold split...\n",
      "Mean RMSE SVD: 0.8067545595251527\n",
      "Mean RMSE normal: 1.0741460324653436\n",
      "\n",
      "Wall time: 1h 36min\n"
     ]
    }
   ],
   "source": [
    "%%time\n",
    "n_factors = 10\n",
    "n_epochs = 50\n",
    "init_mean= 0\n",
    "init_std_dev = 0.1\n",
    "lr_all = 0.001\n",
    "reg_all = 0.3\n",
    "\n",
    "rmse_per_num_of_min = {}\n",
    "normal_per_num_of_min = {}\n",
    "\n",
    "\n",
    "for i in list(range(0, 35,5)) +list(range(40, 110, 10)):\n",
    "    \n",
    "    print(f\"Creating dataset with min rating {i}\")\n",
    "    author_min = sampling.get_rating_with_min_number(ratings_base, i, col_name='AuthorId')    \n",
    "    authors_min_dataset = Dataset.load_from_df(author_min[['AuthorId', 'RecipeId', 'Rating']], Reader(rating_scale=(0, 5))) \n",
    "\n",
    "    print(f\"Initialize algorithm\")\n",
    "    algoSVD_min = SVD(n_factors=n_factors,\n",
    "                  n_epochs=n_epochs, \n",
    "                  init_mean=init_mean,\n",
    "                  init_std_dev = init_std_dev,\n",
    "                  lr_all = lr_all,\n",
    "                  reg_all = reg_all)\n",
    "\n",
    "    print(f\"Create kfold split...\")\n",
    "    j = 1\n",
    "    kf = KFold(n_splits=5)\n",
    "    rmses = []\n",
    "    for trainset, testset in kf.split(authors_min_dataset):\n",
    "        algoSVD_min.fit(trainset)\n",
    "        predictions = algoSVD_min.test(testset)\n",
    "        \n",
    "#         print(f\"RMSE for fold {j}: {accuracy.rmse(predictions, verbose=False)}\")\n",
    "        rmses.append(accuracy.rmse(predictions, verbose=False))\n",
    "        j = j + 1\n",
    "\n",
    "    rmse_per_num_of_min[i] = np.mean(rmses)\n",
    "    print(f\"Mean RMSE SVD: {np.mean(rmses)}\")\n",
    "    \n",
    "    \n",
    "#     algo_norm = NormalPredictor()\n",
    "#     j = 1\n",
    "#     kf = KFold(n_splits=5)\n",
    "#     rmses = []\n",
    "#     for trainset, testset in kf.split(authors_min_dataset):\n",
    "#         algo_norm.fit(trainset)\n",
    "#         predictions = algo_norm.test(testset)\n",
    "        \n",
    "# #         print(f\"RMSE for fold {j}: {accuracy.rmse(predictions, verbose=False)}\")\n",
    "#         rmses.append(accuracy.rmse(predictions, verbose=False))\n",
    "#         j = j + 1\n",
    "    \n",
    "    print(f\"Mean RMSE normal: {np.mean(rmses)}\")\n",
    "    \n",
    "    \n",
    "    print()"
   ]
  },
  {
   "cell_type": "markdown",
   "id": "86af8baf",
   "metadata": {},
   "source": [
    "## Plot"
   ]
  },
  {
   "cell_type": "code",
   "execution_count": 60,
   "id": "a82e5e9b",
   "metadata": {},
   "outputs": [],
   "source": [
    "x = list(rmse_per_num_of_min.keys())\n",
    "y = list(rmse_per_num_of_min.values())"
   ]
  },
  {
   "cell_type": "code",
   "execution_count": 61,
   "id": "d8bc3102",
   "metadata": {},
   "outputs": [
    {
     "data": {
      "image/png": "[encoded data removed]",
      "text/plain": [
       "<Figure size 1332x756 with 1 Axes>"
      ]
     },
     "metadata": {
      "needs_background": "light"
     },
     "output_type": "display_data"
    }
   ],
   "source": [
    "fig = plt.gcf()\n",
    "fig.set_size_inches(18.5, 10.5)\n",
    "plt.rcParams['axes.titlepad'] = 20\n",
    "\n",
    "plt.plot(x,y)\n",
    "plt.xlabel(\"Minimalna ilość ocen dla użytkownika\", fontsize=18, labelpad=20)\n",
    "plt.ylabel(\"RMSE\", fontsize=18, labelpad=20)\n",
    "plt.scatter(x[0], y[0])\n",
    "plt.scatter(x[4], y[4])\n",
    "plt.scatter(x[-1], y[-1])\n",
    "\n",
    "plt.text(x[0]+1, y[0], f\"({x[0]}, {round(y[0],2)})\", fontsize=16)\n",
    "plt.text(x[4]+1, y[4]+0.01, f\"({x[4]}, {round(y[4],2)})\", fontsize=16)\n",
    "plt.text(x[-1]-7, y[-1]+0.015, f\"({x[-1]}, {round(y[-1],2)})\", fontsize=16)\n",
    "\n",
    "plt.xticks(np.arange(min(x), max(x)+1, 5), fontsize=14)\n",
    "plt.yticks(fontsize=14)\n",
    "# plt.title(\"Wykres zależności błędu średniokwadratowego od minimalnej ilości ocen\", fontsize=18)\n",
    "plt.show()\n",
    "\n",
    "# fig.savefig('../IMG/RMSE_per_min_user_ratings.png', dpi=100)"
   ]
  },
  {
   "cell_type": "markdown",
   "id": "2b6f794d",
   "metadata": {},
   "source": [
    "# RMSE / Learning rate"
   ]
  },
  {
   "cell_type": "code",
   "execution_count": 57,
   "id": "5bdd7dcf",
   "metadata": {
    "scrolled": true
   },
   "outputs": [],
   "source": [
    "%%time\n",
    "n_factors = 20\n",
    "n_epochs = 60\n",
    "init_mean= 0\n",
    "init_std_dev = 0.1\n",
    "reg_all = 0.3\n",
    "\n",
    "lr_all_list = np.arange(0.0005, 0.01, 0.001)\n",
    "rmse_per_lr_all = {}\n",
    "\n",
    "for lr_all in lr_all_list:\n",
    "    \n",
    "    print(f\"Initialize algorithm for lr_all = {lr_all}\")\n",
    "    algoSVD_min = SVD(n_factors=n_factors,\n",
    "                  n_epochs=n_epochs, \n",
    "                  init_mean=init_mean,\n",
    "                  init_std_dev = init_std_dev,\n",
    "                  lr_all = lr_all,\n",
    "                  reg_all = reg_all)\n",
    "\n",
    "    print(f\"Create kfold split...\")\n",
    "    j = 1\n",
    "    kf = KFold(n_splits=5)\n",
    "    rmses = []\n",
    "    for trainset, testset in kf.split(ratings_sample_dataset):\n",
    "        algoSVD_min.fit(trainset)\n",
    "        predictions = algoSVD_min.test(testset)\n",
    "        \n",
    "        print(f\"RMSE for fold {j}: {accuracy.rmse(predictions, verbose=False)}\")\n",
    "        rmses.append(accuracy.rmse(predictions, verbose=False))\n",
    "        j = j + 1\n",
    "\n",
    "    rmse_per_lr_all[lr_all] = np.mean(rmses)\n",
    "    print(f\"Mean RMSE: {np.mean(rmses)}\")\n",
    "    print()\n",
    "    \n",
    "# with open('../SVaD/rmse_per_lr_all.obj', 'wb') as pickle_file:\n",
    "#      pickle.dump(rmse_per_lr_all, pickle_file)"
   ]
  },
  {
   "cell_type": "code",
   "execution_count": 62,
   "id": "14f55370",
   "metadata": {},
   "outputs": [],
   "source": [
    "x = list(rmse_per_lr_all.keys())\n",
    "y = list(rmse_per_lr_all.values())\n",
    "x = [round(step,4) for step in x]"
   ]
  },
  {
   "cell_type": "code",
   "execution_count": 63,
   "id": "d8721eda",
   "metadata": {},
   "outputs": [
    {
     "data": {
      "image/png": "[encoded data removed]",
      "text/plain": [
       "<Figure size 1332x756 with 1 Axes>"
      ]
     },
     "metadata": {
      "needs_background": "light"
     },
     "output_type": "display_data"
    }
   ],
   "source": [
    "fig = plt.gcf()\n",
    "fig.set_size_inches(18.5, 10.5)\n",
    "plt.rcParams['axes.titlepad'] = 20\n",
    "\n",
    "plt.plot(x,y)\n",
    "plt.xlabel(\"Współczynnik uczenia\", fontsize=18, labelpad=20)\n",
    "plt.ylabel(\"RMSE\", fontsize=18, labelpad=20)\n",
    "\n",
    "# plt.title(\"Wykres zależności błędu średniokwadratowego od współczynnika uczenia\", fontsize=18)\n",
    "plt.show()\n",
    "\n",
    "# fig.savefig('../IMG/rmse_per_lr_all.png', dpi=100)"
   ]
  },
  {
   "cell_type": "markdown",
   "id": "328986dd",
   "metadata": {},
   "source": [
    "# RMSE / Epochs"
   ]
  },
  {
   "cell_type": "code",
   "execution_count": 46,
   "id": "ee0fc46a",
   "metadata": {},
   "outputs": [],
   "source": [
    "%%time\n",
    "n_factors = 20\n",
    "n_epochs = 50\n",
    "init_mean= 0\n",
    "lr_all=0.001\n",
    "init_std_dev = 0.1\n",
    "reg_all = 0.08\n",
    "\n",
    "epochs_list = np.arange(20, 150, 10)\n",
    "rmse_per_epochs = {}\n",
    "\n",
    "for n_epochs in epochs_list:\n",
    "    \n",
    "    print(f\"Initialize algorithm for n_epochs = {n_epochs}\")\n",
    "    algoSVD_min = SVD(n_factors=n_factors,\n",
    "                  n_epochs=n_epochs, \n",
    "                  init_mean=init_mean,\n",
    "                  init_std_dev = init_std_dev,\n",
    "                  lr_all = lr_all,\n",
    "                  reg_all = reg_all)\n",
    "\n",
    "    \n",
    "    print(f\"Create kfold split...\")\n",
    "    j = 1\n",
    "    kf = KFold(n_splits=5)\n",
    "    rmses = []\n",
    "    for trainset, testset in kf.split(ratings_sample_dataset):\n",
    "        algoSVD_min.fit(trainset)\n",
    "        predictions = algoSVD_min.test(testset)\n",
    "        \n",
    "        print(f\"RMSE for fold {j}: {accuracy.rmse(predictions, verbose=False)}\")\n",
    "        rmses.append(accuracy.rmse(predictions, verbose=False))\n",
    "        j = j + 1\n",
    "\n",
    "    rmse_per_epochs[n_epochs] = np.mean(rmses)\n",
    "    print(f\"Mean RMSE: {np.mean(rmses)}\")\n",
    "    print()\n",
    "    \n",
    "# with open('../SVD/rmse_per_epochs.obj', 'wb') as pickle_file:\n",
    "#      pickle.dump(rmse_per_epochs, pickle_file)"
   ]
  },
  {
   "cell_type": "code",
   "execution_count": 44,
   "id": "00b136a9",
   "metadata": {},
   "outputs": [
    {
     "data": {
      "image/png": "[encoded data removed]",
      "text/plain": [
       "<Figure size 1332x756 with 1 Axes>"
      ]
     },
     "metadata": {
      "needs_background": "light"
     },
     "output_type": "display_data"
    }
   ],
   "source": [
    "x = list(rmse_per_epochs.keys())\n",
    "y = list(rmse_per_epochs.values())\n",
    "\n",
    "fig = plt.gcf()\n",
    "fig.set_size_inches(18.5, 10.5)\n",
    "plt.rcParams['axes.titlepad'] = 20\n",
    "\n",
    "plt.plot(x,y)\n",
    "plt.xlabel(\"Liczba epok\", fontsize=18, labelpad=20)\n",
    "plt.ylabel(\"RMSE\", fontsize=18, labelpad=20)\n",
    "\n",
    "# plt.title(\"Wykres zależności błędu średniokwadratowego od liczby epok\", fontsize=18)\n",
    "plt.show()\n",
    "\n",
    "# fig.savefig('../IMG/rmse_per_epochs.png', dpi=100)"
   ]
  },
  {
   "cell_type": "markdown",
   "id": "de39a81e",
   "metadata": {},
   "source": [
    "# RMSE / Factors"
   ]
  },
  {
   "cell_type": "code",
   "execution_count": 45,
   "id": "49e5e75b",
   "metadata": {},
   "outputs": [],
   "source": [
    "%%time\n",
    "n_factors = 10\n",
    "n_epochs = 50\n",
    "init_mean= 0\n",
    "lr_all=0.001\n",
    "init_std_dev = 0.1\n",
    "reg_all = 0.08\n",
    "\n",
    "factors_list = list(np.arange(5, 20, 5)) + list(np.arange(20, 110, 10))\n",
    "rmse_per_factors = {}\n",
    "\n",
    "for n_factors in factors_list:\n",
    "    \n",
    "    print(f\"Initialize algorithm for n_factors = {n_factors}\")\n",
    "    algoSVD_min = SVD(n_factors=n_factors,\n",
    "                  n_epochs=n_epochs, \n",
    "                  init_mean=init_mean,\n",
    "                  init_std_dev = init_std_dev,\n",
    "                  lr_all = lr_all,\n",
    "                  reg_all = reg_all)\n",
    "    \n",
    "    print(f\"Create kfold split...\")\n",
    "    j = 1\n",
    "    kf = KFold(n_splits=1)\n",
    "    rmses = []\n",
    "    for trainset, testset in kf.split(ratings_sample_dataset):\n",
    "        algoSVD_min.fit(trainset)\n",
    "        predictions = algoSVD_min.test(testset)\n",
    "        \n",
    "        print(f\"RMSE for fold {j}: {accuracy.rmse(predictions, verbose=False)}\")\n",
    "        rmses.append(accuracy.rmse(predictions, verbose=False))\n",
    "        j = j + 1\n",
    "\n",
    "    rmse_per_factors[n_factors] = np.mean(rmses)\n",
    "    print(f\"Mean RMSE: {np.mean(rmses)}\")\n",
    "    print()\n",
    "    \n",
    "# with open('../SVD/rmse_per_factors.obj', 'wb') as pickle_file:\n",
    "#      pickle.dump(rmse_per_factors, pickle_file)"
   ]
  },
  {
   "cell_type": "code",
   "execution_count": 41,
   "id": "a3fb0244",
   "metadata": {},
   "outputs": [
    {
     "data": {
      "image/png": "[encoded data removed]",
      "text/plain": [
       "<Figure size 1332x756 with 1 Axes>"
      ]
     },
     "metadata": {
      "needs_background": "light"
     },
     "output_type": "display_data"
    }
   ],
   "source": [
    "x = list(rmse_per_factors.keys())\n",
    "y = list(rmse_per_factors.values())\n",
    "\n",
    "fig = plt.gcf()\n",
    "fig.set_size_inches(18.5, 10.5)\n",
    "plt.rcParams['axes.titlepad'] = 20\n",
    "\n",
    "plt.plot(x,y)\n",
    "plt.xlabel(\"Liczba ukrytych cech\", fontsize=18, labelpad=20)\n",
    "plt.ylabel(\"RMSE\", fontsize=18, labelpad=20)\n",
    "# plt.scatter(x[0], y[0])\n",
    "# plt.scatter(x[4], y[4])\n",
    "# plt.scatter(x[-1], y[-1])\n",
    "\n",
    "# plt.text(x[0]+1, y[0], f\"({x[0]}, {round(y[0],2)})\", fontsize=16)\n",
    "# plt.text(x[4]+1, y[4]+0.01, f\"({x[4]}, {round(y[4],2)})\", fontsize=16)\n",
    "# plt.text(x[-1]-7, y[-1]+0.015, f\"({x[-1]}, {round(y[-1],2)})\", fontsize=16)\n",
    "\n",
    "# plt.xticks(np.arange(min(x), max(x)+1, 5), fontsize=14)\n",
    "# plt.yticks(fontsize=14)\n",
    "# plt.title(\"Wykres zależności pierwiastka błędu średniokwadratowego od liczby cech\", fontsize=18)\n",
    "plt.show()\n",
    "\n",
    "# fig.savefig('../IMG/rmse_per_factors.png', dpi=100)"
   ]
  },
  {
   "cell_type": "markdown",
   "id": "26d4ba42",
   "metadata": {},
   "source": [
    "# RMSE / Reg_all"
   ]
  },
  {
   "cell_type": "code",
   "execution_count": 50,
   "id": "5edb0ae4",
   "metadata": {
    "scrolled": true
   },
   "outputs": [],
   "source": [
    "%%time\n",
    "n_factors = 20\n",
    "n_epochs = 60\n",
    "init_mean= 0\n",
    "lr_all=0.001\n",
    "init_std_dev = 0.1\n",
    "reg_all = 0.08\n",
    "\n",
    "reg_all_list = np.arange(0.01, 0.32, 0.01)\n",
    "rmse_per_reg_all = {}\n",
    "\n",
    "for reg_all in reg_all_list:\n",
    "    \n",
    "    print(f\"Initialize algorithm for reg = {reg_all}\")\n",
    "    algoSVD_min = SVD(n_factors=n_factors,\n",
    "                  n_epochs=n_epochs, \n",
    "                  init_mean=init_mean,\n",
    "                  init_std_dev = init_std_dev,\n",
    "                  lr_all = lr_all,\n",
    "                  reg_all = reg_all)\n",
    "\n",
    "    \n",
    "    print(f\"Create kfold split...\")\n",
    "    j = 1\n",
    "    kf = KFold(n_splits=5)\n",
    "    rmses = []\n",
    "    for trainset, testset in kf.split(ratings_sample_dataset):\n",
    "        algoSVD_min.fit(trainset)\n",
    "        predictions = algoSVD_min.test(testset)\n",
    "        \n",
    "        print(f\"RMSE for fold {j}: {accuracy.rmse(predictions, verbose=False)}\")\n",
    "        rmses.append(accuracy.rmse(predictions, verbose=False))\n",
    "        j = j + 1\n",
    "\n",
    "    rmse_per_reg_all[reg_all] = np.mean(rmses)\n",
    "    print(f\"Mean RMSE: {np.mean(rmses)}\")\n",
    "    print()\n",
    "    \n",
    "# with open('../SVD/rmse_per_reg_all.obj', 'wb') as pickle_file:\n",
    "#      pickle.dump(rmse_per_reg_all, pickle_file)"
   ]
  },
  {
   "cell_type": "code",
   "execution_count": 49,
   "id": "33a20500",
   "metadata": {},
   "outputs": [
    {
     "data": {
      "image/png": "[encoded data removed]",
      "text/plain": [
       "<Figure size 1332x756 with 1 Axes>"
      ]
     },
     "metadata": {
      "needs_background": "light"
     },
     "output_type": "display_data"
    }
   ],
   "source": [
    "x = list(rmse_per_reg_all.keys())\n",
    "x = [round(step, 2) for step in x]\n",
    "y = list(rmse_per_reg_all.values())\n",
    "\n",
    "fig = plt.gcf()\n",
    "fig.set_size_inches(18.5, 10.5)\n",
    "plt.rcParams['axes.titlepad'] = 20\n",
    "\n",
    "plt.plot(x,y)\n",
    "plt.xlabel(\"Współczynnik regularyzacji\", fontsize=18, labelpad=20)\n",
    "plt.ylabel(\"RMSE\", fontsize=18, labelpad=20)\n",
    "# plt.scatter(x[0], y[0])\n",
    "# plt.scatter(x[4], y[4])\n",
    "# plt.scatter(x[-1], y[-1])\n",
    "\n",
    "# plt.text(x[0]+1, y[0], f\"({x[0]}, {round(y[0],2)})\", fontsize=16)\n",
    "# plt.text(x[4]+1, y[4]+0.01, f\"({x[4]}, {round(y[4],2)})\", fontsize=16)\n",
    "# plt.text(x[-1]-7, y[-1]+0.015, f\"({x[-1]}, {round(y[-1],2)})\", fontsize=16)\n",
    "\n",
    "# plt.xticks(np.arange(min(x), max(x)+1, 5), fontsize=14)\n",
    "# plt.yticks(fontsize=14)\n",
    "# plt.title(\"Wykres zależności błędu średniokwadratowego od współczynnika regularyzacji\", fontsize=18)\n",
    "plt.show()\n",
    "\n",
    "# fig.savefig('../IMG/rmse_per_reg_all.png', dpi=100)"
   ]
  },
  {
   "cell_type": "code",
   "execution_count": null,
   "id": "37a9b8aa",
   "metadata": {},
   "outputs": [],
   "source": []
  }
 ],
 "metadata": {
  "kernelspec": {
   "display_name": "Python 3 (ipykernel)",
   "language": "python",
   "name": "python3"
  },
  "language_info": {
   "codemirror_mode": {
    "name": "ipython",
    "version": 3
   },
   "file_extension": ".py",
   "mimetype": "text/x-python",
   "name": "python",
   "nbconvert_exporter": "python",
   "pygments_lexer": "ipython3",
   "version": "3.9.7"
  }
 },
 "nbformat": 4,
 "nbformat_minor": 5
}
