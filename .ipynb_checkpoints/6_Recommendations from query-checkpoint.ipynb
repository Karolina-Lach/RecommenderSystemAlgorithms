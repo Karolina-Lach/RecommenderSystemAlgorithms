{
 "cells": [
  {
   "cell_type": "markdown",
   "id": "b9962b1d",
   "metadata": {},
   "source": [
    "# Imports"
   ]
  },
  {
   "cell_type": "code",
   "execution_count": 17,
   "id": "b0ba2e50",
   "metadata": {},
   "outputs": [],
   "source": [
    "from cleaning_words import clean_phrases_in_list_spacy\n",
    "from cleaning_words import remove_common_words\n",
    "from cleaning_words import read_common_words\n",
    "from doc_embeddings import TfidfEmbeddingVectorizer\n",
    "from sklearn.metrics.pairwise import cosine_similarity\n",
    "import heapq\n",
    "\n",
    "import dill\n",
    "import pickle"
   ]
  },
  {
   "cell_type": "markdown",
   "id": "f79c64df",
   "metadata": {},
   "source": [
    "# Constants"
   ]
  },
  {
   "cell_type": "code",
   "execution_count": 23,
   "id": "e7a32bdf",
   "metadata": {},
   "outputs": [],
   "source": [
    "COMMON_WORDS = '../cleaned_files/common_words.txt'\n",
    "TFIDF_VECTORIZER_ING = \"../word_embeddings_files/vectors/tfidf_vectorizer_ingredients.obj\"\n",
    "WORD2VEC_ING_VECTORS = \"../word_embeddings_files/vectors/word2vec_ingredients_vectors.obj\"\n",
    "RECIPE_ID_TO_NAME = \"../EDA_files/recipe_id_to_name.obj\"\n",
    "RECIPE_ID_TO_INGREDIENTS = \"../EDA_files/recipe_id_to_ingredients.obj\"\n"
   ]
  },
  {
   "cell_type": "markdown",
   "id": "fda40ab8",
   "metadata": {},
   "source": [
    "# Load data"
   ]
  },
  {
   "cell_type": "code",
   "execution_count": 3,
   "id": "d74e6ce6",
   "metadata": {},
   "outputs": [],
   "source": [
    "common_words = read_common_words(COMMON_WORDS)"
   ]
  },
  {
   "cell_type": "code",
   "execution_count": 4,
   "id": "3367b6c4",
   "metadata": {},
   "outputs": [],
   "source": [
    "with open(TFIDF_VECTORIZER_ING, 'rb') as pickle_file:\n",
    "    tfidf_ingredients = dill.load(pickle_file)"
   ]
  },
  {
   "cell_type": "code",
   "execution_count": 5,
   "id": "b6d0b0c6",
   "metadata": {},
   "outputs": [],
   "source": [
    "with open(WORD2VEC_ING_VECTORS, 'rb') as pickle_file:\n",
    "    ingredient_vectors_dict = dill.load(pickle_file)"
   ]
  },
  {
   "cell_type": "code",
   "execution_count": 18,
   "id": "aac3a3e0",
   "metadata": {},
   "outputs": [],
   "source": [
    "with open(RECIPE_ID_TO_NAME, 'rb') as pickle_file:\n",
    "    recipe_id_to_name = pickle.load(pickle_file)"
   ]
  },
  {
   "cell_type": "code",
   "execution_count": 24,
   "id": "8734245f",
   "metadata": {},
   "outputs": [],
   "source": [
    "with open(RECIPE_ID_TO_INGREDIENTS, 'rb') as pickle_file:\n",
    "    recipe_id_to_ing = pickle.load(pickle_file)"
   ]
  },
  {
   "cell_type": "code",
   "execution_count": null,
   "id": "327eae2e",
   "metadata": {},
   "outputs": [],
   "source": []
  },
  {
   "cell_type": "code",
   "execution_count": 11,
   "id": "443dd82c",
   "metadata": {},
   "outputs": [],
   "source": [
    "def get_top_k_recommendations(query, vectors_dict, tfidifVectorizer, common_words, k=10):\n",
    "    query = clean_phrases_in_list_spacy(query.split())\n",
    "    query = remove_common_words(query, common_words)\n",
    "    \n",
    "    query_embedding = tfidifVectorizer.create_doc_vectors([query])\n",
    "    cos_sim_scores = list(map(lambda x: (x[0], cosine_similarity(query_embedding[0], \n",
    "                                                                 x[1].reshape(1, -1))[0][0]), \n",
    "                              vectors_dict.items()))\n",
    "    \n",
    "    top_k = heapq.nlargest(k, cos_sim_scores, key=lambda t: t[1])\n",
    "    return top_k"
   ]
  },
  {
   "cell_type": "code",
   "execution_count": 12,
   "id": "b542f65e",
   "metadata": {},
   "outputs": [],
   "source": [
    "query = 'fresh tomatoes, onion, cheese, pasta'"
   ]
  },
  {
   "cell_type": "code",
   "execution_count": 13,
   "id": "daf7b0b8",
   "metadata": {},
   "outputs": [],
   "source": [
    "top_k = get_top_k_recommendations(query, ingredient_vectors_dict, tfidf_ingredients, common_words)"
   ]
  },
  {
   "cell_type": "code",
   "execution_count": 26,
   "id": "d30a76d8",
   "metadata": {},
   "outputs": [
    {
     "name": "stdout",
     "output_type": "stream",
     "text": [
      "1 ( 0.8328527658055862 )\n",
      "Chili & Cheese Ramen Wonder\n",
      "['pasta', 'diced tomatoes', 'cheese', 'cheese']\n",
      "\n",
      "2 ( 0.8315685773041676 )\n",
      "Low-Carb Pizza\n",
      "['pasta', 'cheese', 'onion']\n",
      "\n",
      "3 ( 0.7857862457487965 )\n",
      "Vegeroni\n",
      "['pasta', 'cheese']\n",
      "\n",
      "4 ( 0.7857862457487965 )\n",
      "Sweet Lunchbox Noodles\n",
      "['pasta', 'cheese']\n",
      "\n",
      "5 ( 0.7668878577401667 )\n",
      "Pasta Seafood Salad\n",
      "['pasta', 'red onion']\n",
      "\n",
      "6 ( 0.7622390042322245 )\n",
      "Spicy Italian Sausage Penne\n",
      "['penne pasta', 'tomato sauce', 'onion', 'garlic cloves', 'olive oil', 'roma tomatoes', 'fresh basil', 'fresh parsley', 'anchovy paste', 'salt', 'pepper', 'parmesan cheese']\n",
      "\n",
      "7 ( 0.760246560080287 )\n",
      "Pasta Skillet\n",
      "['bacon', 'onions', 'garlic', 'green pepper', 'stewed tomatoes', 'pasta']\n",
      "\n",
      "8 ( 0.7567656036754211 )\n",
      "Tuna Spaghetti Casserole\n",
      "['tuna fish', 'spaghetti', 'onion', 'garlic', 'tomatoes', 'sugar', 'pepper', 'parsley', 'cheese', 'salt']\n",
      "\n",
      "9 ( 0.7552504682595351 )\n",
      "Delicious Quick Pasta &amp; Sauce\n",
      "['olive oil', 'onion', 'garlic cloves', 'tomato sauce', 'salt', 'thyme', 'red pepper flakes', 'fresh basil leaf', 'mozzarella cheese', 'monterey jack cheese', 'cheddar cheese', 'parmesan cheese', 'pasta']\n",
      "\n",
      "10 ( 0.7548709891388846 )\n",
      "Cannelloni Brassica - Jamie Oliver\n",
      "['tomato sauce', 'fresh mozzarella cheese', 'red wine vinegar', 'fresh basil leaf', 'prepared stuffing', 'cauliflower', 'broccoli', 'garlic cloves', 'olive oil', 'thyme leaves', 'hot chili peppers', 'anchovies', 'bechamel sauce', 'creme fraiche', 'parmesan cheese', 'pepper']\n",
      "\n"
     ]
    }
   ],
   "source": [
    "i = 1\n",
    "for recipe_id, sim in top_k:\n",
    "    print(i, \"(\", sim, \")\")\n",
    "    print(recipe_id_to_name[recipe_id])\n",
    "    print(recipe_id_to_ing[recipe_id])\n",
    "    print()\n",
    "    i += 1"
   ]
  },
  {
   "cell_type": "code",
   "execution_count": 27,
   "id": "14a49dd2",
   "metadata": {},
   "outputs": [
    {
     "data": {
      "text/plain": [
       "[(24822, 0.8328527658055862),\n",
       " (525779, 0.8315685773041676),\n",
       " (221786, 0.7857862457487965),\n",
       " (233698, 0.7857862457487965),\n",
       " (23239, 0.7668878577401667),\n",
       " (305692, 0.7622390042322245),\n",
       " (29211, 0.760246560080287),\n",
       " (20843, 0.7567656036754211),\n",
       " (8731, 0.7552504682595351),\n",
       " (419077, 0.7548709891388846)]"
      ]
     },
     "execution_count": 27,
     "metadata": {},
     "output_type": "execute_result"
    }
   ],
   "source": [
    "top_k"
   ]
  },
  {
   "cell_type": "code",
   "execution_count": null,
   "id": "44613990",
   "metadata": {},
   "outputs": [],
   "source": []
  }
 ],
 "metadata": {
  "kernelspec": {
   "display_name": "Python 3 (ipykernel)",
   "language": "python",
   "name": "python3"
  },
  "language_info": {
   "codemirror_mode": {
    "name": "ipython",
    "version": 3
   },
   "file_extension": ".py",
   "mimetype": "text/x-python",
   "name": "python",
   "nbconvert_exporter": "python",
   "pygments_lexer": "ipython3",
   "version": "3.9.7"
  }
 },
 "nbformat": 4,
 "nbformat_minor": 5
}
