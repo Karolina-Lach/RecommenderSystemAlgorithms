{
 "cells": [
  {
   "cell_type": "markdown",
   "id": "6bb31b77",
   "metadata": {},
   "source": [
    "# Imports"
   ]
  },
  {
   "cell_type": "code",
   "execution_count": 42,
   "id": "ddc86779",
   "metadata": {},
   "outputs": [],
   "source": [
    "import pandas as pd\n",
    "import pickle\n",
    "import sampling\n",
    "from collections import defaultdict\n",
    "from surprise import NormalPredictor\n",
    "from surprise.model_selection import train_test_split\n",
    "from surprise.model_selection import LeaveOneOut\n",
    "from surprise.model_selection import KFold\n",
    "from surprise import accuracy\n",
    "from surprise import Dataset\n",
    "from surprise import Reader\n",
    "import random\n",
    "from surprise import SVD, SVDpp, NMF\n",
    "from surprise.model_selection import GridSearchCV\n",
    "from surprise.model_selection import RandomizedSearchCV\n",
    "import os\n",
    "import numpy as np\n",
    "\n",
    "my_seed = 13\n",
    "random.seed(my_seed)"
   ]
  },
  {
   "cell_type": "markdown",
   "id": "1a9b80be",
   "metadata": {},
   "source": [
    "# Constants"
   ]
  },
  {
   "cell_type": "code",
   "execution_count": 3,
   "id": "6916508c",
   "metadata": {},
   "outputs": [],
   "source": [
    "RATINGS_SMALL = \"../EDA_files/ratings_small.parquet\"\n",
    "RECIPES_SMALL = \"../EDA_files/recipes_small.parquet\"\n",
    "INDEX_TO_RECIPE_OBJ = \"../EDA_files/index_to_recipe.obj\"\n",
    "RECIPE_TO_INDEX_OBJ = \"../EDA_files/recipe_to_index.obj\""
   ]
  },
  {
   "cell_type": "markdown",
   "id": "b407361f",
   "metadata": {},
   "source": [
    "# Load data\n"
   ]
  },
  {
   "cell_type": "code",
   "execution_count": 4,
   "id": "4976abcd",
   "metadata": {},
   "outputs": [],
   "source": [
    "recipes_small = pd.read_parquet(RECIPES_SMALL)\n",
    "ratings_small = pd.read_parquet(RATINGS_SMALL)"
   ]
  },
  {
   "cell_type": "code",
   "execution_count": 5,
   "id": "065898d8",
   "metadata": {},
   "outputs": [],
   "source": [
    "author_min_20 = sampling.get_rating_with_min_number(ratings_small, 20, col_name='AuthorId')\n",
    "recipe_min_20 = sampling.get_rating_with_min_number(ratings_small, 20, col_name='RecipeId')\n",
    "\n",
    "ratings_min_20 = author_min_20.merge(recipe_min_20, how='inner')"
   ]
  },
  {
   "cell_type": "code",
   "execution_count": 6,
   "id": "901ca4f3",
   "metadata": {},
   "outputs": [],
   "source": [
    "author_min_5 = sampling.get_rating_with_min_number(ratings_small, 5, col_name='AuthorId')\n",
    "author_min_40 = sampling.get_rating_with_min_number(ratings_small, 40, col_name='AuthorId')"
   ]
  },
  {
   "cell_type": "code",
   "execution_count": 32,
   "id": "c423b64f",
   "metadata": {},
   "outputs": [],
   "source": [
    "author_min_0 = sampling.get_rating_with_min_number(ratings_small, 0, col_name='AuthorId')"
   ]
  },
  {
   "cell_type": "markdown",
   "id": "c2af44b9",
   "metadata": {},
   "source": [
    "# Create surprise dataset"
   ]
  },
  {
   "cell_type": "code",
   "execution_count": 9,
   "id": "dbfcb1d8",
   "metadata": {},
   "outputs": [],
   "source": [
    "ratings_min_20_dataset = Dataset.load_from_df(ratings_min_20[['AuthorId', 'RecipeId', 'Rating']], Reader(rating_scale=(0, 5)))\n",
    "authors_min_20_dataset = Dataset.load_from_df(author_min_20[['AuthorId', 'RecipeId', 'Rating']], Reader(rating_scale=(0, 5)))\n",
    "all_ratings_dataset = Dataset.load_from_df(ratings_small[['AuthorId', 'RecipeId', 'Rating']], Reader(rating_scale=(0, 5)))"
   ]
  },
  {
   "cell_type": "code",
   "execution_count": 10,
   "id": "5b1ede42",
   "metadata": {},
   "outputs": [],
   "source": [
    "authors_min_5_dataset = Dataset.load_from_df(author_min_5[['AuthorId', 'RecipeId', 'Rating']], Reader(rating_scale=(0, 5)))\n",
    "authors_min_40_dataset = Dataset.load_from_df(author_min_40[['AuthorId', 'RecipeId', 'Rating']], Reader(rating_scale=(0, 5)))"
   ]
  },
  {
   "cell_type": "code",
   "execution_count": 13,
   "id": "204087b8",
   "metadata": {},
   "outputs": [],
   "source": [
    "ratings_train_set, ratings_test_set = train_test_split(ratings_min_20_dataset, train_size=0.8)\n",
    "authors_train_set, authors_test_set = train_test_split(authors_min_20_dataset, train_size=0.8)\n",
    "all_train_set, all_test_set = train_test_split(all_ratings_dataset, train_size=0.8)\n",
    "# full_trainset = user_item_ratings_dataset.build_full_trainset()\n",
    "# full_testset = full_trainset.build_testset()"
   ]
  },
  {
   "cell_type": "markdown",
   "id": "3fdea28e",
   "metadata": {},
   "source": [
    "# SVD algorithm"
   ]
  },
  {
   "cell_type": "markdown",
   "id": "63482482",
   "metadata": {},
   "source": [
    "Ocena jest wyznaczana jako:\n",
    "\n",
    "$$\\hat{r}_{ui}=\\mu + b_{u} + b_{i} + q_{i}^{T}p_{u}$$\n",
    "\n",
    "$\\mu$ - średnia ze wszystkich ocen\n",
    "\n",
    "$b_{u}$ - średnia ocen użytkownika $u$\n",
    "\n",
    "$b_{i}$ - średnia ocen przepisu $i$\n",
    "\n",
    "Algorytm wykorzystuje SGD do minimalizacji zregularyzowanego błędu kwadratowego:\n",
    "\n",
    "$$\\sum (r_{ui}-\\hat{r}_{ui})^2 + \\lambda(b_{i}^2+b_{u}^2 + ||q_{i}||^2 + ||p_{i}||^2)$$\n",
    "\n",
    "PARAMETRY:\n",
    "$n\\_factors$ - liczba współczynników w rozłożonej macierzy\n",
    "\n",
    "$n\\_epochs$ - liczba iteracji SGD\n",
    "\n",
    "$init\\_mean$ - średnia rozkładu normalnego wykorzystywanego do inicjalizacji\n",
    "\n",
    "$inid\\_std\\_dev$ - odchylenie standardowe rozkładu normalnego wykorzystywanego do inicjalizacji\n",
    "\n",
    "$lr\\_all$ - współczynnik uczenia wszystkich parametrów\n",
    "\n",
    "$reg\\_all$ - współćzynnik regularyzacji dla wszystkich parametrów\n",
    "\n",
    "$lr\\_bu$ - współczynnik uczenia $b_{u}$\n",
    "\n",
    "$lr\\_bi$ - współczynnik uczenia $b_{i}$\n",
    "\n",
    "$lr\\_pu$ - współczynnik uczenia $p_{u}$\n",
    "\n",
    "$lr\\_qi$ - współczynnik uczenia $q_{i}$\n",
    "\n",
    "$reg\\_bu$ - współczynnik regularyzacji $b_{u}$\n",
    "\n",
    "$reg\\_bi$ - współczynnik regularyzacji $b_{i}$\n",
    "\n",
    "$reg\\_pu$ - współczynnik regularyzacji $p_{u}$\n",
    "\n",
    "$reg\\_qi$ - współczynnik regularyzacji $q_{i}$"
   ]
  },
  {
   "cell_type": "code",
   "execution_count": 14,
   "id": "8e3e8e55",
   "metadata": {},
   "outputs": [],
   "source": [
    "rmse_per_num_of_min = {}"
   ]
  },
  {
   "cell_type": "markdown",
   "id": "d0107c74",
   "metadata": {},
   "source": [
    "## All ratings"
   ]
  },
  {
   "cell_type": "markdown",
   "id": "0f7cec0c",
   "metadata": {},
   "source": [
    "### Grid search\n",
    "\n",
    "Searching for best parameters of SVD algorithm for all ratings in the dataset. "
   ]
  },
  {
   "cell_type": "code",
   "execution_count": 18,
   "id": "31724ad2",
   "metadata": {},
   "outputs": [
    {
     "name": "stdout",
     "output_type": "stream",
     "text": [
      "Fitting...\n"
     ]
    },
    {
     "name": "stderr",
     "output_type": "stream",
     "text": [
      "[Parallel(n_jobs=-1)]: Using backend LokyBackend with 4 concurrent workers.\n",
      "[Parallel(n_jobs=-1)]: Done  24 tasks      | elapsed: 17.1min\n"
     ]
    },
    {
     "name": "stdout",
     "output_type": "stream",
     "text": [
      "Best RMSE score: 1.2210389820646907\n",
      "Best parameters: {'n_epochs': 100, 'n_factors': 10, 'lr_all': 0.001, 'reg_all': 0.1}\n",
      "Wall time: 2h 22min 42s\n"
     ]
    },
    {
     "name": "stderr",
     "output_type": "stream",
     "text": [
      "[Parallel(n_jobs=-1)]: Done 108 out of 108 | elapsed: 142.3min finished\n"
     ]
    }
   ],
   "source": [
    "%%time\n",
    "param_grid = {'n_epochs': [50, 100, 150], \n",
    "              'n_factors': [10, 20], \n",
    "              'lr_all': [0.001,  0.002], \n",
    "              'reg_all': [0.05, 0.08, 0.1] }\n",
    "\n",
    "gs = GridSearchCV(SVD, param_grid, measures=['rmse'], cv=3, joblib_verbose=3, n_jobs=-1)\n",
    "\n",
    "print(\"Fitting...\")\n",
    "gs.fit(all_ratings_dataset)\n",
    "\n",
    "# best RMSE score\n",
    "print(f\"Best RMSE score: {gs.best_score['rmse']}\")\n",
    "\n",
    "# combination of parameters that gave the best RMSE score\n",
    "print(f\"Best parameters: {gs.best_params['rmse']}\")\n",
    "\n",
    "results_df = pd.DataFrame.from_dict(gs.cv_results)\n",
    "\n",
    "algoSVD_all_best = gs.best_estimator['rmse']\n",
    "\n",
    "with open(\"../SVD/all_ratings/results_df.obj\", 'wb') as pickle_file:\n",
    "     pickle.dump(results_df, pickle_file)\n",
    "        \n",
    "with open(\"../SVD/all_ratings/SVD_best_model.obj\", 'wb') as pickle_file:\n",
    "     pickle.dump(algoSVD_all_best, pickle_file)\n",
    "        \n",
    "with open(\"../SVD/all_ratings/gridsearch_object.obj\", 'wb') as pickle_file:\n",
    "     pickle.dump(gs, pickle_file)"
   ]
  },
  {
   "cell_type": "markdown",
   "id": "baac4434",
   "metadata": {},
   "source": [
    "## Each user - min 5 ratings"
   ]
  },
  {
   "cell_type": "markdown",
   "id": "beaf35b2",
   "metadata": {},
   "source": [
    "### Grid search\n",
    "Searching for best parameters for dataset with min 5 ratings per user"
   ]
  },
  {
   "cell_type": "code",
   "execution_count": 21,
   "id": "093a9491",
   "metadata": {},
   "outputs": [
    {
     "name": "stdout",
     "output_type": "stream",
     "text": [
      "Fitting...\n"
     ]
    },
    {
     "name": "stderr",
     "output_type": "stream",
     "text": [
      "[Parallel(n_jobs=-1)]: Using backend LokyBackend with 4 concurrent workers.\n",
      "[Parallel(n_jobs=-1)]: Done  24 tasks      | elapsed: 13.2min\n",
      "[Parallel(n_jobs=-1)]: Done 120 tasks      | elapsed: 86.4min\n"
     ]
    },
    {
     "name": "stdout",
     "output_type": "stream",
     "text": [
      "Best RMSE score: 0.9351586063179143\n",
      "Best parameters: {'n_epochs': 100, 'n_factors': 10, 'lr_all': 0.001, 'reg_all': 0.08}\n",
      "Wall time: 5h 17min 13s\n"
     ]
    },
    {
     "name": "stderr",
     "output_type": "stream",
     "text": [
      "[Parallel(n_jobs=-1)]: Done 270 out of 270 | elapsed: 316.8min finished\n"
     ]
    }
   ],
   "source": [
    "%%time\n",
    "param_grid = {'n_epochs': [50, 100, 150], \n",
    "              'n_factors': [10, 15, 20], \n",
    "              'lr_all': [0.001, 0.005], \n",
    "              'reg_all': [0.02, 0.05, 0.08] }\n",
    "\n",
    "gs = GridSearchCV(SVD, param_grid, measures=['rmse'], cv=5, joblib_verbose=3, n_jobs=-1)\n",
    "\n",
    "print(\"Fitting...\")\n",
    "gs.fit(authors_min_5_dataset)\n",
    "\n",
    "# best RMSE score\n",
    "print(f\"Best RMSE score: {gs.best_score['rmse']}\")\n",
    "\n",
    "# combination of parameters that gave the best RMSE score\n",
    "print(f\"Best parameters: {gs.best_params['rmse']}\")\n",
    "\n",
    "results_df = pd.DataFrame.from_dict(gs.cv_results)\n",
    "\n",
    "algoSVD_author_min_5 = gs.best_estimator['rmse']\n",
    "\n",
    "with open(\"../SVD/author_min_5/results_df.obj\", 'wb') as pickle_file:\n",
    "     pickle.dump(results_df, pickle_file)\n",
    "        \n",
    "with open(\"../SVD/author_min_5/SVD_best_model.obj\", 'wb') as pickle_file:\n",
    "     pickle.dump(algoSVD_author_min_5, pickle_file)\n",
    "        \n",
    "with open(\"../SVD/author_min_5/gridsearch_object.obj\", 'wb') as pickle_file:\n",
    "     pickle.dump(gs, pickle_file)"
   ]
  },
  {
   "cell_type": "markdown",
   "id": "435230fe",
   "metadata": {},
   "source": [
    "## Each user - min 20 ratings"
   ]
  },
  {
   "cell_type": "markdown",
   "id": "3bf39819",
   "metadata": {},
   "source": [
    "### Grid search\n",
    "\n",
    "Searching for best parameters of SVD algorithms based on dataset where each user has at least 20 ratings"
   ]
  },
  {
   "cell_type": "code",
   "execution_count": 19,
   "id": "b4c417e1",
   "metadata": {},
   "outputs": [
    {
     "name": "stdout",
     "output_type": "stream",
     "text": [
      "Fitting...\n"
     ]
    },
    {
     "name": "stderr",
     "output_type": "stream",
     "text": [
      "[Parallel(n_jobs=-1)]: Using backend LokyBackend with 4 concurrent workers.\n",
      "[Parallel(n_jobs=-1)]: Done  24 tasks      | elapsed: 10.9min\n",
      "[Parallel(n_jobs=-1)]: Done 120 tasks      | elapsed: 71.8min\n"
     ]
    },
    {
     "name": "stdout",
     "output_type": "stream",
     "text": [
      "Best RMSE score: 0.8773034194006073\n",
      "Best parameters: {'n_epochs': 50, 'n_factors': 10, 'lr_all': 0.001, 'reg_all': 0.07}\n"
     ]
    },
    {
     "name": "stderr",
     "output_type": "stream",
     "text": [
      "[Parallel(n_jobs=-1)]: Done 270 out of 270 | elapsed: 260.8min finished\n"
     ]
    }
   ],
   "source": [
    "param_grid = {'n_epochs': [50, 100, 150], \n",
    "              'n_factors': [10, 15, 20], \n",
    "              'lr_all': [0.001, 0.005], \n",
    "              'reg_all': [0.02, 0.05, 0.07] }\n",
    "\n",
    "gs = GridSearchCV(SVD, param_grid, measures=['rmse'], cv=5, joblib_verbose=3, n_jobs=-1)\n",
    "\n",
    "print(\"Fitting...\")\n",
    "gs.fit(authors_min_20_dataset)\n",
    "\n",
    "# best RMSE score\n",
    "print(f\"Best RMSE score: {gs.best_score['rmse']}\")\n",
    "\n",
    "# combination of parameters that gave the best RMSE score\n",
    "print(f\"Best parameters: {gs.best_params['rmse']}\")\n",
    "\n",
    "results_df = pd.DataFrame.from_dict(gs.cv_results)\n",
    "\n",
    "algoSVD_author_min_20 = gs.best_estimator['rmse']\n",
    "\n",
    "with open(\"../SVD/author_min_20/results_df.obj\", 'wb') as pickle_file:\n",
    "     pickle.dump(results_df, pickle_file)\n",
    "        \n",
    "with open(\"../SVD/author_min_20/SVD_best_model.obj\", 'wb') as pickle_file:\n",
    "     pickle.dump(algoSVD_author_min_20, pickle_file)\n",
    "        \n",
    "with open(\"../SVD/author_min_20/gridsearch_object.obj\", 'wb') as pickle_file:\n",
    "     pickle.dump(gs, pickle_file)"
   ]
  },
  {
   "cell_type": "markdown",
   "id": "acd28071",
   "metadata": {},
   "source": [
    "#### Check reg_all"
   ]
  },
  {
   "cell_type": "code",
   "execution_count": 20,
   "id": "ed7a32b9",
   "metadata": {},
   "outputs": [
    {
     "name": "stdout",
     "output_type": "stream",
     "text": [
      "Fitting...\n"
     ]
    },
    {
     "name": "stderr",
     "output_type": "stream",
     "text": [
      "[Parallel(n_jobs=-1)]: Using backend LokyBackend with 4 concurrent workers.\n"
     ]
    },
    {
     "name": "stdout",
     "output_type": "stream",
     "text": [
      "Best RMSE score: 0.8771325518694285\n",
      "Best parameters: {'n_epochs': 50, 'n_factors': 10, 'lr_all': 0.001, 'reg_all': 0.08}\n",
      "Wall time: 7min 16s\n"
     ]
    },
    {
     "name": "stderr",
     "output_type": "stream",
     "text": [
      "[Parallel(n_jobs=-1)]: Done  15 out of  15 | elapsed:  6.9min finished\n"
     ]
    }
   ],
   "source": [
    "%%time\n",
    "param_grid = {'n_epochs': [50], \n",
    "              'n_factors': [10], \n",
    "              'lr_all': [0.001], \n",
    "              'reg_all': [0.07, 0.08, 0.1] }\n",
    "\n",
    "gs = GridSearchCV(SVD, param_grid, measures=['rmse'], cv=5, joblib_verbose=3, n_jobs=-1)\n",
    "\n",
    "print(\"Fitting...\")\n",
    "gs.fit(authors_min_20_dataset)\n",
    "\n",
    "# best RMSE score\n",
    "print(f\"Best RMSE score: {gs.best_score['rmse']}\")\n",
    "\n",
    "# combination of parameters that gave the best RMSE score\n",
    "print(f\"Best parameters: {gs.best_params['rmse']}\")\n",
    "\n",
    "results_df = pd.DataFrame.from_dict(gs.cv_results)\n",
    "\n",
    "algoSVD_author_min_20 = gs.best_estimator['rmse']\n",
    "\n",
    "with open(\"../SVD/author_min_20/results_df_reg.obj\", 'wb') as pickle_file:\n",
    "     pickle.dump(results_df, pickle_file)\n",
    "        \n",
    "with open(\"../SVD/author_min_20/SVD_best_model_reg.obj\", 'wb') as pickle_file:\n",
    "     pickle.dump(algoSVD_author_min_20, pickle_file)\n",
    "        \n",
    "with open(\"../SVD/author_min_20/gridsearch_object_reg.obj\", 'wb') as pickle_file:\n",
    "     pickle.dump(gs, pickle_file)"
   ]
  },
  {
   "cell_type": "markdown",
   "id": "cb08d2e0",
   "metadata": {},
   "source": [
    "## Each user - min 40 ratings"
   ]
  },
  {
   "cell_type": "markdown",
   "id": "8b3f8ccd",
   "metadata": {},
   "source": [
    "### Gridsearch"
   ]
  },
  {
   "cell_type": "code",
   "execution_count": 22,
   "id": "c2ad3acb",
   "metadata": {},
   "outputs": [
    {
     "name": "stdout",
     "output_type": "stream",
     "text": [
      "Fitting...\n"
     ]
    },
    {
     "name": "stderr",
     "output_type": "stream",
     "text": [
      "[Parallel(n_jobs=-1)]: Using backend LokyBackend with 4 concurrent workers.\n",
      "[Parallel(n_jobs=-1)]: Done  24 tasks      | elapsed:  9.9min\n",
      "[Parallel(n_jobs=-1)]: Done 120 tasks      | elapsed: 66.1min\n"
     ]
    },
    {
     "name": "stdout",
     "output_type": "stream",
     "text": [
      "Best RMSE score: 0.847676725842636\n",
      "Best parameters: {'n_epochs': 50, 'n_factors': 10, 'lr_all': 0.001, 'reg_all': 0.07}\n"
     ]
    },
    {
     "name": "stderr",
     "output_type": "stream",
     "text": [
      "[Parallel(n_jobs=-1)]: Done 270 out of 270 | elapsed: 240.7min finished\n"
     ]
    }
   ],
   "source": [
    "param_grid = {'n_epochs': [50, 100, 150], \n",
    "              'n_factors': [10, 15, 20], \n",
    "              'lr_all': [0.001, 0.005], \n",
    "              'reg_all': [0.02, 0.05, 0.07] }\n",
    "\n",
    "gs = GridSearchCV(SVD, param_grid, measures=['rmse'], cv=5, joblib_verbose=3, n_jobs=-1)\n",
    "\n",
    "print(\"Fitting...\")\n",
    "gs.fit(authors_min_40_dataset)\n",
    "\n",
    "# best RMSE score\n",
    "print(f\"Best RMSE score: {gs.best_score['rmse']}\")\n",
    "\n",
    "# combination of parameters that gave the best RMSE score\n",
    "print(f\"Best parameters: {gs.best_params['rmse']}\")\n",
    "\n",
    "results_df = pd.DataFrame.from_dict(gs.cv_results)\n",
    "\n",
    "algoSVD_author_min_40 = gs.best_estimator['rmse']\n",
    "\n",
    "with open(\"../SVD/author_min_40/results_df.obj\", 'wb') as pickle_file:\n",
    "     pickle.dump(results_df, pickle_file)\n",
    "        \n",
    "with open(\"../SVD/author_min_40/SVD_best_model.obj\", 'wb') as pickle_file:\n",
    "     pickle.dump(algoSVD_author_min_40, pickle_file)\n",
    "        \n",
    "with open(\"../SVD/author_min_40/gridsearch_object.obj\", 'wb') as pickle_file:\n",
    "     pickle.dump(gs, pickle_file)"
   ]
  },
  {
   "cell_type": "markdown",
   "id": "b4c6f11f",
   "metadata": {},
   "source": [
    "## RMSE based on number of min ratings"
   ]
  },
  {
   "cell_type": "code",
   "execution_count": 43,
   "id": "27d79efb",
   "metadata": {},
   "outputs": [
    {
     "name": "stdout",
     "output_type": "stream",
     "text": [
      "Creating dataset with min rating 0\n",
      "Initialize algorithm\n",
      "Create kfold split...\n",
      "RMSE for fold 1: 1.2202385085617704\n",
      "RMSE for fold 2: 1.2222583814580281\n",
      "RMSE for fold 3: 1.2230983388375285\n",
      "RMSE for fold 4: 1.2163192751550642\n",
      "RMSE for fold 5: 1.2179900549850615\n",
      "Mean RMSE: 1.2199809117994904\n",
      "\n",
      "Creating dataset with min rating 5\n",
      "Initialize algorithm\n",
      "Create kfold split...\n",
      "RMSE for fold 1: 0.9322900631911505\n",
      "RMSE for fold 2: 0.9357032087028943\n",
      "RMSE for fold 3: 0.9406698147765497\n",
      "RMSE for fold 4: 0.93754544791208\n",
      "RMSE for fold 5: 0.9357880707786516\n",
      "Mean RMSE: 0.9363993210722652\n",
      "\n",
      "Creating dataset with min rating 10\n",
      "Initialize algorithm\n",
      "Create kfold split...\n",
      "RMSE for fold 1: 0.9020364899216541\n",
      "RMSE for fold 2: 0.9040446345035779\n",
      "RMSE for fold 3: 0.904385010346579\n",
      "RMSE for fold 4: 0.9119118394381012\n",
      "RMSE for fold 5: 0.9045982436158848\n",
      "Mean RMSE: 0.9053952435651593\n",
      "\n",
      "Creating dataset with min rating 15\n",
      "Initialize algorithm\n",
      "Create kfold split...\n",
      "RMSE for fold 1: 0.8945829500687447\n",
      "RMSE for fold 2: 0.8837703235044113\n",
      "RMSE for fold 3: 0.8874619656641756\n",
      "RMSE for fold 4: 0.8859383686804178\n",
      "RMSE for fold 5: 0.8946301435391917\n",
      "Mean RMSE: 0.8892767502913882\n",
      "\n",
      "Creating dataset with min rating 20\n",
      "Initialize algorithm\n",
      "Create kfold split...\n",
      "RMSE for fold 1: 0.8767900703723636\n",
      "RMSE for fold 2: 0.8764663928029512\n",
      "RMSE for fold 3: 0.8785713662188307\n",
      "RMSE for fold 4: 0.8765326822675805\n",
      "RMSE for fold 5: 0.878272123304963\n",
      "Mean RMSE: 0.8773265269933377\n",
      "\n",
      "Creating dataset with min rating 25\n",
      "Initialize algorithm\n",
      "Create kfold split...\n",
      "RMSE for fold 1: 0.8725702192386792\n",
      "RMSE for fold 2: 0.8687912014979589\n",
      "RMSE for fold 3: 0.8665030809127118\n",
      "RMSE for fold 4: 0.868882263039869\n",
      "RMSE for fold 5: 0.8658807679545761\n",
      "Mean RMSE: 0.868525506528759\n",
      "\n",
      "Creating dataset with min rating 30\n",
      "Initialize algorithm\n",
      "Create kfold split...\n",
      "RMSE for fold 1: 0.862767986874542\n",
      "RMSE for fold 2: 0.8651590741052378\n",
      "RMSE for fold 3: 0.86412081886991\n",
      "RMSE for fold 4: 0.8526431479427781\n",
      "RMSE for fold 5: 0.859314277568409\n",
      "Mean RMSE: 0.8608010610721755\n",
      "\n",
      "Creating dataset with min rating 40\n",
      "Initialize algorithm\n",
      "Create kfold split...\n",
      "RMSE for fold 1: 0.8430836215013621\n",
      "RMSE for fold 2: 0.8527969679662449\n",
      "RMSE for fold 3: 0.8503106431101992\n",
      "RMSE for fold 4: 0.8457655275880424\n",
      "RMSE for fold 5: 0.8458797206145482\n",
      "Mean RMSE: 0.8475672961560793\n",
      "\n",
      "Creating dataset with min rating 50\n",
      "Initialize algorithm\n",
      "Create kfold split...\n",
      "RMSE for fold 1: 0.8368955076639368\n",
      "RMSE for fold 2: 0.837964134311788\n",
      "RMSE for fold 3: 0.8461463289342908\n",
      "RMSE for fold 4: 0.833169511613483\n",
      "RMSE for fold 5: 0.8265824670554405\n",
      "Mean RMSE: 0.8361515899157878\n",
      "\n",
      "Creating dataset with min rating 60\n",
      "Initialize algorithm\n",
      "Create kfold split...\n",
      "RMSE for fold 1: 0.8277561029486242\n",
      "RMSE for fold 2: 0.8299257285322303\n",
      "RMSE for fold 3: 0.826547737247764\n",
      "RMSE for fold 4: 0.8302771676811956\n",
      "RMSE for fold 5: 0.8320104617720767\n",
      "Mean RMSE: 0.8293034396363781\n",
      "\n",
      "Creating dataset with min rating 70\n",
      "Initialize algorithm\n",
      "Create kfold split...\n",
      "RMSE for fold 1: 0.8181941123314238\n",
      "RMSE for fold 2: 0.8151562009311146\n",
      "RMSE for fold 3: 0.8293662983593063\n",
      "RMSE for fold 4: 0.8266310159044529\n",
      "RMSE for fold 5: 0.8255420763868629\n",
      "Mean RMSE: 0.8229779407826321\n",
      "\n",
      "Creating dataset with min rating 80\n",
      "Initialize algorithm\n",
      "Create kfold split...\n",
      "RMSE for fold 1: 0.8115690436482065\n",
      "RMSE for fold 2: 0.8156368483728758\n",
      "RMSE for fold 3: 0.8214798606040576\n",
      "RMSE for fold 4: 0.8221908227021991\n",
      "RMSE for fold 5: 0.8171773505745977\n",
      "Mean RMSE: 0.8176107851803873\n",
      "\n",
      "Creating dataset with min rating 90\n",
      "Initialize algorithm\n",
      "Create kfold split...\n",
      "RMSE for fold 1: 0.8185451336417839\n",
      "RMSE for fold 2: 0.8134467174919676\n",
      "RMSE for fold 3: 0.8153872080381193\n",
      "RMSE for fold 4: 0.8122420066983325\n",
      "RMSE for fold 5: 0.8053046930678293\n",
      "Mean RMSE: 0.8129851517876064\n",
      "\n",
      "Creating dataset with min rating 100\n",
      "Initialize algorithm\n",
      "Create kfold split...\n",
      "RMSE for fold 1: 0.8138998079773033\n",
      "RMSE for fold 2: 0.8068780579633323\n",
      "RMSE for fold 3: 0.8069973003687201\n",
      "RMSE for fold 4: 0.7997375442439265\n",
      "RMSE for fold 5: 0.8040064598758309\n",
      "Mean RMSE: 0.8063038340858226\n",
      "\n",
      "Wall time: 1h 29min 8s\n"
     ]
    }
   ],
   "source": [
    "%%time\n",
    "n_factors = 10\n",
    "n_epochs = 50\n",
    "init_mean= 0\n",
    "init_std_dev = 0.1\n",
    "lr_all = 0.001\n",
    "reg_all = 0.08\n",
    "\n",
    "rmse_per_num_of_min = {}\n",
    "\n",
    "for i in list(range(0, 35,5)) +list(range(40, 110, 10)):\n",
    "    \n",
    "    print(f\"Creating dataset with min rating {i}\")\n",
    "    author_min = sampling.get_rating_with_min_number(ratings_small, i, col_name='AuthorId')    \n",
    "    authors_min_dataset = Dataset.load_from_df(author_min[['AuthorId', 'RecipeId', 'Rating']], Reader(rating_scale=(0, 5))) \n",
    "\n",
    "    print(f\"Initialize algorithm\")\n",
    "    algoSVD_min = SVD(n_factors=n_factors,\n",
    "                  n_epochs=n_epochs, \n",
    "                  init_mean=init_mean,\n",
    "                  init_std_dev = init_std_dev,\n",
    "                  lr_all = lr_all,\n",
    "                  reg_all = reg_all)\n",
    "\n",
    "    print(f\"Create kfold split...\")\n",
    "    j = 1\n",
    "    kf = KFold(n_splits=5)\n",
    "    rmses = []\n",
    "    for trainset, testset in kf.split(authors_min_dataset):\n",
    "        algoSVD_min.fit(trainset)\n",
    "        predictions = algoSVD_min.test(testset)\n",
    "        \n",
    "        print(f\"RMSE for fold {j}: {accuracy.rmse(predictions, verbose=False)}\")\n",
    "        rmses.append(accuracy.rmse(predictions, verbose=False))\n",
    "        j = j + 1\n",
    "\n",
    "    rmse_per_num_of_min[i] = np.mean(rmses)\n",
    "    print(f\"Mean RMSE: {np.mean(rmses)}\")\n",
    "    print()"
   ]
  },
  {
   "cell_type": "code",
   "execution_count": 44,
   "id": "f7aded86",
   "metadata": {},
   "outputs": [
    {
     "data": {
      "text/plain": [
       "{0: 1.2199809117994904,\n",
       " 5: 0.9363993210722652,\n",
       " 10: 0.9053952435651593,\n",
       " 15: 0.8892767502913882,\n",
       " 20: 0.8773265269933377,\n",
       " 25: 0.868525506528759,\n",
       " 30: 0.8608010610721755,\n",
       " 40: 0.8475672961560793,\n",
       " 50: 0.8361515899157878,\n",
       " 60: 0.8293034396363781,\n",
       " 70: 0.8229779407826321,\n",
       " 80: 0.8176107851803873,\n",
       " 90: 0.8129851517876064,\n",
       " 100: 0.8063038340858226}"
      ]
     },
     "execution_count": 44,
     "metadata": {},
     "output_type": "execute_result"
    }
   ],
   "source": [
    "rmse_per_num_of_min"
   ]
  },
  {
   "cell_type": "code",
   "execution_count": 45,
   "id": "04a76174",
   "metadata": {},
   "outputs": [],
   "source": [
    "with open('../SVD/rmse_per_num_of_min.obj', 'wb') as pickle_file:\n",
    "     pickle.dump(rmse_per_num_of_min, pickle_file)"
   ]
  }
 ],
 "metadata": {
  "kernelspec": {
   "display_name": "Python 3 (ipykernel)",
   "language": "python",
   "name": "python3"
  },
  "language_info": {
   "codemirror_mode": {
    "name": "ipython",
    "version": 3
   },
   "file_extension": ".py",
   "mimetype": "text/x-python",
   "name": "python",
   "nbconvert_exporter": "python",
   "pygments_lexer": "ipython3",
   "version": "3.9.7"
  }
 },
 "nbformat": 4,
 "nbformat_minor": 5
}
