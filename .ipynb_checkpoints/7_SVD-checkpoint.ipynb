{
 "cells": [
  {
   "cell_type": "markdown",
   "id": "6bb31b77",
   "metadata": {},
   "source": [
    "# Imports"
   ]
  },
  {
   "cell_type": "code",
   "execution_count": 2,
   "id": "ddc86779",
   "metadata": {},
   "outputs": [],
   "source": [
    "import pandas as pd\n",
    "import pickle\n",
    "import sampling\n",
    "from collections import defaultdict\n",
    "from surprise import NormalPredictor\n",
    "from surprise.model_selection import train_test_split\n",
    "from surprise.model_selection import LeaveOneOut\n",
    "from surprise.model_selection import KFold\n",
    "from surprise import accuracy\n",
    "from surprise import Dataset\n",
    "from surprise import Reader\n",
    "import random\n",
    "from surprise import SVD, SVDpp, NMF\n",
    "from surprise.model_selection import GridSearchCV\n",
    "from surprise.model_selection import RandomizedSearchCV\n",
    "my_seed = 13\n",
    "random.seed(my_seed)"
   ]
  },
  {
   "cell_type": "markdown",
   "id": "1a9b80be",
   "metadata": {},
   "source": [
    "# Constants"
   ]
  },
  {
   "cell_type": "code",
   "execution_count": 3,
   "id": "6916508c",
   "metadata": {},
   "outputs": [],
   "source": [
    "RATINGS_SMALL = \"../EDA_files/ratings_small.parquet\"\n",
    "RECIPES_SMALL = \"../EDA_files/recipes_small.parquet\"\n",
    "INDEX_TO_RECIPE_OBJ = \"../EDA_files/index_to_recipe.obj\"\n",
    "RECIPE_TO_INDEX_OBJ = \"../EDA_files/recipe_to_index.obj\""
   ]
  },
  {
   "cell_type": "markdown",
   "id": "b407361f",
   "metadata": {},
   "source": [
    "# Load data\n"
   ]
  },
  {
   "cell_type": "code",
   "execution_count": 4,
   "id": "4976abcd",
   "metadata": {},
   "outputs": [],
   "source": [
    "recipes_small = pd.read_parquet(RECIPES_SMALL)\n",
    "ratings_small = pd.read_parquet(RATINGS_SMALL)"
   ]
  },
  {
   "cell_type": "code",
   "execution_count": 5,
   "id": "065898d8",
   "metadata": {},
   "outputs": [],
   "source": [
    "author_min_20 = sampling.get_rating_with_min_number(ratings_small, 20, col_name='AuthorId')\n",
    "recipe_min_20 = sampling.get_rating_with_min_number(ratings_small, 20, col_name='RecipeId')\n",
    "\n",
    "ratings_min_20 = author_min_20.merge(recipe_min_20, how='inner')"
   ]
  },
  {
   "cell_type": "code",
   "execution_count": 42,
   "id": "901ca4f3",
   "metadata": {},
   "outputs": [],
   "source": [
    "author_min_5 = sampling.get_rating_with_min_number(ratings_small, 5, col_name='AuthorId')\n",
    "author_min_10 = sampling.get_rating_with_min_number(ratings_small, 10, col_name='AuthorId')\n",
    "author_min_15 = sampling.get_rating_with_min_number(ratings_small, 15, col_name='AuthorId')\n",
    "author_min_25 = sampling.get_rating_with_min_number(ratings_small, 25, col_name='AuthorId')\n",
    "author_min_30 = sampling.get_rating_with_min_number(ratings_small, 30, col_name='AuthorId')"
   ]
  },
  {
   "cell_type": "code",
   "execution_count": 55,
   "id": "ced649f4",
   "metadata": {},
   "outputs": [],
   "source": [
    "author_min_40 = sampling.get_rating_with_min_number(ratings_small, 40, col_name='AuthorId')"
   ]
  },
  {
   "cell_type": "code",
   "execution_count": 61,
   "id": "2d6852d5",
   "metadata": {},
   "outputs": [],
   "source": [
    "author_min_50 = sampling.get_rating_with_min_number(ratings_small, 50, col_name='AuthorId')"
   ]
  },
  {
   "cell_type": "markdown",
   "id": "c2af44b9",
   "metadata": {},
   "source": [
    "# Create surprise dataset"
   ]
  },
  {
   "cell_type": "code",
   "execution_count": 6,
   "id": "dbfcb1d8",
   "metadata": {},
   "outputs": [],
   "source": [
    "ratings_min_20_dataset = Dataset.load_from_df(ratings_min_20[['AuthorId', 'RecipeId', 'Rating']], Reader(rating_scale=(0, 5)))\n",
    "authors_min_20_dataset = Dataset.load_from_df(author_min_20[['AuthorId', 'RecipeId', 'Rating']], Reader(rating_scale=(0, 5)))\n",
    "all_ratings_dataset = Dataset.load_from_df(ratings_small[['AuthorId', 'RecipeId', 'Rating']], Reader(rating_scale=(0, 5)))"
   ]
  },
  {
   "cell_type": "code",
   "execution_count": 48,
   "id": "5b1ede42",
   "metadata": {},
   "outputs": [],
   "source": [
    "authors_min_5_dataset = Dataset.load_from_df(author_min_5[['AuthorId', 'RecipeId', 'Rating']], Reader(rating_scale=(0, 5)))\n",
    "authors_min_10_dataset = Dataset.load_from_df(author_min_10[['AuthorId', 'RecipeId', 'Rating']], Reader(rating_scale=(0, 5)))\n",
    "authors_min_15_dataset = Dataset.load_from_df(author_min_15[['AuthorId', 'RecipeId', 'Rating']], Reader(rating_scale=(0, 5)))\n",
    "authors_min_25_dataset = Dataset.load_from_df(author_min_25[['AuthorId', 'RecipeId', 'Rating']], Reader(rating_scale=(0, 5)))\n",
    "authors_min_30_dataset = Dataset.load_from_df(author_min_30[['AuthorId', 'RecipeId', 'Rating']], Reader(rating_scale=(0, 5)))\n"
   ]
  },
  {
   "cell_type": "code",
   "execution_count": 58,
   "id": "fef4626c",
   "metadata": {},
   "outputs": [],
   "source": [
    "authors_min_40_dataset = Dataset.load_from_df(author_min_40[['AuthorId', 'RecipeId', 'Rating']], Reader(rating_scale=(0, 5)))"
   ]
  },
  {
   "cell_type": "code",
   "execution_count": 62,
   "id": "97873df9",
   "metadata": {},
   "outputs": [],
   "source": [
    "authors_min_50_dataset = Dataset.load_from_df(author_min_50[['AuthorId', 'RecipeId', 'Rating']], Reader(rating_scale=(0, 5)))"
   ]
  },
  {
   "cell_type": "code",
   "execution_count": 7,
   "id": "204087b8",
   "metadata": {},
   "outputs": [],
   "source": [
    "ratings_train_set, ratings_test_set = train_test_split(ratings_min_20_dataset, train_size=0.8)\n",
    "authors_train_set, authors_test_set = train_test_split(authors_min_20_dataset, train_size=0.8)\n",
    "all_train_set, all_test_set = train_test_split(all_ratings_dataset, train_size=0.8)\n",
    "# full_trainset = user_item_ratings_dataset.build_full_trainset()\n",
    "# full_testset = full_trainset.build_testset()"
   ]
  },
  {
   "cell_type": "markdown",
   "id": "3fdea28e",
   "metadata": {},
   "source": [
    "# SVD algorithm"
   ]
  },
  {
   "cell_type": "markdown",
   "id": "63482482",
   "metadata": {},
   "source": [
    "Ocena jest wyznaczana jako:\n",
    "\n",
    "$$\\hat{r}_{ui}=\\mu + b_{u} + b_{i} + q_{i}^{T}p_{u}$$\n",
    "\n",
    "$\\mu$ - średnia ze wszystkich ocen\n",
    "\n",
    "$b_{u}$ - średnia ocen użytkownika $u$\n",
    "\n",
    "$b_{i}$ - średnia ocen przepisu $i$\n",
    "\n",
    "Algorytm wykorzystuje SGD do minimalizacji zregularyzowanego błędu kwadratowego:\n",
    "\n",
    "$$\\sum (r_{ui}-\\hat{r}_{ui})^2 + \\lambda(b_{i}^2+b_{u}^2 + ||q_{i}||^2 + ||p_{i}||^2)$$\n",
    "\n",
    "PARAMETRY:\n",
    "$n\\_factors$ - liczba współczynników w rozłożonej macierzy\n",
    "\n",
    "$n\\_epochs$ - liczba iteracji SGD\n",
    "\n",
    "$init\\_mean$ - średnia rozkładu normalnego wykorzystywanego do inicjalizacji\n",
    "\n",
    "$inid\\_std\\_dev$ - odchylenie standardowe rozkładu normalnego wykorzystywanego do inicjalizacji\n",
    "\n",
    "$lr\\_all$ - współczynnik uczenia wszystkich parametrów\n",
    "\n",
    "$reg\\_all$ - współćzynnik regularyzacji dla wszystkich parametrów\n",
    "\n",
    "$lr\\_bu$ - współczynnik uczenia $b_{u}$\n",
    "\n",
    "$lr\\_bi$ - współczynnik uczenia $b_{i}$\n",
    "\n",
    "$lr\\_pu$ - współczynnik uczenia $p_{u}$\n",
    "\n",
    "$lr\\_qi$ - współczynnik uczenia $q_{i}$\n",
    "\n",
    "$reg\\_bu$ - współczynnik regularyzacji $b_{u}$\n",
    "\n",
    "$reg\\_bi$ - współczynnik regularyzacji $b_{i}$\n",
    "\n",
    "$reg\\_pu$ - współczynnik regularyzacji $p_{u}$\n",
    "\n",
    "$reg\\_qi$ - współczynnik regularyzacji $q_{i}$"
   ]
  },
  {
   "cell_type": "code",
   "execution_count": 68,
   "id": "8e3e8e55",
   "metadata": {},
   "outputs": [],
   "source": [
    "rmse_per_num_of_min = {}"
   ]
  },
  {
   "cell_type": "markdown",
   "id": "d0107c74",
   "metadata": {},
   "source": [
    "## All ratings"
   ]
  },
  {
   "cell_type": "code",
   "execution_count": 64,
   "id": "31724ad2",
   "metadata": {},
   "outputs": [
    {
     "name": "stdout",
     "output_type": "stream",
     "text": [
      "1.2208013623900709\n",
      "{'n_epochs': 100, 'n_factors': 10, 'lr_all': 0.001, 'reg_all': 0.08}\n"
     ]
    }
   ],
   "source": [
    "param_grid = {'n_epochs': [50, 100, 150], \n",
    "              'n_factors': [10, 20], \n",
    "              'lr_all': [0.0005, 0.001], \n",
    "              'reg_all': [0.05, 0.08] }\n",
    "gs = GridSearchCV(SVD, param_grid, measures=['rmse'], cv=3)\n",
    "gs.fit(all_ratings_dataset)\n",
    "\n",
    "# best RMSE score\n",
    "print(gs.best_score['rmse'])\n",
    "\n",
    "# combination of parameters that gave the best RMSE score\n",
    "print(gs.best_params['rmse'])\n",
    "results_df = pd.DataFrame.from_dict(gs.cv_results)\n",
    "\n",
    "algoSVD_all_best = gs.best_estimator['rmse']\n",
    "# algoSVD.fit(authors_train_set)\n",
    "\n",
    "# predictions = algoSVD.test(authors_test_set)"
   ]
  },
  {
   "cell_type": "code",
   "execution_count": 65,
   "id": "4df15454",
   "metadata": {},
   "outputs": [],
   "source": [
    "n_factors = 10\n",
    "n_epochs = 100\n",
    "init_mean= 0\n",
    "init_std_dev = 0.1\n",
    "lr_all = 0.001\n",
    "reg_all = 0.08\n",
    "algoSVD_all = SVD(n_factors=n_factors,\n",
    "              n_epochs=n_epochs, \n",
    "              init_mean=init_mean,\n",
    "              init_std_dev = init_std_dev,\n",
    "              lr_all = lr_all,\n",
    "              reg_all = reg_all)"
   ]
  },
  {
   "cell_type": "code",
   "execution_count": 66,
   "id": "b21dabe2",
   "metadata": {},
   "outputs": [
    {
     "name": "stdout",
     "output_type": "stream",
     "text": [
      "RMSE: 1.2160\n",
      "RMSE: 1.2188\n",
      "RMSE: 1.2178\n",
      "RMSE: 1.2187\n",
      "RMSE: 1.2172\n"
     ]
    }
   ],
   "source": [
    "kf = KFold(n_splits=5)\n",
    "rmses = []\n",
    "for trainset, testset in kf.split(all_ratings_dataset):\n",
    "\n",
    "    # train and test algorithm.\n",
    "    algoSVD_all.fit(trainset)\n",
    "    predictions = algoSVD_all.test(testset)\n",
    "\n",
    "    # Compute and print Root Mean Squared Error\n",
    "    rmses.append(accuracy.rmse(predictions, verbose=True))"
   ]
  },
  {
   "cell_type": "code",
   "execution_count": 69,
   "id": "75a0680a",
   "metadata": {},
   "outputs": [],
   "source": [
    "rmse_per_num_of_min[0] = np.mean(rmses)"
   ]
  },
  {
   "cell_type": "markdown",
   "id": "435230fe",
   "metadata": {},
   "source": [
    "## Ratings author min 20"
   ]
  },
  {
   "cell_type": "code",
   "execution_count": 12,
   "id": "b4c417e1",
   "metadata": {},
   "outputs": [
    {
     "name": "stdout",
     "output_type": "stream",
     "text": [
      "0.8773073112350238\n",
      "{'n_epochs': 50, 'n_factors': 10, 'lr_all': 0.001, 'reg_all': 0.05}\n"
     ]
    }
   ],
   "source": [
    "param_grid = {'n_epochs': [50, 100, 150], 'n_factors': [10, 15, 20], 'lr_all': [0.001, 0.005, 0.0007], 'reg_all': [0.01, 0.02, 0.05] }\n",
    "gs = GridSearchCV(SVD, param_grid, measures=['rmse'], cv=5)\n",
    "gs.fit(authors_min_20_dataset)\n",
    "\n",
    "# best RMSE score\n",
    "print(gs.best_score['rmse'])\n",
    "\n",
    "# combination of parameters that gave the best RMSE score\n",
    "print(gs.best_params['rmse'])\n",
    "results_df = pd.DataFrame.from_dict(gs.cv_results)\n",
    "\n",
    "algoSVD = gs.best_estimator['rmse']\n",
    "algoSVD.fit(authors_train_set)\n",
    "\n",
    "predictions = algoSVD.test(authors_test_set)"
   ]
  },
  {
   "cell_type": "code",
   "execution_count": 26,
   "id": "ed7a32b9",
   "metadata": {},
   "outputs": [],
   "source": [
    "n_factors = 10\n",
    "n_epochs = 150\n",
    "init_mean= 0\n",
    "init_std_dev = 0.1\n",
    "lr_all = 0.0005\n",
    "reg_all = 0.07\n",
    "algoSVD = SVD(n_factors=n_factors,\n",
    "              n_epochs=n_epochs, \n",
    "              init_mean=init_mean,\n",
    "              init_std_dev = init_std_dev,\n",
    "              lr_all = lr_all,\n",
    "              reg_all = reg_all)"
   ]
  },
  {
   "cell_type": "code",
   "execution_count": 35,
   "id": "ab91a55b",
   "metadata": {},
   "outputs": [],
   "source": [
    "algoSVD.fit(authors_train_set)\n",
    "\n",
    "predictions = algoSVD.test(authors_test_set)"
   ]
  },
  {
   "cell_type": "code",
   "execution_count": 32,
   "id": "324efcde",
   "metadata": {},
   "outputs": [
    {
     "name": "stdout",
     "output_type": "stream",
     "text": [
      "RMSE: 0.8806\n",
      "RMSE: 0.8680\n",
      "RMSE: 0.8782\n",
      "RMSE: 0.8851\n",
      "RMSE: 0.8740\n"
     ]
    }
   ],
   "source": [
    "kf = KFold(n_splits=5)\n",
    "for trainset, testset in kf.split(authors_min_20_dataset):\n",
    "\n",
    "    # train and test algorithm.\n",
    "    algoSVD.fit(trainset)\n",
    "    predictions = algoSVD.test(testset)\n",
    "\n",
    "    # Compute and print Root Mean Squared Error\n",
    "    accuracy.rmse(predictions, verbose=True)"
   ]
  },
  {
   "cell_type": "code",
   "execution_count": 70,
   "id": "73778b8b",
   "metadata": {},
   "outputs": [],
   "source": [
    "rmse_per_num_of_min[20] = np.mean([0.8806, 0.8680, 0.8782, 0.8851, 0.8740])"
   ]
  },
  {
   "cell_type": "markdown",
   "id": "baac4434",
   "metadata": {},
   "source": [
    "# Ratings author min 5"
   ]
  },
  {
   "cell_type": "code",
   "execution_count": 45,
   "id": "89d2f2c2",
   "metadata": {},
   "outputs": [],
   "source": [
    "n_factors = 10\n",
    "n_epochs = 150\n",
    "init_mean= 0\n",
    "init_std_dev = 0.1\n",
    "lr_all = 0.0005\n",
    "reg_all = 0.07\n",
    "algoSVD_5 = SVD(n_factors=n_factors,\n",
    "              n_epochs=n_epochs, \n",
    "              init_mean=init_mean,\n",
    "              init_std_dev = init_std_dev,\n",
    "              lr_all = lr_all,\n",
    "              reg_all = reg_all)"
   ]
  },
  {
   "cell_type": "code",
   "execution_count": 49,
   "id": "f084626b",
   "metadata": {},
   "outputs": [
    {
     "name": "stdout",
     "output_type": "stream",
     "text": [
      "RMSE: 0.9410\n",
      "RMSE: 0.9374\n",
      "RMSE: 0.9375\n",
      "RMSE: 0.9293\n",
      "RMSE: 0.9313\n"
     ]
    }
   ],
   "source": [
    "kf = KFold(n_splits=5)\n",
    "rmses_5 = []\n",
    "for trainset, testset in kf.split(authors_min_5_dataset):\n",
    "\n",
    "    # train and test algorithm.\n",
    "    algoSVD_5.fit(trainset)\n",
    "    predictions = algoSVD_5.test(testset)\n",
    "\n",
    "    # Compute and print Root Mean Squared Error\n",
    "    rmses_5.append(accuracy.rmse(predictions, verbose=True))"
   ]
  },
  {
   "cell_type": "code",
   "execution_count": 71,
   "id": "d3276292",
   "metadata": {},
   "outputs": [],
   "source": [
    "rmse_per_num_of_min[5] = np.mean(rmses_5)"
   ]
  },
  {
   "cell_type": "markdown",
   "id": "cb08d2e0",
   "metadata": {},
   "source": [
    "# Ratings author min 10"
   ]
  },
  {
   "cell_type": "code",
   "execution_count": 51,
   "id": "c2ad3acb",
   "metadata": {},
   "outputs": [
    {
     "name": "stdout",
     "output_type": "stream",
     "text": [
      "RMSE: 0.8995\n",
      "RMSE: 0.9050\n",
      "RMSE: 0.9104\n",
      "RMSE: 0.9023\n",
      "RMSE: 0.9065\n"
     ]
    },
    {
     "data": {
      "text/plain": [
       "0.9047183380297661"
      ]
     },
     "execution_count": 51,
     "metadata": {},
     "output_type": "execute_result"
    }
   ],
   "source": [
    "n_factors = 10\n",
    "n_epochs = 150\n",
    "init_mean= 0\n",
    "init_std_dev = 0.1\n",
    "lr_all = 0.0005\n",
    "reg_all = 0.07\n",
    "algoSVD_10 = SVD(n_factors=n_factors,\n",
    "              n_epochs=n_epochs, \n",
    "              init_mean=init_mean,\n",
    "              init_std_dev = init_std_dev,\n",
    "              lr_all = lr_all,\n",
    "              reg_all = reg_all)\n",
    "\n",
    "kf = KFold(n_splits=5)\n",
    "rmses_10 = []\n",
    "for trainset, testset in kf.split(authors_min_10_dataset):\n",
    "\n",
    "    # train and test algorithm.\n",
    "    algoSVD_10.fit(trainset)\n",
    "    predictions = algoSVD_10.test(testset)\n",
    "\n",
    "    # Compute and print Root Mean Squared Error\n",
    "    rmses_10.append(accuracy.rmse(predictions, verbose=True))\n",
    "    \n",
    "np.mean(rmses_10)"
   ]
  },
  {
   "cell_type": "code",
   "execution_count": 72,
   "id": "18bbc736",
   "metadata": {},
   "outputs": [],
   "source": [
    "rmse_per_num_of_min[10] = np.mean(rmses_10)"
   ]
  },
  {
   "cell_type": "markdown",
   "id": "b4c6f11f",
   "metadata": {},
   "source": [
    "# Ratings author min 15"
   ]
  },
  {
   "cell_type": "code",
   "execution_count": 52,
   "id": "27d79efb",
   "metadata": {},
   "outputs": [
    {
     "name": "stdout",
     "output_type": "stream",
     "text": [
      "RMSE: 0.8893\n",
      "RMSE: 0.8842\n",
      "RMSE: 0.8943\n",
      "RMSE: 0.8906\n",
      "RMSE: 0.8880\n"
     ]
    },
    {
     "data": {
      "text/plain": [
       "0.8892745668110991"
      ]
     },
     "execution_count": 52,
     "metadata": {},
     "output_type": "execute_result"
    }
   ],
   "source": [
    "n_factors = 10\n",
    "n_epochs = 150\n",
    "init_mean= 0\n",
    "init_std_dev = 0.1\n",
    "lr_all = 0.0005\n",
    "reg_all = 0.07\n",
    "algoSVD_15 = SVD(n_factors=n_factors,\n",
    "              n_epochs=n_epochs, \n",
    "              init_mean=init_mean,\n",
    "              init_std_dev = init_std_dev,\n",
    "              lr_all = lr_all,\n",
    "              reg_all = reg_all)\n",
    "\n",
    "kf = KFold(n_splits=5)\n",
    "rmses_15 = []\n",
    "for trainset, testset in kf.split(authors_min_15_dataset):\n",
    "\n",
    "    # train and test algorithm.\n",
    "    algoSVD_15.fit(trainset)\n",
    "    predictions = algoSVD_15.test(testset)\n",
    "\n",
    "    # Compute and print Root Mean Squared Error\n",
    "    rmses_15.append(accuracy.rmse(predictions, verbose=True))\n",
    "    \n",
    "np.mean(rmses_15)"
   ]
  },
  {
   "cell_type": "code",
   "execution_count": 73,
   "id": "55eed6ac",
   "metadata": {},
   "outputs": [],
   "source": [
    "rmse_per_num_of_min[15] = np.mean(rmses_15)"
   ]
  },
  {
   "cell_type": "markdown",
   "id": "0e4ce1ac",
   "metadata": {},
   "source": [
    "# 25"
   ]
  },
  {
   "cell_type": "code",
   "execution_count": 53,
   "id": "7f04f67b",
   "metadata": {},
   "outputs": [
    {
     "name": "stdout",
     "output_type": "stream",
     "text": [
      "RMSE: 0.8773\n",
      "RMSE: 0.8550\n",
      "RMSE: 0.8732\n",
      "RMSE: 0.8663\n",
      "RMSE: 0.8716\n"
     ]
    },
    {
     "data": {
      "text/plain": [
       "0.868672156609982"
      ]
     },
     "execution_count": 53,
     "metadata": {},
     "output_type": "execute_result"
    }
   ],
   "source": [
    "n_factors = 10\n",
    "n_epochs = 150\n",
    "init_mean= 0\n",
    "init_std_dev = 0.1\n",
    "lr_all = 0.0005\n",
    "reg_all = 0.07\n",
    "algoSVD_25 = SVD(n_factors=n_factors,\n",
    "              n_epochs=n_epochs, \n",
    "              init_mean=init_mean,\n",
    "              init_std_dev = init_std_dev,\n",
    "              lr_all = lr_all,\n",
    "              reg_all = reg_all)\n",
    "\n",
    "kf = KFold(n_splits=5)\n",
    "rmses_25 = []\n",
    "for trainset, testset in kf.split(authors_min_25_dataset):\n",
    "\n",
    "    # train and test algorithm.\n",
    "    algoSVD_25.fit(trainset)\n",
    "    predictions = algoSVD_25.test(testset)\n",
    "\n",
    "    # Compute and print Root Mean Squared Error\n",
    "    rmses_25.append(accuracy.rmse(predictions, verbose=True))\n",
    "    \n",
    "np.mean(rmses_25)"
   ]
  },
  {
   "cell_type": "code",
   "execution_count": 74,
   "id": "7fa21e50",
   "metadata": {},
   "outputs": [],
   "source": [
    "rmse_per_num_of_min[25] = np.mean(rmses_25)"
   ]
  },
  {
   "cell_type": "markdown",
   "id": "e8979650",
   "metadata": {},
   "source": [
    "# 30"
   ]
  },
  {
   "cell_type": "code",
   "execution_count": 54,
   "id": "95b02430",
   "metadata": {},
   "outputs": [
    {
     "name": "stdout",
     "output_type": "stream",
     "text": [
      "RMSE: 0.8654\n",
      "RMSE: 0.8606\n",
      "RMSE: 0.8549\n",
      "RMSE: 0.8595\n",
      "RMSE: 0.8643\n"
     ]
    },
    {
     "data": {
      "text/plain": [
       "0.8609516438172335"
      ]
     },
     "execution_count": 54,
     "metadata": {},
     "output_type": "execute_result"
    }
   ],
   "source": [
    "n_factors = 10\n",
    "n_epochs = 150\n",
    "init_mean= 0\n",
    "init_std_dev = 0.1\n",
    "lr_all = 0.0005\n",
    "reg_all = 0.07\n",
    "algoSVD_30 = SVD(n_factors=n_factors,\n",
    "              n_epochs=n_epochs, \n",
    "              init_mean=init_mean,\n",
    "              init_std_dev = init_std_dev,\n",
    "              lr_all = lr_all,\n",
    "              reg_all = reg_all)\n",
    "\n",
    "kf = KFold(n_splits=5)\n",
    "rmses_30 = []\n",
    "for trainset, testset in kf.split(authors_min_30_dataset):\n",
    "\n",
    "    # train and test algorithm.\n",
    "    algoSVD_30.fit(trainset)\n",
    "    predictions = algoSVD_30.test(testset)\n",
    "\n",
    "    # Compute and print Root Mean Squared Error\n",
    "    rmses_30.append(accuracy.rmse(predictions, verbose=True))\n",
    "    \n",
    "np.mean(rmses_30)"
   ]
  },
  {
   "cell_type": "code",
   "execution_count": 75,
   "id": "a0baa863",
   "metadata": {},
   "outputs": [],
   "source": [
    "rmse_per_num_of_min[30] = np.mean(rmses_30)"
   ]
  },
  {
   "cell_type": "markdown",
   "id": "07ef8306",
   "metadata": {},
   "source": [
    "# 40"
   ]
  },
  {
   "cell_type": "code",
   "execution_count": 60,
   "id": "588fbe3d",
   "metadata": {},
   "outputs": [
    {
     "name": "stdout",
     "output_type": "stream",
     "text": [
      "RMSE: 0.8460\n",
      "RMSE: 0.8460\n",
      "RMSE: 0.8528\n",
      "RMSE: 0.8441\n",
      "RMSE: 0.8508\n"
     ]
    },
    {
     "data": {
      "text/plain": [
       "0.8479486931119986"
      ]
     },
     "execution_count": 60,
     "metadata": {},
     "output_type": "execute_result"
    }
   ],
   "source": [
    "n_factors = 10\n",
    "n_epochs = 150\n",
    "init_mean= 0\n",
    "init_std_dev = 0.1\n",
    "lr_all = 0.0005\n",
    "reg_all = 0.07\n",
    "algoSVD_40 = SVD(n_factors=n_factors,\n",
    "              n_epochs=n_epochs, \n",
    "              init_mean=init_mean,\n",
    "              init_std_dev = init_std_dev,\n",
    "              lr_all = lr_all,\n",
    "              reg_all = reg_all)\n",
    "\n",
    "kf = KFold(n_splits=5)\n",
    "rmses_40 = []\n",
    "for trainset, testset in kf.split(authors_min_40_dataset):\n",
    "\n",
    "    # train and test algorithm.\n",
    "    algoSVD_40.fit(trainset)\n",
    "    predictions = algoSVD_40.test(testset)\n",
    "\n",
    "    # Compute and print Root Mean Squared Error\n",
    "    rmses_40.append(accuracy.rmse(predictions, verbose=True))\n",
    "    \n",
    "np.mean(rmses_40)"
   ]
  },
  {
   "cell_type": "code",
   "execution_count": 76,
   "id": "ca3fa9d1",
   "metadata": {},
   "outputs": [],
   "source": [
    "rmse_per_num_of_min[40] = np.mean(rmses_40)"
   ]
  },
  {
   "cell_type": "markdown",
   "id": "bc6939fd",
   "metadata": {},
   "source": [
    "# 50"
   ]
  },
  {
   "cell_type": "code",
   "execution_count": 63,
   "id": "71523bd1",
   "metadata": {},
   "outputs": [
    {
     "name": "stdout",
     "output_type": "stream",
     "text": [
      "RMSE: 0.8373\n",
      "RMSE: 0.8358\n",
      "RMSE: 0.8323\n",
      "RMSE: 0.8417\n",
      "RMSE: 0.8361\n"
     ]
    },
    {
     "data": {
      "text/plain": [
       "0.8366287553891965"
      ]
     },
     "execution_count": 63,
     "metadata": {},
     "output_type": "execute_result"
    }
   ],
   "source": [
    "n_factors = 10\n",
    "n_epochs = 150\n",
    "init_mean= 0\n",
    "init_std_dev = 0.1\n",
    "lr_all = 0.0005\n",
    "reg_all = 0.07\n",
    "algoSVD_50 = SVD(n_factors=n_factors,\n",
    "              n_epochs=n_epochs, \n",
    "              init_mean=init_mean,\n",
    "              init_std_dev = init_std_dev,\n",
    "              lr_all = lr_all,\n",
    "              reg_all = reg_all)\n",
    "\n",
    "kf = KFold(n_splits=5)\n",
    "rmses_50 = []\n",
    "for trainset, testset in kf.split(authors_min_50_dataset):\n",
    "\n",
    "    # train and test algorithm.\n",
    "    algoSVD_50.fit(trainset)\n",
    "    predictions = algoSVD_50.test(testset)\n",
    "\n",
    "    # Compute and print Root Mean Squared Error\n",
    "    rmses_50.append(accuracy.rmse(predictions, verbose=True))\n",
    "    \n",
    "np.mean(rmses_50)"
   ]
  },
  {
   "cell_type": "code",
   "execution_count": 77,
   "id": "2acb6296",
   "metadata": {},
   "outputs": [],
   "source": [
    "rmse_per_num_of_min[50] = np.mean(rmses_50)"
   ]
  },
  {
   "cell_type": "markdown",
   "id": "99e3d40b",
   "metadata": {},
   "source": [
    "# Other mins"
   ]
  },
  {
   "cell_type": "code",
   "execution_count": 79,
   "id": "8b50d7f9",
   "metadata": {},
   "outputs": [
    {
     "name": "stdout",
     "output_type": "stream",
     "text": [
      "RMSE: 0.8442\n",
      "RMSE: 0.8318\n",
      "RMSE: 0.8394\n",
      "RMSE: 0.8352\n",
      "RMSE: 0.8321\n",
      "RMSE: 0.8343\n",
      "RMSE: 0.8343\n",
      "RMSE: 0.8419\n",
      "RMSE: 0.8388\n",
      "RMSE: 0.8336\n",
      "RMSE: 0.8384\n",
      "RMSE: 0.8425\n",
      "RMSE: 0.8292\n",
      "RMSE: 0.8352\n",
      "RMSE: 0.8373\n",
      "RMSE: 0.8343\n",
      "RMSE: 0.8357\n",
      "RMSE: 0.8429\n",
      "RMSE: 0.8380\n",
      "RMSE: 0.8326\n",
      "RMSE: 0.8339\n",
      "RMSE: 0.8423\n",
      "RMSE: 0.8323\n",
      "RMSE: 0.8364\n",
      "RMSE: 0.8384\n"
     ]
    }
   ],
   "source": [
    "for i in range(60, 110, 10):\n",
    "    author_min = sampling.get_rating_with_min_number(ratings_small, i, col_name='AuthorId')    \n",
    "    authors_min_dataset = Dataset.load_from_df(author_min[['AuthorId', 'RecipeId', 'Rating']], Reader(rating_scale=(0, 5))) \n",
    "    \n",
    "    \n",
    "    n_factors = 10\n",
    "    n_epochs = 150\n",
    "    init_mean= 0\n",
    "    init_std_dev = 0.1\n",
    "    lr_all = 0.0005\n",
    "    reg_all = 0.07\n",
    "    algoSVD_min = SVD(n_factors=n_factors,\n",
    "                  n_epochs=n_epochs, \n",
    "                  init_mean=init_mean,\n",
    "                  init_std_dev = init_std_dev,\n",
    "                  lr_all = lr_all,\n",
    "                  reg_all = reg_all)\n",
    "\n",
    "    kf = KFold(n_splits=5)\n",
    "    rmses = []\n",
    "    for trainset, testset in kf.split(authors_min_50_dataset):\n",
    "        # train and test algorithm.\n",
    "        algoSVD_min.fit(trainset)\n",
    "        predictions = algoSVD_min.test(testset)\n",
    "\n",
    "        # Compute and print Root Mean Squared Error\n",
    "        rmses.append(accuracy.rmse(predictions, verbose=True))\n",
    "\n",
    "    rmse_per_num_of_min[i] = np.mean(rmses)"
   ]
  },
  {
   "cell_type": "code",
   "execution_count": 80,
   "id": "f7aded86",
   "metadata": {},
   "outputs": [
    {
     "data": {
      "text/plain": [
       "{0: 1.217694110082712,\n",
       " 20: 0.8771800000000001,\n",
       " 5: 0.9352851165426397,\n",
       " 10: 0.9047183380297661,\n",
       " 15: 0.8892745668110991,\n",
       " 25: 0.868672156609982,\n",
       " 30: 0.8609516438172335,\n",
       " 40: 0.8479486931119986,\n",
       " 50: 0.8366287553891965,\n",
       " 60: 0.8365198464266438,\n",
       " 70: 0.8365915560335528,\n",
       " 80: 0.8365424124726861,\n",
       " 90: 0.836690673061297,\n",
       " 100: 0.8366559472872573}"
      ]
     },
     "execution_count": 80,
     "metadata": {},
     "output_type": "execute_result"
    }
   ],
   "source": [
    "rmse_per_num_of_min"
   ]
  },
  {
   "cell_type": "code",
   "execution_count": 81,
   "id": "04a76174",
   "metadata": {},
   "outputs": [],
   "source": [
    "with open('../SVD/rmse_per_num_of_min.obj', 'wb') as pickle_file:\n",
    "     pickle.dump(rmse_per_num_of_min, pickle_file)"
   ]
  },
  {
   "cell_type": "markdown",
   "id": "6051c4c4",
   "metadata": {},
   "source": [
    "# SVDpp"
   ]
  },
  {
   "cell_type": "code",
   "execution_count": 13,
   "id": "09405be6",
   "metadata": {},
   "outputs": [
    {
     "name": "stdout",
     "output_type": "stream",
     "text": [
      "{'RMSE': 0.8825321667914738, 'MAE': 0.527460981547377}\n"
     ]
    }
   ],
   "source": [
    "metrics_svd = {}\n",
    "metrics_svd[\"RMSE\"] = accuracy.rmse(predictions, verbose=False)\n",
    "metrics_svd[\"MAE\"] = accuracy.mae(predictions, verbose=False)\n",
    "print(metrics_svd)"
   ]
  },
  {
   "cell_type": "markdown",
   "id": "c6ac0f7a",
   "metadata": {},
   "source": [
    "Ocena jest wyznaczana jako:\n",
    "\n",
    "$$\\hat{r}_{ui}=\\mu + b_{u} + b_{i} + q_{i}^{T}(p_{u} + |R(u)|^{-1/2}\\sum y_{j})$$\n"
   ]
  },
  {
   "cell_type": "code",
   "execution_count": 20,
   "id": "00b8da09",
   "metadata": {},
   "outputs": [],
   "source": [
    "algoSVDpp = SVDpp(verbose=True)"
   ]
  },
  {
   "cell_type": "code",
   "execution_count": 22,
   "id": "6767cf5c",
   "metadata": {},
   "outputs": [
    {
     "name": "stdout",
     "output_type": "stream",
     "text": [
      " processing epoch 0\n",
      " processing epoch 1\n",
      " processing epoch 2\n",
      " processing epoch 3\n",
      " processing epoch 4\n",
      " processing epoch 5\n",
      " processing epoch 6\n",
      " processing epoch 7\n",
      " processing epoch 8\n",
      " processing epoch 9\n",
      " processing epoch 10\n",
      " processing epoch 11\n",
      " processing epoch 12\n",
      " processing epoch 13\n",
      " processing epoch 14\n",
      " processing epoch 15\n",
      " processing epoch 16\n",
      " processing epoch 17\n",
      " processing epoch 18\n",
      " processing epoch 19\n"
     ]
    },
    {
     "data": {
      "text/plain": [
       "<surprise.prediction_algorithms.matrix_factorization.SVDpp at 0x2240010a2e0>"
      ]
     },
     "execution_count": 22,
     "metadata": {},
     "output_type": "execute_result"
    }
   ],
   "source": [
    "algoSVDpp.fit(train_set)"
   ]
  },
  {
   "cell_type": "code",
   "execution_count": 23,
   "id": "2cb37fa1",
   "metadata": {},
   "outputs": [],
   "source": [
    "predictions_svdpp = algoSVDpp.test(test_set)"
   ]
  },
  {
   "cell_type": "code",
   "execution_count": 24,
   "id": "81829494",
   "metadata": {},
   "outputs": [
    {
     "name": "stdout",
     "output_type": "stream",
     "text": [
      "{'RMSE': 0.9053626993420172, 'MAE': 0.5183473938673195}\n"
     ]
    }
   ],
   "source": [
    "metrics_svdpp = {}\n",
    "metrics_svdpp[\"RMSE\"] = accuracy.rmse(predictions_svdpp, verbose=False)\n",
    "metrics_svdpp[\"MAE\"] = accuracy.mae(predictions_svdpp, verbose=False)\n",
    "print(metrics_svdpp)"
   ]
  },
  {
   "cell_type": "code",
   "execution_count": null,
   "id": "08af08e0",
   "metadata": {},
   "outputs": [],
   "source": []
  }
 ],
 "metadata": {
  "kernelspec": {
   "display_name": "Python 3 (ipykernel)",
   "language": "python",
   "name": "python3"
  },
  "language_info": {
   "codemirror_mode": {
    "name": "ipython",
    "version": 3
   },
   "file_extension": ".py",
   "mimetype": "text/x-python",
   "name": "python",
   "nbconvert_exporter": "python",
   "pygments_lexer": "ipython3",
   "version": "3.9.7"
  }
 },
 "nbformat": 4,
 "nbformat_minor": 5
}
