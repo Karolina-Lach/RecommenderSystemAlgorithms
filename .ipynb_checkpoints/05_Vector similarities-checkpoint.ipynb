{
 "cells": [
  {
   "cell_type": "markdown",
   "id": "7c11d9a7",
   "metadata": {
    "id": "7c11d9a7"
   },
   "source": [
    "# Imports"
   ]
  },
  {
   "cell_type": "code",
   "execution_count": 1,
   "id": "BVW5_reLXkZb",
   "metadata": {
    "colab": {
     "base_uri": "https://localhost:8080/"
    },
    "executionInfo": {
     "elapsed": 3666,
     "status": "ok",
     "timestamp": 1651094083955,
     "user": {
      "displayName": "Karolina Lach",
      "userId": "00111092321882151185"
     },
     "user_tz": -120
    },
    "id": "BVW5_reLXkZb",
    "outputId": "d29a0b58-0ccb-48dc-b028-e45f49b1f040"
   },
   "outputs": [],
   "source": [
    "# !pip install sentence_transformers"
   ]
  },
  {
   "cell_type": "code",
   "execution_count": 1,
   "id": "de3519e5",
   "metadata": {
    "executionInfo": {
     "elapsed": 13,
     "status": "ok",
     "timestamp": 1651094083957,
     "user": {
      "displayName": "Karolina Lach",
      "userId": "00111092321882151185"
     },
     "user_tz": -120
    },
    "id": "de3519e5"
   },
   "outputs": [],
   "source": [
    "import pickle\n",
    "from gensim.models import Word2Vec\n",
    "import gensim\n",
    "from sklearn.feature_extraction.text import CountVectorizer\n",
    "from sklearn.feature_extraction.text import TfidfVectorizer\n",
    "from sklearn.metrics.pairwise import cosine_similarity\n",
    "from collections import defaultdict\n",
    "import numpy as np\n",
    "import pandas as pd\n",
    "from sentence_transformers import util\n",
    "import torch\n",
    "\n",
    "import create_similarity_vectors\n",
    "import sampling\n",
    "\n",
    "from collections import defaultdict\n",
    "import heapq\n",
    "import sampling"
   ]
  },
  {
   "cell_type": "markdown",
   "id": "158d8942",
   "metadata": {
    "id": "158d8942"
   },
   "source": [
    "# Constants"
   ]
  },
  {
   "cell_type": "code",
   "execution_count": 3,
   "id": "24359cec",
   "metadata": {
    "executionInfo": {
     "elapsed": 17,
     "status": "ok",
     "timestamp": 1651094101215,
     "user": {
      "displayName": "Karolina Lach",
      "userId": "00111092321882151185"
     },
     "user_tz": -120
    },
    "id": "24359cec"
   },
   "outputs": [],
   "source": [
    "RATINGS_BASE = \"../Data/base/ratings_base.parquet\"\n",
    "WORD2VEC_ING_CAT_VECTORS = \"../Data/word_embeddings_files/vectors/word2vec_ing_cat_vectors.obj\"\n",
    "WORD2VEC_ING_50_VECTORS = \"G:/Recipes/Vectors/ingredients_vectors_50_dict.obj\"\n",
    "\n",
    "WORD2VEC_ING_VECTORS = \"../Data/word_embeddings_files/vectors/word2vec_ingredients_vectors.obj\""
   ]
  },
  {
   "cell_type": "code",
   "execution_count": 4,
   "id": "GDj7h6sedgVM",
   "metadata": {
    "executionInfo": {
     "elapsed": 14,
     "status": "ok",
     "timestamp": 1651094101216,
     "user": {
      "displayName": "Karolina Lach",
      "userId": "00111092321882151185"
     },
     "user_tz": -120
    },
    "id": "GDj7h6sedgVM"
   },
   "outputs": [],
   "source": [
    "RATINGS_COUNT_PER_RECIPE = \"../Data/base/ratings_per_recipe.parquet\"\n",
    "TOP1000_MOST_POPULAR = \"../Data/word_embeddings_files/topk_sim/top1000_for_most_popular_recipes.obj\"\n",
    "\n",
    "MATRIX_25K_MOST_POPULAR = \"../Data/word_embeddings_files/matrix/matrix_25k_most_popular.obj\"\n",
    "ID_TO_POS_IN_MATRIX = \"../Data/word_embeddings_files/matrix/id_to_pos_matrix_25k_most_popular.obj\"\n",
    "POS_IN_MATRIX_TO_ID = \"../Data/word_embeddings_files/matrix/pos_to_idmatrix_25k_most_popular.obj\""
   ]
  },
  {
   "cell_type": "markdown",
   "id": "936d126a",
   "metadata": {
    "id": "936d126a"
   },
   "source": [
    "# Load data"
   ]
  },
  {
   "cell_type": "code",
   "execution_count": 5,
   "id": "5d6bb20c",
   "metadata": {
    "executionInfo": {
     "elapsed": 18480,
     "status": "ok",
     "timestamp": 1651094141289,
     "user": {
      "displayName": "Karolina Lach",
      "userId": "00111092321882151185"
     },
     "user_tz": -120
    },
    "id": "5d6bb20c"
   },
   "outputs": [],
   "source": [
    "# ratings = pd.read_parquet(RATINGS_BASE)\n",
    "# ratings_sample = sampling.get_ratings_with_min_number_list(ratings, [20,0])"
   ]
  },
  {
   "cell_type": "code",
   "execution_count": 6,
   "id": "b0ef416e",
   "metadata": {
    "executionInfo": {
     "elapsed": 4170,
     "status": "ok",
     "timestamp": 1651094145429,
     "user": {
      "displayName": "Karolina Lach",
      "userId": "00111092321882151185"
     },
     "user_tz": -120
    },
    "id": "b0ef416e"
   },
   "outputs": [],
   "source": [
    "# with open(WORD2VEC_ING_CAT_VECTORS, \"rb\") as input_file:\n",
    "#     word2vec_ing_cat_vectors = pickle.load(input_file)\n",
    "\n",
    "# with open(WORD2VEC_ING_CAT_50_VECTORS, \"rb\") as input_file:\n",
    "#     word2vec_ing_cat_vectors = pickle.load(input_file)"
   ]
  },
  {
   "cell_type": "code",
   "execution_count": 4,
   "id": "4f3f71b2",
   "metadata": {},
   "outputs": [],
   "source": [
    "# with open(WORD2VEC_ING_50_VECTORS, \"rb\") as input_file:\n",
    "#     word2vec_ing_vectors = pickle.load(input_file)"
   ]
  },
  {
   "cell_type": "code",
   "execution_count": 7,
   "id": "Em0cpB_xdlpF",
   "metadata": {
    "executionInfo": {
     "elapsed": 703,
     "status": "ok",
     "timestamp": 1651094146106,
     "user": {
      "displayName": "Karolina Lach",
      "userId": "00111092321882151185"
     },
     "user_tz": -120
    },
    "id": "Em0cpB_xdlpF"
   },
   "outputs": [],
   "source": [
    "# ratings_count_per_recipe = pd.read_parquet(RATINGS_COUNT_PER_RECIPE)"
   ]
  },
  {
   "cell_type": "markdown",
   "id": "af849958",
   "metadata": {
    "id": "af849958"
   },
   "source": [
    "# Compute top cosine similarities"
   ]
  },
  {
   "cell_type": "markdown",
   "id": "9a3eb0f4",
   "metadata": {},
   "source": [
    "## Read vector file"
   ]
  },
  {
   "cell_type": "code",
   "execution_count": 6,
   "id": "cb27a161",
   "metadata": {},
   "outputs": [],
   "source": [
    "with open(\"C:/Users/Użytkownik/Recipes/Data/word_embeddings_files/vectors/word2vec_ing_cat_vectors.obj\", \"rb\") as input_file:\n",
    "    word2vec_ing_cat_vectors = pickle.load(input_file)"
   ]
  },
  {
   "cell_type": "markdown",
   "id": "58cc1fd6",
   "metadata": {},
   "source": [
    "## Select items to check "
   ]
  },
  {
   "cell_type": "code",
   "execution_count": 8,
   "id": "yIb3RjHmcwlP",
   "metadata": {
    "executionInfo": {
     "elapsed": 736,
     "status": "ok",
     "timestamp": 1651089775083,
     "user": {
      "displayName": "Karolina Lach",
      "userId": "00111092321882151185"
     },
     "user_tz": -120
    },
    "id": "yIb3RjHmcwlP"
   },
   "outputs": [],
   "source": [
    "items_to_check = list(ratings_count_per_recipe[:27000].index)\n",
    "word2vec_ing_cat_vectors_sample = {}\n",
    "for key in items_to_check:\n",
    "    word2vec_ing_cat_vectors_sample[key] = word2vec_ing_cat_vectors[key]"
   ]
  },
  {
   "cell_type": "code",
   "execution_count": 11,
   "id": "bb84e0ee",
   "metadata": {
    "colab": {
     "base_uri": "https://localhost:8080/"
    },
    "executionInfo": {
     "elapsed": 3576972,
     "status": "ok",
     "timestamp": 1651093353245,
     "user": {
      "displayName": "Karolina Lach",
      "userId": "00111092321882151185"
     },
     "user_tz": -120
    },
    "id": "bb84e0ee",
    "outputId": "b5b13726-f582-4601-be3a-164ebec439fa",
    "scrolled": true
   },
   "outputs": [],
   "source": [
    "%%time\n",
    "top_1000_similar_recipes_for_most_popular = create_similarity_vectors.create_top_k_similar_vectors(vectors_dict=word2vec_ing_cat_vectors_sample, \n",
    "                                                                                                   items_to_check_list=items_to_check, \n",
    "                                                                                                   top_k=1000,\n",
    "                                                                                                   verbose=True)\n"
   ]
  },
  {
   "cell_type": "code",
   "execution_count": 10,
   "id": "6fc3fed5",
   "metadata": {
    "executionInfo": {
     "elapsed": 19317,
     "status": "ok",
     "timestamp": 1651093372526,
     "user": {
      "displayName": "Karolina Lach",
      "userId": "00111092321882151185"
     },
     "user_tz": -120
    },
    "id": "6fc3fed5"
   },
   "outputs": [],
   "source": [
    "# with open(\"G:/Recipes/TopK/top1000_ING_CAT_100.obj\", 'wb') as pickle_file:\n",
    "#     pickle.dump(top_1000_similar_recipes_for_most_popular, pickle_file)"
   ]
  },
  {
   "cell_type": "markdown",
   "id": "9872b533",
   "metadata": {
    "id": "9872b533"
   },
   "source": [
    "# Calculate matrix"
   ]
  },
  {
   "cell_type": "code",
   "execution_count": 8,
   "id": "rkeSxFLX1tTW",
   "metadata": {
    "executionInfo": {
     "elapsed": 271,
     "status": "ok",
     "timestamp": 1651094153403,
     "user": {
      "displayName": "Karolina Lach",
      "userId": "00111092321882151185"
     },
     "user_tz": -120
    },
    "id": "rkeSxFLX1tTW"
   },
   "outputs": [],
   "source": [
    "items_to_check = list(ratings_count_per_recipe[:25000].index)"
   ]
  },
  {
   "cell_type": "code",
   "execution_count": 9,
   "id": "pUvm1s6_2ZTg",
   "metadata": {
    "executionInfo": {
     "elapsed": 5,
     "status": "ok",
     "timestamp": 1651094153669,
     "user": {
      "displayName": "Karolina Lach",
      "userId": "00111092321882151185"
     },
     "user_tz": -120
    },
    "id": "pUvm1s6_2ZTg"
   },
   "outputs": [],
   "source": [
    "word2vec_ing_cat_vectors_sample = {}\n",
    "for key in items_to_check:\n",
    "    word2vec_ing_cat_vectors_sample[key] = word2vec_ing_cat_vectors[key]"
   ]
  },
  {
   "cell_type": "code",
   "execution_count": 3,
   "id": "d3b6c343",
   "metadata": {
    "id": "d3b6c343",
    "scrolled": true
   },
   "outputs": [],
   "source": [
    "pos_to_recipe_id, recipe_id_to_pos, similarities = create_similarity_vectors.create_similarity_matrix(word2vec_ing_cat_vectors_sample, verbose=True)"
   ]
  },
  {
   "cell_type": "code",
   "execution_count": null,
   "id": "8f2d4091",
   "metadata": {},
   "outputs": [],
   "source": []
  }
 ],
 "metadata": {
  "colab": {
   "collapsed_sections": [],
   "name": "04_Vector similarities.ipynb",
   "provenance": []
  },
  "kernelspec": {
   "display_name": "Python 3 (ipykernel)",
   "language": "python",
   "name": "python3"
  },
  "language_info": {
   "codemirror_mode": {
    "name": "ipython",
    "version": 3
   },
   "file_extension": ".py",
   "mimetype": "text/x-python",
   "name": "python",
   "nbconvert_exporter": "python",
   "pygments_lexer": "ipython3",
   "version": "3.9.7"
  }
 },
 "nbformat": 4,
 "nbformat_minor": 5
}
