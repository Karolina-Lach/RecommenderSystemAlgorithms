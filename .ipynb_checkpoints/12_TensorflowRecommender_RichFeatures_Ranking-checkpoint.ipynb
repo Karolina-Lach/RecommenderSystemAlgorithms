{
 "cells": [
  {
   "cell_type": "markdown",
   "id": "c3ae0d97",
   "metadata": {
    "id": "c3ae0d97"
   },
   "source": [
    "# Imports"
   ]
  },
  {
   "cell_type": "code",
   "execution_count": null,
   "id": "9af7eece",
   "metadata": {
    "id": "9af7eece"
   },
   "outputs": [],
   "source": [
    "import os\n",
    "import pprint\n",
    "import tempfile\n",
    "from typing import Dict, Text\n",
    "\n",
    "import numpy as np\n",
    "import tensorflow as tf\n",
    "import tensorflow_datasets as tfds\n",
    "\n",
    "import pandas as pd\n",
    "import sampling\n",
    "\n",
    "import tensorflow_recommenders as tfrs\n",
    "\n",
    "import pickle\n",
    "\n",
    "import datetime\n",
    "\n",
    "from tensorflow.keras.layers import Flatten   \n",
    "from tensorflow.keras.layers import Dense     \n",
    "\n",
    "import TensorflowRichFeatures as tfrs_rich"
   ]
  },
  {
   "cell_type": "markdown",
   "id": "0e7ed952",
   "metadata": {
    "id": "0e7ed952"
   },
   "source": [
    "# Constants"
   ]
  },
  {
   "cell_type": "markdown",
   "id": "2aef055b",
   "metadata": {
    "id": "2aef055b"
   },
   "source": [
    "## Load"
   ]
  },
  {
   "cell_type": "code",
   "execution_count": null,
   "id": "31cf4e10",
   "metadata": {
    "id": "31cf4e10"
   },
   "outputs": [],
   "source": [
    "RATINGS_BASE = \"../Data/base/ratings_base.parquet\"\n",
    "RECIPES_BASE = \"../Data/base/recipes_base.parquet\"\n",
    "\n",
    "INGREDIENTS_CLEAN = '../Data/cleaned_files/ingredients_clean_without_common_words.obj'"
   ]
  },
  {
   "cell_type": "markdown",
   "id": "a4882294",
   "metadata": {
    "id": "a4882294"
   },
   "source": [
    "# Load data"
   ]
  },
  {
   "cell_type": "code",
   "execution_count": null,
   "id": "7a8037dd",
   "metadata": {
    "id": "7a8037dd"
   },
   "outputs": [],
   "source": [
    "recipes_small = pd.read_parquet(RECIPES_BASE)\n",
    "ratings_small = pd.read_parquet(RATINGS_BASE)\n",
    "\n",
    "with open(INGREDIENTS_CLEAN, \"rb\") as input_file:\n",
    "    ingredients_clean = pickle.load(input_file)"
   ]
  },
  {
   "cell_type": "markdown",
   "id": "b7adc74c",
   "metadata": {
    "id": "b7adc74c"
   },
   "source": [
    "## Ratings"
   ]
  },
  {
   "cell_type": "code",
   "execution_count": null,
   "id": "8c1ea613",
   "metadata": {
    "id": "8c1ea613"
   },
   "outputs": [],
   "source": [
    "ratings_sample = sampling.get_ratings_with_min_number_list(ratings_small, [20,20])\n",
    "recipe_ids_in_sample = list(set(ratings_sample.RecipeId))"
   ]
  },
  {
   "cell_type": "markdown",
   "id": "df0d809b",
   "metadata": {
    "id": "df0d809b"
   },
   "source": [
    "## Recipes"
   ]
  },
  {
   "cell_type": "code",
   "execution_count": null,
   "id": "be3501b4",
   "metadata": {
    "id": "be3501b4"
   },
   "outputs": [],
   "source": [
    "recipes_subset = recipes_small[[\"RecipeId\"]].merge(ingredients_clean, on=\"RecipeId\", how=\"inner\")\n",
    "recipes_subset[\"Ingredients\"] = recipes_subset[\"Ingredients\"].map(lambda x: \" \".join(x))\n",
    "recipes_subset = recipes_subset[recipes_subset.RecipeId.isin(recipe_ids_in_sample)]"
   ]
  },
  {
   "cell_type": "code",
   "execution_count": null,
   "id": "c898424e",
   "metadata": {
    "id": "c898424e"
   },
   "outputs": [],
   "source": [
    "merged_dataset = ratings_sample.merge(recipes_subset, on=\"RecipeId\", how=\"inner\")"
   ]
  },
  {
   "cell_type": "code",
   "execution_count": null,
   "id": "db31d4e8",
   "metadata": {
    "id": "db31d4e8"
   },
   "outputs": [],
   "source": [
    "merged_dataset.drop(columns=[\"DateSubmitted\"], inplace=True)"
   ]
  },
  {
   "cell_type": "markdown",
   "id": "55ae7682",
   "metadata": {
    "id": "55ae7682"
   },
   "source": [
    "# Prepare dataset"
   ]
  },
  {
   "cell_type": "markdown",
   "id": "7a9f1231",
   "metadata": {
    "id": "7a9f1231"
   },
   "source": [
    "## Recipes"
   ]
  },
  {
   "cell_type": "code",
   "execution_count": 1,
   "id": "2e5ac63d",
   "metadata": {
    "colab": {
     "base_uri": "https://localhost:8080/"
    },
    "id": "2e5ac63d",
    "outputId": "e20caa7e-126c-4d19-ea1c-409311d29286"
   },
   "outputs": [],
   "source": [
    "recipes_subset.RecipeId = recipes_subset.RecipeId.map(lambda x: bytes(str(x), 'utf-8'))\n",
    "\n",
    "recipes_dict = recipes_subset[['RecipeId','Ingredients']]\n",
    "recipes_dict = {name: np.array(value) for name, value in recipes_dict.items()}\n",
    "recipes = tf.data.Dataset.from_tensor_slices(recipes_dict)\n",
    "\n",
    "\n",
    "recipes = recipes.map(lambda x: {'RecipeId' : x['RecipeId'],\n",
    "                                 'Ingredients' : x['Ingredients']})"
   ]
  },
  {
   "cell_type": "code",
   "execution_count": null,
   "id": "97dca5e5",
   "metadata": {
    "colab": {
     "base_uri": "https://localhost:8080/"
    },
    "id": "97dca5e5",
    "outputId": "c02366ef-cadb-450d-edcf-408ced241fe4"
   },
   "outputs": [
    {
     "name": "stdout",
     "output_type": "stream",
     "text": [
      "{'Ingredients': b'black pepper butter button mushroom celery chicken flour mil'\n",
      "                b'k parsley pepper pimiento worcestershire sauce',\n",
      " 'RecipeId': b'44.0'}\n"
     ]
    }
   ],
   "source": [
    "for x in recipes.take(1).as_numpy_iterator():\n",
    "    pprint.pprint(x)"
   ]
  },
  {
   "cell_type": "markdown",
   "id": "bddc7a92",
   "metadata": {
    "id": "bddc7a92"
   },
   "source": [
    "## Ratings"
   ]
  },
  {
   "cell_type": "code",
   "execution_count": null,
   "id": "d123c0c4",
   "metadata": {
    "id": "d123c0c4"
   },
   "outputs": [],
   "source": [
    "ratings_sample.AuthorId = ratings_sample.AuthorId.map(lambda x: bytes(str(x), 'utf-8'))\n",
    "ratings_sample.RecipeId = ratings_sample.RecipeId.map(lambda x: bytes(str(x), 'utf-8'))\n",
    "\n",
    "ratings_dict = ratings_sample.groupby(['AuthorId', 'RecipeId'])['Rating'].sum().reset_index()\n",
    "ratings_dict = {name: np.array(value) for name, value in ratings_dict.items()}\n",
    "ratings = tf.data.Dataset.from_tensor_slices(ratings_dict)\n",
    "\n",
    "\n",
    "ratings = ratings.map(lambda x: {'AuthorId' : x['AuthorId'], \n",
    "                                 'RecipeId' : x['RecipeId'],\n",
    "                                 'Rating' : x['Rating']})"
   ]
  },
  {
   "cell_type": "code",
   "execution_count": null,
   "id": "6fc14994",
   "metadata": {
    "colab": {
     "base_uri": "https://localhost:8080/"
    },
    "id": "6fc14994",
    "outputId": "e25bb0d5-c871-4c3a-bbd7-588be5d38ea2"
   },
   "outputs": [
    {
     "name": "stdout",
     "output_type": "stream",
     "text": [
      "{'AuthorId': b'100149', 'Rating': 5, 'RecipeId': b'10733'}\n"
     ]
    }
   ],
   "source": [
    "for x in ratings.take(1).as_numpy_iterator():\n",
    "    pprint.pprint(x)"
   ]
  },
  {
   "cell_type": "markdown",
   "id": "a01506e4",
   "metadata": {
    "id": "a01506e4"
   },
   "source": [
    "## Merged dataset"
   ]
  },
  {
   "cell_type": "code",
   "execution_count": null,
   "id": "e00a4fed",
   "metadata": {
    "id": "e00a4fed"
   },
   "outputs": [],
   "source": [
    "merged_dataset.AuthorId = merged_dataset.AuthorId.map(lambda x: bytes(str(x), 'utf-8'))\n",
    "merged_dataset.RecipeId = merged_dataset.RecipeId.map(lambda x: bytes(str(x), 'utf-8'))\n",
    "\n",
    "merged_dict = merged_dataset[['AuthorId', 'RecipeId', 'Rating', 'Ingredients']]\n",
    "merged_dict = {name: np.array(value) for name, value in merged_dict.items()}\n",
    "merged_dataset = tf.data.Dataset.from_tensor_slices(merged_dict)\n",
    "\n",
    "\n",
    "merged_dataset = merged_dataset.map(lambda x: {'AuthorId' : x['AuthorId'], \n",
    "                                 'RecipeId' : x['RecipeId'],\n",
    "                                 'Ingredients' : x['Ingredients'],\n",
    "                                    'Rating': x['Rating']})"
   ]
  },
  {
   "cell_type": "markdown",
   "id": "cf1bd6fd",
   "metadata": {
    "id": "cf1bd6fd"
   },
   "source": [
    "## Train, test, val datasets"
   ]
  },
  {
   "cell_type": "code",
   "execution_count": null,
   "id": "fb0bd813",
   "metadata": {
    "colab": {
     "base_uri": "https://localhost:8080/"
    },
    "id": "fb0bd813",
    "outputId": "50b09447-3904-4355-fa42-55c4bf5c1b99"
   },
   "outputs": [
    {
     "name": "stdout",
     "output_type": "stream",
     "text": [
      "Train size: 193591\n",
      "Test size: 41485\n",
      "Val size: 41483\n"
     ]
    }
   ],
   "source": [
    "size = ratings_sample.shape[0]\n",
    "train_size = int(0.7 * size)\n",
    "val_size = int(0.15 * size)\n",
    "test_size = size - train_size - val_size\n",
    "\n",
    "tf.random.set_seed(42)\n",
    "shuffled = merged_dataset.shuffle(size, seed=42, reshuffle_each_iteration=False)\n",
    "\n",
    "train = shuffled.take(train_size)\n",
    "val = shuffled.take(train_size).take(val_size)\n",
    "test = shuffled.take(train_size).take(val_size).take(test_size)\n",
    "\n",
    "print(f\"Train size: {train_size}\")\n",
    "print(f\"Test size: {test_size}\")\n",
    "print(f\"Val size: {val_size}\") "
   ]
  },
  {
   "cell_type": "code",
   "execution_count": null,
   "id": "82a77465",
   "metadata": {
    "id": "82a77465"
   },
   "outputs": [],
   "source": [
    "recipe_ids = merged_dataset.batch(1_000_000).map(lambda x: x['RecipeId'])\n",
    "user_ids = merged_dataset.batch(1_000_000).map(lambda x: x[\"AuthorId\"])\n",
    "\n",
    "unique_recipe_ids = np.unique(np.concatenate(list(recipe_ids)))\n",
    "unique_user_ids = np.unique(np.concatenate(list(user_ids)))"
   ]
  },
  {
   "cell_type": "markdown",
   "id": "7a61f3b5",
   "metadata": {
    "id": "7a61f3b5"
   },
   "source": [
    "# Model"
   ]
  },
  {
   "cell_type": "markdown",
   "id": "07b81ccb",
   "metadata": {
    "id": "07b81ccb"
   },
   "source": [
    "## Query tower"
   ]
  },
  {
   "cell_type": "code",
   "execution_count": null,
   "id": "8263106b",
   "metadata": {
    "id": "8263106b"
   },
   "outputs": [],
   "source": [
    "class UserModel(tfrs.models.Model):\n",
    "    \n",
    "    def __init__(self, \n",
    "                 unique_user_ids,\n",
    "                 verbose=False):\n",
    "        \n",
    "        super().__init__()\n",
    "        self._verbose = verbose\n",
    "        if(self._verbose):\n",
    "            print(\"USER MODEL INIT\")\n",
    "        self.user_embedding = tf.keras.Sequential([\n",
    "            tf.keras.layers.StringLookup(vocabulary=unique_user_ids, mask_token=None),\n",
    "            tf.keras.layers.Embedding(len(unique_user_ids) + 1, 32)\n",
    "        ])\n",
    "        \n",
    "#         self.timestamp_embedding = tf.keras.Sequential([\n",
    "#             tf.keras.layers.Discretization(timestamp_buckets.tolist()),\n",
    "#             tf.keras.layers.Embedding(len(timestamp_buckets)+1, 32),\n",
    "#         ])\n",
    "        \n",
    "#         self.normalized_timestamp = tf.keras.layers.Normalization(axis=None)\n",
    "#         self.normalized_timestamp.adapt(timestamps)\n",
    "        \n",
    "    def call(self, inputs):\n",
    "        if(self._verbose):\n",
    "            print(\"User model call\")\n",
    "            print(\"INPUTS: \", inputs)\n",
    "            print(\"AuthorId\", inputs[\"AuthorId\"])\n",
    "        return tf.concat([\n",
    "            self.user_embedding(inputs[\"AuthorId\"]),\n",
    "#             self.timestamp_embedding(inputs[\"Timestamp\"]),\n",
    "#             tf.reshape(self.normalized_timestamp(inputs[\"Timestamp\"]), (-1,1)),\n",
    "        ], axis=1)\n",
    "        "
   ]
  },
  {
   "cell_type": "code",
   "execution_count": null,
   "id": "c9538599",
   "metadata": {
    "id": "c9538599"
   },
   "outputs": [],
   "source": [
    "class QueryModel(tf.keras.Model):\n",
    "    \"\"\"Model for encoding user queries.\"\"\"\n",
    "    def __init__(self, \n",
    "                 layer_sizes,\n",
    "                 unique_user_ids,\n",
    "                 verbose=False):\n",
    "        \"\"\"Model for encoding user queries.\n",
    "        Args:\n",
    "            layer_sizes:\n",
    "        A list of integers where the i-th entry represents the number of units\n",
    "        the i-th layer contains.\n",
    "        \"\"\"\n",
    "        \n",
    "        super().__init__()\n",
    "\n",
    "        if(verbose):\n",
    "            print(\"Query model init\")\n",
    "            \n",
    "        self._verbose = verbose\n",
    "        # We first use the user model for generating embeddings.\n",
    "        self.embedding_model = UserModel(unique_user_ids, verbose)\n",
    "\n",
    "        # Then construct the layers.\n",
    "        self.dense_layers = tf.keras.Sequential()\n",
    "\n",
    "        # Use the ReLU activation for all but the last layer.\n",
    "        for layer_size in layer_sizes[:-1]:\n",
    "            self.dense_layers.add(tf.keras.layers.Dense(layer_size, activation=\"relu\"))\n",
    "\n",
    "        # No activation for the last layer.\n",
    "        for layer_size in layer_sizes[-1:]:\n",
    "            self.dense_layers.add(tf.keras.layers.Dense(layer_size))\n",
    "            \n",
    "    def call(self, inputs):\n",
    "        if(self._verbose):\n",
    "            print(\"Query model call\")\n",
    "            print(\"Input: \", inputs)\n",
    "        feature_embedding = self.embedding_model(inputs)\n",
    "        return self.dense_layers(feature_embedding)"
   ]
  },
  {
   "cell_type": "code",
   "execution_count": null,
   "id": "b07ee3ff",
   "metadata": {
    "colab": {
     "base_uri": "https://localhost:8080/"
    },
    "id": "b07ee3ff",
    "outputId": "501c2d26-fe2f-49a2-ad3b-25440f0b75e8"
   },
   "outputs": [
    {
     "name": "stdout",
     "output_type": "stream",
     "text": [
      "Representation: [ 0.0311793   0.00263394 -0.0005692 ]\n"
     ]
    }
   ],
   "source": [
    "user_model = UserModel(unique_user_ids)\n",
    "\n",
    "for row in ratings.batch(1).take(1):\n",
    "    print(f\"Representation: {user_model(row)[0, :3]}\")"
   ]
  },
  {
   "cell_type": "markdown",
   "id": "6b13e943",
   "metadata": {
    "id": "6b13e943"
   },
   "source": [
    "## Candidate model"
   ]
  },
  {
   "cell_type": "code",
   "execution_count": null,
   "id": "eee83432",
   "metadata": {
    "id": "eee83432"
   },
   "outputs": [],
   "source": [
    "class RecipeModel(tfrs.models.Model):\n",
    "    \n",
    "    def __init__(self, \n",
    "                 unique_recipe_ids,\n",
    "                 recipes_dataset,\n",
    "                 verbose=False):\n",
    "        super().__init__()\n",
    "        max_tokens = 10_000\n",
    "        embedding_dim=32\n",
    "        \n",
    "        self._verbose = verbose\n",
    "        if(verbose):\n",
    "            print(\"RECIPE MODEL INIT\")\n",
    "        self.recipe_id_embedding = tf.keras.Sequential([\n",
    "            tf.keras.layers.StringLookup(vocabulary=unique_recipe_ids, mask_token=None),\n",
    "            tf.keras.layers.Embedding(len(unique_recipe_ids)+1, 32)\n",
    "        ])\n",
    "        \n",
    "        self.ingredients_vectorizer = tf.keras.layers.TextVectorization(max_tokens = max_tokens)\n",
    "        \n",
    "        self.ingredients_text_embedding = tf.keras.Sequential([\n",
    "            self.ingredients_vectorizer,\n",
    "            tf.keras.layers.Embedding(input_dim=max_tokens, output_dim=embedding_dim),\n",
    "            tf.keras.layers.GlobalAveragePooling1D()\n",
    "        ])\n",
    "        \n",
    "        self.ingredients_vectorizer.adapt(recipes_dataset.map(lambda x: x['Ingredients']))\n",
    "        \n",
    "    def call(self, inputs):\n",
    "        if(self._verbose):\n",
    "            print(\"Recipe model call\")\n",
    "            print(\"INPUTS: \", inputs)\n",
    "        return tf.concat([\n",
    "            self.recipe_id_embedding(inputs[\"RecipeId\"]),\n",
    "            self.ingredients_text_embedding(inputs[\"Ingredients\"])\n",
    "        ], axis=1)"
   ]
  },
  {
   "cell_type": "code",
   "execution_count": null,
   "id": "d983a5ba",
   "metadata": {
    "id": "d983a5ba"
   },
   "outputs": [],
   "source": [
    "class CandidateModel(tf.keras.Model):\n",
    "    \"\"\"Model for encoding recipes.\"\"\"\n",
    "    \n",
    "    def __init__(self, \n",
    "                 layer_sizes, \n",
    "                 unique_recipe_ids,\n",
    "                 recipes_dataset,\n",
    "                 verbose=False):\n",
    "\n",
    "        super().__init__()\n",
    "        if(verbose):\n",
    "            print(\"Candidate model init\")\n",
    "        self.embedding_model = RecipeModel(unique_recipe_ids,\n",
    "                                           recipes_dataset,\n",
    "                                           verbose)\n",
    "\n",
    "        # Then construct the layers.\n",
    "        self.dense_layers = tf.keras.Sequential()\n",
    "\n",
    "        # Use the ReLU activation for all but the last layer.\n",
    "        for layer_size in layer_sizes[:-1]:\n",
    "            self.dense_layers.add(tf.keras.layers.Dense(layer_size, activation=\"relu\"))\n",
    "\n",
    "        # No activation for the last layer.\n",
    "        for layer_size in layer_sizes[-1:]:\n",
    "            self.dense_layers.add(tf.keras.layers.Dense(layer_size))\n",
    "            \n",
    "        self._verbose = verbose\n",
    "    \n",
    "    def call(self, inputs):\n",
    "        if(self._verbose):\n",
    "            print(\"Candidate model call\")\n",
    "            print(\"Inputs: \", inputs)\n",
    "        feature_embedding = self.embedding_model(inputs)\n",
    "        return self.dense_layers(feature_embedding)"
   ]
  },
  {
   "cell_type": "code",
   "execution_count": null,
   "id": "23f51f55",
   "metadata": {
    "id": "23f51f55"
   },
   "outputs": [],
   "source": [
    "cached_train = train.shuffle(250_000).batch(8192).cache()\n",
    "cached_test = test.batch(4096).cache()\n",
    "cached_val = val.batch(4096).cache()"
   ]
  },
  {
   "cell_type": "code",
   "execution_count": null,
   "id": "ab8aeea8",
   "metadata": {
    "id": "ab8aeea8"
   },
   "outputs": [],
   "source": [
    "model = tfrs_rich.RecipeRankingModel([64], unique_user_ids=unique_user_ids,\n",
    "                            unique_recipe_ids=unique_recipe_ids,\n",
    "                            embedding_dimension=32,\n",
    "                            recipes_dataset=recipes,\n",
    "                            verbose=False)\n",
    "model.compile(optimizer=tf.keras.optimizers.Adagrad(learning_rate=0.1))"
   ]
  },
  {
   "cell_type": "code",
   "execution_count": null,
   "id": "edb84e53",
   "metadata": {
    "colab": {
     "base_uri": "https://localhost:8080/"
    },
    "id": "edb84e53",
    "outputId": "b12fea94-621c-4f2d-b3f4-6df82ca6d920"
   },
   "outputs": [
    {
     "name": "stdout",
     "output_type": "stream",
     "text": [
      "CPU times: user 29.5 s, sys: 917 ms, total: 30.4 s\n",
      "Wall time: 32.5 s\n"
     ]
    }
   ],
   "source": [
    "%%time\n",
    "history = model.fit(cached_train,\n",
    "                              epochs=25, \n",
    "                              verbose=0,\n",
    "                              validation_data=cached_val,\n",
    "                              validation_freq=1)"
   ]
  },
  {
   "cell_type": "code",
   "execution_count": null,
   "id": "TmQ6LaN9vwuz",
   "metadata": {
    "id": "TmQ6LaN9vwuz"
   },
   "outputs": [],
   "source": [
    "# with open(\"../Data/TFRS/features/retrieval/new/model_4_ranking_history.obj\", 'rb') as pickle_file:\n",
    "#     history = pickle.load(pickle_file)"
   ]
  },
  {
   "cell_type": "code",
   "execution_count": null,
   "id": "R2jlyblk5BBl",
   "metadata": {
    "colab": {
     "base_uri": "https://localhost:8080/"
    },
    "id": "R2jlyblk5BBl",
    "outputId": "357afeaa-1955-41aa-9559-a9baf70afb58"
   },
   "outputs": [
    {
     "name": "stdout",
     "output_type": "stream",
     "text": [
      "11/11 [==============================] - 1s 45ms/step - root_mean_squared_error: 0.8389 - mean_absolute_error: 0.5091 - loss: 0.7509 - regularization_loss: 0.0000e+00 - total_loss: 0.7509\n"
     ]
    },
    {
     "data": {
      "text/plain": [
       "[0.8388944268226624,\n",
       " 0.5091327428817749,\n",
       " 1.0059176683425903,\n",
       " 0,\n",
       " 1.0059176683425903]"
      ]
     },
     "execution_count": 33,
     "metadata": {},
     "output_type": "execute_result"
    }
   ],
   "source": [
    "model.evaluate(cached_test)"
   ]
  },
  {
   "cell_type": "code",
   "execution_count": null,
   "id": "jimBr0bIzPjZ",
   "metadata": {
    "colab": {
     "base_uri": "https://localhost:8080/",
     "height": 401
    },
    "id": "jimBr0bIzPjZ",
    "outputId": "27b2196c-3920-4c58-baee-05b3d512f0fd"
   },
   "outputs": [
    {
     "data": {
      "image/png": "[encoded data removed]",
      "text/plain": [
       "<Figure size 1332x504 with 1 Axes>"
      ]
     },
     "metadata": {
      "needs_background": "light"
     },
     "output_type": "display_data"
    }
   ],
   "source": [
    "import matplotlib.pyplot as plt\n",
    "\n",
    "num_validation_runs = len(history.history[\"val_root_mean_squared_error\"])\n",
    "num_training_runs = len(history.history[\"root_mean_squared_error\"])\n",
    "\n",
    "\n",
    "epochs_val = [(x + 1)* 1 for x in range(num_validation_runs)]\n",
    "epochs_train = [(x + 1)* 1 for x in range(num_training_runs)]\n",
    "\n",
    "\n",
    "rmse_val = history.history[\"val_root_mean_squared_error\"]\n",
    "rmse_train = history.history[\"root_mean_squared_error\"]\n",
    "\n",
    "\n",
    "fig = plt.gcf()\n",
    "fig.set_size_inches(18.5, 7)\n",
    "plt.rcParams['axes.titlepad'] = 20\n",
    "\n",
    "plt.plot(epochs_train, rmse_train, label='Zbiór uczący')\n",
    "plt.plot(epochs_val, rmse_val, label='Zbiór walidacyjny')\n",
    "\n",
    "plt.xlabel(\"Epoki\", fontsize=20, labelpad=20)\n",
    "plt.ylabel(\"RMSE\", fontsize=20, labelpad=20)\n",
    "plt.xticks(fontsize=16)\n",
    "plt.yticks(fontsize=16)\n",
    "plt.legend(fontsize=14)\n",
    "\n",
    "# plt.title(\"Wykres zależności błędu od epok\", fontsize=20)\n",
    "plt.show()\n",
    "# fig.savefig(\"./drive/MyDrive/Colab Notebooks/Recipes_new/Data/TFRS/features/retrieval/20_10/model_4/accuracy100_vs_epochs.png\", dpi=100)"
   ]
  },
  {
   "cell_type": "code",
   "execution_count": null,
   "id": "jiLt6hce1U4K",
   "metadata": {
    "colab": {
     "base_uri": "https://localhost:8080/",
     "height": 663
    },
    "id": "jiLt6hce1U4K",
    "outputId": "a9a2c0bf-f303-46c4-dceb-630c31e6ca9d"
   },
   "outputs": [
    {
     "data": {
      "image/png": "[encoded data removed]",
      "text/plain": [
       "<Figure size 1332x756 with 1 Axes>"
      ]
     },
     "metadata": {
      "needs_background": "light"
     },
     "output_type": "display_data"
    }
   ],
   "source": [
    "import matplotlib.pyplot as plt\n",
    "\n",
    "num_validation_runs = len(history.history[\"total_loss\"])\n",
    "num_training_runs = len(history.history[\"val_total_loss\"])\n",
    "\n",
    "\n",
    "epochs_val = [(x + 1)* 1 for x in range(num_validation_runs)]# [:100]\n",
    "epochs_train = [(x + 1)* 1 for x in range(num_training_runs)] #[:100]\n",
    "\n",
    "\n",
    "loss_val = np.array(history.history[\"val_total_loss\"])#[:100]-0.25\n",
    "loss_train = np.array(history.history[\"total_loss\"])#[:100]\n",
    "\n",
    "\n",
    "fig = plt.gcf()\n",
    "fig.set_size_inches(18.5, 10.5)\n",
    "plt.rcParams['axes.titlepad'] = 20\n",
    "\n",
    "plt.plot(epochs_train, loss_train, label='Dane uczące')\n",
    "plt.plot(epochs_val, loss_val, label='Dane walidacyjne')\n",
    "\n",
    "plt.xlabel(\"Epoki\", fontsize=20, labelpad=20)\n",
    "plt.ylabel(\"Loss\", fontsize=20, labelpad=20)\n",
    "plt.xticks(fontsize=16)\n",
    "plt.yticks(fontsize=16)\n",
    "plt.legend(fontsize=14)\n",
    "\n",
    "# plt.title(\"Wykres zależności błędu od epok\", fontsize=20)\n",
    "plt.show()\n",
    "# fig.savefig(\"./drive/MyDrive/Colab Notebooks/Recipes_new/Data/TFRS/features/retrieval/20_10/model_4/accuracy100_vs_epochs.png\", dpi=100)"
   ]
  },
  {
   "cell_type": "code",
   "execution_count": null,
   "id": "NkvjZjj6aUmz",
   "metadata": {
    "id": "NkvjZjj6aUmz"
   },
   "outputs": [],
   "source": []
  }
 ],
 "metadata": {
  "accelerator": "GPU",
  "colab": {
   "collapsed_sections": [
    "7a9f1231",
    "bddc7a92",
    "a01506e4",
    "e0bf0cac",
    "cf1bd6fd",
    "07b81ccb",
    "6b13e943"
   ],
   "name": "12_TensorflowRecommender_RichFeatures_Ranking.ipynb",
   "provenance": []
  },
  "kernelspec": {
   "display_name": "Python 3 (ipykernel)",
   "language": "python",
   "name": "python3"
  },
  "language_info": {
   "codemirror_mode": {
    "name": "ipython",
    "version": 3
   },
   "file_extension": ".py",
   "mimetype": "text/x-python",
   "name": "python",
   "nbconvert_exporter": "python",
   "pygments_lexer": "ipython3",
   "version": "3.9.7"
  }
 },
 "nbformat": 4,
 "nbformat_minor": 5
}
