{
 "cells": [
  {
   "cell_type": "markdown",
   "id": "da6eca8d",
   "metadata": {
    "id": "da6eca8d"
   },
   "source": [
    "# Imports"
   ]
  },
  {
   "cell_type": "code",
   "execution_count": 1,
   "id": "c05661c5",
   "metadata": {
    "id": "c05661c5"
   },
   "outputs": [],
   "source": [
    "from surprise import NormalPredictor\n",
    "from surprise.model_selection import train_test_split\n",
    "from surprise import accuracy\n",
    "import heapq\n",
    "import pickle \n",
    "import pandas as pd\n",
    "from surprise import Dataset\n",
    "from surprise import Reader\n",
    "from surprise import AlgoBase\n",
    "from create_similarity_vectors import create_top_k_similar_vectors\n",
    "from sentence_transformers import util\n",
    "import torch\n",
    "import sampling\n",
    "\n",
    "from surprise.prediction_algorithms.predictions import PredictionImpossible\n",
    "from sklearn.metrics.pairwise import cosine_similarity\n",
    "import numpy as np\n",
    "\n",
    "from sklearn.model_selection import train_test_split as train_test_split\n",
    "from surprise.model_selection import train_test_split as train_test_split_sup\n",
    "\n",
    "import os\n",
    "from KnnMatrixAglorithm import KnnMatrixAglorithm"
   ]
  },
  {
   "cell_type": "markdown",
   "id": "359efe5c",
   "metadata": {
    "id": "359efe5c"
   },
   "source": [
    "# Constants"
   ]
  },
  {
   "cell_type": "code",
   "execution_count": 7,
   "id": "e77f9b8f",
   "metadata": {
    "id": "e77f9b8f"
   },
   "outputs": [],
   "source": [
    "MATRIX_ING_50 = \"G:/Recipes/Matrix/ING_50/matrix_top25k_ing_50.obj\"\n",
    "POS_TO_RECIPE_ID_MATRIX = \"G:/Recipes/Matrix/ING_50/pos_to_recipe_id.obj\"\n",
    "RECIPE_ID_TO_POS_MATRIX = \"G:/Recipes/Matrix/ING_50/recipe_id_to_pos.obj\"\n",
    "\n",
    "RATINGS_BASE = \"../Data/base/ratings_base.parquet\"\n",
    "\n",
    "WORD2VEC_ING_50_VECTORS = \"G:/Recipes/Vectors/ingredients_vectors_50_dict.obj\""
   ]
  },
  {
   "cell_type": "markdown",
   "id": "3a49f7a5",
   "metadata": {
    "id": "3a49f7a5"
   },
   "source": [
    "# Load data"
   ]
  },
  {
   "cell_type": "code",
   "execution_count": 33,
   "id": "3694d57c",
   "metadata": {
    "id": "3694d57c"
   },
   "outputs": [],
   "source": [
    "with open(\"G:/Recipes/Matrix/ING_50/matrix_top25k_ing_50.obj\", \"rb\") as input_file:\n",
    "    matrix_ing_50 = pickle.load(input_file)"
   ]
  },
  {
   "cell_type": "code",
   "execution_count": 39,
   "id": "76e0af7d",
   "metadata": {
    "id": "76e0af7d"
   },
   "outputs": [],
   "source": [
    "with open(POS_TO_RECIPE_ID_MATRIX, \"rb\") as input_file:\n",
    "    pos_to_recipe_id = pickle.load(input_file)"
   ]
  },
  {
   "cell_type": "code",
   "execution_count": 40,
   "id": "45beddc9",
   "metadata": {
    "id": "45beddc9"
   },
   "outputs": [],
   "source": [
    "with open(RECIPE_ID_TO_POS_MATRIX, \"rb\") as input_file:\n",
    "    recipe_id_to_pos = pickle.load(input_file)"
   ]
  },
  {
   "cell_type": "code",
   "execution_count": 9,
   "id": "6906e714",
   "metadata": {
    "id": "6906e714"
   },
   "outputs": [],
   "source": [
    "with open(WORD2VEC_ING_50_VECTORS, \"rb\") as input_file:\n",
    "    word2vec_ing_vectors = pickle.load(input_file)"
   ]
  },
  {
   "cell_type": "code",
   "execution_count": 8,
   "id": "9a133bd5",
   "metadata": {
    "id": "9a133bd5"
   },
   "outputs": [],
   "source": [
    "ratings_base = pd.read_parquet(RATINGS_BASE)"
   ]
  },
  {
   "cell_type": "code",
   "execution_count": 9,
   "id": "564c1ffc",
   "metadata": {
    "id": "564c1ffc"
   },
   "outputs": [],
   "source": [
    "ratings_sample = sampling.get_ratings_with_min_number_list(ratings_base, [20,10])"
   ]
  },
  {
   "cell_type": "markdown",
   "id": "65e02eed",
   "metadata": {
    "id": "65e02eed"
   },
   "source": [
    "## Create dataset"
   ]
  },
  {
   "cell_type": "code",
   "execution_count": 3,
   "id": "4e3c13af",
   "metadata": {
    "id": "4e3c13af"
   },
   "outputs": [],
   "source": [
    "def create_train_test_dataframe(ratings_df, test_size, random_state):\n",
    "    x_train, x_test, y_train, y_test = train_test_split(\n",
    "        ratings_df[[\"AuthorId\", \"RecipeId\"]], \n",
    "        ratings_df[[\"Rating\"]], \n",
    "        test_size=test_size, \n",
    "        random_state=random_state, \n",
    "        stratify=ratings_df[\"AuthorId\"])\n",
    "    \n",
    "    trainset = x_train.merge(y_train, left_index=True, right_index=True)\n",
    "    testset = x_test.merge(y_test, left_index=True, right_index=True)\n",
    "\n",
    "    return trainset, testset"
   ]
  },
  {
   "cell_type": "code",
   "execution_count": 4,
   "id": "5904b4ee",
   "metadata": {
    "id": "5904b4ee"
   },
   "outputs": [],
   "source": [
    "def train_test_surprise_format(trainset_df, testset_df):\n",
    "    trainset_surprise = Dataset.load_from_df(trainset_df[[\"AuthorId\", \"RecipeId\", \"Rating\"]], Reader(rating_scale=(0, 5)))\n",
    "    trainset_surprise = trainset_surprise.build_full_trainset()\n",
    "    \n",
    "    testset_surprise = list(testset_df.to_records())\n",
    "    testset_surprise = [(x[1], x[2], x[3]) for x in testset_surprise]\n",
    "    \n",
    "    return trainset_surprise, testset_surprise"
   ]
  },
  {
   "cell_type": "code",
   "execution_count": 15,
   "id": "79dae20c",
   "metadata": {
    "id": "79dae20c"
   },
   "outputs": [],
   "source": [
    "user_item_ratings_dataset = Dataset.load_from_df(ratings_sample[[\"AuthorId\", \"RecipeId\", \"Rating\"]], Reader(rating_scale=(0, 5)))"
   ]
  },
  {
   "cell_type": "code",
   "execution_count": 16,
   "id": "4871869f",
   "metadata": {
    "id": "4871869f"
   },
   "outputs": [],
   "source": [
    "train_df, test_df = create_train_test_dataframe(ratings_sample, 0.2, 13)\n",
    "trainset, testset = train_test_surprise_format(train_df, test_df)"
   ]
  },
  {
   "cell_type": "markdown",
   "id": "a788b02c",
   "metadata": {},
   "source": [
    "## Predictions"
   ]
  },
  {
   "cell_type": "code",
   "execution_count": 15,
   "id": "fd7639c1",
   "metadata": {},
   "outputs": [],
   "source": [
    "with open(\"G:/Recipes/Matrix/ING_50/matrix_top25k_ing_50.obj\", 'rb') as pickle_file:\n",
    "    matrix = pickle.load(pickle_file)"
   ]
  },
  {
   "cell_type": "code",
   "execution_count": 17,
   "id": "90073e2a",
   "metadata": {},
   "outputs": [],
   "source": [
    "with open(\"G:/Recipes/Matrix/ING_50/recipe_id_to_pos.obj\", 'rb') as pickle_file:\n",
    "    recipe_id_to_pos = pickle.load(pickle_file)\n",
    "    \n",
    "with open('C:/Users/Użytkownik/Recipes/Data/word_embeddings_files/vectors/word2vec_ingredients_vectors.obj', 'rb') as pickle_file:\n",
    "    vectors = pickle.load(pickle_file)"
   ]
  },
  {
   "cell_type": "code",
   "execution_count": 19,
   "id": "774b1e06",
   "metadata": {
    "id": "774b1e06",
    "outputId": "70be2b37-bcf7-4575-dc54-77274a23aede"
   },
   "outputs": [
    {
     "data": {
      "text/plain": [
       "<__main__.KnnMatrixAglorithm at 0x21d158a3cd0>"
      ]
     },
     "execution_count": 19,
     "metadata": {},
     "output_type": "execute_result"
    }
   ],
   "source": [
    "knnMatrixAlgorithm = KnnMatrixAglorithm(matrix = matrix, recipe_id_to_pos=recipe_id_to_pos, \n",
    "                                        vectors=vectors)\n"
   ]
  },
  {
   "cell_type": "code",
   "execution_count": 1,
   "id": "cb89e66c",
   "metadata": {
    "id": "cb89e66c",
    "outputId": "dcc71f6d-997f-4d7b-9f31-23f18ed4e8d0"
   },
   "outputs": [],
   "source": [
    "kf = KFold(n_splits=5)\n",
    "rmses = []\n",
    "for trainset, testset in kf.split(ratings_sample_dataset):\n",
    "    knnMatrixAlgorithm.fit(trainset)\n",
    "    predictions = knnMatrixAlgorithm.test(testset)\n",
    "        \n",
    "    print(f\"RMSE for fold {j}: {accuracy.rmse(predictions, verbose=False)}\")\n",
    "    rmses.append(accuracy.rmse(predictions, verbose=False))\n",
    "    j = j + 1\n",
    "\n",
    "print(f\"RMSE: {np.mean(rmses)}\")"
   ]
  },
  {
   "cell_type": "markdown",
   "id": "2feee25c",
   "metadata": {},
   "source": [
    "# Top K"
   ]
  },
  {
   "cell_type": "code",
   "execution_count": 15,
   "id": "dcb12981",
   "metadata": {},
   "outputs": [],
   "source": [
    "with open(\"G:/Recipes/TopK/top1000_ING_CAT_100.obj\", \"rb\") as input_file:\n",
    "    top1000 = pickle.load(input_file)"
   ]
  },
  {
   "cell_type": "code",
   "execution_count": 19,
   "id": "d690d805",
   "metadata": {},
   "outputs": [
    {
     "data": {
      "text/plain": [
       "<__main__.TopKVectorsAlgorithm at 0x21b370d4880>"
      ]
     },
     "execution_count": 19,
     "metadata": {},
     "output_type": "execute_result"
    }
   ],
   "source": [
    "algo = TopKVectorsAlgorithm(top1000)\n",
    "algo.fit(trainset)"
   ]
  },
  {
   "cell_type": "code",
   "execution_count": 20,
   "id": "ca01f022",
   "metadata": {},
   "outputs": [],
   "source": [
    "predictions = algo.test(testset)"
   ]
  },
  {
   "cell_type": "code",
   "execution_count": 21,
   "id": "9561f0a5",
   "metadata": {},
   "outputs": [
    {
     "name": "stdout",
     "output_type": "stream",
     "text": [
      "RMSE: 0.9615\n"
     ]
    },
    {
     "data": {
      "text/plain": [
       "0.9615092088221966"
      ]
     },
     "execution_count": 21,
     "metadata": {},
     "output_type": "execute_result"
    }
   ],
   "source": [
    "accuracy.rmse(predictions)"
   ]
  },
  {
   "cell_type": "code",
   "execution_count": null,
   "id": "3aac8793",
   "metadata": {},
   "outputs": [],
   "source": []
  }
 ],
 "metadata": {
  "colab": {
   "collapsed_sections": [],
   "name": "Untitled1.ipynb",
   "provenance": []
  },
  "kernelspec": {
   "display_name": "Python 3 (ipykernel)",
   "language": "python",
   "name": "python3"
  },
  "language_info": {
   "codemirror_mode": {
    "name": "ipython",
    "version": 3
   },
   "file_extension": ".py",
   "mimetype": "text/x-python",
   "name": "python",
   "nbconvert_exporter": "python",
   "pygments_lexer": "ipython3",
   "version": "3.9.7"
  }
 },
 "nbformat": 4,
 "nbformat_minor": 5
}
