{
 "cells": [
  {
   "cell_type": "markdown",
   "id": "701f21d5",
   "metadata": {},
   "source": [
    "# Imports\n"
   ]
  },
  {
   "cell_type": "code",
   "execution_count": 1,
   "id": "5cabf516",
   "metadata": {},
   "outputs": [],
   "source": [
    "import pandas as pd\n",
    "import pickle\n",
    "import sampling\n",
    "from collections import defaultdict\n",
    "from surprise import NormalPredictor\n",
    "from surprise.model_selection import train_test_split\n",
    "from surprise.model_selection import LeaveOneOut\n",
    "from surprise.model_selection import KFold\n",
    "from surprise import accuracy\n",
    "from surprise import Dataset\n",
    "from surprise import Reader\n",
    "import random\n",
    "from surprise import SVD, SVDpp, NMF\n",
    "from surprise.model_selection import GridSearchCV\n",
    "from surprise.model_selection import RandomizedSearchCV\n",
    "my_seed = 13\n",
    "random.seed(my_seed)"
   ]
  },
  {
   "cell_type": "markdown",
   "id": "1c4e997b",
   "metadata": {},
   "source": [
    "# Constants"
   ]
  },
  {
   "cell_type": "code",
   "execution_count": 2,
   "id": "0ce95f06",
   "metadata": {},
   "outputs": [],
   "source": [
    "RATINGS_SMALL = \"../EDA_files/ratings_small.parquet\"\n",
    "RECIPES_SMALL = \"../EDA_files/recipes_small.parquet\"\n",
    "INDEX_TO_RECIPE_OBJ = \"../EDA_files/index_to_recipe.obj\"\n",
    "RECIPE_TO_INDEX_OBJ = \"../EDA_files/recipe_to_index.obj\""
   ]
  },
  {
   "cell_type": "markdown",
   "id": "f1041e10",
   "metadata": {},
   "source": [
    "# Load data\n"
   ]
  },
  {
   "cell_type": "code",
   "execution_count": 3,
   "id": "99475331",
   "metadata": {},
   "outputs": [],
   "source": [
    "recipes_small = pd.read_parquet(RECIPES_SMALL)\n",
    "ratings_small = pd.read_parquet(RATINGS_SMALL)\n",
    "\n",
    "author_min_20 = sampling.get_rating_with_min_number(ratings_small, 20, col_name='AuthorId')\n",
    "recipe_min_20 = sampling.get_rating_with_min_number(ratings_small, 20, col_name='RecipeId')\n",
    "\n",
    "ratings_min_20 = author_min_20.merge(recipe_min_20, how='inner')\n",
    "\n",
    "author_min_5 = sampling.get_rating_with_min_number(ratings_small, 5, col_name='AuthorId')\n",
    "author_min_10 = sampling.get_rating_with_min_number(ratings_small, 10, col_name='AuthorId')\n",
    "author_min_15 = sampling.get_rating_with_min_number(ratings_small, 15, col_name='AuthorId')\n",
    "author_min_25 = sampling.get_rating_with_min_number(ratings_small, 25, col_name='AuthorId')\n",
    "author_min_30 = sampling.get_rating_with_min_number(ratings_small, 30, col_name='AuthorId')\n",
    "\n",
    "author_min_40 = sampling.get_rating_with_min_number(ratings_small, 40, col_name='AuthorId')\n",
    "\n",
    "author_min_50 = sampling.get_rating_with_min_number(ratings_small, 50, col_name='AuthorId')"
   ]
  },
  {
   "cell_type": "markdown",
   "id": "fdcf0ac9",
   "metadata": {},
   "source": [
    "# Create surprise dataset"
   ]
  },
  {
   "cell_type": "code",
   "execution_count": 4,
   "id": "84de9f35",
   "metadata": {},
   "outputs": [],
   "source": [
    "ratings_min_20_dataset = Dataset.load_from_df(ratings_min_20[['AuthorId', 'RecipeId', 'Rating']], Reader(rating_scale=(0, 5)))\n",
    "authors_min_20_dataset = Dataset.load_from_df(author_min_20[['AuthorId', 'RecipeId', 'Rating']], Reader(rating_scale=(0, 5)))\n",
    "all_ratings_dataset = Dataset.load_from_df(ratings_small[['AuthorId', 'RecipeId', 'Rating']], Reader(rating_scale=(0, 5)))\n",
    "\n",
    "authors_min_5_dataset = Dataset.load_from_df(author_min_5[['AuthorId', 'RecipeId', 'Rating']], Reader(rating_scale=(0, 5)))\n",
    "authors_min_10_dataset = Dataset.load_from_df(author_min_10[['AuthorId', 'RecipeId', 'Rating']], Reader(rating_scale=(0, 5)))\n",
    "authors_min_15_dataset = Dataset.load_from_df(author_min_15[['AuthorId', 'RecipeId', 'Rating']], Reader(rating_scale=(0, 5)))\n",
    "authors_min_25_dataset = Dataset.load_from_df(author_min_25[['AuthorId', 'RecipeId', 'Rating']], Reader(rating_scale=(0, 5)))\n",
    "authors_min_30_dataset = Dataset.load_from_df(author_min_30[['AuthorId', 'RecipeId', 'Rating']], Reader(rating_scale=(0, 5)))\n",
    "\n",
    "\n",
    "authors_min_40_dataset = Dataset.load_from_df(author_min_40[['AuthorId', 'RecipeId', 'Rating']], Reader(rating_scale=(0, 5)))\n",
    "\n",
    "authors_min_50_dataset = Dataset.load_from_df(author_min_50[['AuthorId', 'RecipeId', 'Rating']], Reader(rating_scale=(0, 5)))\n",
    "\n",
    "ratings_train_set, ratings_test_set = train_test_split(ratings_min_20_dataset, train_size=0.8)\n",
    "authors_train_set, authors_test_set = train_test_split(authors_min_20_dataset, train_size=0.8)\n",
    "all_train_set, all_test_set = train_test_split(all_ratings_dataset, train_size=0.8)\n",
    "# full_trainset = user_item_ratings_dataset.build_full_trainset()\n",
    "# full_testset = full_trainset.build_testset()"
   ]
  },
  {
   "cell_type": "markdown",
   "id": "5c30efbb",
   "metadata": {},
   "source": [
    "# SVDpp\n",
    "\n",
    "Ocena jest wyznaczana jako:\n",
    "\n",
    "$$\\hat{r}_{ui}=\\mu + b_{u} + b_{i} + q_{i}^{T}(p_{u} + |R(u)|^{-1/2}\\sum y_{j})$$\n"
   ]
  },
  {
   "cell_type": "code",
   "execution_count": null,
   "id": "3e25cdfd",
   "metadata": {},
   "outputs": [],
   "source": [
    "# param_grid = {'n_epochs': [50, 100, 150], 'n_factors': [10, 15, 20], 'lr_all': [0.001, 0.005, 0.0007], 'reg_all': [0.02, 0.08, 0.05] }\n",
    "# gs = GridSearchCV(SVDpp, param_grid, measures=['rmse'], cv=3)\n",
    "# gs.fit(authors_min_20_dataset)\n",
    "\n",
    "# # best RMSE score\n",
    "# print(gs.best_score['rmse'])\n",
    "\n",
    "# # combination of parameters that gave the best RMSE score\n",
    "# print(gs.best_params['rmse'])\n",
    "# results_df = pd.DataFrame.from_dict(gs.cv_results)\n",
    "\n",
    "# algoSVDpp_best = gs.best_estimator['rmse']"
   ]
  },
  {
   "cell_type": "code",
   "execution_count": 7,
   "id": "9da5d9fa",
   "metadata": {},
   "outputs": [
    {
     "name": "stdout",
     "output_type": "stream",
     "text": [
      "Fitting...\n",
      " processing epoch 0\n",
      " processing epoch 1\n",
      " processing epoch 2\n",
      " processing epoch 3\n",
      " processing epoch 4\n",
      " processing epoch 5\n",
      " processing epoch 6\n",
      " processing epoch 7\n",
      " processing epoch 8\n",
      " processing epoch 9\n",
      " processing epoch 10\n",
      " processing epoch 11\n",
      " processing epoch 12\n",
      " processing epoch 13\n",
      " processing epoch 14\n",
      " processing epoch 15\n",
      " processing epoch 16\n",
      " processing epoch 17\n",
      " processing epoch 18\n",
      " processing epoch 19\n",
      " processing epoch 20\n",
      " processing epoch 21\n",
      " processing epoch 22\n",
      " processing epoch 23\n",
      " processing epoch 24\n",
      " processing epoch 25\n",
      " processing epoch 26\n",
      " processing epoch 27\n",
      " processing epoch 28\n",
      " processing epoch 29\n",
      " processing epoch 30\n",
      " processing epoch 31\n",
      " processing epoch 32\n",
      " processing epoch 33\n",
      " processing epoch 34\n",
      " processing epoch 35\n",
      " processing epoch 36\n",
      " processing epoch 37\n",
      " processing epoch 38\n",
      " processing epoch 39\n",
      " processing epoch 40\n",
      " processing epoch 41\n",
      " processing epoch 42\n",
      " processing epoch 43\n",
      " processing epoch 44\n",
      " processing epoch 45\n",
      " processing epoch 46\n",
      " processing epoch 47\n",
      " processing epoch 48\n",
      " processing epoch 49\n",
      "Calculating predictions\n",
      "RMSE: 0.8948\n",
      "Fitting...\n",
      " processing epoch 0\n"
     ]
    },
    {
     "ename": "KeyboardInterrupt",
     "evalue": "",
     "output_type": "error",
     "traceback": [
      "\u001b[1;31m---------------------------------------------------------------------------\u001b[0m",
      "\u001b[1;31mKeyboardInterrupt\u001b[0m                         Traceback (most recent call last)",
      "\u001b[1;32mC:\\Users\\UYTKOW~1\\AppData\\Local\\Temp/ipykernel_11064/485167640.py\u001b[0m in \u001b[0;36m<module>\u001b[1;34m\u001b[0m\n\u001b[0;32m     18\u001b[0m     \u001b[0mprint\u001b[0m\u001b[1;33m(\u001b[0m\u001b[1;34m'Fitting...'\u001b[0m\u001b[1;33m)\u001b[0m\u001b[1;33m\u001b[0m\u001b[1;33m\u001b[0m\u001b[0m\n\u001b[0;32m     19\u001b[0m     \u001b[1;31m# train and test algorithm.\u001b[0m\u001b[1;33m\u001b[0m\u001b[1;33m\u001b[0m\u001b[0m\n\u001b[1;32m---> 20\u001b[1;33m     \u001b[0malgoSVDpp_20\u001b[0m\u001b[1;33m.\u001b[0m\u001b[0mfit\u001b[0m\u001b[1;33m(\u001b[0m\u001b[0mtrainset\u001b[0m\u001b[1;33m)\u001b[0m\u001b[1;33m\u001b[0m\u001b[1;33m\u001b[0m\u001b[0m\n\u001b[0m\u001b[0;32m     21\u001b[0m \u001b[1;33m\u001b[0m\u001b[0m\n\u001b[0;32m     22\u001b[0m     \u001b[0mprint\u001b[0m\u001b[1;33m(\u001b[0m\u001b[1;34m'Calculating predictions'\u001b[0m\u001b[1;33m)\u001b[0m\u001b[1;33m\u001b[0m\u001b[1;33m\u001b[0m\u001b[0m\n",
      "\u001b[1;32mC:\\anaconda\\envs\\RecSys\\lib\\site-packages\\surprise\\prediction_algorithms\\matrix_factorization.pyx\u001b[0m in \u001b[0;36msurprise.prediction_algorithms.matrix_factorization.SVDpp.fit\u001b[1;34m()\u001b[0m\n",
      "\u001b[1;32mC:\\anaconda\\envs\\RecSys\\lib\\site-packages\\surprise\\prediction_algorithms\\matrix_factorization.pyx\u001b[0m in \u001b[0;36msurprise.prediction_algorithms.matrix_factorization.SVDpp.sgd\u001b[1;34m()\u001b[0m\n",
      "\u001b[1;32mC:\\anaconda\\envs\\RecSys\\lib\\site-packages\\surprise\\trainset.py\u001b[0m in \u001b[0;36mall_ratings\u001b[1;34m(self)\u001b[0m\n\u001b[0;32m    187\u001b[0m         \u001b[1;32mfor\u001b[0m \u001b[0mu\u001b[0m\u001b[1;33m,\u001b[0m \u001b[0mu_ratings\u001b[0m \u001b[1;32min\u001b[0m \u001b[0miteritems\u001b[0m\u001b[1;33m(\u001b[0m\u001b[0mself\u001b[0m\u001b[1;33m.\u001b[0m\u001b[0mur\u001b[0m\u001b[1;33m)\u001b[0m\u001b[1;33m:\u001b[0m\u001b[1;33m\u001b[0m\u001b[1;33m\u001b[0m\u001b[0m\n\u001b[0;32m    188\u001b[0m             \u001b[1;32mfor\u001b[0m \u001b[0mi\u001b[0m\u001b[1;33m,\u001b[0m \u001b[0mr\u001b[0m \u001b[1;32min\u001b[0m \u001b[0mu_ratings\u001b[0m\u001b[1;33m:\u001b[0m\u001b[1;33m\u001b[0m\u001b[1;33m\u001b[0m\u001b[0m\n\u001b[1;32m--> 189\u001b[1;33m                 \u001b[1;32myield\u001b[0m \u001b[0mu\u001b[0m\u001b[1;33m,\u001b[0m \u001b[0mi\u001b[0m\u001b[1;33m,\u001b[0m \u001b[0mr\u001b[0m\u001b[1;33m\u001b[0m\u001b[1;33m\u001b[0m\u001b[0m\n\u001b[0m\u001b[0;32m    190\u001b[0m \u001b[1;33m\u001b[0m\u001b[0m\n\u001b[0;32m    191\u001b[0m     \u001b[1;32mdef\u001b[0m \u001b[0mbuild_testset\u001b[0m\u001b[1;33m(\u001b[0m\u001b[0mself\u001b[0m\u001b[1;33m)\u001b[0m\u001b[1;33m:\u001b[0m\u001b[1;33m\u001b[0m\u001b[1;33m\u001b[0m\u001b[0m\n",
      "\u001b[1;31mKeyboardInterrupt\u001b[0m: "
     ]
    }
   ],
   "source": [
    "n_factors = 10\n",
    "n_epochs = 50\n",
    "init_mean= 0\n",
    "init_std_dev = 0.1\n",
    "lr_all = 0.005\n",
    "reg_all = 0.07\n",
    "algoSVDpp_20 = SVDpp(n_factors=n_factors,\n",
    "              n_epochs=n_epochs, \n",
    "              init_mean=init_mean,\n",
    "              init_std_dev = init_std_dev,\n",
    "              lr_all = lr_all,\n",
    "              reg_all = reg_all,\n",
    "                    verbose=True)\n",
    "\n",
    "kf = KFold(n_splits=5)\n",
    "rmses_20 = []\n",
    "for trainset, testset in kf.split(authors_min_20_dataset):\n",
    "    print('Fitting...')\n",
    "    # train and test algorithm.\n",
    "    algoSVDpp_20.fit(trainset)\n",
    "    \n",
    "    print('Calculating predictions')\n",
    "    predictions = algoSVDpp_20.test(testset)\n",
    "\n",
    "    # Compute and print Root Mean Squared Error\n",
    "    rmses_20.append(accuracy.rmse(predictions, verbose=True))\n",
    "    \n",
    "np.mean(rmses_20)"
   ]
  },
  {
   "cell_type": "code",
   "execution_count": null,
   "id": "5311e57a",
   "metadata": {},
   "outputs": [],
   "source": [
    "with open('../SVD/svdpp_best_min_20.obj', 'wb') as pickle_file:\n",
    "     pickle.dump(algoSVDpp_best, pickle_file)"
   ]
  },
  {
   "cell_type": "code",
   "execution_count": null,
   "id": "bc754238",
   "metadata": {},
   "outputs": [],
   "source": [
    "with open('../SVD/svdpp_best_min_20_results_df.obj', 'wb') as pickle_file:\n",
    "     pickle.dump(results_df, pickle_file)"
   ]
  },
  {
   "cell_type": "code",
   "execution_count": null,
   "id": "1e141fcf",
   "metadata": {},
   "outputs": [],
   "source": [
    "with open('../SVD/svdpp_gs.obj', 'wb') as pickle_file:\n",
    "     pickle.dump(gs, pickle_file)"
   ]
  },
  {
   "cell_type": "code",
   "execution_count": null,
   "id": "8906c833",
   "metadata": {},
   "outputs": [],
   "source": []
  }
 ],
 "metadata": {
  "kernelspec": {
   "display_name": "Python 3 (ipykernel)",
   "language": "python",
   "name": "python3"
  },
  "language_info": {
   "codemirror_mode": {
    "name": "ipython",
    "version": 3
   },
   "file_extension": ".py",
   "mimetype": "text/x-python",
   "name": "python",
   "nbconvert_exporter": "python",
   "pygments_lexer": "ipython3",
   "version": "3.9.7"
  }
 },
 "nbformat": 4,
 "nbformat_minor": 5
}
