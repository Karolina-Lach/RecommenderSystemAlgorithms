{
 "cells": [
  {
   "cell_type": "code",
   "execution_count": null,
   "id": "745fa868",
   "metadata": {},
   "outputs": [],
   "source": [
    "import os\n",
    "import pprint\n",
    "import tempfile\n",
    "from typing import Dict, Text\n",
    "\n",
    "import numpy as np\n",
    "import tensorflow as tf\n",
    "import tensorflow_datasets as tfds\n",
    "\n",
    "import pandas as pd\n",
    "import sampling\n",
    "import metrics\n",
    "\n",
    "import tensorflow_recommenders as tfrs\n",
    "\n",
    "import pickle\n",
    "\n",
    "import datetime\n",
    "\n",
    "from tensorflow.keras.layers import Flatten   \n",
    "from tensorflow.keras.layers import Dense     \n",
    "\n",
    "import TensorflowRichFeatures as tfrs_rich\n",
    "from sampling import create_train_test_dataframe\n",
    "import random"
   ]
  },
  {
   "cell_type": "markdown",
   "id": "bdeb277c",
   "metadata": {},
   "source": [
    "# Load data"
   ]
  },
  {
   "cell_type": "code",
   "execution_count": null,
   "id": "14ad7e92",
   "metadata": {},
   "outputs": [],
   "source": [
    "RATINGS_BASE = \"../Data/base/ratings_base.parquet\"\n",
    "RECIPES_BASE = \"../Data/base/recipes_base.parquet\"\n",
    "\n",
    "\n",
    "CONCAT_ING_CAT= \"../Data/samples/concatenated_ing_cat_df.obj\""
   ]
  },
  {
   "cell_type": "code",
   "execution_count": null,
   "id": "f9f00aaf",
   "metadata": {},
   "outputs": [],
   "source": [
    "recipes_small = pd.read_parquet(RECIPES_BASE)\n",
    "ratings_small = pd.read_parquet(RATINGS_BASE)\n",
    "\n",
    "with open(CONCAT_ING_CAT, \"rb\") as input_file:\n",
    "    concatenated_ing_cat_df = pickle.load(input_file)"
   ]
  },
  {
   "cell_type": "code",
   "execution_count": null,
   "id": "e076bb54",
   "metadata": {},
   "outputs": [],
   "source": [
    "ratings_sample = sampling.get_ratings_with_min_number_list(ratings_small, [20, 10])\n",
    "train_df, test_df = create_train_test_dataframe(ratings_sample, 0.2, 13)\n",
    "\n",
    "ratings_sample.RecipeId = ratings_sample.RecipeId.apply(lambda x: int(x))\n",
    "recipes_small.RecipeId = recipes_small.RecipeId.apply(lambda x: int(x))\n",
    "recipe_ids_in_sample = list(set(ratings_sample.RecipeId))"
   ]
  },
  {
   "cell_type": "code",
   "execution_count": null,
   "id": "959e57bd",
   "metadata": {},
   "outputs": [],
   "source": [
    "ratings_sample"
   ]
  },
  {
   "cell_type": "markdown",
   "id": "673855fb",
   "metadata": {},
   "source": [
    "## Merge datasets"
   ]
  },
  {
   "cell_type": "code",
   "execution_count": null,
   "id": "289a461c",
   "metadata": {},
   "outputs": [],
   "source": [
    "recipes_subset = recipes_small[[\"RecipeId\"]].merge(concatenated_ing_cat_df, on=\"RecipeId\", how=\"inner\")\n",
    "recipes_subset[\"Ingredients_Category\"] = recipes_subset[\"Concatenated\"].map(lambda x: \" \".join(x))\n",
    "recipes_subset = recipes_subset[recipes_subset.RecipeId.isin(recipe_ids_in_sample)]\n",
    "merged_dataset = ratings_sample.merge(recipes_subset, on=\"RecipeId\", how=\"inner\")\n",
    "merged_dataset.drop(columns=[\"Concatenated\", \"DateSubmitted\"], inplace=True)"
   ]
  },
  {
   "cell_type": "code",
   "execution_count": null,
   "id": "51ac891a",
   "metadata": {},
   "outputs": [],
   "source": [
    "merged_dataset.info()"
   ]
  },
  {
   "cell_type": "code",
   "execution_count": null,
   "id": "77962d1f",
   "metadata": {},
   "outputs": [],
   "source": [
    "recipes_subset.info()"
   ]
  },
  {
   "cell_type": "markdown",
   "id": "109ae948",
   "metadata": {},
   "source": [
    "# Preparing tfrs dataset"
   ]
  },
  {
   "cell_type": "code",
   "execution_count": null,
   "id": "3e95560f",
   "metadata": {},
   "outputs": [],
   "source": [
    "recipes_subset['ItemId'] = recipes_subset.RecipeId.map(lambda x: bytes(str(x), 'utf-8'))\n",
    "\n",
    "recipes_dict = recipes_subset[['ItemId','Ingredients_Category']]\n",
    "recipes_dict = {name: np.array(value) for name, value in recipes_dict.items()}\n",
    "recipes = tf.data.Dataset.from_tensor_slices(recipes_dict)\n",
    "\n",
    "\n",
    "recipes = recipes.map(lambda x: {'RecipeId' : x['ItemId'],\n",
    "                                 'Ingredients_Category' : x['Ingredients_Category']})"
   ]
  },
  {
   "cell_type": "code",
   "execution_count": null,
   "id": "5d68dfbe",
   "metadata": {},
   "outputs": [],
   "source": [
    "for x in recipes.take(1).as_numpy_iterator():\n",
    "    pprint.pprint(x)"
   ]
  },
  {
   "cell_type": "code",
   "execution_count": null,
   "id": "04d159c7",
   "metadata": {},
   "outputs": [],
   "source": [
    "ratings_sample['UserId'] = ratings_sample.AuthorId.map(lambda x: bytes(str(x), 'utf-8'))\n",
    "ratings_sample['ItemId'] = ratings_sample.RecipeId.map(lambda x: bytes(str(x), 'utf-8'))\n",
    "\n",
    "ratings_dict = ratings_sample[['UserId', 'ItemId']]\n",
    "ratings_dict = {name: np.array(value) for name, value in ratings_dict.items()}\n",
    "ratings = tf.data.Dataset.from_tensor_slices(ratings_dict)\n",
    "\n",
    "\n",
    "ratings = ratings.map(lambda x: {'AuthorId' : x['UserId'], \n",
    "                                 'RecipeId' : x['ItemId']})"
   ]
  },
  {
   "cell_type": "code",
   "execution_count": null,
   "id": "c95f5846",
   "metadata": {},
   "outputs": [],
   "source": [
    "for x in ratings.take(1).as_numpy_iterator():\n",
    "    pprint.pprint(x)"
   ]
  },
  {
   "cell_type": "code",
   "execution_count": null,
   "id": "2ffde279",
   "metadata": {},
   "outputs": [],
   "source": [
    "recipe_ids = recipes.batch(1).map(lambda x: x[\"RecipeId\"])\n",
    "user_ids = ratings.batch(1_000_000).map(lambda x: x[\"AuthorId\"])\n",
    "\n",
    "unique_recipe_ids = np.unique(np.concatenate(list(recipe_ids)))\n",
    "unique_user_ids = np.unique(np.concatenate(list(user_ids)))"
   ]
  },
  {
   "cell_type": "markdown",
   "id": "326f32b5",
   "metadata": {},
   "source": [
    "# Load model"
   ]
  },
  {
   "cell_type": "code",
   "execution_count": null,
   "id": "d2be9d03",
   "metadata": {},
   "outputs": [],
   "source": [
    "model = tfrs_rich.CombinedModel(layer_sizes=[64], \n",
    "                      unique_recipe_ids=unique_recipe_ids, \n",
    "                      unique_user_ids=unique_user_ids, \n",
    "                      recipes_dataset=recipes,\n",
    "                                verbose=False)\n",
    "model.compile(optimizer=tf.keras.optimizers.Adagrad(0.1))\n"
   ]
  },
  {
   "cell_type": "code",
   "execution_count": null,
   "id": "2f58d167",
   "metadata": {},
   "outputs": [],
   "source": [
    "model.load_weights(\"C:/Users/Użytkownik/Recipes/Data/TFRS/features/20_10/model_7/model_7a_400_epochs\")"
   ]
  },
  {
   "cell_type": "code",
   "execution_count": null,
   "id": "e297699f",
   "metadata": {},
   "outputs": [],
   "source": [
    "# model.summary()"
   ]
  },
  {
   "cell_type": "code",
   "execution_count": null,
   "id": "bc397a5f",
   "metadata": {},
   "outputs": [],
   "source": [
    "# len(recommendations_per_user[68727])"
   ]
  },
  {
   "cell_type": "markdown",
   "id": "3fe691c5",
   "metadata": {},
   "source": [
    "# Create recommendations"
   ]
  },
  {
   "cell_type": "code",
   "execution_count": null,
   "id": "e1100f46",
   "metadata": {},
   "outputs": [],
   "source": [
    "from collections import defaultdict\n",
    "\n",
    "i = 0\n",
    "k=100\n",
    "recommendations_per_user = defaultdict(list)\n",
    "relevant_items_per_user = defaultdict(list)\n",
    "\n",
    "for user_id in train_df.AuthorId.unique():\n",
    "    if i % 250 == 0:\n",
    "        print(i)\n",
    "\n",
    "    user_items_in_trainset = train_df[train_df.AuthorId == user_id]['RecipeId'].unique()\n",
    "    candidates, relevant_items_per_user[user_id] = create_anti_testset_for_user(user_id, \n",
    "                                                              user_items_in_trainset,\n",
    "                                                              test_df, \n",
    "                                                              sample_size=500, \n",
    "                                                              user_sample_size=0,\n",
    "                                                              knn=True)\n",
    "#     candidates, relevant_items_per_user[user_id] = create_anti_testset_for_user(user_id, \n",
    "#                                                               user_items_in_trainset,\n",
    "#                                                               ratings_sample,\n",
    "#                                                               knn=True)\n",
    "    \n",
    "    recipes_candidates = recipes_subset[recipes_subset.RecipeId.isin(candidates)]\n",
    "    recipes_dict = recipes_candidates[['ItemId','Ingredients_Category']]\n",
    "    recipes_dict = {name: np.array(value) for name, value in recipes_dict.items()}\n",
    "    recipes_test = tf.data.Dataset.from_tensor_slices(recipes_dict)\n",
    "\n",
    "\n",
    "    recipes_test = recipes_test.map(lambda x: {'RecipeId' : x['ItemId'],\n",
    "                                     'Ingredients_Category' : x['Ingredients_Category']})\n",
    "    \n",
    "    index = tfrs.layers.factorized_top_k.BruteForce(model.query_model)\n",
    "    index.index_from_dataset(\n",
    "    tf.data.Dataset.zip((recipes_test.map(lambda features: features['RecipeId']).batch(10000), \n",
    "                         recipes_test.batch(10000).map(model.candidate_model))))\n",
    "    \n",
    "    scores, ids = index({\"AuthorId\": tf.constant([bytes(str(user_id), 'utf-8')])}, k=k)\n",
    "    recommendations = [int(x) for x in list(ids[0].numpy())]\n",
    "    recommendations_per_user[user_id] = recommendations\n",
    "    \n",
    "    i += 1"
   ]
  },
  {
   "cell_type": "markdown",
   "id": "1fdee7f9",
   "metadata": {},
   "source": [
    "# MAP"
   ]
  },
  {
   "cell_type": "code",
   "execution_count": null,
   "id": "5f001559",
   "metadata": {},
   "outputs": [],
   "source": [
    "map_list_tfrs = []\n",
    "k_list = [1] + list(range(5, 105, 2))\n",
    "for k in k_list:\n",
    "    map_k_tfrs = metrics.recommender_map(recommendations=recommendations_per_user, \n",
    "                                relevant_items=relevant_items_per_user,\n",
    "                                k=k)\n",
    "    map_list_tfrs.append(map_k_tfrs)"
   ]
  },
  {
   "cell_type": "code",
   "execution_count": null,
   "id": "7a4b4ab9",
   "metadata": {},
   "outputs": [],
   "source": [
    "with open(\"G:/Recipes/Wykresy_samples/1000/map_k_tfrs.obj\", \"wb\") as pickle_file:\n",
    "    pickle.dump(map_list_tfrs, pickle_file)"
   ]
  },
  {
   "cell_type": "markdown",
   "id": "41755373",
   "metadata": {},
   "source": [
    "# HR"
   ]
  },
  {
   "cell_type": "code",
   "execution_count": null,
   "id": "11d0cd1d",
   "metadata": {},
   "outputs": [],
   "source": [
    "hr_list_tfrs = []\n",
    "k_list = [1] + list(range(5, 105, 2))\n",
    "for k in k_list:\n",
    "    hr_k = metrics.hit_rate(recommendations=recommendations_per_user, \n",
    "                                relevant_items=relevant_items_per_user,\n",
    "                                k=k)\n",
    "    hr_list_tfrs.append(hr_k)"
   ]
  },
  {
   "cell_type": "code",
   "execution_count": null,
   "id": "246b1a7b",
   "metadata": {},
   "outputs": [],
   "source": [
    "with open(\"G:/Recipes/Wykresy_samples/20000/hr_tfrs.obj\", \"wb\") as pickle_file:\n",
    "    pickle.dump(hr_list_tfrs, pickle_file)"
   ]
  },
  {
   "cell_type": "markdown",
   "id": "da3b8b62",
   "metadata": {},
   "source": [
    "# Item coverage"
   ]
  },
  {
   "cell_type": "code",
   "execution_count": null,
   "id": "22774657",
   "metadata": {},
   "outputs": [],
   "source": [
    "item_cov_k = []\n",
    "k_list = [1] + list(range(5, 105, 2))\n",
    "\n",
    "for k in k_list:\n",
    "    item_cov_temp = {}\n",
    "    for key in recommendations_per_user.keys():\n",
    "        item_cov_temp[key] = recommendations_per_user[key][:k]\n",
    "        \n",
    "    cov = metrics.item_coverage(item_cov_temp, ratings_sample.RecipeId.nunique(), min_rating=0)\n",
    "    item_cov_k.append(cov)"
   ]
  },
  {
   "cell_type": "code",
   "execution_count": null,
   "id": "bd2e3905",
   "metadata": {},
   "outputs": [],
   "source": [
    "with open(\"G:/Recipes/Wykresy_samples/20000/item_cov_tfrs.obj\", 'wb') as pickle_file:\n",
    "    pickle.dump(item_cov_k, pickle_file)"
   ]
  },
  {
   "cell_type": "markdown",
   "id": "e6541c06",
   "metadata": {},
   "source": [
    "# Calculate novelty"
   ]
  },
  {
   "cell_type": "code",
   "execution_count": null,
   "id": "1b734ef2",
   "metadata": {},
   "outputs": [],
   "source": [
    "ratings_per_recipe = defaultdict(int)\n",
    "for uid in recommendations_per_user.keys():\n",
    "    for iid in recommendations_per_user[uid]:\n",
    "        ratings_per_recipe[iid] += 1\n",
    "    "
   ]
  },
  {
   "cell_type": "code",
   "execution_count": null,
   "id": "8a0d7f2c",
   "metadata": {},
   "outputs": [],
   "source": [
    "novelty(recommendations_per_user, ratings_per_recipe)"
   ]
  },
  {
   "cell_type": "code",
   "execution_count": null,
   "id": "bf04b961",
   "metadata": {},
   "outputs": [],
   "source": [
    "number_of_ratings_per_recipe = ratings_sample.groupby([\"RecipeId\"]).size()\n",
    "popularity_ranking = metrics.get_popularity_ranks(number_of_ratings_per_recipe)"
   ]
  },
  {
   "cell_type": "code",
   "execution_count": null,
   "id": "e89b27b5",
   "metadata": {},
   "outputs": [],
   "source": [
    "novelty_k = []\n",
    "k_list = [1] + list(range(5, 105, 2))\n",
    "\n",
    "for k in k_list:\n",
    "    novelty_temp = {}\n",
    "    for key in recommendations_per_user.keys():\n",
    "        novelty_temp[key] = recommendations_per_user[key][:k]\n",
    "        \n",
    "    nov = metrics.novelty(novelty_temp,  ratings_per_recipe)\n",
    "    novelty_k.append(nov)"
   ]
  },
  {
   "cell_type": "code",
   "execution_count": null,
   "id": "5843aaa8",
   "metadata": {},
   "outputs": [],
   "source": [
    "with open(\"G:/Recipes/Wykresy_samples/500/novelty_tfrs_new.obj\", 'wb') as pickle_file:\n",
    "    pickle.dump(novelty_k, pickle_file)"
   ]
  },
  {
   "cell_type": "markdown",
   "id": "4e322040",
   "metadata": {},
   "source": [
    "# Calculate diversity"
   ]
  },
  {
   "cell_type": "code",
   "execution_count": null,
   "id": "9e636f7c",
   "metadata": {},
   "outputs": [],
   "source": [
    "# with open('G:/Recipes/Matrix/ING_CAT_50_SEPERATE/matrix.obj', 'rb') as pickle_file:\n",
    "#     matrix_names = pickle.load(pickle_file)\n",
    "    \n",
    "# with open('G:/Recipes/Matrix/ING_CAT_50_SEPERATE/recipe_id_to_pos.obj', 'rb') as pickle_file:\n",
    "#     recipe_id_to_pos = pickle.load(pickle_file)\n",
    "\n",
    "# with open('G:/Recipes/Matrix/ING_CAT_50_SEPERATE/pos_to_recipe_id.obj', 'rb') as pickle_file:\n",
    "#     pos_to_recipe_id = pickle.load(pickle_file)"
   ]
  },
  {
   "cell_type": "code",
   "execution_count": null,
   "id": "9b3e8b81",
   "metadata": {},
   "outputs": [],
   "source": [
    "import itertools\n",
    "from sentence_transformers import util\n",
    "\n",
    "div_ing_k = []\n",
    "k_list = [1] + list(range(5, 105, 2))\n",
    "\n",
    "for k in k_list:\n",
    "    if k % 3==0:\n",
    "        print(k)\n",
    "    div_temp = {}\n",
    "    for key in recommendations_per_user.keys():\n",
    "        div_temp[key] = recommendations_per_user[key][:k]\n",
    "        \n",
    "    div = metrics.diversity(div_temp, matrix_names, recipe_id_to_pos, None)\n",
    "    div_ing_k.append(div)"
   ]
  },
  {
   "cell_type": "code",
   "execution_count": null,
   "id": "261f1797",
   "metadata": {},
   "outputs": [],
   "source": [
    "with open(\"G:/Recipes/Wykresy_samples/20000/diversity_tfrs.obj\", 'wb') as pickle_file:\n",
    "    pickle.dump(div_ing_k, pickle_file)"
   ]
  },
  {
   "cell_type": "code",
   "execution_count": null,
   "id": "c865d6d7",
   "metadata": {},
   "outputs": [],
   "source": [
    "# with open('G:/Recipes/tests_samples/20_10/tfrs/div_ing_k.obj', 'wb') as pickle_file:\n",
    "#     pickle.dump(div_ing_k, pickle_file)"
   ]
  },
  {
   "cell_type": "markdown",
   "id": "0c7d1fcb",
   "metadata": {},
   "source": [
    "# Most popular"
   ]
  },
  {
   "cell_type": "code",
   "execution_count": null,
   "id": "e73c4bec",
   "metadata": {},
   "outputs": [],
   "source": [
    "most_popular_users = sampling.create_sample_n_popular_users(ratings_sample, n=2500)"
   ]
  },
  {
   "cell_type": "code",
   "execution_count": null,
   "id": "65798197",
   "metadata": {},
   "outputs": [],
   "source": [
    "least_popular_users = ratings_sample[~ratings_sample.AuthorId.isin(most_popular_users.AuthorId.unique())]"
   ]
  },
  {
   "cell_type": "markdown",
   "id": "d646ebfa",
   "metadata": {},
   "source": [
    "## MAP"
   ]
  },
  {
   "cell_type": "code",
   "execution_count": null,
   "id": "e3f54c8a",
   "metadata": {},
   "outputs": [],
   "source": [
    "\n",
    "recommendations_most_popular = {}\n",
    "for key, value in recommendations_per_user.items():\n",
    "    if key in most_popular_users.AuthorId.unique():\n",
    "        recommendations_most_popular[key] = value\n",
    "        \n",
    "recommendations_least_popular = {}\n",
    "for key, value in recommendations_per_user.items():\n",
    "    if key in least_popular_users.AuthorId.unique():\n",
    "        recommendations_least_popular[key] = value"
   ]
  },
  {
   "cell_type": "code",
   "execution_count": null,
   "id": "583bc32a",
   "metadata": {},
   "outputs": [],
   "source": [
    "map_list_most_popular_tfrs = []\n",
    "k_list = [1] + list(range(5, 105, 2))\n",
    "for k in k_list:\n",
    "    map_k_tfrs = metrics.recommender_map(recommendations=recommendations_most_popular, \n",
    "                                relevant_items=relevant_items_per_user,\n",
    "                                k=k)\n",
    "    map_list_most_popular_tfrs.append(map_k_tfrs)"
   ]
  },
  {
   "cell_type": "code",
   "execution_count": null,
   "id": "794af65b",
   "metadata": {},
   "outputs": [],
   "source": [
    "map_list_least_popular_tfrs = []\n",
    "k_list = [1] + list(range(5, 105, 2))\n",
    "for k in k_list:\n",
    "    map_k_tfrs = metrics.recommender_map(recommendations=recommendations_least_popular, \n",
    "                                relevant_items=relevant_items_per_user,\n",
    "                                k=k)\n",
    "    map_list_least_popular_tfrs.append(map_k_tfrs)"
   ]
  },
  {
   "cell_type": "code",
   "execution_count": null,
   "id": "8d494982",
   "metadata": {},
   "outputs": [],
   "source": [
    "map_list_most_popular_tfrs[0]"
   ]
  },
  {
   "cell_type": "code",
   "execution_count": null,
   "id": "0c34b653",
   "metadata": {},
   "outputs": [],
   "source": [
    "map_list_least_popular_tfrs[0]"
   ]
  },
  {
   "cell_type": "code",
   "execution_count": null,
   "id": "70d67c3e",
   "metadata": {},
   "outputs": [],
   "source": [
    "with open(\"G:/Recipes/Wykresy_samples/500/mar_most_popular_tfrs.obj\", \"wb\") as pickle_file:\n",
    "    pickle.dump(map_list_most_popular_tfrs, pickle_file)\n",
    "    \n",
    "with open(\"G:/Recipes/Wykresy_samples/500/mar_least_popular_tfrs.obj\", \"wb\") as pickle_file:\n",
    "    pickle.dump(map_list_least_popular_tfrs, pickle_file)"
   ]
  },
  {
   "cell_type": "markdown",
   "id": "0e9c8a45",
   "metadata": {},
   "source": [
    "## HR"
   ]
  },
  {
   "cell_type": "code",
   "execution_count": null,
   "id": "0977ef52",
   "metadata": {},
   "outputs": [],
   "source": [
    "hr_list_most_popular_tfrs = []\n",
    "k_list = [1] + list(range(5, 105, 2))\n",
    "for k in k_list:\n",
    "    hr_k = metrics.hit_rate(recommendations=recommendations_most_popular,\n",
    "                                relevant_items=relevant_items_per_user,\n",
    "                                k=k)\n",
    "    hr_list_most_popular_tfrs.append(hr_k)"
   ]
  },
  {
   "cell_type": "code",
   "execution_count": null,
   "id": "20420457",
   "metadata": {},
   "outputs": [],
   "source": [
    "hr_list_least_popular_tfrs = []\n",
    "k_list = [1] + list(range(5, 105, 2))\n",
    "for k in k_list:\n",
    "    hr_k = metrics.hit_rate(recommendations=recommendations_least_popular,\n",
    "                                relevant_items=relevant_items_per_user,\n",
    "                                k=k)\n",
    "    hr_list_least_popular_tfrs.append(hr_k)"
   ]
  },
  {
   "cell_type": "code",
   "execution_count": null,
   "id": "628328ea",
   "metadata": {},
   "outputs": [],
   "source": [
    "with open(\"G:/Recipes/Wykresy_samples/20000/hr_most_popular_tfrs.obj\", \"wb\") as pickle_file:\n",
    "    pickle.dump(hr_list_most_popular_tfrs, pickle_file)\n",
    "    \n",
    "with open(\"G:/Recipes/Wykresy_samples/20000/hr_least_popular_tfrs.obj\", \"wb\") as pickle_file:\n",
    "    pickle.dump(hr_list_least_popular_tfrs, pickle_file)"
   ]
  },
  {
   "cell_type": "code",
   "execution_count": null,
   "id": "bf0375b1",
   "metadata": {},
   "outputs": [],
   "source": []
  }
 ],
 "metadata": {
  "kernelspec": {
   "display_name": "Python 3 (ipykernel)",
   "language": "python",
   "name": "python3"
  },
  "language_info": {
   "codemirror_mode": {
    "name": "ipython",
    "version": 3
   },
   "file_extension": ".py",
   "mimetype": "text/x-python",
   "name": "python",
   "nbconvert_exporter": "python",
   "pygments_lexer": "ipython3",
   "version": "3.9.7"
  }
 },
 "nbformat": 4,
 "nbformat_minor": 5
}
