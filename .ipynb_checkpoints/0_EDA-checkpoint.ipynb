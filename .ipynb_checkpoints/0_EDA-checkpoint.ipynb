{
 "cells": [
  {
   "cell_type": "markdown",
   "id": "c8d063d1",
   "metadata": {},
   "source": [
    "# Import"
   ]
  },
  {
   "cell_type": "code",
   "execution_count": 1,
   "id": "70a7dd7c",
   "metadata": {},
   "outputs": [],
   "source": [
    "import pandas as pd\n",
    "import datetime\n",
    "from isoduration import parse_duration\n",
    "import numpy as np\n",
    "import matplotlib.pyplot as plt\n",
    "import seaborn as sns\n",
    "\n",
    "\n",
    "from sklearn.model_selection import StratifiedKFold"
   ]
  },
  {
   "cell_type": "markdown",
   "id": "274e2486",
   "metadata": {},
   "source": [
    "# Constants"
   ]
  },
  {
   "cell_type": "code",
   "execution_count": 2,
   "id": "f20ef0f3",
   "metadata": {},
   "outputs": [],
   "source": [
    "REVIEWS_DATA = \"../dataset/reviews.parquet\"\n",
    "RECIPES_DATA = \"../dataset/recipes.parquet\""
   ]
  },
  {
   "cell_type": "code",
   "execution_count": 3,
   "id": "8f42a48b",
   "metadata": {},
   "outputs": [],
   "source": [
    "INDEX_TO_RECIPE_OBJ = \"../EDA_files/index_to_recipe.obj\"\n",
    "RECIPE_TO_INDEX_OBJ = \"../EDA_files/recipe_to_index.obj\"\n",
    "RECIPES_SMALL = \"../EDA_files/recipes_small.parquet\"\n",
    "RATINGS_SMALL = \"../EDA_files/ratings_small.parquet\"\n",
    "REVIEWS_PER_RECIPE_WITH_0 = \"../EDA_files/reviews_per_recipe_with_0.obj\"\n",
    "REVIEWS_PER_RECIPE_WITHOUT_0 = \"../EDA_files/reviews_per_recipe_without_0.obj\"\n",
    "REVIEWS_PER_USER_WITH_0 = \"../EDA_files/reviews_per_user_with_0.obj\"\n",
    "REVIEWS_PER_USER_WITHOUT_0 = \"../EDA_files/reviews_per_user_without_0.obj\"\n",
    "RATINGS_TIME = \"../EDA_files/ratings_time.parquet\"\n",
    "\n",
    "RECIPE_ID_TO_NAME = \"../EDA_files/recipe_id_to_name.obj\"\n",
    "RECIPE_ID_TO_CAT = \"../EDA_files/recipe_id_to_category.obj\""
   ]
  },
  {
   "cell_type": "markdown",
   "id": "4e350b64",
   "metadata": {},
   "source": [
    "# Load data"
   ]
  },
  {
   "cell_type": "code",
   "execution_count": 4,
   "id": "c8ee0e7b",
   "metadata": {},
   "outputs": [],
   "source": [
    "ratings = pd.read_parquet(REVIEWS_DATA)"
   ]
  },
  {
   "cell_type": "code",
   "execution_count": 5,
   "id": "ec512458",
   "metadata": {},
   "outputs": [],
   "source": [
    "recipes = pd.read_parquet(RECIPES_DATA)"
   ]
  },
  {
   "cell_type": "code",
   "execution_count": 6,
   "id": "67afb4bc",
   "metadata": {},
   "outputs": [
    {
     "name": "stdout",
     "output_type": "stream",
     "text": [
      "<class 'pandas.core.frame.DataFrame'>\n",
      "RangeIndex: 1401982 entries, 0 to 1401981\n",
      "Data columns (total 8 columns):\n",
      " #   Column         Non-Null Count    Dtype              \n",
      "---  ------         --------------    -----              \n",
      " 0   ReviewId       1401982 non-null  int32              \n",
      " 1   RecipeId       1401982 non-null  int32              \n",
      " 2   AuthorId       1401982 non-null  int32              \n",
      " 3   AuthorName     1401982 non-null  object             \n",
      " 4   Rating         1401982 non-null  int32              \n",
      " 5   Review         1401982 non-null  object             \n",
      " 6   DateSubmitted  1401982 non-null  datetime64[ns, UTC]\n",
      " 7   DateModified   1401982 non-null  datetime64[ns, UTC]\n",
      "dtypes: datetime64[ns, UTC](2), int32(4), object(2)\n",
      "memory usage: 64.2+ MB\n"
     ]
    }
   ],
   "source": [
    "ratings.info()"
   ]
  },
  {
   "cell_type": "code",
   "execution_count": 7,
   "id": "a355d036",
   "metadata": {},
   "outputs": [
    {
     "name": "stdout",
     "output_type": "stream",
     "text": [
      "<class 'pandas.core.frame.DataFrame'>\n",
      "RangeIndex: 522517 entries, 0 to 522516\n",
      "Data columns (total 28 columns):\n",
      " #   Column                      Non-Null Count   Dtype              \n",
      "---  ------                      --------------   -----              \n",
      " 0   RecipeId                    522517 non-null  float64            \n",
      " 1   Name                        522517 non-null  object             \n",
      " 2   AuthorId                    522517 non-null  int32              \n",
      " 3   AuthorName                  522517 non-null  object             \n",
      " 4   CookTime                    439972 non-null  object             \n",
      " 5   PrepTime                    522517 non-null  object             \n",
      " 6   TotalTime                   522517 non-null  object             \n",
      " 7   DatePublished               522517 non-null  datetime64[ns, UTC]\n",
      " 8   Description                 522512 non-null  object             \n",
      " 9   Images                      522516 non-null  object             \n",
      " 10  RecipeCategory              521766 non-null  object             \n",
      " 11  Keywords                    522517 non-null  object             \n",
      " 12  RecipeIngredientQuantities  522517 non-null  object             \n",
      " 13  RecipeIngredientParts       522517 non-null  object             \n",
      " 14  AggregatedRating            269294 non-null  float64            \n",
      " 15  ReviewCount                 275028 non-null  float64            \n",
      " 16  Calories                    522517 non-null  float64            \n",
      " 17  FatContent                  522517 non-null  float64            \n",
      " 18  SaturatedFatContent         522517 non-null  float64            \n",
      " 19  CholesterolContent          522517 non-null  float64            \n",
      " 20  SodiumContent               522517 non-null  float64            \n",
      " 21  CarbohydrateContent         522517 non-null  float64            \n",
      " 22  FiberContent                522517 non-null  float64            \n",
      " 23  SugarContent                522517 non-null  float64            \n",
      " 24  ProteinContent              522517 non-null  float64            \n",
      " 25  RecipeServings              339606 non-null  float64            \n",
      " 26  RecipeYield                 174446 non-null  object             \n",
      " 27  RecipeInstructions          522517 non-null  object             \n",
      "dtypes: datetime64[ns, UTC](1), float64(13), int32(1), object(13)\n",
      "memory usage: 109.6+ MB\n"
     ]
    }
   ],
   "source": [
    "recipes.info()"
   ]
  },
  {
   "cell_type": "code",
   "execution_count": 8,
   "id": "2e32f067",
   "metadata": {},
   "outputs": [],
   "source": [
    "recipes[\"CookTime\"].fillna(\"PT0M\", inplace=True)\n",
    "recipes[\"PrepTime\"].fillna(\"PT0M\", inplace=True)\n",
    "recipes[\"TotalTime\"].fillna(\"PT0M\", inplace=True)"
   ]
  },
  {
   "cell_type": "markdown",
   "id": "63cfd63e",
   "metadata": {},
   "source": [
    "## Create recipes_small\n"
   ]
  },
  {
   "cell_type": "code",
   "execution_count": 9,
   "id": "df091421",
   "metadata": {},
   "outputs": [],
   "source": [
    "def duration_to_minutes(duration):\n",
    "    return float((duration.date.days * 1440) + (duration.time.hours * 60) + duration.time.minutes)"
   ]
  },
  {
   "cell_type": "code",
   "execution_count": 10,
   "id": "345ac897",
   "metadata": {},
   "outputs": [],
   "source": [
    "def create_recipes_subset():\n",
    "    recipes_small = pd.DataFrame()\n",
    "    recipes_small = recipes[[\"RecipeId\", \"Name\", \"AuthorId\"]].copy()\n",
    "    recipes_small[\"CookTimeInMinutes\"] = recipes[\"CookTime\"].copy()\n",
    "    recipes_small[\"CookTimeInMinutes\"] = recipes_small[\"CookTimeInMinutes\"].apply(lambda x: duration_to_minutes(parse_duration(x)))\n",
    "    recipes_small[\"PrepTimeInMinutes\"] = recipes[\"PrepTime\"].copy()\n",
    "    recipes_small[\"PrepTimeInMinutes\"] = recipes_small[\"PrepTimeInMinutes\"].apply(lambda x: duration_to_minutes(parse_duration(x)))\n",
    "    recipes_small[\"TotalTimeInMinutes\"] = recipes[\"TotalTime\"].copy()\n",
    "    recipes_small[\"TotalTimeInMinutes\"] = recipes_small[\"TotalTimeInMinutes\"].apply(lambda x: duration_to_minutes(parse_duration(x)))\n",
    "    recipes_small[\"DatePublished\"] = recipes[\"DatePublished\"].copy()\n",
    "    recipes_small[\"Description\"] = recipes[\"Description\"].copy()\n",
    "    recipes_small[\"RecipeCategory\"] = recipes[\"RecipeCategory\"].copy()\n",
    "\n",
    "    recipes_small[\"Keywords\"] = recipes[\"Keywords\"].copy()\n",
    "    recipes_small[\"Keywords\"] = recipes_small[\"Keywords\"].apply(lambda x: x.tolist())\n",
    "\n",
    "    recipes_small[\"Ingredients\"] = recipes[\"RecipeIngredientParts\"].copy()\n",
    "    recipes_small[\"Ingredients\"] = recipes_small[\"Ingredients\"].apply(lambda x: x.tolist())\n",
    "\n",
    "    recipes_small[\"RecipeServings\"] = recipes[\"RecipeServings\"].copy()\n",
    "    recipes_small[\"RecipeInstructions\"] = recipes[\"RecipeInstructions\"].copy()\n",
    "    recipes_small['RecipeId'] = recipes_small['RecipeId'].apply(lambda x: int(x))\n",
    "    \n",
    "    return recipes_small"
   ]
  },
  {
   "cell_type": "code",
   "execution_count": 11,
   "id": "378e0271",
   "metadata": {},
   "outputs": [],
   "source": [
    "recipes_small = create_recipes_subset()"
   ]
  },
  {
   "cell_type": "code",
   "execution_count": 12,
   "id": "026f70ae",
   "metadata": {},
   "outputs": [],
   "source": [
    "recipes_small['Nutritions'] = recipes[['FatContent', 'SaturatedFatContent', 'CholesterolContent', 'SodiumContent', 'CarbohydrateContent', 'FiberContent', 'SugarContent', 'ProteinContent']].values.tolist()"
   ]
  },
  {
   "cell_type": "code",
   "execution_count": 13,
   "id": "199aea83",
   "metadata": {},
   "outputs": [
    {
     "name": "stdout",
     "output_type": "stream",
     "text": [
      "<class 'pandas.core.frame.DataFrame'>\n",
      "RangeIndex: 522517 entries, 0 to 522516\n",
      "Data columns (total 14 columns):\n",
      " #   Column              Non-Null Count   Dtype              \n",
      "---  ------              --------------   -----              \n",
      " 0   RecipeId            522517 non-null  int64              \n",
      " 1   Name                522517 non-null  object             \n",
      " 2   AuthorId            522517 non-null  int32              \n",
      " 3   CookTimeInMinutes   522517 non-null  float64            \n",
      " 4   PrepTimeInMinutes   522517 non-null  float64            \n",
      " 5   TotalTimeInMinutes  522517 non-null  float64            \n",
      " 6   DatePublished       522517 non-null  datetime64[ns, UTC]\n",
      " 7   Description         522512 non-null  object             \n",
      " 8   RecipeCategory      521766 non-null  object             \n",
      " 9   Keywords            522517 non-null  object             \n",
      " 10  Ingredients         522517 non-null  object             \n",
      " 11  RecipeServings      339606 non-null  float64            \n",
      " 12  RecipeInstructions  522517 non-null  object             \n",
      " 13  Nutritions          522517 non-null  object             \n",
      "dtypes: datetime64[ns, UTC](1), float64(4), int32(1), int64(1), object(7)\n",
      "memory usage: 53.8+ MB\n"
     ]
    }
   ],
   "source": [
    "recipes_small.info()"
   ]
  },
  {
   "cell_type": "markdown",
   "id": "7ed14469",
   "metadata": {},
   "source": [
    "### Create <i>index_to_recipe</i> and <i>recipe_to_index</i>"
   ]
  },
  {
   "cell_type": "code",
   "execution_count": 14,
   "id": "ff8553b0",
   "metadata": {},
   "outputs": [],
   "source": [
    "index_to_recipe_df = pd.DataFrame(recipes_small['RecipeId'])"
   ]
  },
  {
   "cell_type": "code",
   "execution_count": 15,
   "id": "5c78d77d",
   "metadata": {},
   "outputs": [],
   "source": [
    "recipe_to_index_df = index_to_recipe_df.reset_index(inplace=False)\n",
    "recipe_to_index_df.set_index('RecipeId', inplace=True)"
   ]
  },
  {
   "cell_type": "code",
   "execution_count": 16,
   "id": "8ac39b87",
   "metadata": {},
   "outputs": [],
   "source": [
    "temp = index_to_recipe_df.to_dict('index')\n",
    "index_to_recipe = {key: value['RecipeId'] for key, value in temp.items()}"
   ]
  },
  {
   "cell_type": "code",
   "execution_count": 17,
   "id": "9f1d0e55",
   "metadata": {},
   "outputs": [],
   "source": [
    "temp = recipe_to_index_df.to_dict('index')\n",
    "recipe_to_index = {key: value['index'] for key, value in temp.items()}"
   ]
  },
  {
   "cell_type": "code",
   "execution_count": 18,
   "id": "cf29c860",
   "metadata": {},
   "outputs": [],
   "source": [
    "recipe_id_to_name_df = pd.DataFrame(recipes_small[['RecipeId', 'Name']])\n",
    "recipe_id_to_name_df = recipe_id_to_name_df.reset_index(inplace=False)\n",
    "recipe_id_to_name_df.set_index('RecipeId', inplace=True)\n",
    "recipe_id_to_name_df.drop(columns=['index'], inplace=True)\n",
    "\n",
    "temp = recipe_id_to_name_df.to_dict('index')\n",
    "recipe_id_to_name = {key: value['Name'] for key, value in temp.items()}"
   ]
  },
  {
   "cell_type": "code",
   "execution_count": 19,
   "id": "b943ae41",
   "metadata": {},
   "outputs": [],
   "source": [
    "recipe_id_to_cat_df = pd.DataFrame(recipes_small[['RecipeId', 'RecipeCategory']])\n",
    "recipe_id_to_cat_df = recipe_id_to_cat_df.reset_index(inplace=False)\n",
    "recipe_id_to_cat_df.set_index('RecipeId', inplace=True)\n",
    "recipe_id_to_cat_df.drop(columns=['index'], inplace=True)\n",
    "\n",
    "temp = recipe_id_to_cat_df.to_dict('index')\n",
    "recipe_id_to_cat = {key: value['RecipeCategory'] for key, value in temp.items()}"
   ]
  },
  {
   "cell_type": "markdown",
   "id": "31449f6b",
   "metadata": {},
   "source": [
    "## Create ratings_small"
   ]
  },
  {
   "cell_type": "code",
   "execution_count": 20,
   "id": "1ac21964",
   "metadata": {},
   "outputs": [],
   "source": [
    "ratings_small = pd.DataFrame()\n",
    "ratings_small = ratings[['RecipeId', 'AuthorId', 'Rating', 'Review', 'DateSubmitted']].copy()"
   ]
  },
  {
   "cell_type": "code",
   "execution_count": 21,
   "id": "3268e34f",
   "metadata": {},
   "outputs": [],
   "source": [
    "# delete ratings of missing recipes\n",
    "missing_recipes = ratings_small[~ratings_small.RecipeId.isin(recipes.RecipeId)]\n",
    "ratings_small = ratings_small.drop(missing_recipes.index)"
   ]
  },
  {
   "cell_type": "code",
   "execution_count": 22,
   "id": "e67c9e6a",
   "metadata": {},
   "outputs": [
    {
     "name": "stdout",
     "output_type": "stream",
     "text": [
      "Number of reviewed recipes:  271674\n",
      "Number of users:  271906\n"
     ]
    }
   ],
   "source": [
    "print('Number of reviewed recipes: ', ratings_small['RecipeId'].nunique())\n",
    "print('Number of users: ', ratings_small['AuthorId'].nunique())"
   ]
  },
  {
   "cell_type": "markdown",
   "id": "be10e759",
   "metadata": {},
   "source": [
    "### Get number of reviews per recipe and user"
   ]
  },
  {
   "cell_type": "code",
   "execution_count": 23,
   "id": "18ca8a3a",
   "metadata": {},
   "outputs": [],
   "source": [
    "def avg_rating(df, per_col, value):\n",
    "    return ratings_small[(df[per_col]==value) & (df['Rating']!=0)]['Rating'].mean()"
   ]
  },
  {
   "cell_type": "markdown",
   "id": "efa49da0",
   "metadata": {},
   "source": [
    "### Recipe"
   ]
  },
  {
   "cell_type": "code",
   "execution_count": 24,
   "id": "0f2d62f5",
   "metadata": {},
   "outputs": [],
   "source": [
    "reviews_per_recipe_with_0 = ratings_small.groupby('RecipeId').agg({\"RecipeId\": 'count', \"Rating\": \"mean\"})\n",
    "reviews_per_recipe_with_0 = reviews_per_recipe_with_0.rename(columns={'RecipeId': \"ReviewsPerRecipe\", 'Rating': \"AvgRating\"})"
   ]
  },
  {
   "cell_type": "code",
   "execution_count": 25,
   "id": "1f87be2c",
   "metadata": {},
   "outputs": [],
   "source": [
    "reviews_per_recipe_without_0 = ratings_small[ratings_small['Rating']!=0].groupby('RecipeId').agg({\"RecipeId\": 'count', \"Rating\": \"mean\"})\n",
    "reviews_per_recipe_without_0 = reviews_per_recipe_without_0.rename(columns={'RecipeId': \"ReviewsPerRecipe\", 'Rating': \"AvgRating\"})"
   ]
  },
  {
   "cell_type": "code",
   "execution_count": 26,
   "id": "7f233abf",
   "metadata": {},
   "outputs": [
    {
     "name": "stdout",
     "output_type": "stream",
     "text": [
      "Number of unique recipes excluding 0 ratings:  265812\n",
      "Number of unique recipes including 0 ratings:  271674\n"
     ]
    }
   ],
   "source": [
    "print(\"Number of unique recipes excluding 0 ratings: \", reviews_per_recipe_without_0.shape[0])\n",
    "print(\"Number of unique recipes including 0 ratings: \", reviews_per_recipe_with_0.shape[0])"
   ]
  },
  {
   "cell_type": "markdown",
   "id": "4a1cc372",
   "metadata": {},
   "source": [
    "### User"
   ]
  },
  {
   "cell_type": "code",
   "execution_count": 27,
   "id": "0974b524",
   "metadata": {},
   "outputs": [],
   "source": [
    "reviews_per_user_with_0 = ratings_small.groupby('AuthorId').agg({\"AuthorId\": 'count', \"Rating\": \"mean\"})\n",
    "reviews_per_user_with_0 = reviews_per_user_with_0.rename(columns={'AuthorId': \"ReviewsPerUser\", 'Rating': \"AvgRating\"})"
   ]
  },
  {
   "cell_type": "code",
   "execution_count": 28,
   "id": "ebda4a2c",
   "metadata": {},
   "outputs": [],
   "source": [
    "reviews_per_user_without_0 = ratings_small[ratings_small['Rating']!=0].groupby('AuthorId').agg({\"AuthorId\": 'count', \"Rating\": \"mean\"})\n",
    "reviews_per_user_without_0 = reviews_per_user_without_0.rename(columns={'AuthorId': \"ReviewsPerUser\", 'Rating': \"AvgRating\"})"
   ]
  },
  {
   "cell_type": "code",
   "execution_count": 29,
   "id": "13df2bc2",
   "metadata": {},
   "outputs": [
    {
     "name": "stdout",
     "output_type": "stream",
     "text": [
      "Number of unique users excluding 0 ratings:  234634\n",
      "Number of unique users including 0 ratings:  271906\n"
     ]
    }
   ],
   "source": [
    "print(\"Number of unique users excluding 0 ratings: \", reviews_per_user_without_0.shape[0])\n",
    "print(\"Number of unique users including 0 ratings: \", reviews_per_user_with_0.shape[0])"
   ]
  },
  {
   "cell_type": "markdown",
   "id": "ed1eefc7",
   "metadata": {},
   "source": [
    "### Create recipes with ratings sample "
   ]
  },
  {
   "cell_type": "code",
   "execution_count": 30,
   "id": "bae8e984",
   "metadata": {},
   "outputs": [],
   "source": [
    "recipes_with_ratings = recipes_small[recipes_small.RecipeId.isin(ratings_small.RecipeId)]"
   ]
  },
  {
   "cell_type": "code",
   "execution_count": 31,
   "id": "b97feeb5",
   "metadata": {},
   "outputs": [],
   "source": [
    "index_to_recipe_df = pd.DataFrame(recipes_with_ratings['RecipeId'])\n",
    "recipe_to_index_df = index_to_recipe_df.reset_index(inplace=False)\n",
    "\n",
    "recipe_to_index_df.set_index('RecipeId', inplace=True)\n",
    "\n",
    "temp = index_to_recipe_df.to_dict('index')\n",
    "index_to_recipe_with_ratings = {key: value['RecipeId'] for key, value in temp.items()}\n",
    "\n",
    "temp = recipe_to_index_df.to_dict('index')\n",
    "recipe_to_index_with_ratings = {key: value['index'] for key, value in temp.items()}"
   ]
  },
  {
   "cell_type": "markdown",
   "id": "f6ddb5bb",
   "metadata": {},
   "source": [
    "# Histograms"
   ]
  },
  {
   "cell_type": "markdown",
   "id": "5d1f8101",
   "metadata": {},
   "source": [
    "## Liczba ocen"
   ]
  },
  {
   "cell_type": "code",
   "execution_count": 30,
   "id": "30cb3f69",
   "metadata": {},
   "outputs": [
    {
     "data": {
      "image/png": "[encoded data removed]",
      "text/plain": [
       "<Figure size 432x288 with 1 Axes>"
      ]
     },
     "metadata": {
      "needs_background": "light"
     },
     "output_type": "display_data"
    }
   ],
   "source": [
    "plt.hist(ratings_small['Rating'], bins=6, edgecolor='gray')\n",
    "plt.xlabel(\"Oceny\")\n",
    "plt.ylabel(\"Liczba ocen\")\n",
    "plt.show()"
   ]
  },
  {
   "cell_type": "markdown",
   "id": "473880a2",
   "metadata": {},
   "source": [
    "## Liczba ocen / użytkownik"
   ]
  },
  {
   "cell_type": "code",
   "execution_count": 31,
   "id": "9f2a6da7",
   "metadata": {},
   "outputs": [],
   "source": [
    "reviews_per_user_sorted = reviews_per_user_with_0.sort_values(by='ReviewsPerUser', ascending=False)"
   ]
  },
  {
   "cell_type": "code",
   "execution_count": 32,
   "id": "976e86c1",
   "metadata": {},
   "outputs": [],
   "source": [
    "y = reviews_per_user_sorted[reviews_per_user_sorted['ReviewsPerUser']>1]\n",
    "y = y['ReviewsPerUser'].tolist()"
   ]
  },
  {
   "cell_type": "code",
   "execution_count": 33,
   "id": "69873c74",
   "metadata": {},
   "outputs": [
    {
     "data": {
      "image/png": "[encoded data removed]",
      "text/plain": [
       "<Figure size 432x288 with 1 Axes>"
      ]
     },
     "metadata": {
      "needs_background": "light"
     },
     "output_type": "display_data"
    }
   ],
   "source": [
    "fig = plt.figure()\n",
    "ax = fig.add_axes([0,0,1,1])\n",
    "ids = range(0, len(y))\n",
    "counts = y\n",
    "ax.bar(ids[:2000], counts[:2000], width=1.0)\n",
    "ax.set_ylabel(\"Liczba ocen\")\n",
    "ax.set_xlabel(\"Index użytkowników\")\n",
    "plt.show()"
   ]
  },
  {
   "cell_type": "markdown",
   "id": "3f63ace8",
   "metadata": {},
   "source": [
    "## Liczba ocen / przepis"
   ]
  },
  {
   "cell_type": "code",
   "execution_count": 34,
   "id": "fd23c901",
   "metadata": {},
   "outputs": [],
   "source": [
    "reviews_per_recipe_sorted = reviews_per_recipe_with_0.sort_values(by='ReviewsPerRecipe', ascending=False)\n",
    "y = reviews_per_recipe_sorted[reviews_per_recipe_sorted['ReviewsPerRecipe']>1]\n",
    "y = y['ReviewsPerRecipe'].tolist()"
   ]
  },
  {
   "cell_type": "code",
   "execution_count": 35,
   "id": "1963f192",
   "metadata": {},
   "outputs": [
    {
     "data": {
      "image/png": "[encoded data removed]",
      "text/plain": [
       "<Figure size 432x288 with 1 Axes>"
      ]
     },
     "metadata": {
      "needs_background": "light"
     },
     "output_type": "display_data"
    }
   ],
   "source": [
    "fig = plt.figure()\n",
    "ax = fig.add_axes([0,0,1,1])\n",
    "ids = range(0, len(y))\n",
    "counts = y\n",
    "ax.bar(ids[:2000], counts[:2000], width=1.0)\n",
    "ax.set_ylabel(\"Liczba ocen\")\n",
    "ax.set_xlabel(\"Index przepisów\")\n",
    "plt.show()"
   ]
  },
  {
   "cell_type": "markdown",
   "id": "9b96449d",
   "metadata": {},
   "source": [
    "\"Long tail problem\" - większość itemów w systemie jest oceniona tylko przez kilku użytkowników. Większość użytkowników ma zaledwie kilka ocen."
   ]
  },
  {
   "cell_type": "markdown",
   "id": "27b40250",
   "metadata": {},
   "source": [
    "# Czas"
   ]
  },
  {
   "cell_type": "code",
   "execution_count": 36,
   "id": "ef74317f",
   "metadata": {},
   "outputs": [],
   "source": [
    "ratings_time = ratings_small.copy()"
   ]
  },
  {
   "cell_type": "code",
   "execution_count": 37,
   "id": "e1e2b474",
   "metadata": {},
   "outputs": [],
   "source": [
    "ratings_time['Month'] = ratings_time['DateSubmitted'].apply(lambda x: x.month)\n",
    "ratings_time['Year'] = ratings_time['DateSubmitted'].apply(lambda x: x.year)\n",
    "ratings_time['DayOfWeek'] = ratings_time['DateSubmitted'].apply(lambda x: x.weekday)\n",
    "ratings_time['IsWeekend'] = ratings_time['DayOfWeek'].apply(lambda x: x > 5)\n",
    "ratings_time['Quarter'] = ratings_time['DateSubmitted'].apply(lambda x: x.quarter)"
   ]
  },
  {
   "cell_type": "code",
   "execution_count": 38,
   "id": "e1623403",
   "metadata": {},
   "outputs": [],
   "source": [
    "ratings_per_month = ratings_time.groupby('Month').agg({'Month': 'count'})\n",
    "ratings_per_month = ratings_per_month.rename(columns={'Month': 'Count'})"
   ]
  },
  {
   "cell_type": "code",
   "execution_count": 39,
   "id": "17908111",
   "metadata": {},
   "outputs": [
    {
     "data": {
      "image/png": "[encoded data removed]",
      "text/plain": [
       "<Figure size 432x288 with 1 Axes>"
      ]
     },
     "metadata": {
      "needs_background": "light"
     },
     "output_type": "display_data"
    }
   ],
   "source": [
    "plt.bar(ratings_per_month.index, ratings_per_month['Count'])\n",
    "plt.xlabel('Miesiące')\n",
    "plt.ylabel('Liczba ocen')\n",
    "plt.show()"
   ]
  },
  {
   "cell_type": "code",
   "execution_count": 40,
   "id": "1c1a6278",
   "metadata": {},
   "outputs": [],
   "source": [
    "month_counts = ratings_time.groupby(['Month']).agg({'Month':'count'})\n",
    "ratings_per_month = ratings_time[ratings_time['Rating']>0].groupby(['Month', 'Rating']).agg({'Month': 'count'})\n",
    "ratings_per_month = ratings_per_month.rename(columns={'Month': 'Counts'})"
   ]
  },
  {
   "cell_type": "code",
   "execution_count": 41,
   "id": "872020c2",
   "metadata": {},
   "outputs": [],
   "source": [
    "x = ratings_per_month.loc[1].index.tolist()\n",
    "y = ratings_per_month.loc[1][\"Counts\"].tolist()\n",
    "y = np.array(y) / sum(y)"
   ]
  },
  {
   "cell_type": "code",
   "execution_count": 42,
   "id": "321488be",
   "metadata": {},
   "outputs": [
    {
     "data": {
      "text/html": [
       "<div>\n",
       "<style scoped>\n",
       "    .dataframe tbody tr th:only-of-type {\n",
       "        vertical-align: middle;\n",
       "    }\n",
       "\n",
       "    .dataframe tbody tr th {\n",
       "        vertical-align: top;\n",
       "    }\n",
       "\n",
       "    .dataframe thead th {\n",
       "        text-align: right;\n",
       "    }\n",
       "</style>\n",
       "<table border=\"1\" class=\"dataframe\">\n",
       "  <thead>\n",
       "    <tr style=\"text-align: right;\">\n",
       "      <th></th>\n",
       "      <th>RecipeId</th>\n",
       "      <th>AuthorId</th>\n",
       "      <th>Rating</th>\n",
       "      <th>Review</th>\n",
       "      <th>DateSubmitted</th>\n",
       "      <th>Month</th>\n",
       "      <th>Year</th>\n",
       "      <th>DayOfWeek</th>\n",
       "      <th>IsWeekend</th>\n",
       "      <th>Quarter</th>\n",
       "    </tr>\n",
       "  </thead>\n",
       "  <tbody>\n",
       "    <tr>\n",
       "      <th>0</th>\n",
       "      <td>992</td>\n",
       "      <td>2008</td>\n",
       "      <td>5</td>\n",
       "      <td>better than any you can get at a restaurant!</td>\n",
       "      <td>2000-01-25 21:44:00+00:00</td>\n",
       "      <td>1</td>\n",
       "      <td>2000</td>\n",
       "      <td>1</td>\n",
       "      <td>False</td>\n",
       "      <td>1</td>\n",
       "    </tr>\n",
       "    <tr>\n",
       "      <th>1</th>\n",
       "      <td>4384</td>\n",
       "      <td>1634</td>\n",
       "      <td>4</td>\n",
       "      <td>I cut back on the mayo, and made up the differ...</td>\n",
       "      <td>2001-10-17 16:49:59+00:00</td>\n",
       "      <td>10</td>\n",
       "      <td>2001</td>\n",
       "      <td>2</td>\n",
       "      <td>False</td>\n",
       "      <td>4</td>\n",
       "    </tr>\n",
       "    <tr>\n",
       "      <th>2</th>\n",
       "      <td>4523</td>\n",
       "      <td>2046</td>\n",
       "      <td>2</td>\n",
       "      <td>i think i did something wrong because i could ...</td>\n",
       "      <td>2000-02-25 09:00:00+00:00</td>\n",
       "      <td>2</td>\n",
       "      <td>2000</td>\n",
       "      <td>4</td>\n",
       "      <td>False</td>\n",
       "      <td>1</td>\n",
       "    </tr>\n",
       "    <tr>\n",
       "      <th>3</th>\n",
       "      <td>7435</td>\n",
       "      <td>1773</td>\n",
       "      <td>5</td>\n",
       "      <td>easily the best i have ever had.  juicy flavor...</td>\n",
       "      <td>2000-03-13 21:15:00+00:00</td>\n",
       "      <td>3</td>\n",
       "      <td>2000</td>\n",
       "      <td>0</td>\n",
       "      <td>False</td>\n",
       "      <td>1</td>\n",
       "    </tr>\n",
       "    <tr>\n",
       "      <th>4</th>\n",
       "      <td>44</td>\n",
       "      <td>2085</td>\n",
       "      <td>5</td>\n",
       "      <td>An excellent dish.</td>\n",
       "      <td>2000-03-28 12:51:00+00:00</td>\n",
       "      <td>3</td>\n",
       "      <td>2000</td>\n",
       "      <td>1</td>\n",
       "      <td>False</td>\n",
       "      <td>1</td>\n",
       "    </tr>\n",
       "    <tr>\n",
       "      <th>...</th>\n",
       "      <td>...</td>\n",
       "      <td>...</td>\n",
       "      <td>...</td>\n",
       "      <td>...</td>\n",
       "      <td>...</td>\n",
       "      <td>...</td>\n",
       "      <td>...</td>\n",
       "      <td>...</td>\n",
       "      <td>...</td>\n",
       "      <td>...</td>\n",
       "    </tr>\n",
       "    <tr>\n",
       "      <th>1401977</th>\n",
       "      <td>139499</td>\n",
       "      <td>2002080368</td>\n",
       "      <td>2</td>\n",
       "      <td>I was disappointed. I couldn't wait to make th...</td>\n",
       "      <td>2020-12-27 23:57:54+00:00</td>\n",
       "      <td>12</td>\n",
       "      <td>2020</td>\n",
       "      <td>6</td>\n",
       "      <td>True</td>\n",
       "      <td>4</td>\n",
       "    </tr>\n",
       "    <tr>\n",
       "      <th>1401978</th>\n",
       "      <td>148484</td>\n",
       "      <td>41805321</td>\n",
       "      <td>5</td>\n",
       "      <td>Nothing to drain. And I don’t heat up the liqu...</td>\n",
       "      <td>2020-12-28 00:44:42+00:00</td>\n",
       "      <td>12</td>\n",
       "      <td>2020</td>\n",
       "      <td>0</td>\n",
       "      <td>False</td>\n",
       "      <td>4</td>\n",
       "    </tr>\n",
       "    <tr>\n",
       "      <th>1401979</th>\n",
       "      <td>264191</td>\n",
       "      <td>2002901848</td>\n",
       "      <td>5</td>\n",
       "      <td>Good base recipe for someone to start with. I ...</td>\n",
       "      <td>2020-12-28 01:04:43+00:00</td>\n",
       "      <td>12</td>\n",
       "      <td>2020</td>\n",
       "      <td>0</td>\n",
       "      <td>False</td>\n",
       "      <td>4</td>\n",
       "    </tr>\n",
       "    <tr>\n",
       "      <th>1401980</th>\n",
       "      <td>411791</td>\n",
       "      <td>2002901938</td>\n",
       "      <td>5</td>\n",
       "      <td>Thank you so much for this amazing recipe! I l...</td>\n",
       "      <td>2020-12-28 03:07:10+00:00</td>\n",
       "      <td>12</td>\n",
       "      <td>2020</td>\n",
       "      <td>0</td>\n",
       "      <td>False</td>\n",
       "      <td>4</td>\n",
       "    </tr>\n",
       "    <tr>\n",
       "      <th>1401981</th>\n",
       "      <td>352686</td>\n",
       "      <td>2002812127</td>\n",
       "      <td>5</td>\n",
       "      <td>I can't say enough about this recipe.... the b...</td>\n",
       "      <td>2020-12-28 03:23:48+00:00</td>\n",
       "      <td>12</td>\n",
       "      <td>2020</td>\n",
       "      <td>0</td>\n",
       "      <td>False</td>\n",
       "      <td>4</td>\n",
       "    </tr>\n",
       "  </tbody>\n",
       "</table>\n",
       "<p>1401982 rows × 10 columns</p>\n",
       "</div>"
      ],
      "text/plain": [
       "         RecipeId    AuthorId  Rating  \\\n",
       "0             992        2008       5   \n",
       "1            4384        1634       4   \n",
       "2            4523        2046       2   \n",
       "3            7435        1773       5   \n",
       "4              44        2085       5   \n",
       "...           ...         ...     ...   \n",
       "1401977    139499  2002080368       2   \n",
       "1401978    148484    41805321       5   \n",
       "1401979    264191  2002901848       5   \n",
       "1401980    411791  2002901938       5   \n",
       "1401981    352686  2002812127       5   \n",
       "\n",
       "                                                    Review  \\\n",
       "0             better than any you can get at a restaurant!   \n",
       "1        I cut back on the mayo, and made up the differ...   \n",
       "2        i think i did something wrong because i could ...   \n",
       "3        easily the best i have ever had.  juicy flavor...   \n",
       "4                                       An excellent dish.   \n",
       "...                                                    ...   \n",
       "1401977  I was disappointed. I couldn't wait to make th...   \n",
       "1401978  Nothing to drain. And I don’t heat up the liqu...   \n",
       "1401979  Good base recipe for someone to start with. I ...   \n",
       "1401980  Thank you so much for this amazing recipe! I l...   \n",
       "1401981  I can't say enough about this recipe.... the b...   \n",
       "\n",
       "                    DateSubmitted  Month  Year  DayOfWeek  IsWeekend  Quarter  \n",
       "0       2000-01-25 21:44:00+00:00      1  2000          1      False        1  \n",
       "1       2001-10-17 16:49:59+00:00     10  2001          2      False        4  \n",
       "2       2000-02-25 09:00:00+00:00      2  2000          4      False        1  \n",
       "3       2000-03-13 21:15:00+00:00      3  2000          0      False        1  \n",
       "4       2000-03-28 12:51:00+00:00      3  2000          1      False        1  \n",
       "...                           ...    ...   ...        ...        ...      ...  \n",
       "1401977 2020-12-27 23:57:54+00:00     12  2020          6       True        4  \n",
       "1401978 2020-12-28 00:44:42+00:00     12  2020          0      False        4  \n",
       "1401979 2020-12-28 01:04:43+00:00     12  2020          0      False        4  \n",
       "1401980 2020-12-28 03:07:10+00:00     12  2020          0      False        4  \n",
       "1401981 2020-12-28 03:23:48+00:00     12  2020          0      False        4  \n",
       "\n",
       "[1401982 rows x 10 columns]"
      ]
     },
     "execution_count": 42,
     "metadata": {},
     "output_type": "execute_result"
    }
   ],
   "source": [
    "ratings_time"
   ]
  },
  {
   "cell_type": "code",
   "execution_count": 43,
   "id": "7cff4f26",
   "metadata": {},
   "outputs": [
    {
     "data": {
      "text/plain": [
       "(0.0, 100.0)"
      ]
     },
     "execution_count": 43,
     "metadata": {},
     "output_type": "execute_result"
    },
    {
     "data": {
      "image/png": "[encoded data removed]",
      "text/plain": [
       "<Figure size 402.375x360 with 1 Axes>"
      ]
     },
     "metadata": {
      "needs_background": "light"
     },
     "output_type": "display_data"
    }
   ],
   "source": [
    "x,y = 'Month', 'Rating'\n",
    "\n",
    "df1 = ratings_time.groupby(x)[y].value_counts(normalize=True)\n",
    "df1 = df1.mul(100)\n",
    "df1 = df1.rename('percent').reset_index()\n",
    "\n",
    "g = sns.catplot(x=x,y='percent',hue=y,kind='bar',data=df1)\n",
    "g.ax.set_ylim(0,100)\n"
   ]
  },
  {
   "cell_type": "code",
   "execution_count": 44,
   "id": "c2adb0ce",
   "metadata": {
    "scrolled": true
   },
   "outputs": [
    {
     "data": {
      "image/png": "[encoded data removed]",
      "text/plain": [
       "<Figure size 402.375x360 with 1 Axes>"
      ]
     },
     "metadata": {
      "needs_background": "light"
     },
     "output_type": "display_data"
    }
   ],
   "source": [
    "x,y = 'IsWeekend', 'Rating'\n",
    "\n",
    "df1 = ratings_time.groupby(x)[y].value_counts(normalize=True)\n",
    "df1 = df1.mul(100)\n",
    "df1 = df1.rename('percent').reset_index()\n",
    "\n",
    "g = sns.catplot(x=x,y='percent',hue=y,kind='bar',data=df1)\n",
    "g.ax.set_ylim(0,100)\n",
    "\n",
    "for p in g.ax.patches:\n",
    "    txt = str(p.get_height().round(2)) + '%'\n",
    "    txt_x = p.get_x() \n",
    "    txt_y = p.get_height()\n",
    "    g.ax.text(txt_x,txt_y,txt)"
   ]
  },
  {
   "cell_type": "code",
   "execution_count": 45,
   "id": "aab8d140",
   "metadata": {},
   "outputs": [
    {
     "data": {
      "image/png": "[encoded data removed]",
      "text/plain": [
       "<Figure size 402.375x360 with 1 Axes>"
      ]
     },
     "metadata": {
      "needs_background": "light"
     },
     "output_type": "display_data"
    }
   ],
   "source": [
    "x,y = 'Quarter', 'Rating'\n",
    "\n",
    "df1 = ratings_time.groupby(x)[y].value_counts(normalize=True)\n",
    "df1 = df1.mul(100)\n",
    "df1 = df1.rename('percent').reset_index()\n",
    "\n",
    "g = sns.catplot(x=x,y='percent',hue=y,kind='bar',data=df1)\n",
    "g.ax.set_ylim(0,100)\n",
    "\n",
    "for p in g.ax.patches:\n",
    "    txt = str(p.get_height().round(2)) + '%'\n",
    "    txt_x = p.get_x() \n",
    "    txt_y = p.get_height()\n",
    "    g.ax.text(txt_x,txt_y,txt)"
   ]
  },
  {
   "cell_type": "markdown",
   "id": "a559b91a",
   "metadata": {},
   "source": [
    "Rozkład ocen jest taki sam dla różnych przedziałów czasu, więc taka informacja raczej nie będzie miała wpływu na oceny. "
   ]
  },
  {
   "cell_type": "markdown",
   "id": "18d2d23e",
   "metadata": {},
   "source": [
    "# Categories"
   ]
  },
  {
   "cell_type": "code",
   "execution_count": 56,
   "id": "027b2e3f",
   "metadata": {},
   "outputs": [
    {
     "name": "stdout",
     "output_type": "stream",
     "text": [
      "Dessert 62072\n",
      "Lunch/Snacks 32586\n",
      "One Dish Meal 31345\n",
      "Vegetable 27231\n",
      "Breakfast 21101\n",
      "Beverages 16076\n",
      "Chicken 13249\n",
      "Meat 13131\n",
      "Breads 12804\n",
      "Pork 12603\n",
      "Sauces 12166\n",
      "Chicken Breast 11282\n",
      "Potato 10870\n",
      "Quick Breads 10387\n",
      "< 60 Mins 9719\n",
      "< 30 Mins 9020\n",
      "Cheese 8462\n",
      "Pie 7775\n",
      "Bar Cookie 7029\n",
      "Low Protein 6663\n",
      "< 15 Mins 6662\n",
      "Drop Cookies 6385\n",
      "Stew 5679\n",
      "Yeast Breads 5523\n",
      "Beans 5463\n",
      "Candy 5229\n",
      "Salad Dressings 5066\n",
      "< 4 Hours 4969\n",
      "Frozen Desserts 4804\n",
      "Spreads 4694\n",
      "Poultry 3925\n",
      "Cheesecake 3915\n",
      "Low Cholesterol 3807\n",
      "European 3690\n",
      "Smoothies 3562\n",
      "Very Low Carbs 3386\n",
      "Steak 3242\n",
      "Onions 3177\n",
      "Savory Pies 3055\n",
      "Curries 2828\n",
      "Rice 2735\n",
      "Fruit 2568\n",
      "Chowders 2331\n",
      "Grains 2280\n",
      "Corn 2274\n",
      "Yam/Sweet Potato 2238\n",
      "Asian 2196\n",
      "Crab 2171\n",
      "Punch Beverage 2169\n",
      "Mexican 2119\n",
      "Lamb/Sheep 2050\n",
      "Spinach 1960\n",
      "Spaghetti 1865\n",
      "Chicken Thigh & Leg 1739\n",
      "Healthy 1720\n",
      "Ham 1614\n",
      "Roast Beef 1522\n",
      "Greens 1514\n",
      "Whole Chicken 1475\n",
      "Clear Soup 1474\n",
      "Tarts 1456\n",
      "Gelatin 1435\n",
      "Tuna 1413\n",
      "Peppers 1412\n",
      "Cauliflower 1398\n",
      "Weeknight 1337\n",
      "Black Beans 1325\n",
      "Apple 1287\n",
      "Scones 1165\n",
      "High Protein 1160\n",
      "Lentil 1106\n",
      "Penne 1088\n",
      "Long Grain Rice 1054\n",
      "White Rice 1024\n",
      "Shakes 1014\n",
      "Soy/Tofu 946\n",
      "Kid Friendly 939\n",
      "Stocks 925\n",
      "Pineapple 910\n",
      "Vegan 842\n",
      "High In... 828\n",
      "Easy 727\n",
      "Brown Rice 722\n",
      "Bath/Beauty 650\n",
      "Brunch 598\n",
      "For Large Groups 586\n",
      "Greek 557\n",
      "Pasta Shells 552\n",
      "Lemon 545\n",
      "Oranges 539\n",
      "Chinese 528\n",
      "Veal 524\n",
      "Strawberry 509\n",
      "Berries 508\n",
      "Halibut 499\n",
      "Gumbo 469\n",
      "Free Of... 462\n",
      "Cajun 462\n",
      "Chutneys 458\n",
      "Potluck 454\n",
      "Summer 447\n",
      "Thai 439\n",
      "Meatloaf 435\n",
      "Jellies 425\n",
      "Canadian 415\n",
      "Lactose Free 411\n",
      "Nuts 408\n",
      "Christmas 396\n",
      "Tilapia 395\n",
      "Meatballs 390\n",
      "Mashed Potatoes 386\n",
      "Australian 381\n",
      "Turkey Breasts 367\n",
      "Deer 362\n",
      "Mussels 356\n",
      "Savory 351\n",
      "Whole Turkey 346\n",
      "Lobster 340\n",
      "Southwest Asia (middle East) 333\n",
      "Japanese 329\n",
      "Short Grain Rice 327\n",
      "Melons 321\n",
      "Mango 320\n",
      "Southwestern U.S. 310\n",
      "Catfish 304\n",
      "Ice Cream 285\n",
      "Toddler Friendly 282\n",
      "Coconut 281\n",
      "Tex Mex 274\n",
      "African 267\n",
      "Spanish 265\n",
      "Macaroni And Cheese 264\n",
      "Spicy 254\n",
      "Winter 253\n",
      "Household Cleaner 251\n",
      "Tropical Fruits 248\n",
      "Citrus 247\n",
      "German 247\n",
      "Indian 241\n",
      "Thanksgiving 231\n",
      "Caribbean 230\n",
      "Pakistani 229\n",
      "Creole 226\n",
      "Pears 225\n",
      "Chocolate Chip Cookies 222\n",
      "Sourdough Breads 220\n",
      "Trout 213\n",
      "Oatmeal 210\n",
      "Oven 207\n",
      "Wild Game 194\n",
      "Manicotti 193\n",
      "Beginner Cook 191\n",
      "Moroccan 189\n",
      "Beef Organ Meats 179\n",
      "Raspberries 173\n",
      "Crawfish 170\n",
      "Collard Greens 161\n",
      "Squid 156\n",
      "Pot Pie 153\n",
      "South American 147\n",
      "Mahi Mahi 147\n",
      "Kosher 144\n",
      "Lime 144\n",
      "Bass 141\n",
      "Pumpkin 141\n",
      "Homeopathy/Remedies 129\n",
      "Cherries 123\n",
      "Egg Free 123\n",
      "Avocado 121\n",
      "Duck 119\n",
      "Chard 118\n",
      "Spring 117\n",
      "Vietnamese 113\n",
      "Chicken Livers 112\n",
      "Russian 108\n",
      "Duck Breasts 102\n",
      "Korean 99\n",
      "Whole Duck 98\n",
      "Sweet 98\n",
      "Orange Roughy 98\n",
      "Peanut Butter 95\n",
      "Portuguese 94\n",
      "Rabbit 93\n",
      "Scandinavian 88\n",
      "Broil/Grill 81\n",
      "Whitefish 77\n",
      "High Fiber 76\n",
      "Halloween 76\n",
      "Medium Grain Rice 74\n",
      "Hawaiian 73\n",
      "Microwave 73\n",
      "Plums 70\n",
      "Filipino 65\n",
      "Artichoke 62\n",
      "Papaya 60\n",
      "Cantonese 57\n",
      "Turkish 57\n",
      "Lebanese 56\n",
      "Tempeh 56\n",
      "Hungarian 56\n",
      "Quail 56\n",
      "Scottish 55\n",
      "New Zealand 54\n",
      "Polish 53\n",
      "Pheasant 53\n",
      "Brazilian 52\n",
      "South African 51\n",
      "No Shell Fish 49\n",
      "Swedish 47\n",
      "Native American 47\n",
      "Camping 43\n",
      "Norwegian 43\n",
      "Szechuan 42\n",
      "Canning 38\n",
      "Dutch 37\n",
      "Stove Top 36\n",
      "Swiss 35\n",
      "Goose 35\n",
      "Malaysian 35\n",
      "Grapes 35\n",
      "Indonesian 34\n",
      "Cuban 32\n",
      "Danish 31\n",
      "Polynesian 31\n",
      "St. Patrick's Day 31\n",
      "Puerto Rican 29\n",
      "Egyptian 29\n",
      "Austrian 28\n",
      "Octopus 27\n",
      "Peruvian 26\n",
      "Ethiopian 25\n",
      "Elk 25\n",
      "Perch 24\n",
      "Pennsylvania Dutch 24\n",
      "Birthday 23\n",
      "Nepalese 23\n",
      "Kiwifruit 22\n",
      "Czech 20\n",
      "Baking 20\n",
      "Pressure Cooker 20\n",
      "Mixer 19\n",
      "Refrigerator 18\n",
      "No Cook 18\n",
      "Moose 18\n",
      "Colombian 17\n",
      "Finnish 16\n",
      "Palestinian 16\n",
      "Welsh 14\n",
      "Chilean 14\n",
      "Belgian 13\n",
      "Cambodian 13\n",
      "Bear 12\n",
      "Inexpensive 12\n",
      "Iraqi 11\n",
      "Roast 11\n",
      "Hunan 10\n",
      "Bread Machine 10\n",
      "Icelandic 9\n",
      "Beef Liver 9\n",
      "Freezer 8\n",
      "From Scratch 8\n",
      "Nigerian 7\n",
      "Memorial Day 7\n",
      "Small Appliance 6\n",
      "Costa Rican 6\n",
      "Deep Fried 5\n",
      "Pot Roast 4\n",
      "Dehydrator 4\n",
      "Hanukkah 4\n",
      "Breakfast Eggs 3\n",
      "Somalian 3\n",
      "Bean Soup 3\n",
      "Spaghetti Sauce 3\n",
      "Venezuelan 3\n",
      "Stir Fry 2\n",
      "Sudanese 2\n",
      "Mongolian 2\n",
      "Ecuadorean 2\n",
      "Honduran 2\n",
      "Lemon Cake 2\n",
      "Steam 2\n",
      "Turkey Gravy 2\n",
      "Oysters 2\n",
      "Georgian 2\n",
      "Coconut Cream Pie 1\n",
      "Desserts Fruit 1\n",
      "Guatemalan 1\n",
      "Breakfast Casseroles 1\n",
      "Mushroom Soup 1\n",
      "Wheat Bread 1\n",
      "Chicken Crock Pot 1\n",
      "Key Lime Pie 1\n",
      "Fish Tuna 1\n",
      "Roast Beef Crock Pot 1\n",
      "Soups Crock Pot 1\n",
      "Summer Dip 1\n",
      "Dairy Free Foods 1\n",
      "Peanut Butter Pie 1\n",
      "Ham And Bean Soup 1\n",
      "Bread Pudding 1\n",
      "Margarita 1\n",
      "Buttermilk Biscuits 1\n",
      "Black Bean Soup 1\n",
      "Gluten Free Appetizers 1\n",
      "Fish Salmon 1\n",
      "Snacks Sweet 1\n",
      "Main Dish Casseroles 1\n",
      "Potato Soup 1\n",
      "Broccoli Soup 1\n",
      "Apple Pie 1\n",
      "Labor Day 1\n"
     ]
    }
   ],
   "source": [
    "for counts, values in recipes_small.RecipeCategory.value_counts().items():\n",
    "    print(counts, values)"
   ]
  },
  {
   "cell_type": "markdown",
   "id": "ac0d6fe6",
   "metadata": {},
   "source": [
    "# Save data"
   ]
  },
  {
   "cell_type": "code",
   "execution_count": 60,
   "id": "b89b6e36",
   "metadata": {},
   "outputs": [],
   "source": [
    "import pickle\n",
    "# with open(INDEX_TO_RECIPE_OBJ, 'wb') as pickle_file:\n",
    "#      pickle.dump(index_to_recipe, pickle_file)\n",
    "# with open(RECIPE_ID_TO_NAME, 'wb') as pickle_file:\n",
    "#      pickle.dump(recipe_id_to_name, pickle_file)\n",
    "# with open(RECIPE_ID_TO_CAT, 'wb') as pickle_file:\n",
    "#      pickle.dump(recipe_id_to_cat, pickle_file)\n",
    "# with open(RECIPE_TO_INDEX_OBJ, 'wb') as pickle_file:\n",
    "#      pickle.dump(recipe_to_index, pickle_file)\n",
    "# with open(REVIEWS_PER_RECIPE_WITH_0, 'wb') as pickle_file:\n",
    "#      pickle.dump(reviews_per_recipe_with_0, pickle_file)\n",
    "# with open(REVIEWS_PER_RECIPE_WITHOUT_0, 'wb') as pickle_file:\n",
    "#      pickle.dump(reviews_per_recipe_without_0, pickle_file)\n",
    "# with open(REVIEWS_PER_USER_WITH_0, 'wb') as pickle_file:\n",
    "#      pickle.dump(reviews_per_user_with_0, pickle_file)\n",
    "# with open(REVIEWS_PER_USER_WITHOUT_0, 'wb') as pickle_file:\n",
    "#      pickle.dump(reviews_per_user_without_0, pickle_file)\n",
    "# recipes_small.to_parquet(RECIPES_SMALL)\n",
    "# ratings_small.to_parquet(RATINGS_SMALL)\n",
    "# ratings_time.to_parquet(RATINGS_TIME)"
   ]
  },
  {
   "cell_type": "code",
   "execution_count": 32,
   "id": "08d2825d",
   "metadata": {},
   "outputs": [],
   "source": [
    "\n",
    "# recipes_with_ratings.to_parquet(\"../samples/recipes_with_ratings.parquet\")      \n",
    "# with open(\"../samples/index_to_recipe_with_ratings.obj\", 'wb') as pickle_file:\n",
    "#      pickle.dump(index_to_recipe_with_ratings, pickle_file)\n",
    "        \n",
    "# with open(\"../samples/recipe_to_index_with_ratings.obj\", 'wb') as pickle_file:\n",
    "#      pickle.dump(recipe_to_index_with_ratings, pickle_file)"
   ]
  },
  {
   "cell_type": "code",
   "execution_count": null,
   "id": "f5c7718d",
   "metadata": {},
   "outputs": [],
   "source": []
  },
  {
   "cell_type": "code",
   "execution_count": null,
   "id": "98947206",
   "metadata": {},
   "outputs": [],
   "source": []
  },
  {
   "cell_type": "code",
   "execution_count": null,
   "id": "f2cf7386",
   "metadata": {},
   "outputs": [],
   "source": []
  },
  {
   "cell_type": "code",
   "execution_count": null,
   "id": "e991a17b",
   "metadata": {},
   "outputs": [],
   "source": []
  },
  {
   "cell_type": "code",
   "execution_count": null,
   "id": "d33118e0",
   "metadata": {},
   "outputs": [],
   "source": []
  },
  {
   "cell_type": "code",
   "execution_count": null,
   "id": "d0ef4238",
   "metadata": {},
   "outputs": [],
   "source": []
  },
  {
   "cell_type": "code",
   "execution_count": null,
   "id": "d1210230",
   "metadata": {},
   "outputs": [],
   "source": []
  },
  {
   "cell_type": "code",
   "execution_count": null,
   "id": "a898280e",
   "metadata": {},
   "outputs": [],
   "source": []
  },
  {
   "cell_type": "code",
   "execution_count": null,
   "id": "b2d830a4",
   "metadata": {},
   "outputs": [],
   "source": []
  }
 ],
 "metadata": {
  "kernelspec": {
   "display_name": "Python 3 (ipykernel)",
   "language": "python",
   "name": "python3"
  },
  "language_info": {
   "codemirror_mode": {
    "name": "ipython",
    "version": 3
   },
   "file_extension": ".py",
   "mimetype": "text/x-python",
   "name": "python",
   "nbconvert_exporter": "python",
   "pygments_lexer": "ipython3",
   "version": "3.9.7"
  }
 },
 "nbformat": 4,
 "nbformat_minor": 5
}
