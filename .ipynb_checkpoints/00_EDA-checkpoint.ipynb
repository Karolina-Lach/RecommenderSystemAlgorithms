{
 "cells": [
  {
   "cell_type": "markdown",
   "id": "c8d063d1",
   "metadata": {},
   "source": [
    "# Import"
   ]
  },
  {
   "cell_type": "code",
   "execution_count": 69,
   "id": "70a7dd7c",
   "metadata": {},
   "outputs": [],
   "source": [
    "import pandas as pd\n",
    "import datetime\n",
    "from isoduration import parse_duration\n",
    "import numpy as np\n",
    "import matplotlib.pyplot as plt\n",
    "import seaborn as sns\n",
    "import pickle\n",
    "\n",
    "from sklearn.model_selection import StratifiedKFold"
   ]
  },
  {
   "cell_type": "markdown",
   "id": "274e2486",
   "metadata": {},
   "source": [
    "# Constants"
   ]
  },
  {
   "cell_type": "code",
   "execution_count": 2,
   "id": "f20ef0f3",
   "metadata": {},
   "outputs": [],
   "source": [
    "REVIEWS_DATA = \"../Data/dataset/reviews.parquet\"\n",
    "RECIPES_DATA = \"../Data/dataset/recipes.parquet\"\n",
    "\n",
    "REVIEWS_DESC = \"../Data/dataset/reviews_desc.txt\"\n",
    "RECIPES_DESC = \"../Data/dataset/recipes_desc.txt\""
   ]
  },
  {
   "cell_type": "code",
   "execution_count": 36,
   "id": "3bd1cb80",
   "metadata": {},
   "outputs": [],
   "source": [
    "RECIPES_BASE = \"../Data/base/recipes_base.parquet\"\n",
    "RECIPES_BASE_DESC = \"../Data/base/recipes_base_desc.txt\"\n",
    "\n",
    "RECIPES_TIME = \"../Data/base/recipes_time.parquet\"\n",
    "RECIPES_TIME_DESC = \"../Data/base/recipes_time_desc.txt\"\n",
    "\n",
    "RECIPES_WEB = \"../Data/base/recipes_web.parquet\"\n",
    "RECIPES_WEB_DESC = \"../Data/base/recipes_web_desc.txt\"\n",
    "\n",
    "RECIPES_NUTRITIONS = \"../Data/base/recipes_nutritions.parquet\"\n",
    "RECIPES_NUTRITIONS_DESC = \"../Data/base/recipes_nutritions_desc.txt\"\n",
    "\n",
    "RECIPES_DESCRIPTIVE = \"../Data/base/recipes_descriptive.parquet\"\n",
    "RECIPES_DESCRIPTIVE_DESC = \"../Data/base/recipes_descriptive_desc.txt\""
   ]
  },
  {
   "cell_type": "code",
   "execution_count": 63,
   "id": "585ddb0e",
   "metadata": {},
   "outputs": [],
   "source": [
    "RECIPE_ID_TO_NAME = \"../Data/index/recipe_id_to_name.obj\"\n",
    "RECIPE_ID_TO_INGREDIENTS = \"../Data/index/recipe_id_to_ingredients.obj\"\n",
    "RECIPE_ID_TO_CAT = \"../Data/index/recipe_id_to_category.obj\"\n",
    "RECIPE_ID_TO_KEYWORDS = \"../Data/index/recipe_id_to_keywords.obj\"\n",
    "\n",
    "INDEX_TO_RECIPE_OBJ = \"../Data/index/index_to_recipe.obj\"\n",
    "RECIPE_TO_INDEX_OBJ = \"../Data/index/recipe_to_index.obj\""
   ]
  },
  {
   "cell_type": "code",
   "execution_count": 80,
   "id": "2442f9f0",
   "metadata": {},
   "outputs": [],
   "source": [
    "RATINGS_BASE = \"../Data/base/ratings_base.parquet\"\n",
    "RATINGS_BASE_DESC = \"../Data/base/ratings_base_desc.txt\"\n",
    "\n",
    "RATINGS_TIME = \"../Data/base/ratings_time.parquet\"\n",
    "RATINGS_TIME_DESC = \"../Data/base/ratings_time_desc.txt\""
   ]
  },
  {
   "cell_type": "code",
   "execution_count": 3,
   "id": "b9728bd9",
   "metadata": {},
   "outputs": [],
   "source": [
    "def write_dataframe_info(df, filepath, check_unique=[]):\n",
    "    f = open(filepath, \"w\")\n",
    "    f.write(f\"Shape: {str(df.shape)}\\n\")\n",
    "    f.write(str(df.dtypes) + \"\\n\")\n",
    "    for col_name in check_unique:\n",
    "        f.write(f\"{col_name}: {df[col_name].nunique()}\\n\")\n",
    "    f.close()"
   ]
  },
  {
   "cell_type": "markdown",
   "id": "4e350b64",
   "metadata": {},
   "source": [
    "# Load data"
   ]
  },
  {
   "cell_type": "markdown",
   "id": "dc92f161",
   "metadata": {},
   "source": [
    "## Ratings\n",
    "\n",
    "Wczytanie oryginalnych danych dotyczących ocen i zapisanie podsumowania do pliku REVIEWS_DESC"
   ]
  },
  {
   "cell_type": "code",
   "execution_count": 4,
   "id": "c8ee0e7b",
   "metadata": {},
   "outputs": [
    {
     "name": "stdout",
     "output_type": "stream",
     "text": [
      "<class 'pandas.core.frame.DataFrame'>\n",
      "RangeIndex: 1401982 entries, 0 to 1401981\n",
      "Data columns (total 8 columns):\n",
      " #   Column         Non-Null Count    Dtype              \n",
      "---  ------         --------------    -----              \n",
      " 0   ReviewId       1401982 non-null  int32              \n",
      " 1   RecipeId       1401982 non-null  int32              \n",
      " 2   AuthorId       1401982 non-null  int32              \n",
      " 3   AuthorName     1401982 non-null  object             \n",
      " 4   Rating         1401982 non-null  int32              \n",
      " 5   Review         1401982 non-null  object             \n",
      " 6   DateSubmitted  1401982 non-null  datetime64[ns, UTC]\n",
      " 7   DateModified   1401982 non-null  datetime64[ns, UTC]\n",
      "dtypes: datetime64[ns, UTC](2), int32(4), object(2)\n",
      "memory usage: 64.2+ MB\n"
     ]
    }
   ],
   "source": [
    "ratings = pd.read_parquet(REVIEWS_DATA)\n",
    "write_dataframe_info(ratings, REVIEWS_DESC, check_unique=[\"AuthorId\", \"RecipeId\"])\n",
    "ratings.info()"
   ]
  },
  {
   "cell_type": "markdown",
   "id": "a9691b2e",
   "metadata": {},
   "source": [
    "## Recipes\n",
    "\n",
    "Wczytanie oryginalnych danych dotyczących przepisów i zapisanie podsumowania do pliku RECIPES_DESC"
   ]
  },
  {
   "cell_type": "code",
   "execution_count": 5,
   "id": "ec512458",
   "metadata": {},
   "outputs": [
    {
     "name": "stdout",
     "output_type": "stream",
     "text": [
      "<class 'pandas.core.frame.DataFrame'>\n",
      "RangeIndex: 522517 entries, 0 to 522516\n",
      "Data columns (total 28 columns):\n",
      " #   Column                      Non-Null Count   Dtype              \n",
      "---  ------                      --------------   -----              \n",
      " 0   RecipeId                    522517 non-null  float64            \n",
      " 1   Name                        522517 non-null  object             \n",
      " 2   AuthorId                    522517 non-null  int32              \n",
      " 3   AuthorName                  522517 non-null  object             \n",
      " 4   CookTime                    439972 non-null  object             \n",
      " 5   PrepTime                    522517 non-null  object             \n",
      " 6   TotalTime                   522517 non-null  object             \n",
      " 7   DatePublished               522517 non-null  datetime64[ns, UTC]\n",
      " 8   Description                 522512 non-null  object             \n",
      " 9   Images                      522516 non-null  object             \n",
      " 10  RecipeCategory              521766 non-null  object             \n",
      " 11  Keywords                    522517 non-null  object             \n",
      " 12  RecipeIngredientQuantities  522517 non-null  object             \n",
      " 13  RecipeIngredientParts       522517 non-null  object             \n",
      " 14  AggregatedRating            269294 non-null  float64            \n",
      " 15  ReviewCount                 275028 non-null  float64            \n",
      " 16  Calories                    522517 non-null  float64            \n",
      " 17  FatContent                  522517 non-null  float64            \n",
      " 18  SaturatedFatContent         522517 non-null  float64            \n",
      " 19  CholesterolContent          522517 non-null  float64            \n",
      " 20  SodiumContent               522517 non-null  float64            \n",
      " 21  CarbohydrateContent         522517 non-null  float64            \n",
      " 22  FiberContent                522517 non-null  float64            \n",
      " 23  SugarContent                522517 non-null  float64            \n",
      " 24  ProteinContent              522517 non-null  float64            \n",
      " 25  RecipeServings              339606 non-null  float64            \n",
      " 26  RecipeYield                 174446 non-null  object             \n",
      " 27  RecipeInstructions          522517 non-null  object             \n",
      "dtypes: datetime64[ns, UTC](1), float64(13), int32(1), object(13)\n",
      "memory usage: 109.6+ MB\n"
     ]
    }
   ],
   "source": [
    "recipes = pd.read_parquet(RECIPES_DATA)\n",
    "write_dataframe_info(recipes, RECIPES_DESC)\n",
    "recipes.info()"
   ]
  },
  {
   "cell_type": "markdown",
   "id": "dce246b6",
   "metadata": {},
   "source": [
    "### Fill missing values"
   ]
  },
  {
   "cell_type": "code",
   "execution_count": 18,
   "id": "2e32f067",
   "metadata": {},
   "outputs": [],
   "source": [
    "recipes[\"CookTime\"].fillna(\"PT0M\", inplace=True)\n",
    "recipes[\"PrepTime\"].fillna(\"PT0M\", inplace=True)\n",
    "recipes[\"TotalTime\"].fillna(\"PT0M\", inplace=True)"
   ]
  },
  {
   "cell_type": "markdown",
   "id": "63cfd63e",
   "metadata": {},
   "source": [
    "# Create recipes subsets\n"
   ]
  },
  {
   "cell_type": "code",
   "execution_count": 16,
   "id": "df091421",
   "metadata": {},
   "outputs": [],
   "source": [
    "def duration_to_minutes(duration):\n",
    "    return float((duration.date.days * 1440) + (duration.time.hours * 60) + duration.time.minutes)"
   ]
  },
  {
   "cell_type": "markdown",
   "id": "a424596f",
   "metadata": {},
   "source": [
    "## Base\n",
    "\n",
    "RecipeId, Name"
   ]
  },
  {
   "cell_type": "code",
   "execution_count": 12,
   "id": "a85d3e72",
   "metadata": {},
   "outputs": [],
   "source": [
    "recipes_base = recipes[[\"RecipeId\", \"Name\"]].copy()\n",
    "write_dataframe_info(recipes_base, RECIPES_BASE_DESC)\n",
    "\n",
    "# recipes_base.to_parquet(RECIPES_BASE)"
   ]
  },
  {
   "cell_type": "markdown",
   "id": "8f8714c7",
   "metadata": {},
   "source": [
    "## Time\n",
    "\n",
    "RecipeId, CookTimeInMinutes, PrepTimeInMinutes, TotalTimeInMinutes"
   ]
  },
  {
   "cell_type": "code",
   "execution_count": 26,
   "id": "e58cf625",
   "metadata": {},
   "outputs": [],
   "source": [
    "recipes_time = pd.DataFrame()\n",
    "recipes_time[\"RecipeId\"] = recipes[\"RecipeId\"].copy()\n",
    "recipes_time[\"CookTimeInMinutes\"] = recipes[\"CookTime\"].copy()\n",
    "recipes_time[\"CookTimeInMinutes\"] = recipes_time[\"CookTimeInMinutes\"].apply(lambda x: duration_to_minutes(parse_duration(x)))\n",
    "recipes_time[\"PrepTimeInMinutes\"] = recipes[\"PrepTime\"].copy()\n",
    "recipes_time[\"PrepTimeInMinutes\"] = recipes_time[\"PrepTimeInMinutes\"].apply(lambda x: duration_to_minutes(parse_duration(x)))\n",
    "recipes_time[\"TotalTimeInMinutes\"] = recipes[\"TotalTime\"].copy()\n",
    "recipes_time[\"TotalTimeInMinutes\"] = recipes_time[\"TotalTimeInMinutes\"].apply(lambda x: duration_to_minutes(parse_duration(x)))  \n",
    "\n",
    "write_dataframe_info(recipes_time, RECIPES_TIME_DESC)\n",
    "# recipes_time.to_parquet(RECIPES_TIME)"
   ]
  },
  {
   "cell_type": "markdown",
   "id": "a879b7c9",
   "metadata": {},
   "source": [
    "## Website info\n",
    "\n",
    "RecipeId, Description, Images, RecipeIngredientQuantities, RecipeServings, RecipeYield, RecipeInstructions"
   ]
  },
  {
   "cell_type": "code",
   "execution_count": 27,
   "id": "871d920a",
   "metadata": {},
   "outputs": [],
   "source": [
    "recipes_web_info = recipes[[\"RecipeId\", \"Description\", \"Images\", \"RecipeIngredientQuantities\", \"RecipeServings\", \"RecipeYield\", \"RecipeInstructions\"]].copy()\n",
    "\n",
    "write_dataframe_info(recipes_web_info, RECIPES_WEB_DESC)\n",
    "# recipes_web_info.to_parquet(RECIPES_WEB)"
   ]
  },
  {
   "cell_type": "markdown",
   "id": "ff9231e1",
   "metadata": {},
   "source": [
    "## Nutritions\n",
    "\n",
    "RecipeId, FatContent, SaturatedFatContent, CholesterolContent, SodiumContent, CarbohydrateContent, FiberContent, SugarContent, ProteinContent"
   ]
  },
  {
   "cell_type": "code",
   "execution_count": 35,
   "id": "bc0ed558",
   "metadata": {},
   "outputs": [],
   "source": [
    "recipes_nutritions = pd.DataFrame()\n",
    "recipes_nutritions[['RecipeId', 'FatContent', 'SaturatedFatContent', 'CholesterolContent', 'SodiumContent', 'CarbohydrateContent', 'FiberContent', 'SugarContent', 'ProteinContent']] = recipes[['RecipeId', 'FatContent', 'SaturatedFatContent', 'CholesterolContent', 'SodiumContent', 'CarbohydrateContent', 'FiberContent', 'SugarContent', 'ProteinContent']].copy()\n",
    "\n",
    "\n",
    "# write_dataframe_info(recipes_nutritions, RECIPES_NUTRITIONS_DESC)\n",
    "# recipes_nutritions.to_parquet(RECIPES_DESC)"
   ]
  },
  {
   "cell_type": "markdown",
   "id": "46ebf4a2",
   "metadata": {},
   "source": [
    "## Descriptive columns\n",
    "\n",
    "RecipeId, RecipeCategory, Keywords, Ingredients"
   ]
  },
  {
   "cell_type": "code",
   "execution_count": 42,
   "id": "efd8e86f",
   "metadata": {},
   "outputs": [],
   "source": [
    "recipes_desc = pd.DataFrame()\n",
    "recipes_desc[\"RecipeId\"] = recipes[\"RecipeId\"].copy()\n",
    "recipes_desc[\"RecipeCategory\"] = recipes[\"RecipeCategory\"].copy()\n",
    "\n",
    "recipes_desc[\"Keywords\"] = recipes[\"Keywords\"].copy()\n",
    "recipes_desc[\"Keywords\"] = recipes_desc[\"Keywords\"].apply(lambda x: x.tolist())\n",
    "\n",
    "recipes_desc[\"Ingredients\"] = recipes[\"RecipeIngredientParts\"].copy()\n",
    "recipes_desc[\"Ingredients\"] = recipes_desc[\"Ingredients\"].apply(lambda x: x.tolist())\n",
    "\n",
    "# write_dataframe_info(recipes_desc, RECIPES_DESCRIPTIVE_DESC)\n",
    "# recipes_desc.to_parquet(RECIPES_DESCRIPTIVE)"
   ]
  },
  {
   "cell_type": "markdown",
   "id": "7ed14469",
   "metadata": {},
   "source": [
    "## Create <i>index_to_recipe</i> and <i>recipe_to_index</i>"
   ]
  },
  {
   "cell_type": "code",
   "execution_count": 121,
   "id": "a7a8d9b7",
   "metadata": {},
   "outputs": [],
   "source": [
    "def create_index_to_col_dict(df, col_name):\n",
    "    index_to_col_df = pd.DataFrame(df[col_name])\n",
    "    col_to_index_df = index_to_col_df.reset_index(inplace=False)\n",
    "    \n",
    "    col_to_index_df.set_index(col_name, inplace=True)\n",
    "    \n",
    "    temp = index_to_col_df.to_dict('index')\n",
    "    index_to_col = {key: value[col_name] for key, value in temp.items()}\n",
    "    \n",
    "    temp = col_to_index_df.to_dict('index')\n",
    "    col_to_index = {key: value['index'] for key, value in temp.items()}\n",
    "    \n",
    "    return index_to_col, col_to_index"
   ]
  },
  {
   "cell_type": "code",
   "execution_count": 52,
   "id": "d0e452fc",
   "metadata": {},
   "outputs": [],
   "source": [
    "def create_col1_to_col2_dict(df, col_name_1, col_name_2):\n",
    "    col1_to_col2_df = pd.DataFrame(df[[col_name_1, col_name_2]])\n",
    "    col1_to_col2_df = col1_to_col2_df.reset_index(inplace=False)\n",
    "    col1_to_col2_df.set_index(col_name_1, inplace=True)\n",
    "    col1_to_col2_df.drop(columns=['index'], inplace=True)\n",
    "\n",
    "    temp = col1_to_col2_df.to_dict('index')\n",
    "    col1_to_col2 = {key: value[col_name_2] for key, value in temp.items()}\n",
    "    \n",
    "    return col1_to_col2"
   ]
  },
  {
   "cell_type": "markdown",
   "id": "2b63c513",
   "metadata": {},
   "source": [
    "### Index to recipe\n",
    "    \n",
    "    Key:   index\n",
    "    Value: RecipeId\n",
    "    \n",
    "### Recipe to index\n",
    "    \n",
    "    Key:   RecipeId\n",
    "    Value: index"
   ]
  },
  {
   "cell_type": "code",
   "execution_count": 44,
   "id": "8ac39b87",
   "metadata": {},
   "outputs": [],
   "source": [
    "index_to_recipe_id, recipe_id_to_index = create_index_to_col_dict(recipes_base, \"RecipeId\")"
   ]
  },
  {
   "cell_type": "markdown",
   "id": "d949edd6",
   "metadata": {},
   "source": [
    "### Recipe to name\n",
    "    Key:   RecipeId\n",
    "    Value: Name"
   ]
  },
  {
   "cell_type": "code",
   "execution_count": 53,
   "id": "c6538f86",
   "metadata": {},
   "outputs": [],
   "source": [
    "recipe_id_to_name = create_col1_to_col2_dict(recipes_base, \"RecipeId\", \"Name\")"
   ]
  },
  {
   "cell_type": "markdown",
   "id": "6cc88802",
   "metadata": {},
   "source": [
    "### Recipe to category\n",
    "\n",
    "    Key:   RecipeId\n",
    "    Value: RecipeCategory"
   ]
  },
  {
   "cell_type": "code",
   "execution_count": 57,
   "id": "8ca39c92",
   "metadata": {},
   "outputs": [],
   "source": [
    "recipe_id_to_cat = create_col1_to_col2_dict(recipes_desc, \"RecipeId\", 'RecipeCategory')"
   ]
  },
  {
   "cell_type": "markdown",
   "id": "06951eb6",
   "metadata": {},
   "source": [
    "### Recipe to ingredients\n",
    "\n",
    "    Key:   RecipeId\n",
    "    Value: Ingredients"
   ]
  },
  {
   "cell_type": "code",
   "execution_count": 65,
   "id": "327cf21e",
   "metadata": {},
   "outputs": [],
   "source": [
    "recipe_id_to_ingredients = create_col1_to_col2_dict(recipes_desc, \"RecipeId\", 'Ingredients')"
   ]
  },
  {
   "cell_type": "markdown",
   "id": "8ca7d157",
   "metadata": {},
   "source": [
    "### Recipe to keywords\n",
    "\n",
    "    Key:   RecipeId\n",
    "    Value: Keywords"
   ]
  },
  {
   "cell_type": "code",
   "execution_count": 66,
   "id": "959aff65",
   "metadata": {},
   "outputs": [],
   "source": [
    "recipe_id_to_keywords = create_col1_to_col2_dict(recipes_desc, \"RecipeId\", 'Keywords')"
   ]
  },
  {
   "cell_type": "markdown",
   "id": "4adef04b",
   "metadata": {},
   "source": [
    "### Save"
   ]
  },
  {
   "cell_type": "code",
   "execution_count": 70,
   "id": "4fd8a0d5",
   "metadata": {},
   "outputs": [],
   "source": [
    "# with open(INDEX_TO_RECIPE_OBJ, 'wb') as pickle_file:\n",
    "#      pickle.dump(index_to_recipe, pickle_file)\n",
    "        \n",
    "# with open(RECIPE_TO_INDEX_OBJ, 'wb') as pickle_file:\n",
    "#      pickle.dump(recipe_to_index, pickle_file)\n",
    "        \n",
    "# with open(RECIPE_ID_TO_NAME, 'wb') as pickle_file:\n",
    "#      pickle.dump(recipe_id_to_name, pickle_file)\n",
    "# with open(RECIPE_ID_TO_CAT, 'wb') as pickle_file:\n",
    "#      pickle.dump(recipe_id_to_cat, pickle_file)\n",
    "# with open(RECIPE_ID_TO_INGREDIENTS, 'wb') as pickle_file:\n",
    "#      pickle.dump(recipe_id_to_ing, pickle_file)\n",
    "# with open(RECIPE_ID_TO_KEYWORDS, 'wb') as pickle_file:\n",
    "#      pickle.dump(recipe_id_to_keywords, pickle_file)"
   ]
  },
  {
   "cell_type": "markdown",
   "id": "31449f6b",
   "metadata": {},
   "source": [
    "# Create ratings subset"
   ]
  },
  {
   "cell_type": "code",
   "execution_count": 73,
   "id": "3268e34f",
   "metadata": {},
   "outputs": [],
   "source": [
    "# delete ratings of missing recipes\n",
    "missing_recipes = ratings[~ratings.RecipeId.isin(recipes.RecipeId)]\n",
    "ratings = ratings.drop(missing_recipes.index)"
   ]
  },
  {
   "cell_type": "code",
   "execution_count": 76,
   "id": "9872d52f",
   "metadata": {},
   "outputs": [
    {
     "name": "stdout",
     "output_type": "stream",
     "text": [
      "Ratings with missing recipes: 19\n",
      "Missing recipes: 4\n"
     ]
    }
   ],
   "source": [
    "print(f\"Ratings with missing recipes: {missing_recipes.shape[0]}\")\n",
    "print(f\"Missing recipes: {missing_recipes.RecipeId.nunique()}\")"
   ]
  },
  {
   "cell_type": "code",
   "execution_count": 85,
   "id": "e67c9e6a",
   "metadata": {},
   "outputs": [
    {
     "name": "stdout",
     "output_type": "stream",
     "text": [
      "Number of reviewed recipes:  271674\n",
      "Number of users:  271906\n"
     ]
    }
   ],
   "source": [
    "print('Number of reviewed recipes: ', ratings['RecipeId'].nunique())\n",
    "print('Number of users: ', ratings['AuthorId'].nunique())"
   ]
  },
  {
   "cell_type": "markdown",
   "id": "997f2e69",
   "metadata": {},
   "source": [
    "## Base\n",
    "\n",
    "RecipeId, AuthorId, Rating"
   ]
  },
  {
   "cell_type": "code",
   "execution_count": 99,
   "id": "1ac21964",
   "metadata": {},
   "outputs": [],
   "source": [
    "ratings_base = pd.DataFrame()\n",
    "ratings_base = ratings[['RecipeId', 'AuthorId', 'Rating']].copy()"
   ]
  },
  {
   "cell_type": "code",
   "execution_count": 81,
   "id": "d57a99e4",
   "metadata": {},
   "outputs": [],
   "source": [
    "# ratings_base.to_parquet(RATINGS_BASE)\n",
    "# write_dataframe_info(ratings_base, RATINGS_BASE_DESC)"
   ]
  },
  {
   "cell_type": "markdown",
   "id": "50fb8f84",
   "metadata": {},
   "source": [
    "## Ratings time\n",
    "\n",
    "RecipeId, AuthorId, Rating, DateSubmitted"
   ]
  },
  {
   "cell_type": "code",
   "execution_count": 78,
   "id": "e650bcb7",
   "metadata": {},
   "outputs": [],
   "source": [
    "ratings_time = pd.DataFrame()\n",
    "ratings_time = ratings[['RecipeId', 'AuthorId', 'Rating', 'DateSubmitted']].copy()"
   ]
  },
  {
   "cell_type": "code",
   "execution_count": 82,
   "id": "09109d25",
   "metadata": {},
   "outputs": [],
   "source": [
    "# ratings_time.to_parquet(RATINGS_TIME)\n",
    "# write_dataframe_info(ratings_time, RATINGS_TIME_DESC)"
   ]
  },
  {
   "cell_type": "markdown",
   "id": "be10e759",
   "metadata": {},
   "source": [
    "## Average rating"
   ]
  },
  {
   "cell_type": "code",
   "execution_count": 86,
   "id": "18ca8a3a",
   "metadata": {},
   "outputs": [],
   "source": [
    "def avg_rating(df, per_col, value):\n",
    "    return df[(df[per_col]==value) & (df['Rating']!=0)]['Rating'].mean()"
   ]
  },
  {
   "cell_type": "code",
   "execution_count": 108,
   "id": "f6a10204",
   "metadata": {},
   "outputs": [],
   "source": [
    "avg_ratings_per_user = ratings_base.groupby('AuthorId').mean().drop(columns='RecipeId')\n",
    "avg_ratings_per_user = avg_ratings_per_user.rename(columns={'Rating': \"AvgRating\"})\n",
    "avg_ratings_per_user = avg_ratings_per_user.sort_values(by='AvgRating', ascending=False)\n",
    "\n",
    "avg_ratings_per_recipe = ratings_base.groupby('RecipeId').mean().drop(columns='AuthorId')\n",
    "avg_ratings_per_recipe = avg_ratings_per_recipe.rename(columns={'Rating': \"AvgRating\"})\n",
    "avg_ratings_per_recipe = avg_ratings_per_recipe.sort_values(by='AvgRating', ascending=False)"
   ]
  },
  {
   "cell_type": "markdown",
   "id": "6b2299fa",
   "metadata": {},
   "source": [
    "## Rating count"
   ]
  },
  {
   "cell_type": "code",
   "execution_count": 136,
   "id": "50b05b9d",
   "metadata": {},
   "outputs": [],
   "source": [
    "ratings_per_user = ratings_base.groupby('AuthorId').count().drop(columns='RecipeId')\n",
    "ratings_per_user = ratings_per_user.rename(columns={'Rating': \"Count\"})\n",
    "ratings_per_user = ratings_per_user.sort_values(by=\"Count\", ascending=False)\n",
    "\n",
    "ratings_per_recipe = ratings_base.groupby('RecipeId').count().drop(columns='AuthorId')\n",
    "ratings_per_recipe = ratings_per_recipe.rename(columns={'Rating': \"Count\"})\n",
    "ratings_per_recipe = ratings_per_recipe.sort_values(by=\"Count\", ascending=False)"
   ]
  },
  {
   "cell_type": "markdown",
   "id": "ed1eefc7",
   "metadata": {},
   "source": [
    "## Create recipes with ratings sample "
   ]
  },
  {
   "cell_type": "code",
   "execution_count": 119,
   "id": "bae8e984",
   "metadata": {},
   "outputs": [],
   "source": [
    "recipes_with_ratings = recipes_base[recipes_base.RecipeId.isin(ratings_base.RecipeId)]"
   ]
  },
  {
   "cell_type": "code",
   "execution_count": 122,
   "id": "a04f3b8c",
   "metadata": {},
   "outputs": [],
   "source": [
    "index_to_recipes_with_ratings, recipes_with_ratings_to_index = create_index_to_col_dict(recipes_with_ratings, \"RecipeId\")"
   ]
  },
  {
   "cell_type": "markdown",
   "id": "f6ddb5bb",
   "metadata": {},
   "source": [
    "# Histograms"
   ]
  },
  {
   "cell_type": "markdown",
   "id": "5d1f8101",
   "metadata": {},
   "source": [
    "## Liczba ocen"
   ]
  },
  {
   "cell_type": "code",
   "execution_count": 130,
   "id": "30cb3f69",
   "metadata": {},
   "outputs": [
    {
     "data": {
      "image/png": "[encoded data removed]",
      "text/plain": [
       "<Figure size 1332x756 with 1 Axes>"
      ]
     },
     "metadata": {
      "needs_background": "light"
     },
     "output_type": "display_data"
    }
   ],
   "source": [
    "fig = plt.gcf()\n",
    "fig.set_size_inches(18.5, 10.5)\n",
    "\n",
    "plt.hist(ratings_base['Rating'], bins=6, edgecolor='gray')\n",
    "plt.xlabel(\"Oceny\", fontsize=18, labelpad=20)\n",
    "plt.ylabel(\"Liczba ocen\", fontsize=18, labelpad=20)\n",
    "# plt.title(\"Wykres zależności błędu średniokwadratowego od minimalnej ilości ocen\", fontsize=18)\n",
    "plt.show()\n",
    "\n",
    "# fig.savefig('../Data/IMG/ratings_value_counts.png', dpi=100)"
   ]
  },
  {
   "cell_type": "markdown",
   "id": "473880a2",
   "metadata": {},
   "source": [
    "## Liczba ocen / użytkownik"
   ]
  },
  {
   "cell_type": "code",
   "execution_count": null,
   "id": "2c8cfdcb",
   "metadata": {},
   "outputs": [],
   "source": [
    "y = list(ratings_per_user['Count'])[:5000]\n",
    "ids = range(0, len(y))"
   ]
  },
  {
   "cell_type": "code",
   "execution_count": 149,
   "id": "69873c74",
   "metadata": {},
   "outputs": [
    {
     "data": {
      "image/png": "[encoded data removed]",
      "text/plain": [
       "<Figure size 1332x756 with 1 Axes>"
      ]
     },
     "metadata": {
      "needs_background": "light"
     },
     "output_type": "display_data"
    }
   ],
   "source": [
    "fig = plt.gcf()\n",
    "fig.set_size_inches(18.5, 10.5)\n",
    "ax = fig.add_axes([0,0,1,1])\n",
    "\n",
    "ax.bar(ids, y, width=1.0)\n",
    "ax.set_ylabel(\"Liczba ocen\", fontsize=18, labelpad=20)\n",
    "ax.set_xlabel(\"Index użytkowników\", fontsize=18, labelpad=20)\n",
    "ax.set_title(\"Liczba ocen dla użytkowników\", fontsize=20, y=1.008)\n",
    "\n",
    "\n",
    "plt.yticks(fontsize=14)\n",
    "plt.xticks(fontsize=14)\n",
    "\n",
    "plt.show()\n",
    "\n",
    "# fig.savefig('../Data/IMG/ratings_counts_per_user.png', dpi=100)"
   ]
  },
  {
   "cell_type": "markdown",
   "id": "3f63ace8",
   "metadata": {},
   "source": [
    "## Liczba ocen / przepis"
   ]
  },
  {
   "cell_type": "code",
   "execution_count": 150,
   "id": "fd23c901",
   "metadata": {},
   "outputs": [],
   "source": [
    "y = list(ratings_per_recipe['Count'])[:5000]\n",
    "ids = range(0, len(y))"
   ]
  },
  {
   "cell_type": "code",
   "execution_count": 151,
   "id": "1963f192",
   "metadata": {},
   "outputs": [
    {
     "data": {
      "image/png": "[encoded data removed]",
      "text/plain": [
       "<Figure size 1332x756 with 1 Axes>"
      ]
     },
     "metadata": {
      "needs_background": "light"
     },
     "output_type": "display_data"
    }
   ],
   "source": [
    "fig = plt.gcf()\n",
    "fig.set_size_inches(18.5, 10.5)\n",
    "ax = fig.add_axes([0,0,1,1])\n",
    "\n",
    "ax.bar(ids, y, width=1.0)\n",
    "ax.set_ylabel(\"Liczba ocen\", fontsize=18, labelpad=20)\n",
    "ax.set_xlabel(\"Index przepisów\", fontsize=18, labelpad=20)\n",
    "ax.set_title(\"Liczba ocen dla przepisów\", fontsize=20, y=1.008)\n",
    "\n",
    "\n",
    "plt.yticks(fontsize=14)\n",
    "plt.xticks(fontsize=14)\n",
    "\n",
    "plt.show()\n",
    "\n",
    "# fig.savefig('../Data/IMG/ratings_counts_per_user.png', dpi=100)"
   ]
  },
  {
   "cell_type": "markdown",
   "id": "9b96449d",
   "metadata": {},
   "source": [
    "\"Long tail problem\" - większość itemów w systemie jest oceniona tylko przez kilku użytkowników. Większość użytkowników ma zaledwie kilka ocen."
   ]
  },
  {
   "cell_type": "markdown",
   "id": "27b40250",
   "metadata": {},
   "source": [
    "# Czas"
   ]
  },
  {
   "cell_type": "code",
   "execution_count": 153,
   "id": "e1e2b474",
   "metadata": {},
   "outputs": [],
   "source": [
    "ratings_time['Month'] = ratings_time['DateSubmitted'].apply(lambda x: x.month)\n",
    "ratings_time['Year'] = ratings_time['DateSubmitted'].apply(lambda x: x.year)\n",
    "ratings_time['DayOfWeek'] = ratings_time['DateSubmitted'].apply(lambda x: x.weekday)\n",
    "ratings_time['IsWeekend'] = ratings_time['DayOfWeek'].apply(lambda x: x > 5)\n",
    "ratings_time['Quarter'] = ratings_time['DateSubmitted'].apply(lambda x: x.quarter)"
   ]
  },
  {
   "cell_type": "code",
   "execution_count": 161,
   "id": "e1623403",
   "metadata": {},
   "outputs": [],
   "source": [
    "ratings_per_month = ratings_time.groupby('Month').agg({'Month': 'count'})\n",
    "ratings_per_month = ratings_per_month.rename(columns={'Month': 'Count'})"
   ]
  },
  {
   "cell_type": "markdown",
   "id": "2b1d08b3",
   "metadata": {},
   "source": [
    "## Liczba ocen w zależności od miesiąca"
   ]
  },
  {
   "cell_type": "code",
   "execution_count": 162,
   "id": "17908111",
   "metadata": {},
   "outputs": [
    {
     "data": {
      "image/png": "[encoded data removed]",
      "text/plain": [
       "<Figure size 1332x756 with 1 Axes>"
      ]
     },
     "metadata": {
      "needs_background": "light"
     },
     "output_type": "display_data"
    }
   ],
   "source": [
    "fig = plt.gcf()\n",
    "fig.set_size_inches(18.5, 10.5)\n",
    "ax = fig.add_axes([0,0,1,1])\n",
    "\n",
    "plt.bar(ratings_per_month.index, ratings_per_month['Count'])\n",
    "ax.set_ylabel('Liczba ocen', fontsize=18, labelpad=20)\n",
    "ax.set_xlabel('Miesiące', fontsize=18, labelpad=20)\n",
    "ax.set_title(\"Liczba ocen w zależności od miesiąca\", fontsize=20, y=1.008)\n",
    "\n",
    "\n",
    "plt.yticks(fontsize=14)\n",
    "plt.xticks(fontsize=14)\n",
    "\n",
    "plt.show()\n",
    "\n",
    "fig.savefig('../Data/IMG/ratings_counts_per_month.png', dpi=100)"
   ]
  },
  {
   "cell_type": "markdown",
   "id": "524ef03c",
   "metadata": {},
   "source": [
    "## Rozkład ocen w zależności od miesiąca"
   ]
  },
  {
   "cell_type": "code",
   "execution_count": 179,
   "id": "7cff4f26",
   "metadata": {},
   "outputs": [
    {
     "data": {
      "image/png": "[encoded data removed]",
      "text/plain": [
       "<Figure size 1332x1332 with 1 Axes>"
      ]
     },
     "metadata": {
      "needs_background": "light"
     },
     "output_type": "display_data"
    }
   ],
   "source": [
    "x,y = 'Month', 'Rating'\n",
    "\n",
    "\n",
    "df1 = ratings_time.groupby(x)[y].value_counts(normalize=True)\n",
    "df1 = df1.mul(100)\n",
    "df1 = df1.rename('percent').reset_index()\n",
    "\n",
    "g = sns.catplot(x=x,y='percent',hue=y,kind='bar',data=df1, height=18.5, legend=False)\n",
    "g.ax.set_ylim(0,100)\n",
    "\n",
    "g.ax.set_ylabel('Procent ocen', fontsize=20, labelpad=20)\n",
    "g.ax.set_xlabel('Miesiące', fontsize=20, labelpad=20)\n",
    "g.ax.set_title(\"Rozkład ocen w zależności od miesiąca\", fontsize=20, y=1.008)\n",
    "plt.legend(title='Oceny', fontsize='20', title_fontsize='24')\n",
    "\n",
    "plt.yticks(fontsize=18)\n",
    "plt.xticks(fontsize=18)\n",
    "\n",
    "plt.show()\n",
    "\n",
    "fig.savefig('../Data/IMG/ratings_dist_per_month.png', dpi=100)"
   ]
  },
  {
   "cell_type": "code",
   "execution_count": 189,
   "id": "c2adb0ce",
   "metadata": {
    "scrolled": false
   },
   "outputs": [
    {
     "data": {
      "image/png": "[encoded data removed]",
      "text/plain": [
       "<Figure size 756x756 with 1 Axes>"
      ]
     },
     "metadata": {
      "needs_background": "light"
     },
     "output_type": "display_data"
    }
   ],
   "source": [
    "x,y = 'IsWeekend', 'Rating'\n",
    "\n",
    "df1 = ratings_time.groupby(x)[y].value_counts(normalize=True)\n",
    "df1 = df1.mul(100)\n",
    "df1 = df1.rename('percent').reset_index()\n",
    "\n",
    "g = sns.catplot(x=x,y='percent',hue=y,kind='bar',data=df1, legend=False, height=10.5)\n",
    "g.ax.set_ylim(0,100)\n",
    "\n",
    "g.ax.set_ylabel('Rozkład ocen', fontsize=20, labelpad=20)\n",
    "g.ax.set_xlabel('Czy był weekend?', fontsize=20, labelpad=20)\n",
    "g.ax.set_title(\"Rozkład ocen w zależności od weekendu\", fontsize=20, y=1.008)\n",
    "plt.legend(title='Oceny', fontsize='20', title_fontsize='24')\n",
    "\n",
    "plt.yticks(fontsize=18)\n",
    "plt.xticks(fontsize=18)\n",
    "\n",
    "for p in g.ax.patches:\n",
    "    txt = str(p.get_height().round(2)) + '%'\n",
    "    txt_x = p.get_x() \n",
    "    txt_y = p.get_height()\n",
    "    g.ax.text(txt_x,txt_y+0.5,txt, fontsize=16)\n",
    "    \n",
    "plt.show()\n",
    "# fig.savefig('../Data/IMG/ratings_dist_per_month.png', dpi=100)"
   ]
  },
  {
   "cell_type": "code",
   "execution_count": 192,
   "id": "aab8d140",
   "metadata": {},
   "outputs": [
    {
     "data": {
      "image/png": "[encoded data removed]",
      "text/plain": [
       "<Figure size 756x756 with 1 Axes>"
      ]
     },
     "metadata": {
      "needs_background": "light"
     },
     "output_type": "display_data"
    }
   ],
   "source": [
    "x,y = 'Quarter', 'Rating'\n",
    "\n",
    "df1 = ratings_time.groupby(x)[y].value_counts(normalize=True)\n",
    "df1 = df1.mul(100)\n",
    "df1 = df1.rename('percent').reset_index()\n",
    "\n",
    "\n",
    "g = sns.catplot(x=x,y='percent',hue=y,kind='bar',data=df1, legend=False, height=10.5)\n",
    "g.ax.set_ylim(0,100)\n",
    "\n",
    "g.ax.set_ylabel('Rozkład ocen', fontsize=20, labelpad=20)\n",
    "g.ax.set_xlabel('Kwartał', fontsize=20, labelpad=20)\n",
    "g.ax.set_title(\"Rozkład ocen w zależności od kwartału\", fontsize=20, y=1.008)\n",
    "plt.legend(title='Oceny', fontsize='20', title_fontsize='24')\n",
    "\n",
    "plt.yticks(fontsize=18)\n",
    "plt.xticks(fontsize=18)\n",
    "\n",
    "for p in g.ax.patches:\n",
    "    txt = str(p.get_height().round(2)) + '%'\n",
    "    txt_x = p.get_x() \n",
    "    txt_y = p.get_height()\n",
    "    g.ax.text(txt_x,txt_y+0.5,txt, fontsize=16)\n",
    "    \n",
    "plt.show()\n",
    "# fig.savefig('../Data/IMG/ratings_dist_per_quarter.png', dpi=100)"
   ]
  },
  {
   "cell_type": "markdown",
   "id": "a559b91a",
   "metadata": {},
   "source": [
    "Rozkład ocen jest taki sam dla różnych przedziałów czasu, więc taka informacja raczej nie będzie miała wpływu na oceny. "
   ]
  },
  {
   "cell_type": "markdown",
   "id": "18d2d23e",
   "metadata": {},
   "source": [
    "# Categories"
   ]
  },
  {
   "cell_type": "code",
   "execution_count": 56,
   "id": "027b2e3f",
   "metadata": {},
   "outputs": [
    {
     "name": "stdout",
     "output_type": "stream",
     "text": [
      "Dessert 62072\n",
      "Lunch/Snacks 32586\n",
      "One Dish Meal 31345\n",
      "Vegetable 27231\n",
      "Breakfast 21101\n",
      "Beverages 16076\n",
      "Chicken 13249\n",
      "Meat 13131\n",
      "Breads 12804\n",
      "Pork 12603\n",
      "Sauces 12166\n",
      "Chicken Breast 11282\n",
      "Potato 10870\n",
      "Quick Breads 10387\n",
      "< 60 Mins 9719\n",
      "< 30 Mins 9020\n",
      "Cheese 8462\n",
      "Pie 7775\n",
      "Bar Cookie 7029\n",
      "Low Protein 6663\n",
      "< 15 Mins 6662\n",
      "Drop Cookies 6385\n",
      "Stew 5679\n",
      "Yeast Breads 5523\n",
      "Beans 5463\n",
      "Candy 5229\n",
      "Salad Dressings 5066\n",
      "< 4 Hours 4969\n",
      "Frozen Desserts 4804\n",
      "Spreads 4694\n",
      "Poultry 3925\n",
      "Cheesecake 3915\n",
      "Low Cholesterol 3807\n",
      "European 3690\n",
      "Smoothies 3562\n",
      "Very Low Carbs 3386\n",
      "Steak 3242\n",
      "Onions 3177\n",
      "Savory Pies 3055\n",
      "Curries 2828\n",
      "Rice 2735\n",
      "Fruit 2568\n",
      "Chowders 2331\n",
      "Grains 2280\n",
      "Corn 2274\n",
      "Yam/Sweet Potato 2238\n",
      "Asian 2196\n",
      "Crab 2171\n",
      "Punch Beverage 2169\n",
      "Mexican 2119\n",
      "Lamb/Sheep 2050\n",
      "Spinach 1960\n",
      "Spaghetti 1865\n",
      "Chicken Thigh & Leg 1739\n",
      "Healthy 1720\n",
      "Ham 1614\n",
      "Roast Beef 1522\n",
      "Greens 1514\n",
      "Whole Chicken 1475\n",
      "Clear Soup 1474\n",
      "Tarts 1456\n",
      "Gelatin 1435\n",
      "Tuna 1413\n",
      "Peppers 1412\n",
      "Cauliflower 1398\n",
      "Weeknight 1337\n",
      "Black Beans 1325\n",
      "Apple 1287\n",
      "Scones 1165\n",
      "High Protein 1160\n",
      "Lentil 1106\n",
      "Penne 1088\n",
      "Long Grain Rice 1054\n",
      "White Rice 1024\n",
      "Shakes 1014\n",
      "Soy/Tofu 946\n",
      "Kid Friendly 939\n",
      "Stocks 925\n",
      "Pineapple 910\n",
      "Vegan 842\n",
      "High In... 828\n",
      "Easy 727\n",
      "Brown Rice 722\n",
      "Bath/Beauty 650\n",
      "Brunch 598\n",
      "For Large Groups 586\n",
      "Greek 557\n",
      "Pasta Shells 552\n",
      "Lemon 545\n",
      "Oranges 539\n",
      "Chinese 528\n",
      "Veal 524\n",
      "Strawberry 509\n",
      "Berries 508\n",
      "Halibut 499\n",
      "Gumbo 469\n",
      "Free Of... 462\n",
      "Cajun 462\n",
      "Chutneys 458\n",
      "Potluck 454\n",
      "Summer 447\n",
      "Thai 439\n",
      "Meatloaf 435\n",
      "Jellies 425\n",
      "Canadian 415\n",
      "Lactose Free 411\n",
      "Nuts 408\n",
      "Christmas 396\n",
      "Tilapia 395\n",
      "Meatballs 390\n",
      "Mashed Potatoes 386\n",
      "Australian 381\n",
      "Turkey Breasts 367\n",
      "Deer 362\n",
      "Mussels 356\n",
      "Savory 351\n",
      "Whole Turkey 346\n",
      "Lobster 340\n",
      "Southwest Asia (middle East) 333\n",
      "Japanese 329\n",
      "Short Grain Rice 327\n",
      "Melons 321\n",
      "Mango 320\n",
      "Southwestern U.S. 310\n",
      "Catfish 304\n",
      "Ice Cream 285\n",
      "Toddler Friendly 282\n",
      "Coconut 281\n",
      "Tex Mex 274\n",
      "African 267\n",
      "Spanish 265\n",
      "Macaroni And Cheese 264\n",
      "Spicy 254\n",
      "Winter 253\n",
      "Household Cleaner 251\n",
      "Tropical Fruits 248\n",
      "Citrus 247\n",
      "German 247\n",
      "Indian 241\n",
      "Thanksgiving 231\n",
      "Caribbean 230\n",
      "Pakistani 229\n",
      "Creole 226\n",
      "Pears 225\n",
      "Chocolate Chip Cookies 222\n",
      "Sourdough Breads 220\n",
      "Trout 213\n",
      "Oatmeal 210\n",
      "Oven 207\n",
      "Wild Game 194\n",
      "Manicotti 193\n",
      "Beginner Cook 191\n",
      "Moroccan 189\n",
      "Beef Organ Meats 179\n",
      "Raspberries 173\n",
      "Crawfish 170\n",
      "Collard Greens 161\n",
      "Squid 156\n",
      "Pot Pie 153\n",
      "South American 147\n",
      "Mahi Mahi 147\n",
      "Kosher 144\n",
      "Lime 144\n",
      "Bass 141\n",
      "Pumpkin 141\n",
      "Homeopathy/Remedies 129\n",
      "Cherries 123\n",
      "Egg Free 123\n",
      "Avocado 121\n",
      "Duck 119\n",
      "Chard 118\n",
      "Spring 117\n",
      "Vietnamese 113\n",
      "Chicken Livers 112\n",
      "Russian 108\n",
      "Duck Breasts 102\n",
      "Korean 99\n",
      "Whole Duck 98\n",
      "Sweet 98\n",
      "Orange Roughy 98\n",
      "Peanut Butter 95\n",
      "Portuguese 94\n",
      "Rabbit 93\n",
      "Scandinavian 88\n",
      "Broil/Grill 81\n",
      "Whitefish 77\n",
      "High Fiber 76\n",
      "Halloween 76\n",
      "Medium Grain Rice 74\n",
      "Hawaiian 73\n",
      "Microwave 73\n",
      "Plums 70\n",
      "Filipino 65\n",
      "Artichoke 62\n",
      "Papaya 60\n",
      "Cantonese 57\n",
      "Turkish 57\n",
      "Lebanese 56\n",
      "Tempeh 56\n",
      "Hungarian 56\n",
      "Quail 56\n",
      "Scottish 55\n",
      "New Zealand 54\n",
      "Polish 53\n",
      "Pheasant 53\n",
      "Brazilian 52\n",
      "South African 51\n",
      "No Shell Fish 49\n",
      "Swedish 47\n",
      "Native American 47\n",
      "Camping 43\n",
      "Norwegian 43\n",
      "Szechuan 42\n",
      "Canning 38\n",
      "Dutch 37\n",
      "Stove Top 36\n",
      "Swiss 35\n",
      "Goose 35\n",
      "Malaysian 35\n",
      "Grapes 35\n",
      "Indonesian 34\n",
      "Cuban 32\n",
      "Danish 31\n",
      "Polynesian 31\n",
      "St. Patrick's Day 31\n",
      "Puerto Rican 29\n",
      "Egyptian 29\n",
      "Austrian 28\n",
      "Octopus 27\n",
      "Peruvian 26\n",
      "Ethiopian 25\n",
      "Elk 25\n",
      "Perch 24\n",
      "Pennsylvania Dutch 24\n",
      "Birthday 23\n",
      "Nepalese 23\n",
      "Kiwifruit 22\n",
      "Czech 20\n",
      "Baking 20\n",
      "Pressure Cooker 20\n",
      "Mixer 19\n",
      "Refrigerator 18\n",
      "No Cook 18\n",
      "Moose 18\n",
      "Colombian 17\n",
      "Finnish 16\n",
      "Palestinian 16\n",
      "Welsh 14\n",
      "Chilean 14\n",
      "Belgian 13\n",
      "Cambodian 13\n",
      "Bear 12\n",
      "Inexpensive 12\n",
      "Iraqi 11\n",
      "Roast 11\n",
      "Hunan 10\n",
      "Bread Machine 10\n",
      "Icelandic 9\n",
      "Beef Liver 9\n",
      "Freezer 8\n",
      "From Scratch 8\n",
      "Nigerian 7\n",
      "Memorial Day 7\n",
      "Small Appliance 6\n",
      "Costa Rican 6\n",
      "Deep Fried 5\n",
      "Pot Roast 4\n",
      "Dehydrator 4\n",
      "Hanukkah 4\n",
      "Breakfast Eggs 3\n",
      "Somalian 3\n",
      "Bean Soup 3\n",
      "Spaghetti Sauce 3\n",
      "Venezuelan 3\n",
      "Stir Fry 2\n",
      "Sudanese 2\n",
      "Mongolian 2\n",
      "Ecuadorean 2\n",
      "Honduran 2\n",
      "Lemon Cake 2\n",
      "Steam 2\n",
      "Turkey Gravy 2\n",
      "Oysters 2\n",
      "Georgian 2\n",
      "Coconut Cream Pie 1\n",
      "Desserts Fruit 1\n",
      "Guatemalan 1\n",
      "Breakfast Casseroles 1\n",
      "Mushroom Soup 1\n",
      "Wheat Bread 1\n",
      "Chicken Crock Pot 1\n",
      "Key Lime Pie 1\n",
      "Fish Tuna 1\n",
      "Roast Beef Crock Pot 1\n",
      "Soups Crock Pot 1\n",
      "Summer Dip 1\n",
      "Dairy Free Foods 1\n",
      "Peanut Butter Pie 1\n",
      "Ham And Bean Soup 1\n",
      "Bread Pudding 1\n",
      "Margarita 1\n",
      "Buttermilk Biscuits 1\n",
      "Black Bean Soup 1\n",
      "Gluten Free Appetizers 1\n",
      "Fish Salmon 1\n",
      "Snacks Sweet 1\n",
      "Main Dish Casseroles 1\n",
      "Potato Soup 1\n",
      "Broccoli Soup 1\n",
      "Apple Pie 1\n",
      "Labor Day 1\n"
     ]
    }
   ],
   "source": [
    "for counts, values in recipes_small.RecipeCategory.value_counts().items():\n",
    "    print(counts, values)"
   ]
  },
  {
   "cell_type": "markdown",
   "id": "ac0d6fe6",
   "metadata": {},
   "source": [
    "# Save data"
   ]
  },
  {
   "cell_type": "code",
   "execution_count": 28,
   "id": "b89b6e36",
   "metadata": {},
   "outputs": [],
   "source": [
    "import pickle\n",
    "# with open(INDEX_TO_RECIPE_OBJ, 'wb') as pickle_file:\n",
    "#      pickle.dump(index_to_recipe, pickle_file)\n",
    "# with open(RECIPE_ID_TO_NAME, 'wb') as pickle_file:\n",
    "#      pickle.dump(recipe_id_to_name, pickle_file)\n",
    "# with open(RECIPE_ID_TO_CAT, 'wb') as pickle_file:\n",
    "#      pickle.dump(recipe_id_to_cat, pickle_file)\n",
    "# with open(RECIPE_TO_INDEX_OBJ, 'wb') as pickle_file:\n",
    "#      pickle.dump(recipe_to_index, pickle_file)\n",
    "# with open(REVIEWS_PER_RECIPE_WITH_0, 'wb') as pickle_file:\n",
    "#      pickle.dump(reviews_per_recipe_with_0, pickle_file)\n",
    "# with open(REVIEWS_PER_RECIPE_WITHOUT_0, 'wb') as pickle_file:\n",
    "#      pickle.dump(reviews_per_recipe_without_0, pickle_file)\n",
    "# with open(REVIEWS_PER_USER_WITH_0, 'wb') as pickle_file:\n",
    "#      pickle.dump(reviews_per_user_with_0, pickle_file)\n",
    "# with open(REVIEWS_PER_USER_WITHOUT_0, 'wb') as pickle_file:\n",
    "#      pickle.dump(reviews_per_user_without_0, pickle_file)\n",
    "# recipes_small.to_parquet(RECIPES_SMALL)\n",
    "# ratings_small.to_parquet(RATINGS_SMALL)\n",
    "# ratings_time.to_parquet(RATINGS_TIME)\n",
    "\n",
    "\n",
    "# with open(RECIPE_ID_TO_INGREDIENTS, 'wb') as pickle_file:\n",
    "#      pickle.dump(recipe_id_to_ing, pickle_file)"
   ]
  },
  {
   "cell_type": "code",
   "execution_count": 32,
   "id": "08d2825d",
   "metadata": {},
   "outputs": [],
   "source": [
    "\n",
    "# recipes_with_ratings.to_parquet(\"../samples/recipes_with_ratings.parquet\")      \n",
    "# with open(\"../samples/index_to_recipe_with_ratings.obj\", 'wb') as pickle_file:\n",
    "#      pickle.dump(index_to_recipe_with_ratings, pickle_file)\n",
    "        \n",
    "# with open(\"../samples/recipe_to_index_with_ratings.obj\", 'wb') as pickle_file:\n",
    "#      pickle.dump(recipe_to_index_with_ratings, pickle_file)"
   ]
  },
  {
   "cell_type": "code",
   "execution_count": null,
   "id": "bc25664d",
   "metadata": {},
   "outputs": [],
   "source": []
  }
 ],
 "metadata": {
  "kernelspec": {
   "display_name": "Python 3 (ipykernel)",
   "language": "python",
   "name": "python3"
  },
  "language_info": {
   "codemirror_mode": {
    "name": "ipython",
    "version": 3
   },
   "file_extension": ".py",
   "mimetype": "text/x-python",
   "name": "python",
   "nbconvert_exporter": "python",
   "pygments_lexer": "ipython3",
   "version": "3.9.7"
  }
 },
 "nbformat": 4,
 "nbformat_minor": 5
}
