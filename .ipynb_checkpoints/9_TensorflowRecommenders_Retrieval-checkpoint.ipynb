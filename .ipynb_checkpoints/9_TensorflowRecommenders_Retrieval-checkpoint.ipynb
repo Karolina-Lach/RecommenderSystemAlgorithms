{
 "cells": [
  {
   "cell_type": "code",
   "execution_count": 1,
   "id": "10e15a8b",
   "metadata": {},
   "outputs": [],
   "source": [
    "# !pip install -q tensorflow-recommenders\n",
    "# !pip install -q --upgrade tensorflow-datasets\n",
    "# !pip install -q scann"
   ]
  },
  {
   "cell_type": "code",
   "execution_count": 2,
   "id": "5d2cf4d8",
   "metadata": {},
   "outputs": [],
   "source": [
    "import os\n",
    "import pprint\n",
    "import tempfile\n",
    "from typing import Dict, Text\n",
    "\n",
    "import numpy as np\n",
    "import tensorflow as tf\n",
    "import tensorflow_datasets as tfds\n",
    "\n",
    "import pandas as pd\n",
    "import sampling"
   ]
  },
  {
   "cell_type": "code",
   "execution_count": 3,
   "id": "7f67aaaf",
   "metadata": {},
   "outputs": [],
   "source": [
    "import tensorflow_recommenders as tfrs"
   ]
  },
  {
   "cell_type": "code",
   "execution_count": 4,
   "id": "b4a788a2",
   "metadata": {},
   "outputs": [],
   "source": [
    "import pickle"
   ]
  },
  {
   "cell_type": "markdown",
   "id": "268e89a1",
   "metadata": {},
   "source": [
    "# Constants "
   ]
  },
  {
   "cell_type": "code",
   "execution_count": 5,
   "id": "a1718cc1",
   "metadata": {},
   "outputs": [],
   "source": [
    "RATINGS_SMALL = \"../EDA_files/ratings_small.parquet\"\n",
    "RECIPES_SMALL = \"../EDA_files/recipes_small.parquet\"\n",
    "INDEX_TO_RECIPE_OBJ = \"../EDA_files/index_to_recipe.obj\"\n",
    "RECIPE_TO_INDEX_OBJ = \"../EDA_files/recipe_to_index.obj\"\n",
    "\n",
    "ING_CLEAN_NO_COMMON = '../cleaned_files/ingredients_clean_without_common_words.obj'\n",
    "KEYWORDS_CLEAN = '../cleaned_files/keywords_cleaned.obj'\n",
    "CATEGORIES_CLEAN = '../cleaned_files/categories_cleaned.obj'\n",
    "NAMES_CLEAN = '../cleaned_files/names_cleaned.obj'\n",
    "\n",
    "RECIPES_DATA = \"../dataset/recipes.parquet\""
   ]
  },
  {
   "cell_type": "markdown",
   "id": "32c0c03d",
   "metadata": {},
   "source": [
    "# Load data "
   ]
  },
  {
   "cell_type": "code",
   "execution_count": 6,
   "id": "1c3d7c5a",
   "metadata": {},
   "outputs": [],
   "source": [
    "recipes_small = pd.read_parquet(RECIPES_SMALL)\n",
    "ratings_small = pd.read_parquet(RATINGS_SMALL)"
   ]
  },
  {
   "cell_type": "code",
   "execution_count": 7,
   "id": "4cdef96b",
   "metadata": {},
   "outputs": [],
   "source": [
    "recipes = pd.read_parquet(RECIPES_DATA)"
   ]
  },
  {
   "cell_type": "code",
   "execution_count": 8,
   "id": "59bcf49f",
   "metadata": {},
   "outputs": [],
   "source": [
    "with open(ING_CLEAN_NO_COMMON, \"rb\") as input_file:\n",
    "    ingredients_no_common_words = pickle.load(input_file)\n",
    "\n",
    "with open(KEYWORDS_CLEAN, \"rb\") as input_file:\n",
    "    keywords_clean = pickle.load(input_file)\n",
    "\n",
    "with open(CATEGORIES_CLEAN, \"rb\") as input_file:\n",
    "    categories_clean = pickle.load(input_file)\n",
    "    \n",
    "with open(NAMES_CLEAN, \"rb\") as input_file:\n",
    "    names_clean = pickle.load(input_file)"
   ]
  },
  {
   "cell_type": "code",
   "execution_count": 9,
   "id": "89b6c3a3",
   "metadata": {},
   "outputs": [],
   "source": [
    "ingredients_no_common_words.Ingredients = ingredients_no_common_words.Ingredients.map(lambda x: ' '.join(x))"
   ]
  },
  {
   "cell_type": "code",
   "execution_count": 10,
   "id": "546705f8",
   "metadata": {},
   "outputs": [],
   "source": [
    "keywords_clean.Keywords = keywords_clean.Keywords.map(lambda x: ' '.join(x)) "
   ]
  },
  {
   "cell_type": "code",
   "execution_count": 11,
   "id": "c5125535",
   "metadata": {},
   "outputs": [],
   "source": [
    "recipes_clean = recipes_small.copy()\n",
    "recipes_clean.drop(columns=['Ingredients', 'Keywords', 'RecipeCategory', 'Nutritions'], axis=1, inplace=True)"
   ]
  },
  {
   "cell_type": "code",
   "execution_count": 12,
   "id": "6b440651",
   "metadata": {},
   "outputs": [],
   "source": [
    "recipes_clean = recipes_clean.merge(ingredients_no_common_words, on='RecipeId')"
   ]
  },
  {
   "cell_type": "code",
   "execution_count": 13,
   "id": "90b711de",
   "metadata": {},
   "outputs": [],
   "source": [
    "recipes_clean = recipes_clean.merge(keywords_clean, on='RecipeId')\n",
    "recipes_clean = recipes_clean.merge(categories_clean, on='RecipeId')"
   ]
  },
  {
   "cell_type": "code",
   "execution_count": 14,
   "id": "805792e1",
   "metadata": {},
   "outputs": [],
   "source": [
    "sample = recipes[['RecipeId', 'Calories', 'FatContent', 'SaturatedFatContent',\n",
    "                                            'CholesterolContent', 'SodiumContent', 'CarbohydrateContent',\n",
    "                                            'FiberContent', 'SugarContent', 'ProteinContent']]"
   ]
  },
  {
   "cell_type": "code",
   "execution_count": 15,
   "id": "0dd4f370",
   "metadata": {},
   "outputs": [],
   "source": [
    "recipes_clean = recipes_clean.merge(sample, on='RecipeId')"
   ]
  },
  {
   "cell_type": "code",
   "execution_count": 16,
   "id": "fc68b304",
   "metadata": {},
   "outputs": [],
   "source": [
    "del(recipes)\n",
    "del(sample)"
   ]
  },
  {
   "cell_type": "code",
   "execution_count": 17,
   "id": "efd9bb48",
   "metadata": {},
   "outputs": [],
   "source": [
    "author_min_20 = sampling.get_rating_with_min_number(ratings_small, 20, col_name='AuthorId')\n",
    "recipe_min_20 = sampling.get_rating_with_min_number(ratings_small, 20, col_name='RecipeId')\n",
    "\n",
    "ratings_min_20 = author_min_20.merge(recipe_min_20, how='inner')"
   ]
  },
  {
   "cell_type": "code",
   "execution_count": null,
   "id": "4966e9fa",
   "metadata": {},
   "outputs": [],
   "source": []
  },
  {
   "cell_type": "markdown",
   "id": "405beec1",
   "metadata": {},
   "source": [
    "# Prepare dataset"
   ]
  },
  {
   "cell_type": "markdown",
   "id": "45806056",
   "metadata": {},
   "source": [
    "## Ratings"
   ]
  },
  {
   "cell_type": "code",
   "execution_count": 18,
   "id": "3b13ab33",
   "metadata": {},
   "outputs": [
    {
     "name": "stdout",
     "output_type": "stream",
     "text": [
      "<class 'pandas.core.frame.DataFrame'>\n",
      "RangeIndex: 1401982 entries, 0 to 1401981\n",
      "Data columns (total 5 columns):\n",
      " #   Column         Non-Null Count    Dtype              \n",
      "---  ------         --------------    -----              \n",
      " 0   RecipeId       1401982 non-null  int32              \n",
      " 1   AuthorId       1401982 non-null  int32              \n",
      " 2   Rating         1401982 non-null  int32              \n",
      " 3   Review         1401982 non-null  object             \n",
      " 4   DateSubmitted  1401982 non-null  datetime64[ns, UTC]\n",
      "dtypes: datetime64[ns, UTC](1), int32(3), object(1)\n",
      "memory usage: 37.4+ MB\n"
     ]
    }
   ],
   "source": [
    "ratings_small.info()"
   ]
  },
  {
   "cell_type": "code",
   "execution_count": 19,
   "id": "1e364b81",
   "metadata": {},
   "outputs": [],
   "source": [
    "ratings_min_20.AuthorId = ratings_min_20.AuthorId.map(lambda x: bytes(str(x), 'utf-8'))\n",
    "ratings_min_20.RecipeId = ratings_min_20.RecipeId.map(lambda x: bytes(str(x), 'utf-8'))"
   ]
  },
  {
   "cell_type": "code",
   "execution_count": 20,
   "id": "acbcb670",
   "metadata": {},
   "outputs": [],
   "source": [
    "ratings_dict = ratings_min_20.groupby(['AuthorId', 'RecipeId'])['Rating'].sum().reset_index()"
   ]
  },
  {
   "cell_type": "code",
   "execution_count": 21,
   "id": "0360d047",
   "metadata": {},
   "outputs": [],
   "source": [
    "ratings_dict = {name: np.array(value) for name, value in ratings_dict.items()}\n",
    "ratings = tf.data.Dataset.from_tensor_slices(ratings_dict)\n"
   ]
  },
  {
   "cell_type": "code",
   "execution_count": 22,
   "id": "c2d404e6",
   "metadata": {},
   "outputs": [],
   "source": [
    "ratings = ratings.map(lambda x: {'AuthorId' : x['AuthorId'], \n",
    "                                 'RecipeId' : x['RecipeId'], \n",
    "                                 'Rating' : float(x['Rating']),})"
   ]
  },
  {
   "cell_type": "code",
   "execution_count": 23,
   "id": "79a7a888",
   "metadata": {},
   "outputs": [
    {
     "name": "stdout",
     "output_type": "stream",
     "text": [
      "{'AuthorId': b'100026', 'Rating': 5.0, 'RecipeId': b'120914'}\n",
      "{'AuthorId': b'100026', 'Rating': 5.0, 'RecipeId': b'143736'}\n",
      "{'AuthorId': b'100026', 'Rating': 4.0, 'RecipeId': b'161324'}\n",
      "{'AuthorId': b'100026', 'Rating': 5.0, 'RecipeId': b'161335'}\n",
      "{'AuthorId': b'100026', 'Rating': 4.0, 'RecipeId': b'161381'}\n",
      "{'AuthorId': b'100026', 'Rating': 5.0, 'RecipeId': b'172588'}\n",
      "{'AuthorId': b'100026', 'Rating': 5.0, 'RecipeId': b'195437'}\n",
      "{'AuthorId': b'100026', 'Rating': 5.0, 'RecipeId': b'33201'}\n",
      "{'AuthorId': b'100026', 'Rating': 5.0, 'RecipeId': b'39165'}\n",
      "{'AuthorId': b'100026', 'Rating': 5.0, 'RecipeId': b'8739'}\n"
     ]
    }
   ],
   "source": [
    "for x in ratings.take(10).as_numpy_iterator():\n",
    "    pprint.pprint(x)"
   ]
  },
  {
   "cell_type": "markdown",
   "id": "966aaca6",
   "metadata": {},
   "source": [
    "## Recipes"
   ]
  },
  {
   "cell_type": "code",
   "execution_count": 24,
   "id": "c51abfaf",
   "metadata": {},
   "outputs": [
    {
     "name": "stdout",
     "output_type": "stream",
     "text": [
      "<class 'pandas.core.frame.DataFrame'>\n",
      "Int64Index: 522517 entries, 0 to 522516\n",
      "Data columns (total 22 columns):\n",
      " #   Column               Non-Null Count   Dtype              \n",
      "---  ------               --------------   -----              \n",
      " 0   RecipeId             522517 non-null  int64              \n",
      " 1   Name                 522517 non-null  object             \n",
      " 2   AuthorId             522517 non-null  int32              \n",
      " 3   CookTimeInMinutes    522517 non-null  float64            \n",
      " 4   PrepTimeInMinutes    522517 non-null  float64            \n",
      " 5   TotalTimeInMinutes   522517 non-null  float64            \n",
      " 6   DatePublished        522517 non-null  datetime64[ns, UTC]\n",
      " 7   Description          522512 non-null  object             \n",
      " 8   RecipeServings       339606 non-null  float64            \n",
      " 9   RecipeInstructions   522517 non-null  object             \n",
      " 10  Ingredients          522517 non-null  object             \n",
      " 11  Keywords             522517 non-null  object             \n",
      " 12  RecipeCategory       522517 non-null  object             \n",
      " 13  Calories             522517 non-null  float64            \n",
      " 14  FatContent           522517 non-null  float64            \n",
      " 15  SaturatedFatContent  522517 non-null  float64            \n",
      " 16  CholesterolContent   522517 non-null  float64            \n",
      " 17  SodiumContent        522517 non-null  float64            \n",
      " 18  CarbohydrateContent  522517 non-null  float64            \n",
      " 19  FiberContent         522517 non-null  float64            \n",
      " 20  SugarContent         522517 non-null  float64            \n",
      " 21  ProteinContent       522517 non-null  float64            \n",
      "dtypes: datetime64[ns, UTC](1), float64(13), int32(1), int64(1), object(6)\n",
      "memory usage: 89.7+ MB\n"
     ]
    }
   ],
   "source": [
    "recipes_clean.info()"
   ]
  },
  {
   "cell_type": "code",
   "execution_count": 43,
   "id": "59d90065",
   "metadata": {},
   "outputs": [],
   "source": [
    "recipes_clean = recipes_clean[recipes_clean.RecipeId.isin(list(ratings_min_20.RecipeId))]"
   ]
  },
  {
   "cell_type": "code",
   "execution_count": 45,
   "id": "fcaf2a6f",
   "metadata": {},
   "outputs": [],
   "source": [
    "features = [\"RecipeId\", \"Name\", \"Keywords\", \"Ingredients\", \"FatContent\", \"SaturatedFatContent\", \"CholesterolContent\", \"SodiumContent\",\n",
    "           \"CarbohydrateContent\", \"FiberContent\",\"SugarContent\", \"ProteinContent\"]"
   ]
  },
  {
   "cell_type": "code",
   "execution_count": 46,
   "id": "efba8f4e",
   "metadata": {},
   "outputs": [
    {
     "name": "stderr",
     "output_type": "stream",
     "text": [
      "C:\\anaconda\\envs\\RecSys\\lib\\site-packages\\pandas\\core\\generic.py:5516: SettingWithCopyWarning: \n",
      "A value is trying to be set on a copy of a slice from a DataFrame.\n",
      "Try using .loc[row_indexer,col_indexer] = value instead\n",
      "\n",
      "See the caveats in the documentation: https://pandas.pydata.org/pandas-docs/stable/user_guide/indexing.html#returning-a-view-versus-a-copy\n",
      "  self[name] = value\n"
     ]
    }
   ],
   "source": [
    "# items_dict = recipes_clean.groupby(['RecipeId'])[\"Name\", \"Keywords\", \"Ingredients\", \"FatContent\", \"SaturatedFatContent\", \"CholesterolContent\", \"SodiumContent\",\n",
    "#            \"CarbohydrateContent\", \"FiberContent\",\"SugarContent\", \"ProteinContent\"].sum().reset_index()\n",
    "\n",
    "recipes_clean.RecipeId = recipes_clean.RecipeId.map(lambda x: bytes(str(x), 'utf-8'))\n",
    "items_dict = recipes_clean[features]\n",
    "items_dict = {name: np.array(value) for name, value in items_dict.items()}\n",
    "items = tf.data.Dataset.from_tensor_slices(items_dict)"
   ]
  },
  {
   "cell_type": "code",
   "execution_count": 47,
   "id": "2cb50963",
   "metadata": {},
   "outputs": [],
   "source": [
    "items = items.map(lambda x: x['RecipeId'])"
   ]
  },
  {
   "cell_type": "markdown",
   "id": "3465c661",
   "metadata": {},
   "source": [
    "## Basic version - just ids"
   ]
  },
  {
   "cell_type": "code",
   "execution_count": 48,
   "id": "dc922f4b",
   "metadata": {},
   "outputs": [],
   "source": [
    "size = ratings_min_20.shape[0]\n",
    "train_size = int(0.8 * size)\n",
    "test_size = size - train_size\n",
    "\n",
    "tf.random.set_seed(42)\n",
    "shuffled = ratings.shuffle(size, seed=42, reshuffle_each_iteration=False)\n",
    "\n",
    "train = shuffled.take(train_size)\n",
    "test = shuffled.take(train_size).take(test_size)"
   ]
  },
  {
   "cell_type": "code",
   "execution_count": 49,
   "id": "e332e846",
   "metadata": {},
   "outputs": [],
   "source": [
    "recipe_ids = items.batch(1_000)\n",
    "user_ids = ratings.batch(1_000_000).map(lambda x: x[\"AuthorId\"])\n",
    "\n",
    "unique_recipe_ids = np.unique(np.concatenate(list(recipe_ids)))\n",
    "unique_user_ids = np.unique(np.concatenate(list(user_ids)))"
   ]
  },
  {
   "cell_type": "code",
   "execution_count": 50,
   "id": "46f420c1",
   "metadata": {},
   "outputs": [],
   "source": [
    "# unique_user_ids = [bytes(str(x), 'utf-8') for x in unique_user_ids]"
   ]
  },
  {
   "cell_type": "code",
   "execution_count": 51,
   "id": "4b9d51f9",
   "metadata": {},
   "outputs": [],
   "source": [
    "# unique_recipe_ids = [bytes(str(x), 'utf-8') for x in unique_recipe_ids]"
   ]
  },
  {
   "cell_type": "markdown",
   "id": "61939904",
   "metadata": {},
   "source": [
    "# Implementing model"
   ]
  },
  {
   "cell_type": "markdown",
   "id": "a19ae685",
   "metadata": {},
   "source": [
    "## Query tower"
   ]
  },
  {
   "cell_type": "code",
   "execution_count": 52,
   "id": "1e2f165c",
   "metadata": {},
   "outputs": [],
   "source": [
    "embedding_dimension = 64"
   ]
  },
  {
   "cell_type": "code",
   "execution_count": 53,
   "id": "537fb15a",
   "metadata": {},
   "outputs": [],
   "source": [
    "user_model = tf.keras.Sequential([\n",
    "    tf.keras.layers.StringLookup(vocabulary=unique_user_ids, mask_token=None),\n",
    "    tf.keras.layers.Embedding(len(unique_user_ids) + 1, embedding_dimension)\n",
    "])"
   ]
  },
  {
   "cell_type": "markdown",
   "id": "f35bff0e",
   "metadata": {},
   "source": [
    "## Candidate tower"
   ]
  },
  {
   "cell_type": "code",
   "execution_count": 54,
   "id": "48bfab3c",
   "metadata": {},
   "outputs": [],
   "source": [
    "recipe_model = tf.keras.Sequential([\n",
    "  tf.keras.layers.StringLookup(\n",
    "      vocabulary=unique_recipe_ids, mask_token=None),\n",
    "  tf.keras.layers.Embedding(len(unique_recipe_ids) + 1, embedding_dimension)\n",
    "])"
   ]
  },
  {
   "cell_type": "markdown",
   "id": "c4b0b8c9",
   "metadata": {},
   "source": [
    "## Model"
   ]
  },
  {
   "cell_type": "code",
   "execution_count": 55,
   "id": "23a0f11b",
   "metadata": {},
   "outputs": [],
   "source": [
    "class RecipeModel(tfrs.Model):\n",
    "    def __init__(self, user_model, recipe_model):\n",
    "        super().__init__()\n",
    "        self.recipe_model: tf.keras.Model = recipe_model\n",
    "        self.user_model: tf.keras.Model = user_model\n",
    "            \n",
    "        metrics = tfrs.metrics.FactorizedTopK(candidates=items.batch(128).map(recipe_model))\n",
    "        task = tfrs.tasks.Retrieval(metrics=metrics)\n",
    "        self.task: tf.keras.layers.Layer = task\n",
    "            \n",
    "    def compute_loss(self, features: Dict[Text, tf.Tensor], training=False) -> tf.Tensor:\n",
    "#         print(features)\n",
    "        user_embeddings = self.user_model(features[\"AuthorId\"])\n",
    "        positive_recipe_embeddings = self.recipe_model(features[\"RecipeId\"])\n",
    "        \n",
    "        return self.task(user_embeddings, positive_recipe_embeddings)"
   ]
  },
  {
   "cell_type": "code",
   "execution_count": 56,
   "id": "1468f00b",
   "metadata": {},
   "outputs": [],
   "source": [
    "model = RecipeModel(user_model, recipe_model)\n",
    "model.compile(optimizer=tf.keras.optimizers.Adagrad(learning_rate=0.1))"
   ]
  },
  {
   "cell_type": "code",
   "execution_count": 57,
   "id": "c6d31156",
   "metadata": {},
   "outputs": [],
   "source": [
    "cached_train = train.shuffle(100_000).batch(8192).cache()\n",
    "cached_test = test.batch(4096).cache()"
   ]
  },
  {
   "cell_type": "code",
   "execution_count": 59,
   "id": "e07f06a6",
   "metadata": {},
   "outputs": [
    {
     "name": "stdout",
     "output_type": "stream",
     "text": [
      "Epoch 1/3\n",
      "{'AuthorId': <tf.Tensor 'IteratorGetNext:0' shape=(None,) dtype=string>, 'RecipeId': <tf.Tensor 'IteratorGetNext:2' shape=(None,) dtype=string>, 'Rating': <tf.Tensor 'IteratorGetNext:1' shape=(None,) dtype=float32>}\n",
      "{'AuthorId': <tf.Tensor 'IteratorGetNext:0' shape=(None,) dtype=string>, 'RecipeId': <tf.Tensor 'IteratorGetNext:2' shape=(None,) dtype=string>, 'Rating': <tf.Tensor 'IteratorGetNext:1' shape=(None,) dtype=float32>}\n",
      "31/31 [==============================] - 245s 8s/step - factorized_top_k/top_1_categorical_accuracy: 0.0000e+00 - factorized_top_k/top_5_categorical_accuracy: 0.0000e+00 - factorized_top_k/top_10_categorical_accuracy: 3.1449e-04 - factorized_top_k/top_50_categorical_accuracy: 0.0012 - factorized_top_k/top_100_categorical_accuracy: 0.0049 - loss: 70293.1031 - regularization_loss: 0.0000e+00 - total_loss: 70293.1031\n",
      "Epoch 2/3\n",
      "31/31 [==============================] - 220s 7s/step - factorized_top_k/top_1_categorical_accuracy: 0.0000e+00 - factorized_top_k/top_5_categorical_accuracy: 0.0000e+00 - factorized_top_k/top_10_categorical_accuracy: 3.1449e-04 - factorized_top_k/top_50_categorical_accuracy: 0.0012 - factorized_top_k/top_100_categorical_accuracy: 0.0049 - loss: 70293.1031 - regularization_loss: 0.0000e+00 - total_loss: 70293.1031\n",
      "Epoch 3/3\n",
      "31/31 [==============================] - 239s 8s/step - factorized_top_k/top_1_categorical_accuracy: 0.0000e+00 - factorized_top_k/top_5_categorical_accuracy: 0.0000e+00 - factorized_top_k/top_10_categorical_accuracy: 3.1449e-04 - factorized_top_k/top_50_categorical_accuracy: 0.0012 - factorized_top_k/top_100_categorical_accuracy: 0.0049 - loss: 70293.1031 - regularization_loss: 0.0000e+00 - total_loss: 70293.1031\n"
     ]
    },
    {
     "data": {
      "text/plain": [
       "<keras.callbacks.History at 0x1e30ee31250>"
      ]
     },
     "execution_count": 59,
     "metadata": {},
     "output_type": "execute_result"
    }
   ],
   "source": [
    "model.fit(cached_train, epochs=3)"
   ]
  },
  {
   "cell_type": "code",
   "execution_count": null,
   "id": "e47df4ae",
   "metadata": {},
   "outputs": [
    {
     "name": "stdout",
     "output_type": "stream",
     "text": [
      "{'AuthorId': <tf.Tensor 'IteratorGetNext:0' shape=(None,) dtype=string>, 'RecipeId': <tf.Tensor 'IteratorGetNext:2' shape=(None,) dtype=string>, 'Rating': <tf.Tensor 'IteratorGetNext:1' shape=(None,) dtype=float32>}\n"
     ]
    }
   ],
   "source": [
    "model.evaluate(cached_test, return_dict=True)"
   ]
  },
  {
   "cell_type": "code",
   "execution_count": null,
   "id": "9efd193a",
   "metadata": {},
   "outputs": [],
   "source": []
  }
 ],
 "metadata": {
  "kernelspec": {
   "display_name": "Python 3 (ipykernel)",
   "language": "python",
   "name": "python3"
  },
  "language_info": {
   "codemirror_mode": {
    "name": "ipython",
    "version": 3
   },
   "file_extension": ".py",
   "mimetype": "text/x-python",
   "name": "python",
   "nbconvert_exporter": "python",
   "pygments_lexer": "ipython3",
   "version": "3.9.7"
  }
 },
 "nbformat": 4,
 "nbformat_minor": 5
}
