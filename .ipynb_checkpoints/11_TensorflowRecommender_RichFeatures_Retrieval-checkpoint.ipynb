{
 "cells": [
  {
   "cell_type": "markdown",
   "id": "60389781",
   "metadata": {},
   "source": [
    "# Imports"
   ]
  },
  {
   "cell_type": "code",
   "execution_count": 1,
   "id": "ade83d80",
   "metadata": {},
   "outputs": [],
   "source": [
    "import os\n",
    "import pprint\n",
    "import tempfile\n",
    "from typing import Dict, Text\n",
    "\n",
    "import numpy as np\n",
    "import tensorflow as tf\n",
    "import tensorflow_datasets as tfds\n",
    "\n",
    "import pandas as pd\n",
    "import sampling\n",
    "\n",
    "import tensorflow_recommenders as tfrs\n",
    "\n",
    "import pickle\n",
    "\n",
    "import datetime\n",
    "\n",
    "from tensorflow.keras.layers import Flatten   \n",
    "from tensorflow.keras.layers import Dense     \n",
    "\n",
    "import TensorflowRichFeatures as tfrs_rich"
   ]
  },
  {
   "cell_type": "markdown",
   "id": "56fa97de",
   "metadata": {},
   "source": [
    "# Constants"
   ]
  },
  {
   "cell_type": "code",
   "execution_count": 2,
   "id": "cf3614e9",
   "metadata": {},
   "outputs": [],
   "source": [
    "RATINGS_SMALL = \"../Data/EDA_files/ratings_small.parquet\"\n",
    "RECIPES_SMALL = \"../Data/EDA_files/recipes_small.parquet\"\n",
    "\n",
    "ING_CLEAN_NO_COMMON = '../Data/cleaned_files/ingredients_clean_without_common_words.obj'\n",
    "KEYWORDS_CLEAN = '../Data/cleaned_files/keywords_cleaned.obj'\n",
    "CATEGORIES_CLEAN = '../Data/cleaned_files/categories_cleaned.obj'\n",
    "NAMES_CLEAN = '../Data/cleaned_files/names_cleaned.obj'\n",
    "\n"
   ]
  },
  {
   "cell_type": "markdown",
   "id": "f29cfafb",
   "metadata": {},
   "source": [
    "# Load data"
   ]
  },
  {
   "cell_type": "code",
   "execution_count": 3,
   "id": "fa98504e",
   "metadata": {},
   "outputs": [],
   "source": [
    "recipes_small = pd.read_parquet(RECIPES_SMALL)\n",
    "ratings_small = pd.read_parquet(RATINGS_SMALL)\n",
    "\n",
    "with open(ING_CLEAN_NO_COMMON, \"rb\") as input_file:\n",
    "    ingredients = pickle.load(input_file)\n",
    "    \n",
    "with open(CATEGORIES_CLEAN, \"rb\") as input_file:\n",
    "    categories = pickle.load(input_file)\n",
    "    \n",
    "with open(NAMES_CLEAN, \"rb\") as input_file:\n",
    "    names = pickle.load(input_file)"
   ]
  },
  {
   "cell_type": "code",
   "execution_count": 4,
   "id": "4c3a0c52",
   "metadata": {},
   "outputs": [
    {
     "name": "stdout",
     "output_type": "stream",
     "text": [
      "<class 'pandas.core.frame.DataFrame'>\n",
      "RangeIndex: 1401982 entries, 0 to 1401981\n",
      "Data columns (total 5 columns):\n",
      " #   Column         Non-Null Count    Dtype              \n",
      "---  ------         --------------    -----              \n",
      " 0   RecipeId       1401982 non-null  int32              \n",
      " 1   AuthorId       1401982 non-null  int32              \n",
      " 2   Rating         1401982 non-null  int32              \n",
      " 3   Review         1401982 non-null  object             \n",
      " 4   DateSubmitted  1401982 non-null  datetime64[ns, UTC]\n",
      "dtypes: datetime64[ns, UTC](1), int32(3), object(1)\n",
      "memory usage: 37.4+ MB\n"
     ]
    }
   ],
   "source": [
    "ratings_small.info()"
   ]
  },
  {
   "cell_type": "markdown",
   "id": "b54dc5a3",
   "metadata": {},
   "source": [
    "## Ratings"
   ]
  },
  {
   "cell_type": "code",
   "execution_count": 5,
   "id": "7e0d29a6",
   "metadata": {},
   "outputs": [],
   "source": [
    "ratings_small[\"Timestamp\"] = ratings_small.DateSubmitted.map(lambda x: int(x.timestamp()))\n",
    "ratings_small.drop(columns=[\"Rating\", \"Review\", \"DateSubmitted\"], inplace=True)"
   ]
  },
  {
   "cell_type": "code",
   "execution_count": 6,
   "id": "a02782af",
   "metadata": {},
   "outputs": [],
   "source": [
    "author_min_20 = sampling.get_rating_with_min_number(ratings_small, 20, col_name='AuthorId')\n",
    "recipe_min_20 = sampling.get_rating_with_min_number(ratings_small, 20, col_name='RecipeId')\n",
    "\n",
    "ratings_min_20 = author_min_20.merge(recipe_min_20, how='inner')"
   ]
  },
  {
   "cell_type": "code",
   "execution_count": 7,
   "id": "e0ae9832",
   "metadata": {},
   "outputs": [],
   "source": [
    "ratings_sample = ratings_min_20.copy()"
   ]
  },
  {
   "cell_type": "code",
   "execution_count": 8,
   "id": "48bf20ff",
   "metadata": {},
   "outputs": [],
   "source": [
    "recipe_ids_in_sample = list(set(ratings_sample.RecipeId))"
   ]
  },
  {
   "cell_type": "markdown",
   "id": "b52b70ec",
   "metadata": {},
   "source": [
    "## Recipes"
   ]
  },
  {
   "cell_type": "code",
   "execution_count": 9,
   "id": "80ab7d90",
   "metadata": {},
   "outputs": [],
   "source": [
    "recipes_subset = recipes_small[[\"RecipeId\"]].merge(ingredients, on=\"RecipeId\", how=\"inner\").merge(categories, on=\"RecipeId\",\n",
    "                                                                                                 how=\"inner\")"
   ]
  },
  {
   "cell_type": "code",
   "execution_count": 10,
   "id": "aaba39af",
   "metadata": {},
   "outputs": [],
   "source": [
    "recipes_subset[\"Ingredients\"] = recipes_subset[\"Ingredients\"].map(lambda x: \" \".join(x))\n",
    "recipes_subset = recipes_subset[recipes_subset.RecipeId.isin(recipe_ids_in_sample)]"
   ]
  },
  {
   "cell_type": "code",
   "execution_count": 11,
   "id": "e2ed74d7",
   "metadata": {},
   "outputs": [],
   "source": [
    "merged_dataset = ratings_sample.merge(recipes_subset, on=\"RecipeId\", how=\"inner\")"
   ]
  },
  {
   "cell_type": "markdown",
   "id": "96ed0f2e",
   "metadata": {},
   "source": [
    "# Prepare dataset"
   ]
  },
  {
   "cell_type": "markdown",
   "id": "d8380e44",
   "metadata": {},
   "source": [
    "## Recipes"
   ]
  },
  {
   "cell_type": "code",
   "execution_count": 12,
   "id": "52f721c5",
   "metadata": {},
   "outputs": [],
   "source": [
    "recipes_subset.RecipeId = recipes_subset.RecipeId.map(lambda x: bytes(str(x), 'utf-8'))\n",
    "\n",
    "recipes_dict = recipes_subset[['RecipeId','Ingredients']]\n",
    "recipes_dict = {name: np.array(value) for name, value in recipes_dict.items()}\n",
    "recipes = tf.data.Dataset.from_tensor_slices(recipes_dict)\n",
    "\n",
    "\n",
    "recipes = recipes.map(lambda x: {'RecipeId' : x['RecipeId'],\n",
    "                                 'Ingredients' : x['Ingredients']})"
   ]
  },
  {
   "cell_type": "code",
   "execution_count": 13,
   "id": "ef613e45",
   "metadata": {},
   "outputs": [
    {
     "name": "stdout",
     "output_type": "stream",
     "text": [
      "{'Ingredients': b'black pepper butter button mushroom celery chicken flour mil'\n",
      "                b'k parsley pepper pimiento worcestershire sauce',\n",
      " 'RecipeId': b'44'}\n"
     ]
    }
   ],
   "source": [
    "for x in recipes.take(1).as_numpy_iterator():\n",
    "    pprint.pprint(x)"
   ]
  },
  {
   "cell_type": "markdown",
   "id": "2332ae27",
   "metadata": {},
   "source": [
    "## Ratings"
   ]
  },
  {
   "cell_type": "code",
   "execution_count": 14,
   "id": "409b6c3d",
   "metadata": {},
   "outputs": [],
   "source": [
    "ratings_sample.AuthorId = ratings_sample.AuthorId.map(lambda x: bytes(str(x), 'utf-8'))\n",
    "ratings_sample.RecipeId = ratings_sample.RecipeId.map(lambda x: bytes(str(x), 'utf-8'))\n",
    "\n",
    "ratings_dict = ratings_sample[['AuthorId', 'RecipeId', 'Timestamp']]\n",
    "ratings_dict = {name: np.array(value) for name, value in ratings_dict.items()}\n",
    "ratings = tf.data.Dataset.from_tensor_slices(ratings_dict)\n",
    "\n",
    "\n",
    "ratings = ratings.map(lambda x: {'AuthorId' : x['AuthorId'], \n",
    "                                 'RecipeId' : x['RecipeId'],\n",
    "                                 'Timestamp' : x['Timestamp']})"
   ]
  },
  {
   "cell_type": "code",
   "execution_count": 15,
   "id": "6ce3aec3",
   "metadata": {},
   "outputs": [
    {
     "name": "stdout",
     "output_type": "stream",
     "text": [
      "{'AuthorId': b'2695', 'RecipeId': b'4807', 'Timestamp': 977924870}\n"
     ]
    }
   ],
   "source": [
    "for x in ratings.take(1).as_numpy_iterator():\n",
    "    pprint.pprint(x)"
   ]
  },
  {
   "cell_type": "markdown",
   "id": "d9751b5a",
   "metadata": {},
   "source": [
    "## Merged"
   ]
  },
  {
   "cell_type": "code",
   "execution_count": 16,
   "id": "0f6cac14",
   "metadata": {},
   "outputs": [],
   "source": [
    "merged_dataset.AuthorId = merged_dataset.AuthorId.map(lambda x: bytes(str(x), 'utf-8'))\n",
    "merged_dataset.RecipeId = merged_dataset.RecipeId.map(lambda x: bytes(str(x), 'utf-8'))\n",
    "\n",
    "merged_dict = merged_dataset[['AuthorId', 'RecipeId', 'Timestamp', \"Ingredients\"]]\n",
    "merged_dict = {name: np.array(value) for name, value in merged_dict.items()}\n",
    "merged_dataset = tf.data.Dataset.from_tensor_slices(merged_dict)\n",
    "\n",
    "\n",
    "merged_dataset = merged_dataset.map(lambda x: {'AuthorId' : x['AuthorId'], \n",
    "                                 'RecipeId' : x['RecipeId'],\n",
    "                                 'Timestamp' : x['Timestamp'],\n",
    "                                 'Ingredients' : x['Ingredients']})"
   ]
  },
  {
   "cell_type": "code",
   "execution_count": 17,
   "id": "a46bb939",
   "metadata": {},
   "outputs": [
    {
     "name": "stdout",
     "output_type": "stream",
     "text": [
      "{'AuthorId': b'2695',\n",
      " 'Ingredients': b'butter turkey',\n",
      " 'RecipeId': b'4807',\n",
      " 'Timestamp': 977924870}\n"
     ]
    }
   ],
   "source": [
    "for x in merged_dataset.take(1).as_numpy_iterator():\n",
    "    pprint.pprint(x)"
   ]
  },
  {
   "cell_type": "markdown",
   "id": "bbc849a7",
   "metadata": {},
   "source": [
    "## Timestamp buckets"
   ]
  },
  {
   "cell_type": "code",
   "execution_count": 18,
   "id": "6a8ba00d",
   "metadata": {},
   "outputs": [],
   "source": [
    "timestamps = np.concatenate(list(ratings.map(lambda x: x[\"Timestamp\"]).batch(100)))\n",
    "\n",
    "max_timestamp = timestamps.max()\n",
    "min_timestamp = timestamps.min()\n",
    "\n",
    "timestamp_buckets = np.linspace(\n",
    "    min_timestamp, max_timestamp, num=1000,\n",
    ")\n"
   ]
  },
  {
   "cell_type": "markdown",
   "id": "a4f35af9",
   "metadata": {},
   "source": [
    "## Unique values"
   ]
  },
  {
   "cell_type": "code",
   "execution_count": 19,
   "id": "786c7614",
   "metadata": {},
   "outputs": [],
   "source": [
    "recipe_ids = recipes.batch(1_000).map(lambda x: x[\"RecipeId\"])\n",
    "user_ids = ratings.batch(1_000_000).map(lambda x: x[\"AuthorId\"])\n",
    "\n",
    "unique_recipe_ids = np.unique(np.concatenate(list(recipe_ids)))\n",
    "unique_user_ids = np.unique(np.concatenate(list(user_ids)))"
   ]
  },
  {
   "cell_type": "markdown",
   "id": "255ec86a",
   "metadata": {},
   "source": [
    "## User model"
   ]
  },
  {
   "cell_type": "code",
   "execution_count": 20,
   "id": "709a7f89",
   "metadata": {},
   "outputs": [],
   "source": [
    "# class UserModel(tfrs.models.Model):\n",
    "    \n",
    "#     def __init__(self, \n",
    "#                  unique_user_ids,\n",
    "#                  timestamp_buckets,\n",
    "#                  verbose=False):\n",
    "        \n",
    "#         super().__init__()\n",
    "#         self._verbose = verbose\n",
    "#         if(self._verbose):\n",
    "#             print(\"USER MODEL INIT\")\n",
    "#         self.user_embedding = tf.keras.Sequential([\n",
    "#             tf.keras.layers.StringLookup(vocabulary=unique_user_ids, mask_token=None),\n",
    "#             tf.keras.layers.Embedding(len(unique_user_ids) + 1, 32)\n",
    "#         ])\n",
    "        \n",
    "#         self.timestamp_embedding = tf.keras.Sequential([\n",
    "#             tf.keras.layers.Discretization(timestamp_buckets.tolist()),\n",
    "#             tf.keras.layers.Embedding(len(timestamp_buckets)+1, 32),\n",
    "#         ])\n",
    "        \n",
    "#         self.normalized_timestamp = tf.keras.layers.Normalization(axis=None)\n",
    "#         self.normalized_timestamp.adapt(timestamps)\n",
    "        \n",
    "#     def call(self, inputs):\n",
    "#         if(self._verbose):\n",
    "#             print(\"User model call\")\n",
    "#             print(\"INPUTS: \", inputs)\n",
    "#         return tf.concat([\n",
    "#             self.user_embedding(inputs[\"AuthorId\"]),\n",
    "#             self.timestamp_embedding(inputs[\"Timestamp\"]),\n",
    "#             tf.reshape(self.normalized_timestamp(inputs[\"Timestamp\"]), (-1,1)),\n",
    "#         ], axis=1)\n",
    "        "
   ]
  },
  {
   "cell_type": "code",
   "execution_count": 21,
   "id": "57f9b596",
   "metadata": {},
   "outputs": [],
   "source": [
    "# user_model = UserModel(unique_user_ids, timestamp_buckets)"
   ]
  },
  {
   "cell_type": "code",
   "execution_count": 22,
   "id": "cce9c7b2",
   "metadata": {},
   "outputs": [],
   "source": [
    "# for row in ratings.batch(1).take(1):\n",
    "#     print(f\"Representation: {user_model(row)[0, :3]}\")"
   ]
  },
  {
   "cell_type": "markdown",
   "id": "651cbe96",
   "metadata": {},
   "source": [
    "## Recipe model"
   ]
  },
  {
   "cell_type": "code",
   "execution_count": 23,
   "id": "0e75d9fb",
   "metadata": {},
   "outputs": [],
   "source": [
    "# class RecipeModel(tfrs.models.Model):\n",
    "    \n",
    "#     def __init__(self, \n",
    "#                  unique_recipe_ids,\n",
    "#                  recipes_dataset,\n",
    "#                  verbose=False):\n",
    "#         super().__init__()\n",
    "#         max_tokens = 10_000\n",
    "#         embedding_dim=32\n",
    "        \n",
    "#         self._verbose = verbose\n",
    "#         if(verbose):\n",
    "#             print(\"RECIPE MODEL INIT\")\n",
    "#         self.recipe_id_embedding = tf.keras.Sequential([\n",
    "#             tf.keras.layers.StringLookup(vocabulary=unique_recipe_ids, mask_token=None),\n",
    "#             tf.keras.layers.Embedding(len(unique_recipe_ids)+1, 32)\n",
    "#         ])\n",
    "        \n",
    "#         self.ingredients_vectorizer = tf.keras.layers.TextVectorization(max_tokens = max_tokens)\n",
    "        \n",
    "#         self.ingredients_text_embedding = tf.keras.Sequential([\n",
    "#             self.ingredients_vectorizer,\n",
    "#             tf.keras.layers.Embedding(input_dim=max_tokens, output_dim=embedding_dim),\n",
    "#             tf.keras.layers.GlobalAveragePooling1D()\n",
    "#         ])\n",
    "        \n",
    "#         self.ingredients_vectorizer.adapt(recipes_dataset.map(lambda x: x['Ingredients']))\n",
    "        \n",
    "#     def call(self, inputs):\n",
    "#         if(self._verbose):\n",
    "#             print(\"Recipe model call\")\n",
    "#             print(\"INPUTS: \", inputs)\n",
    "#         return tf.concat([\n",
    "#             self.recipe_id_embedding(inputs[\"RecipeId\"]),\n",
    "#             self.ingredients_text_embedding(inputs[\"Ingredients\"])\n",
    "#         ], axis=1)"
   ]
  },
  {
   "cell_type": "code",
   "execution_count": 24,
   "id": "57c73ac3",
   "metadata": {},
   "outputs": [],
   "source": [
    "# recipe_model = RecipeModel(unique_recipe_ids=unique_recipe_ids, recipes_dataset=recipes)"
   ]
  },
  {
   "cell_type": "code",
   "execution_count": 25,
   "id": "95adcb96",
   "metadata": {},
   "outputs": [],
   "source": [
    "# for x in recipes.take(1).as_numpy_iterator():\n",
    "# #     print(x)\n",
    "#     print(recipe_model(x))"
   ]
  },
  {
   "cell_type": "markdown",
   "id": "9355d301",
   "metadata": {},
   "source": [
    "## Query model"
   ]
  },
  {
   "cell_type": "code",
   "execution_count": 26,
   "id": "ce0dd96e",
   "metadata": {},
   "outputs": [],
   "source": [
    "# class QueryModel(tf.keras.Model):\n",
    "#     \"\"\"Model for encoding user queries.\"\"\"\n",
    "#     def __init__(self, \n",
    "#                  layer_sizes,\n",
    "#                  unique_user_ids,\n",
    "#                  timestamp_buckets,\n",
    "#                  verbose=False):\n",
    "#         \"\"\"Model for encoding user queries.\n",
    "#         Args:\n",
    "#             layer_sizes:\n",
    "#         A list of integers where the i-th entry represents the number of units\n",
    "#         the i-th layer contains.\n",
    "#         \"\"\"\n",
    "        \n",
    "#         super().__init__()\n",
    "\n",
    "#         if(verbose):\n",
    "#             print(\"Query model init\")\n",
    "            \n",
    "#         self._verbose = verbose\n",
    "#         # We first use the user model for generating embeddings.\n",
    "#         self.embedding_model = UserModel(unique_user_ids, timestamp_buckets, verbose)\n",
    "\n",
    "#         # Then construct the layers.\n",
    "#         self.dense_layers = tf.keras.Sequential()\n",
    "\n",
    "#         # Use the ReLU activation for all but the last layer.\n",
    "#         for layer_size in layer_sizes[:-1]:\n",
    "#             self.dense_layers.add(tf.keras.layers.Dense(layer_size, activation=\"relu\"))\n",
    "\n",
    "#         # No activation for the last layer.\n",
    "#         for layer_size in layer_sizes[-1:]:\n",
    "#             self.dense_layers.add(tf.keras.layers.Dense(layer_size))\n",
    "            \n",
    "#     def call(self, inputs):\n",
    "#         if(self._verbose):\n",
    "#             print(\"Query model call\")\n",
    "#             print(\"Input: \", inputs)\n",
    "#         feature_embedding = self.embedding_model(inputs)\n",
    "#         return self.dense_layers(feature_embedding)"
   ]
  },
  {
   "cell_type": "markdown",
   "id": "35017010",
   "metadata": {},
   "source": [
    "## Candidate model"
   ]
  },
  {
   "cell_type": "code",
   "execution_count": 27,
   "id": "73731716",
   "metadata": {},
   "outputs": [],
   "source": [
    "# class CandidateModel(tf.keras.Model):\n",
    "#     \"\"\"Model for encoding recipes.\"\"\"\n",
    "    \n",
    "#     def __init__(self, \n",
    "#                  layer_sizes, \n",
    "#                  unique_recipe_ids,\n",
    "#                  recipes_dataset,\n",
    "#                  verbose=False):\n",
    "\n",
    "#         super().__init__()\n",
    "#         if(verbose):\n",
    "#             print(\"Candidate model init\")\n",
    "#         self.embedding_model = RecipeModel(unique_recipe_ids,\n",
    "#                                            recipes_dataset,\n",
    "#                                            verbose)\n",
    "\n",
    "#         # Then construct the layers.\n",
    "#         self.dense_layers = tf.keras.Sequential()\n",
    "\n",
    "#         # Use the ReLU activation for all but the last layer.\n",
    "#         for layer_size in layer_sizes[:-1]:\n",
    "#             self.dense_layers.add(tf.keras.layers.Dense(layer_size, activation=\"relu\"))\n",
    "\n",
    "#         # No activation for the last layer.\n",
    "#         for layer_size in layer_sizes[-1:]:\n",
    "#             self.dense_layers.add(tf.keras.layers.Dense(layer_size))\n",
    "            \n",
    "#         self._verbose = verbose\n",
    "    \n",
    "#     def call(self, inputs):\n",
    "#         if(self._verbose):\n",
    "#             print(\"Candidate model call\")\n",
    "#             print(\"Inputs: \", inputs)\n",
    "#         feature_embedding = self.embedding_model(inputs)\n",
    "#         return self.dense_layers(feature_embedding)"
   ]
  },
  {
   "cell_type": "markdown",
   "id": "66782c19",
   "metadata": {},
   "source": [
    "## Combined model"
   ]
  },
  {
   "cell_type": "code",
   "execution_count": 28,
   "id": "018ced9a",
   "metadata": {},
   "outputs": [],
   "source": [
    "# class CombinedModel(tfrs.models.Model):\n",
    "    \n",
    "#     def __init__(self, layer_sizes, \n",
    "#                  unique_recipe_ids,\n",
    "#                  recipes_dataset,\n",
    "#                  unique_user_ids,\n",
    "#                  timestamp_buckets,\n",
    "#                  verbose=False):\n",
    "#         super().__init__()\n",
    "#         if(verbose):\n",
    "#             print(\"Init combined model\")\n",
    "#         self.query_model = QueryModel(layer_sizes, unique_user_ids, timestamp_buckets)\n",
    "#         self.candidate_model = CandidateModel(layer_sizes, unique_recipe_ids, recipes_dataset)\n",
    "#         self.task = tfrs.tasks.Retrieval(\n",
    "#             metrics=tfrs.metrics.FactorizedTopK(\n",
    "#                 candidates=recipes.batch(1024).map(self.candidate_model),\n",
    "#             ),\n",
    "#         )\n",
    "#         self._verbose = verbose\n",
    "        \n",
    "        \n",
    "#     def compute_loss(self, features, training=False):\n",
    "#         if(self._verbose):\n",
    "#             print(\"Combined model compute loss\")\n",
    "#             print(\"Features: \", features)\n",
    "#         query_embeddings = self.query_model({\n",
    "#             \"AuthorId\": features[\"AuthorId\"],\n",
    "#             \"Timestamp\": features[\"Timestamp\"],\n",
    "#         })\n",
    "        \n",
    "#         recipe_embeddings = self.candidate_model({\n",
    "#             \"RecipeId\": features[\"RecipeId\"],\n",
    "#             \"Ingredients\": features[\"Ingredients\"]\n",
    "#         })\n",
    "        \n",
    "#         return self.task(\n",
    "#             query_embeddings, recipe_embeddings, compute_metrics=not training)"
   ]
  },
  {
   "cell_type": "markdown",
   "id": "31eb17a4",
   "metadata": {},
   "source": [
    "# Fit"
   ]
  },
  {
   "cell_type": "markdown",
   "id": "8d675669",
   "metadata": {},
   "source": [
    "## Split dataset"
   ]
  },
  {
   "cell_type": "code",
   "execution_count": 29,
   "id": "57134118",
   "metadata": {},
   "outputs": [],
   "source": [
    "size = ratings_sample.shape[0]\n",
    "train_size = int(0.7 * size)\n",
    "val_size = int(0.15 * size)\n",
    "test_size = size - train_size - val_size\n",
    "\n",
    "tf.random.set_seed(42)\n",
    "shuffled = merged_dataset.shuffle(size, seed=42, reshuffle_each_iteration=False)\n",
    "\n",
    "train = shuffled.take(train_size)\n",
    "val = shuffled.take(train_size).take(val_size)\n",
    "test = shuffled.take(train_size).take(val_size).take(test_size)\n",
    "\n",
    "cached_train = train.shuffle(250_000).batch(8192).cache()\n",
    "cached_test = test.batch(4096).cache()\n",
    "cached_val = val.batch(4096).cache()"
   ]
  },
  {
   "cell_type": "code",
   "execution_count": 30,
   "id": "7d4836d7",
   "metadata": {},
   "outputs": [
    {
     "data": {
      "text/plain": [
       "<TakeDataset shapes: {AuthorId: (), RecipeId: (), Timestamp: (), Ingredients: ()}, types: {AuthorId: tf.string, RecipeId: tf.string, Timestamp: tf.int64, Ingredients: tf.string}>"
      ]
     },
     "execution_count": 30,
     "metadata": {},
     "output_type": "execute_result"
    }
   ],
   "source": [
    "merged_dataset.take(1)"
   ]
  },
  {
   "cell_type": "markdown",
   "id": "d9562712",
   "metadata": {},
   "source": [
    "## Train"
   ]
  },
  {
   "cell_type": "code",
   "execution_count": 31,
   "id": "863e50d9",
   "metadata": {
    "scrolled": false
   },
   "outputs": [],
   "source": [
    "num_epochs = 300\n",
    "\n",
    "model = tfrs_rich.CombinedModel(layer_sizes=[32], \n",
    "                      unique_recipe_ids=unique_recipe_ids, \n",
    "                      unique_user_ids=unique_user_ids, \n",
    "                      recipes_dataset=recipes,\n",
    "                                verbose=False)\n",
    "model.compile(optimizer=tf.keras.optimizers.Adagrad(0.1))\n"
   ]
  },
  {
   "cell_type": "code",
   "execution_count": 32,
   "id": "67fc9205",
   "metadata": {
    "scrolled": true
   },
   "outputs": [
    {
     "name": "stdout",
     "output_type": "stream",
     "text": [
      "Epoch 1/300\n",
      "27/27 [==============================] - 51s 2s/step - factorized_top_k/top_1_categorical_accuracy: 0.0000e+00 - factorized_top_k/top_5_categorical_accuracy: 0.0000e+00 - factorized_top_k/top_10_categorical_accuracy: 0.0000e+00 - factorized_top_k/top_50_categorical_accuracy: 0.0000e+00 - factorized_top_k/top_100_categorical_accuracy: 0.0000e+00 - loss: 70757.4632 - regularization_loss: 0.0000e+00 - total_loss: 70757.4632\n",
      "Epoch 2/300\n",
      "27/27 [==============================] - 47s 2s/step - factorized_top_k/top_1_categorical_accuracy: 0.0000e+00 - factorized_top_k/top_5_categorical_accuracy: 0.0000e+00 - factorized_top_k/top_10_categorical_accuracy: 0.0000e+00 - factorized_top_k/top_50_categorical_accuracy: 0.0000e+00 - factorized_top_k/top_100_categorical_accuracy: 0.0000e+00 - loss: 69488.1922 - regularization_loss: 0.0000e+00 - total_loss: 69488.1922\n",
      "Epoch 3/300\n",
      "27/27 [==============================] - 46s 2s/step - factorized_top_k/top_1_categorical_accuracy: 0.0000e+00 - factorized_top_k/top_5_categorical_accuracy: 0.0000e+00 - factorized_top_k/top_10_categorical_accuracy: 0.0000e+00 - factorized_top_k/top_50_categorical_accuracy: 0.0000e+00 - factorized_top_k/top_100_categorical_accuracy: 0.0000e+00 - loss: 67685.4674 - regularization_loss: 0.0000e+00 - total_loss: 67685.4674\n",
      "Epoch 4/300\n",
      "27/27 [==============================] - 48s 2s/step - factorized_top_k/top_1_categorical_accuracy: 0.0000e+00 - factorized_top_k/top_5_categorical_accuracy: 0.0000e+00 - factorized_top_k/top_10_categorical_accuracy: 0.0000e+00 - factorized_top_k/top_50_categorical_accuracy: 0.0000e+00 - factorized_top_k/top_100_categorical_accuracy: 0.0000e+00 - loss: 66151.5816 - regularization_loss: 0.0000e+00 - total_loss: 66151.5816\n",
      "Epoch 5/300\n",
      "27/27 [==============================] - 63s 2s/step - factorized_top_k/top_1_categorical_accuracy: 0.0000e+00 - factorized_top_k/top_5_categorical_accuracy: 0.0000e+00 - factorized_top_k/top_10_categorical_accuracy: 0.0000e+00 - factorized_top_k/top_50_categorical_accuracy: 0.0000e+00 - factorized_top_k/top_100_categorical_accuracy: 0.0000e+00 - loss: 64910.2817 - regularization_loss: 0.0000e+00 - total_loss: 64910.2817 - val_factorized_top_k/top_1_categorical_accuracy: 0.0029 - val_factorized_top_k/top_5_categorical_accuracy: 0.0192 - val_factorized_top_k/top_10_categorical_accuracy: 0.0333 - val_factorized_top_k/top_50_categorical_accuracy: 0.0981 - val_factorized_top_k/top_100_categorical_accuracy: 0.1509 - val_loss: 9120.1855 - val_regularization_loss: 0.0000e+00 - val_total_loss: 9120.1855\n",
      "Epoch 6/300\n",
      "27/27 [==============================] - 47s 2s/step - factorized_top_k/top_1_categorical_accuracy: 0.0000e+00 - factorized_top_k/top_5_categorical_accuracy: 0.0000e+00 - factorized_top_k/top_10_categorical_accuracy: 0.0000e+00 - factorized_top_k/top_50_categorical_accuracy: 0.0000e+00 - factorized_top_k/top_100_categorical_accuracy: 0.0000e+00 - loss: 63868.4767 - regularization_loss: 0.0000e+00 - total_loss: 63868.4767\n",
      "Epoch 7/300\n",
      "27/27 [==============================] - 47s 2s/step - factorized_top_k/top_1_categorical_accuracy: 0.0000e+00 - factorized_top_k/top_5_categorical_accuracy: 0.0000e+00 - factorized_top_k/top_10_categorical_accuracy: 0.0000e+00 - factorized_top_k/top_50_categorical_accuracy: 0.0000e+00 - factorized_top_k/top_100_categorical_accuracy: 0.0000e+00 - loss: 62999.8640 - regularization_loss: 0.0000e+00 - total_loss: 62999.8640\n",
      "Epoch 8/300\n",
      "27/27 [==============================] - 48s 2s/step - factorized_top_k/top_1_categorical_accuracy: 0.0000e+00 - factorized_top_k/top_5_categorical_accuracy: 0.0000e+00 - factorized_top_k/top_10_categorical_accuracy: 0.0000e+00 - factorized_top_k/top_50_categorical_accuracy: 0.0000e+00 - factorized_top_k/top_100_categorical_accuracy: 0.0000e+00 - loss: 62282.9759 - regularization_loss: 0.0000e+00 - total_loss: 62282.9759\n",
      "Epoch 9/300\n",
      "27/27 [==============================] - 47s 2s/step - factorized_top_k/top_1_categorical_accuracy: 0.0000e+00 - factorized_top_k/top_5_categorical_accuracy: 0.0000e+00 - factorized_top_k/top_10_categorical_accuracy: 0.0000e+00 - factorized_top_k/top_50_categorical_accuracy: 0.0000e+00 - factorized_top_k/top_100_categorical_accuracy: 0.0000e+00 - loss: 61689.3650 - regularization_loss: 0.0000e+00 - total_loss: 61689.3650\n",
      "Epoch 10/300\n",
      "27/27 [==============================] - 61s 2s/step - factorized_top_k/top_1_categorical_accuracy: 0.0000e+00 - factorized_top_k/top_5_categorical_accuracy: 0.0000e+00 - factorized_top_k/top_10_categorical_accuracy: 0.0000e+00 - factorized_top_k/top_50_categorical_accuracy: 0.0000e+00 - factorized_top_k/top_100_categorical_accuracy: 0.0000e+00 - loss: 61189.2801 - regularization_loss: 0.0000e+00 - total_loss: 61189.2801 - val_factorized_top_k/top_1_categorical_accuracy: 0.0071 - val_factorized_top_k/top_5_categorical_accuracy: 0.0412 - val_factorized_top_k/top_10_categorical_accuracy: 0.0647 - val_factorized_top_k/top_50_categorical_accuracy: 0.1605 - val_factorized_top_k/top_100_categorical_accuracy: 0.2282 - val_loss: 8488.4980 - val_regularization_loss: 0.0000e+00 - val_total_loss: 8488.4980\n",
      "Epoch 11/300\n",
      "27/27 [==============================] - 47s 2s/step - factorized_top_k/top_1_categorical_accuracy: 0.0000e+00 - factorized_top_k/top_5_categorical_accuracy: 0.0000e+00 - factorized_top_k/top_10_categorical_accuracy: 0.0000e+00 - factorized_top_k/top_50_categorical_accuracy: 0.0000e+00 - factorized_top_k/top_100_categorical_accuracy: 0.0000e+00 - loss: 60758.0004 - regularization_loss: 0.0000e+00 - total_loss: 60758.0004\n",
      "Epoch 12/300\n",
      "27/27 [==============================] - 47s 2s/step - factorized_top_k/top_1_categorical_accuracy: 0.0000e+00 - factorized_top_k/top_5_categorical_accuracy: 0.0000e+00 - factorized_top_k/top_10_categorical_accuracy: 0.0000e+00 - factorized_top_k/top_50_categorical_accuracy: 0.0000e+00 - factorized_top_k/top_100_categorical_accuracy: 0.0000e+00 - loss: 60378.6230 - regularization_loss: 0.0000e+00 - total_loss: 60378.6230\n",
      "Epoch 13/300\n",
      "27/27 [==============================] - 47s 2s/step - factorized_top_k/top_1_categorical_accuracy: 0.0000e+00 - factorized_top_k/top_5_categorical_accuracy: 0.0000e+00 - factorized_top_k/top_10_categorical_accuracy: 0.0000e+00 - factorized_top_k/top_50_categorical_accuracy: 0.0000e+00 - factorized_top_k/top_100_categorical_accuracy: 0.0000e+00 - loss: 60039.7977 - regularization_loss: 0.0000e+00 - total_loss: 60039.7977\n",
      "Epoch 14/300\n",
      "27/27 [==============================] - 47s 2s/step - factorized_top_k/top_1_categorical_accuracy: 0.0000e+00 - factorized_top_k/top_5_categorical_accuracy: 0.0000e+00 - factorized_top_k/top_10_categorical_accuracy: 0.0000e+00 - factorized_top_k/top_50_categorical_accuracy: 0.0000e+00 - factorized_top_k/top_100_categorical_accuracy: 0.0000e+00 - loss: 59734.8086 - regularization_loss: 0.0000e+00 - total_loss: 59734.8086\n",
      "Epoch 15/300\n",
      "27/27 [==============================] - 61s 2s/step - factorized_top_k/top_1_categorical_accuracy: 0.0000e+00 - factorized_top_k/top_5_categorical_accuracy: 0.0000e+00 - factorized_top_k/top_10_categorical_accuracy: 0.0000e+00 - factorized_top_k/top_50_categorical_accuracy: 0.0000e+00 - factorized_top_k/top_100_categorical_accuracy: 0.0000e+00 - loss: 59458.5925 - regularization_loss: 0.0000e+00 - total_loss: 59458.5925 - val_factorized_top_k/top_1_categorical_accuracy: 0.0088 - val_factorized_top_k/top_5_categorical_accuracy: 0.0536 - val_factorized_top_k/top_10_categorical_accuracy: 0.0831 - val_factorized_top_k/top_50_categorical_accuracy: 0.1936 - val_factorized_top_k/top_100_categorical_accuracy: 0.2695 - val_loss: 8208.3252 - val_regularization_loss: 0.0000e+00 - val_total_loss: 8208.3252\n",
      "Epoch 16/300\n",
      "27/27 [==============================] - 54s 2s/step - factorized_top_k/top_1_categorical_accuracy: 0.0000e+00 - factorized_top_k/top_5_categorical_accuracy: 0.0000e+00 - factorized_top_k/top_10_categorical_accuracy: 0.0000e+00 - factorized_top_k/top_50_categorical_accuracy: 0.0000e+00 - factorized_top_k/top_100_categorical_accuracy: 0.0000e+00 - loss: 59205.6694 - regularization_loss: 0.0000e+00 - total_loss: 59205.6694\n",
      "Epoch 17/300\n"
     ]
    },
    {
     "name": "stdout",
     "output_type": "stream",
     "text": [
      "27/27 [==============================] - 48s 2s/step - factorized_top_k/top_1_categorical_accuracy: 0.0000e+00 - factorized_top_k/top_5_categorical_accuracy: 0.0000e+00 - factorized_top_k/top_10_categorical_accuracy: 0.0000e+00 - factorized_top_k/top_50_categorical_accuracy: 0.0000e+00 - factorized_top_k/top_100_categorical_accuracy: 0.0000e+00 - loss: 58970.1440 - regularization_loss: 0.0000e+00 - total_loss: 58970.1440\n",
      "Epoch 18/300\n",
      "27/27 [==============================] - 47s 2s/step - factorized_top_k/top_1_categorical_accuracy: 0.0000e+00 - factorized_top_k/top_5_categorical_accuracy: 0.0000e+00 - factorized_top_k/top_10_categorical_accuracy: 0.0000e+00 - factorized_top_k/top_50_categorical_accuracy: 0.0000e+00 - factorized_top_k/top_100_categorical_accuracy: 0.0000e+00 - loss: 58745.6324 - regularization_loss: 0.0000e+00 - total_loss: 58745.6324\n",
      "Epoch 19/300\n",
      "27/27 [==============================] - 47s 2s/step - factorized_top_k/top_1_categorical_accuracy: 0.0000e+00 - factorized_top_k/top_5_categorical_accuracy: 0.0000e+00 - factorized_top_k/top_10_categorical_accuracy: 0.0000e+00 - factorized_top_k/top_50_categorical_accuracy: 0.0000e+00 - factorized_top_k/top_100_categorical_accuracy: 0.0000e+00 - loss: 58527.9538 - regularization_loss: 0.0000e+00 - total_loss: 58527.9538\n",
      "Epoch 20/300\n",
      "27/27 [==============================] - 60s 2s/step - factorized_top_k/top_1_categorical_accuracy: 0.0000e+00 - factorized_top_k/top_5_categorical_accuracy: 0.0000e+00 - factorized_top_k/top_10_categorical_accuracy: 0.0000e+00 - factorized_top_k/top_50_categorical_accuracy: 0.0000e+00 - factorized_top_k/top_100_categorical_accuracy: 0.0000e+00 - loss: 58316.5126 - regularization_loss: 0.0000e+00 - total_loss: 58316.5126 - val_factorized_top_k/top_1_categorical_accuracy: 0.0102 - val_factorized_top_k/top_5_categorical_accuracy: 0.0630 - val_factorized_top_k/top_10_categorical_accuracy: 0.0978 - val_factorized_top_k/top_50_categorical_accuracy: 0.2181 - val_factorized_top_k/top_100_categorical_accuracy: 0.2965 - val_loss: 8025.7871 - val_regularization_loss: 0.0000e+00 - val_total_loss: 8025.7871\n",
      "Epoch 21/300\n",
      "27/27 [==============================] - 46s 2s/step - factorized_top_k/top_1_categorical_accuracy: 0.0000e+00 - factorized_top_k/top_5_categorical_accuracy: 0.0000e+00 - factorized_top_k/top_10_categorical_accuracy: 0.0000e+00 - factorized_top_k/top_50_categorical_accuracy: 0.0000e+00 - factorized_top_k/top_100_categorical_accuracy: 0.0000e+00 - loss: 58113.8062 - regularization_loss: 0.0000e+00 - total_loss: 58113.8062\n",
      "Epoch 22/300\n",
      "27/27 [==============================] - 47s 2s/step - factorized_top_k/top_1_categorical_accuracy: 0.0000e+00 - factorized_top_k/top_5_categorical_accuracy: 0.0000e+00 - factorized_top_k/top_10_categorical_accuracy: 0.0000e+00 - factorized_top_k/top_50_categorical_accuracy: 0.0000e+00 - factorized_top_k/top_100_categorical_accuracy: 0.0000e+00 - loss: 57922.3417 - regularization_loss: 0.0000e+00 - total_loss: 57922.3417\n",
      "Epoch 23/300\n",
      "27/27 [==============================] - 48s 2s/step - factorized_top_k/top_1_categorical_accuracy: 0.0000e+00 - factorized_top_k/top_5_categorical_accuracy: 0.0000e+00 - factorized_top_k/top_10_categorical_accuracy: 0.0000e+00 - factorized_top_k/top_50_categorical_accuracy: 0.0000e+00 - factorized_top_k/top_100_categorical_accuracy: 0.0000e+00 - loss: 57743.2808 - regularization_loss: 0.0000e+00 - total_loss: 57743.2808\n",
      "Epoch 24/300\n",
      "27/27 [==============================] - 47s 2s/step - factorized_top_k/top_1_categorical_accuracy: 0.0000e+00 - factorized_top_k/top_5_categorical_accuracy: 0.0000e+00 - factorized_top_k/top_10_categorical_accuracy: 0.0000e+00 - factorized_top_k/top_50_categorical_accuracy: 0.0000e+00 - factorized_top_k/top_100_categorical_accuracy: 0.0000e+00 - loss: 57576.3719 - regularization_loss: 0.0000e+00 - total_loss: 57576.3719\n",
      "Epoch 25/300\n",
      "27/27 [==============================] - 61s 2s/step - factorized_top_k/top_1_categorical_accuracy: 0.0000e+00 - factorized_top_k/top_5_categorical_accuracy: 0.0000e+00 - factorized_top_k/top_10_categorical_accuracy: 0.0000e+00 - factorized_top_k/top_50_categorical_accuracy: 0.0000e+00 - factorized_top_k/top_100_categorical_accuracy: 0.0000e+00 - loss: 57421.0089 - regularization_loss: 0.0000e+00 - total_loss: 57421.0089 - val_factorized_top_k/top_1_categorical_accuracy: 0.0108 - val_factorized_top_k/top_5_categorical_accuracy: 0.0703 - val_factorized_top_k/top_10_categorical_accuracy: 0.1104 - val_factorized_top_k/top_50_categorical_accuracy: 0.2379 - val_factorized_top_k/top_100_categorical_accuracy: 0.3180 - val_loss: 7877.7715 - val_regularization_loss: 0.0000e+00 - val_total_loss: 7877.7715\n",
      "Epoch 26/300\n",
      "27/27 [==============================] - 48s 2s/step - factorized_top_k/top_1_categorical_accuracy: 0.0000e+00 - factorized_top_k/top_5_categorical_accuracy: 0.0000e+00 - factorized_top_k/top_10_categorical_accuracy: 0.0000e+00 - factorized_top_k/top_50_categorical_accuracy: 0.0000e+00 - factorized_top_k/top_100_categorical_accuracy: 0.0000e+00 - loss: 57276.2779 - regularization_loss: 0.0000e+00 - total_loss: 57276.2779\n",
      "Epoch 27/300\n",
      "27/27 [==============================] - 46s 2s/step - factorized_top_k/top_1_categorical_accuracy: 0.0000e+00 - factorized_top_k/top_5_categorical_accuracy: 0.0000e+00 - factorized_top_k/top_10_categorical_accuracy: 0.0000e+00 - factorized_top_k/top_50_categorical_accuracy: 0.0000e+00 - factorized_top_k/top_100_categorical_accuracy: 0.0000e+00 - loss: 57141.1853 - regularization_loss: 0.0000e+00 - total_loss: 57141.1853\n",
      "Epoch 28/300\n",
      "27/27 [==============================] - 47s 2s/step - factorized_top_k/top_1_categorical_accuracy: 0.0000e+00 - factorized_top_k/top_5_categorical_accuracy: 0.0000e+00 - factorized_top_k/top_10_categorical_accuracy: 0.0000e+00 - factorized_top_k/top_50_categorical_accuracy: 0.0000e+00 - factorized_top_k/top_100_categorical_accuracy: 0.0000e+00 - loss: 57014.7241 - regularization_loss: 0.0000e+00 - total_loss: 57014.7241\n",
      "Epoch 29/300\n",
      "27/27 [==============================] - 47s 2s/step - factorized_top_k/top_1_categorical_accuracy: 0.0000e+00 - factorized_top_k/top_5_categorical_accuracy: 0.0000e+00 - factorized_top_k/top_10_categorical_accuracy: 0.0000e+00 - factorized_top_k/top_50_categorical_accuracy: 0.0000e+00 - factorized_top_k/top_100_categorical_accuracy: 0.0000e+00 - loss: 56895.3725 - regularization_loss: 0.0000e+00 - total_loss: 56895.3725\n",
      "Epoch 30/300\n",
      "27/27 [==============================] - 60s 2s/step - factorized_top_k/top_1_categorical_accuracy: 0.0000e+00 - factorized_top_k/top_5_categorical_accuracy: 0.0000e+00 - factorized_top_k/top_10_categorical_accuracy: 0.0000e+00 - factorized_top_k/top_50_categorical_accuracy: 0.0000e+00 - factorized_top_k/top_100_categorical_accuracy: 0.0000e+00 - loss: 56782.4612 - regularization_loss: 0.0000e+00 - total_loss: 56782.4612 - val_factorized_top_k/top_1_categorical_accuracy: 0.0109 - val_factorized_top_k/top_5_categorical_accuracy: 0.0743 - val_factorized_top_k/top_10_categorical_accuracy: 0.1186 - val_factorized_top_k/top_50_categorical_accuracy: 0.2517 - val_factorized_top_k/top_100_categorical_accuracy: 0.3315 - val_loss: 7782.7178 - val_regularization_loss: 0.0000e+00 - val_total_loss: 7782.7178\n",
      "Epoch 31/300\n",
      "27/27 [==============================] - 47s 2s/step - factorized_top_k/top_1_categorical_accuracy: 0.0000e+00 - factorized_top_k/top_5_categorical_accuracy: 0.0000e+00 - factorized_top_k/top_10_categorical_accuracy: 0.0000e+00 - factorized_top_k/top_50_categorical_accuracy: 0.0000e+00 - factorized_top_k/top_100_categorical_accuracy: 0.0000e+00 - loss: 56674.7810 - regularization_loss: 0.0000e+00 - total_loss: 56674.7810\n",
      "Epoch 32/300\n",
      "27/27 [==============================] - 47s 2s/step - factorized_top_k/top_1_categorical_accuracy: 0.0000e+00 - factorized_top_k/top_5_categorical_accuracy: 0.0000e+00 - factorized_top_k/top_10_categorical_accuracy: 0.0000e+00 - factorized_top_k/top_50_categorical_accuracy: 0.0000e+00 - factorized_top_k/top_100_categorical_accuracy: 0.0000e+00 - loss: 56572.0091 - regularization_loss: 0.0000e+00 - total_loss: 56572.0091\n",
      "Epoch 33/300\n"
     ]
    },
    {
     "name": "stdout",
     "output_type": "stream",
     "text": [
      "27/27 [==============================] - 47s 2s/step - factorized_top_k/top_1_categorical_accuracy: 0.0000e+00 - factorized_top_k/top_5_categorical_accuracy: 0.0000e+00 - factorized_top_k/top_10_categorical_accuracy: 0.0000e+00 - factorized_top_k/top_50_categorical_accuracy: 0.0000e+00 - factorized_top_k/top_100_categorical_accuracy: 0.0000e+00 - loss: 56473.3422 - regularization_loss: 0.0000e+00 - total_loss: 56473.3422\n",
      "Epoch 34/300\n",
      "27/27 [==============================] - 46s 2s/step - factorized_top_k/top_1_categorical_accuracy: 0.0000e+00 - factorized_top_k/top_5_categorical_accuracy: 0.0000e+00 - factorized_top_k/top_10_categorical_accuracy: 0.0000e+00 - factorized_top_k/top_50_categorical_accuracy: 0.0000e+00 - factorized_top_k/top_100_categorical_accuracy: 0.0000e+00 - loss: 56378.6074 - regularization_loss: 0.0000e+00 - total_loss: 56378.6074\n",
      "Epoch 35/300\n",
      "27/27 [==============================] - 59s 2s/step - factorized_top_k/top_1_categorical_accuracy: 0.0000e+00 - factorized_top_k/top_5_categorical_accuracy: 0.0000e+00 - factorized_top_k/top_10_categorical_accuracy: 0.0000e+00 - factorized_top_k/top_50_categorical_accuracy: 0.0000e+00 - factorized_top_k/top_100_categorical_accuracy: 0.0000e+00 - loss: 56287.1268 - regularization_loss: 0.0000e+00 - total_loss: 56287.1268 - val_factorized_top_k/top_1_categorical_accuracy: 0.0117 - val_factorized_top_k/top_5_categorical_accuracy: 0.0797 - val_factorized_top_k/top_10_categorical_accuracy: 0.1254 - val_factorized_top_k/top_50_categorical_accuracy: 0.2618 - val_factorized_top_k/top_100_categorical_accuracy: 0.3420 - val_loss: 7710.1782 - val_regularization_loss: 0.0000e+00 - val_total_loss: 7710.1782\n",
      "Epoch 36/300\n",
      "27/27 [==============================] - 48s 2s/step - factorized_top_k/top_1_categorical_accuracy: 0.0000e+00 - factorized_top_k/top_5_categorical_accuracy: 0.0000e+00 - factorized_top_k/top_10_categorical_accuracy: 0.0000e+00 - factorized_top_k/top_50_categorical_accuracy: 0.0000e+00 - factorized_top_k/top_100_categorical_accuracy: 0.0000e+00 - loss: 56198.6908 - regularization_loss: 0.0000e+00 - total_loss: 56198.6908\n",
      "Epoch 37/300\n",
      "27/27 [==============================] - 46s 2s/step - factorized_top_k/top_1_categorical_accuracy: 0.0000e+00 - factorized_top_k/top_5_categorical_accuracy: 0.0000e+00 - factorized_top_k/top_10_categorical_accuracy: 0.0000e+00 - factorized_top_k/top_50_categorical_accuracy: 0.0000e+00 - factorized_top_k/top_100_categorical_accuracy: 0.0000e+00 - loss: 56112.8825 - regularization_loss: 0.0000e+00 - total_loss: 56112.8825\n",
      "Epoch 38/300\n",
      "27/27 [==============================] - 46s 2s/step - factorized_top_k/top_1_categorical_accuracy: 0.0000e+00 - factorized_top_k/top_5_categorical_accuracy: 0.0000e+00 - factorized_top_k/top_10_categorical_accuracy: 0.0000e+00 - factorized_top_k/top_50_categorical_accuracy: 0.0000e+00 - factorized_top_k/top_100_categorical_accuracy: 0.0000e+00 - loss: 56029.6014 - regularization_loss: 0.0000e+00 - total_loss: 56029.6014\n",
      "Epoch 39/300\n",
      "27/27 [==============================] - 46s 2s/step - factorized_top_k/top_1_categorical_accuracy: 0.0000e+00 - factorized_top_k/top_5_categorical_accuracy: 0.0000e+00 - factorized_top_k/top_10_categorical_accuracy: 0.0000e+00 - factorized_top_k/top_50_categorical_accuracy: 0.0000e+00 - factorized_top_k/top_100_categorical_accuracy: 0.0000e+00 - loss: 55948.5007 - regularization_loss: 0.0000e+00 - total_loss: 55948.5007\n",
      "Epoch 40/300\n",
      "27/27 [==============================] - 60s 2s/step - factorized_top_k/top_1_categorical_accuracy: 0.0000e+00 - factorized_top_k/top_5_categorical_accuracy: 0.0000e+00 - factorized_top_k/top_10_categorical_accuracy: 0.0000e+00 - factorized_top_k/top_50_categorical_accuracy: 0.0000e+00 - factorized_top_k/top_100_categorical_accuracy: 0.0000e+00 - loss: 55869.5572 - regularization_loss: 0.0000e+00 - total_loss: 55869.5572 - val_factorized_top_k/top_1_categorical_accuracy: 0.0123 - val_factorized_top_k/top_5_categorical_accuracy: 0.0837 - val_factorized_top_k/top_10_categorical_accuracy: 0.1331 - val_factorized_top_k/top_50_categorical_accuracy: 0.2703 - val_factorized_top_k/top_100_categorical_accuracy: 0.3512 - val_loss: 7646.1997 - val_regularization_loss: 0.0000e+00 - val_total_loss: 7646.1997\n",
      "Epoch 41/300\n",
      "27/27 [==============================] - 47s 2s/step - factorized_top_k/top_1_categorical_accuracy: 0.0000e+00 - factorized_top_k/top_5_categorical_accuracy: 0.0000e+00 - factorized_top_k/top_10_categorical_accuracy: 0.0000e+00 - factorized_top_k/top_50_categorical_accuracy: 0.0000e+00 - factorized_top_k/top_100_categorical_accuracy: 0.0000e+00 - loss: 55792.4473 - regularization_loss: 0.0000e+00 - total_loss: 55792.4473\n",
      "Epoch 42/300\n",
      "27/27 [==============================] - 47s 2s/step - factorized_top_k/top_1_categorical_accuracy: 0.0000e+00 - factorized_top_k/top_5_categorical_accuracy: 0.0000e+00 - factorized_top_k/top_10_categorical_accuracy: 0.0000e+00 - factorized_top_k/top_50_categorical_accuracy: 0.0000e+00 - factorized_top_k/top_100_categorical_accuracy: 0.0000e+00 - loss: 55717.1391 - regularization_loss: 0.0000e+00 - total_loss: 55717.1391\n",
      "Epoch 43/300\n",
      "27/27 [==============================] - 47s 2s/step - factorized_top_k/top_1_categorical_accuracy: 0.0000e+00 - factorized_top_k/top_5_categorical_accuracy: 0.0000e+00 - factorized_top_k/top_10_categorical_accuracy: 0.0000e+00 - factorized_top_k/top_50_categorical_accuracy: 0.0000e+00 - factorized_top_k/top_100_categorical_accuracy: 0.0000e+00 - loss: 55643.3838 - regularization_loss: 0.0000e+00 - total_loss: 55643.3838\n",
      "Epoch 44/300\n",
      "27/27 [==============================] - 47s 2s/step - factorized_top_k/top_1_categorical_accuracy: 0.0000e+00 - factorized_top_k/top_5_categorical_accuracy: 0.0000e+00 - factorized_top_k/top_10_categorical_accuracy: 0.0000e+00 - factorized_top_k/top_50_categorical_accuracy: 0.0000e+00 - factorized_top_k/top_100_categorical_accuracy: 0.0000e+00 - loss: 55571.1046 - regularization_loss: 0.0000e+00 - total_loss: 55571.1046\n",
      "Epoch 45/300\n",
      "27/27 [==============================] - 60s 2s/step - factorized_top_k/top_1_categorical_accuracy: 0.0000e+00 - factorized_top_k/top_5_categorical_accuracy: 0.0000e+00 - factorized_top_k/top_10_categorical_accuracy: 0.0000e+00 - factorized_top_k/top_50_categorical_accuracy: 0.0000e+00 - factorized_top_k/top_100_categorical_accuracy: 0.0000e+00 - loss: 55500.1003 - regularization_loss: 0.0000e+00 - total_loss: 55500.1003 - val_factorized_top_k/top_1_categorical_accuracy: 0.0125 - val_factorized_top_k/top_5_categorical_accuracy: 0.0866 - val_factorized_top_k/top_10_categorical_accuracy: 0.1380 - val_factorized_top_k/top_50_categorical_accuracy: 0.2788 - val_factorized_top_k/top_100_categorical_accuracy: 0.3585 - val_loss: 7591.4824 - val_regularization_loss: 0.0000e+00 - val_total_loss: 7591.4824\n",
      "Epoch 46/300\n",
      "27/27 [==============================] - 47s 2s/step - factorized_top_k/top_1_categorical_accuracy: 0.0000e+00 - factorized_top_k/top_5_categorical_accuracy: 0.0000e+00 - factorized_top_k/top_10_categorical_accuracy: 0.0000e+00 - factorized_top_k/top_50_categorical_accuracy: 0.0000e+00 - factorized_top_k/top_100_categorical_accuracy: 0.0000e+00 - loss: 55430.2780 - regularization_loss: 0.0000e+00 - total_loss: 55430.2780\n",
      "Epoch 47/300\n",
      "27/27 [==============================] - 46s 2s/step - factorized_top_k/top_1_categorical_accuracy: 0.0000e+00 - factorized_top_k/top_5_categorical_accuracy: 0.0000e+00 - factorized_top_k/top_10_categorical_accuracy: 0.0000e+00 - factorized_top_k/top_50_categorical_accuracy: 0.0000e+00 - factorized_top_k/top_100_categorical_accuracy: 0.0000e+00 - loss: 55361.5300 - regularization_loss: 0.0000e+00 - total_loss: 55361.5300\n",
      "Epoch 48/300\n",
      "27/27 [==============================] - 47s 2s/step - factorized_top_k/top_1_categorical_accuracy: 0.0000e+00 - factorized_top_k/top_5_categorical_accuracy: 0.0000e+00 - factorized_top_k/top_10_categorical_accuracy: 0.0000e+00 - factorized_top_k/top_50_categorical_accuracy: 0.0000e+00 - factorized_top_k/top_100_categorical_accuracy: 0.0000e+00 - loss: 55293.7966 - regularization_loss: 0.0000e+00 - total_loss: 55293.7966\n",
      "Epoch 49/300\n"
     ]
    },
    {
     "name": "stdout",
     "output_type": "stream",
     "text": [
      "27/27 [==============================] - 47s 2s/step - factorized_top_k/top_1_categorical_accuracy: 0.0000e+00 - factorized_top_k/top_5_categorical_accuracy: 0.0000e+00 - factorized_top_k/top_10_categorical_accuracy: 0.0000e+00 - factorized_top_k/top_50_categorical_accuracy: 0.0000e+00 - factorized_top_k/top_100_categorical_accuracy: 0.0000e+00 - loss: 55227.0975 - regularization_loss: 0.0000e+00 - total_loss: 55227.0975\n",
      "Epoch 50/300\n",
      "27/27 [==============================] - 59s 2s/step - factorized_top_k/top_1_categorical_accuracy: 0.0000e+00 - factorized_top_k/top_5_categorical_accuracy: 0.0000e+00 - factorized_top_k/top_10_categorical_accuracy: 0.0000e+00 - factorized_top_k/top_50_categorical_accuracy: 0.0000e+00 - factorized_top_k/top_100_categorical_accuracy: 0.0000e+00 - loss: 55161.4291 - regularization_loss: 0.0000e+00 - total_loss: 55161.4291 - val_factorized_top_k/top_1_categorical_accuracy: 0.0128 - val_factorized_top_k/top_5_categorical_accuracy: 0.0899 - val_factorized_top_k/top_10_categorical_accuracy: 0.1428 - val_factorized_top_k/top_50_categorical_accuracy: 0.2863 - val_factorized_top_k/top_100_categorical_accuracy: 0.3662 - val_loss: 7541.3198 - val_regularization_loss: 0.0000e+00 - val_total_loss: 7541.3198\n",
      "Epoch 51/300\n",
      "27/27 [==============================] - 46s 2s/step - factorized_top_k/top_1_categorical_accuracy: 0.0000e+00 - factorized_top_k/top_5_categorical_accuracy: 0.0000e+00 - factorized_top_k/top_10_categorical_accuracy: 0.0000e+00 - factorized_top_k/top_50_categorical_accuracy: 0.0000e+00 - factorized_top_k/top_100_categorical_accuracy: 0.0000e+00 - loss: 55096.8530 - regularization_loss: 0.0000e+00 - total_loss: 55096.8530\n",
      "Epoch 52/300\n",
      "27/27 [==============================] - 47s 2s/step - factorized_top_k/top_1_categorical_accuracy: 0.0000e+00 - factorized_top_k/top_5_categorical_accuracy: 0.0000e+00 - factorized_top_k/top_10_categorical_accuracy: 0.0000e+00 - factorized_top_k/top_50_categorical_accuracy: 0.0000e+00 - factorized_top_k/top_100_categorical_accuracy: 0.0000e+00 - loss: 55033.4293 - regularization_loss: 0.0000e+00 - total_loss: 55033.4293\n",
      "Epoch 53/300\n",
      "27/27 [==============================] - 46s 2s/step - factorized_top_k/top_1_categorical_accuracy: 0.0000e+00 - factorized_top_k/top_5_categorical_accuracy: 0.0000e+00 - factorized_top_k/top_10_categorical_accuracy: 0.0000e+00 - factorized_top_k/top_50_categorical_accuracy: 0.0000e+00 - factorized_top_k/top_100_categorical_accuracy: 0.0000e+00 - loss: 54971.1558 - regularization_loss: 0.0000e+00 - total_loss: 54971.1558\n",
      "Epoch 54/300\n",
      "27/27 [==============================] - 47s 2s/step - factorized_top_k/top_1_categorical_accuracy: 0.0000e+00 - factorized_top_k/top_5_categorical_accuracy: 0.0000e+00 - factorized_top_k/top_10_categorical_accuracy: 0.0000e+00 - factorized_top_k/top_50_categorical_accuracy: 0.0000e+00 - factorized_top_k/top_100_categorical_accuracy: 0.0000e+00 - loss: 54910.1242 - regularization_loss: 0.0000e+00 - total_loss: 54910.1242\n",
      "Epoch 55/300\n",
      "27/27 [==============================] - 59s 2s/step - factorized_top_k/top_1_categorical_accuracy: 0.0000e+00 - factorized_top_k/top_5_categorical_accuracy: 0.0000e+00 - factorized_top_k/top_10_categorical_accuracy: 0.0000e+00 - factorized_top_k/top_50_categorical_accuracy: 0.0000e+00 - factorized_top_k/top_100_categorical_accuracy: 0.0000e+00 - loss: 54850.2405 - regularization_loss: 0.0000e+00 - total_loss: 54850.2405 - val_factorized_top_k/top_1_categorical_accuracy: 0.0131 - val_factorized_top_k/top_5_categorical_accuracy: 0.0926 - val_factorized_top_k/top_10_categorical_accuracy: 0.1474 - val_factorized_top_k/top_50_categorical_accuracy: 0.2937 - val_factorized_top_k/top_100_categorical_accuracy: 0.3747 - val_loss: 7491.7793 - val_regularization_loss: 0.0000e+00 - val_total_loss: 7491.7793\n",
      "Epoch 56/300\n",
      "27/27 [==============================] - 47s 2s/step - factorized_top_k/top_1_categorical_accuracy: 0.0000e+00 - factorized_top_k/top_5_categorical_accuracy: 0.0000e+00 - factorized_top_k/top_10_categorical_accuracy: 0.0000e+00 - factorized_top_k/top_50_categorical_accuracy: 0.0000e+00 - factorized_top_k/top_100_categorical_accuracy: 0.0000e+00 - loss: 54791.5755 - regularization_loss: 0.0000e+00 - total_loss: 54791.5755\n",
      "Epoch 57/300\n",
      "27/27 [==============================] - 46s 2s/step - factorized_top_k/top_1_categorical_accuracy: 0.0000e+00 - factorized_top_k/top_5_categorical_accuracy: 0.0000e+00 - factorized_top_k/top_10_categorical_accuracy: 0.0000e+00 - factorized_top_k/top_50_categorical_accuracy: 0.0000e+00 - factorized_top_k/top_100_categorical_accuracy: 0.0000e+00 - loss: 54733.9923 - regularization_loss: 0.0000e+00 - total_loss: 54733.9923\n",
      "Epoch 58/300\n",
      "27/27 [==============================] - 46s 2s/step - factorized_top_k/top_1_categorical_accuracy: 0.0000e+00 - factorized_top_k/top_5_categorical_accuracy: 0.0000e+00 - factorized_top_k/top_10_categorical_accuracy: 0.0000e+00 - factorized_top_k/top_50_categorical_accuracy: 0.0000e+00 - factorized_top_k/top_100_categorical_accuracy: 0.0000e+00 - loss: 54677.5639 - regularization_loss: 0.0000e+00 - total_loss: 54677.5639\n",
      "Epoch 59/300\n",
      "27/27 [==============================] - 47s 2s/step - factorized_top_k/top_1_categorical_accuracy: 0.0000e+00 - factorized_top_k/top_5_categorical_accuracy: 0.0000e+00 - factorized_top_k/top_10_categorical_accuracy: 0.0000e+00 - factorized_top_k/top_50_categorical_accuracy: 0.0000e+00 - factorized_top_k/top_100_categorical_accuracy: 0.0000e+00 - loss: 54622.1846 - regularization_loss: 0.0000e+00 - total_loss: 54622.1846\n",
      "Epoch 60/300\n",
      "27/27 [==============================] - 59s 2s/step - factorized_top_k/top_1_categorical_accuracy: 0.0000e+00 - factorized_top_k/top_5_categorical_accuracy: 0.0000e+00 - factorized_top_k/top_10_categorical_accuracy: 0.0000e+00 - factorized_top_k/top_50_categorical_accuracy: 0.0000e+00 - factorized_top_k/top_100_categorical_accuracy: 0.0000e+00 - loss: 54567.9388 - regularization_loss: 0.0000e+00 - total_loss: 54567.9388 - val_factorized_top_k/top_1_categorical_accuracy: 0.0131 - val_factorized_top_k/top_5_categorical_accuracy: 0.0958 - val_factorized_top_k/top_10_categorical_accuracy: 0.1520 - val_factorized_top_k/top_50_categorical_accuracy: 0.2997 - val_factorized_top_k/top_100_categorical_accuracy: 0.3815 - val_loss: 7445.1699 - val_regularization_loss: 0.0000e+00 - val_total_loss: 7445.1699\n",
      "Epoch 61/300\n",
      "27/27 [==============================] - 47s 2s/step - factorized_top_k/top_1_categorical_accuracy: 0.0000e+00 - factorized_top_k/top_5_categorical_accuracy: 0.0000e+00 - factorized_top_k/top_10_categorical_accuracy: 0.0000e+00 - factorized_top_k/top_50_categorical_accuracy: 0.0000e+00 - factorized_top_k/top_100_categorical_accuracy: 0.0000e+00 - loss: 54514.7928 - regularization_loss: 0.0000e+00 - total_loss: 54514.7928\n",
      "Epoch 62/300\n",
      "27/27 [==============================] - 49s 2s/step - factorized_top_k/top_1_categorical_accuracy: 0.0000e+00 - factorized_top_k/top_5_categorical_accuracy: 0.0000e+00 - factorized_top_k/top_10_categorical_accuracy: 0.0000e+00 - factorized_top_k/top_50_categorical_accuracy: 0.0000e+00 - factorized_top_k/top_100_categorical_accuracy: 0.0000e+00 - loss: 54462.8058 - regularization_loss: 0.0000e+00 - total_loss: 54462.8058\n",
      "Epoch 63/300\n",
      "27/27 [==============================] - 46s 2s/step - factorized_top_k/top_1_categorical_accuracy: 0.0000e+00 - factorized_top_k/top_5_categorical_accuracy: 0.0000e+00 - factorized_top_k/top_10_categorical_accuracy: 0.0000e+00 - factorized_top_k/top_50_categorical_accuracy: 0.0000e+00 - factorized_top_k/top_100_categorical_accuracy: 0.0000e+00 - loss: 54411.9975 - regularization_loss: 0.0000e+00 - total_loss: 54411.9975\n",
      "Epoch 64/300\n",
      "27/27 [==============================] - 46s 2s/step - factorized_top_k/top_1_categorical_accuracy: 0.0000e+00 - factorized_top_k/top_5_categorical_accuracy: 0.0000e+00 - factorized_top_k/top_10_categorical_accuracy: 0.0000e+00 - factorized_top_k/top_50_categorical_accuracy: 0.0000e+00 - factorized_top_k/top_100_categorical_accuracy: 0.0000e+00 - loss: 54362.3937 - regularization_loss: 0.0000e+00 - total_loss: 54362.3937\n",
      "Epoch 65/300\n"
     ]
    },
    {
     "name": "stdout",
     "output_type": "stream",
     "text": [
      "27/27 [==============================] - 59s 2s/step - factorized_top_k/top_1_categorical_accuracy: 0.0000e+00 - factorized_top_k/top_5_categorical_accuracy: 0.0000e+00 - factorized_top_k/top_10_categorical_accuracy: 0.0000e+00 - factorized_top_k/top_50_categorical_accuracy: 0.0000e+00 - factorized_top_k/top_100_categorical_accuracy: 0.0000e+00 - loss: 54314.0127 - regularization_loss: 0.0000e+00 - total_loss: 54314.0127 - val_factorized_top_k/top_1_categorical_accuracy: 0.0130 - val_factorized_top_k/top_5_categorical_accuracy: 0.0975 - val_factorized_top_k/top_10_categorical_accuracy: 0.1558 - val_factorized_top_k/top_50_categorical_accuracy: 0.3063 - val_factorized_top_k/top_100_categorical_accuracy: 0.3887 - val_loss: 7402.0762 - val_regularization_loss: 0.0000e+00 - val_total_loss: 7402.0762\n",
      "Epoch 66/300\n",
      "27/27 [==============================] - 46s 2s/step - factorized_top_k/top_1_categorical_accuracy: 0.0000e+00 - factorized_top_k/top_5_categorical_accuracy: 0.0000e+00 - factorized_top_k/top_10_categorical_accuracy: 0.0000e+00 - factorized_top_k/top_50_categorical_accuracy: 0.0000e+00 - factorized_top_k/top_100_categorical_accuracy: 0.0000e+00 - loss: 54266.8221 - regularization_loss: 0.0000e+00 - total_loss: 54266.8221\n",
      "Epoch 67/300\n",
      "27/27 [==============================] - 47s 2s/step - factorized_top_k/top_1_categorical_accuracy: 0.0000e+00 - factorized_top_k/top_5_categorical_accuracy: 0.0000e+00 - factorized_top_k/top_10_categorical_accuracy: 0.0000e+00 - factorized_top_k/top_50_categorical_accuracy: 0.0000e+00 - factorized_top_k/top_100_categorical_accuracy: 0.0000e+00 - loss: 54220.8358 - regularization_loss: 0.0000e+00 - total_loss: 54220.8358\n",
      "Epoch 68/300\n",
      "27/27 [==============================] - 47s 2s/step - factorized_top_k/top_1_categorical_accuracy: 0.0000e+00 - factorized_top_k/top_5_categorical_accuracy: 0.0000e+00 - factorized_top_k/top_10_categorical_accuracy: 0.0000e+00 - factorized_top_k/top_50_categorical_accuracy: 0.0000e+00 - factorized_top_k/top_100_categorical_accuracy: 0.0000e+00 - loss: 54175.9431 - regularization_loss: 0.0000e+00 - total_loss: 54175.9431\n",
      "Epoch 69/300\n",
      "27/27 [==============================] - 46s 2s/step - factorized_top_k/top_1_categorical_accuracy: 0.0000e+00 - factorized_top_k/top_5_categorical_accuracy: 0.0000e+00 - factorized_top_k/top_10_categorical_accuracy: 0.0000e+00 - factorized_top_k/top_50_categorical_accuracy: 0.0000e+00 - factorized_top_k/top_100_categorical_accuracy: 0.0000e+00 - loss: 54132.1927 - regularization_loss: 0.0000e+00 - total_loss: 54132.1927\n",
      "Epoch 70/300\n",
      "27/27 [==============================] - 59s 2s/step - factorized_top_k/top_1_categorical_accuracy: 0.0000e+00 - factorized_top_k/top_5_categorical_accuracy: 0.0000e+00 - factorized_top_k/top_10_categorical_accuracy: 0.0000e+00 - factorized_top_k/top_50_categorical_accuracy: 0.0000e+00 - factorized_top_k/top_100_categorical_accuracy: 0.0000e+00 - loss: 54089.4199 - regularization_loss: 0.0000e+00 - total_loss: 54089.4199 - val_factorized_top_k/top_1_categorical_accuracy: 0.0133 - val_factorized_top_k/top_5_categorical_accuracy: 0.1001 - val_factorized_top_k/top_10_categorical_accuracy: 0.1599 - val_factorized_top_k/top_50_categorical_accuracy: 0.3115 - val_factorized_top_k/top_100_categorical_accuracy: 0.3943 - val_loss: 7363.6006 - val_regularization_loss: 0.0000e+00 - val_total_loss: 7363.6006\n",
      "Epoch 71/300\n",
      "27/27 [==============================] - 47s 2s/step - factorized_top_k/top_1_categorical_accuracy: 0.0000e+00 - factorized_top_k/top_5_categorical_accuracy: 0.0000e+00 - factorized_top_k/top_10_categorical_accuracy: 0.0000e+00 - factorized_top_k/top_50_categorical_accuracy: 0.0000e+00 - factorized_top_k/top_100_categorical_accuracy: 0.0000e+00 - loss: 54047.7002 - regularization_loss: 0.0000e+00 - total_loss: 54047.7002\n",
      "Epoch 72/300\n",
      "27/27 [==============================] - 47s 2s/step - factorized_top_k/top_1_categorical_accuracy: 0.0000e+00 - factorized_top_k/top_5_categorical_accuracy: 0.0000e+00 - factorized_top_k/top_10_categorical_accuracy: 0.0000e+00 - factorized_top_k/top_50_categorical_accuracy: 0.0000e+00 - factorized_top_k/top_100_categorical_accuracy: 0.0000e+00 - loss: 54006.8620 - regularization_loss: 0.0000e+00 - total_loss: 54006.8620\n",
      "Epoch 73/300\n",
      "27/27 [==============================] - 46s 2s/step - factorized_top_k/top_1_categorical_accuracy: 0.0000e+00 - factorized_top_k/top_5_categorical_accuracy: 0.0000e+00 - factorized_top_k/top_10_categorical_accuracy: 0.0000e+00 - factorized_top_k/top_50_categorical_accuracy: 0.0000e+00 - factorized_top_k/top_100_categorical_accuracy: 0.0000e+00 - loss: 53966.9489 - regularization_loss: 0.0000e+00 - total_loss: 53966.9489\n",
      "Epoch 74/300\n",
      "27/27 [==============================] - 46s 2s/step - factorized_top_k/top_1_categorical_accuracy: 0.0000e+00 - factorized_top_k/top_5_categorical_accuracy: 0.0000e+00 - factorized_top_k/top_10_categorical_accuracy: 0.0000e+00 - factorized_top_k/top_50_categorical_accuracy: 0.0000e+00 - factorized_top_k/top_100_categorical_accuracy: 0.0000e+00 - loss: 53927.8679 - regularization_loss: 0.0000e+00 - total_loss: 53927.8679\n",
      "Epoch 75/300\n",
      "27/27 [==============================] - 59s 2s/step - factorized_top_k/top_1_categorical_accuracy: 0.0000e+00 - factorized_top_k/top_5_categorical_accuracy: 0.0000e+00 - factorized_top_k/top_10_categorical_accuracy: 0.0000e+00 - factorized_top_k/top_50_categorical_accuracy: 0.0000e+00 - factorized_top_k/top_100_categorical_accuracy: 0.0000e+00 - loss: 53889.6440 - regularization_loss: 0.0000e+00 - total_loss: 53889.6440 - val_factorized_top_k/top_1_categorical_accuracy: 0.0135 - val_factorized_top_k/top_5_categorical_accuracy: 0.1016 - val_factorized_top_k/top_10_categorical_accuracy: 0.1635 - val_factorized_top_k/top_50_categorical_accuracy: 0.3175 - val_factorized_top_k/top_100_categorical_accuracy: 0.3986 - val_loss: 7328.3735 - val_regularization_loss: 0.0000e+00 - val_total_loss: 7328.3735\n",
      "Epoch 76/300\n",
      "27/27 [==============================] - 46s 2s/step - factorized_top_k/top_1_categorical_accuracy: 0.0000e+00 - factorized_top_k/top_5_categorical_accuracy: 0.0000e+00 - factorized_top_k/top_10_categorical_accuracy: 0.0000e+00 - factorized_top_k/top_50_categorical_accuracy: 0.0000e+00 - factorized_top_k/top_100_categorical_accuracy: 0.0000e+00 - loss: 53852.2065 - regularization_loss: 0.0000e+00 - total_loss: 53852.2065\n",
      "Epoch 77/300\n",
      "27/27 [==============================] - 48s 2s/step - factorized_top_k/top_1_categorical_accuracy: 0.0000e+00 - factorized_top_k/top_5_categorical_accuracy: 0.0000e+00 - factorized_top_k/top_10_categorical_accuracy: 0.0000e+00 - factorized_top_k/top_50_categorical_accuracy: 0.0000e+00 - factorized_top_k/top_100_categorical_accuracy: 0.0000e+00 - loss: 53815.5954 - regularization_loss: 0.0000e+00 - total_loss: 53815.5954\n",
      "Epoch 78/300\n",
      "27/27 [==============================] - 47s 2s/step - factorized_top_k/top_1_categorical_accuracy: 0.0000e+00 - factorized_top_k/top_5_categorical_accuracy: 0.0000e+00 - factorized_top_k/top_10_categorical_accuracy: 0.0000e+00 - factorized_top_k/top_50_categorical_accuracy: 0.0000e+00 - factorized_top_k/top_100_categorical_accuracy: 0.0000e+00 - loss: 53779.7461 - regularization_loss: 0.0000e+00 - total_loss: 53779.7461\n",
      "Epoch 79/300\n",
      "27/27 [==============================] - 46s 2s/step - factorized_top_k/top_1_categorical_accuracy: 0.0000e+00 - factorized_top_k/top_5_categorical_accuracy: 0.0000e+00 - factorized_top_k/top_10_categorical_accuracy: 0.0000e+00 - factorized_top_k/top_50_categorical_accuracy: 0.0000e+00 - factorized_top_k/top_100_categorical_accuracy: 0.0000e+00 - loss: 53744.7019 - regularization_loss: 0.0000e+00 - total_loss: 53744.7019\n",
      "Epoch 80/300\n",
      "27/27 [==============================] - 60s 2s/step - factorized_top_k/top_1_categorical_accuracy: 0.0000e+00 - factorized_top_k/top_5_categorical_accuracy: 0.0000e+00 - factorized_top_k/top_10_categorical_accuracy: 0.0000e+00 - factorized_top_k/top_50_categorical_accuracy: 0.0000e+00 - factorized_top_k/top_100_categorical_accuracy: 0.0000e+00 - loss: 53710.3976 - regularization_loss: 0.0000e+00 - total_loss: 53710.3976 - val_factorized_top_k/top_1_categorical_accuracy: 0.0137 - val_factorized_top_k/top_5_categorical_accuracy: 0.1034 - val_factorized_top_k/top_10_categorical_accuracy: 0.1668 - val_factorized_top_k/top_50_categorical_accuracy: 0.3215 - val_factorized_top_k/top_100_categorical_accuracy: 0.4025 - val_loss: 7296.2559 - val_regularization_loss: 0.0000e+00 - val_total_loss: 7296.2559\n"
     ]
    },
    {
     "name": "stdout",
     "output_type": "stream",
     "text": [
      "Epoch 81/300\n",
      "27/27 [==============================] - 47s 2s/step - factorized_top_k/top_1_categorical_accuracy: 0.0000e+00 - factorized_top_k/top_5_categorical_accuracy: 0.0000e+00 - factorized_top_k/top_10_categorical_accuracy: 0.0000e+00 - factorized_top_k/top_50_categorical_accuracy: 0.0000e+00 - factorized_top_k/top_100_categorical_accuracy: 0.0000e+00 - loss: 53676.9025 - regularization_loss: 0.0000e+00 - total_loss: 53676.9025\n",
      "Epoch 82/300\n",
      "27/27 [==============================] - 47s 2s/step - factorized_top_k/top_1_categorical_accuracy: 0.0000e+00 - factorized_top_k/top_5_categorical_accuracy: 0.0000e+00 - factorized_top_k/top_10_categorical_accuracy: 0.0000e+00 - factorized_top_k/top_50_categorical_accuracy: 0.0000e+00 - factorized_top_k/top_100_categorical_accuracy: 0.0000e+00 - loss: 53644.1237 - regularization_loss: 0.0000e+00 - total_loss: 53644.1237\n",
      "Epoch 83/300\n",
      "27/27 [==============================] - 47s 2s/step - factorized_top_k/top_1_categorical_accuracy: 0.0000e+00 - factorized_top_k/top_5_categorical_accuracy: 0.0000e+00 - factorized_top_k/top_10_categorical_accuracy: 0.0000e+00 - factorized_top_k/top_50_categorical_accuracy: 0.0000e+00 - factorized_top_k/top_100_categorical_accuracy: 0.0000e+00 - loss: 53612.1595 - regularization_loss: 0.0000e+00 - total_loss: 53612.1595\n",
      "Epoch 84/300\n",
      "27/27 [==============================] - 46s 2s/step - factorized_top_k/top_1_categorical_accuracy: 0.0000e+00 - factorized_top_k/top_5_categorical_accuracy: 0.0000e+00 - factorized_top_k/top_10_categorical_accuracy: 0.0000e+00 - factorized_top_k/top_50_categorical_accuracy: 0.0000e+00 - factorized_top_k/top_100_categorical_accuracy: 0.0000e+00 - loss: 53580.8827 - regularization_loss: 0.0000e+00 - total_loss: 53580.8827\n",
      "Epoch 85/300\n",
      "27/27 [==============================] - 59s 2s/step - factorized_top_k/top_1_categorical_accuracy: 0.0000e+00 - factorized_top_k/top_5_categorical_accuracy: 0.0000e+00 - factorized_top_k/top_10_categorical_accuracy: 0.0000e+00 - factorized_top_k/top_50_categorical_accuracy: 0.0000e+00 - factorized_top_k/top_100_categorical_accuracy: 0.0000e+00 - loss: 53550.4023 - regularization_loss: 0.0000e+00 - total_loss: 53550.4023 - val_factorized_top_k/top_1_categorical_accuracy: 0.0138 - val_factorized_top_k/top_5_categorical_accuracy: 0.1052 - val_factorized_top_k/top_10_categorical_accuracy: 0.1702 - val_factorized_top_k/top_50_categorical_accuracy: 0.3257 - val_factorized_top_k/top_100_categorical_accuracy: 0.4058 - val_loss: 7267.3579 - val_regularization_loss: 0.0000e+00 - val_total_loss: 7267.3579\n",
      "Epoch 86/300\n",
      "27/27 [==============================] - 46s 2s/step - factorized_top_k/top_1_categorical_accuracy: 0.0000e+00 - factorized_top_k/top_5_categorical_accuracy: 0.0000e+00 - factorized_top_k/top_10_categorical_accuracy: 0.0000e+00 - factorized_top_k/top_50_categorical_accuracy: 0.0000e+00 - factorized_top_k/top_100_categorical_accuracy: 0.0000e+00 - loss: 53520.5876 - regularization_loss: 0.0000e+00 - total_loss: 53520.5876\n",
      "Epoch 87/300\n",
      "27/27 [==============================] - 46s 2s/step - factorized_top_k/top_1_categorical_accuracy: 0.0000e+00 - factorized_top_k/top_5_categorical_accuracy: 0.0000e+00 - factorized_top_k/top_10_categorical_accuracy: 0.0000e+00 - factorized_top_k/top_50_categorical_accuracy: 0.0000e+00 - factorized_top_k/top_100_categorical_accuracy: 0.0000e+00 - loss: 53491.5251 - regularization_loss: 0.0000e+00 - total_loss: 53491.5251\n",
      "Epoch 88/300\n",
      "27/27 [==============================] - 46s 2s/step - factorized_top_k/top_1_categorical_accuracy: 0.0000e+00 - factorized_top_k/top_5_categorical_accuracy: 0.0000e+00 - factorized_top_k/top_10_categorical_accuracy: 0.0000e+00 - factorized_top_k/top_50_categorical_accuracy: 0.0000e+00 - factorized_top_k/top_100_categorical_accuracy: 0.0000e+00 - loss: 53463.1197 - regularization_loss: 0.0000e+00 - total_loss: 53463.1197\n",
      "Epoch 89/300\n",
      "27/27 [==============================] - 46s 2s/step - factorized_top_k/top_1_categorical_accuracy: 0.0000e+00 - factorized_top_k/top_5_categorical_accuracy: 0.0000e+00 - factorized_top_k/top_10_categorical_accuracy: 0.0000e+00 - factorized_top_k/top_50_categorical_accuracy: 0.0000e+00 - factorized_top_k/top_100_categorical_accuracy: 0.0000e+00 - loss: 53435.4220 - regularization_loss: 0.0000e+00 - total_loss: 53435.4220\n",
      "Epoch 90/300\n",
      "27/27 [==============================] - 59s 2s/step - factorized_top_k/top_1_categorical_accuracy: 0.0000e+00 - factorized_top_k/top_5_categorical_accuracy: 0.0000e+00 - factorized_top_k/top_10_categorical_accuracy: 0.0000e+00 - factorized_top_k/top_50_categorical_accuracy: 0.0000e+00 - factorized_top_k/top_100_categorical_accuracy: 0.0000e+00 - loss: 53408.3251 - regularization_loss: 0.0000e+00 - total_loss: 53408.3251 - val_factorized_top_k/top_1_categorical_accuracy: 0.0139 - val_factorized_top_k/top_5_categorical_accuracy: 0.1063 - val_factorized_top_k/top_10_categorical_accuracy: 0.1729 - val_factorized_top_k/top_50_categorical_accuracy: 0.3292 - val_factorized_top_k/top_100_categorical_accuracy: 0.4087 - val_loss: 7242.2231 - val_regularization_loss: 0.0000e+00 - val_total_loss: 7242.2231\n",
      "Epoch 91/300\n",
      "27/27 [==============================] - 46s 2s/step - factorized_top_k/top_1_categorical_accuracy: 0.0000e+00 - factorized_top_k/top_5_categorical_accuracy: 0.0000e+00 - factorized_top_k/top_10_categorical_accuracy: 0.0000e+00 - factorized_top_k/top_50_categorical_accuracy: 0.0000e+00 - factorized_top_k/top_100_categorical_accuracy: 0.0000e+00 - loss: 53381.9092 - regularization_loss: 0.0000e+00 - total_loss: 53381.9092\n",
      "Epoch 92/300\n",
      "27/27 [==============================] - 46s 2s/step - factorized_top_k/top_1_categorical_accuracy: 0.0000e+00 - factorized_top_k/top_5_categorical_accuracy: 0.0000e+00 - factorized_top_k/top_10_categorical_accuracy: 0.0000e+00 - factorized_top_k/top_50_categorical_accuracy: 0.0000e+00 - factorized_top_k/top_100_categorical_accuracy: 0.0000e+00 - loss: 53356.0287 - regularization_loss: 0.0000e+00 - total_loss: 53356.0287\n",
      "Epoch 93/300\n",
      "27/27 [==============================] - 46s 2s/step - factorized_top_k/top_1_categorical_accuracy: 0.0000e+00 - factorized_top_k/top_5_categorical_accuracy: 0.0000e+00 - factorized_top_k/top_10_categorical_accuracy: 0.0000e+00 - factorized_top_k/top_50_categorical_accuracy: 0.0000e+00 - factorized_top_k/top_100_categorical_accuracy: 0.0000e+00 - loss: 53330.8154 - regularization_loss: 0.0000e+00 - total_loss: 53330.8154\n",
      "Epoch 94/300\n",
      "27/27 [==============================] - 46s 2s/step - factorized_top_k/top_1_categorical_accuracy: 0.0000e+00 - factorized_top_k/top_5_categorical_accuracy: 0.0000e+00 - factorized_top_k/top_10_categorical_accuracy: 0.0000e+00 - factorized_top_k/top_50_categorical_accuracy: 0.0000e+00 - factorized_top_k/top_100_categorical_accuracy: 0.0000e+00 - loss: 53306.0824 - regularization_loss: 0.0000e+00 - total_loss: 53306.0824\n",
      "Epoch 95/300\n",
      "27/27 [==============================] - 59s 2s/step - factorized_top_k/top_1_categorical_accuracy: 0.0000e+00 - factorized_top_k/top_5_categorical_accuracy: 0.0000e+00 - factorized_top_k/top_10_categorical_accuracy: 0.0000e+00 - factorized_top_k/top_50_categorical_accuracy: 0.0000e+00 - factorized_top_k/top_100_categorical_accuracy: 0.0000e+00 - loss: 53281.9883 - regularization_loss: 0.0000e+00 - total_loss: 53281.9883 - val_factorized_top_k/top_1_categorical_accuracy: 0.0137 - val_factorized_top_k/top_5_categorical_accuracy: 0.1070 - val_factorized_top_k/top_10_categorical_accuracy: 0.1751 - val_factorized_top_k/top_50_categorical_accuracy: 0.3322 - val_factorized_top_k/top_100_categorical_accuracy: 0.4115 - val_loss: 7219.8232 - val_regularization_loss: 0.0000e+00 - val_total_loss: 7219.8232\n",
      "Epoch 96/300\n",
      "27/27 [==============================] - 47s 2s/step - factorized_top_k/top_1_categorical_accuracy: 0.0000e+00 - factorized_top_k/top_5_categorical_accuracy: 0.0000e+00 - factorized_top_k/top_10_categorical_accuracy: 0.0000e+00 - factorized_top_k/top_50_categorical_accuracy: 0.0000e+00 - factorized_top_k/top_100_categorical_accuracy: 0.0000e+00 - loss: 53258.3230 - regularization_loss: 0.0000e+00 - total_loss: 53258.3230\n",
      "Epoch 97/300\n"
     ]
    },
    {
     "name": "stdout",
     "output_type": "stream",
     "text": [
      "27/27 [==============================] - 46s 2s/step - factorized_top_k/top_1_categorical_accuracy: 0.0000e+00 - factorized_top_k/top_5_categorical_accuracy: 0.0000e+00 - factorized_top_k/top_10_categorical_accuracy: 0.0000e+00 - factorized_top_k/top_50_categorical_accuracy: 0.0000e+00 - factorized_top_k/top_100_categorical_accuracy: 0.0000e+00 - loss: 53235.2635 - regularization_loss: 0.0000e+00 - total_loss: 53235.2635\n",
      "Epoch 98/300\n",
      "27/27 [==============================] - 46s 2s/step - factorized_top_k/top_1_categorical_accuracy: 0.0000e+00 - factorized_top_k/top_5_categorical_accuracy: 0.0000e+00 - factorized_top_k/top_10_categorical_accuracy: 0.0000e+00 - factorized_top_k/top_50_categorical_accuracy: 0.0000e+00 - factorized_top_k/top_100_categorical_accuracy: 0.0000e+00 - loss: 53212.5879 - regularization_loss: 0.0000e+00 - total_loss: 53212.5879\n",
      "Epoch 99/300\n",
      "27/27 [==============================] - 47s 2s/step - factorized_top_k/top_1_categorical_accuracy: 0.0000e+00 - factorized_top_k/top_5_categorical_accuracy: 0.0000e+00 - factorized_top_k/top_10_categorical_accuracy: 0.0000e+00 - factorized_top_k/top_50_categorical_accuracy: 0.0000e+00 - factorized_top_k/top_100_categorical_accuracy: 0.0000e+00 - loss: 53190.4810 - regularization_loss: 0.0000e+00 - total_loss: 53190.4810\n",
      "Epoch 100/300\n",
      "27/27 [==============================] - 59s 2s/step - factorized_top_k/top_1_categorical_accuracy: 0.0000e+00 - factorized_top_k/top_5_categorical_accuracy: 0.0000e+00 - factorized_top_k/top_10_categorical_accuracy: 0.0000e+00 - factorized_top_k/top_50_categorical_accuracy: 0.0000e+00 - factorized_top_k/top_100_categorical_accuracy: 0.0000e+00 - loss: 53168.7169 - regularization_loss: 0.0000e+00 - total_loss: 53168.7169 - val_factorized_top_k/top_1_categorical_accuracy: 0.0139 - val_factorized_top_k/top_5_categorical_accuracy: 0.1077 - val_factorized_top_k/top_10_categorical_accuracy: 0.1762 - val_factorized_top_k/top_50_categorical_accuracy: 0.3348 - val_factorized_top_k/top_100_categorical_accuracy: 0.4138 - val_loss: 7200.3633 - val_regularization_loss: 0.0000e+00 - val_total_loss: 7200.3633\n",
      "Epoch 101/300\n",
      "27/27 [==============================] - 47s 2s/step - factorized_top_k/top_1_categorical_accuracy: 0.0000e+00 - factorized_top_k/top_5_categorical_accuracy: 0.0000e+00 - factorized_top_k/top_10_categorical_accuracy: 0.0000e+00 - factorized_top_k/top_50_categorical_accuracy: 0.0000e+00 - factorized_top_k/top_100_categorical_accuracy: 0.0000e+00 - loss: 53147.4873 - regularization_loss: 0.0000e+00 - total_loss: 53147.4873\n",
      "Epoch 102/300\n",
      "27/27 [==============================] - 46s 2s/step - factorized_top_k/top_1_categorical_accuracy: 0.0000e+00 - factorized_top_k/top_5_categorical_accuracy: 0.0000e+00 - factorized_top_k/top_10_categorical_accuracy: 0.0000e+00 - factorized_top_k/top_50_categorical_accuracy: 0.0000e+00 - factorized_top_k/top_100_categorical_accuracy: 0.0000e+00 - loss: 53126.5760 - regularization_loss: 0.0000e+00 - total_loss: 53126.5760\n",
      "Epoch 103/300\n",
      "27/27 [==============================] - 47s 2s/step - factorized_top_k/top_1_categorical_accuracy: 0.0000e+00 - factorized_top_k/top_5_categorical_accuracy: 0.0000e+00 - factorized_top_k/top_10_categorical_accuracy: 0.0000e+00 - factorized_top_k/top_50_categorical_accuracy: 0.0000e+00 - factorized_top_k/top_100_categorical_accuracy: 0.0000e+00 - loss: 53106.1622 - regularization_loss: 0.0000e+00 - total_loss: 53106.1622\n",
      "Epoch 104/300\n",
      "27/27 [==============================] - 46s 2s/step - factorized_top_k/top_1_categorical_accuracy: 0.0000e+00 - factorized_top_k/top_5_categorical_accuracy: 0.0000e+00 - factorized_top_k/top_10_categorical_accuracy: 0.0000e+00 - factorized_top_k/top_50_categorical_accuracy: 0.0000e+00 - factorized_top_k/top_100_categorical_accuracy: 0.0000e+00 - loss: 53086.0356 - regularization_loss: 0.0000e+00 - total_loss: 53086.0356\n",
      "Epoch 105/300\n",
      "27/27 [==============================] - 60s 2s/step - factorized_top_k/top_1_categorical_accuracy: 0.0000e+00 - factorized_top_k/top_5_categorical_accuracy: 0.0000e+00 - factorized_top_k/top_10_categorical_accuracy: 0.0000e+00 - factorized_top_k/top_50_categorical_accuracy: 0.0000e+00 - factorized_top_k/top_100_categorical_accuracy: 0.0000e+00 - loss: 53066.3788 - regularization_loss: 0.0000e+00 - total_loss: 53066.3788 - val_factorized_top_k/top_1_categorical_accuracy: 0.0137 - val_factorized_top_k/top_5_categorical_accuracy: 0.1083 - val_factorized_top_k/top_10_categorical_accuracy: 0.1782 - val_factorized_top_k/top_50_categorical_accuracy: 0.3372 - val_factorized_top_k/top_100_categorical_accuracy: 0.4161 - val_loss: 7182.4443 - val_regularization_loss: 0.0000e+00 - val_total_loss: 7182.4443\n",
      "Epoch 106/300\n",
      "27/27 [==============================] - 47s 2s/step - factorized_top_k/top_1_categorical_accuracy: 0.0000e+00 - factorized_top_k/top_5_categorical_accuracy: 0.0000e+00 - factorized_top_k/top_10_categorical_accuracy: 0.0000e+00 - factorized_top_k/top_50_categorical_accuracy: 0.0000e+00 - factorized_top_k/top_100_categorical_accuracy: 0.0000e+00 - loss: 53046.9729 - regularization_loss: 0.0000e+00 - total_loss: 53046.9729\n",
      "Epoch 107/300\n",
      "27/27 [==============================] - 47s 2s/step - factorized_top_k/top_1_categorical_accuracy: 0.0000e+00 - factorized_top_k/top_5_categorical_accuracy: 0.0000e+00 - factorized_top_k/top_10_categorical_accuracy: 0.0000e+00 - factorized_top_k/top_50_categorical_accuracy: 0.0000e+00 - factorized_top_k/top_100_categorical_accuracy: 0.0000e+00 - loss: 53028.0140 - regularization_loss: 0.0000e+00 - total_loss: 53028.0140\n",
      "Epoch 108/300\n",
      "27/27 [==============================] - 47s 2s/step - factorized_top_k/top_1_categorical_accuracy: 0.0000e+00 - factorized_top_k/top_5_categorical_accuracy: 0.0000e+00 - factorized_top_k/top_10_categorical_accuracy: 0.0000e+00 - factorized_top_k/top_50_categorical_accuracy: 0.0000e+00 - factorized_top_k/top_100_categorical_accuracy: 0.0000e+00 - loss: 53009.2824 - regularization_loss: 0.0000e+00 - total_loss: 53009.2824\n",
      "Epoch 109/300\n",
      "27/27 [==============================] - 47s 2s/step - factorized_top_k/top_1_categorical_accuracy: 0.0000e+00 - factorized_top_k/top_5_categorical_accuracy: 0.0000e+00 - factorized_top_k/top_10_categorical_accuracy: 0.0000e+00 - factorized_top_k/top_50_categorical_accuracy: 0.0000e+00 - factorized_top_k/top_100_categorical_accuracy: 0.0000e+00 - loss: 52990.9792 - regularization_loss: 0.0000e+00 - total_loss: 52990.9792\n",
      "Epoch 110/300\n",
      "27/27 [==============================] - 60s 2s/step - factorized_top_k/top_1_categorical_accuracy: 0.0000e+00 - factorized_top_k/top_5_categorical_accuracy: 0.0000e+00 - factorized_top_k/top_10_categorical_accuracy: 0.0000e+00 - factorized_top_k/top_50_categorical_accuracy: 0.0000e+00 - factorized_top_k/top_100_categorical_accuracy: 0.0000e+00 - loss: 52972.8806 - regularization_loss: 0.0000e+00 - total_loss: 52972.8806 - val_factorized_top_k/top_1_categorical_accuracy: 0.0138 - val_factorized_top_k/top_5_categorical_accuracy: 0.1094 - val_factorized_top_k/top_10_categorical_accuracy: 0.1802 - val_factorized_top_k/top_50_categorical_accuracy: 0.3401 - val_factorized_top_k/top_100_categorical_accuracy: 0.4182 - val_loss: 7166.5156 - val_regularization_loss: 0.0000e+00 - val_total_loss: 7166.5156\n",
      "Epoch 111/300\n",
      "27/27 [==============================] - 47s 2s/step - factorized_top_k/top_1_categorical_accuracy: 0.0000e+00 - factorized_top_k/top_5_categorical_accuracy: 0.0000e+00 - factorized_top_k/top_10_categorical_accuracy: 0.0000e+00 - factorized_top_k/top_50_categorical_accuracy: 0.0000e+00 - factorized_top_k/top_100_categorical_accuracy: 0.0000e+00 - loss: 52955.1929 - regularization_loss: 0.0000e+00 - total_loss: 52955.1929\n",
      "Epoch 112/300\n",
      "27/27 [==============================] - 47s 2s/step - factorized_top_k/top_1_categorical_accuracy: 0.0000e+00 - factorized_top_k/top_5_categorical_accuracy: 0.0000e+00 - factorized_top_k/top_10_categorical_accuracy: 0.0000e+00 - factorized_top_k/top_50_categorical_accuracy: 0.0000e+00 - factorized_top_k/top_100_categorical_accuracy: 0.0000e+00 - loss: 52937.6798 - regularization_loss: 0.0000e+00 - total_loss: 52937.6798\n",
      "Epoch 113/300\n"
     ]
    },
    {
     "name": "stdout",
     "output_type": "stream",
     "text": [
      "27/27 [==============================] - 46s 2s/step - factorized_top_k/top_1_categorical_accuracy: 0.0000e+00 - factorized_top_k/top_5_categorical_accuracy: 0.0000e+00 - factorized_top_k/top_10_categorical_accuracy: 0.0000e+00 - factorized_top_k/top_50_categorical_accuracy: 0.0000e+00 - factorized_top_k/top_100_categorical_accuracy: 0.0000e+00 - loss: 52920.5706 - regularization_loss: 0.0000e+00 - total_loss: 52920.5706\n",
      "Epoch 114/300\n",
      "27/27 [==============================] - 47s 2s/step - factorized_top_k/top_1_categorical_accuracy: 0.0000e+00 - factorized_top_k/top_5_categorical_accuracy: 0.0000e+00 - factorized_top_k/top_10_categorical_accuracy: 0.0000e+00 - factorized_top_k/top_50_categorical_accuracy: 0.0000e+00 - factorized_top_k/top_100_categorical_accuracy: 0.0000e+00 - loss: 52903.6003 - regularization_loss: 0.0000e+00 - total_loss: 52903.6003\n",
      "Epoch 115/300\n",
      "27/27 [==============================] - 60s 2s/step - factorized_top_k/top_1_categorical_accuracy: 0.0000e+00 - factorized_top_k/top_5_categorical_accuracy: 0.0000e+00 - factorized_top_k/top_10_categorical_accuracy: 0.0000e+00 - factorized_top_k/top_50_categorical_accuracy: 0.0000e+00 - factorized_top_k/top_100_categorical_accuracy: 0.0000e+00 - loss: 52887.0265 - regularization_loss: 0.0000e+00 - total_loss: 52887.0265 - val_factorized_top_k/top_1_categorical_accuracy: 0.0138 - val_factorized_top_k/top_5_categorical_accuracy: 0.1105 - val_factorized_top_k/top_10_categorical_accuracy: 0.1815 - val_factorized_top_k/top_50_categorical_accuracy: 0.3424 - val_factorized_top_k/top_100_categorical_accuracy: 0.4200 - val_loss: 7151.5171 - val_regularization_loss: 0.0000e+00 - val_total_loss: 7151.5171\n",
      "Epoch 116/300\n",
      "27/27 [==============================] - 47s 2s/step - factorized_top_k/top_1_categorical_accuracy: 0.0000e+00 - factorized_top_k/top_5_categorical_accuracy: 0.0000e+00 - factorized_top_k/top_10_categorical_accuracy: 0.0000e+00 - factorized_top_k/top_50_categorical_accuracy: 0.0000e+00 - factorized_top_k/top_100_categorical_accuracy: 0.0000e+00 - loss: 52870.5698 - regularization_loss: 0.0000e+00 - total_loss: 52870.5698\n",
      "Epoch 117/300\n",
      "27/27 [==============================] - 46s 2s/step - factorized_top_k/top_1_categorical_accuracy: 0.0000e+00 - factorized_top_k/top_5_categorical_accuracy: 0.0000e+00 - factorized_top_k/top_10_categorical_accuracy: 0.0000e+00 - factorized_top_k/top_50_categorical_accuracy: 0.0000e+00 - factorized_top_k/top_100_categorical_accuracy: 0.0000e+00 - loss: 52854.4961 - regularization_loss: 0.0000e+00 - total_loss: 52854.4961\n",
      "Epoch 118/300\n",
      "27/27 [==============================] - 46s 2s/step - factorized_top_k/top_1_categorical_accuracy: 0.0000e+00 - factorized_top_k/top_5_categorical_accuracy: 0.0000e+00 - factorized_top_k/top_10_categorical_accuracy: 0.0000e+00 - factorized_top_k/top_50_categorical_accuracy: 0.0000e+00 - factorized_top_k/top_100_categorical_accuracy: 0.0000e+00 - loss: 52838.5361 - regularization_loss: 0.0000e+00 - total_loss: 52838.5361\n",
      "Epoch 119/300\n",
      "27/27 [==============================] - 46s 2s/step - factorized_top_k/top_1_categorical_accuracy: 0.0000e+00 - factorized_top_k/top_5_categorical_accuracy: 0.0000e+00 - factorized_top_k/top_10_categorical_accuracy: 0.0000e+00 - factorized_top_k/top_50_categorical_accuracy: 0.0000e+00 - factorized_top_k/top_100_categorical_accuracy: 0.0000e+00 - loss: 52822.9258 - regularization_loss: 0.0000e+00 - total_loss: 52822.9258\n",
      "Epoch 120/300\n",
      "27/27 [==============================] - 59s 2s/step - factorized_top_k/top_1_categorical_accuracy: 0.0000e+00 - factorized_top_k/top_5_categorical_accuracy: 0.0000e+00 - factorized_top_k/top_10_categorical_accuracy: 0.0000e+00 - factorized_top_k/top_50_categorical_accuracy: 0.0000e+00 - factorized_top_k/top_100_categorical_accuracy: 0.0000e+00 - loss: 52807.4293 - regularization_loss: 0.0000e+00 - total_loss: 52807.4293 - val_factorized_top_k/top_1_categorical_accuracy: 0.0140 - val_factorized_top_k/top_5_categorical_accuracy: 0.1109 - val_factorized_top_k/top_10_categorical_accuracy: 0.1825 - val_factorized_top_k/top_50_categorical_accuracy: 0.3444 - val_factorized_top_k/top_100_categorical_accuracy: 0.4214 - val_loss: 7137.9683 - val_regularization_loss: 0.0000e+00 - val_total_loss: 7137.9683\n",
      "Epoch 121/300\n",
      "27/27 [==============================] - 47s 2s/step - factorized_top_k/top_1_categorical_accuracy: 0.0000e+00 - factorized_top_k/top_5_categorical_accuracy: 0.0000e+00 - factorized_top_k/top_10_categorical_accuracy: 0.0000e+00 - factorized_top_k/top_50_categorical_accuracy: 0.0000e+00 - factorized_top_k/top_100_categorical_accuracy: 0.0000e+00 - loss: 52792.2499 - regularization_loss: 0.0000e+00 - total_loss: 52792.2499\n",
      "Epoch 122/300\n",
      "27/27 [==============================] - 47s 2s/step - factorized_top_k/top_1_categorical_accuracy: 0.0000e+00 - factorized_top_k/top_5_categorical_accuracy: 0.0000e+00 - factorized_top_k/top_10_categorical_accuracy: 0.0000e+00 - factorized_top_k/top_50_categorical_accuracy: 0.0000e+00 - factorized_top_k/top_100_categorical_accuracy: 0.0000e+00 - loss: 52777.1791 - regularization_loss: 0.0000e+00 - total_loss: 52777.1791\n",
      "Epoch 123/300\n",
      "27/27 [==============================] - 47s 2s/step - factorized_top_k/top_1_categorical_accuracy: 0.0000e+00 - factorized_top_k/top_5_categorical_accuracy: 0.0000e+00 - factorized_top_k/top_10_categorical_accuracy: 0.0000e+00 - factorized_top_k/top_50_categorical_accuracy: 0.0000e+00 - factorized_top_k/top_100_categorical_accuracy: 0.0000e+00 - loss: 52762.4280 - regularization_loss: 0.0000e+00 - total_loss: 52762.4280\n",
      "Epoch 124/300\n",
      "27/27 [==============================] - 47s 2s/step - factorized_top_k/top_1_categorical_accuracy: 0.0000e+00 - factorized_top_k/top_5_categorical_accuracy: 0.0000e+00 - factorized_top_k/top_10_categorical_accuracy: 0.0000e+00 - factorized_top_k/top_50_categorical_accuracy: 0.0000e+00 - factorized_top_k/top_100_categorical_accuracy: 0.0000e+00 - loss: 52747.7407 - regularization_loss: 0.0000e+00 - total_loss: 52747.7407\n",
      "Epoch 125/300\n",
      "27/27 [==============================] - 60s 2s/step - factorized_top_k/top_1_categorical_accuracy: 0.0000e+00 - factorized_top_k/top_5_categorical_accuracy: 0.0000e+00 - factorized_top_k/top_10_categorical_accuracy: 0.0000e+00 - factorized_top_k/top_50_categorical_accuracy: 0.0000e+00 - factorized_top_k/top_100_categorical_accuracy: 0.0000e+00 - loss: 52733.4199 - regularization_loss: 0.0000e+00 - total_loss: 52733.4199 - val_factorized_top_k/top_1_categorical_accuracy: 0.0139 - val_factorized_top_k/top_5_categorical_accuracy: 0.1112 - val_factorized_top_k/top_10_categorical_accuracy: 0.1838 - val_factorized_top_k/top_50_categorical_accuracy: 0.3463 - val_factorized_top_k/top_100_categorical_accuracy: 0.4234 - val_loss: 7125.0635 - val_regularization_loss: 0.0000e+00 - val_total_loss: 7125.0635\n",
      "Epoch 126/300\n",
      "27/27 [==============================] - 47s 2s/step - factorized_top_k/top_1_categorical_accuracy: 0.0000e+00 - factorized_top_k/top_5_categorical_accuracy: 0.0000e+00 - factorized_top_k/top_10_categorical_accuracy: 0.0000e+00 - factorized_top_k/top_50_categorical_accuracy: 0.0000e+00 - factorized_top_k/top_100_categorical_accuracy: 0.0000e+00 - loss: 52719.0970 - regularization_loss: 0.0000e+00 - total_loss: 52719.0970\n",
      "Epoch 127/300\n",
      "27/27 [==============================] - 47s 2s/step - factorized_top_k/top_1_categorical_accuracy: 0.0000e+00 - factorized_top_k/top_5_categorical_accuracy: 0.0000e+00 - factorized_top_k/top_10_categorical_accuracy: 0.0000e+00 - factorized_top_k/top_50_categorical_accuracy: 0.0000e+00 - factorized_top_k/top_100_categorical_accuracy: 0.0000e+00 - loss: 52705.1560 - regularization_loss: 0.0000e+00 - total_loss: 52705.1560\n",
      "Epoch 128/300\n",
      "27/27 [==============================] - 50s 2s/step - factorized_top_k/top_1_categorical_accuracy: 0.0000e+00 - factorized_top_k/top_5_categorical_accuracy: 0.0000e+00 - factorized_top_k/top_10_categorical_accuracy: 0.0000e+00 - factorized_top_k/top_50_categorical_accuracy: 0.0000e+00 - factorized_top_k/top_100_categorical_accuracy: 0.0000e+00 - loss: 52691.2006 - regularization_loss: 0.0000e+00 - total_loss: 52691.2006\n",
      "Epoch 129/300\n"
     ]
    },
    {
     "name": "stdout",
     "output_type": "stream",
     "text": [
      "27/27 [==============================] - 46s 2s/step - factorized_top_k/top_1_categorical_accuracy: 0.0000e+00 - factorized_top_k/top_5_categorical_accuracy: 0.0000e+00 - factorized_top_k/top_10_categorical_accuracy: 0.0000e+00 - factorized_top_k/top_50_categorical_accuracy: 0.0000e+00 - factorized_top_k/top_100_categorical_accuracy: 0.0000e+00 - loss: 52677.5829 - regularization_loss: 0.0000e+00 - total_loss: 52677.5829\n",
      "Epoch 130/300\n",
      "27/27 [==============================] - 59s 2s/step - factorized_top_k/top_1_categorical_accuracy: 0.0000e+00 - factorized_top_k/top_5_categorical_accuracy: 0.0000e+00 - factorized_top_k/top_10_categorical_accuracy: 0.0000e+00 - factorized_top_k/top_50_categorical_accuracy: 0.0000e+00 - factorized_top_k/top_100_categorical_accuracy: 0.0000e+00 - loss: 52664.0197 - regularization_loss: 0.0000e+00 - total_loss: 52664.0197 - val_factorized_top_k/top_1_categorical_accuracy: 0.0141 - val_factorized_top_k/top_5_categorical_accuracy: 0.1119 - val_factorized_top_k/top_10_categorical_accuracy: 0.1846 - val_factorized_top_k/top_50_categorical_accuracy: 0.3478 - val_factorized_top_k/top_100_categorical_accuracy: 0.4249 - val_loss: 7113.2749 - val_regularization_loss: 0.0000e+00 - val_total_loss: 7113.2749\n",
      "Epoch 131/300\n",
      "27/27 [==============================] - 46s 2s/step - factorized_top_k/top_1_categorical_accuracy: 0.0000e+00 - factorized_top_k/top_5_categorical_accuracy: 0.0000e+00 - factorized_top_k/top_10_categorical_accuracy: 0.0000e+00 - factorized_top_k/top_50_categorical_accuracy: 0.0000e+00 - factorized_top_k/top_100_categorical_accuracy: 0.0000e+00 - loss: 52650.7058 - regularization_loss: 0.0000e+00 - total_loss: 52650.7058\n",
      "Epoch 132/300\n",
      "27/27 [==============================] - 46s 2s/step - factorized_top_k/top_1_categorical_accuracy: 0.0000e+00 - factorized_top_k/top_5_categorical_accuracy: 0.0000e+00 - factorized_top_k/top_10_categorical_accuracy: 0.0000e+00 - factorized_top_k/top_50_categorical_accuracy: 0.0000e+00 - factorized_top_k/top_100_categorical_accuracy: 0.0000e+00 - loss: 52637.4936 - regularization_loss: 0.0000e+00 - total_loss: 52637.4936\n",
      "Epoch 133/300\n",
      "27/27 [==============================] - 47s 2s/step - factorized_top_k/top_1_categorical_accuracy: 0.0000e+00 - factorized_top_k/top_5_categorical_accuracy: 0.0000e+00 - factorized_top_k/top_10_categorical_accuracy: 0.0000e+00 - factorized_top_k/top_50_categorical_accuracy: 0.0000e+00 - factorized_top_k/top_100_categorical_accuracy: 0.0000e+00 - loss: 52624.4856 - regularization_loss: 0.0000e+00 - total_loss: 52624.4856\n",
      "Epoch 134/300\n",
      "27/27 [==============================] - 47s 2s/step - factorized_top_k/top_1_categorical_accuracy: 0.0000e+00 - factorized_top_k/top_5_categorical_accuracy: 0.0000e+00 - factorized_top_k/top_10_categorical_accuracy: 0.0000e+00 - factorized_top_k/top_50_categorical_accuracy: 0.0000e+00 - factorized_top_k/top_100_categorical_accuracy: 0.0000e+00 - loss: 52611.5596 - regularization_loss: 0.0000e+00 - total_loss: 52611.5596\n",
      "Epoch 135/300\n",
      "27/27 [==============================] - 60s 2s/step - factorized_top_k/top_1_categorical_accuracy: 0.0000e+00 - factorized_top_k/top_5_categorical_accuracy: 0.0000e+00 - factorized_top_k/top_10_categorical_accuracy: 0.0000e+00 - factorized_top_k/top_50_categorical_accuracy: 0.0000e+00 - factorized_top_k/top_100_categorical_accuracy: 0.0000e+00 - loss: 52598.8790 - regularization_loss: 0.0000e+00 - total_loss: 52598.8790 - val_factorized_top_k/top_1_categorical_accuracy: 0.0139 - val_factorized_top_k/top_5_categorical_accuracy: 0.1122 - val_factorized_top_k/top_10_categorical_accuracy: 0.1857 - val_factorized_top_k/top_50_categorical_accuracy: 0.3495 - val_factorized_top_k/top_100_categorical_accuracy: 0.4269 - val_loss: 7101.8442 - val_regularization_loss: 0.0000e+00 - val_total_loss: 7101.8442\n",
      "Epoch 136/300\n",
      "27/27 [==============================] - 47s 2s/step - factorized_top_k/top_1_categorical_accuracy: 0.0000e+00 - factorized_top_k/top_5_categorical_accuracy: 0.0000e+00 - factorized_top_k/top_10_categorical_accuracy: 0.0000e+00 - factorized_top_k/top_50_categorical_accuracy: 0.0000e+00 - factorized_top_k/top_100_categorical_accuracy: 0.0000e+00 - loss: 52586.2352 - regularization_loss: 0.0000e+00 - total_loss: 52586.2352\n",
      "Epoch 137/300\n",
      "27/27 [==============================] - 47s 2s/step - factorized_top_k/top_1_categorical_accuracy: 0.0000e+00 - factorized_top_k/top_5_categorical_accuracy: 0.0000e+00 - factorized_top_k/top_10_categorical_accuracy: 0.0000e+00 - factorized_top_k/top_50_categorical_accuracy: 0.0000e+00 - factorized_top_k/top_100_categorical_accuracy: 0.0000e+00 - loss: 52573.8662 - regularization_loss: 0.0000e+00 - total_loss: 52573.8662\n",
      "Epoch 138/300\n",
      "27/27 [==============================] - 47s 2s/step - factorized_top_k/top_1_categorical_accuracy: 0.0000e+00 - factorized_top_k/top_5_categorical_accuracy: 0.0000e+00 - factorized_top_k/top_10_categorical_accuracy: 0.0000e+00 - factorized_top_k/top_50_categorical_accuracy: 0.0000e+00 - factorized_top_k/top_100_categorical_accuracy: 0.0000e+00 - loss: 52561.4774 - regularization_loss: 0.0000e+00 - total_loss: 52561.4774\n",
      "Epoch 139/300\n",
      "27/27 [==============================] - 47s 2s/step - factorized_top_k/top_1_categorical_accuracy: 0.0000e+00 - factorized_top_k/top_5_categorical_accuracy: 0.0000e+00 - factorized_top_k/top_10_categorical_accuracy: 0.0000e+00 - factorized_top_k/top_50_categorical_accuracy: 0.0000e+00 - factorized_top_k/top_100_categorical_accuracy: 0.0000e+00 - loss: 52549.3638 - regularization_loss: 0.0000e+00 - total_loss: 52549.3638\n",
      "Epoch 140/300\n",
      "27/27 [==============================] - 60s 2s/step - factorized_top_k/top_1_categorical_accuracy: 0.0000e+00 - factorized_top_k/top_5_categorical_accuracy: 0.0000e+00 - factorized_top_k/top_10_categorical_accuracy: 0.0000e+00 - factorized_top_k/top_50_categorical_accuracy: 0.0000e+00 - factorized_top_k/top_100_categorical_accuracy: 0.0000e+00 - loss: 52537.2486 - regularization_loss: 0.0000e+00 - total_loss: 52537.2486 - val_factorized_top_k/top_1_categorical_accuracy: 0.0144 - val_factorized_top_k/top_5_categorical_accuracy: 0.1124 - val_factorized_top_k/top_10_categorical_accuracy: 0.1871 - val_factorized_top_k/top_50_categorical_accuracy: 0.3508 - val_factorized_top_k/top_100_categorical_accuracy: 0.4280 - val_loss: 7091.3076 - val_regularization_loss: 0.0000e+00 - val_total_loss: 7091.3076\n",
      "Epoch 141/300\n",
      "27/27 [==============================] - 46s 2s/step - factorized_top_k/top_1_categorical_accuracy: 0.0000e+00 - factorized_top_k/top_5_categorical_accuracy: 0.0000e+00 - factorized_top_k/top_10_categorical_accuracy: 0.0000e+00 - factorized_top_k/top_50_categorical_accuracy: 0.0000e+00 - factorized_top_k/top_100_categorical_accuracy: 0.0000e+00 - loss: 52525.3697 - regularization_loss: 0.0000e+00 - total_loss: 52525.3697\n",
      "Epoch 142/300\n",
      "27/27 [==============================] - 47s 2s/step - factorized_top_k/top_1_categorical_accuracy: 0.0000e+00 - factorized_top_k/top_5_categorical_accuracy: 0.0000e+00 - factorized_top_k/top_10_categorical_accuracy: 0.0000e+00 - factorized_top_k/top_50_categorical_accuracy: 0.0000e+00 - factorized_top_k/top_100_categorical_accuracy: 0.0000e+00 - loss: 52513.5287 - regularization_loss: 0.0000e+00 - total_loss: 52513.5287\n",
      "Epoch 143/300\n",
      "27/27 [==============================] - 47s 2s/step - factorized_top_k/top_1_categorical_accuracy: 0.0000e+00 - factorized_top_k/top_5_categorical_accuracy: 0.0000e+00 - factorized_top_k/top_10_categorical_accuracy: 0.0000e+00 - factorized_top_k/top_50_categorical_accuracy: 0.0000e+00 - factorized_top_k/top_100_categorical_accuracy: 0.0000e+00 - loss: 52501.8725 - regularization_loss: 0.0000e+00 - total_loss: 52501.8725\n",
      "Epoch 144/300\n",
      "27/27 [==============================] - 49s 2s/step - factorized_top_k/top_1_categorical_accuracy: 0.0000e+00 - factorized_top_k/top_5_categorical_accuracy: 0.0000e+00 - factorized_top_k/top_10_categorical_accuracy: 0.0000e+00 - factorized_top_k/top_50_categorical_accuracy: 0.0000e+00 - factorized_top_k/top_100_categorical_accuracy: 0.0000e+00 - loss: 52490.2884 - regularization_loss: 0.0000e+00 - total_loss: 52490.2884\n",
      "Epoch 145/300\n"
     ]
    },
    {
     "name": "stdout",
     "output_type": "stream",
     "text": [
      "27/27 [==============================] - 60s 2s/step - factorized_top_k/top_1_categorical_accuracy: 0.0000e+00 - factorized_top_k/top_5_categorical_accuracy: 0.0000e+00 - factorized_top_k/top_10_categorical_accuracy: 0.0000e+00 - factorized_top_k/top_50_categorical_accuracy: 0.0000e+00 - factorized_top_k/top_100_categorical_accuracy: 0.0000e+00 - loss: 52478.8493 - regularization_loss: 0.0000e+00 - total_loss: 52478.8493 - val_factorized_top_k/top_1_categorical_accuracy: 0.0140 - val_factorized_top_k/top_5_categorical_accuracy: 0.1126 - val_factorized_top_k/top_10_categorical_accuracy: 0.1882 - val_factorized_top_k/top_50_categorical_accuracy: 0.3523 - val_factorized_top_k/top_100_categorical_accuracy: 0.4293 - val_loss: 7080.9692 - val_regularization_loss: 0.0000e+00 - val_total_loss: 7080.9692\n",
      "Epoch 146/300\n",
      "27/27 [==============================] - 47s 2s/step - factorized_top_k/top_1_categorical_accuracy: 0.0000e+00 - factorized_top_k/top_5_categorical_accuracy: 0.0000e+00 - factorized_top_k/top_10_categorical_accuracy: 0.0000e+00 - factorized_top_k/top_50_categorical_accuracy: 0.0000e+00 - factorized_top_k/top_100_categorical_accuracy: 0.0000e+00 - loss: 52467.4813 - regularization_loss: 0.0000e+00 - total_loss: 52467.4813\n",
      "Epoch 147/300\n",
      "27/27 [==============================] - 47s 2s/step - factorized_top_k/top_1_categorical_accuracy: 0.0000e+00 - factorized_top_k/top_5_categorical_accuracy: 0.0000e+00 - factorized_top_k/top_10_categorical_accuracy: 0.0000e+00 - factorized_top_k/top_50_categorical_accuracy: 0.0000e+00 - factorized_top_k/top_100_categorical_accuracy: 0.0000e+00 - loss: 52456.2686 - regularization_loss: 0.0000e+00 - total_loss: 52456.2686\n",
      "Epoch 148/300\n",
      "27/27 [==============================] - 47s 2s/step - factorized_top_k/top_1_categorical_accuracy: 0.0000e+00 - factorized_top_k/top_5_categorical_accuracy: 0.0000e+00 - factorized_top_k/top_10_categorical_accuracy: 0.0000e+00 - factorized_top_k/top_50_categorical_accuracy: 0.0000e+00 - factorized_top_k/top_100_categorical_accuracy: 0.0000e+00 - loss: 52445.1023 - regularization_loss: 0.0000e+00 - total_loss: 52445.1023\n",
      "Epoch 149/300\n",
      "27/27 [==============================] - 46s 2s/step - factorized_top_k/top_1_categorical_accuracy: 0.0000e+00 - factorized_top_k/top_5_categorical_accuracy: 0.0000e+00 - factorized_top_k/top_10_categorical_accuracy: 0.0000e+00 - factorized_top_k/top_50_categorical_accuracy: 0.0000e+00 - factorized_top_k/top_100_categorical_accuracy: 0.0000e+00 - loss: 52434.1055 - regularization_loss: 0.0000e+00 - total_loss: 52434.1055\n",
      "Epoch 150/300\n",
      "27/27 [==============================] - 59s 2s/step - factorized_top_k/top_1_categorical_accuracy: 0.0000e+00 - factorized_top_k/top_5_categorical_accuracy: 0.0000e+00 - factorized_top_k/top_10_categorical_accuracy: 0.0000e+00 - factorized_top_k/top_50_categorical_accuracy: 0.0000e+00 - factorized_top_k/top_100_categorical_accuracy: 0.0000e+00 - loss: 52423.1247 - regularization_loss: 0.0000e+00 - total_loss: 52423.1247 - val_factorized_top_k/top_1_categorical_accuracy: 0.0142 - val_factorized_top_k/top_5_categorical_accuracy: 0.1130 - val_factorized_top_k/top_10_categorical_accuracy: 0.1891 - val_factorized_top_k/top_50_categorical_accuracy: 0.3539 - val_factorized_top_k/top_100_categorical_accuracy: 0.4309 - val_loss: 7071.4233 - val_regularization_loss: 0.0000e+00 - val_total_loss: 7071.4233\n",
      "Epoch 151/300\n",
      "27/27 [==============================] - 47s 2s/step - factorized_top_k/top_1_categorical_accuracy: 0.0000e+00 - factorized_top_k/top_5_categorical_accuracy: 0.0000e+00 - factorized_top_k/top_10_categorical_accuracy: 0.0000e+00 - factorized_top_k/top_50_categorical_accuracy: 0.0000e+00 - factorized_top_k/top_100_categorical_accuracy: 0.0000e+00 - loss: 52412.3253 - regularization_loss: 0.0000e+00 - total_loss: 52412.3253\n",
      "Epoch 152/300\n",
      "27/27 [==============================] - 47s 2s/step - factorized_top_k/top_1_categorical_accuracy: 0.0000e+00 - factorized_top_k/top_5_categorical_accuracy: 0.0000e+00 - factorized_top_k/top_10_categorical_accuracy: 0.0000e+00 - factorized_top_k/top_50_categorical_accuracy: 0.0000e+00 - factorized_top_k/top_100_categorical_accuracy: 0.0000e+00 - loss: 52401.5304 - regularization_loss: 0.0000e+00 - total_loss: 52401.5304\n",
      "Epoch 153/300\n",
      "27/27 [==============================] - 47s 2s/step - factorized_top_k/top_1_categorical_accuracy: 0.0000e+00 - factorized_top_k/top_5_categorical_accuracy: 0.0000e+00 - factorized_top_k/top_10_categorical_accuracy: 0.0000e+00 - factorized_top_k/top_50_categorical_accuracy: 0.0000e+00 - factorized_top_k/top_100_categorical_accuracy: 0.0000e+00 - loss: 52390.8927 - regularization_loss: 0.0000e+00 - total_loss: 52390.8927\n",
      "Epoch 154/300\n",
      "27/27 [==============================] - 47s 2s/step - factorized_top_k/top_1_categorical_accuracy: 0.0000e+00 - factorized_top_k/top_5_categorical_accuracy: 0.0000e+00 - factorized_top_k/top_10_categorical_accuracy: 0.0000e+00 - factorized_top_k/top_50_categorical_accuracy: 0.0000e+00 - factorized_top_k/top_100_categorical_accuracy: 0.0000e+00 - loss: 52380.2866 - regularization_loss: 0.0000e+00 - total_loss: 52380.2866\n",
      "Epoch 155/300\n",
      "27/27 [==============================] - 60s 2s/step - factorized_top_k/top_1_categorical_accuracy: 0.0000e+00 - factorized_top_k/top_5_categorical_accuracy: 0.0000e+00 - factorized_top_k/top_10_categorical_accuracy: 0.0000e+00 - factorized_top_k/top_50_categorical_accuracy: 0.0000e+00 - factorized_top_k/top_100_categorical_accuracy: 0.0000e+00 - loss: 52369.7903 - regularization_loss: 0.0000e+00 - total_loss: 52369.7903 - val_factorized_top_k/top_1_categorical_accuracy: 0.0141 - val_factorized_top_k/top_5_categorical_accuracy: 0.1136 - val_factorized_top_k/top_10_categorical_accuracy: 0.1899 - val_factorized_top_k/top_50_categorical_accuracy: 0.3551 - val_factorized_top_k/top_100_categorical_accuracy: 0.4321 - val_loss: 7061.8828 - val_regularization_loss: 0.0000e+00 - val_total_loss: 7061.8828\n",
      "Epoch 156/300\n",
      "27/27 [==============================] - 47s 2s/step - factorized_top_k/top_1_categorical_accuracy: 0.0000e+00 - factorized_top_k/top_5_categorical_accuracy: 0.0000e+00 - factorized_top_k/top_10_categorical_accuracy: 0.0000e+00 - factorized_top_k/top_50_categorical_accuracy: 0.0000e+00 - factorized_top_k/top_100_categorical_accuracy: 0.0000e+00 - loss: 52359.3723 - regularization_loss: 0.0000e+00 - total_loss: 52359.3723\n",
      "Epoch 157/300\n",
      "27/27 [==============================] - 47s 2s/step - factorized_top_k/top_1_categorical_accuracy: 0.0000e+00 - factorized_top_k/top_5_categorical_accuracy: 0.0000e+00 - factorized_top_k/top_10_categorical_accuracy: 0.0000e+00 - factorized_top_k/top_50_categorical_accuracy: 0.0000e+00 - factorized_top_k/top_100_categorical_accuracy: 0.0000e+00 - loss: 52349.0098 - regularization_loss: 0.0000e+00 - total_loss: 52349.0098\n",
      "Epoch 158/300\n",
      "27/27 [==============================] - 46s 2s/step - factorized_top_k/top_1_categorical_accuracy: 0.0000e+00 - factorized_top_k/top_5_categorical_accuracy: 0.0000e+00 - factorized_top_k/top_10_categorical_accuracy: 0.0000e+00 - factorized_top_k/top_50_categorical_accuracy: 0.0000e+00 - factorized_top_k/top_100_categorical_accuracy: 0.0000e+00 - loss: 52338.7535 - regularization_loss: 0.0000e+00 - total_loss: 52338.7535\n",
      "Epoch 159/300\n",
      "27/27 [==============================] - 46s 2s/step - factorized_top_k/top_1_categorical_accuracy: 0.0000e+00 - factorized_top_k/top_5_categorical_accuracy: 0.0000e+00 - factorized_top_k/top_10_categorical_accuracy: 0.0000e+00 - factorized_top_k/top_50_categorical_accuracy: 0.0000e+00 - factorized_top_k/top_100_categorical_accuracy: 0.0000e+00 - loss: 52328.5166 - regularization_loss: 0.0000e+00 - total_loss: 52328.5166\n",
      "Epoch 160/300\n",
      "27/27 [==============================] - 59s 2s/step - factorized_top_k/top_1_categorical_accuracy: 0.0000e+00 - factorized_top_k/top_5_categorical_accuracy: 0.0000e+00 - factorized_top_k/top_10_categorical_accuracy: 0.0000e+00 - factorized_top_k/top_50_categorical_accuracy: 0.0000e+00 - factorized_top_k/top_100_categorical_accuracy: 0.0000e+00 - loss: 52318.3849 - regularization_loss: 0.0000e+00 - total_loss: 52318.3849 - val_factorized_top_k/top_1_categorical_accuracy: 0.0141 - val_factorized_top_k/top_5_categorical_accuracy: 0.1139 - val_factorized_top_k/top_10_categorical_accuracy: 0.1908 - val_factorized_top_k/top_50_categorical_accuracy: 0.3571 - val_factorized_top_k/top_100_categorical_accuracy: 0.4330 - val_loss: 7052.9438 - val_regularization_loss: 0.0000e+00 - val_total_loss: 7052.9438\n"
     ]
    },
    {
     "name": "stdout",
     "output_type": "stream",
     "text": [
      "Epoch 161/300\n",
      "27/27 [==============================] - 46s 2s/step - factorized_top_k/top_1_categorical_accuracy: 0.0000e+00 - factorized_top_k/top_5_categorical_accuracy: 0.0000e+00 - factorized_top_k/top_10_categorical_accuracy: 0.0000e+00 - factorized_top_k/top_50_categorical_accuracy: 0.0000e+00 - factorized_top_k/top_100_categorical_accuracy: 0.0000e+00 - loss: 52308.2806 - regularization_loss: 0.0000e+00 - total_loss: 52308.2806\n",
      "Epoch 162/300\n",
      "27/27 [==============================] - 46s 2s/step - factorized_top_k/top_1_categorical_accuracy: 0.0000e+00 - factorized_top_k/top_5_categorical_accuracy: 0.0000e+00 - factorized_top_k/top_10_categorical_accuracy: 0.0000e+00 - factorized_top_k/top_50_categorical_accuracy: 0.0000e+00 - factorized_top_k/top_100_categorical_accuracy: 0.0000e+00 - loss: 52298.2511 - regularization_loss: 0.0000e+00 - total_loss: 52298.2511\n",
      "Epoch 163/300\n",
      "27/27 [==============================] - 47s 2s/step - factorized_top_k/top_1_categorical_accuracy: 0.0000e+00 - factorized_top_k/top_5_categorical_accuracy: 0.0000e+00 - factorized_top_k/top_10_categorical_accuracy: 0.0000e+00 - factorized_top_k/top_50_categorical_accuracy: 0.0000e+00 - factorized_top_k/top_100_categorical_accuracy: 0.0000e+00 - loss: 52288.2759 - regularization_loss: 0.0000e+00 - total_loss: 52288.2759\n",
      "Epoch 164/300\n",
      "27/27 [==============================] - 46s 2s/step - factorized_top_k/top_1_categorical_accuracy: 0.0000e+00 - factorized_top_k/top_5_categorical_accuracy: 0.0000e+00 - factorized_top_k/top_10_categorical_accuracy: 0.0000e+00 - factorized_top_k/top_50_categorical_accuracy: 0.0000e+00 - factorized_top_k/top_100_categorical_accuracy: 0.0000e+00 - loss: 52278.3336 - regularization_loss: 0.0000e+00 - total_loss: 52278.3336\n",
      "Epoch 165/300\n",
      "27/27 [==============================] - 59s 2s/step - factorized_top_k/top_1_categorical_accuracy: 0.0000e+00 - factorized_top_k/top_5_categorical_accuracy: 0.0000e+00 - factorized_top_k/top_10_categorical_accuracy: 0.0000e+00 - factorized_top_k/top_50_categorical_accuracy: 0.0000e+00 - factorized_top_k/top_100_categorical_accuracy: 0.0000e+00 - loss: 52268.4724 - regularization_loss: 0.0000e+00 - total_loss: 52268.4724 - val_factorized_top_k/top_1_categorical_accuracy: 0.0139 - val_factorized_top_k/top_5_categorical_accuracy: 0.1143 - val_factorized_top_k/top_10_categorical_accuracy: 0.1918 - val_factorized_top_k/top_50_categorical_accuracy: 0.3582 - val_factorized_top_k/top_100_categorical_accuracy: 0.4341 - val_loss: 7043.9487 - val_regularization_loss: 0.0000e+00 - val_total_loss: 7043.9487\n",
      "Epoch 166/300\n",
      "27/27 [==============================] - 47s 2s/step - factorized_top_k/top_1_categorical_accuracy: 0.0000e+00 - factorized_top_k/top_5_categorical_accuracy: 0.0000e+00 - factorized_top_k/top_10_categorical_accuracy: 0.0000e+00 - factorized_top_k/top_50_categorical_accuracy: 0.0000e+00 - factorized_top_k/top_100_categorical_accuracy: 0.0000e+00 - loss: 52258.6066 - regularization_loss: 0.0000e+00 - total_loss: 52258.6066\n",
      "Epoch 167/300\n",
      "27/27 [==============================] - 47s 2s/step - factorized_top_k/top_1_categorical_accuracy: 0.0000e+00 - factorized_top_k/top_5_categorical_accuracy: 0.0000e+00 - factorized_top_k/top_10_categorical_accuracy: 0.0000e+00 - factorized_top_k/top_50_categorical_accuracy: 0.0000e+00 - factorized_top_k/top_100_categorical_accuracy: 0.0000e+00 - loss: 52248.8284 - regularization_loss: 0.0000e+00 - total_loss: 52248.8284\n",
      "Epoch 168/300\n",
      "27/27 [==============================] - 47s 2s/step - factorized_top_k/top_1_categorical_accuracy: 0.0000e+00 - factorized_top_k/top_5_categorical_accuracy: 0.0000e+00 - factorized_top_k/top_10_categorical_accuracy: 0.0000e+00 - factorized_top_k/top_50_categorical_accuracy: 0.0000e+00 - factorized_top_k/top_100_categorical_accuracy: 0.0000e+00 - loss: 52239.0374 - regularization_loss: 0.0000e+00 - total_loss: 52239.0374\n",
      "Epoch 169/300\n",
      "27/27 [==============================] - 47s 2s/step - factorized_top_k/top_1_categorical_accuracy: 0.0000e+00 - factorized_top_k/top_5_categorical_accuracy: 0.0000e+00 - factorized_top_k/top_10_categorical_accuracy: 0.0000e+00 - factorized_top_k/top_50_categorical_accuracy: 0.0000e+00 - factorized_top_k/top_100_categorical_accuracy: 0.0000e+00 - loss: 52229.3172 - regularization_loss: 0.0000e+00 - total_loss: 52229.3172\n",
      "Epoch 170/300\n",
      "27/27 [==============================] - 59s 2s/step - factorized_top_k/top_1_categorical_accuracy: 0.0000e+00 - factorized_top_k/top_5_categorical_accuracy: 0.0000e+00 - factorized_top_k/top_10_categorical_accuracy: 0.0000e+00 - factorized_top_k/top_50_categorical_accuracy: 0.0000e+00 - factorized_top_k/top_100_categorical_accuracy: 0.0000e+00 - loss: 52219.5961 - regularization_loss: 0.0000e+00 - total_loss: 52219.5961 - val_factorized_top_k/top_1_categorical_accuracy: 0.0139 - val_factorized_top_k/top_5_categorical_accuracy: 0.1145 - val_factorized_top_k/top_10_categorical_accuracy: 0.1927 - val_factorized_top_k/top_50_categorical_accuracy: 0.3593 - val_factorized_top_k/top_100_categorical_accuracy: 0.4348 - val_loss: 7035.3701 - val_regularization_loss: 0.0000e+00 - val_total_loss: 7035.3701\n",
      "Epoch 171/300\n",
      "27/27 [==============================] - 46s 2s/step - factorized_top_k/top_1_categorical_accuracy: 0.0000e+00 - factorized_top_k/top_5_categorical_accuracy: 0.0000e+00 - factorized_top_k/top_10_categorical_accuracy: 0.0000e+00 - factorized_top_k/top_50_categorical_accuracy: 0.0000e+00 - factorized_top_k/top_100_categorical_accuracy: 0.0000e+00 - loss: 52209.9141 - regularization_loss: 0.0000e+00 - total_loss: 52209.9141\n",
      "Epoch 172/300\n",
      "27/27 [==============================] - 46s 2s/step - factorized_top_k/top_1_categorical_accuracy: 0.0000e+00 - factorized_top_k/top_5_categorical_accuracy: 0.0000e+00 - factorized_top_k/top_10_categorical_accuracy: 0.0000e+00 - factorized_top_k/top_50_categorical_accuracy: 0.0000e+00 - factorized_top_k/top_100_categorical_accuracy: 0.0000e+00 - loss: 52200.2457 - regularization_loss: 0.0000e+00 - total_loss: 52200.2457\n",
      "Epoch 173/300\n",
      "27/27 [==============================] - 47s 2s/step - factorized_top_k/top_1_categorical_accuracy: 0.0000e+00 - factorized_top_k/top_5_categorical_accuracy: 0.0000e+00 - factorized_top_k/top_10_categorical_accuracy: 0.0000e+00 - factorized_top_k/top_50_categorical_accuracy: 0.0000e+00 - factorized_top_k/top_100_categorical_accuracy: 0.0000e+00 - loss: 52190.5869 - regularization_loss: 0.0000e+00 - total_loss: 52190.5869\n",
      "Epoch 174/300\n",
      "27/27 [==============================] - 47s 2s/step - factorized_top_k/top_1_categorical_accuracy: 0.0000e+00 - factorized_top_k/top_5_categorical_accuracy: 0.0000e+00 - factorized_top_k/top_10_categorical_accuracy: 0.0000e+00 - factorized_top_k/top_50_categorical_accuracy: 0.0000e+00 - factorized_top_k/top_100_categorical_accuracy: 0.0000e+00 - loss: 52180.9421 - regularization_loss: 0.0000e+00 - total_loss: 52180.9421\n",
      "Epoch 175/300\n",
      "27/27 [==============================] - 59s 2s/step - factorized_top_k/top_1_categorical_accuracy: 0.0000e+00 - factorized_top_k/top_5_categorical_accuracy: 0.0000e+00 - factorized_top_k/top_10_categorical_accuracy: 0.0000e+00 - factorized_top_k/top_50_categorical_accuracy: 0.0000e+00 - factorized_top_k/top_100_categorical_accuracy: 0.0000e+00 - loss: 52171.3033 - regularization_loss: 0.0000e+00 - total_loss: 52171.3033 - val_factorized_top_k/top_1_categorical_accuracy: 0.0138 - val_factorized_top_k/top_5_categorical_accuracy: 0.1150 - val_factorized_top_k/top_10_categorical_accuracy: 0.1937 - val_factorized_top_k/top_50_categorical_accuracy: 0.3608 - val_factorized_top_k/top_100_categorical_accuracy: 0.4357 - val_loss: 7026.5503 - val_regularization_loss: 0.0000e+00 - val_total_loss: 7026.5503\n",
      "Epoch 176/300\n",
      "27/27 [==============================] - 49s 2s/step - factorized_top_k/top_1_categorical_accuracy: 0.0000e+00 - factorized_top_k/top_5_categorical_accuracy: 0.0000e+00 - factorized_top_k/top_10_categorical_accuracy: 0.0000e+00 - factorized_top_k/top_50_categorical_accuracy: 0.0000e+00 - factorized_top_k/top_100_categorical_accuracy: 0.0000e+00 - loss: 52161.6503 - regularization_loss: 0.0000e+00 - total_loss: 52161.6503\n",
      "Epoch 177/300\n"
     ]
    },
    {
     "name": "stdout",
     "output_type": "stream",
     "text": [
      "27/27 [==============================] - 47s 2s/step - factorized_top_k/top_1_categorical_accuracy: 0.0000e+00 - factorized_top_k/top_5_categorical_accuracy: 0.0000e+00 - factorized_top_k/top_10_categorical_accuracy: 0.0000e+00 - factorized_top_k/top_50_categorical_accuracy: 0.0000e+00 - factorized_top_k/top_100_categorical_accuracy: 0.0000e+00 - loss: 52152.0243 - regularization_loss: 0.0000e+00 - total_loss: 52152.0243\n",
      "Epoch 178/300\n",
      "27/27 [==============================] - 47s 2s/step - factorized_top_k/top_1_categorical_accuracy: 0.0000e+00 - factorized_top_k/top_5_categorical_accuracy: 0.0000e+00 - factorized_top_k/top_10_categorical_accuracy: 0.0000e+00 - factorized_top_k/top_50_categorical_accuracy: 0.0000e+00 - factorized_top_k/top_100_categorical_accuracy: 0.0000e+00 - loss: 52142.3456 - regularization_loss: 0.0000e+00 - total_loss: 52142.3456\n",
      "Epoch 179/300\n",
      "27/27 [==============================] - 47s 2s/step - factorized_top_k/top_1_categorical_accuracy: 0.0000e+00 - factorized_top_k/top_5_categorical_accuracy: 0.0000e+00 - factorized_top_k/top_10_categorical_accuracy: 0.0000e+00 - factorized_top_k/top_50_categorical_accuracy: 0.0000e+00 - factorized_top_k/top_100_categorical_accuracy: 0.0000e+00 - loss: 52132.7167 - regularization_loss: 0.0000e+00 - total_loss: 52132.7167\n",
      "Epoch 180/300\n",
      "27/27 [==============================] - 60s 2s/step - factorized_top_k/top_1_categorical_accuracy: 0.0000e+00 - factorized_top_k/top_5_categorical_accuracy: 0.0000e+00 - factorized_top_k/top_10_categorical_accuracy: 0.0000e+00 - factorized_top_k/top_50_categorical_accuracy: 0.0000e+00 - factorized_top_k/top_100_categorical_accuracy: 0.0000e+00 - loss: 52122.9940 - regularization_loss: 0.0000e+00 - total_loss: 52122.9940 - val_factorized_top_k/top_1_categorical_accuracy: 0.0139 - val_factorized_top_k/top_5_categorical_accuracy: 0.1154 - val_factorized_top_k/top_10_categorical_accuracy: 0.1943 - val_factorized_top_k/top_50_categorical_accuracy: 0.3617 - val_factorized_top_k/top_100_categorical_accuracy: 0.4364 - val_loss: 7017.9551 - val_regularization_loss: 0.0000e+00 - val_total_loss: 7017.9551\n",
      "Epoch 181/300\n",
      "27/27 [==============================] - 47s 2s/step - factorized_top_k/top_1_categorical_accuracy: 0.0000e+00 - factorized_top_k/top_5_categorical_accuracy: 0.0000e+00 - factorized_top_k/top_10_categorical_accuracy: 0.0000e+00 - factorized_top_k/top_50_categorical_accuracy: 0.0000e+00 - factorized_top_k/top_100_categorical_accuracy: 0.0000e+00 - loss: 52113.3336 - regularization_loss: 0.0000e+00 - total_loss: 52113.3336\n",
      "Epoch 182/300\n",
      "27/27 [==============================] - 47s 2s/step - factorized_top_k/top_1_categorical_accuracy: 0.0000e+00 - factorized_top_k/top_5_categorical_accuracy: 0.0000e+00 - factorized_top_k/top_10_categorical_accuracy: 0.0000e+00 - factorized_top_k/top_50_categorical_accuracy: 0.0000e+00 - factorized_top_k/top_100_categorical_accuracy: 0.0000e+00 - loss: 52103.5628 - regularization_loss: 0.0000e+00 - total_loss: 52103.5628\n",
      "Epoch 183/300\n",
      "27/27 [==============================] - 47s 2s/step - factorized_top_k/top_1_categorical_accuracy: 0.0000e+00 - factorized_top_k/top_5_categorical_accuracy: 0.0000e+00 - factorized_top_k/top_10_categorical_accuracy: 0.0000e+00 - factorized_top_k/top_50_categorical_accuracy: 0.0000e+00 - factorized_top_k/top_100_categorical_accuracy: 0.0000e+00 - loss: 52093.8415 - regularization_loss: 0.0000e+00 - total_loss: 52093.8415\n",
      "Epoch 184/300\n",
      "27/27 [==============================] - 47s 2s/step - factorized_top_k/top_1_categorical_accuracy: 0.0000e+00 - factorized_top_k/top_5_categorical_accuracy: 0.0000e+00 - factorized_top_k/top_10_categorical_accuracy: 0.0000e+00 - factorized_top_k/top_50_categorical_accuracy: 0.0000e+00 - factorized_top_k/top_100_categorical_accuracy: 0.0000e+00 - loss: 52084.0213 - regularization_loss: 0.0000e+00 - total_loss: 52084.0213\n",
      "Epoch 185/300\n",
      "27/27 [==============================] - 60s 2s/step - factorized_top_k/top_1_categorical_accuracy: 0.0000e+00 - factorized_top_k/top_5_categorical_accuracy: 0.0000e+00 - factorized_top_k/top_10_categorical_accuracy: 0.0000e+00 - factorized_top_k/top_50_categorical_accuracy: 0.0000e+00 - factorized_top_k/top_100_categorical_accuracy: 0.0000e+00 - loss: 52074.2203 - regularization_loss: 0.0000e+00 - total_loss: 52074.2203 - val_factorized_top_k/top_1_categorical_accuracy: 0.0139 - val_factorized_top_k/top_5_categorical_accuracy: 0.1152 - val_factorized_top_k/top_10_categorical_accuracy: 0.1955 - val_factorized_top_k/top_50_categorical_accuracy: 0.3631 - val_factorized_top_k/top_100_categorical_accuracy: 0.4380 - val_loss: 7008.9277 - val_regularization_loss: 0.0000e+00 - val_total_loss: 7008.9277\n",
      "Epoch 186/300\n",
      "27/27 [==============================] - 47s 2s/step - factorized_top_k/top_1_categorical_accuracy: 0.0000e+00 - factorized_top_k/top_5_categorical_accuracy: 0.0000e+00 - factorized_top_k/top_10_categorical_accuracy: 0.0000e+00 - factorized_top_k/top_50_categorical_accuracy: 0.0000e+00 - factorized_top_k/top_100_categorical_accuracy: 0.0000e+00 - loss: 52064.3401 - regularization_loss: 0.0000e+00 - total_loss: 52064.3401\n",
      "Epoch 187/300\n",
      "27/27 [==============================] - 47s 2s/step - factorized_top_k/top_1_categorical_accuracy: 0.0000e+00 - factorized_top_k/top_5_categorical_accuracy: 0.0000e+00 - factorized_top_k/top_10_categorical_accuracy: 0.0000e+00 - factorized_top_k/top_50_categorical_accuracy: 0.0000e+00 - factorized_top_k/top_100_categorical_accuracy: 0.0000e+00 - loss: 52054.4489 - regularization_loss: 0.0000e+00 - total_loss: 52054.4489\n",
      "Epoch 188/300\n",
      "27/27 [==============================] - 47s 2s/step - factorized_top_k/top_1_categorical_accuracy: 0.0000e+00 - factorized_top_k/top_5_categorical_accuracy: 0.0000e+00 - factorized_top_k/top_10_categorical_accuracy: 0.0000e+00 - factorized_top_k/top_50_categorical_accuracy: 0.0000e+00 - factorized_top_k/top_100_categorical_accuracy: 0.0000e+00 - loss: 52044.4920 - regularization_loss: 0.0000e+00 - total_loss: 52044.4920\n",
      "Epoch 189/300\n",
      "27/27 [==============================] - 47s 2s/step - factorized_top_k/top_1_categorical_accuracy: 0.0000e+00 - factorized_top_k/top_5_categorical_accuracy: 0.0000e+00 - factorized_top_k/top_10_categorical_accuracy: 0.0000e+00 - factorized_top_k/top_50_categorical_accuracy: 0.0000e+00 - factorized_top_k/top_100_categorical_accuracy: 0.0000e+00 - loss: 52034.5064 - regularization_loss: 0.0000e+00 - total_loss: 52034.5064\n",
      "Epoch 190/300\n",
      "27/27 [==============================] - 59s 2s/step - factorized_top_k/top_1_categorical_accuracy: 0.0000e+00 - factorized_top_k/top_5_categorical_accuracy: 0.0000e+00 - factorized_top_k/top_10_categorical_accuracy: 0.0000e+00 - factorized_top_k/top_50_categorical_accuracy: 0.0000e+00 - factorized_top_k/top_100_categorical_accuracy: 0.0000e+00 - loss: 52024.4523 - regularization_loss: 0.0000e+00 - total_loss: 52024.4523 - val_factorized_top_k/top_1_categorical_accuracy: 0.0138 - val_factorized_top_k/top_5_categorical_accuracy: 0.1157 - val_factorized_top_k/top_10_categorical_accuracy: 0.1961 - val_factorized_top_k/top_50_categorical_accuracy: 0.3638 - val_factorized_top_k/top_100_categorical_accuracy: 0.4393 - val_loss: 6999.9316 - val_regularization_loss: 0.0000e+00 - val_total_loss: 6999.9316\n",
      "Epoch 191/300\n",
      "27/27 [==============================] - 47s 2s/step - factorized_top_k/top_1_categorical_accuracy: 0.0000e+00 - factorized_top_k/top_5_categorical_accuracy: 0.0000e+00 - factorized_top_k/top_10_categorical_accuracy: 0.0000e+00 - factorized_top_k/top_50_categorical_accuracy: 0.0000e+00 - factorized_top_k/top_100_categorical_accuracy: 0.0000e+00 - loss: 52014.3814 - regularization_loss: 0.0000e+00 - total_loss: 52014.3814\n",
      "Epoch 192/300\n",
      "27/27 [==============================] - 46s 2s/step - factorized_top_k/top_1_categorical_accuracy: 0.0000e+00 - factorized_top_k/top_5_categorical_accuracy: 0.0000e+00 - factorized_top_k/top_10_categorical_accuracy: 0.0000e+00 - factorized_top_k/top_50_categorical_accuracy: 0.0000e+00 - factorized_top_k/top_100_categorical_accuracy: 0.0000e+00 - loss: 52004.2182 - regularization_loss: 0.0000e+00 - total_loss: 52004.2182\n",
      "Epoch 193/300\n"
     ]
    },
    {
     "name": "stdout",
     "output_type": "stream",
     "text": [
      "27/27 [==============================] - 46s 2s/step - factorized_top_k/top_1_categorical_accuracy: 0.0000e+00 - factorized_top_k/top_5_categorical_accuracy: 0.0000e+00 - factorized_top_k/top_10_categorical_accuracy: 0.0000e+00 - factorized_top_k/top_50_categorical_accuracy: 0.0000e+00 - factorized_top_k/top_100_categorical_accuracy: 0.0000e+00 - loss: 51994.0695 - regularization_loss: 0.0000e+00 - total_loss: 51994.0695\n",
      "Epoch 194/300\n",
      "27/27 [==============================] - 46s 2s/step - factorized_top_k/top_1_categorical_accuracy: 0.0000e+00 - factorized_top_k/top_5_categorical_accuracy: 0.0000e+00 - factorized_top_k/top_10_categorical_accuracy: 0.0000e+00 - factorized_top_k/top_50_categorical_accuracy: 0.0000e+00 - factorized_top_k/top_100_categorical_accuracy: 0.0000e+00 - loss: 51983.7934 - regularization_loss: 0.0000e+00 - total_loss: 51983.7934\n",
      "Epoch 195/300\n",
      "27/27 [==============================] - 60s 2s/step - factorized_top_k/top_1_categorical_accuracy: 0.0000e+00 - factorized_top_k/top_5_categorical_accuracy: 0.0000e+00 - factorized_top_k/top_10_categorical_accuracy: 0.0000e+00 - factorized_top_k/top_50_categorical_accuracy: 0.0000e+00 - factorized_top_k/top_100_categorical_accuracy: 0.0000e+00 - loss: 51973.5639 - regularization_loss: 0.0000e+00 - total_loss: 51973.5639 - val_factorized_top_k/top_1_categorical_accuracy: 0.0139 - val_factorized_top_k/top_5_categorical_accuracy: 0.1161 - val_factorized_top_k/top_10_categorical_accuracy: 0.1976 - val_factorized_top_k/top_50_categorical_accuracy: 0.3654 - val_factorized_top_k/top_100_categorical_accuracy: 0.4407 - val_loss: 6990.4287 - val_regularization_loss: 0.0000e+00 - val_total_loss: 6990.4287\n",
      "Epoch 196/300\n",
      "27/27 [==============================] - 47s 2s/step - factorized_top_k/top_1_categorical_accuracy: 0.0000e+00 - factorized_top_k/top_5_categorical_accuracy: 0.0000e+00 - factorized_top_k/top_10_categorical_accuracy: 0.0000e+00 - factorized_top_k/top_50_categorical_accuracy: 0.0000e+00 - factorized_top_k/top_100_categorical_accuracy: 0.0000e+00 - loss: 51963.1867 - regularization_loss: 0.0000e+00 - total_loss: 51963.1867\n",
      "Epoch 197/300\n",
      "27/27 [==============================] - 46s 2s/step - factorized_top_k/top_1_categorical_accuracy: 0.0000e+00 - factorized_top_k/top_5_categorical_accuracy: 0.0000e+00 - factorized_top_k/top_10_categorical_accuracy: 0.0000e+00 - factorized_top_k/top_50_categorical_accuracy: 0.0000e+00 - factorized_top_k/top_100_categorical_accuracy: 0.0000e+00 - loss: 51952.8655 - regularization_loss: 0.0000e+00 - total_loss: 51952.8655\n",
      "Epoch 198/300\n",
      "27/27 [==============================] - 46s 2s/step - factorized_top_k/top_1_categorical_accuracy: 0.0000e+00 - factorized_top_k/top_5_categorical_accuracy: 0.0000e+00 - factorized_top_k/top_10_categorical_accuracy: 0.0000e+00 - factorized_top_k/top_50_categorical_accuracy: 0.0000e+00 - factorized_top_k/top_100_categorical_accuracy: 0.0000e+00 - loss: 51942.4058 - regularization_loss: 0.0000e+00 - total_loss: 51942.4058\n",
      "Epoch 199/300\n",
      "27/27 [==============================] - 46s 2s/step - factorized_top_k/top_1_categorical_accuracy: 0.0000e+00 - factorized_top_k/top_5_categorical_accuracy: 0.0000e+00 - factorized_top_k/top_10_categorical_accuracy: 0.0000e+00 - factorized_top_k/top_50_categorical_accuracy: 0.0000e+00 - factorized_top_k/top_100_categorical_accuracy: 0.0000e+00 - loss: 51931.9964 - regularization_loss: 0.0000e+00 - total_loss: 51931.9964\n",
      "Epoch 200/300\n",
      "27/27 [==============================] - 60s 2s/step - factorized_top_k/top_1_categorical_accuracy: 0.0000e+00 - factorized_top_k/top_5_categorical_accuracy: 0.0000e+00 - factorized_top_k/top_10_categorical_accuracy: 0.0000e+00 - factorized_top_k/top_50_categorical_accuracy: 0.0000e+00 - factorized_top_k/top_100_categorical_accuracy: 0.0000e+00 - loss: 51921.4785 - regularization_loss: 0.0000e+00 - total_loss: 51921.4785 - val_factorized_top_k/top_1_categorical_accuracy: 0.0138 - val_factorized_top_k/top_5_categorical_accuracy: 0.1164 - val_factorized_top_k/top_10_categorical_accuracy: 0.1984 - val_factorized_top_k/top_50_categorical_accuracy: 0.3665 - val_factorized_top_k/top_100_categorical_accuracy: 0.4418 - val_loss: 6980.9409 - val_regularization_loss: 0.0000e+00 - val_total_loss: 6980.9409\n",
      "Epoch 201/300\n",
      "27/27 [==============================] - 47s 2s/step - factorized_top_k/top_1_categorical_accuracy: 0.0000e+00 - factorized_top_k/top_5_categorical_accuracy: 0.0000e+00 - factorized_top_k/top_10_categorical_accuracy: 0.0000e+00 - factorized_top_k/top_50_categorical_accuracy: 0.0000e+00 - factorized_top_k/top_100_categorical_accuracy: 0.0000e+00 - loss: 51910.9902 - regularization_loss: 0.0000e+00 - total_loss: 51910.9902\n",
      "Epoch 202/300\n",
      "27/27 [==============================] - 47s 2s/step - factorized_top_k/top_1_categorical_accuracy: 0.0000e+00 - factorized_top_k/top_5_categorical_accuracy: 0.0000e+00 - factorized_top_k/top_10_categorical_accuracy: 0.0000e+00 - factorized_top_k/top_50_categorical_accuracy: 0.0000e+00 - factorized_top_k/top_100_categorical_accuracy: 0.0000e+00 - loss: 51900.4355 - regularization_loss: 0.0000e+00 - total_loss: 51900.4355\n",
      "Epoch 203/300\n",
      "27/27 [==============================] - 47s 2s/step - factorized_top_k/top_1_categorical_accuracy: 0.0000e+00 - factorized_top_k/top_5_categorical_accuracy: 0.0000e+00 - factorized_top_k/top_10_categorical_accuracy: 0.0000e+00 - factorized_top_k/top_50_categorical_accuracy: 0.0000e+00 - factorized_top_k/top_100_categorical_accuracy: 0.0000e+00 - loss: 51889.8862 - regularization_loss: 0.0000e+00 - total_loss: 51889.8862\n",
      "Epoch 204/300\n",
      "27/27 [==============================] - 47s 2s/step - factorized_top_k/top_1_categorical_accuracy: 0.0000e+00 - factorized_top_k/top_5_categorical_accuracy: 0.0000e+00 - factorized_top_k/top_10_categorical_accuracy: 0.0000e+00 - factorized_top_k/top_50_categorical_accuracy: 0.0000e+00 - factorized_top_k/top_100_categorical_accuracy: 0.0000e+00 - loss: 51879.2980 - regularization_loss: 0.0000e+00 - total_loss: 51879.2980\n",
      "Epoch 205/300\n",
      "27/27 [==============================] - 59s 2s/step - factorized_top_k/top_1_categorical_accuracy: 0.0000e+00 - factorized_top_k/top_5_categorical_accuracy: 0.0000e+00 - factorized_top_k/top_10_categorical_accuracy: 0.0000e+00 - factorized_top_k/top_50_categorical_accuracy: 0.0000e+00 - factorized_top_k/top_100_categorical_accuracy: 0.0000e+00 - loss: 51868.7182 - regularization_loss: 0.0000e+00 - total_loss: 51868.7182 - val_factorized_top_k/top_1_categorical_accuracy: 0.0137 - val_factorized_top_k/top_5_categorical_accuracy: 0.1171 - val_factorized_top_k/top_10_categorical_accuracy: 0.1990 - val_factorized_top_k/top_50_categorical_accuracy: 0.3684 - val_factorized_top_k/top_100_categorical_accuracy: 0.4430 - val_loss: 6971.1187 - val_regularization_loss: 0.0000e+00 - val_total_loss: 6971.1187\n",
      "Epoch 206/300\n",
      "27/27 [==============================] - 47s 2s/step - factorized_top_k/top_1_categorical_accuracy: 0.0000e+00 - factorized_top_k/top_5_categorical_accuracy: 0.0000e+00 - factorized_top_k/top_10_categorical_accuracy: 0.0000e+00 - factorized_top_k/top_50_categorical_accuracy: 0.0000e+00 - factorized_top_k/top_100_categorical_accuracy: 0.0000e+00 - loss: 51858.1044 - regularization_loss: 0.0000e+00 - total_loss: 51858.1044\n",
      "Epoch 207/300\n",
      "27/27 [==============================] - 46s 2s/step - factorized_top_k/top_1_categorical_accuracy: 0.0000e+00 - factorized_top_k/top_5_categorical_accuracy: 0.0000e+00 - factorized_top_k/top_10_categorical_accuracy: 0.0000e+00 - factorized_top_k/top_50_categorical_accuracy: 0.0000e+00 - factorized_top_k/top_100_categorical_accuracy: 0.0000e+00 - loss: 51847.5273 - regularization_loss: 0.0000e+00 - total_loss: 51847.5273\n",
      "Epoch 208/300\n",
      "27/27 [==============================] - 46s 2s/step - factorized_top_k/top_1_categorical_accuracy: 0.0000e+00 - factorized_top_k/top_5_categorical_accuracy: 0.0000e+00 - factorized_top_k/top_10_categorical_accuracy: 0.0000e+00 - factorized_top_k/top_50_categorical_accuracy: 0.0000e+00 - factorized_top_k/top_100_categorical_accuracy: 0.0000e+00 - loss: 51836.9022 - regularization_loss: 0.0000e+00 - total_loss: 51836.9022\n",
      "Epoch 209/300\n"
     ]
    },
    {
     "name": "stdout",
     "output_type": "stream",
     "text": [
      "27/27 [==============================] - 46s 2s/step - factorized_top_k/top_1_categorical_accuracy: 0.0000e+00 - factorized_top_k/top_5_categorical_accuracy: 0.0000e+00 - factorized_top_k/top_10_categorical_accuracy: 0.0000e+00 - factorized_top_k/top_50_categorical_accuracy: 0.0000e+00 - factorized_top_k/top_100_categorical_accuracy: 0.0000e+00 - loss: 51826.3627 - regularization_loss: 0.0000e+00 - total_loss: 51826.3627\n",
      "Epoch 210/300\n",
      "27/27 [==============================] - 60s 2s/step - factorized_top_k/top_1_categorical_accuracy: 0.0000e+00 - factorized_top_k/top_5_categorical_accuracy: 0.0000e+00 - factorized_top_k/top_10_categorical_accuracy: 0.0000e+00 - factorized_top_k/top_50_categorical_accuracy: 0.0000e+00 - factorized_top_k/top_100_categorical_accuracy: 0.0000e+00 - loss: 51815.7429 - regularization_loss: 0.0000e+00 - total_loss: 51815.7429 - val_factorized_top_k/top_1_categorical_accuracy: 0.0137 - val_factorized_top_k/top_5_categorical_accuracy: 0.1168 - val_factorized_top_k/top_10_categorical_accuracy: 0.1999 - val_factorized_top_k/top_50_categorical_accuracy: 0.3698 - val_factorized_top_k/top_100_categorical_accuracy: 0.4444 - val_loss: 6961.5381 - val_regularization_loss: 0.0000e+00 - val_total_loss: 6961.5381\n",
      "Epoch 211/300\n",
      "27/27 [==============================] - 46s 2s/step - factorized_top_k/top_1_categorical_accuracy: 0.0000e+00 - factorized_top_k/top_5_categorical_accuracy: 0.0000e+00 - factorized_top_k/top_10_categorical_accuracy: 0.0000e+00 - factorized_top_k/top_50_categorical_accuracy: 0.0000e+00 - factorized_top_k/top_100_categorical_accuracy: 0.0000e+00 - loss: 51805.2580 - regularization_loss: 0.0000e+00 - total_loss: 51805.2580\n",
      "Epoch 212/300\n",
      "27/27 [==============================] - 46s 2s/step - factorized_top_k/top_1_categorical_accuracy: 0.0000e+00 - factorized_top_k/top_5_categorical_accuracy: 0.0000e+00 - factorized_top_k/top_10_categorical_accuracy: 0.0000e+00 - factorized_top_k/top_50_categorical_accuracy: 0.0000e+00 - factorized_top_k/top_100_categorical_accuracy: 0.0000e+00 - loss: 51794.6706 - regularization_loss: 0.0000e+00 - total_loss: 51794.6706\n",
      "Epoch 213/300\n",
      "27/27 [==============================] - 46s 2s/step - factorized_top_k/top_1_categorical_accuracy: 0.0000e+00 - factorized_top_k/top_5_categorical_accuracy: 0.0000e+00 - factorized_top_k/top_10_categorical_accuracy: 0.0000e+00 - factorized_top_k/top_50_categorical_accuracy: 0.0000e+00 - factorized_top_k/top_100_categorical_accuracy: 0.0000e+00 - loss: 51784.2434 - regularization_loss: 0.0000e+00 - total_loss: 51784.2434\n",
      "Epoch 214/300\n",
      "27/27 [==============================] - 46s 2s/step - factorized_top_k/top_1_categorical_accuracy: 0.0000e+00 - factorized_top_k/top_5_categorical_accuracy: 0.0000e+00 - factorized_top_k/top_10_categorical_accuracy: 0.0000e+00 - factorized_top_k/top_50_categorical_accuracy: 0.0000e+00 - factorized_top_k/top_100_categorical_accuracy: 0.0000e+00 - loss: 51773.7243 - regularization_loss: 0.0000e+00 - total_loss: 51773.7243\n",
      "Epoch 215/300\n",
      "27/27 [==============================] - 59s 2s/step - factorized_top_k/top_1_categorical_accuracy: 0.0000e+00 - factorized_top_k/top_5_categorical_accuracy: 0.0000e+00 - factorized_top_k/top_10_categorical_accuracy: 0.0000e+00 - factorized_top_k/top_50_categorical_accuracy: 0.0000e+00 - factorized_top_k/top_100_categorical_accuracy: 0.0000e+00 - loss: 51763.3613 - regularization_loss: 0.0000e+00 - total_loss: 51763.3613 - val_factorized_top_k/top_1_categorical_accuracy: 0.0141 - val_factorized_top_k/top_5_categorical_accuracy: 0.1173 - val_factorized_top_k/top_10_categorical_accuracy: 0.2005 - val_factorized_top_k/top_50_categorical_accuracy: 0.3716 - val_factorized_top_k/top_100_categorical_accuracy: 0.4457 - val_loss: 6951.9185 - val_regularization_loss: 0.0000e+00 - val_total_loss: 6951.9185\n",
      "Epoch 216/300\n",
      "27/27 [==============================] - 46s 2s/step - factorized_top_k/top_1_categorical_accuracy: 0.0000e+00 - factorized_top_k/top_5_categorical_accuracy: 0.0000e+00 - factorized_top_k/top_10_categorical_accuracy: 0.0000e+00 - factorized_top_k/top_50_categorical_accuracy: 0.0000e+00 - factorized_top_k/top_100_categorical_accuracy: 0.0000e+00 - loss: 51752.9350 - regularization_loss: 0.0000e+00 - total_loss: 51752.9350\n",
      "Epoch 217/300\n",
      "27/27 [==============================] - 46s 2s/step - factorized_top_k/top_1_categorical_accuracy: 0.0000e+00 - factorized_top_k/top_5_categorical_accuracy: 0.0000e+00 - factorized_top_k/top_10_categorical_accuracy: 0.0000e+00 - factorized_top_k/top_50_categorical_accuracy: 0.0000e+00 - factorized_top_k/top_100_categorical_accuracy: 0.0000e+00 - loss: 51742.6535 - regularization_loss: 0.0000e+00 - total_loss: 51742.6535\n",
      "Epoch 218/300\n",
      "27/27 [==============================] - 46s 2s/step - factorized_top_k/top_1_categorical_accuracy: 0.0000e+00 - factorized_top_k/top_5_categorical_accuracy: 0.0000e+00 - factorized_top_k/top_10_categorical_accuracy: 0.0000e+00 - factorized_top_k/top_50_categorical_accuracy: 0.0000e+00 - factorized_top_k/top_100_categorical_accuracy: 0.0000e+00 - loss: 51732.3350 - regularization_loss: 0.0000e+00 - total_loss: 51732.3350\n",
      "Epoch 219/300\n",
      "27/27 [==============================] - 47s 2s/step - factorized_top_k/top_1_categorical_accuracy: 0.0000e+00 - factorized_top_k/top_5_categorical_accuracy: 0.0000e+00 - factorized_top_k/top_10_categorical_accuracy: 0.0000e+00 - factorized_top_k/top_50_categorical_accuracy: 0.0000e+00 - factorized_top_k/top_100_categorical_accuracy: 0.0000e+00 - loss: 51722.1469 - regularization_loss: 0.0000e+00 - total_loss: 51722.1469\n",
      "Epoch 220/300\n",
      "27/27 [==============================] - 59s 2s/step - factorized_top_k/top_1_categorical_accuracy: 0.0000e+00 - factorized_top_k/top_5_categorical_accuracy: 0.0000e+00 - factorized_top_k/top_10_categorical_accuracy: 0.0000e+00 - factorized_top_k/top_50_categorical_accuracy: 0.0000e+00 - factorized_top_k/top_100_categorical_accuracy: 0.0000e+00 - loss: 51711.9379 - regularization_loss: 0.0000e+00 - total_loss: 51711.9379 - val_factorized_top_k/top_1_categorical_accuracy: 0.0140 - val_factorized_top_k/top_5_categorical_accuracy: 0.1169 - val_factorized_top_k/top_10_categorical_accuracy: 0.2016 - val_factorized_top_k/top_50_categorical_accuracy: 0.3731 - val_factorized_top_k/top_100_categorical_accuracy: 0.4473 - val_loss: 6942.8335 - val_regularization_loss: 0.0000e+00 - val_total_loss: 6942.8335\n",
      "Epoch 221/300\n",
      "27/27 [==============================] - 46s 2s/step - factorized_top_k/top_1_categorical_accuracy: 0.0000e+00 - factorized_top_k/top_5_categorical_accuracy: 0.0000e+00 - factorized_top_k/top_10_categorical_accuracy: 0.0000e+00 - factorized_top_k/top_50_categorical_accuracy: 0.0000e+00 - factorized_top_k/top_100_categorical_accuracy: 0.0000e+00 - loss: 51701.8645 - regularization_loss: 0.0000e+00 - total_loss: 51701.8645\n",
      "Epoch 222/300\n",
      "27/27 [==============================] - 46s 2s/step - factorized_top_k/top_1_categorical_accuracy: 0.0000e+00 - factorized_top_k/top_5_categorical_accuracy: 0.0000e+00 - factorized_top_k/top_10_categorical_accuracy: 0.0000e+00 - factorized_top_k/top_50_categorical_accuracy: 0.0000e+00 - factorized_top_k/top_100_categorical_accuracy: 0.0000e+00 - loss: 51691.7642 - regularization_loss: 0.0000e+00 - total_loss: 51691.7642\n",
      "Epoch 223/300\n",
      "27/27 [==============================] - 46s 2s/step - factorized_top_k/top_1_categorical_accuracy: 0.0000e+00 - factorized_top_k/top_5_categorical_accuracy: 0.0000e+00 - factorized_top_k/top_10_categorical_accuracy: 0.0000e+00 - factorized_top_k/top_50_categorical_accuracy: 0.0000e+00 - factorized_top_k/top_100_categorical_accuracy: 0.0000e+00 - loss: 51681.8270 - regularization_loss: 0.0000e+00 - total_loss: 51681.8270\n",
      "Epoch 224/300\n",
      "27/27 [==============================] - 46s 2s/step - factorized_top_k/top_1_categorical_accuracy: 0.0000e+00 - factorized_top_k/top_5_categorical_accuracy: 0.0000e+00 - factorized_top_k/top_10_categorical_accuracy: 0.0000e+00 - factorized_top_k/top_50_categorical_accuracy: 0.0000e+00 - factorized_top_k/top_100_categorical_accuracy: 0.0000e+00 - loss: 51671.8357 - regularization_loss: 0.0000e+00 - total_loss: 51671.8357\n",
      "Epoch 225/300\n"
     ]
    },
    {
     "name": "stdout",
     "output_type": "stream",
     "text": [
      "27/27 [==============================] - 59s 2s/step - factorized_top_k/top_1_categorical_accuracy: 0.0000e+00 - factorized_top_k/top_5_categorical_accuracy: 0.0000e+00 - factorized_top_k/top_10_categorical_accuracy: 0.0000e+00 - factorized_top_k/top_50_categorical_accuracy: 0.0000e+00 - factorized_top_k/top_100_categorical_accuracy: 0.0000e+00 - loss: 51662.0511 - regularization_loss: 0.0000e+00 - total_loss: 51662.0511 - val_factorized_top_k/top_1_categorical_accuracy: 0.0143 - val_factorized_top_k/top_5_categorical_accuracy: 0.1172 - val_factorized_top_k/top_10_categorical_accuracy: 0.2024 - val_factorized_top_k/top_50_categorical_accuracy: 0.3744 - val_factorized_top_k/top_100_categorical_accuracy: 0.4485 - val_loss: 6933.8584 - val_regularization_loss: 0.0000e+00 - val_total_loss: 6933.8584\n",
      "Epoch 226/300\n",
      "27/27 [==============================] - 46s 2s/step - factorized_top_k/top_1_categorical_accuracy: 0.0000e+00 - factorized_top_k/top_5_categorical_accuracy: 0.0000e+00 - factorized_top_k/top_10_categorical_accuracy: 0.0000e+00 - factorized_top_k/top_50_categorical_accuracy: 0.0000e+00 - factorized_top_k/top_100_categorical_accuracy: 0.0000e+00 - loss: 51652.1684 - regularization_loss: 0.0000e+00 - total_loss: 51652.1684\n",
      "Epoch 227/300\n",
      "27/27 [==============================] - 46s 2s/step - factorized_top_k/top_1_categorical_accuracy: 0.0000e+00 - factorized_top_k/top_5_categorical_accuracy: 0.0000e+00 - factorized_top_k/top_10_categorical_accuracy: 0.0000e+00 - factorized_top_k/top_50_categorical_accuracy: 0.0000e+00 - factorized_top_k/top_100_categorical_accuracy: 0.0000e+00 - loss: 51642.5317 - regularization_loss: 0.0000e+00 - total_loss: 51642.5317\n",
      "Epoch 228/300\n",
      "27/27 [==============================] - 47s 2s/step - factorized_top_k/top_1_categorical_accuracy: 0.0000e+00 - factorized_top_k/top_5_categorical_accuracy: 0.0000e+00 - factorized_top_k/top_10_categorical_accuracy: 0.0000e+00 - factorized_top_k/top_50_categorical_accuracy: 0.0000e+00 - factorized_top_k/top_100_categorical_accuracy: 0.0000e+00 - loss: 51632.7652 - regularization_loss: 0.0000e+00 - total_loss: 51632.7652\n",
      "Epoch 229/300\n",
      "27/27 [==============================] - 46s 2s/step - factorized_top_k/top_1_categorical_accuracy: 0.0000e+00 - factorized_top_k/top_5_categorical_accuracy: 0.0000e+00 - factorized_top_k/top_10_categorical_accuracy: 0.0000e+00 - factorized_top_k/top_50_categorical_accuracy: 0.0000e+00 - factorized_top_k/top_100_categorical_accuracy: 0.0000e+00 - loss: 51623.2646 - regularization_loss: 0.0000e+00 - total_loss: 51623.2646\n",
      "Epoch 230/300\n",
      "27/27 [==============================] - 59s 2s/step - factorized_top_k/top_1_categorical_accuracy: 0.0000e+00 - factorized_top_k/top_5_categorical_accuracy: 0.0000e+00 - factorized_top_k/top_10_categorical_accuracy: 0.0000e+00 - factorized_top_k/top_50_categorical_accuracy: 0.0000e+00 - factorized_top_k/top_100_categorical_accuracy: 0.0000e+00 - loss: 51613.6303 - regularization_loss: 0.0000e+00 - total_loss: 51613.6303 - val_factorized_top_k/top_1_categorical_accuracy: 0.0140 - val_factorized_top_k/top_5_categorical_accuracy: 0.1175 - val_factorized_top_k/top_10_categorical_accuracy: 0.2035 - val_factorized_top_k/top_50_categorical_accuracy: 0.3754 - val_factorized_top_k/top_100_categorical_accuracy: 0.4500 - val_loss: 6925.5664 - val_regularization_loss: 0.0000e+00 - val_total_loss: 6925.5664\n",
      "Epoch 231/300\n",
      "27/27 [==============================] - 46s 2s/step - factorized_top_k/top_1_categorical_accuracy: 0.0000e+00 - factorized_top_k/top_5_categorical_accuracy: 0.0000e+00 - factorized_top_k/top_10_categorical_accuracy: 0.0000e+00 - factorized_top_k/top_50_categorical_accuracy: 0.0000e+00 - factorized_top_k/top_100_categorical_accuracy: 0.0000e+00 - loss: 51604.2552 - regularization_loss: 0.0000e+00 - total_loss: 51604.2552\n",
      "Epoch 232/300\n",
      "27/27 [==============================] - 46s 2s/step - factorized_top_k/top_1_categorical_accuracy: 0.0000e+00 - factorized_top_k/top_5_categorical_accuracy: 0.0000e+00 - factorized_top_k/top_10_categorical_accuracy: 0.0000e+00 - factorized_top_k/top_50_categorical_accuracy: 0.0000e+00 - factorized_top_k/top_100_categorical_accuracy: 0.0000e+00 - loss: 51594.7602 - regularization_loss: 0.0000e+00 - total_loss: 51594.7602\n",
      "Epoch 233/300\n",
      "27/27 [==============================] - 46s 2s/step - factorized_top_k/top_1_categorical_accuracy: 0.0000e+00 - factorized_top_k/top_5_categorical_accuracy: 0.0000e+00 - factorized_top_k/top_10_categorical_accuracy: 0.0000e+00 - factorized_top_k/top_50_categorical_accuracy: 0.0000e+00 - factorized_top_k/top_100_categorical_accuracy: 0.0000e+00 - loss: 51585.5077 - regularization_loss: 0.0000e+00 - total_loss: 51585.5077\n",
      "Epoch 234/300\n",
      "27/27 [==============================] - 46s 2s/step - factorized_top_k/top_1_categorical_accuracy: 0.0000e+00 - factorized_top_k/top_5_categorical_accuracy: 0.0000e+00 - factorized_top_k/top_10_categorical_accuracy: 0.0000e+00 - factorized_top_k/top_50_categorical_accuracy: 0.0000e+00 - factorized_top_k/top_100_categorical_accuracy: 0.0000e+00 - loss: 51576.1562 - regularization_loss: 0.0000e+00 - total_loss: 51576.1562\n",
      "Epoch 235/300\n",
      "27/27 [==============================] - 59s 2s/step - factorized_top_k/top_1_categorical_accuracy: 0.0000e+00 - factorized_top_k/top_5_categorical_accuracy: 0.0000e+00 - factorized_top_k/top_10_categorical_accuracy: 0.0000e+00 - factorized_top_k/top_50_categorical_accuracy: 0.0000e+00 - factorized_top_k/top_100_categorical_accuracy: 0.0000e+00 - loss: 51567.0183 - regularization_loss: 0.0000e+00 - total_loss: 51567.0183 - val_factorized_top_k/top_1_categorical_accuracy: 0.0142 - val_factorized_top_k/top_5_categorical_accuracy: 0.1176 - val_factorized_top_k/top_10_categorical_accuracy: 0.2042 - val_factorized_top_k/top_50_categorical_accuracy: 0.3764 - val_factorized_top_k/top_100_categorical_accuracy: 0.4509 - val_loss: 6917.3423 - val_regularization_loss: 0.0000e+00 - val_total_loss: 6917.3423\n",
      "Epoch 236/300\n",
      "27/27 [==============================] - 46s 2s/step - factorized_top_k/top_1_categorical_accuracy: 0.0000e+00 - factorized_top_k/top_5_categorical_accuracy: 0.0000e+00 - factorized_top_k/top_10_categorical_accuracy: 0.0000e+00 - factorized_top_k/top_50_categorical_accuracy: 0.0000e+00 - factorized_top_k/top_100_categorical_accuracy: 0.0000e+00 - loss: 51557.7994 - regularization_loss: 0.0000e+00 - total_loss: 51557.7994\n",
      "Epoch 237/300\n",
      "27/27 [==============================] - 46s 2s/step - factorized_top_k/top_1_categorical_accuracy: 0.0000e+00 - factorized_top_k/top_5_categorical_accuracy: 0.0000e+00 - factorized_top_k/top_10_categorical_accuracy: 0.0000e+00 - factorized_top_k/top_50_categorical_accuracy: 0.0000e+00 - factorized_top_k/top_100_categorical_accuracy: 0.0000e+00 - loss: 51548.7801 - regularization_loss: 0.0000e+00 - total_loss: 51548.7801\n",
      "Epoch 238/300\n",
      "27/27 [==============================] - 46s 2s/step - factorized_top_k/top_1_categorical_accuracy: 0.0000e+00 - factorized_top_k/top_5_categorical_accuracy: 0.0000e+00 - factorized_top_k/top_10_categorical_accuracy: 0.0000e+00 - factorized_top_k/top_50_categorical_accuracy: 0.0000e+00 - factorized_top_k/top_100_categorical_accuracy: 0.0000e+00 - loss: 51539.6740 - regularization_loss: 0.0000e+00 - total_loss: 51539.6740\n",
      "Epoch 239/300\n",
      "27/27 [==============================] - 46s 2s/step - factorized_top_k/top_1_categorical_accuracy: 0.0000e+00 - factorized_top_k/top_5_categorical_accuracy: 0.0000e+00 - factorized_top_k/top_10_categorical_accuracy: 0.0000e+00 - factorized_top_k/top_50_categorical_accuracy: 0.0000e+00 - factorized_top_k/top_100_categorical_accuracy: 0.0000e+00 - loss: 51530.7797 - regularization_loss: 0.0000e+00 - total_loss: 51530.7797\n",
      "Epoch 240/300\n",
      "27/27 [==============================] - 59s 2s/step - factorized_top_k/top_1_categorical_accuracy: 0.0000e+00 - factorized_top_k/top_5_categorical_accuracy: 0.0000e+00 - factorized_top_k/top_10_categorical_accuracy: 0.0000e+00 - factorized_top_k/top_50_categorical_accuracy: 0.0000e+00 - factorized_top_k/top_100_categorical_accuracy: 0.0000e+00 - loss: 51521.7796 - regularization_loss: 0.0000e+00 - total_loss: 51521.7796 - val_factorized_top_k/top_1_categorical_accuracy: 0.0143 - val_factorized_top_k/top_5_categorical_accuracy: 0.1179 - val_factorized_top_k/top_10_categorical_accuracy: 0.2048 - val_factorized_top_k/top_50_categorical_accuracy: 0.3773 - val_factorized_top_k/top_100_categorical_accuracy: 0.4517 - val_loss: 6909.7861 - val_regularization_loss: 0.0000e+00 - val_total_loss: 6909.7861\n"
     ]
    },
    {
     "name": "stdout",
     "output_type": "stream",
     "text": [
      "Epoch 241/300\n",
      "27/27 [==============================] - 47s 2s/step - factorized_top_k/top_1_categorical_accuracy: 0.0000e+00 - factorized_top_k/top_5_categorical_accuracy: 0.0000e+00 - factorized_top_k/top_10_categorical_accuracy: 0.0000e+00 - factorized_top_k/top_50_categorical_accuracy: 0.0000e+00 - factorized_top_k/top_100_categorical_accuracy: 0.0000e+00 - loss: 51513.0138 - regularization_loss: 0.0000e+00 - total_loss: 51513.0138\n",
      "Epoch 242/300\n",
      "27/27 [==============================] - 47s 2s/step - factorized_top_k/top_1_categorical_accuracy: 0.0000e+00 - factorized_top_k/top_5_categorical_accuracy: 0.0000e+00 - factorized_top_k/top_10_categorical_accuracy: 0.0000e+00 - factorized_top_k/top_50_categorical_accuracy: 0.0000e+00 - factorized_top_k/top_100_categorical_accuracy: 0.0000e+00 - loss: 51504.1102 - regularization_loss: 0.0000e+00 - total_loss: 51504.1102\n",
      "Epoch 243/300\n",
      "27/27 [==============================] - 46s 2s/step - factorized_top_k/top_1_categorical_accuracy: 0.0000e+00 - factorized_top_k/top_5_categorical_accuracy: 0.0000e+00 - factorized_top_k/top_10_categorical_accuracy: 0.0000e+00 - factorized_top_k/top_50_categorical_accuracy: 0.0000e+00 - factorized_top_k/top_100_categorical_accuracy: 0.0000e+00 - loss: 51495.4667 - regularization_loss: 0.0000e+00 - total_loss: 51495.4667\n",
      "Epoch 244/300\n",
      "27/27 [==============================] - 47s 2s/step - factorized_top_k/top_1_categorical_accuracy: 0.0000e+00 - factorized_top_k/top_5_categorical_accuracy: 0.0000e+00 - factorized_top_k/top_10_categorical_accuracy: 0.0000e+00 - factorized_top_k/top_50_categorical_accuracy: 0.0000e+00 - factorized_top_k/top_100_categorical_accuracy: 0.0000e+00 - loss: 51486.6602 - regularization_loss: 0.0000e+00 - total_loss: 51486.6602\n",
      "Epoch 245/300\n",
      "27/27 [==============================] - 59s 2s/step - factorized_top_k/top_1_categorical_accuracy: 0.0000e+00 - factorized_top_k/top_5_categorical_accuracy: 0.0000e+00 - factorized_top_k/top_10_categorical_accuracy: 0.0000e+00 - factorized_top_k/top_50_categorical_accuracy: 0.0000e+00 - factorized_top_k/top_100_categorical_accuracy: 0.0000e+00 - loss: 51478.1250 - regularization_loss: 0.0000e+00 - total_loss: 51478.1250 - val_factorized_top_k/top_1_categorical_accuracy: 0.0142 - val_factorized_top_k/top_5_categorical_accuracy: 0.1178 - val_factorized_top_k/top_10_categorical_accuracy: 0.2055 - val_factorized_top_k/top_50_categorical_accuracy: 0.3788 - val_factorized_top_k/top_100_categorical_accuracy: 0.4526 - val_loss: 6902.1924 - val_regularization_loss: 0.0000e+00 - val_total_loss: 6902.1924\n",
      "Epoch 246/300\n",
      "27/27 [==============================] - 46s 2s/step - factorized_top_k/top_1_categorical_accuracy: 0.0000e+00 - factorized_top_k/top_5_categorical_accuracy: 0.0000e+00 - factorized_top_k/top_10_categorical_accuracy: 0.0000e+00 - factorized_top_k/top_50_categorical_accuracy: 0.0000e+00 - factorized_top_k/top_100_categorical_accuracy: 0.0000e+00 - loss: 51469.4134 - regularization_loss: 0.0000e+00 - total_loss: 51469.4134\n",
      "Epoch 247/300\n",
      "27/27 [==============================] - 46s 2s/step - factorized_top_k/top_1_categorical_accuracy: 0.0000e+00 - factorized_top_k/top_5_categorical_accuracy: 0.0000e+00 - factorized_top_k/top_10_categorical_accuracy: 0.0000e+00 - factorized_top_k/top_50_categorical_accuracy: 0.0000e+00 - factorized_top_k/top_100_categorical_accuracy: 0.0000e+00 - loss: 51460.9688 - regularization_loss: 0.0000e+00 - total_loss: 51460.9688\n",
      "Epoch 248/300\n",
      "27/27 [==============================] - 46s 2s/step - factorized_top_k/top_1_categorical_accuracy: 0.0000e+00 - factorized_top_k/top_5_categorical_accuracy: 0.0000e+00 - factorized_top_k/top_10_categorical_accuracy: 0.0000e+00 - factorized_top_k/top_50_categorical_accuracy: 0.0000e+00 - factorized_top_k/top_100_categorical_accuracy: 0.0000e+00 - loss: 51452.3571 - regularization_loss: 0.0000e+00 - total_loss: 51452.3571\n",
      "Epoch 249/300\n",
      "27/27 [==============================] - 46s 2s/step - factorized_top_k/top_1_categorical_accuracy: 0.0000e+00 - factorized_top_k/top_5_categorical_accuracy: 0.0000e+00 - factorized_top_k/top_10_categorical_accuracy: 0.0000e+00 - factorized_top_k/top_50_categorical_accuracy: 0.0000e+00 - factorized_top_k/top_100_categorical_accuracy: 0.0000e+00 - loss: 51443.9916 - regularization_loss: 0.0000e+00 - total_loss: 51443.9916\n",
      "Epoch 250/300\n",
      "27/27 [==============================] - 59s 2s/step - factorized_top_k/top_1_categorical_accuracy: 0.0000e+00 - factorized_top_k/top_5_categorical_accuracy: 0.0000e+00 - factorized_top_k/top_10_categorical_accuracy: 0.0000e+00 - factorized_top_k/top_50_categorical_accuracy: 0.0000e+00 - factorized_top_k/top_100_categorical_accuracy: 0.0000e+00 - loss: 51435.4833 - regularization_loss: 0.0000e+00 - total_loss: 51435.4833 - val_factorized_top_k/top_1_categorical_accuracy: 0.0144 - val_factorized_top_k/top_5_categorical_accuracy: 0.1183 - val_factorized_top_k/top_10_categorical_accuracy: 0.2062 - val_factorized_top_k/top_50_categorical_accuracy: 0.3795 - val_factorized_top_k/top_100_categorical_accuracy: 0.4538 - val_loss: 6895.1528 - val_regularization_loss: 0.0000e+00 - val_total_loss: 6895.1528\n",
      "Epoch 251/300\n",
      "27/27 [==============================] - 46s 2s/step - factorized_top_k/top_1_categorical_accuracy: 0.0000e+00 - factorized_top_k/top_5_categorical_accuracy: 0.0000e+00 - factorized_top_k/top_10_categorical_accuracy: 0.0000e+00 - factorized_top_k/top_50_categorical_accuracy: 0.0000e+00 - factorized_top_k/top_100_categorical_accuracy: 0.0000e+00 - loss: 51427.1908 - regularization_loss: 0.0000e+00 - total_loss: 51427.1908\n",
      "Epoch 252/300\n",
      "27/27 [==============================] - 46s 2s/step - factorized_top_k/top_1_categorical_accuracy: 0.0000e+00 - factorized_top_k/top_5_categorical_accuracy: 0.0000e+00 - factorized_top_k/top_10_categorical_accuracy: 0.0000e+00 - factorized_top_k/top_50_categorical_accuracy: 0.0000e+00 - factorized_top_k/top_100_categorical_accuracy: 0.0000e+00 - loss: 51418.7800 - regularization_loss: 0.0000e+00 - total_loss: 51418.7800\n",
      "Epoch 253/300\n",
      "27/27 [==============================] - 46s 2s/step - factorized_top_k/top_1_categorical_accuracy: 0.0000e+00 - factorized_top_k/top_5_categorical_accuracy: 0.0000e+00 - factorized_top_k/top_10_categorical_accuracy: 0.0000e+00 - factorized_top_k/top_50_categorical_accuracy: 0.0000e+00 - factorized_top_k/top_100_categorical_accuracy: 0.0000e+00 - loss: 51410.5534 - regularization_loss: 0.0000e+00 - total_loss: 51410.5534\n",
      "Epoch 254/300\n",
      "27/27 [==============================] - 46s 2s/step - factorized_top_k/top_1_categorical_accuracy: 0.0000e+00 - factorized_top_k/top_5_categorical_accuracy: 0.0000e+00 - factorized_top_k/top_10_categorical_accuracy: 0.0000e+00 - factorized_top_k/top_50_categorical_accuracy: 0.0000e+00 - factorized_top_k/top_100_categorical_accuracy: 0.0000e+00 - loss: 51402.2241 - regularization_loss: 0.0000e+00 - total_loss: 51402.2241\n",
      "Epoch 255/300\n",
      "27/27 [==============================] - 59s 2s/step - factorized_top_k/top_1_categorical_accuracy: 0.0000e+00 - factorized_top_k/top_5_categorical_accuracy: 0.0000e+00 - factorized_top_k/top_10_categorical_accuracy: 0.0000e+00 - factorized_top_k/top_50_categorical_accuracy: 0.0000e+00 - factorized_top_k/top_100_categorical_accuracy: 0.0000e+00 - loss: 51394.0724 - regularization_loss: 0.0000e+00 - total_loss: 51394.0724 - val_factorized_top_k/top_1_categorical_accuracy: 0.0143 - val_factorized_top_k/top_5_categorical_accuracy: 0.1186 - val_factorized_top_k/top_10_categorical_accuracy: 0.2072 - val_factorized_top_k/top_50_categorical_accuracy: 0.3807 - val_factorized_top_k/top_100_categorical_accuracy: 0.4549 - val_loss: 6887.9858 - val_regularization_loss: 0.0000e+00 - val_total_loss: 6887.9858\n",
      "Epoch 256/300\n",
      "27/27 [==============================] - 46s 2s/step - factorized_top_k/top_1_categorical_accuracy: 0.0000e+00 - factorized_top_k/top_5_categorical_accuracy: 0.0000e+00 - factorized_top_k/top_10_categorical_accuracy: 0.0000e+00 - factorized_top_k/top_50_categorical_accuracy: 0.0000e+00 - factorized_top_k/top_100_categorical_accuracy: 0.0000e+00 - loss: 51385.8044 - regularization_loss: 0.0000e+00 - total_loss: 51385.8044\n",
      "Epoch 257/300\n"
     ]
    },
    {
     "name": "stdout",
     "output_type": "stream",
     "text": [
      "27/27 [==============================] - 46s 2s/step - factorized_top_k/top_1_categorical_accuracy: 0.0000e+00 - factorized_top_k/top_5_categorical_accuracy: 0.0000e+00 - factorized_top_k/top_10_categorical_accuracy: 0.0000e+00 - factorized_top_k/top_50_categorical_accuracy: 0.0000e+00 - factorized_top_k/top_100_categorical_accuracy: 0.0000e+00 - loss: 51377.7323 - regularization_loss: 0.0000e+00 - total_loss: 51377.7323\n",
      "Epoch 258/300\n",
      "27/27 [==============================] - 46s 2s/step - factorized_top_k/top_1_categorical_accuracy: 0.0000e+00 - factorized_top_k/top_5_categorical_accuracy: 0.0000e+00 - factorized_top_k/top_10_categorical_accuracy: 0.0000e+00 - factorized_top_k/top_50_categorical_accuracy: 0.0000e+00 - factorized_top_k/top_100_categorical_accuracy: 0.0000e+00 - loss: 51369.5212 - regularization_loss: 0.0000e+00 - total_loss: 51369.5212\n",
      "Epoch 259/300\n",
      "27/27 [==============================] - 46s 2s/step - factorized_top_k/top_1_categorical_accuracy: 0.0000e+00 - factorized_top_k/top_5_categorical_accuracy: 0.0000e+00 - factorized_top_k/top_10_categorical_accuracy: 0.0000e+00 - factorized_top_k/top_50_categorical_accuracy: 0.0000e+00 - factorized_top_k/top_100_categorical_accuracy: 0.0000e+00 - loss: 51361.5258 - regularization_loss: 0.0000e+00 - total_loss: 51361.5258\n",
      "Epoch 260/300\n",
      "27/27 [==============================] - 61s 2s/step - factorized_top_k/top_1_categorical_accuracy: 0.0000e+00 - factorized_top_k/top_5_categorical_accuracy: 0.0000e+00 - factorized_top_k/top_10_categorical_accuracy: 0.0000e+00 - factorized_top_k/top_50_categorical_accuracy: 0.0000e+00 - factorized_top_k/top_100_categorical_accuracy: 0.0000e+00 - loss: 51353.3652 - regularization_loss: 0.0000e+00 - total_loss: 51353.3652 - val_factorized_top_k/top_1_categorical_accuracy: 0.0145 - val_factorized_top_k/top_5_categorical_accuracy: 0.1188 - val_factorized_top_k/top_10_categorical_accuracy: 0.2079 - val_factorized_top_k/top_50_categorical_accuracy: 0.3815 - val_factorized_top_k/top_100_categorical_accuracy: 0.4556 - val_loss: 6881.2529 - val_regularization_loss: 0.0000e+00 - val_total_loss: 6881.2529\n",
      "Epoch 261/300\n",
      "27/27 [==============================] - 47s 2s/step - factorized_top_k/top_1_categorical_accuracy: 0.0000e+00 - factorized_top_k/top_5_categorical_accuracy: 0.0000e+00 - factorized_top_k/top_10_categorical_accuracy: 0.0000e+00 - factorized_top_k/top_50_categorical_accuracy: 0.0000e+00 - factorized_top_k/top_100_categorical_accuracy: 0.0000e+00 - loss: 51345.4446 - regularization_loss: 0.0000e+00 - total_loss: 51345.4446\n",
      "Epoch 262/300\n",
      "27/27 [==============================] - 47s 2s/step - factorized_top_k/top_1_categorical_accuracy: 0.0000e+00 - factorized_top_k/top_5_categorical_accuracy: 0.0000e+00 - factorized_top_k/top_10_categorical_accuracy: 0.0000e+00 - factorized_top_k/top_50_categorical_accuracy: 0.0000e+00 - factorized_top_k/top_100_categorical_accuracy: 0.0000e+00 - loss: 51337.3313 - regularization_loss: 0.0000e+00 - total_loss: 51337.3313\n",
      "Epoch 263/300\n",
      "27/27 [==============================] - 47s 2s/step - factorized_top_k/top_1_categorical_accuracy: 0.0000e+00 - factorized_top_k/top_5_categorical_accuracy: 0.0000e+00 - factorized_top_k/top_10_categorical_accuracy: 0.0000e+00 - factorized_top_k/top_50_categorical_accuracy: 0.0000e+00 - factorized_top_k/top_100_categorical_accuracy: 0.0000e+00 - loss: 51329.4690 - regularization_loss: 0.0000e+00 - total_loss: 51329.4690\n",
      "Epoch 264/300\n",
      "27/27 [==============================] - 47s 2s/step - factorized_top_k/top_1_categorical_accuracy: 0.0000e+00 - factorized_top_k/top_5_categorical_accuracy: 0.0000e+00 - factorized_top_k/top_10_categorical_accuracy: 0.0000e+00 - factorized_top_k/top_50_categorical_accuracy: 0.0000e+00 - factorized_top_k/top_100_categorical_accuracy: 0.0000e+00 - loss: 51321.4103 - regularization_loss: 0.0000e+00 - total_loss: 51321.4103\n",
      "Epoch 265/300\n",
      "27/27 [==============================] - 60s 2s/step - factorized_top_k/top_1_categorical_accuracy: 0.0000e+00 - factorized_top_k/top_5_categorical_accuracy: 0.0000e+00 - factorized_top_k/top_10_categorical_accuracy: 0.0000e+00 - factorized_top_k/top_50_categorical_accuracy: 0.0000e+00 - factorized_top_k/top_100_categorical_accuracy: 0.0000e+00 - loss: 51313.5946 - regularization_loss: 0.0000e+00 - total_loss: 51313.5946 - val_factorized_top_k/top_1_categorical_accuracy: 0.0146 - val_factorized_top_k/top_5_categorical_accuracy: 0.1189 - val_factorized_top_k/top_10_categorical_accuracy: 0.2082 - val_factorized_top_k/top_50_categorical_accuracy: 0.3824 - val_factorized_top_k/top_100_categorical_accuracy: 0.4564 - val_loss: 6874.3130 - val_regularization_loss: 0.0000e+00 - val_total_loss: 6874.3130\n",
      "Epoch 266/300\n",
      "27/27 [==============================] - 47s 2s/step - factorized_top_k/top_1_categorical_accuracy: 0.0000e+00 - factorized_top_k/top_5_categorical_accuracy: 0.0000e+00 - factorized_top_k/top_10_categorical_accuracy: 0.0000e+00 - factorized_top_k/top_50_categorical_accuracy: 0.0000e+00 - factorized_top_k/top_100_categorical_accuracy: 0.0000e+00 - loss: 51305.5958 - regularization_loss: 0.0000e+00 - total_loss: 51305.5958\n",
      "Epoch 267/300\n",
      "27/27 [==============================] - 47s 2s/step - factorized_top_k/top_1_categorical_accuracy: 0.0000e+00 - factorized_top_k/top_5_categorical_accuracy: 0.0000e+00 - factorized_top_k/top_10_categorical_accuracy: 0.0000e+00 - factorized_top_k/top_50_categorical_accuracy: 0.0000e+00 - factorized_top_k/top_100_categorical_accuracy: 0.0000e+00 - loss: 51297.8182 - regularization_loss: 0.0000e+00 - total_loss: 51297.8182\n",
      "Epoch 268/300\n",
      "27/27 [==============================] - 47s 2s/step - factorized_top_k/top_1_categorical_accuracy: 0.0000e+00 - factorized_top_k/top_5_categorical_accuracy: 0.0000e+00 - factorized_top_k/top_10_categorical_accuracy: 0.0000e+00 - factorized_top_k/top_50_categorical_accuracy: 0.0000e+00 - factorized_top_k/top_100_categorical_accuracy: 0.0000e+00 - loss: 51289.8846 - regularization_loss: 0.0000e+00 - total_loss: 51289.8846\n",
      "Epoch 269/300\n",
      "27/27 [==============================] - 47s 2s/step - factorized_top_k/top_1_categorical_accuracy: 0.0000e+00 - factorized_top_k/top_5_categorical_accuracy: 0.0000e+00 - factorized_top_k/top_10_categorical_accuracy: 0.0000e+00 - factorized_top_k/top_50_categorical_accuracy: 0.0000e+00 - factorized_top_k/top_100_categorical_accuracy: 0.0000e+00 - loss: 51282.1401 - regularization_loss: 0.0000e+00 - total_loss: 51282.1401\n",
      "Epoch 270/300\n",
      "27/27 [==============================] - 60s 2s/step - factorized_top_k/top_1_categorical_accuracy: 0.0000e+00 - factorized_top_k/top_5_categorical_accuracy: 0.0000e+00 - factorized_top_k/top_10_categorical_accuracy: 0.0000e+00 - factorized_top_k/top_50_categorical_accuracy: 0.0000e+00 - factorized_top_k/top_100_categorical_accuracy: 0.0000e+00 - loss: 51274.2658 - regularization_loss: 0.0000e+00 - total_loss: 51274.2658 - val_factorized_top_k/top_1_categorical_accuracy: 0.0146 - val_factorized_top_k/top_5_categorical_accuracy: 0.1191 - val_factorized_top_k/top_10_categorical_accuracy: 0.2088 - val_factorized_top_k/top_50_categorical_accuracy: 0.3830 - val_factorized_top_k/top_100_categorical_accuracy: 0.4574 - val_loss: 6867.7236 - val_regularization_loss: 0.0000e+00 - val_total_loss: 6867.7236\n",
      "Epoch 271/300\n",
      "27/27 [==============================] - 47s 2s/step - factorized_top_k/top_1_categorical_accuracy: 0.0000e+00 - factorized_top_k/top_5_categorical_accuracy: 0.0000e+00 - factorized_top_k/top_10_categorical_accuracy: 0.0000e+00 - factorized_top_k/top_50_categorical_accuracy: 0.0000e+00 - factorized_top_k/top_100_categorical_accuracy: 0.0000e+00 - loss: 51266.5558 - regularization_loss: 0.0000e+00 - total_loss: 51266.5558\n",
      "Epoch 272/300\n",
      "27/27 [==============================] - 46s 2s/step - factorized_top_k/top_1_categorical_accuracy: 0.0000e+00 - factorized_top_k/top_5_categorical_accuracy: 0.0000e+00 - factorized_top_k/top_10_categorical_accuracy: 0.0000e+00 - factorized_top_k/top_50_categorical_accuracy: 0.0000e+00 - factorized_top_k/top_100_categorical_accuracy: 0.0000e+00 - loss: 51258.7323 - regularization_loss: 0.0000e+00 - total_loss: 51258.7323\n",
      "Epoch 273/300\n"
     ]
    },
    {
     "name": "stdout",
     "output_type": "stream",
     "text": [
      "27/27 [==============================] - 46s 2s/step - factorized_top_k/top_1_categorical_accuracy: 0.0000e+00 - factorized_top_k/top_5_categorical_accuracy: 0.0000e+00 - factorized_top_k/top_10_categorical_accuracy: 0.0000e+00 - factorized_top_k/top_50_categorical_accuracy: 0.0000e+00 - factorized_top_k/top_100_categorical_accuracy: 0.0000e+00 - loss: 51251.0625 - regularization_loss: 0.0000e+00 - total_loss: 51251.0625\n",
      "Epoch 274/300\n",
      "27/27 [==============================] - 46s 2s/step - factorized_top_k/top_1_categorical_accuracy: 0.0000e+00 - factorized_top_k/top_5_categorical_accuracy: 0.0000e+00 - factorized_top_k/top_10_categorical_accuracy: 0.0000e+00 - factorized_top_k/top_50_categorical_accuracy: 0.0000e+00 - factorized_top_k/top_100_categorical_accuracy: 0.0000e+00 - loss: 51243.2783 - regularization_loss: 0.0000e+00 - total_loss: 51243.2783\n",
      "Epoch 275/300\n",
      "27/27 [==============================] - 59s 2s/step - factorized_top_k/top_1_categorical_accuracy: 0.0000e+00 - factorized_top_k/top_5_categorical_accuracy: 0.0000e+00 - factorized_top_k/top_10_categorical_accuracy: 0.0000e+00 - factorized_top_k/top_50_categorical_accuracy: 0.0000e+00 - factorized_top_k/top_100_categorical_accuracy: 0.0000e+00 - loss: 51235.6561 - regularization_loss: 0.0000e+00 - total_loss: 51235.6561 - val_factorized_top_k/top_1_categorical_accuracy: 0.0148 - val_factorized_top_k/top_5_categorical_accuracy: 0.1196 - val_factorized_top_k/top_10_categorical_accuracy: 0.2094 - val_factorized_top_k/top_50_categorical_accuracy: 0.3836 - val_factorized_top_k/top_100_categorical_accuracy: 0.4587 - val_loss: 6860.8794 - val_regularization_loss: 0.0000e+00 - val_total_loss: 6860.8794\n",
      "Epoch 276/300\n",
      "27/27 [==============================] - 46s 2s/step - factorized_top_k/top_1_categorical_accuracy: 0.0000e+00 - factorized_top_k/top_5_categorical_accuracy: 0.0000e+00 - factorized_top_k/top_10_categorical_accuracy: 0.0000e+00 - factorized_top_k/top_50_categorical_accuracy: 0.0000e+00 - factorized_top_k/top_100_categorical_accuracy: 0.0000e+00 - loss: 51227.9068 - regularization_loss: 0.0000e+00 - total_loss: 51227.9068\n",
      "Epoch 277/300\n",
      "27/27 [==============================] - 46s 2s/step - factorized_top_k/top_1_categorical_accuracy: 0.0000e+00 - factorized_top_k/top_5_categorical_accuracy: 0.0000e+00 - factorized_top_k/top_10_categorical_accuracy: 0.0000e+00 - factorized_top_k/top_50_categorical_accuracy: 0.0000e+00 - factorized_top_k/top_100_categorical_accuracy: 0.0000e+00 - loss: 51220.3330 - regularization_loss: 0.0000e+00 - total_loss: 51220.3330\n",
      "Epoch 278/300\n",
      "27/27 [==============================] - 46s 2s/step - factorized_top_k/top_1_categorical_accuracy: 0.0000e+00 - factorized_top_k/top_5_categorical_accuracy: 0.0000e+00 - factorized_top_k/top_10_categorical_accuracy: 0.0000e+00 - factorized_top_k/top_50_categorical_accuracy: 0.0000e+00 - factorized_top_k/top_100_categorical_accuracy: 0.0000e+00 - loss: 51212.6152 - regularization_loss: 0.0000e+00 - total_loss: 51212.6152\n",
      "Epoch 279/300\n",
      "27/27 [==============================] - 46s 2s/step - factorized_top_k/top_1_categorical_accuracy: 0.0000e+00 - factorized_top_k/top_5_categorical_accuracy: 0.0000e+00 - factorized_top_k/top_10_categorical_accuracy: 0.0000e+00 - factorized_top_k/top_50_categorical_accuracy: 0.0000e+00 - factorized_top_k/top_100_categorical_accuracy: 0.0000e+00 - loss: 51205.0939 - regularization_loss: 0.0000e+00 - total_loss: 51205.0939\n",
      "Epoch 280/300\n",
      "27/27 [==============================] - 59s 2s/step - factorized_top_k/top_1_categorical_accuracy: 0.0000e+00 - factorized_top_k/top_5_categorical_accuracy: 0.0000e+00 - factorized_top_k/top_10_categorical_accuracy: 0.0000e+00 - factorized_top_k/top_50_categorical_accuracy: 0.0000e+00 - factorized_top_k/top_100_categorical_accuracy: 0.0000e+00 - loss: 51197.4078 - regularization_loss: 0.0000e+00 - total_loss: 51197.4078 - val_factorized_top_k/top_1_categorical_accuracy: 0.0146 - val_factorized_top_k/top_5_categorical_accuracy: 0.1196 - val_factorized_top_k/top_10_categorical_accuracy: 0.2097 - val_factorized_top_k/top_50_categorical_accuracy: 0.3844 - val_factorized_top_k/top_100_categorical_accuracy: 0.4599 - val_loss: 6854.3584 - val_regularization_loss: 0.0000e+00 - val_total_loss: 6854.3584\n",
      "Epoch 281/300\n",
      "27/27 [==============================] - 47s 2s/step - factorized_top_k/top_1_categorical_accuracy: 0.0000e+00 - factorized_top_k/top_5_categorical_accuracy: 0.0000e+00 - factorized_top_k/top_10_categorical_accuracy: 0.0000e+00 - factorized_top_k/top_50_categorical_accuracy: 0.0000e+00 - factorized_top_k/top_100_categorical_accuracy: 0.0000e+00 - loss: 51189.9318 - regularization_loss: 0.0000e+00 - total_loss: 51189.9318\n",
      "Epoch 282/300\n",
      "27/27 [==============================] - 46s 2s/step - factorized_top_k/top_1_categorical_accuracy: 0.0000e+00 - factorized_top_k/top_5_categorical_accuracy: 0.0000e+00 - factorized_top_k/top_10_categorical_accuracy: 0.0000e+00 - factorized_top_k/top_50_categorical_accuracy: 0.0000e+00 - factorized_top_k/top_100_categorical_accuracy: 0.0000e+00 - loss: 51182.2792 - regularization_loss: 0.0000e+00 - total_loss: 51182.2792\n",
      "Epoch 283/300\n",
      "27/27 [==============================] - 46s 2s/step - factorized_top_k/top_1_categorical_accuracy: 0.0000e+00 - factorized_top_k/top_5_categorical_accuracy: 0.0000e+00 - factorized_top_k/top_10_categorical_accuracy: 0.0000e+00 - factorized_top_k/top_50_categorical_accuracy: 0.0000e+00 - factorized_top_k/top_100_categorical_accuracy: 0.0000e+00 - loss: 51174.8424 - regularization_loss: 0.0000e+00 - total_loss: 51174.8424\n",
      "Epoch 284/300\n",
      "27/27 [==============================] - 46s 2s/step - factorized_top_k/top_1_categorical_accuracy: 0.0000e+00 - factorized_top_k/top_5_categorical_accuracy: 0.0000e+00 - factorized_top_k/top_10_categorical_accuracy: 0.0000e+00 - factorized_top_k/top_50_categorical_accuracy: 0.0000e+00 - factorized_top_k/top_100_categorical_accuracy: 0.0000e+00 - loss: 51167.2314 - regularization_loss: 0.0000e+00 - total_loss: 51167.2314\n",
      "Epoch 285/300\n",
      "27/27 [==============================] - 59s 2s/step - factorized_top_k/top_1_categorical_accuracy: 0.0000e+00 - factorized_top_k/top_5_categorical_accuracy: 0.0000e+00 - factorized_top_k/top_10_categorical_accuracy: 0.0000e+00 - factorized_top_k/top_50_categorical_accuracy: 0.0000e+00 - factorized_top_k/top_100_categorical_accuracy: 0.0000e+00 - loss: 51159.8318 - regularization_loss: 0.0000e+00 - total_loss: 51159.8318 - val_factorized_top_k/top_1_categorical_accuracy: 0.0148 - val_factorized_top_k/top_5_categorical_accuracy: 0.1197 - val_factorized_top_k/top_10_categorical_accuracy: 0.2103 - val_factorized_top_k/top_50_categorical_accuracy: 0.3855 - val_factorized_top_k/top_100_categorical_accuracy: 0.4609 - val_loss: 6847.5571 - val_regularization_loss: 0.0000e+00 - val_total_loss: 6847.5571\n",
      "Epoch 286/300\n",
      "27/27 [==============================] - 46s 2s/step - factorized_top_k/top_1_categorical_accuracy: 0.0000e+00 - factorized_top_k/top_5_categorical_accuracy: 0.0000e+00 - factorized_top_k/top_10_categorical_accuracy: 0.0000e+00 - factorized_top_k/top_50_categorical_accuracy: 0.0000e+00 - factorized_top_k/top_100_categorical_accuracy: 0.0000e+00 - loss: 51152.2711 - regularization_loss: 0.0000e+00 - total_loss: 51152.2711\n",
      "Epoch 287/300\n",
      "27/27 [==============================] - 46s 2s/step - factorized_top_k/top_1_categorical_accuracy: 0.0000e+00 - factorized_top_k/top_5_categorical_accuracy: 0.0000e+00 - factorized_top_k/top_10_categorical_accuracy: 0.0000e+00 - factorized_top_k/top_50_categorical_accuracy: 0.0000e+00 - factorized_top_k/top_100_categorical_accuracy: 0.0000e+00 - loss: 51144.8954 - regularization_loss: 0.0000e+00 - total_loss: 51144.8954\n",
      "Epoch 288/300\n",
      "27/27 [==============================] - 46s 2s/step - factorized_top_k/top_1_categorical_accuracy: 0.0000e+00 - factorized_top_k/top_5_categorical_accuracy: 0.0000e+00 - factorized_top_k/top_10_categorical_accuracy: 0.0000e+00 - factorized_top_k/top_50_categorical_accuracy: 0.0000e+00 - factorized_top_k/top_100_categorical_accuracy: 0.0000e+00 - loss: 51137.3895 - regularization_loss: 0.0000e+00 - total_loss: 51137.3895\n",
      "Epoch 289/300\n"
     ]
    },
    {
     "name": "stdout",
     "output_type": "stream",
     "text": [
      "27/27 [==============================] - 46s 2s/step - factorized_top_k/top_1_categorical_accuracy: 0.0000e+00 - factorized_top_k/top_5_categorical_accuracy: 0.0000e+00 - factorized_top_k/top_10_categorical_accuracy: 0.0000e+00 - factorized_top_k/top_50_categorical_accuracy: 0.0000e+00 - factorized_top_k/top_100_categorical_accuracy: 0.0000e+00 - loss: 51130.0485 - regularization_loss: 0.0000e+00 - total_loss: 51130.0485\n",
      "Epoch 290/300\n",
      "27/27 [==============================] - 59s 2s/step - factorized_top_k/top_1_categorical_accuracy: 0.0000e+00 - factorized_top_k/top_5_categorical_accuracy: 0.0000e+00 - factorized_top_k/top_10_categorical_accuracy: 0.0000e+00 - factorized_top_k/top_50_categorical_accuracy: 0.0000e+00 - factorized_top_k/top_100_categorical_accuracy: 0.0000e+00 - loss: 51122.5903 - regularization_loss: 0.0000e+00 - total_loss: 51122.5903 - val_factorized_top_k/top_1_categorical_accuracy: 0.0144 - val_factorized_top_k/top_5_categorical_accuracy: 0.1198 - val_factorized_top_k/top_10_categorical_accuracy: 0.2110 - val_factorized_top_k/top_50_categorical_accuracy: 0.3864 - val_factorized_top_k/top_100_categorical_accuracy: 0.4617 - val_loss: 6841.0693 - val_regularization_loss: 0.0000e+00 - val_total_loss: 6841.0693\n",
      "Epoch 291/300\n",
      "27/27 [==============================] - 46s 2s/step - factorized_top_k/top_1_categorical_accuracy: 0.0000e+00 - factorized_top_k/top_5_categorical_accuracy: 0.0000e+00 - factorized_top_k/top_10_categorical_accuracy: 0.0000e+00 - factorized_top_k/top_50_categorical_accuracy: 0.0000e+00 - factorized_top_k/top_100_categorical_accuracy: 0.0000e+00 - loss: 51115.2859 - regularization_loss: 0.0000e+00 - total_loss: 51115.2859\n",
      "Epoch 292/300\n",
      "27/27 [==============================] - 48s 2s/step - factorized_top_k/top_1_categorical_accuracy: 0.0000e+00 - factorized_top_k/top_5_categorical_accuracy: 0.0000e+00 - factorized_top_k/top_10_categorical_accuracy: 0.0000e+00 - factorized_top_k/top_50_categorical_accuracy: 0.0000e+00 - factorized_top_k/top_100_categorical_accuracy: 0.0000e+00 - loss: 51107.8643 - regularization_loss: 0.0000e+00 - total_loss: 51107.8643\n",
      "Epoch 293/300\n",
      "27/27 [==============================] - 47s 2s/step - factorized_top_k/top_1_categorical_accuracy: 0.0000e+00 - factorized_top_k/top_5_categorical_accuracy: 0.0000e+00 - factorized_top_k/top_10_categorical_accuracy: 0.0000e+00 - factorized_top_k/top_50_categorical_accuracy: 0.0000e+00 - factorized_top_k/top_100_categorical_accuracy: 0.0000e+00 - loss: 51100.6045 - regularization_loss: 0.0000e+00 - total_loss: 51100.6045\n",
      "Epoch 294/300\n",
      "27/27 [==============================] - 47s 2s/step - factorized_top_k/top_1_categorical_accuracy: 0.0000e+00 - factorized_top_k/top_5_categorical_accuracy: 0.0000e+00 - factorized_top_k/top_10_categorical_accuracy: 0.0000e+00 - factorized_top_k/top_50_categorical_accuracy: 0.0000e+00 - factorized_top_k/top_100_categorical_accuracy: 0.0000e+00 - loss: 51093.2148 - regularization_loss: 0.0000e+00 - total_loss: 51093.2148\n",
      "Epoch 295/300\n",
      "27/27 [==============================] - 60s 2s/step - factorized_top_k/top_1_categorical_accuracy: 0.0000e+00 - factorized_top_k/top_5_categorical_accuracy: 0.0000e+00 - factorized_top_k/top_10_categorical_accuracy: 0.0000e+00 - factorized_top_k/top_50_categorical_accuracy: 0.0000e+00 - factorized_top_k/top_100_categorical_accuracy: 0.0000e+00 - loss: 51086.0075 - regularization_loss: 0.0000e+00 - total_loss: 51086.0075 - val_factorized_top_k/top_1_categorical_accuracy: 0.0146 - val_factorized_top_k/top_5_categorical_accuracy: 0.1202 - val_factorized_top_k/top_10_categorical_accuracy: 0.2117 - val_factorized_top_k/top_50_categorical_accuracy: 0.3875 - val_factorized_top_k/top_100_categorical_accuracy: 0.4629 - val_loss: 6834.3188 - val_regularization_loss: 0.0000e+00 - val_total_loss: 6834.3188\n",
      "Epoch 296/300\n",
      "27/27 [==============================] - 47s 2s/step - factorized_top_k/top_1_categorical_accuracy: 0.0000e+00 - factorized_top_k/top_5_categorical_accuracy: 0.0000e+00 - factorized_top_k/top_10_categorical_accuracy: 0.0000e+00 - factorized_top_k/top_50_categorical_accuracy: 0.0000e+00 - factorized_top_k/top_100_categorical_accuracy: 0.0000e+00 - loss: 51078.6557 - regularization_loss: 0.0000e+00 - total_loss: 51078.6557\n",
      "Epoch 297/300\n",
      "27/27 [==============================] - 47s 2s/step - factorized_top_k/top_1_categorical_accuracy: 0.0000e+00 - factorized_top_k/top_5_categorical_accuracy: 0.0000e+00 - factorized_top_k/top_10_categorical_accuracy: 0.0000e+00 - factorized_top_k/top_50_categorical_accuracy: 0.0000e+00 - factorized_top_k/top_100_categorical_accuracy: 0.0000e+00 - loss: 51071.4999 - regularization_loss: 0.0000e+00 - total_loss: 51071.4999\n",
      "Epoch 298/300\n",
      "27/27 [==============================] - 47s 2s/step - factorized_top_k/top_1_categorical_accuracy: 0.0000e+00 - factorized_top_k/top_5_categorical_accuracy: 0.0000e+00 - factorized_top_k/top_10_categorical_accuracy: 0.0000e+00 - factorized_top_k/top_50_categorical_accuracy: 0.0000e+00 - factorized_top_k/top_100_categorical_accuracy: 0.0000e+00 - loss: 51064.1786 - regularization_loss: 0.0000e+00 - total_loss: 51064.1786\n",
      "Epoch 299/300\n",
      "27/27 [==============================] - 47s 2s/step - factorized_top_k/top_1_categorical_accuracy: 0.0000e+00 - factorized_top_k/top_5_categorical_accuracy: 0.0000e+00 - factorized_top_k/top_10_categorical_accuracy: 0.0000e+00 - factorized_top_k/top_50_categorical_accuracy: 0.0000e+00 - factorized_top_k/top_100_categorical_accuracy: 0.0000e+00 - loss: 51057.0818 - regularization_loss: 0.0000e+00 - total_loss: 51057.0818\n",
      "Epoch 300/300\n",
      "27/27 [==============================] - 60s 2s/step - factorized_top_k/top_1_categorical_accuracy: 0.0000e+00 - factorized_top_k/top_5_categorical_accuracy: 0.0000e+00 - factorized_top_k/top_10_categorical_accuracy: 0.0000e+00 - factorized_top_k/top_50_categorical_accuracy: 0.0000e+00 - factorized_top_k/top_100_categorical_accuracy: 0.0000e+00 - loss: 51049.7902 - regularization_loss: 0.0000e+00 - total_loss: 51049.7902 - val_factorized_top_k/top_1_categorical_accuracy: 0.0146 - val_factorized_top_k/top_5_categorical_accuracy: 0.1206 - val_factorized_top_k/top_10_categorical_accuracy: 0.2120 - val_factorized_top_k/top_50_categorical_accuracy: 0.3885 - val_factorized_top_k/top_100_categorical_accuracy: 0.4635 - val_loss: 6827.8657 - val_regularization_loss: 0.0000e+00 - val_total_loss: 6827.8657\n",
      "Wall time: 4h 25min 29s\n"
     ]
    }
   ],
   "source": [
    "%%time\n",
    "one_layer_history = model.fit(\n",
    "    cached_train,\n",
    "    validation_data=cached_val,\n",
    "    validation_freq=5,\n",
    "    epochs=num_epochs,\n",
    "    verbose=1)"
   ]
  },
  {
   "cell_type": "markdown",
   "id": "4da9a9df",
   "metadata": {},
   "source": [
    "### Save"
   ]
  },
  {
   "cell_type": "code",
   "execution_count": 34,
   "id": "ff588f6f",
   "metadata": {},
   "outputs": [],
   "source": [
    "model.save_weights('../Data/TFRS/features/retrieval/model_1/300epochs/model1_ranking_300_epochs_checkpoint')\n",
    "with open('../Data/TFRS/features/retrieval/model_1/model1_history.obj', 'wb') as pickle_file:\n",
    "    pickle.dump(one_layer_history.history, pickle_file)"
   ]
  },
  {
   "cell_type": "markdown",
   "id": "0f9f2a25",
   "metadata": {},
   "source": [
    "### Plot"
   ]
  },
  {
   "cell_type": "code",
   "execution_count": 36,
   "id": "faa5f74d",
   "metadata": {},
   "outputs": [
    {
     "data": {
      "image/png": "[encoded data removed]",
      "text/plain": [
       "<Figure size 432x288 with 1 Axes>"
      ]
     },
     "metadata": {
      "needs_background": "light"
     },
     "output_type": "display_data"
    }
   ],
   "source": [
    "import matplotlib.pyplot as plt\n",
    "\n",
    "num_validation_runs = len(one_layer_history.history[\"val_factorized_top_k/top_100_categorical_accuracy\"])\n",
    "epochs = [(x + 1)* 5 for x in range(num_validation_runs)]\n",
    "\n",
    "plt.plot(epochs, one_layer_history.history[\"val_factorized_top_k/top_100_categorical_accuracy\"])\n",
    "plt.title(\"Accuracy vs epoch\")\n",
    "plt.xlabel(\"epoch\")\n",
    "plt.ylabel(\"Top-100 accuracy\");\n",
    "# plt.legend()"
   ]
  },
  {
   "cell_type": "code",
   "execution_count": 37,
   "id": "572caa5e",
   "metadata": {},
   "outputs": [
    {
     "name": "stdout",
     "output_type": "stream",
     "text": [
      "12/12 [==============================] - 15s 1s/step - factorized_top_k/top_1_categorical_accuracy: 0.0146 - factorized_top_k/top_5_categorical_accuracy: 0.1206 - factorized_top_k/top_10_categorical_accuracy: 0.2120 - factorized_top_k/top_50_categorical_accuracy: 0.3885 - factorized_top_k/top_100_categorical_accuracy: 0.4635 - loss: 20996.7806 - regularization_loss: 0.0000e+00 - total_loss: 20996.7806\n"
     ]
    }
   ],
   "source": [
    "evaluated_model_300epochs = model.evaluate(cached_test, return_dict=True)"
   ]
  },
  {
   "cell_type": "code",
   "execution_count": 38,
   "id": "cdf14422",
   "metadata": {},
   "outputs": [
    {
     "name": "stdout",
     "output_type": "stream",
     "text": [
      "Evaluated metrics:\n",
      "factorized_top_k/top_1_categorical_accuracy: 0.014558200724422932\n",
      "factorized_top_k/top_5_categorical_accuracy: 0.12063737958669662\n",
      "factorized_top_k/top_10_categorical_accuracy: 0.21198631823062897\n",
      "factorized_top_k/top_50_categorical_accuracy: 0.38846954703330994\n",
      "factorized_top_k/top_100_categorical_accuracy: 0.4635184705257416\n",
      "loss: 6827.86572265625\n",
      "regularization_loss: 0\n",
      "total_loss: 6827.86572265625\n"
     ]
    }
   ],
   "source": [
    "print(\"Evaluated metrics:\")\n",
    "for metric in evaluated_model_300epochs.items():\n",
    "    print(f\"{metric[0]}: {metric[1]}\")"
   ]
  },
  {
   "cell_type": "markdown",
   "id": "2a6d42a8",
   "metadata": {},
   "source": [
    "## Train next 100 epochs"
   ]
  },
  {
   "cell_type": "code",
   "execution_count": 39,
   "id": "2192cd1f",
   "metadata": {},
   "outputs": [
    {
     "name": "stdout",
     "output_type": "stream",
     "text": [
      "Epoch 1/100\n",
      "27/27 [==============================] - 49s 2s/step - factorized_top_k/top_1_categorical_accuracy: 0.0000e+00 - factorized_top_k/top_5_categorical_accuracy: 0.0000e+00 - factorized_top_k/top_10_categorical_accuracy: 0.0000e+00 - factorized_top_k/top_50_categorical_accuracy: 0.0000e+00 - factorized_top_k/top_100_categorical_accuracy: 0.0000e+00 - loss: 51042.7416 - regularization_loss: 0.0000e+00 - total_loss: 51042.7416\n",
      "Epoch 2/100\n",
      "27/27 [==============================] - 49s 2s/step - factorized_top_k/top_1_categorical_accuracy: 0.0000e+00 - factorized_top_k/top_5_categorical_accuracy: 0.0000e+00 - factorized_top_k/top_10_categorical_accuracy: 0.0000e+00 - factorized_top_k/top_50_categorical_accuracy: 0.0000e+00 - factorized_top_k/top_100_categorical_accuracy: 0.0000e+00 - loss: 51035.4873 - regularization_loss: 0.0000e+00 - total_loss: 51035.4873\n",
      "Epoch 3/100\n",
      "27/27 [==============================] - 49s 2s/step - factorized_top_k/top_1_categorical_accuracy: 0.0000e+00 - factorized_top_k/top_5_categorical_accuracy: 0.0000e+00 - factorized_top_k/top_10_categorical_accuracy: 0.0000e+00 - factorized_top_k/top_50_categorical_accuracy: 0.0000e+00 - factorized_top_k/top_100_categorical_accuracy: 0.0000e+00 - loss: 51028.4824 - regularization_loss: 0.0000e+00 - total_loss: 51028.4824\n",
      "Epoch 4/100\n",
      "27/27 [==============================] - 49s 2s/step - factorized_top_k/top_1_categorical_accuracy: 0.0000e+00 - factorized_top_k/top_5_categorical_accuracy: 0.0000e+00 - factorized_top_k/top_10_categorical_accuracy: 0.0000e+00 - factorized_top_k/top_50_categorical_accuracy: 0.0000e+00 - factorized_top_k/top_100_categorical_accuracy: 0.0000e+00 - loss: 51021.2729 - regularization_loss: 0.0000e+00 - total_loss: 51021.2729\n",
      "Epoch 5/100\n",
      "27/27 [==============================] - 62s 2s/step - factorized_top_k/top_1_categorical_accuracy: 0.0000e+00 - factorized_top_k/top_5_categorical_accuracy: 0.0000e+00 - factorized_top_k/top_10_categorical_accuracy: 0.0000e+00 - factorized_top_k/top_50_categorical_accuracy: 0.0000e+00 - factorized_top_k/top_100_categorical_accuracy: 0.0000e+00 - loss: 51014.3076 - regularization_loss: 0.0000e+00 - total_loss: 51014.3076 - val_factorized_top_k/top_1_categorical_accuracy: 0.0146 - val_factorized_top_k/top_5_categorical_accuracy: 0.1207 - val_factorized_top_k/top_10_categorical_accuracy: 0.2125 - val_factorized_top_k/top_50_categorical_accuracy: 0.3895 - val_factorized_top_k/top_100_categorical_accuracy: 0.4640 - val_loss: 6821.1606 - val_regularization_loss: 0.0000e+00 - val_total_loss: 6821.1606\n",
      "Epoch 6/100\n",
      "27/27 [==============================] - 47s 2s/step - factorized_top_k/top_1_categorical_accuracy: 0.0000e+00 - factorized_top_k/top_5_categorical_accuracy: 0.0000e+00 - factorized_top_k/top_10_categorical_accuracy: 0.0000e+00 - factorized_top_k/top_50_categorical_accuracy: 0.0000e+00 - factorized_top_k/top_100_categorical_accuracy: 0.0000e+00 - loss: 51007.1508 - regularization_loss: 0.0000e+00 - total_loss: 51007.1508\n",
      "Epoch 7/100\n",
      "27/27 [==============================] - 48s 2s/step - factorized_top_k/top_1_categorical_accuracy: 0.0000e+00 - factorized_top_k/top_5_categorical_accuracy: 0.0000e+00 - factorized_top_k/top_10_categorical_accuracy: 0.0000e+00 - factorized_top_k/top_50_categorical_accuracy: 0.0000e+00 - factorized_top_k/top_100_categorical_accuracy: 0.0000e+00 - loss: 51000.2220 - regularization_loss: 0.0000e+00 - total_loss: 51000.2220\n",
      "Epoch 8/100\n",
      "27/27 [==============================] - 48s 2s/step - factorized_top_k/top_1_categorical_accuracy: 0.0000e+00 - factorized_top_k/top_5_categorical_accuracy: 0.0000e+00 - factorized_top_k/top_10_categorical_accuracy: 0.0000e+00 - factorized_top_k/top_50_categorical_accuracy: 0.0000e+00 - factorized_top_k/top_100_categorical_accuracy: 0.0000e+00 - loss: 50993.1204 - regularization_loss: 0.0000e+00 - total_loss: 50993.1204\n",
      "Epoch 9/100\n",
      "27/27 [==============================] - 48s 2s/step - factorized_top_k/top_1_categorical_accuracy: 0.0000e+00 - factorized_top_k/top_5_categorical_accuracy: 0.0000e+00 - factorized_top_k/top_10_categorical_accuracy: 0.0000e+00 - factorized_top_k/top_50_categorical_accuracy: 0.0000e+00 - factorized_top_k/top_100_categorical_accuracy: 0.0000e+00 - loss: 50986.2281 - regularization_loss: 0.0000e+00 - total_loss: 50986.2281\n",
      "Epoch 10/100\n",
      "27/27 [==============================] - 60s 2s/step - factorized_top_k/top_1_categorical_accuracy: 0.0000e+00 - factorized_top_k/top_5_categorical_accuracy: 0.0000e+00 - factorized_top_k/top_10_categorical_accuracy: 0.0000e+00 - factorized_top_k/top_50_categorical_accuracy: 0.0000e+00 - factorized_top_k/top_100_categorical_accuracy: 0.0000e+00 - loss: 50979.1787 - regularization_loss: 0.0000e+00 - total_loss: 50979.1787 - val_factorized_top_k/top_1_categorical_accuracy: 0.0146 - val_factorized_top_k/top_5_categorical_accuracy: 0.1212 - val_factorized_top_k/top_10_categorical_accuracy: 0.2128 - val_factorized_top_k/top_50_categorical_accuracy: 0.3901 - val_factorized_top_k/top_100_categorical_accuracy: 0.4650 - val_loss: 6814.7407 - val_regularization_loss: 0.0000e+00 - val_total_loss: 6814.7407\n",
      "Epoch 11/100\n",
      "27/27 [==============================] - 47s 2s/step - factorized_top_k/top_1_categorical_accuracy: 0.0000e+00 - factorized_top_k/top_5_categorical_accuracy: 0.0000e+00 - factorized_top_k/top_10_categorical_accuracy: 0.0000e+00 - factorized_top_k/top_50_categorical_accuracy: 0.0000e+00 - factorized_top_k/top_100_categorical_accuracy: 0.0000e+00 - loss: 50972.3246 - regularization_loss: 0.0000e+00 - total_loss: 50972.3246\n",
      "Epoch 12/100\n",
      "27/27 [==============================] - 47s 2s/step - factorized_top_k/top_1_categorical_accuracy: 0.0000e+00 - factorized_top_k/top_5_categorical_accuracy: 0.0000e+00 - factorized_top_k/top_10_categorical_accuracy: 0.0000e+00 - factorized_top_k/top_50_categorical_accuracy: 0.0000e+00 - factorized_top_k/top_100_categorical_accuracy: 0.0000e+00 - loss: 50965.3209 - regularization_loss: 0.0000e+00 - total_loss: 50965.3209\n",
      "Epoch 13/100\n",
      "27/27 [==============================] - 47s 2s/step - factorized_top_k/top_1_categorical_accuracy: 0.0000e+00 - factorized_top_k/top_5_categorical_accuracy: 0.0000e+00 - factorized_top_k/top_10_categorical_accuracy: 0.0000e+00 - factorized_top_k/top_50_categorical_accuracy: 0.0000e+00 - factorized_top_k/top_100_categorical_accuracy: 0.0000e+00 - loss: 50958.5135 - regularization_loss: 0.0000e+00 - total_loss: 50958.5135\n",
      "Epoch 14/100\n",
      "27/27 [==============================] - 47s 2s/step - factorized_top_k/top_1_categorical_accuracy: 0.0000e+00 - factorized_top_k/top_5_categorical_accuracy: 0.0000e+00 - factorized_top_k/top_10_categorical_accuracy: 0.0000e+00 - factorized_top_k/top_50_categorical_accuracy: 0.0000e+00 - factorized_top_k/top_100_categorical_accuracy: 0.0000e+00 - loss: 50951.5473 - regularization_loss: 0.0000e+00 - total_loss: 50951.5473\n",
      "Epoch 15/100\n",
      "27/27 [==============================] - 59s 2s/step - factorized_top_k/top_1_categorical_accuracy: 0.0000e+00 - factorized_top_k/top_5_categorical_accuracy: 0.0000e+00 - factorized_top_k/top_10_categorical_accuracy: 0.0000e+00 - factorized_top_k/top_50_categorical_accuracy: 0.0000e+00 - factorized_top_k/top_100_categorical_accuracy: 0.0000e+00 - loss: 50944.7966 - regularization_loss: 0.0000e+00 - total_loss: 50944.7966 - val_factorized_top_k/top_1_categorical_accuracy: 0.0145 - val_factorized_top_k/top_5_categorical_accuracy: 0.1215 - val_factorized_top_k/top_10_categorical_accuracy: 0.2133 - val_factorized_top_k/top_50_categorical_accuracy: 0.3912 - val_factorized_top_k/top_100_categorical_accuracy: 0.4659 - val_loss: 6808.0708 - val_regularization_loss: 0.0000e+00 - val_total_loss: 6808.0708\n",
      "Epoch 16/100\n",
      "27/27 [==============================] - 47s 2s/step - factorized_top_k/top_1_categorical_accuracy: 0.0000e+00 - factorized_top_k/top_5_categorical_accuracy: 0.0000e+00 - factorized_top_k/top_10_categorical_accuracy: 0.0000e+00 - factorized_top_k/top_50_categorical_accuracy: 0.0000e+00 - factorized_top_k/top_100_categorical_accuracy: 0.0000e+00 - loss: 50937.8712 - regularization_loss: 0.0000e+00 - total_loss: 50937.8712\n",
      "Epoch 17/100\n"
     ]
    },
    {
     "name": "stdout",
     "output_type": "stream",
     "text": [
      "27/27 [==============================] - 46s 2s/step - factorized_top_k/top_1_categorical_accuracy: 0.0000e+00 - factorized_top_k/top_5_categorical_accuracy: 0.0000e+00 - factorized_top_k/top_10_categorical_accuracy: 0.0000e+00 - factorized_top_k/top_50_categorical_accuracy: 0.0000e+00 - factorized_top_k/top_100_categorical_accuracy: 0.0000e+00 - loss: 50931.1793 - regularization_loss: 0.0000e+00 - total_loss: 50931.1793\n",
      "Epoch 18/100\n",
      "27/27 [==============================] - 47s 2s/step - factorized_top_k/top_1_categorical_accuracy: 0.0000e+00 - factorized_top_k/top_5_categorical_accuracy: 0.0000e+00 - factorized_top_k/top_10_categorical_accuracy: 0.0000e+00 - factorized_top_k/top_50_categorical_accuracy: 0.0000e+00 - factorized_top_k/top_100_categorical_accuracy: 0.0000e+00 - loss: 50924.2895 - regularization_loss: 0.0000e+00 - total_loss: 50924.2895\n",
      "Epoch 19/100\n",
      "27/27 [==============================] - 46s 2s/step - factorized_top_k/top_1_categorical_accuracy: 0.0000e+00 - factorized_top_k/top_5_categorical_accuracy: 0.0000e+00 - factorized_top_k/top_10_categorical_accuracy: 0.0000e+00 - factorized_top_k/top_50_categorical_accuracy: 0.0000e+00 - factorized_top_k/top_100_categorical_accuracy: 0.0000e+00 - loss: 50917.6590 - regularization_loss: 0.0000e+00 - total_loss: 50917.6590\n",
      "Epoch 20/100\n",
      "27/27 [==============================] - 60s 2s/step - factorized_top_k/top_1_categorical_accuracy: 0.0000e+00 - factorized_top_k/top_5_categorical_accuracy: 0.0000e+00 - factorized_top_k/top_10_categorical_accuracy: 0.0000e+00 - factorized_top_k/top_50_categorical_accuracy: 0.0000e+00 - factorized_top_k/top_100_categorical_accuracy: 0.0000e+00 - loss: 50910.8092 - regularization_loss: 0.0000e+00 - total_loss: 50910.8092 - val_factorized_top_k/top_1_categorical_accuracy: 0.0143 - val_factorized_top_k/top_5_categorical_accuracy: 0.1213 - val_factorized_top_k/top_10_categorical_accuracy: 0.2136 - val_factorized_top_k/top_50_categorical_accuracy: 0.3923 - val_factorized_top_k/top_100_categorical_accuracy: 0.4668 - val_loss: 6801.6880 - val_regularization_loss: 0.0000e+00 - val_total_loss: 6801.6880\n",
      "Epoch 21/100\n",
      "27/27 [==============================] - 47s 2s/step - factorized_top_k/top_1_categorical_accuracy: 0.0000e+00 - factorized_top_k/top_5_categorical_accuracy: 0.0000e+00 - factorized_top_k/top_10_categorical_accuracy: 0.0000e+00 - factorized_top_k/top_50_categorical_accuracy: 0.0000e+00 - factorized_top_k/top_100_categorical_accuracy: 0.0000e+00 - loss: 50904.2352 - regularization_loss: 0.0000e+00 - total_loss: 50904.2352\n",
      "Epoch 22/100\n",
      "27/27 [==============================] - 47s 2s/step - factorized_top_k/top_1_categorical_accuracy: 0.0000e+00 - factorized_top_k/top_5_categorical_accuracy: 0.0000e+00 - factorized_top_k/top_10_categorical_accuracy: 0.0000e+00 - factorized_top_k/top_50_categorical_accuracy: 0.0000e+00 - factorized_top_k/top_100_categorical_accuracy: 0.0000e+00 - loss: 50897.4316 - regularization_loss: 0.0000e+00 - total_loss: 50897.4316\n",
      "Epoch 23/100\n",
      "27/27 [==============================] - 47s 2s/step - factorized_top_k/top_1_categorical_accuracy: 0.0000e+00 - factorized_top_k/top_5_categorical_accuracy: 0.0000e+00 - factorized_top_k/top_10_categorical_accuracy: 0.0000e+00 - factorized_top_k/top_50_categorical_accuracy: 0.0000e+00 - factorized_top_k/top_100_categorical_accuracy: 0.0000e+00 - loss: 50890.9103 - regularization_loss: 0.0000e+00 - total_loss: 50890.9103\n",
      "Epoch 24/100\n",
      "27/27 [==============================] - 47s 2s/step - factorized_top_k/top_1_categorical_accuracy: 0.0000e+00 - factorized_top_k/top_5_categorical_accuracy: 0.0000e+00 - factorized_top_k/top_10_categorical_accuracy: 0.0000e+00 - factorized_top_k/top_50_categorical_accuracy: 0.0000e+00 - factorized_top_k/top_100_categorical_accuracy: 0.0000e+00 - loss: 50884.1561 - regularization_loss: 0.0000e+00 - total_loss: 50884.1561\n",
      "Epoch 25/100\n",
      "27/27 [==============================] - 60s 2s/step - factorized_top_k/top_1_categorical_accuracy: 0.0000e+00 - factorized_top_k/top_5_categorical_accuracy: 0.0000e+00 - factorized_top_k/top_10_categorical_accuracy: 0.0000e+00 - factorized_top_k/top_50_categorical_accuracy: 0.0000e+00 - factorized_top_k/top_100_categorical_accuracy: 0.0000e+00 - loss: 50877.6865 - regularization_loss: 0.0000e+00 - total_loss: 50877.6865 - val_factorized_top_k/top_1_categorical_accuracy: 0.0144 - val_factorized_top_k/top_5_categorical_accuracy: 0.1216 - val_factorized_top_k/top_10_categorical_accuracy: 0.2141 - val_factorized_top_k/top_50_categorical_accuracy: 0.3932 - val_factorized_top_k/top_100_categorical_accuracy: 0.4677 - val_loss: 6795.0669 - val_regularization_loss: 0.0000e+00 - val_total_loss: 6795.0669\n",
      "Epoch 26/100\n",
      "27/27 [==============================] - 46s 2s/step - factorized_top_k/top_1_categorical_accuracy: 0.0000e+00 - factorized_top_k/top_5_categorical_accuracy: 0.0000e+00 - factorized_top_k/top_10_categorical_accuracy: 0.0000e+00 - factorized_top_k/top_50_categorical_accuracy: 0.0000e+00 - factorized_top_k/top_100_categorical_accuracy: 0.0000e+00 - loss: 50870.9893 - regularization_loss: 0.0000e+00 - total_loss: 50870.9893\n",
      "Epoch 27/100\n",
      "27/27 [==============================] - 47s 2s/step - factorized_top_k/top_1_categorical_accuracy: 0.0000e+00 - factorized_top_k/top_5_categorical_accuracy: 0.0000e+00 - factorized_top_k/top_10_categorical_accuracy: 0.0000e+00 - factorized_top_k/top_50_categorical_accuracy: 0.0000e+00 - factorized_top_k/top_100_categorical_accuracy: 0.0000e+00 - loss: 50864.5685 - regularization_loss: 0.0000e+00 - total_loss: 50864.5685\n",
      "Epoch 28/100\n",
      "27/27 [==============================] - 47s 2s/step - factorized_top_k/top_1_categorical_accuracy: 0.0000e+00 - factorized_top_k/top_5_categorical_accuracy: 0.0000e+00 - factorized_top_k/top_10_categorical_accuracy: 0.0000e+00 - factorized_top_k/top_50_categorical_accuracy: 0.0000e+00 - factorized_top_k/top_100_categorical_accuracy: 0.0000e+00 - loss: 50857.9353 - regularization_loss: 0.0000e+00 - total_loss: 50857.9353\n",
      "Epoch 29/100\n",
      "27/27 [==============================] - 48s 2s/step - factorized_top_k/top_1_categorical_accuracy: 0.0000e+00 - factorized_top_k/top_5_categorical_accuracy: 0.0000e+00 - factorized_top_k/top_10_categorical_accuracy: 0.0000e+00 - factorized_top_k/top_50_categorical_accuracy: 0.0000e+00 - factorized_top_k/top_100_categorical_accuracy: 0.0000e+00 - loss: 50851.5638 - regularization_loss: 0.0000e+00 - total_loss: 50851.5638\n",
      "Epoch 30/100\n",
      "27/27 [==============================] - 60s 2s/step - factorized_top_k/top_1_categorical_accuracy: 0.0000e+00 - factorized_top_k/top_5_categorical_accuracy: 0.0000e+00 - factorized_top_k/top_10_categorical_accuracy: 0.0000e+00 - factorized_top_k/top_50_categorical_accuracy: 0.0000e+00 - factorized_top_k/top_100_categorical_accuracy: 0.0000e+00 - loss: 50844.9973 - regularization_loss: 0.0000e+00 - total_loss: 50844.9973 - val_factorized_top_k/top_1_categorical_accuracy: 0.0146 - val_factorized_top_k/top_5_categorical_accuracy: 0.1217 - val_factorized_top_k/top_10_categorical_accuracy: 0.2142 - val_factorized_top_k/top_50_categorical_accuracy: 0.3942 - val_factorized_top_k/top_100_categorical_accuracy: 0.4685 - val_loss: 6788.7612 - val_regularization_loss: 0.0000e+00 - val_total_loss: 6788.7612\n",
      "Epoch 31/100\n",
      "27/27 [==============================] - 46s 2s/step - factorized_top_k/top_1_categorical_accuracy: 0.0000e+00 - factorized_top_k/top_5_categorical_accuracy: 0.0000e+00 - factorized_top_k/top_10_categorical_accuracy: 0.0000e+00 - factorized_top_k/top_50_categorical_accuracy: 0.0000e+00 - factorized_top_k/top_100_categorical_accuracy: 0.0000e+00 - loss: 50838.6734 - regularization_loss: 0.0000e+00 - total_loss: 50838.6734\n",
      "Epoch 32/100\n",
      "27/27 [==============================] - 46s 2s/step - factorized_top_k/top_1_categorical_accuracy: 0.0000e+00 - factorized_top_k/top_5_categorical_accuracy: 0.0000e+00 - factorized_top_k/top_10_categorical_accuracy: 0.0000e+00 - factorized_top_k/top_50_categorical_accuracy: 0.0000e+00 - factorized_top_k/top_100_categorical_accuracy: 0.0000e+00 - loss: 50832.1726 - regularization_loss: 0.0000e+00 - total_loss: 50832.1726\n",
      "Epoch 33/100\n"
     ]
    },
    {
     "name": "stdout",
     "output_type": "stream",
     "text": [
      "27/27 [==============================] - 46s 2s/step - factorized_top_k/top_1_categorical_accuracy: 0.0000e+00 - factorized_top_k/top_5_categorical_accuracy: 0.0000e+00 - factorized_top_k/top_10_categorical_accuracy: 0.0000e+00 - factorized_top_k/top_50_categorical_accuracy: 0.0000e+00 - factorized_top_k/top_100_categorical_accuracy: 0.0000e+00 - loss: 50825.9029 - regularization_loss: 0.0000e+00 - total_loss: 50825.9029\n",
      "Epoch 34/100\n",
      "27/27 [==============================] - 46s 2s/step - factorized_top_k/top_1_categorical_accuracy: 0.0000e+00 - factorized_top_k/top_5_categorical_accuracy: 0.0000e+00 - factorized_top_k/top_10_categorical_accuracy: 0.0000e+00 - factorized_top_k/top_50_categorical_accuracy: 0.0000e+00 - factorized_top_k/top_100_categorical_accuracy: 0.0000e+00 - loss: 50819.4556 - regularization_loss: 0.0000e+00 - total_loss: 50819.4556\n",
      "Epoch 35/100\n",
      "27/27 [==============================] - 59s 2s/step - factorized_top_k/top_1_categorical_accuracy: 0.0000e+00 - factorized_top_k/top_5_categorical_accuracy: 0.0000e+00 - factorized_top_k/top_10_categorical_accuracy: 0.0000e+00 - factorized_top_k/top_50_categorical_accuracy: 0.0000e+00 - factorized_top_k/top_100_categorical_accuracy: 0.0000e+00 - loss: 50813.2517 - regularization_loss: 0.0000e+00 - total_loss: 50813.2517 - val_factorized_top_k/top_1_categorical_accuracy: 0.0146 - val_factorized_top_k/top_5_categorical_accuracy: 0.1220 - val_factorized_top_k/top_10_categorical_accuracy: 0.2149 - val_factorized_top_k/top_50_categorical_accuracy: 0.3951 - val_factorized_top_k/top_100_categorical_accuracy: 0.4693 - val_loss: 6782.2651 - val_regularization_loss: 0.0000e+00 - val_total_loss: 6782.2651\n",
      "Epoch 36/100\n",
      "27/27 [==============================] - 47s 2s/step - factorized_top_k/top_1_categorical_accuracy: 0.0000e+00 - factorized_top_k/top_5_categorical_accuracy: 0.0000e+00 - factorized_top_k/top_10_categorical_accuracy: 0.0000e+00 - factorized_top_k/top_50_categorical_accuracy: 0.0000e+00 - factorized_top_k/top_100_categorical_accuracy: 0.0000e+00 - loss: 50806.8626 - regularization_loss: 0.0000e+00 - total_loss: 50806.8626\n",
      "Epoch 37/100\n",
      "27/27 [==============================] - 49s 2s/step - factorized_top_k/top_1_categorical_accuracy: 0.0000e+00 - factorized_top_k/top_5_categorical_accuracy: 0.0000e+00 - factorized_top_k/top_10_categorical_accuracy: 0.0000e+00 - factorized_top_k/top_50_categorical_accuracy: 0.0000e+00 - factorized_top_k/top_100_categorical_accuracy: 0.0000e+00 - loss: 50800.7235 - regularization_loss: 0.0000e+00 - total_loss: 50800.7235\n",
      "Epoch 38/100\n",
      "27/27 [==============================] - 46s 2s/step - factorized_top_k/top_1_categorical_accuracy: 0.0000e+00 - factorized_top_k/top_5_categorical_accuracy: 0.0000e+00 - factorized_top_k/top_10_categorical_accuracy: 0.0000e+00 - factorized_top_k/top_50_categorical_accuracy: 0.0000e+00 - factorized_top_k/top_100_categorical_accuracy: 0.0000e+00 - loss: 50794.3883 - regularization_loss: 0.0000e+00 - total_loss: 50794.3883\n",
      "Epoch 39/100\n",
      "27/27 [==============================] - 46s 2s/step - factorized_top_k/top_1_categorical_accuracy: 0.0000e+00 - factorized_top_k/top_5_categorical_accuracy: 0.0000e+00 - factorized_top_k/top_10_categorical_accuracy: 0.0000e+00 - factorized_top_k/top_50_categorical_accuracy: 0.0000e+00 - factorized_top_k/top_100_categorical_accuracy: 0.0000e+00 - loss: 50788.3245 - regularization_loss: 0.0000e+00 - total_loss: 50788.3245\n",
      "Epoch 40/100\n",
      "27/27 [==============================] - 59s 2s/step - factorized_top_k/top_1_categorical_accuracy: 0.0000e+00 - factorized_top_k/top_5_categorical_accuracy: 0.0000e+00 - factorized_top_k/top_10_categorical_accuracy: 0.0000e+00 - factorized_top_k/top_50_categorical_accuracy: 0.0000e+00 - factorized_top_k/top_100_categorical_accuracy: 0.0000e+00 - loss: 50782.0441 - regularization_loss: 0.0000e+00 - total_loss: 50782.0441 - val_factorized_top_k/top_1_categorical_accuracy: 0.0146 - val_factorized_top_k/top_5_categorical_accuracy: 0.1217 - val_factorized_top_k/top_10_categorical_accuracy: 0.2152 - val_factorized_top_k/top_50_categorical_accuracy: 0.3959 - val_factorized_top_k/top_100_categorical_accuracy: 0.4700 - val_loss: 6776.1387 - val_regularization_loss: 0.0000e+00 - val_total_loss: 6776.1387\n",
      "Epoch 41/100\n",
      "27/27 [==============================] - 47s 2s/step - factorized_top_k/top_1_categorical_accuracy: 0.0000e+00 - factorized_top_k/top_5_categorical_accuracy: 0.0000e+00 - factorized_top_k/top_10_categorical_accuracy: 0.0000e+00 - factorized_top_k/top_50_categorical_accuracy: 0.0000e+00 - factorized_top_k/top_100_categorical_accuracy: 0.0000e+00 - loss: 50776.0522 - regularization_loss: 0.0000e+00 - total_loss: 50776.0522\n",
      "Epoch 42/100\n",
      "27/27 [==============================] - 48s 2s/step - factorized_top_k/top_1_categorical_accuracy: 0.0000e+00 - factorized_top_k/top_5_categorical_accuracy: 0.0000e+00 - factorized_top_k/top_10_categorical_accuracy: 0.0000e+00 - factorized_top_k/top_50_categorical_accuracy: 0.0000e+00 - factorized_top_k/top_100_categorical_accuracy: 0.0000e+00 - loss: 50769.8269 - regularization_loss: 0.0000e+00 - total_loss: 50769.8269\n",
      "Epoch 43/100\n",
      "27/27 [==============================] - 47s 2s/step - factorized_top_k/top_1_categorical_accuracy: 0.0000e+00 - factorized_top_k/top_5_categorical_accuracy: 0.0000e+00 - factorized_top_k/top_10_categorical_accuracy: 0.0000e+00 - factorized_top_k/top_50_categorical_accuracy: 0.0000e+00 - factorized_top_k/top_100_categorical_accuracy: 0.0000e+00 - loss: 50763.9082 - regularization_loss: 0.0000e+00 - total_loss: 50763.9082\n",
      "Epoch 44/100\n",
      "27/27 [==============================] - 48s 2s/step - factorized_top_k/top_1_categorical_accuracy: 0.0000e+00 - factorized_top_k/top_5_categorical_accuracy: 0.0000e+00 - factorized_top_k/top_10_categorical_accuracy: 0.0000e+00 - factorized_top_k/top_50_categorical_accuracy: 0.0000e+00 - factorized_top_k/top_100_categorical_accuracy: 0.0000e+00 - loss: 50757.7422 - regularization_loss: 0.0000e+00 - total_loss: 50757.7422\n",
      "Epoch 45/100\n",
      "27/27 [==============================] - 60s 2s/step - factorized_top_k/top_1_categorical_accuracy: 0.0000e+00 - factorized_top_k/top_5_categorical_accuracy: 0.0000e+00 - factorized_top_k/top_10_categorical_accuracy: 0.0000e+00 - factorized_top_k/top_50_categorical_accuracy: 0.0000e+00 - factorized_top_k/top_100_categorical_accuracy: 0.0000e+00 - loss: 50751.8863 - regularization_loss: 0.0000e+00 - total_loss: 50751.8863 - val_factorized_top_k/top_1_categorical_accuracy: 0.0145 - val_factorized_top_k/top_5_categorical_accuracy: 0.1220 - val_factorized_top_k/top_10_categorical_accuracy: 0.2153 - val_factorized_top_k/top_50_categorical_accuracy: 0.3965 - val_factorized_top_k/top_100_categorical_accuracy: 0.4707 - val_loss: 6769.8779 - val_regularization_loss: 0.0000e+00 - val_total_loss: 6769.8779\n",
      "Epoch 46/100\n",
      "27/27 [==============================] - 47s 2s/step - factorized_top_k/top_1_categorical_accuracy: 0.0000e+00 - factorized_top_k/top_5_categorical_accuracy: 0.0000e+00 - factorized_top_k/top_10_categorical_accuracy: 0.0000e+00 - factorized_top_k/top_50_categorical_accuracy: 0.0000e+00 - factorized_top_k/top_100_categorical_accuracy: 0.0000e+00 - loss: 50745.7835 - regularization_loss: 0.0000e+00 - total_loss: 50745.7835\n",
      "Epoch 47/100\n",
      "27/27 [==============================] - 46s 2s/step - factorized_top_k/top_1_categorical_accuracy: 0.0000e+00 - factorized_top_k/top_5_categorical_accuracy: 0.0000e+00 - factorized_top_k/top_10_categorical_accuracy: 0.0000e+00 - factorized_top_k/top_50_categorical_accuracy: 0.0000e+00 - factorized_top_k/top_100_categorical_accuracy: 0.0000e+00 - loss: 50739.9916 - regularization_loss: 0.0000e+00 - total_loss: 50739.9916\n",
      "Epoch 48/100\n",
      "27/27 [==============================] - 47s 2s/step - factorized_top_k/top_1_categorical_accuracy: 0.0000e+00 - factorized_top_k/top_5_categorical_accuracy: 0.0000e+00 - factorized_top_k/top_10_categorical_accuracy: 0.0000e+00 - factorized_top_k/top_50_categorical_accuracy: 0.0000e+00 - factorized_top_k/top_100_categorical_accuracy: 0.0000e+00 - loss: 50733.9583 - regularization_loss: 0.0000e+00 - total_loss: 50733.9583\n",
      "Epoch 49/100\n"
     ]
    },
    {
     "name": "stdout",
     "output_type": "stream",
     "text": [
      "27/27 [==============================] - 46s 2s/step - factorized_top_k/top_1_categorical_accuracy: 0.0000e+00 - factorized_top_k/top_5_categorical_accuracy: 0.0000e+00 - factorized_top_k/top_10_categorical_accuracy: 0.0000e+00 - factorized_top_k/top_50_categorical_accuracy: 0.0000e+00 - factorized_top_k/top_100_categorical_accuracy: 0.0000e+00 - loss: 50728.2250 - regularization_loss: 0.0000e+00 - total_loss: 50728.2250\n",
      "Epoch 50/100\n",
      "27/27 [==============================] - 60s 2s/step - factorized_top_k/top_1_categorical_accuracy: 0.0000e+00 - factorized_top_k/top_5_categorical_accuracy: 0.0000e+00 - factorized_top_k/top_10_categorical_accuracy: 0.0000e+00 - factorized_top_k/top_50_categorical_accuracy: 0.0000e+00 - factorized_top_k/top_100_categorical_accuracy: 0.0000e+00 - loss: 50722.2672 - regularization_loss: 0.0000e+00 - total_loss: 50722.2672 - val_factorized_top_k/top_1_categorical_accuracy: 0.0147 - val_factorized_top_k/top_5_categorical_accuracy: 0.1224 - val_factorized_top_k/top_10_categorical_accuracy: 0.2157 - val_factorized_top_k/top_50_categorical_accuracy: 0.3971 - val_factorized_top_k/top_100_categorical_accuracy: 0.4712 - val_loss: 6764.0469 - val_regularization_loss: 0.0000e+00 - val_total_loss: 6764.0469\n",
      "Epoch 51/100\n",
      "27/27 [==============================] - 46s 2s/step - factorized_top_k/top_1_categorical_accuracy: 0.0000e+00 - factorized_top_k/top_5_categorical_accuracy: 0.0000e+00 - factorized_top_k/top_10_categorical_accuracy: 0.0000e+00 - factorized_top_k/top_50_categorical_accuracy: 0.0000e+00 - factorized_top_k/top_100_categorical_accuracy: 0.0000e+00 - loss: 50716.5904 - regularization_loss: 0.0000e+00 - total_loss: 50716.5904\n",
      "Epoch 52/100\n",
      "27/27 [==============================] - 47s 2s/step - factorized_top_k/top_1_categorical_accuracy: 0.0000e+00 - factorized_top_k/top_5_categorical_accuracy: 0.0000e+00 - factorized_top_k/top_10_categorical_accuracy: 0.0000e+00 - factorized_top_k/top_50_categorical_accuracy: 0.0000e+00 - factorized_top_k/top_100_categorical_accuracy: 0.0000e+00 - loss: 50710.7101 - regularization_loss: 0.0000e+00 - total_loss: 50710.7101\n",
      "Epoch 53/100\n",
      "27/27 [==============================] - 47s 2s/step - factorized_top_k/top_1_categorical_accuracy: 0.0000e+00 - factorized_top_k/top_5_categorical_accuracy: 0.0000e+00 - factorized_top_k/top_10_categorical_accuracy: 0.0000e+00 - factorized_top_k/top_50_categorical_accuracy: 0.0000e+00 - factorized_top_k/top_100_categorical_accuracy: 0.0000e+00 - loss: 50705.0887 - regularization_loss: 0.0000e+00 - total_loss: 50705.0887\n",
      "Epoch 54/100\n",
      "27/27 [==============================] - 47s 2s/step - factorized_top_k/top_1_categorical_accuracy: 0.0000e+00 - factorized_top_k/top_5_categorical_accuracy: 0.0000e+00 - factorized_top_k/top_10_categorical_accuracy: 0.0000e+00 - factorized_top_k/top_50_categorical_accuracy: 0.0000e+00 - factorized_top_k/top_100_categorical_accuracy: 0.0000e+00 - loss: 50699.2807 - regularization_loss: 0.0000e+00 - total_loss: 50699.2807\n",
      "Epoch 55/100\n",
      "27/27 [==============================] - 60s 2s/step - factorized_top_k/top_1_categorical_accuracy: 0.0000e+00 - factorized_top_k/top_5_categorical_accuracy: 0.0000e+00 - factorized_top_k/top_10_categorical_accuracy: 0.0000e+00 - factorized_top_k/top_50_categorical_accuracy: 0.0000e+00 - factorized_top_k/top_100_categorical_accuracy: 0.0000e+00 - loss: 50693.7211 - regularization_loss: 0.0000e+00 - total_loss: 50693.7211 - val_factorized_top_k/top_1_categorical_accuracy: 0.0147 - val_factorized_top_k/top_5_categorical_accuracy: 0.1222 - val_factorized_top_k/top_10_categorical_accuracy: 0.2161 - val_factorized_top_k/top_50_categorical_accuracy: 0.3980 - val_factorized_top_k/top_100_categorical_accuracy: 0.4717 - val_loss: 6758.1362 - val_regularization_loss: 0.0000e+00 - val_total_loss: 6758.1362\n",
      "Epoch 56/100\n",
      "27/27 [==============================] - 48s 2s/step - factorized_top_k/top_1_categorical_accuracy: 0.0000e+00 - factorized_top_k/top_5_categorical_accuracy: 0.0000e+00 - factorized_top_k/top_10_categorical_accuracy: 0.0000e+00 - factorized_top_k/top_50_categorical_accuracy: 0.0000e+00 - factorized_top_k/top_100_categorical_accuracy: 0.0000e+00 - loss: 50687.9784 - regularization_loss: 0.0000e+00 - total_loss: 50687.9784\n",
      "Epoch 57/100\n",
      "27/27 [==============================] - 48s 2s/step - factorized_top_k/top_1_categorical_accuracy: 0.0000e+00 - factorized_top_k/top_5_categorical_accuracy: 0.0000e+00 - factorized_top_k/top_10_categorical_accuracy: 0.0000e+00 - factorized_top_k/top_50_categorical_accuracy: 0.0000e+00 - factorized_top_k/top_100_categorical_accuracy: 0.0000e+00 - loss: 50682.4809 - regularization_loss: 0.0000e+00 - total_loss: 50682.4809\n",
      "Epoch 58/100\n",
      "27/27 [==============================] - 48s 2s/step - factorized_top_k/top_1_categorical_accuracy: 0.0000e+00 - factorized_top_k/top_5_categorical_accuracy: 0.0000e+00 - factorized_top_k/top_10_categorical_accuracy: 0.0000e+00 - factorized_top_k/top_50_categorical_accuracy: 0.0000e+00 - factorized_top_k/top_100_categorical_accuracy: 0.0000e+00 - loss: 50676.8004 - regularization_loss: 0.0000e+00 - total_loss: 50676.8004\n",
      "Epoch 59/100\n",
      "27/27 [==============================] - 47s 2s/step - factorized_top_k/top_1_categorical_accuracy: 0.0000e+00 - factorized_top_k/top_5_categorical_accuracy: 0.0000e+00 - factorized_top_k/top_10_categorical_accuracy: 0.0000e+00 - factorized_top_k/top_50_categorical_accuracy: 0.0000e+00 - factorized_top_k/top_100_categorical_accuracy: 0.0000e+00 - loss: 50671.3701 - regularization_loss: 0.0000e+00 - total_loss: 50671.3701\n",
      "Epoch 60/100\n",
      "27/27 [==============================] - 61s 2s/step - factorized_top_k/top_1_categorical_accuracy: 0.0000e+00 - factorized_top_k/top_5_categorical_accuracy: 0.0000e+00 - factorized_top_k/top_10_categorical_accuracy: 0.0000e+00 - factorized_top_k/top_50_categorical_accuracy: 0.0000e+00 - factorized_top_k/top_100_categorical_accuracy: 0.0000e+00 - loss: 50665.7490 - regularization_loss: 0.0000e+00 - total_loss: 50665.7490 - val_factorized_top_k/top_1_categorical_accuracy: 0.0148 - val_factorized_top_k/top_5_categorical_accuracy: 0.1221 - val_factorized_top_k/top_10_categorical_accuracy: 0.2164 - val_factorized_top_k/top_50_categorical_accuracy: 0.3991 - val_factorized_top_k/top_100_categorical_accuracy: 0.4725 - val_loss: 6752.6846 - val_regularization_loss: 0.0000e+00 - val_total_loss: 6752.6846\n",
      "Epoch 61/100\n",
      "27/27 [==============================] - 46s 2s/step - factorized_top_k/top_1_categorical_accuracy: 0.0000e+00 - factorized_top_k/top_5_categorical_accuracy: 0.0000e+00 - factorized_top_k/top_10_categorical_accuracy: 0.0000e+00 - factorized_top_k/top_50_categorical_accuracy: 0.0000e+00 - factorized_top_k/top_100_categorical_accuracy: 0.0000e+00 - loss: 50660.3922 - regularization_loss: 0.0000e+00 - total_loss: 50660.3922\n",
      "Epoch 62/100\n",
      "27/27 [==============================] - 47s 2s/step - factorized_top_k/top_1_categorical_accuracy: 0.0000e+00 - factorized_top_k/top_5_categorical_accuracy: 0.0000e+00 - factorized_top_k/top_10_categorical_accuracy: 0.0000e+00 - factorized_top_k/top_50_categorical_accuracy: 0.0000e+00 - factorized_top_k/top_100_categorical_accuracy: 0.0000e+00 - loss: 50654.8288 - regularization_loss: 0.0000e+00 - total_loss: 50654.8288\n",
      "Epoch 63/100\n",
      "27/27 [==============================] - 46s 2s/step - factorized_top_k/top_1_categorical_accuracy: 0.0000e+00 - factorized_top_k/top_5_categorical_accuracy: 0.0000e+00 - factorized_top_k/top_10_categorical_accuracy: 0.0000e+00 - factorized_top_k/top_50_categorical_accuracy: 0.0000e+00 - factorized_top_k/top_100_categorical_accuracy: 0.0000e+00 - loss: 50649.5458 - regularization_loss: 0.0000e+00 - total_loss: 50649.5458\n",
      "Epoch 64/100\n",
      "27/27 [==============================] - 47s 2s/step - factorized_top_k/top_1_categorical_accuracy: 0.0000e+00 - factorized_top_k/top_5_categorical_accuracy: 0.0000e+00 - factorized_top_k/top_10_categorical_accuracy: 0.0000e+00 - factorized_top_k/top_50_categorical_accuracy: 0.0000e+00 - factorized_top_k/top_100_categorical_accuracy: 0.0000e+00 - loss: 50644.0392 - regularization_loss: 0.0000e+00 - total_loss: 50644.0392\n",
      "Epoch 65/100\n"
     ]
    },
    {
     "name": "stdout",
     "output_type": "stream",
     "text": [
      "27/27 [==============================] - 60s 2s/step - factorized_top_k/top_1_categorical_accuracy: 0.0000e+00 - factorized_top_k/top_5_categorical_accuracy: 0.0000e+00 - factorized_top_k/top_10_categorical_accuracy: 0.0000e+00 - factorized_top_k/top_50_categorical_accuracy: 0.0000e+00 - factorized_top_k/top_100_categorical_accuracy: 0.0000e+00 - loss: 50638.8270 - regularization_loss: 0.0000e+00 - total_loss: 50638.8270 - val_factorized_top_k/top_1_categorical_accuracy: 0.0147 - val_factorized_top_k/top_5_categorical_accuracy: 0.1226 - val_factorized_top_k/top_10_categorical_accuracy: 0.2168 - val_factorized_top_k/top_50_categorical_accuracy: 0.3998 - val_factorized_top_k/top_100_categorical_accuracy: 0.4731 - val_loss: 6747.1855 - val_regularization_loss: 0.0000e+00 - val_total_loss: 6747.1855\n",
      "Epoch 66/100\n",
      "27/27 [==============================] - 47s 2s/step - factorized_top_k/top_1_categorical_accuracy: 0.0000e+00 - factorized_top_k/top_5_categorical_accuracy: 0.0000e+00 - factorized_top_k/top_10_categorical_accuracy: 0.0000e+00 - factorized_top_k/top_50_categorical_accuracy: 0.0000e+00 - factorized_top_k/top_100_categorical_accuracy: 0.0000e+00 - loss: 50633.3785 - regularization_loss: 0.0000e+00 - total_loss: 50633.3785\n",
      "Epoch 67/100\n",
      "27/27 [==============================] - 46s 2s/step - factorized_top_k/top_1_categorical_accuracy: 0.0000e+00 - factorized_top_k/top_5_categorical_accuracy: 0.0000e+00 - factorized_top_k/top_10_categorical_accuracy: 0.0000e+00 - factorized_top_k/top_50_categorical_accuracy: 0.0000e+00 - factorized_top_k/top_100_categorical_accuracy: 0.0000e+00 - loss: 50628.2314 - regularization_loss: 0.0000e+00 - total_loss: 50628.2314\n",
      "Epoch 68/100\n",
      "27/27 [==============================] - 46s 2s/step - factorized_top_k/top_1_categorical_accuracy: 0.0000e+00 - factorized_top_k/top_5_categorical_accuracy: 0.0000e+00 - factorized_top_k/top_10_categorical_accuracy: 0.0000e+00 - factorized_top_k/top_50_categorical_accuracy: 0.0000e+00 - factorized_top_k/top_100_categorical_accuracy: 0.0000e+00 - loss: 50622.8440 - regularization_loss: 0.0000e+00 - total_loss: 50622.8440\n",
      "Epoch 69/100\n",
      "27/27 [==============================] - 47s 2s/step - factorized_top_k/top_1_categorical_accuracy: 0.0000e+00 - factorized_top_k/top_5_categorical_accuracy: 0.0000e+00 - factorized_top_k/top_10_categorical_accuracy: 0.0000e+00 - factorized_top_k/top_50_categorical_accuracy: 0.0000e+00 - factorized_top_k/top_100_categorical_accuracy: 0.0000e+00 - loss: 50617.7602 - regularization_loss: 0.0000e+00 - total_loss: 50617.7602\n",
      "Epoch 70/100\n",
      "27/27 [==============================] - 59s 2s/step - factorized_top_k/top_1_categorical_accuracy: 0.0000e+00 - factorized_top_k/top_5_categorical_accuracy: 0.0000e+00 - factorized_top_k/top_10_categorical_accuracy: 0.0000e+00 - factorized_top_k/top_50_categorical_accuracy: 0.0000e+00 - factorized_top_k/top_100_categorical_accuracy: 0.0000e+00 - loss: 50612.4326 - regularization_loss: 0.0000e+00 - total_loss: 50612.4326 - val_factorized_top_k/top_1_categorical_accuracy: 0.0148 - val_factorized_top_k/top_5_categorical_accuracy: 0.1223 - val_factorized_top_k/top_10_categorical_accuracy: 0.2173 - val_factorized_top_k/top_50_categorical_accuracy: 0.4007 - val_factorized_top_k/top_100_categorical_accuracy: 0.4738 - val_loss: 6742.1548 - val_regularization_loss: 0.0000e+00 - val_total_loss: 6742.1548\n",
      "Epoch 71/100\n",
      "27/27 [==============================] - 46s 2s/step - factorized_top_k/top_1_categorical_accuracy: 0.0000e+00 - factorized_top_k/top_5_categorical_accuracy: 0.0000e+00 - factorized_top_k/top_10_categorical_accuracy: 0.0000e+00 - factorized_top_k/top_50_categorical_accuracy: 0.0000e+00 - factorized_top_k/top_100_categorical_accuracy: 0.0000e+00 - loss: 50607.4079 - regularization_loss: 0.0000e+00 - total_loss: 50607.4079\n",
      "Epoch 72/100\n",
      "27/27 [==============================] - 46s 2s/step - factorized_top_k/top_1_categorical_accuracy: 0.0000e+00 - factorized_top_k/top_5_categorical_accuracy: 0.0000e+00 - factorized_top_k/top_10_categorical_accuracy: 0.0000e+00 - factorized_top_k/top_50_categorical_accuracy: 0.0000e+00 - factorized_top_k/top_100_categorical_accuracy: 0.0000e+00 - loss: 50602.1456 - regularization_loss: 0.0000e+00 - total_loss: 50602.1456\n",
      "Epoch 73/100\n",
      "27/27 [==============================] - 46s 2s/step - factorized_top_k/top_1_categorical_accuracy: 0.0000e+00 - factorized_top_k/top_5_categorical_accuracy: 0.0000e+00 - factorized_top_k/top_10_categorical_accuracy: 0.0000e+00 - factorized_top_k/top_50_categorical_accuracy: 0.0000e+00 - factorized_top_k/top_100_categorical_accuracy: 0.0000e+00 - loss: 50597.1744 - regularization_loss: 0.0000e+00 - total_loss: 50597.1744\n",
      "Epoch 74/100\n",
      "27/27 [==============================] - 46s 2s/step - factorized_top_k/top_1_categorical_accuracy: 0.0000e+00 - factorized_top_k/top_5_categorical_accuracy: 0.0000e+00 - factorized_top_k/top_10_categorical_accuracy: 0.0000e+00 - factorized_top_k/top_50_categorical_accuracy: 0.0000e+00 - factorized_top_k/top_100_categorical_accuracy: 0.0000e+00 - loss: 50591.9842 - regularization_loss: 0.0000e+00 - total_loss: 50591.9842\n",
      "Epoch 75/100\n",
      "27/27 [==============================] - 59s 2s/step - factorized_top_k/top_1_categorical_accuracy: 0.0000e+00 - factorized_top_k/top_5_categorical_accuracy: 0.0000e+00 - factorized_top_k/top_10_categorical_accuracy: 0.0000e+00 - factorized_top_k/top_50_categorical_accuracy: 0.0000e+00 - factorized_top_k/top_100_categorical_accuracy: 0.0000e+00 - loss: 50587.0649 - regularization_loss: 0.0000e+00 - total_loss: 50587.0649 - val_factorized_top_k/top_1_categorical_accuracy: 0.0148 - val_factorized_top_k/top_5_categorical_accuracy: 0.1225 - val_factorized_top_k/top_10_categorical_accuracy: 0.2173 - val_factorized_top_k/top_50_categorical_accuracy: 0.4013 - val_factorized_top_k/top_100_categorical_accuracy: 0.4743 - val_loss: 6737.0854 - val_regularization_loss: 0.0000e+00 - val_total_loss: 6737.0854\n",
      "Epoch 76/100\n",
      "27/27 [==============================] - 47s 2s/step - factorized_top_k/top_1_categorical_accuracy: 0.0000e+00 - factorized_top_k/top_5_categorical_accuracy: 0.0000e+00 - factorized_top_k/top_10_categorical_accuracy: 0.0000e+00 - factorized_top_k/top_50_categorical_accuracy: 0.0000e+00 - factorized_top_k/top_100_categorical_accuracy: 0.0000e+00 - loss: 50581.9439 - regularization_loss: 0.0000e+00 - total_loss: 50581.9439\n",
      "Epoch 77/100\n",
      "27/27 [==============================] - 46s 2s/step - factorized_top_k/top_1_categorical_accuracy: 0.0000e+00 - factorized_top_k/top_5_categorical_accuracy: 0.0000e+00 - factorized_top_k/top_10_categorical_accuracy: 0.0000e+00 - factorized_top_k/top_50_categorical_accuracy: 0.0000e+00 - factorized_top_k/top_100_categorical_accuracy: 0.0000e+00 - loss: 50577.0752 - regularization_loss: 0.0000e+00 - total_loss: 50577.0752\n",
      "Epoch 78/100\n",
      "27/27 [==============================] - 46s 2s/step - factorized_top_k/top_1_categorical_accuracy: 0.0000e+00 - factorized_top_k/top_5_categorical_accuracy: 0.0000e+00 - factorized_top_k/top_10_categorical_accuracy: 0.0000e+00 - factorized_top_k/top_50_categorical_accuracy: 0.0000e+00 - factorized_top_k/top_100_categorical_accuracy: 0.0000e+00 - loss: 50572.0187 - regularization_loss: 0.0000e+00 - total_loss: 50572.0187\n",
      "Epoch 79/100\n",
      "27/27 [==============================] - 47s 2s/step - factorized_top_k/top_1_categorical_accuracy: 0.0000e+00 - factorized_top_k/top_5_categorical_accuracy: 0.0000e+00 - factorized_top_k/top_10_categorical_accuracy: 0.0000e+00 - factorized_top_k/top_50_categorical_accuracy: 0.0000e+00 - factorized_top_k/top_100_categorical_accuracy: 0.0000e+00 - loss: 50567.2038 - regularization_loss: 0.0000e+00 - total_loss: 50567.2038\n",
      "Epoch 80/100\n",
      "27/27 [==============================] - 59s 2s/step - factorized_top_k/top_1_categorical_accuracy: 0.0000e+00 - factorized_top_k/top_5_categorical_accuracy: 0.0000e+00 - factorized_top_k/top_10_categorical_accuracy: 0.0000e+00 - factorized_top_k/top_50_categorical_accuracy: 0.0000e+00 - factorized_top_k/top_100_categorical_accuracy: 0.0000e+00 - loss: 50562.2038 - regularization_loss: 0.0000e+00 - total_loss: 50562.2038 - val_factorized_top_k/top_1_categorical_accuracy: 0.0149 - val_factorized_top_k/top_5_categorical_accuracy: 0.1226 - val_factorized_top_k/top_10_categorical_accuracy: 0.2179 - val_factorized_top_k/top_50_categorical_accuracy: 0.4021 - val_factorized_top_k/top_100_categorical_accuracy: 0.4752 - val_loss: 6732.4673 - val_regularization_loss: 0.0000e+00 - val_total_loss: 6732.4673\n"
     ]
    },
    {
     "name": "stdout",
     "output_type": "stream",
     "text": [
      "Epoch 81/100\n",
      "27/27 [==============================] - 46s 2s/step - factorized_top_k/top_1_categorical_accuracy: 0.0000e+00 - factorized_top_k/top_5_categorical_accuracy: 0.0000e+00 - factorized_top_k/top_10_categorical_accuracy: 0.0000e+00 - factorized_top_k/top_50_categorical_accuracy: 0.0000e+00 - factorized_top_k/top_100_categorical_accuracy: 0.0000e+00 - loss: 50557.4436 - regularization_loss: 0.0000e+00 - total_loss: 50557.4436\n",
      "Epoch 82/100\n",
      "27/27 [==============================] - 46s 2s/step - factorized_top_k/top_1_categorical_accuracy: 0.0000e+00 - factorized_top_k/top_5_categorical_accuracy: 0.0000e+00 - factorized_top_k/top_10_categorical_accuracy: 0.0000e+00 - factorized_top_k/top_50_categorical_accuracy: 0.0000e+00 - factorized_top_k/top_100_categorical_accuracy: 0.0000e+00 - loss: 50552.5015 - regularization_loss: 0.0000e+00 - total_loss: 50552.5015\n",
      "Epoch 83/100\n",
      "27/27 [==============================] - 45s 2s/step - factorized_top_k/top_1_categorical_accuracy: 0.0000e+00 - factorized_top_k/top_5_categorical_accuracy: 0.0000e+00 - factorized_top_k/top_10_categorical_accuracy: 0.0000e+00 - factorized_top_k/top_50_categorical_accuracy: 0.0000e+00 - factorized_top_k/top_100_categorical_accuracy: 0.0000e+00 - loss: 50547.8012 - regularization_loss: 0.0000e+00 - total_loss: 50547.8012\n",
      "Epoch 84/100\n",
      "27/27 [==============================] - 45s 2s/step - factorized_top_k/top_1_categorical_accuracy: 0.0000e+00 - factorized_top_k/top_5_categorical_accuracy: 0.0000e+00 - factorized_top_k/top_10_categorical_accuracy: 0.0000e+00 - factorized_top_k/top_50_categorical_accuracy: 0.0000e+00 - factorized_top_k/top_100_categorical_accuracy: 0.0000e+00 - loss: 50542.9051 - regularization_loss: 0.0000e+00 - total_loss: 50542.9051\n",
      "Epoch 85/100\n",
      "27/27 [==============================] - 58s 2s/step - factorized_top_k/top_1_categorical_accuracy: 0.0000e+00 - factorized_top_k/top_5_categorical_accuracy: 0.0000e+00 - factorized_top_k/top_10_categorical_accuracy: 0.0000e+00 - factorized_top_k/top_50_categorical_accuracy: 0.0000e+00 - factorized_top_k/top_100_categorical_accuracy: 0.0000e+00 - loss: 50538.2709 - regularization_loss: 0.0000e+00 - total_loss: 50538.2709 - val_factorized_top_k/top_1_categorical_accuracy: 0.0150 - val_factorized_top_k/top_5_categorical_accuracy: 0.1225 - val_factorized_top_k/top_10_categorical_accuracy: 0.2181 - val_factorized_top_k/top_50_categorical_accuracy: 0.4029 - val_factorized_top_k/top_100_categorical_accuracy: 0.4757 - val_loss: 6727.8042 - val_regularization_loss: 0.0000e+00 - val_total_loss: 6727.8042\n",
      "Epoch 86/100\n",
      "27/27 [==============================] - 45s 2s/step - factorized_top_k/top_1_categorical_accuracy: 0.0000e+00 - factorized_top_k/top_5_categorical_accuracy: 0.0000e+00 - factorized_top_k/top_10_categorical_accuracy: 0.0000e+00 - factorized_top_k/top_50_categorical_accuracy: 0.0000e+00 - factorized_top_k/top_100_categorical_accuracy: 0.0000e+00 - loss: 50533.4287 - regularization_loss: 0.0000e+00 - total_loss: 50533.4287\n",
      "Epoch 87/100\n",
      "27/27 [==============================] - 45s 2s/step - factorized_top_k/top_1_categorical_accuracy: 0.0000e+00 - factorized_top_k/top_5_categorical_accuracy: 0.0000e+00 - factorized_top_k/top_10_categorical_accuracy: 0.0000e+00 - factorized_top_k/top_50_categorical_accuracy: 0.0000e+00 - factorized_top_k/top_100_categorical_accuracy: 0.0000e+00 - loss: 50528.8482 - regularization_loss: 0.0000e+00 - total_loss: 50528.8482\n",
      "Epoch 88/100\n",
      "27/27 [==============================] - 45s 2s/step - factorized_top_k/top_1_categorical_accuracy: 0.0000e+00 - factorized_top_k/top_5_categorical_accuracy: 0.0000e+00 - factorized_top_k/top_10_categorical_accuracy: 0.0000e+00 - factorized_top_k/top_50_categorical_accuracy: 0.0000e+00 - factorized_top_k/top_100_categorical_accuracy: 0.0000e+00 - loss: 50524.0603 - regularization_loss: 0.0000e+00 - total_loss: 50524.0603\n",
      "Epoch 89/100\n",
      "27/27 [==============================] - 47s 2s/step - factorized_top_k/top_1_categorical_accuracy: 0.0000e+00 - factorized_top_k/top_5_categorical_accuracy: 0.0000e+00 - factorized_top_k/top_10_categorical_accuracy: 0.0000e+00 - factorized_top_k/top_50_categorical_accuracy: 0.0000e+00 - factorized_top_k/top_100_categorical_accuracy: 0.0000e+00 - loss: 50519.5412 - regularization_loss: 0.0000e+00 - total_loss: 50519.5412\n",
      "Epoch 90/100\n",
      "27/27 [==============================] - 59s 2s/step - factorized_top_k/top_1_categorical_accuracy: 0.0000e+00 - factorized_top_k/top_5_categorical_accuracy: 0.0000e+00 - factorized_top_k/top_10_categorical_accuracy: 0.0000e+00 - factorized_top_k/top_50_categorical_accuracy: 0.0000e+00 - factorized_top_k/top_100_categorical_accuracy: 0.0000e+00 - loss: 50514.7938 - regularization_loss: 0.0000e+00 - total_loss: 50514.7938 - val_factorized_top_k/top_1_categorical_accuracy: 0.0149 - val_factorized_top_k/top_5_categorical_accuracy: 0.1228 - val_factorized_top_k/top_10_categorical_accuracy: 0.2185 - val_factorized_top_k/top_50_categorical_accuracy: 0.4034 - val_factorized_top_k/top_100_categorical_accuracy: 0.4765 - val_loss: 6723.5679 - val_regularization_loss: 0.0000e+00 - val_total_loss: 6723.5679\n",
      "Epoch 91/100\n",
      "27/27 [==============================] - 46s 2s/step - factorized_top_k/top_1_categorical_accuracy: 0.0000e+00 - factorized_top_k/top_5_categorical_accuracy: 0.0000e+00 - factorized_top_k/top_10_categorical_accuracy: 0.0000e+00 - factorized_top_k/top_50_categorical_accuracy: 0.0000e+00 - factorized_top_k/top_100_categorical_accuracy: 0.0000e+00 - loss: 50510.3390 - regularization_loss: 0.0000e+00 - total_loss: 50510.3390\n",
      "Epoch 92/100\n",
      "27/27 [==============================] - 47s 2s/step - factorized_top_k/top_1_categorical_accuracy: 0.0000e+00 - factorized_top_k/top_5_categorical_accuracy: 0.0000e+00 - factorized_top_k/top_10_categorical_accuracy: 0.0000e+00 - factorized_top_k/top_50_categorical_accuracy: 0.0000e+00 - factorized_top_k/top_100_categorical_accuracy: 0.0000e+00 - loss: 50505.6374 - regularization_loss: 0.0000e+00 - total_loss: 50505.6374\n",
      "Epoch 93/100\n",
      "27/27 [==============================] - 46s 2s/step - factorized_top_k/top_1_categorical_accuracy: 0.0000e+00 - factorized_top_k/top_5_categorical_accuracy: 0.0000e+00 - factorized_top_k/top_10_categorical_accuracy: 0.0000e+00 - factorized_top_k/top_50_categorical_accuracy: 0.0000e+00 - factorized_top_k/top_100_categorical_accuracy: 0.0000e+00 - loss: 50501.2309 - regularization_loss: 0.0000e+00 - total_loss: 50501.2309\n",
      "Epoch 94/100\n",
      "27/27 [==============================] - 47s 2s/step - factorized_top_k/top_1_categorical_accuracy: 0.0000e+00 - factorized_top_k/top_5_categorical_accuracy: 0.0000e+00 - factorized_top_k/top_10_categorical_accuracy: 0.0000e+00 - factorized_top_k/top_50_categorical_accuracy: 0.0000e+00 - factorized_top_k/top_100_categorical_accuracy: 0.0000e+00 - loss: 50496.5903 - regularization_loss: 0.0000e+00 - total_loss: 50496.5903\n",
      "Epoch 95/100\n",
      "27/27 [==============================] - 59s 2s/step - factorized_top_k/top_1_categorical_accuracy: 0.0000e+00 - factorized_top_k/top_5_categorical_accuracy: 0.0000e+00 - factorized_top_k/top_10_categorical_accuracy: 0.0000e+00 - factorized_top_k/top_50_categorical_accuracy: 0.0000e+00 - factorized_top_k/top_100_categorical_accuracy: 0.0000e+00 - loss: 50492.2189 - regularization_loss: 0.0000e+00 - total_loss: 50492.2189 - val_factorized_top_k/top_1_categorical_accuracy: 0.0148 - val_factorized_top_k/top_5_categorical_accuracy: 0.1227 - val_factorized_top_k/top_10_categorical_accuracy: 0.2189 - val_factorized_top_k/top_50_categorical_accuracy: 0.4037 - val_factorized_top_k/top_100_categorical_accuracy: 0.4773 - val_loss: 6719.2617 - val_regularization_loss: 0.0000e+00 - val_total_loss: 6719.2617\n",
      "Epoch 96/100\n",
      "27/27 [==============================] - 46s 2s/step - factorized_top_k/top_1_categorical_accuracy: 0.0000e+00 - factorized_top_k/top_5_categorical_accuracy: 0.0000e+00 - factorized_top_k/top_10_categorical_accuracy: 0.0000e+00 - factorized_top_k/top_50_categorical_accuracy: 0.0000e+00 - factorized_top_k/top_100_categorical_accuracy: 0.0000e+00 - loss: 50487.6321 - regularization_loss: 0.0000e+00 - total_loss: 50487.6321\n",
      "Epoch 97/100\n"
     ]
    },
    {
     "name": "stdout",
     "output_type": "stream",
     "text": [
      "27/27 [==============================] - 46s 2s/step - factorized_top_k/top_1_categorical_accuracy: 0.0000e+00 - factorized_top_k/top_5_categorical_accuracy: 0.0000e+00 - factorized_top_k/top_10_categorical_accuracy: 0.0000e+00 - factorized_top_k/top_50_categorical_accuracy: 0.0000e+00 - factorized_top_k/top_100_categorical_accuracy: 0.0000e+00 - loss: 50483.3203 - regularization_loss: 0.0000e+00 - total_loss: 50483.3203\n",
      "Epoch 98/100\n",
      "27/27 [==============================] - 46s 2s/step - factorized_top_k/top_1_categorical_accuracy: 0.0000e+00 - factorized_top_k/top_5_categorical_accuracy: 0.0000e+00 - factorized_top_k/top_10_categorical_accuracy: 0.0000e+00 - factorized_top_k/top_50_categorical_accuracy: 0.0000e+00 - factorized_top_k/top_100_categorical_accuracy: 0.0000e+00 - loss: 50478.7723 - regularization_loss: 0.0000e+00 - total_loss: 50478.7723\n",
      "Epoch 99/100\n",
      "27/27 [==============================] - 46s 2s/step - factorized_top_k/top_1_categorical_accuracy: 0.0000e+00 - factorized_top_k/top_5_categorical_accuracy: 0.0000e+00 - factorized_top_k/top_10_categorical_accuracy: 0.0000e+00 - factorized_top_k/top_50_categorical_accuracy: 0.0000e+00 - factorized_top_k/top_100_categorical_accuracy: 0.0000e+00 - loss: 50474.5086 - regularization_loss: 0.0000e+00 - total_loss: 50474.5086\n",
      "Epoch 100/100\n",
      "27/27 [==============================] - 59s 2s/step - factorized_top_k/top_1_categorical_accuracy: 0.0000e+00 - factorized_top_k/top_5_categorical_accuracy: 0.0000e+00 - factorized_top_k/top_10_categorical_accuracy: 0.0000e+00 - factorized_top_k/top_50_categorical_accuracy: 0.0000e+00 - factorized_top_k/top_100_categorical_accuracy: 0.0000e+00 - loss: 50470.0287 - regularization_loss: 0.0000e+00 - total_loss: 50470.0287 - val_factorized_top_k/top_1_categorical_accuracy: 0.0147 - val_factorized_top_k/top_5_categorical_accuracy: 0.1226 - val_factorized_top_k/top_10_categorical_accuracy: 0.2189 - val_factorized_top_k/top_50_categorical_accuracy: 0.4044 - val_factorized_top_k/top_100_categorical_accuracy: 0.4779 - val_loss: 6715.3643 - val_regularization_loss: 0.0000e+00 - val_total_loss: 6715.3643\n",
      "Wall time: 1h 24min 20s\n"
     ]
    }
   ],
   "source": [
    "%%time\n",
    "one_layer_history_part2 = model.fit(\n",
    "    cached_train,\n",
    "    validation_data=cached_val,\n",
    "    validation_freq=5,\n",
    "    epochs=100,\n",
    "    verbose=1)"
   ]
  },
  {
   "cell_type": "code",
   "execution_count": 41,
   "id": "27f8600c",
   "metadata": {},
   "outputs": [
    {
     "name": "stdout",
     "output_type": "stream",
     "text": [
      "12/12 [==============================] - 14s 1s/step - factorized_top_k/top_1_categorical_accuracy: 0.0147 - factorized_top_k/top_5_categorical_accuracy: 0.1226 - factorized_top_k/top_10_categorical_accuracy: 0.2189 - factorized_top_k/top_50_categorical_accuracy: 0.4044 - factorized_top_k/top_100_categorical_accuracy: 0.4779 - loss: 20772.1872 - regularization_loss: 0.0000e+00 - total_loss: 20772.1872\n"
     ]
    }
   ],
   "source": [
    "evaluated_model_400epochs = model.evaluate(cached_test, return_dict=True)"
   ]
  },
  {
   "cell_type": "markdown",
   "id": "d79aa819",
   "metadata": {},
   "source": [
    "### Save\n"
   ]
  },
  {
   "cell_type": "code",
   "execution_count": 44,
   "id": "29da5d46",
   "metadata": {},
   "outputs": [],
   "source": [
    "model.save_weights('../Data/TFRS/features/retrieval/model_1/400epochs/model1_ranking_300_epochs_checkpoint')\n",
    "with open('../Data/TFRS/features/retrieval/model_1/400epochs/model1_history.obj', 'wb') as pickle_file:\n",
    "    pickle.dump(one_layer_history.history, pickle_file)"
   ]
  },
  {
   "cell_type": "code",
   "execution_count": 45,
   "id": "c9f6d328",
   "metadata": {},
   "outputs": [
    {
     "data": {
      "image/png": "[encoded data removed]",
      "text/plain": [
       "<Figure size 1332x756 with 1 Axes>"
      ]
     },
     "metadata": {
      "needs_background": "light"
     },
     "output_type": "display_data"
    }
   ],
   "source": [
    "history_val = one_layer_history.history[\"val_factorized_top_k/top_100_categorical_accuracy\"] + one_layer_history_part2.history[\"val_factorized_top_k/top_100_categorical_accuracy\"]\n",
    "# history_train = model_1_history.history[\"factorized_top_k/top_100_categorical_accuracy\"] + one_layer_history_part2.history[\"factorized_top_k/top_100_categorical_accuracy\"]\n",
    "\n",
    "num_validation_runs = len(history_val)\n",
    "epochs_val = [(x + 1)* 5 for x in range(num_validation_runs)]\n",
    "\n",
    "# num_validation_runs = len(history_train)\n",
    "# epochs_train = [(x + 1)* 1 for x in range(num_validation_runs)]\n",
    "\n",
    "fig = plt.gcf()\n",
    "fig.set_size_inches(18.5, 10.5)\n",
    "plt.rcParams['axes.titlepad'] = 20\n",
    "\n",
    "plt.plot(epochs_val, history_val, label='Dane walidacyjne')\n",
    "# plt.plot(epochs_train, history_train, label='Dane uczące')\n",
    "\n",
    "plt.xlabel(\"Liczba epok\", fontsize=18, labelpad=20)\n",
    "plt.ylabel(\"Dokładność top-100\", fontsize=18, labelpad=20)\n",
    "# plt.scatter(x[0], y[0])\n",
    "# plt.scatter(x[4], y[4])\n",
    "# plt.scatter(x[-1], y[-1])\n",
    "\n",
    "# plt.text(x[0]+1, y[0], f\"({x[0]}, {round(y[0],2)})\", fontsize=16)\n",
    "# plt.text(x[4]+1, y[4]+0.01, f\"({x[4]}, {round(y[4],2)})\", fontsize=16)\n",
    "# plt.text(x[-1]-7, y[-1]+0.015, f\"({x[-1]}, {round(y[-1],2)})\", fontsize=16)\n",
    "\n",
    "plt.xticks(fontsize=14)\n",
    "plt.yticks(fontsize=14)\n",
    "plt.title(\"Wykres zależności dokładności dla top-100 od liczby epok\", fontsize=18)\n",
    "plt.legend(fontsize=14)\n",
    "plt.show()\n",
    "\n",
    "# fig.savefig('../TFRS/basic/ranking/model_1/400epochs/top100v400epochs.png', dpi=100)"
   ]
  },
  {
   "cell_type": "code",
   "execution_count": null,
   "id": "b701784e",
   "metadata": {},
   "outputs": [],
   "source": []
  }
 ],
 "metadata": {
  "kernelspec": {
   "display_name": "Python 3 (ipykernel)",
   "language": "python",
   "name": "python3"
  },
  "language_info": {
   "codemirror_mode": {
    "name": "ipython",
    "version": 3
   },
   "file_extension": ".py",
   "mimetype": "text/x-python",
   "name": "python",
   "nbconvert_exporter": "python",
   "pygments_lexer": "ipython3",
   "version": "3.9.7"
  }
 },
 "nbformat": 4,
 "nbformat_minor": 5
}
