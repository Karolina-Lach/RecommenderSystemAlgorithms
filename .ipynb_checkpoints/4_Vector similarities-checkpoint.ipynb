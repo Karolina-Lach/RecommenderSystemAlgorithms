{
 "cells": [
  {
   "cell_type": "markdown",
   "id": "7c11d9a7",
   "metadata": {},
   "source": [
    "# Imports"
   ]
  },
  {
   "cell_type": "code",
   "execution_count": 1,
   "id": "de3519e5",
   "metadata": {},
   "outputs": [],
   "source": [
    "import pickle\n",
    "from gensim.models import Word2Vec\n",
    "import gensim\n",
    "from sklearn.feature_extraction.text import CountVectorizer\n",
    "from sklearn.feature_extraction.text import TfidfVectorizer\n",
    "from sklearn.metrics.pairwise import cosine_similarity\n",
    "from collections import defaultdict\n",
    "import numpy as np\n",
    "import pandas as pd\n",
    "from sentence_transformers import util\n",
    "import torch\n",
    "\n",
    "from collections import defaultdict\n",
    "import heapq"
   ]
  },
  {
   "cell_type": "markdown",
   "id": "158d8942",
   "metadata": {},
   "source": [
    "# Constants"
   ]
  },
  {
   "cell_type": "code",
   "execution_count": 2,
   "id": "24359cec",
   "metadata": {},
   "outputs": [],
   "source": [
    "RECIPES_WITH_RATINGS = \"../samples/recipes_with_ratings.obj\"\n",
    "\n",
    "INDEX_TO_RECIPE_OBJ = \"../samples/index_to_recipe_with_ratings.obj\"\n",
    "RECIPE_TO_INDEX_OBJ = \"../samples/recipe_to_index_with_ratings.obj\"\n",
    "\n",
    "WORD2VEC_ING_VECTORS = \"../word_embeddings_files/vectors/word2vec_ingredients_vectors.obj\"\n",
    "WORD2VEC_ING_CAT_VECTORS = \"../word_embeddings_files/vectors/word2vec_ing_cat_vectors.obj\"\n",
    "WORD2VEC_ING_CAT_KEY_VECTORS = \"../word_embeddings_files/vectors/word2vec_ing_cat_key_vectors.obj\"\n",
    "\n",
    "WORD2VEC_ING_CAT_TENSORS = \"../word_embeddings_files/vectors/word2vec_ing_cat_tensors.pt\"\n",
    "TOP_ING_CAT = \"../word_embeddings_files/top25_ing_cat.obj\""
   ]
  },
  {
   "cell_type": "markdown",
   "id": "936d126a",
   "metadata": {},
   "source": [
    "# Load data"
   ]
  },
  {
   "cell_type": "code",
   "execution_count": 3,
   "id": "5d6bb20c",
   "metadata": {},
   "outputs": [],
   "source": [
    "with open(RECIPES_WITH_RATINGS, \"rb\") as input_file:\n",
    "    recipes_with_ratings = pickle.load(input_file)\n",
    "\n",
    "with open(INDEX_TO_RECIPE_OBJ, \"rb\") as input_file:\n",
    "    index_to_recipe = pickle.load(input_file)\n",
    "\n",
    "with open(RECIPE_TO_INDEX_OBJ, \"rb\") as input_file:\n",
    "    recipe_to_index = pickle.load(input_file)"
   ]
  },
  {
   "cell_type": "code",
   "execution_count": 4,
   "id": "b0ef416e",
   "metadata": {},
   "outputs": [],
   "source": [
    "with open(WORD2VEC_ING_CAT_VECTORS, \"rb\") as input_file:\n",
    "    word2vec_ing_cat_vectors = pickle.load(input_file)"
   ]
  },
  {
   "cell_type": "code",
   "execution_count": 5,
   "id": "9f806566",
   "metadata": {},
   "outputs": [],
   "source": [
    "# word2vec_ing_cat_tensors = torch.load(WORD2VEC_ING_CAT_TENSORS, map_location=torch.device('cpu'))"
   ]
  },
  {
   "cell_type": "markdown",
   "id": "d33897a4",
   "metadata": {},
   "source": [
    "# Create tensors"
   ]
  },
  {
   "cell_type": "code",
   "execution_count": 19,
   "id": "214c94bb",
   "metadata": {},
   "outputs": [],
   "source": [
    "word2vec_ing_cat_vectors_sample = {}\n",
    "i = 0\n",
    "for key, value in word2vec_ing_cat_vectors.items():\n",
    "    if i < 10:\n",
    "        if key in recipe_to_index.keys():\n",
    "            word2vec_ing_cat_vectors_sample[key] = value\n",
    "            i += 1"
   ]
  },
  {
   "cell_type": "code",
   "execution_count": 20,
   "id": "4827fda9",
   "metadata": {},
   "outputs": [],
   "source": [
    "vectors = list(word2vec_ing_cat_vectors_sample.values())\n",
    "vectors = [np.array(x).ravel() for x in vectors]\n",
    "\n",
    "word2vec_ing_cat_tensors = torch.tensor(np.array(vectors), dtype=torch.float)"
   ]
  },
  {
   "cell_type": "markdown",
   "id": "ddd083b6",
   "metadata": {},
   "source": [
    "## Save"
   ]
  },
  {
   "cell_type": "code",
   "execution_count": 74,
   "id": "e2e4147a",
   "metadata": {},
   "outputs": [],
   "source": [
    "# torch.save(word2vec_ing_cat_tensors, WORD2VEC_ING_CAT_TENSORS)"
   ]
  },
  {
   "cell_type": "markdown",
   "id": "0bf1b4b3",
   "metadata": {},
   "source": [
    "# Cosine similarities"
   ]
  },
  {
   "cell_type": "code",
   "execution_count": 41,
   "id": "a5c125d0",
   "metadata": {},
   "outputs": [],
   "source": [
    "def create_top_k_similar_vectors(vectors, items_to_check, top_k=1, verbose=False):\n",
    "\n",
    "    #create dictionary of positions in list\n",
    "    list_pos_to_recipe_id = {}\n",
    "    recipe_id_to_list_pos = {}\n",
    "    i = 0\n",
    "    for key in vectors.keys():\n",
    "        list_pos_to_recipe_id[i] = key\n",
    "        recipe_id_to_list_pos[key] = i\n",
    "        i += 1\n",
    "    \n",
    "    # create list of vectors from dictionary\n",
    "    vectors = list(vectors.values())\n",
    "    vectors = [np.array(x).ravel() for x in vectors]\n",
    "\n",
    "    tensors = torch.tensor(vectors, dtype=torch.float)\n",
    "\n",
    "    if (top_k+1) > len(tensors):\n",
    "        top_k = len(tensors)\n",
    "    else:\n",
    "        top_k += 1\n",
    "    \n",
    "    \n",
    "    top_scores = defaultdict()\n",
    "    for key in items_to_check:\n",
    "        if(list_pos % 1000 == 0 and verbose):\n",
    "            print(\"Iteration: \", list_pos)\n",
    "        cos_scores = util.pytorch_cos_sim(tensors[recipe_id_to_list_pos[key]], \n",
    "                                          tensors)\n",
    "        top_scores[key] = torch.topk(cos_scores, k=top_k)\n",
    "        \n",
    "    top = defaultdict(list)\n",
    "    for key in items_to_check:\n",
    "        top[key] = [(list_pos_to_recipe_id[k[0].item()],k[1].item()) for k \n",
    "                       in list(tuple(zip(top_scores[key][1][0], top_scores[key][0][0])))\n",
    "                       if list_pos_to_recipe_id[k[0].item()] != key]\n",
    "        \n",
    "    return top"
   ]
  },
  {
   "cell_type": "code",
   "execution_count": 38,
   "id": "3fa3c93c",
   "metadata": {},
   "outputs": [],
   "source": [
    "def create_similarity_matrix(vectors, verbose=False):\n",
    "    pos_to_recipe_id = {}\n",
    "    recipe_id_to_pos = {}\n",
    "    i = 0\n",
    "    for key in vectors.keys():\n",
    "        pos_to_recipe_id[i] = key\n",
    "        recipe_id_to_pos[key] = i\n",
    "        i += 1\n",
    "    \n",
    "    # create list of vectors from dictionary\n",
    "    vectors = list(vectors.values())\n",
    "    vectors = [np.array(x).ravel() for x in vectors]\n",
    "\n",
    "    tensors = torch.tensor(np.array(vectors), dtype=torch.float)\n",
    "    \n",
    "    size = len(vectors)\n",
    "    similarities = np.zeros((size, size))\n",
    "    for this_item in range(size):\n",
    "        if (this_item % 500 == 0 and verbose==True):\n",
    "            print(this_item, \" of \", size)\n",
    "        for other_item in range(this_item+1, size):\n",
    "            tensor1 = torch.tensor(vectors[this_item], dtype=torch.float)\n",
    "            tensor2 = torch.tensor(vectors[other_item], dtype=torch.float)\n",
    "\n",
    "            sim = util.pytorch_cos_sim(tensor1, tensor2)[0][0].item()\n",
    "            similarities[this_item, other_item] = sim\n",
    "            similarities[other_item, this_item] = sim\n",
    "            \n",
    "    return pos_to_recipe_id, recipe_id_to_pos, similarities"
   ]
  },
  {
   "cell_type": "code",
   "execution_count": 42,
   "id": "bb84e0ee",
   "metadata": {},
   "outputs": [
    {
     "ename": "NameError",
     "evalue": "name 'list_pos' is not defined",
     "output_type": "error",
     "traceback": [
      "\u001b[1;31m---------------------------------------------------------------------------\u001b[0m",
      "\u001b[1;31mNameError\u001b[0m                                 Traceback (most recent call last)",
      "\u001b[1;32mC:\\Users\\UYTKOW~1\\AppData\\Local\\Temp/ipykernel_8104/1308994312.py\u001b[0m in \u001b[0;36m<module>\u001b[1;34m\u001b[0m\n\u001b[1;32m----> 1\u001b[1;33m top = create_top_k_similar_vectors(word2vec_ing_cat_vectors_sample, \n\u001b[0m\u001b[0;32m      2\u001b[0m                              \u001b[1;33m[\u001b[0m\u001b[1;36m44\u001b[0m\u001b[1;33m]\u001b[0m\u001b[1;33m,\u001b[0m\u001b[1;33m\u001b[0m\u001b[1;33m\u001b[0m\u001b[0m\n\u001b[0;32m      3\u001b[0m                              top_k=25)\n",
      "\u001b[1;32mC:\\Users\\UYTKOW~1\\AppData\\Local\\Temp/ipykernel_8104/4095417204.py\u001b[0m in \u001b[0;36mcreate_top_k_similar_vectors\u001b[1;34m(vectors, items_to_check, top_k, verbose)\u001b[0m\n\u001b[0;32m     23\u001b[0m     \u001b[0mtop_scores\u001b[0m \u001b[1;33m=\u001b[0m \u001b[0mdefaultdict\u001b[0m\u001b[1;33m(\u001b[0m\u001b[1;33m)\u001b[0m\u001b[1;33m\u001b[0m\u001b[1;33m\u001b[0m\u001b[0m\n\u001b[0;32m     24\u001b[0m     \u001b[1;32mfor\u001b[0m \u001b[0mkey\u001b[0m \u001b[1;32min\u001b[0m \u001b[0mitems_to_check\u001b[0m\u001b[1;33m:\u001b[0m\u001b[1;33m\u001b[0m\u001b[1;33m\u001b[0m\u001b[0m\n\u001b[1;32m---> 25\u001b[1;33m         \u001b[1;32mif\u001b[0m\u001b[1;33m(\u001b[0m\u001b[0mlist_pos\u001b[0m \u001b[1;33m%\u001b[0m \u001b[1;36m1000\u001b[0m \u001b[1;33m==\u001b[0m \u001b[1;36m0\u001b[0m \u001b[1;32mand\u001b[0m \u001b[0mverbose\u001b[0m\u001b[1;33m)\u001b[0m\u001b[1;33m:\u001b[0m\u001b[1;33m\u001b[0m\u001b[1;33m\u001b[0m\u001b[0m\n\u001b[0m\u001b[0;32m     26\u001b[0m             \u001b[0mprint\u001b[0m\u001b[1;33m(\u001b[0m\u001b[1;34m\"Iteration: \"\u001b[0m\u001b[1;33m,\u001b[0m \u001b[0mlist_pos\u001b[0m\u001b[1;33m)\u001b[0m\u001b[1;33m\u001b[0m\u001b[1;33m\u001b[0m\u001b[0m\n\u001b[0;32m     27\u001b[0m         cos_scores = util.pytorch_cos_sim(tensors[recipe_id_to_list_pos[key]], \n",
      "\u001b[1;31mNameError\u001b[0m: name 'list_pos' is not defined"
     ]
    }
   ],
   "source": [
    "top = create_top_k_similar_vectors(word2vec_ing_cat_vectors_sample, \n",
    "                             [44], \n",
    "                             top_k=25)"
   ]
  },
  {
   "cell_type": "code",
   "execution_count": 40,
   "id": "21b53ca5",
   "metadata": {},
   "outputs": [],
   "source": [
    "pos_to_recipe_id, recipe_id_to_pos, similarities = create_similarity_matrix(word2vec_ing_cat_vectors_sample, verbose=False)"
   ]
  },
  {
   "cell_type": "code",
   "execution_count": null,
   "id": "783a1a2d",
   "metadata": {},
   "outputs": [],
   "source": []
  },
  {
   "cell_type": "markdown",
   "id": "164c4c1e",
   "metadata": {},
   "source": [
    "## Save"
   ]
  },
  {
   "cell_type": "code",
   "execution_count": 77,
   "id": "bba51197",
   "metadata": {},
   "outputs": [],
   "source": [
    "with open(TOP_ING_CAT, 'wb') as pickle_file:\n",
    "     pickle.dump(top25_ing_cat, pickle_file)"
   ]
  }
 ],
 "metadata": {
  "kernelspec": {
   "display_name": "Python 3 (ipykernel)",
   "language": "python",
   "name": "python3"
  },
  "language_info": {
   "codemirror_mode": {
    "name": "ipython",
    "version": 3
   },
   "file_extension": ".py",
   "mimetype": "text/x-python",
   "name": "python",
   "nbconvert_exporter": "python",
   "pygments_lexer": "ipython3",
   "version": "3.9.7"
  }
 },
 "nbformat": 4,
 "nbformat_minor": 5
}
