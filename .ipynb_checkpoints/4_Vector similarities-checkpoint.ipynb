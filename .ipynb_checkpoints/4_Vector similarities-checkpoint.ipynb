{
 "cells": [
  {
   "cell_type": "markdown",
   "id": "7c11d9a7",
   "metadata": {},
   "source": [
    "# Imports"
   ]
  },
  {
   "cell_type": "code",
   "execution_count": 1,
   "id": "de3519e5",
   "metadata": {},
   "outputs": [],
   "source": [
    "import pickle\n",
    "from gensim.models import Word2Vec\n",
    "import gensim\n",
    "from sklearn.feature_extraction.text import CountVectorizer\n",
    "from sklearn.feature_extraction.text import TfidfVectorizer\n",
    "from sklearn.metrics.pairwise import cosine_similarity\n",
    "from collections import defaultdict\n",
    "import numpy as np\n",
    "import pandas as pd\n",
    "from sentence_transformers import util\n",
    "import torch\n",
    "\n",
    "from collections import defaultdict\n",
    "import heapq"
   ]
  },
  {
   "cell_type": "markdown",
   "id": "158d8942",
   "metadata": {},
   "source": [
    "# Constants"
   ]
  },
  {
   "cell_type": "code",
   "execution_count": 48,
   "id": "24359cec",
   "metadata": {},
   "outputs": [],
   "source": [
    "RECIPES_WITH_RATINGS = \"../samples/recipes_with_ratings.obj\"\n",
    "\n",
    "INDEX_TO_RECIPE_OBJ = \"../samples/index_to_recipe_with_ratings.obj\"\n",
    "RECIPE_TO_INDEX_OBJ = \"../samples/recipe_to_index_with_ratings.obj\"\n",
    "\n",
    "WORD2VEC_ING_VECTORS = \"../word_embeddings_files/vectors/word2vec_ingredients_vectors.obj\"\n",
    "WORD2VEC_ING_CAT_VECTORS = \"../word_embeddings_files/vectors/word2vec_ing_cat_vectors.obj\"\n",
    "WORD2VEC_ING_CAT_KEY_VECTORS = \"../word_embeddings_files/vectors/word2vec_ing_cat_key_vectors.obj\"\n",
    "\n",
    "WORD2VEC_ING_CAT_TENSORS = \"../word_embeddings_files/vectors/word2vec_ing_cat_tensors.pt\"\n",
    "TOP_ING_CAT = \"../word_embeddings_files/top25_ing_cat.obj\""
   ]
  },
  {
   "cell_type": "markdown",
   "id": "936d126a",
   "metadata": {},
   "source": [
    "# Load data"
   ]
  },
  {
   "cell_type": "code",
   "execution_count": 3,
   "id": "5d6bb20c",
   "metadata": {},
   "outputs": [],
   "source": [
    "with open(RECIPES_WITH_RATINGS, \"rb\") as input_file:\n",
    "    recipes_with_ratings = pickle.load(input_file)\n",
    "\n",
    "with open(INDEX_TO_RECIPE_OBJ, \"rb\") as input_file:\n",
    "    index_to_recipe = pickle.load(input_file)\n",
    "\n",
    "with open(RECIPE_TO_INDEX_OBJ, \"rb\") as input_file:\n",
    "    recipe_to_index = pickle.load(input_file)"
   ]
  },
  {
   "cell_type": "code",
   "execution_count": 4,
   "id": "b0ef416e",
   "metadata": {},
   "outputs": [],
   "source": [
    "with open(WORD2VEC_ING_CAT_VECTORS, \"rb\") as input_file:\n",
    "    word2vec_ing_cat_vectors = pickle.load(input_file)"
   ]
  },
  {
   "cell_type": "code",
   "execution_count": 68,
   "id": "9f806566",
   "metadata": {},
   "outputs": [],
   "source": [
    "# word2vec_ing_cat_tensors = torch.load(WORD2VEC_ING_CAT_TENSORS, map_location=torch.device('cpu'))"
   ]
  },
  {
   "cell_type": "markdown",
   "id": "d33897a4",
   "metadata": {},
   "source": [
    "# Create tensors"
   ]
  },
  {
   "cell_type": "code",
   "execution_count": 5,
   "id": "214c94bb",
   "metadata": {},
   "outputs": [],
   "source": [
    "word2vec_ing_cat_vectors_sample = {}\n",
    "for key, value in word2vec_ing_cat_vectors.items():\n",
    "    if key in recipe_to_index.keys():\n",
    "        word2vec_ing_cat_vectors_sample[key] = value"
   ]
  },
  {
   "cell_type": "code",
   "execution_count": 6,
   "id": "4827fda9",
   "metadata": {},
   "outputs": [
    {
     "name": "stderr",
     "output_type": "stream",
     "text": [
      "C:\\Users\\UYTKOW~1\\AppData\\Local\\Temp/ipykernel_4780/3796680489.py:4: UserWarning: Creating a tensor from a list of numpy.ndarrays is extremely slow. Please consider converting the list to a single numpy.ndarray with numpy.array() before converting to a tensor. (Triggered internally at  ..\\torch\\csrc\\utils\\tensor_new.cpp:201.)\n",
      "  word2vec_ing_cat_tensors = torch.tensor(vectors, dtype=torch.float)\n"
     ]
    }
   ],
   "source": [
    "vectors = list(word2vec_ing_cat_vectors_sample.values())\n",
    "vectors = [np.array(x).ravel() for x in vectors]\n",
    "\n",
    "word2vec_ing_cat_tensors = torch.tensor(vectors, dtype=torch.float)"
   ]
  },
  {
   "cell_type": "code",
   "execution_count": 11,
   "id": "f23cc79b",
   "metadata": {},
   "outputs": [],
   "source": [
    "list_pos_to_recipe_id = {}\n",
    "i = 0\n",
    "for key in word2vec_ing_cat_vectors_sample.keys():\n",
    "    if i < 5:\n",
    "        list_pos_to_recipe_id[i] = key\n",
    "        i += 1"
   ]
  },
  {
   "cell_type": "code",
   "execution_count": 22,
   "id": "125da7eb",
   "metadata": {},
   "outputs": [],
   "source": [
    "word2vec_ing_cat_tensors = word2vec_ing_cat_tensors[:5]"
   ]
  },
  {
   "cell_type": "markdown",
   "id": "ddd083b6",
   "metadata": {},
   "source": [
    "## Save"
   ]
  },
  {
   "cell_type": "code",
   "execution_count": 8,
   "id": "e2e4147a",
   "metadata": {},
   "outputs": [],
   "source": [
    "# torch.save(word2vec_ing_cat_tensors, WORD2VEC_ING_CAT_TENSORS)"
   ]
  },
  {
   "cell_type": "markdown",
   "id": "0bf1b4b3",
   "metadata": {},
   "source": [
    "# Cosine similarities"
   ]
  },
  {
   "cell_type": "code",
   "execution_count": 54,
   "id": "a5c125d0",
   "metadata": {},
   "outputs": [],
   "source": [
    "def create_top_k_similar_vectors(tensors, list_pos_to_recipe_id, top_k=1, verbose=False):\n",
    "\n",
    "    if (top_k+1) > len(tensors):\n",
    "        top_k = len(tensors)\n",
    "    else:\n",
    "        top_k += 1\n",
    "    \n",
    "    top_scores = defaultdict()\n",
    "    for list_pos, key in list_pos_to_recipe_id.items():\n",
    "        if(list_pos % 1000 == 0 and verbose):\n",
    "            print(\"Iteration: \", list_pos)\n",
    "        cos_scores = util.pytorch_cos_sim(tensors[list_pos], \n",
    "                                          tensors)\n",
    "        top_scores[key] = torch.topk(cos_scores, k=top_k)\n",
    "        \n",
    "    top = defaultdict(list)\n",
    "    for list_pos, key in list_pos_to_recipe_id.items():\n",
    "        top[key] = [(list_pos_to_recipe_id[k[0].item()],k[1].item()) for k \n",
    "                       in list(tuple(zip(top_scores[key][1][0], top_scores[key][0][0])))\n",
    "                       if list_pos_to_recipe_id[k[0].item()] != key]\n",
    "        \n",
    "    return top"
   ]
  },
  {
   "cell_type": "code",
   "execution_count": 55,
   "id": "93b194a0",
   "metadata": {},
   "outputs": [],
   "source": [
    "top25_ing_cat = create_top_k_similar_vectors(tensors=word2vec_ing_cat_tensors, list_pos_to_recipe_id=list_pos_to_recipe_id, top_k=1)"
   ]
  },
  {
   "cell_type": "markdown",
   "id": "164c4c1e",
   "metadata": {},
   "source": [
    "## Save"
   ]
  },
  {
   "cell_type": "code",
   "execution_count": null,
   "id": "bba51197",
   "metadata": {},
   "outputs": [],
   "source": [
    "with open(TOP_ING_CAT, 'wb') as pickle_file:\n",
    "     pickle.dump(top25_ing_cat, pickle_file)"
   ]
  }
 ],
 "metadata": {
  "kernelspec": {
   "display_name": "Python 3 (ipykernel)",
   "language": "python",
   "name": "python3"
  },
  "language_info": {
   "codemirror_mode": {
    "name": "ipython",
    "version": 3
   },
   "file_extension": ".py",
   "mimetype": "text/x-python",
   "name": "python",
   "nbconvert_exporter": "python",
   "pygments_lexer": "ipython3",
   "version": "3.9.7"
  }
 },
 "nbformat": 4,
 "nbformat_minor": 5
}
